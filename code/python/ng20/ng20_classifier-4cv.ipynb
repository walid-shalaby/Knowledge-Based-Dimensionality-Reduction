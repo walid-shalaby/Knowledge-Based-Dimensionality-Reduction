{
 "metadata": {
  "name": "",
  "signature": "sha256:ab411e5bf1fcbeac3241752adda3a52bcb943ab5ed4a9d2758cd0d3f86ade63d"
 },
 "nbformat": 3,
 "nbformat_minor": 0,
 "worksheets": [
  {
   "cells": [
    {
     "cell_type": "heading",
     "level": 1,
     "metadata": {},
     "source": [
      "Classify 20ng docs"
     ]
    },
    {
     "cell_type": "heading",
     "level": 6,
     "metadata": {},
     "source": [
      "Classifiy 20ng docs using unigrams and bigrams features with different classifiers and report classification results"
     ]
    },
    {
     "cell_type": "code",
     "collapsed": false,
     "input": [
      "def vectorize_corpus(corpus,tokenizer,vocabulary,max_ngram_size):\n",
      "    # tokenize text\n",
      "    import numpy as np\n",
      "    from sklearn.feature_extraction.text import CountVectorizer\n",
      "    from sklearn.feature_extraction.text import TfidfTransformer\n",
      "    from ng20_globals import *\n",
      "    \n",
      "    # generate corpus vectors\n",
      "    vectorizer = CountVectorizer(min_df=min_df,tokenizer=tokenizer,ngram_range=(1,max_ngram_size),vocabulary=vocabulary,stop_words={})\n",
      "    corpus_vectors = vectorizer.fit_transform(corpus)\n",
      "    \n",
      "    print 'vectorizing done, {0} terms vocabulary tokenized'.format(len(vectorizer.vocabulary_))\n",
      "    \n",
      "    # generate tfidf vectors\n",
      "    transformer = TfidfTransformer()\n",
      "    corpus_tfidf_vectors = transformer.fit_transform(corpus_vectors)\n",
      "\n",
      "    return vectorizer, corpus_tfidf_vectors"
     ],
     "language": "python",
     "metadata": {},
     "outputs": [
      {
       "output_type": "stream",
       "stream": "stderr",
       "text": [
        "<input>:1: SyntaxWarning: import * only allowed at module level\n",
        "<input>:1: SyntaxWarning: import * only allowed at module level\n",
        "<input>:1: SyntaxWarning: import * only allowed at module level\n",
        "<input>:1: SyntaxWarning: import * only allowed at module level\n",
        "<input>:1: SyntaxWarning: import * only allowed at module level\n",
        "<input>:1: SyntaxWarning: import * only allowed at module level\n",
        "<input>:1: SyntaxWarning: import * only allowed at module level\n",
        "<input>:1: SyntaxWarning: import * only allowed at module level\n",
        "<input>:1: SyntaxWarning: import * only allowed at module level\n",
        "<input>:1: SyntaxWarning: import * only allowed at module level\n",
        "<input>:1: SyntaxWarning: import * only allowed at module level\n",
        "<input>:1: SyntaxWarning: import * only allowed at module level\n",
        "<input>:1: SyntaxWarning: import * only allowed at module level\n",
        "<input>:1: SyntaxWarning: import * only allowed at module level\n",
        "<input>:1: SyntaxWarning: import * only allowed at module level\n",
        "<input>:1: SyntaxWarning: import * only allowed at module level\n",
        "<input>:1: SyntaxWarning: import * only allowed at module level\n",
        "<input>:1: SyntaxWarning: import * only allowed at module level\n",
        "<input>:1: SyntaxWarning: import * only allowed at module level\n",
        "<input>:1: SyntaxWarning: import * only allowed at module level\n",
        "<input>:1: SyntaxWarning: import * only allowed at module level\n",
        "<input>:1: SyntaxWarning: import * only allowed at module level\n",
        "<input>:1: SyntaxWarning: import * only allowed at module level\n",
        "<input>:1: SyntaxWarning: import * only allowed at module level\n",
        "<input>:1: SyntaxWarning: import * only allowed at module level\n",
        "<input>:1: SyntaxWarning: import * only allowed at module level\n",
        "<input>:1: SyntaxWarning: import * only allowed at module level\n",
        "<input>:1: SyntaxWarning: import * only allowed at module level\n",
        "<input>:1: SyntaxWarning: import * only allowed at module level\n",
        "<input>:1: SyntaxWarning: import * only allowed at module level\n",
        "<input>:1: SyntaxWarning: import * only allowed at module level\n",
        "<input>:1: SyntaxWarning: import * only allowed at module level\n",
        "<input>:1: SyntaxWarning: import * only allowed at module level\n",
        "<input>:1: SyntaxWarning: import * only allowed at module level\n",
        "<input>:1: SyntaxWarning: import * only allowed at module level\n",
        "<input>:1: SyntaxWarning: import * only allowed at module level\n",
        "<input>:1: SyntaxWarning: import * only allowed at module level\n",
        "<input>:1: SyntaxWarning: import * only allowed at module level\n",
        "<input>:1: SyntaxWarning: import * only allowed at module level\n",
        "<ipython-input-1-f6d4316a36bd>:1: SyntaxWarning: import * only allowed at module level\n",
        "  def vectorize_corpus(corpus,tokenizer,vocabulary,max_ngram_size):\n"
       ]
      }
     ],
     "prompt_number": 1
    },
    {
     "cell_type": "code",
     "collapsed": false,
     "input": [
      "def vectorize_corpus_new(corpus,tokenizer,vocabulary,max_ngram_size):\n",
      "    # tokenize text\n",
      "    from sklearn.feature_extraction.text import TfidfVectorizer\n",
      "    from ng20_globals import *\n",
      "    \n",
      "    # generate corpus vectors\n",
      "    vectorizer = TfidfVectorizer(min_df=min_df,tokenizer=tokenizer,ngram_range=(1,max_ngram_size),vocabulary=vocabulary,stop_words={})\n",
      "    corpus_tfidf_vectors = vectorizer.fit_transform(corpus)\n",
      "    \n",
      "    print 'vectorizing done, {0} terms vocabulary tokenized'.format(len(vectorizer.vocabulary_))\n",
      "    \n",
      "    return corpus_tfidf_vectors"
     ],
     "language": "python",
     "metadata": {},
     "outputs": [
      {
       "output_type": "stream",
       "stream": "stderr",
       "text": [
        "<input>:1: SyntaxWarning: import * only allowed at module level\n",
        "<input>:1: SyntaxWarning: import * only allowed at module level\n",
        "<input>:1: SyntaxWarning: import * only allowed at module level\n",
        "<input>:1: SyntaxWarning: import * only allowed at module level\n",
        "<input>:1: SyntaxWarning: import * only allowed at module level\n",
        "<input>:1: SyntaxWarning: import * only allowed at module level\n",
        "<input>:1: SyntaxWarning: import * only allowed at module level\n",
        "<input>:1: SyntaxWarning: import * only allowed at module level\n",
        "<input>:1: SyntaxWarning: import * only allowed at module level\n",
        "<input>:1: SyntaxWarning: import * only allowed at module level\n",
        "<input>:1: SyntaxWarning: import * only allowed at module level\n",
        "<input>:1: SyntaxWarning: import * only allowed at module level\n",
        "<input>:1: SyntaxWarning: import * only allowed at module level\n",
        "<input>:1: SyntaxWarning: import * only allowed at module level\n",
        "<input>:1: SyntaxWarning: import * only allowed at module level\n",
        "<input>:1: SyntaxWarning: import * only allowed at module level\n",
        "<input>:1: SyntaxWarning: import * only allowed at module level\n",
        "<input>:1: SyntaxWarning: import * only allowed at module level\n",
        "<input>:1: SyntaxWarning: import * only allowed at module level\n",
        "<input>:1: SyntaxWarning: import * only allowed at module level\n",
        "<input>:1: SyntaxWarning: import * only allowed at module level\n",
        "<input>:1: SyntaxWarning: import * only allowed at module level\n",
        "<input>:1: SyntaxWarning: import * only allowed at module level\n",
        "<input>:1: SyntaxWarning: import * only allowed at module level\n",
        "<input>:1: SyntaxWarning: import * only allowed at module level\n",
        "<input>:1: SyntaxWarning: import * only allowed at module level\n",
        "<input>:1: SyntaxWarning: import * only allowed at module level\n",
        "<ipython-input-2-f88374f887f0>:1: SyntaxWarning: import * only allowed at module level\n",
        "  def vectorize_corpus_new(corpus,tokenizer,vocabulary,max_ngram_size):\n"
       ]
      }
     ],
     "prompt_number": 2
    },
    {
     "cell_type": "code",
     "collapsed": false,
     "input": [
      "# given classifier predictions probabilities, return predictions with top n probabilities > 0.5 for each instance or greatest one if all are <=0.5\n",
      "def get_max_n_pred(pred_proba, n_pred, threshold):\n",
      "    import heapq\n",
      "    import numpy\n",
      "    max_n_pred = numpy.ndarray(shape=pred_proba.shape)\n",
      "    for i in range(len(pred_proba)):\n",
      "        largest_n_proba = heapq.nlargest(n_pred,pred_proba[i])\n",
      "        max_n_pred[i] = numpy.array(((pred_proba[i]>threshold) & (pred_proba[i]>=largest_n_proba[len(largest_n_proba)-1]) & 1))\n",
      "        if max_n_pred[i].sum(axis=0)==0: # at least one label should be returned\n",
      "            max_n_pred[i] = numpy.array(((pred_proba[i]>=max(pred_proba[i])) & 1))\n",
      "    return max_n_pred"
     ],
     "language": "python",
     "metadata": {},
     "outputs": [],
     "prompt_number": 3
    },
    {
     "cell_type": "code",
     "collapsed": false,
     "input": [
      "def print_top_feature_names(classifier, feature_names, label_names, max_features=20):\n",
      "    import numpy as np\n",
      "    from sklearn.utils.extmath import density\n",
      "    if hasattr(classifier,'coef_'):\n",
      "        print 'dimensionality: {0}'.format(classifier.coef_.shape[1])\n",
      "        print 'density: {0}'.format(density(classifier.coef_))\n",
      "        for i, category in enumerate(label_names):\n",
      "            top = np.argsort(classifier.coef_[i])[max_features*-1:]\n",
      "            print category,\",\".join(feature_names[top])"
     ],
     "language": "python",
     "metadata": {},
     "outputs": [],
     "prompt_number": 4
    },
    {
     "cell_type": "code",
     "collapsed": false,
     "input": [
      "# reference: http://scikit-learn.org/stable/modules/model_evaluation.html#multiclass-and-multilabel-classification\n",
      "def classify(x_train,y_train,x_test,y_test,max_labels):\n",
      "    from sklearn.preprocessing import MultiLabelBinarizer\n",
      "    from sklearn.multiclass import OneVsRestClassifier\n",
      "    from sklearn.svm import SVC\n",
      "    from sklearn.svm import LinearSVC\n",
      "    from sklearn.linear_model import LogisticRegression\n",
      "    from sklearn.naive_bayes import MultinomialNB\n",
      "    from sklearn.naive_bayes import BernoulliNB\n",
      "    from sklearn.preprocessing import binarize\n",
      "    from sklearn.cross_validation import train_test_split\n",
      "    from sklearn import metrics\n",
      "    import numpy as np\n",
      "    from numpy import mean\n",
      "    import scipy\n",
      "    from sklearn.cross_validation import cross_val_score\n",
      "    from sklearn.metrics import make_scorer\n",
      "    from sklearn.metrics import precision_score\n",
      "    from sklearn.metrics import recall_score\n",
      "    from sklearn.metrics import f1_score\n",
      "    \n",
      "    # combine train and test vectors\n",
      "    #print 'merging training and testing samples x({0}),x({1})'.format(x_train.shape,x_test.shape)\n",
      "    #print 'merging training and testing samples y({0}),y({1})'.format(len(y_train),len(y_test))\n",
      "    if x_test.shape[0]>0:\n",
      "        x = scipy.sparse.vstack((x_train,x_test))\n",
      "        y = y_train + y_test\n",
      "    else:\n",
      "        x = x_train\n",
      "        y = y_train\n",
      "    #print 'merged into x({0})'.format(x.shape)\n",
      "    #print 'merged into y({0})'.format(len(y))\n",
      "    # binarize the labels\n",
      "    #mlb = MultiLabelBinarizer()\n",
      "    #y_train_binarized = mlb.fit_transform(y_train)\n",
      "    \n",
      "    # train/test split\n",
      "    #corpus_tfidf_vectors, labels_binarized = shuffle(corpus_tfidf_vectors, labels_binarized)\n",
      "    #x_train, x_test, y_train, y_test = train_test_split(corpus_tfidf_vectors, labels_binarized, test_size=test_size, random_state=1)\n",
      "    \n",
      "    # classify\n",
      "    #cls = OneVsRestClassifier(LogisticRegression(class_weight='auto'))\n",
      "    #cls = OneVsRestClassifier(LogisticRegression())\n",
      "    #cls = MultinomialNB(alpha=0.01)\n",
      "    #cls = OneVsRestClassifier(BernoulliNB()need binarize(x_train and x_test))\n",
      "    #cls = OneVsRestClassifier(SVC(kernel='linear',probability=True,max_iter=1000))\n",
      "    #cls = LinearSVC(dual=False,penalty='l1')\n",
      "    cls = LinearSVC()\n",
      "    acc_scores = cross_val_score(cls,x,y,scoring='accuracy',cv=4,n_jobs=-1)\n",
      "    print 'accuracy scores = {0},{1}'.format(acc_scores,mean(acc_scores))\n",
      "    macro_p_scores = cross_val_score(cls,x,y,scoring=make_scorer(precision_score,average='macro'),cv=4,n_jobs=-1)\n",
      "    print 'macro precision scores = {0},{1}'.format(macro_p_scores,mean(macro_p_scores))\n",
      "    macro_r_scores = cross_val_score(cls,x,y,scoring=make_scorer(recall_score,average='macro'),cv=4,n_jobs=-1)\n",
      "    print 'macro recall scores = {0},{1}'.format(macro_r_scores,mean(macro_r_scores))\n",
      "    macro_f1_scores = cross_val_score(cls,x,y,scoring=make_scorer(f1_score,average='macro'),cv=4,n_jobs=-1)\n",
      "    print 'macro f1 scores = {0},{1}'.format(macro_f1_scores,mean(macro_f1_scores))\n",
      "    p_scores = cross_val_score(cls,x,y,scoring=make_scorer(precision_score,average='weighted'),cv=4,n_jobs=-1)\n",
      "    print 'weighted average precision scores = {0},{1}'.format(p_scores,mean(p_scores))\n",
      "    r_scores = cross_val_score(cls,x,y,scoring=make_scorer(precision_score,average='weighted'),cv=4,n_jobs=-1)\n",
      "    print 'weighted average recall scores = {0},{1}'.format(r_scores,mean(r_scores))\n",
      "    f1_scores = cross_val_score(cls,x,y,scoring=make_scorer(f1_score,average='weighted'),cv=4,n_jobs=-1)\n",
      "    print 'weighted f1 scores = {0},{1}'.format(f1_scores,mean(f1_scores))\n",
      "   \n",
      "    cls.fit(x,y)\n",
      "    \n",
      "    return {'classifier':cls,\n",
      "            'precision':mean(macro_p_scores),\n",
      "            'recall':mean(macro_r_scores),\n",
      "            'f1':mean(macro_f1_scores)}"
     ],
     "language": "python",
     "metadata": {},
     "outputs": [],
     "prompt_number": 5
    },
    {
     "cell_type": "code",
     "collapsed": false,
     "input": [
      "import sklearn\n",
      "from sklearn.svm import LinearSVC\n",
      "c = LinearSVC()\n",
      "print sklearn.__version__"
     ],
     "language": "python",
     "metadata": {},
     "outputs": [
      {
       "output_type": "stream",
       "stream": "stdout",
       "text": [
        "0.15.2\n"
       ]
      }
     ],
     "prompt_number": 6
    },
    {
     "cell_type": "code",
     "collapsed": false,
     "input": [
      "def test_all_unigrams(corpus_train_data,corpus_test_data,label_names,with_stopwords_removal,use_chi_features,use_raw_tokens):\n",
      "    import numpy as np\n",
      "    from lemmatizing_tokenizer import RawTokenizer\n",
      "    from ng20_globals import *\n",
      "    from ng20_vocabulary_loader import load_vocabulary\n",
      "    \n",
      "    max_ngram_size = 1\n",
      "    \n",
      "    if with_stopwords_removal==False:\n",
      "        stopwords_pattern = ''\n",
      "    else:\n",
      "        stopwords_pattern = '_stopwords'\n",
      "    if use_chi_features==False:\n",
      "        chi_features_pattern = ''\n",
      "    else:\n",
      "        chi_features_pattern = '_chi'\n",
      "    if use_raw_tokens==False:\n",
      "        raw_tokens_pattern = ''\n",
      "        tokenizer = None\n",
      "    else:\n",
      "        raw_tokens_pattern = '_raw'\n",
      "        tokenizer = RawTokenizer()\n",
      "    \n",
      "    # load vocabulary\n",
      "    vocabulary_tbl_name = 'ng20{0}{1}_unigrams{2}'.format(raw_tokens_pattern,chi_features_pattern,stopwords_pattern)\n",
      "    print vocabulary_tbl_name\n",
      "    vocabulary = load_vocabulary(vocabulary_tbl_name)\n",
      "\n",
      "    # generate tfidf vectors\n",
      "    vectorizer, corpus_train_tfidf_vectors = vectorize_corpus(corpus_train_data['corpus'],tokenizer,vocabulary,max_ngram_size)\n",
      "    _, corpus_test_tfidf_vectors = vectorize_corpus(corpus_test_data['corpus'],tokenizer,vocabulary,max_ngram_size)\n",
      "    \n",
      "    # classify & evaluate    \n",
      "    results = classify(corpus_train_tfidf_vectors,corpus_train_data['labels'],\n",
      "                       corpus_test_tfidf_vectors,corpus_test_data['labels'],\n",
      "                       max_labels)\n",
      "    \n",
      "    print_top_feature_names(results['classifier'], np.asarray(vectorizer.get_feature_names()), label_names)\n",
      "    \n",
      "    print vocabulary_tbl_name,' --> ','precision ',results['precision'],'recall ',results['recall'],'f1 ',results['f1']"
     ],
     "language": "python",
     "metadata": {},
     "outputs": [
      {
       "output_type": "stream",
       "stream": "stderr",
       "text": [
        "<input>:1: SyntaxWarning: import * only allowed at module level\n",
        "<input>:1: SyntaxWarning: import * only allowed at module level\n",
        "<input>:1: SyntaxWarning: import * only allowed at module level\n",
        "<input>:1: SyntaxWarning: import * only allowed at module level\n",
        "<input>:1: SyntaxWarning: import * only allowed at module level\n",
        "<input>:1: SyntaxWarning: import * only allowed at module level\n",
        "<input>:1: SyntaxWarning: import * only allowed at module level\n",
        "<input>:1: SyntaxWarning: import * only allowed at module level\n",
        "<input>:1: SyntaxWarning: import * only allowed at module level\n",
        "<input>:1: SyntaxWarning: import * only allowed at module level\n",
        "<input>:1: SyntaxWarning: import * only allowed at module level\n",
        "<input>:1: SyntaxWarning: import * only allowed at module level\n",
        "<input>:1: SyntaxWarning: import * only allowed at module level\n",
        "<input>:1: SyntaxWarning: import * only allowed at module level\n",
        "<input>:1: SyntaxWarning: import * only allowed at module level\n",
        "<input>:1: SyntaxWarning: import * only allowed at module level\n",
        "<input>:1: SyntaxWarning: import * only allowed at module level\n",
        "<input>:1: SyntaxWarning: import * only allowed at module level\n",
        "<input>:1: SyntaxWarning: import * only allowed at module level\n",
        "<input>:1: SyntaxWarning: import * only allowed at module level\n",
        "<input>:1: SyntaxWarning: import * only allowed at module level\n",
        "<input>:1: SyntaxWarning: import * only allowed at module level\n",
        "<input>:1: SyntaxWarning: import * only allowed at module level\n",
        "<input>:1: SyntaxWarning: import * only allowed at module level\n",
        "<input>:1: SyntaxWarning: import * only allowed at module level\n",
        "<input>:1: SyntaxWarning: import * only allowed at module level\n",
        "<input>:1: SyntaxWarning: import * only allowed at module level\n",
        "<input>:1: SyntaxWarning: import * only allowed at module level\n",
        "<input>:1: SyntaxWarning: import * only allowed at module level\n",
        "<input>:1: SyntaxWarning: import * only allowed at module level\n",
        "<input>:1: SyntaxWarning: import * only allowed at module level\n",
        "<input>:1: SyntaxWarning: import * only allowed at module level\n",
        "<input>:1: SyntaxWarning: import * only allowed at module level\n",
        "<input>:1: SyntaxWarning: import * only allowed at module level\n",
        "<input>:1: SyntaxWarning: import * only allowed at module level\n",
        "<input>:1: SyntaxWarning: import * only allowed at module level\n",
        "<input>:1: SyntaxWarning: import * only allowed at module level\n",
        "<input>:1: SyntaxWarning: import * only allowed at module level\n",
        "<input>:1: SyntaxWarning: import * only allowed at module level\n",
        "<input>:1: SyntaxWarning: import * only allowed at module level\n",
        "<input>:1: SyntaxWarning: import * only allowed at module level\n",
        "<input>:1: SyntaxWarning: import * only allowed at module level\n",
        "<input>:1: SyntaxWarning: import * only allowed at module level\n",
        "<input>:1: SyntaxWarning: import * only allowed at module level\n",
        "<input>:1: SyntaxWarning: import * only allowed at module level\n",
        "<input>:1: SyntaxWarning: import * only allowed at module level\n",
        "<input>:1: SyntaxWarning: import * only allowed at module level\n",
        "<input>:1: SyntaxWarning: import * only allowed at module level\n",
        "<input>:1: SyntaxWarning: import * only allowed at module level\n",
        "<input>:1: SyntaxWarning: import * only allowed at module level\n",
        "<input>:1: SyntaxWarning: import * only allowed at module level\n",
        "<input>:1: SyntaxWarning: import * only allowed at module level\n",
        "<input>:1: SyntaxWarning: import * only allowed at module level\n",
        "<input>:1: SyntaxWarning: import * only allowed at module level\n",
        "<input>:1: SyntaxWarning: import * only allowed at module level\n",
        "<input>:1: SyntaxWarning: import * only allowed at module level\n",
        "<input>:1: SyntaxWarning: import * only allowed at module level\n",
        "<input>:1: SyntaxWarning: import * only allowed at module level\n",
        "<input>:1: SyntaxWarning: import * only allowed at module level\n",
        "<input>:1: SyntaxWarning: import * only allowed at module level\n",
        "<input>:1: SyntaxWarning: import * only allowed at module level\n",
        "<input>:1: SyntaxWarning: import * only allowed at module level\n",
        "<input>:1: SyntaxWarning: import * only allowed at module level\n",
        "<input>:1: SyntaxWarning: import * only allowed at module level\n",
        "<input>:1: SyntaxWarning: import * only allowed at module level\n",
        "<input>:1: SyntaxWarning: import * only allowed at module level\n",
        "<input>:1: SyntaxWarning: import * only allowed at module level\n",
        "<input>:1: SyntaxWarning: import * only allowed at module level\n",
        "<input>:1: SyntaxWarning: import * only allowed at module level\n",
        "<input>:1: SyntaxWarning: import * only allowed at module level\n",
        "<input>:1: SyntaxWarning: import * only allowed at module level\n",
        "<input>:1: SyntaxWarning: import * only allowed at module level\n",
        "<input>:1: SyntaxWarning: import * only allowed at module level\n",
        "<input>:1: SyntaxWarning: import * only allowed at module level\n",
        "<input>:1: SyntaxWarning: import * only allowed at module level\n",
        "<input>:1: SyntaxWarning: import * only allowed at module level\n",
        "<input>:1: SyntaxWarning: import * only allowed at module level\n",
        "<input>:1: SyntaxWarning: import * only allowed at module level\n",
        "<input>:1: SyntaxWarning: import * only allowed at module level\n",
        "<input>:1: SyntaxWarning: import * only allowed at module level\n",
        "<input>:1: SyntaxWarning: import * only allowed at module level\n",
        "<input>:1: SyntaxWarning: import * only allowed at module level\n",
        "<input>:1: SyntaxWarning: import * only allowed at module level\n",
        "<input>:1: SyntaxWarning: import * only allowed at module level\n",
        "<input>:1: SyntaxWarning: import * only allowed at module level\n",
        "<input>:1: SyntaxWarning: import * only allowed at module level\n",
        "<input>:1: SyntaxWarning: import * only allowed at module level\n",
        "<ipython-input-7-3cb1d48076a7>:1: SyntaxWarning: import * only allowed at module level\n",
        "  def test_all_unigrams(corpus_train_data,corpus_test_data,label_names,with_stopwords_removal,use_chi_features,use_raw_tokens):\n"
       ]
      }
     ],
     "prompt_number": 7
    },
    {
     "cell_type": "code",
     "collapsed": false,
     "input": [
      "def test_lemmatized_unigrams(corpus_train_data,corpus_test_data,label_names,with_stopwords_removal,use_chi_features,use_raw_tokens):\n",
      "    import numpy as np\n",
      "    from lemmatizing_tokenizer import LemmaTokenizer\n",
      "    from lemmatizing_tokenizer import RawLemmaTokenizer\n",
      "    from ng20_globals import *\n",
      "    from ng20_vocabulary_loader import load_vocabulary\n",
      "    \n",
      "    max_ngram_size = 1\n",
      "    \n",
      "    if with_stopwords_removal==False:\n",
      "        stopwords_pattern = ''\n",
      "    else:\n",
      "        stopwords_pattern = '_stopwords'\n",
      "    if use_chi_features==False:\n",
      "        chi_features_pattern = ''\n",
      "    else:\n",
      "        chi_features_pattern = '_chi'\n",
      "    if use_raw_tokens==False:\n",
      "        raw_tokens_pattern = ''\n",
      "        tokenizer = LemmaTokenizer()\n",
      "    else:\n",
      "        raw_tokens_pattern = '_raw'\n",
      "        tokenizer = RawLemmaTokenizer()\n",
      "    \n",
      "    # load vocabulary\n",
      "    vocabulary_tbl_name = 'ng20{0}_lemmas{1}_unigrams{2}_df{3}_tf{4}'.format(raw_tokens_pattern,chi_features_pattern,stopwords_pattern,min_df,min_tf)\n",
      "    vocabulary = load_vocabulary(vocabulary_tbl_name)\n",
      "\n",
      "    # generate tfidf vectors\n",
      "    vectorizer, corpus_train_tfidf_vectors = vectorize_corpus(corpus_train_data['corpus'],tokenizer,vocabulary,max_ngram_size)\n",
      "    _, corpus_test_tfidf_vectors = vectorize_corpus(corpus_test_data['corpus'],tokenizer,vocabulary,max_ngram_size)\n",
      "    \n",
      "    # classify & evaluate    \n",
      "    results = classify(corpus_train_tfidf_vectors,corpus_train_data['labels'],\n",
      "                       corpus_test_tfidf_vectors,corpus_test_data['labels'],\n",
      "                       max_labels)\n",
      "    \n",
      "    print_top_feature_names(results['classifier'], np.asarray(vectorizer.get_feature_names()), label_names)\n",
      "    \n",
      "    print vocabulary_tbl_name,' --> ','precision ',results['precision'],'recall ',results['recall'],'f1 ',results['f1']"
     ],
     "language": "python",
     "metadata": {},
     "outputs": [
      {
       "output_type": "stream",
       "stream": "stderr",
       "text": [
        "<input>:1: SyntaxWarning: import * only allowed at module level\n",
        "<input>:1: SyntaxWarning: import * only allowed at module level\n",
        "<input>:1: SyntaxWarning: import * only allowed at module level\n",
        "<input>:1: SyntaxWarning: import * only allowed at module level\n",
        "<input>:1: SyntaxWarning: import * only allowed at module level\n",
        "<input>:1: SyntaxWarning: import * only allowed at module level\n",
        "<input>:1: SyntaxWarning: import * only allowed at module level\n",
        "<input>:1: SyntaxWarning: import * only allowed at module level\n",
        "<input>:1: SyntaxWarning: import * only allowed at module level\n",
        "<input>:1: SyntaxWarning: import * only allowed at module level\n",
        "<input>:1: SyntaxWarning: import * only allowed at module level\n",
        "<input>:1: SyntaxWarning: import * only allowed at module level\n",
        "<input>:1: SyntaxWarning: import * only allowed at module level\n",
        "<input>:1: SyntaxWarning: import * only allowed at module level\n",
        "<input>:1: SyntaxWarning: import * only allowed at module level\n",
        "<input>:1: SyntaxWarning: import * only allowed at module level\n",
        "<input>:1: SyntaxWarning: import * only allowed at module level\n",
        "<input>:1: SyntaxWarning: import * only allowed at module level\n",
        "<input>:1: SyntaxWarning: import * only allowed at module level\n",
        "<input>:1: SyntaxWarning: import * only allowed at module level\n",
        "<input>:1: SyntaxWarning: import * only allowed at module level\n",
        "<input>:1: SyntaxWarning: import * only allowed at module level\n",
        "<input>:1: SyntaxWarning: import * only allowed at module level\n",
        "<input>:1: SyntaxWarning: import * only allowed at module level\n",
        "<input>:1: SyntaxWarning: import * only allowed at module level\n",
        "<input>:1: SyntaxWarning: import * only allowed at module level\n",
        "<input>:1: SyntaxWarning: import * only allowed at module level\n",
        "<input>:1: SyntaxWarning: import * only allowed at module level\n",
        "<input>:1: SyntaxWarning: import * only allowed at module level\n",
        "<input>:1: SyntaxWarning: import * only allowed at module level\n",
        "<input>:1: SyntaxWarning: import * only allowed at module level\n",
        "<input>:1: SyntaxWarning: import * only allowed at module level\n",
        "<input>:1: SyntaxWarning: import * only allowed at module level\n",
        "<input>:1: SyntaxWarning: import * only allowed at module level\n",
        "<input>:1: SyntaxWarning: import * only allowed at module level\n",
        "<input>:1: SyntaxWarning: import * only allowed at module level\n",
        "<input>:1: SyntaxWarning: import * only allowed at module level\n",
        "<input>:1: SyntaxWarning: import * only allowed at module level\n",
        "<input>:1: SyntaxWarning: import * only allowed at module level\n",
        "<input>:1: SyntaxWarning: import * only allowed at module level\n",
        "<input>:1: SyntaxWarning: import * only allowed at module level\n",
        "<input>:1: SyntaxWarning: import * only allowed at module level\n",
        "<input>:1: SyntaxWarning: import * only allowed at module level\n",
        "<input>:1: SyntaxWarning: import * only allowed at module level\n",
        "<input>:1: SyntaxWarning: import * only allowed at module level\n",
        "<input>:1: SyntaxWarning: import * only allowed at module level\n",
        "<input>:1: SyntaxWarning: import * only allowed at module level\n",
        "<input>:1: SyntaxWarning: import * only allowed at module level\n",
        "<input>:1: SyntaxWarning: import * only allowed at module level\n",
        "<input>:1: SyntaxWarning: import * only allowed at module level\n",
        "<input>:1: SyntaxWarning: import * only allowed at module level\n",
        "<input>:1: SyntaxWarning: import * only allowed at module level\n",
        "<input>:1: SyntaxWarning: import * only allowed at module level\n",
        "<input>:1: SyntaxWarning: import * only allowed at module level\n",
        "<input>:1: SyntaxWarning: import * only allowed at module level\n",
        "<input>:1: SyntaxWarning: import * only allowed at module level\n",
        "<input>:1: SyntaxWarning: import * only allowed at module level\n",
        "<input>:1: SyntaxWarning: import * only allowed at module level\n",
        "<input>:1: SyntaxWarning: import * only allowed at module level\n",
        "<input>:1: SyntaxWarning: import * only allowed at module level\n",
        "<input>:1: SyntaxWarning: import * only allowed at module level\n",
        "<input>:1: SyntaxWarning: import * only allowed at module level\n",
        "<input>:1: SyntaxWarning: import * only allowed at module level\n",
        "<input>:1: SyntaxWarning: import * only allowed at module level\n",
        "<input>:1: SyntaxWarning: import * only allowed at module level\n",
        "<input>:1: SyntaxWarning: import * only allowed at module level\n",
        "<input>:1: SyntaxWarning: import * only allowed at module level\n",
        "<input>:1: SyntaxWarning: import * only allowed at module level\n",
        "<input>:1: SyntaxWarning: import * only allowed at module level\n",
        "<input>:1: SyntaxWarning: import * only allowed at module level\n",
        "<input>:1: SyntaxWarning: import * only allowed at module level\n",
        "<input>:1: SyntaxWarning: import * only allowed at module level\n",
        "<input>:1: SyntaxWarning: import * only allowed at module level\n",
        "<input>:1: SyntaxWarning: import * only allowed at module level\n",
        "<input>:1: SyntaxWarning: import * only allowed at module level\n",
        "<input>:1: SyntaxWarning: import * only allowed at module level\n",
        "<input>:1: SyntaxWarning: import * only allowed at module level\n",
        "<input>:1: SyntaxWarning: import * only allowed at module level\n",
        "<input>:1: SyntaxWarning: import * only allowed at module level\n",
        "<input>:1: SyntaxWarning: import * only allowed at module level\n",
        "<input>:1: SyntaxWarning: import * only allowed at module level\n",
        "<input>:1: SyntaxWarning: import * only allowed at module level\n",
        "<input>:1: SyntaxWarning: import * only allowed at module level\n",
        "<input>:1: SyntaxWarning: import * only allowed at module level\n",
        "<ipython-input-8-ca66c3443484>:1: SyntaxWarning: import * only allowed at module level\n",
        "  def test_lemmatized_unigrams(corpus_train_data,corpus_test_data,label_names,with_stopwords_removal,use_chi_features,use_raw_tokens):\n"
       ]
      }
     ],
     "prompt_number": 8
    },
    {
     "cell_type": "code",
     "collapsed": false,
     "input": [
      "def test_all_bigrams(corpus_train_data,corpus_test_data,label_names,with_stopwords_removal,use_chi_features,use_raw_tokens):\n",
      "    import numpy as np\n",
      "    from lemmatizing_tokenizer import LemmaTokenizer\n",
      "    from lemmatizing_tokenizer import RawTokenizer\n",
      "    from ng20_globals import *\n",
      "    from ng20_vocabulary_loader import load_vocabulary\n",
      "    \n",
      "    max_ngram_size = 2\n",
      "    \n",
      "    if with_stopwords_removal==False:\n",
      "        stopwords_pattern = ''\n",
      "    else:\n",
      "        stopwords_pattern = '_stopwords'\n",
      "    if use_chi_features==False:\n",
      "        chi_features_pattern = ''\n",
      "    else:\n",
      "        chi_features_pattern = '_chi'\n",
      "    if use_raw_tokens==False:\n",
      "        raw_tokens_pattern = ''\n",
      "        tokenizer = None\n",
      "    else:\n",
      "        raw_tokens_pattern = '_raw'\n",
      "        tokenizer = RawTokenizer()\n",
      "    \n",
      "    # load vocabulary\n",
      "    vocabulary_tbl_name = 'ng20{0}{1}_bigrams{2}'.format(raw_tokens_pattern,chi_features_pattern,stopwords_pattern)\n",
      "    vocabulary = load_vocabulary(vocabulary_tbl_name)\n",
      "\n",
      "    # generate tfidf vectors\n",
      "    vectorizer, corpus_train_tfidf_vectors = vectorize_corpus(corpus_train_data['corpus'],tokenizer,vocabulary,max_ngram_size)\n",
      "    _, corpus_test_tfidf_vectors = vectorize_corpus(corpus_test_data['corpus'],tokenizer,vocabulary,max_ngram_size)\n",
      "    \n",
      "    # classify & evaluate    \n",
      "    results = classify(corpus_train_tfidf_vectors,corpus_train_data['labels'],\n",
      "                       corpus_test_tfidf_vectors,corpus_test_data['labels'],\n",
      "                       max_labels)\n",
      "\n",
      "    print_top_feature_names(results['classifier'], np.asarray(vectorizer.get_feature_names()), label_names)\n",
      "    \n",
      "    print vocabulary_tbl_name,' --> ','precision ',results['precision'],'recall ',results['recall'],'f1 ',results['f1']"
     ],
     "language": "python",
     "metadata": {},
     "outputs": [
      {
       "output_type": "stream",
       "stream": "stderr",
       "text": [
        "<input>:1: SyntaxWarning: import * only allowed at module level\n",
        "<input>:1: SyntaxWarning: import * only allowed at module level\n",
        "<input>:1: SyntaxWarning: import * only allowed at module level\n",
        "<input>:1: SyntaxWarning: import * only allowed at module level\n",
        "<input>:1: SyntaxWarning: import * only allowed at module level\n",
        "<input>:1: SyntaxWarning: import * only allowed at module level\n",
        "<input>:1: SyntaxWarning: import * only allowed at module level\n",
        "<input>:1: SyntaxWarning: import * only allowed at module level\n",
        "<input>:1: SyntaxWarning: import * only allowed at module level\n",
        "<input>:1: SyntaxWarning: import * only allowed at module level\n",
        "<input>:1: SyntaxWarning: import * only allowed at module level\n",
        "<input>:1: SyntaxWarning: import * only allowed at module level\n",
        "<input>:1: SyntaxWarning: import * only allowed at module level\n",
        "<input>:1: SyntaxWarning: import * only allowed at module level\n",
        "<input>:1: SyntaxWarning: import * only allowed at module level\n",
        "<input>:1: SyntaxWarning: import * only allowed at module level\n",
        "<input>:1: SyntaxWarning: import * only allowed at module level\n",
        "<input>:1: SyntaxWarning: import * only allowed at module level\n",
        "<input>:1: SyntaxWarning: import * only allowed at module level\n",
        "<input>:1: SyntaxWarning: import * only allowed at module level\n",
        "<input>:1: SyntaxWarning: import * only allowed at module level\n",
        "<input>:1: SyntaxWarning: import * only allowed at module level\n",
        "<input>:1: SyntaxWarning: import * only allowed at module level\n",
        "<input>:1: SyntaxWarning: import * only allowed at module level\n",
        "<input>:1: SyntaxWarning: import * only allowed at module level\n",
        "<input>:1: SyntaxWarning: import * only allowed at module level\n",
        "<input>:1: SyntaxWarning: import * only allowed at module level\n",
        "<input>:1: SyntaxWarning: import * only allowed at module level\n",
        "<input>:1: SyntaxWarning: import * only allowed at module level\n",
        "<input>:1: SyntaxWarning: import * only allowed at module level\n",
        "<input>:1: SyntaxWarning: import * only allowed at module level\n",
        "<input>:1: SyntaxWarning: import * only allowed at module level\n",
        "<input>:1: SyntaxWarning: import * only allowed at module level\n",
        "<input>:1: SyntaxWarning: import * only allowed at module level\n",
        "<input>:1: SyntaxWarning: import * only allowed at module level\n",
        "<input>:1: SyntaxWarning: import * only allowed at module level\n",
        "<input>:1: SyntaxWarning: import * only allowed at module level\n",
        "<input>:1: SyntaxWarning: import * only allowed at module level\n",
        "<input>:1: SyntaxWarning: import * only allowed at module level\n",
        "<input>:1: SyntaxWarning: import * only allowed at module level\n",
        "<input>:1: SyntaxWarning: import * only allowed at module level\n",
        "<input>:1: SyntaxWarning: import * only allowed at module level\n",
        "<input>:1: SyntaxWarning: import * only allowed at module level\n",
        "<input>:1: SyntaxWarning: import * only allowed at module level\n",
        "<input>:1: SyntaxWarning: import * only allowed at module level\n",
        "<input>:1: SyntaxWarning: import * only allowed at module level\n",
        "<input>:1: SyntaxWarning: import * only allowed at module level\n",
        "<input>:1: SyntaxWarning: import * only allowed at module level\n",
        "<input>:1: SyntaxWarning: import * only allowed at module level\n",
        "<input>:1: SyntaxWarning: import * only allowed at module level\n",
        "<input>:1: SyntaxWarning: import * only allowed at module level\n",
        "<input>:1: SyntaxWarning: import * only allowed at module level\n",
        "<input>:1: SyntaxWarning: import * only allowed at module level\n",
        "<input>:1: SyntaxWarning: import * only allowed at module level\n",
        "<input>:1: SyntaxWarning: import * only allowed at module level\n",
        "<input>:1: SyntaxWarning: import * only allowed at module level\n",
        "<input>:1: SyntaxWarning: import * only allowed at module level\n",
        "<input>:1: SyntaxWarning: import * only allowed at module level\n",
        "<input>:1: SyntaxWarning: import * only allowed at module level\n",
        "<input>:1: SyntaxWarning: import * only allowed at module level\n",
        "<input>:1: SyntaxWarning: import * only allowed at module level\n",
        "<input>:1: SyntaxWarning: import * only allowed at module level\n",
        "<input>:1: SyntaxWarning: import * only allowed at module level\n",
        "<input>:1: SyntaxWarning: import * only allowed at module level\n",
        "<input>:1: SyntaxWarning: import * only allowed at module level\n",
        "<input>:1: SyntaxWarning: import * only allowed at module level\n",
        "<input>:1: SyntaxWarning: import * only allowed at module level\n",
        "<input>:1: SyntaxWarning: import * only allowed at module level\n",
        "<input>:1: SyntaxWarning: import * only allowed at module level\n",
        "<input>:1: SyntaxWarning: import * only allowed at module level\n",
        "<input>:1: SyntaxWarning: import * only allowed at module level\n",
        "<input>:1: SyntaxWarning: import * only allowed at module level\n",
        "<input>:1: SyntaxWarning: import * only allowed at module level\n",
        "<input>:1: SyntaxWarning: import * only allowed at module level\n",
        "<input>:1: SyntaxWarning: import * only allowed at module level\n",
        "<input>:1: SyntaxWarning: import * only allowed at module level\n",
        "<input>:1: SyntaxWarning: import * only allowed at module level\n",
        "<input>:1: SyntaxWarning: import * only allowed at module level\n",
        "<input>:1: SyntaxWarning: import * only allowed at module level\n",
        "<input>:1: SyntaxWarning: import * only allowed at module level\n",
        "<input>:1: SyntaxWarning: import * only allowed at module level\n",
        "<input>:1: SyntaxWarning: import * only allowed at module level\n",
        "<input>:1: SyntaxWarning: import * only allowed at module level\n",
        "<input>:1: SyntaxWarning: import * only allowed at module level\n",
        "<ipython-input-9-33560924c95a>:1: SyntaxWarning: import * only allowed at module level\n",
        "  def test_all_bigrams(corpus_train_data,corpus_test_data,label_names,with_stopwords_removal,use_chi_features,use_raw_tokens):\n"
       ]
      }
     ],
     "prompt_number": 9
    },
    {
     "cell_type": "code",
     "collapsed": false,
     "input": [
      "def test_lemmatized_bigrams(corpus_train_data,corpus_test_data,label_names,with_stopwords_removal,use_chi_features,use_raw_tokens):\n",
      "    import numpy as np\n",
      "    from lemmatizing_tokenizer import LemmaTokenizer\n",
      "    from lemmatizing_tokenizer import RawLemmaTokenizer\n",
      "    from ng20_globals import *\n",
      "    from ng20_vocabulary_loader import load_vocabulary\n",
      "    \n",
      "    max_ngram_size = 2\n",
      "    \n",
      "    if with_stopwords_removal==False:\n",
      "        stopwords_pattern = ''\n",
      "    else:\n",
      "        stopwords_pattern = '_stopwords'\n",
      "    if use_chi_features==False:\n",
      "        chi_features_pattern = ''\n",
      "    else:\n",
      "        chi_features_pattern = '_chi'\n",
      "    if use_raw_tokens==False:\n",
      "        raw_tokens_pattern = ''\n",
      "        tokenizer = LemmaTokenizer()\n",
      "    else:\n",
      "        raw_tokens_pattern = '_raw'\n",
      "        tokenizer = RawLemmaTokenizer()\n",
      "    \n",
      "    # load vocabulary\n",
      "    vocabulary_tbl_name = 'ng20{0}_lemmas{1}_bigrams{2}_df{3}_tf{4}'.format(raw_tokens_pattern,chi_features_pattern,stopwords_pattern,min_df,min_tf)\n",
      "    vocabulary = load_vocabulary(vocabulary_tbl_name)\n",
      "\n",
      "    # generate tfidf vectors\n",
      "    vectorizer, corpus_train_tfidf_vectors = vectorize_corpus(corpus_train_data['corpus'],tokenizer,vocabulary,max_ngram_size)\n",
      "    _, corpus_test_tfidf_vectors = vectorize_corpus(corpus_test_data['corpus'],tokenizer,vocabulary,max_ngram_size)\n",
      "    \n",
      "    # classify & evaluate    \n",
      "    results = classify(corpus_train_tfidf_vectors,corpus_train_data['labels'],\n",
      "                       corpus_test_tfidf_vectors,corpus_test_data['labels'],\n",
      "                       max_labels)\n",
      "\n",
      "    print_top_feature_names(results['classifier'], np.asarray(vectorizer.get_feature_names()), label_names)\n",
      "    \n",
      "    print vocabulary_tbl_name,' --> ','precision ',results['precision'],'recall ',results['recall'],'f1 ',results['f1']"
     ],
     "language": "python",
     "metadata": {},
     "outputs": [
      {
       "output_type": "stream",
       "stream": "stderr",
       "text": [
        "<input>:1: SyntaxWarning: import * only allowed at module level\n",
        "<input>:1: SyntaxWarning: import * only allowed at module level\n",
        "<input>:1: SyntaxWarning: import * only allowed at module level\n",
        "<input>:1: SyntaxWarning: import * only allowed at module level\n",
        "<input>:1: SyntaxWarning: import * only allowed at module level\n",
        "<input>:1: SyntaxWarning: import * only allowed at module level\n",
        "<input>:1: SyntaxWarning: import * only allowed at module level\n",
        "<input>:1: SyntaxWarning: import * only allowed at module level\n",
        "<input>:1: SyntaxWarning: import * only allowed at module level\n",
        "<input>:1: SyntaxWarning: import * only allowed at module level\n",
        "<input>:1: SyntaxWarning: import * only allowed at module level\n",
        "<input>:1: SyntaxWarning: import * only allowed at module level\n",
        "<input>:1: SyntaxWarning: import * only allowed at module level\n",
        "<input>:1: SyntaxWarning: import * only allowed at module level\n",
        "<input>:1: SyntaxWarning: import * only allowed at module level\n",
        "<input>:1: SyntaxWarning: import * only allowed at module level\n",
        "<input>:1: SyntaxWarning: import * only allowed at module level\n",
        "<input>:1: SyntaxWarning: import * only allowed at module level\n",
        "<input>:1: SyntaxWarning: import * only allowed at module level\n",
        "<input>:1: SyntaxWarning: import * only allowed at module level\n",
        "<input>:1: SyntaxWarning: import * only allowed at module level\n",
        "<input>:1: SyntaxWarning: import * only allowed at module level\n",
        "<input>:1: SyntaxWarning: import * only allowed at module level\n",
        "<input>:1: SyntaxWarning: import * only allowed at module level\n",
        "<input>:1: SyntaxWarning: import * only allowed at module level\n",
        "<input>:1: SyntaxWarning: import * only allowed at module level\n",
        "<input>:1: SyntaxWarning: import * only allowed at module level\n",
        "<input>:1: SyntaxWarning: import * only allowed at module level\n",
        "<input>:1: SyntaxWarning: import * only allowed at module level\n",
        "<input>:1: SyntaxWarning: import * only allowed at module level\n",
        "<input>:1: SyntaxWarning: import * only allowed at module level\n",
        "<input>:1: SyntaxWarning: import * only allowed at module level\n",
        "<input>:1: SyntaxWarning: import * only allowed at module level\n",
        "<input>:1: SyntaxWarning: import * only allowed at module level\n",
        "<input>:1: SyntaxWarning: import * only allowed at module level\n",
        "<input>:1: SyntaxWarning: import * only allowed at module level\n",
        "<input>:1: SyntaxWarning: import * only allowed at module level\n",
        "<input>:1: SyntaxWarning: import * only allowed at module level\n",
        "<input>:1: SyntaxWarning: import * only allowed at module level\n",
        "<input>:1: SyntaxWarning: import * only allowed at module level\n",
        "<input>:1: SyntaxWarning: import * only allowed at module level\n",
        "<input>:1: SyntaxWarning: import * only allowed at module level\n",
        "<input>:1: SyntaxWarning: import * only allowed at module level\n",
        "<input>:1: SyntaxWarning: import * only allowed at module level\n",
        "<input>:1: SyntaxWarning: import * only allowed at module level\n",
        "<input>:1: SyntaxWarning: import * only allowed at module level\n",
        "<input>:1: SyntaxWarning: import * only allowed at module level\n",
        "<input>:1: SyntaxWarning: import * only allowed at module level\n",
        "<input>:1: SyntaxWarning: import * only allowed at module level\n",
        "<input>:1: SyntaxWarning: import * only allowed at module level\n",
        "<input>:1: SyntaxWarning: import * only allowed at module level\n",
        "<input>:1: SyntaxWarning: import * only allowed at module level\n",
        "<input>:1: SyntaxWarning: import * only allowed at module level\n",
        "<input>:1: SyntaxWarning: import * only allowed at module level\n",
        "<input>:1: SyntaxWarning: import * only allowed at module level\n",
        "<input>:1: SyntaxWarning: import * only allowed at module level\n",
        "<input>:1: SyntaxWarning: import * only allowed at module level\n",
        "<input>:1: SyntaxWarning: import * only allowed at module level\n",
        "<input>:1: SyntaxWarning: import * only allowed at module level\n",
        "<input>:1: SyntaxWarning: import * only allowed at module level\n",
        "<input>:1: SyntaxWarning: import * only allowed at module level\n",
        "<input>:1: SyntaxWarning: import * only allowed at module level\n",
        "<input>:1: SyntaxWarning: import * only allowed at module level\n",
        "<input>:1: SyntaxWarning: import * only allowed at module level\n",
        "<input>:1: SyntaxWarning: import * only allowed at module level\n",
        "<input>:1: SyntaxWarning: import * only allowed at module level\n",
        "<input>:1: SyntaxWarning: import * only allowed at module level\n",
        "<input>:1: SyntaxWarning: import * only allowed at module level\n",
        "<input>:1: SyntaxWarning: import * only allowed at module level\n",
        "<input>:1: SyntaxWarning: import * only allowed at module level\n",
        "<input>:1: SyntaxWarning: import * only allowed at module level\n",
        "<input>:1: SyntaxWarning: import * only allowed at module level\n",
        "<input>:1: SyntaxWarning: import * only allowed at module level\n",
        "<input>:1: SyntaxWarning: import * only allowed at module level\n",
        "<input>:1: SyntaxWarning: import * only allowed at module level\n",
        "<input>:1: SyntaxWarning: import * only allowed at module level\n",
        "<input>:1: SyntaxWarning: import * only allowed at module level\n",
        "<input>:1: SyntaxWarning: import * only allowed at module level\n",
        "<input>:1: SyntaxWarning: import * only allowed at module level\n",
        "<input>:1: SyntaxWarning: import * only allowed at module level\n",
        "<input>:1: SyntaxWarning: import * only allowed at module level\n",
        "<input>:1: SyntaxWarning: import * only allowed at module level\n",
        "<input>:1: SyntaxWarning: import * only allowed at module level\n",
        "<input>:1: SyntaxWarning: import * only allowed at module level\n",
        "<ipython-input-10-00c480486dcf>:1: SyntaxWarning: import * only allowed at module level\n",
        "  def test_lemmatized_bigrams(corpus_train_data,corpus_test_data,label_names,with_stopwords_removal,use_chi_features,use_raw_tokens):\n"
       ]
      }
     ],
     "prompt_number": 10
    },
    {
     "cell_type": "code",
     "collapsed": false,
     "input": [
      "def test_lemmatized_bigrams_with_LSA(corpus_train_data,corpus_test_data,label_names,with_stopwords_removal,use_chi_features,use_raw_tokens,num_components):\n",
      "    import numpy as np\n",
      "    from lemmatizing_tokenizer import LemmaTokenizer\n",
      "    from lemmatizing_tokenizer import RawLemmaTokenizer\n",
      "    from ng20_globals import *\n",
      "    from ng20_vocabulary_loader import load_vocabulary\n",
      "    from sklearn.decomposition import TruncatedSVD\n",
      "    from scipy import sparse\n",
      "    import numpy\n",
      "    \n",
      "    max_ngram_size = 2\n",
      "    \n",
      "    if with_stopwords_removal==False:\n",
      "        stopwords_pattern = ''\n",
      "    else:\n",
      "        stopwords_pattern = '_stopwords'\n",
      "    if use_chi_features==False:\n",
      "        chi_features_pattern = ''\n",
      "    else:\n",
      "        chi_features_pattern = '_chi'\n",
      "    if use_raw_tokens==False:\n",
      "        raw_tokens_pattern = ''\n",
      "        tokenizer = LemmaTokenizer()\n",
      "    else:\n",
      "        raw_tokens_pattern = '_raw'\n",
      "        tokenizer = RawLemmaTokenizer()\n",
      "    \n",
      "    # load vocabulary\n",
      "    vocabulary_tbl_name = 'ng20{0}_lemmas{1}_bigrams{2}_df{3}_tf{4}'.format(raw_tokens_pattern,chi_features_pattern,stopwords_pattern,min_df,min_tf)\n",
      "    vocabulary = load_vocabulary(vocabulary_tbl_name)\n",
      "\n",
      "    # generate tfidf vectors\n",
      "    vectorizer, corpus_train_tfidf_vectors = vectorize_corpus(corpus_train_data['corpus'],tokenizer,vocabulary,max_ngram_size)\n",
      "    _, corpus_test_tfidf_vectors = vectorize_corpus(corpus_test_data['corpus'],tokenizer,vocabulary,max_ngram_size)\n",
      "    \n",
      "    # apply LSA\n",
      "    #print numpy.max(corpus_train_tfidf_vectors)\n",
      "    #print numpy.min(corpus_train_tfidf_vectors)\n",
      "    lsa = TruncatedSVD(n_components=num_components)\n",
      "    lsa.fit(corpus_train_tfidf_vectors)\n",
      "    #corpus_train_tfidf_vectors = numpy.dot(corpus_train_tfidf_vectors,pca.components_.transpose())\n",
      "    corpus_train_tfidf_vectors = lsa.transform(corpus_train_tfidf_vectors)\n",
      "    corpus_test_tfidf_vectors = lsa.transform(corpus_test_tfidf_vectors)\n",
      "    \n",
      "    # classify & evaluate    \n",
      "    results = classify(corpus_train_tfidf_vectors,corpus_train_data['labels'],\n",
      "                       corpus_test_tfidf_vectors,corpus_test_data['labels'],\n",
      "                       max_labels)\n",
      "\n",
      "    print_top_feature_names(results['classifier'], np.asarray(vectorizer.get_feature_names()), label_names)\n",
      "    \n",
      "    print 'LSA ^' , vocabulary_tbl_name,' --> ','precision ',results['precision'],'recall ',results['recall'],'f1 ',results['f1']"
     ],
     "language": "python",
     "metadata": {},
     "outputs": [
      {
       "output_type": "stream",
       "stream": "stderr",
       "text": [
        "<input>:1: SyntaxWarning: import * only allowed at module level\n",
        "<input>:1: SyntaxWarning: import * only allowed at module level\n",
        "<input>:1: SyntaxWarning: import * only allowed at module level\n",
        "<input>:1: SyntaxWarning: import * only allowed at module level\n",
        "<input>:1: SyntaxWarning: import * only allowed at module level\n",
        "<input>:1: SyntaxWarning: import * only allowed at module level\n",
        "<input>:1: SyntaxWarning: import * only allowed at module level\n",
        "<input>:1: SyntaxWarning: import * only allowed at module level\n",
        "<input>:1: SyntaxWarning: import * only allowed at module level\n",
        "<input>:1: SyntaxWarning: import * only allowed at module level\n",
        "<input>:1: SyntaxWarning: import * only allowed at module level\n",
        "<input>:1: SyntaxWarning: import * only allowed at module level\n",
        "<input>:1: SyntaxWarning: import * only allowed at module level\n",
        "<input>:1: SyntaxWarning: import * only allowed at module level\n",
        "<input>:1: SyntaxWarning: import * only allowed at module level\n",
        "<input>:1: SyntaxWarning: import * only allowed at module level\n",
        "<input>:1: SyntaxWarning: import * only allowed at module level\n",
        "<input>:1: SyntaxWarning: import * only allowed at module level\n",
        "<input>:1: SyntaxWarning: import * only allowed at module level\n",
        "<input>:1: SyntaxWarning: import * only allowed at module level\n",
        "<input>:1: SyntaxWarning: import * only allowed at module level\n",
        "<input>:1: SyntaxWarning: import * only allowed at module level\n",
        "<input>:1: SyntaxWarning: import * only allowed at module level\n",
        "<input>:1: SyntaxWarning: import * only allowed at module level\n",
        "<input>:1: SyntaxWarning: import * only allowed at module level\n",
        "<input>:1: SyntaxWarning: import * only allowed at module level\n",
        "<input>:1: SyntaxWarning: import * only allowed at module level\n",
        "<input>:1: SyntaxWarning: import * only allowed at module level\n",
        "<input>:1: SyntaxWarning: import * only allowed at module level\n",
        "<input>:1: SyntaxWarning: import * only allowed at module level\n",
        "<input>:1: SyntaxWarning: import * only allowed at module level\n",
        "<input>:1: SyntaxWarning: import * only allowed at module level\n",
        "<input>:1: SyntaxWarning: import * only allowed at module level\n",
        "<input>:1: SyntaxWarning: import * only allowed at module level\n",
        "<input>:1: SyntaxWarning: import * only allowed at module level\n",
        "<input>:1: SyntaxWarning: import * only allowed at module level\n",
        "<input>:1: SyntaxWarning: import * only allowed at module level\n",
        "<input>:1: SyntaxWarning: import * only allowed at module level\n",
        "<input>:1: SyntaxWarning: import * only allowed at module level\n",
        "<input>:1: SyntaxWarning: import * only allowed at module level\n",
        "<input>:1: SyntaxWarning: import * only allowed at module level\n",
        "<input>:1: SyntaxWarning: import * only allowed at module level\n",
        "<input>:1: SyntaxWarning: import * only allowed at module level\n",
        "<input>:1: SyntaxWarning: import * only allowed at module level\n",
        "<input>:1: SyntaxWarning: import * only allowed at module level\n",
        "<input>:1: SyntaxWarning: import * only allowed at module level\n",
        "<input>:1: SyntaxWarning: import * only allowed at module level\n",
        "<input>:1: SyntaxWarning: import * only allowed at module level\n",
        "<input>:1: SyntaxWarning: import * only allowed at module level\n",
        "<input>:1: SyntaxWarning: import * only allowed at module level\n",
        "<input>:1: SyntaxWarning: import * only allowed at module level\n",
        "<input>:1: SyntaxWarning: import * only allowed at module level\n",
        "<input>:1: SyntaxWarning: import * only allowed at module level\n",
        "<input>:1: SyntaxWarning: import * only allowed at module level\n",
        "<input>:1: SyntaxWarning: import * only allowed at module level\n",
        "<input>:1: SyntaxWarning: import * only allowed at module level\n",
        "<input>:1: SyntaxWarning: import * only allowed at module level\n",
        "<input>:1: SyntaxWarning: import * only allowed at module level\n",
        "<input>:1: SyntaxWarning: import * only allowed at module level\n",
        "<input>:1: SyntaxWarning: import * only allowed at module level\n",
        "<input>:1: SyntaxWarning: import * only allowed at module level\n",
        "<input>:1: SyntaxWarning: import * only allowed at module level\n",
        "<input>:1: SyntaxWarning: import * only allowed at module level\n",
        "<input>:1: SyntaxWarning: import * only allowed at module level\n",
        "<input>:1: SyntaxWarning: import * only allowed at module level\n",
        "<input>:1: SyntaxWarning: import * only allowed at module level\n",
        "<input>:1: SyntaxWarning: import * only allowed at module level\n",
        "<input>:1: SyntaxWarning: import * only allowed at module level\n",
        "<input>:1: SyntaxWarning: import * only allowed at module level\n",
        "<input>:1: SyntaxWarning: import * only allowed at module level\n",
        "<input>:1: SyntaxWarning: import * only allowed at module level\n",
        "<input>:1: SyntaxWarning: import * only allowed at module level\n",
        "<input>:1: SyntaxWarning: import * only allowed at module level\n",
        "<input>:1: SyntaxWarning: import * only allowed at module level\n",
        "<input>:1: SyntaxWarning: import * only allowed at module level\n",
        "<input>:1: SyntaxWarning: import * only allowed at module level\n",
        "<input>:1: SyntaxWarning: import * only allowed at module level\n",
        "<input>:1: SyntaxWarning: import * only allowed at module level\n",
        "<input>:1: SyntaxWarning: import * only allowed at module level\n",
        "<input>:1: SyntaxWarning: import * only allowed at module level\n",
        "<input>:1: SyntaxWarning: import * only allowed at module level\n",
        "<input>:1: SyntaxWarning: import * only allowed at module level\n",
        "<input>:1: SyntaxWarning: import * only allowed at module level\n",
        "<input>:1: SyntaxWarning: import * only allowed at module level\n",
        "<input>:1: SyntaxWarning: import * only allowed at module level\n",
        "<input>:1: SyntaxWarning: import * only allowed at module level\n",
        "<input>:1: SyntaxWarning: import * only allowed at module level\n",
        "<input>:1: SyntaxWarning: import * only allowed at module level\n",
        "<input>:1: SyntaxWarning: import * only allowed at module level\n",
        "<input>:1: SyntaxWarning: import * only allowed at module level\n",
        "<input>:1: SyntaxWarning: import * only allowed at module level\n",
        "<input>:1: SyntaxWarning: import * only allowed at module level\n",
        "<input>:1: SyntaxWarning: import * only allowed at module level\n",
        "<input>:1: SyntaxWarning: import * only allowed at module level\n",
        "<input>:1: SyntaxWarning: import * only allowed at module level\n",
        "<input>:1: SyntaxWarning: import * only allowed at module level\n",
        "<input>:1: SyntaxWarning: import * only allowed at module level\n",
        "<input>:1: SyntaxWarning: import * only allowed at module level\n",
        "<input>:1: SyntaxWarning: import * only allowed at module level\n",
        "<input>:1: SyntaxWarning: import * only allowed at module level\n",
        "<input>:1: SyntaxWarning: import * only allowed at module level\n",
        "<input>:1: SyntaxWarning: import * only allowed at module level\n",
        "<input>:1: SyntaxWarning: import * only allowed at module level\n",
        "<input>:1: SyntaxWarning: import * only allowed at module level\n",
        "<input>:1: SyntaxWarning: import * only allowed at module level\n",
        "<input>:1: SyntaxWarning: import * only allowed at module level\n",
        "<input>:1: SyntaxWarning: import * only allowed at module level\n",
        "<input>:1: SyntaxWarning: import * only allowed at module level\n",
        "<input>:1: SyntaxWarning: import * only allowed at module level\n",
        "<input>:1: SyntaxWarning: import * only allowed at module level\n",
        "<input>:1: SyntaxWarning: import * only allowed at module level\n",
        "<input>:1: SyntaxWarning: import * only allowed at module level\n",
        "<input>:1: SyntaxWarning: import * only allowed at module level\n",
        "<input>:1: SyntaxWarning: import * only allowed at module level\n",
        "<input>:1: SyntaxWarning: import * only allowed at module level\n",
        "<input>:1: SyntaxWarning: import * only allowed at module level\n",
        "<input>:1: SyntaxWarning: import * only allowed at module level\n",
        "<input>:1: SyntaxWarning: import * only allowed at module level\n",
        "<input>:1: SyntaxWarning: import * only allowed at module level\n",
        "<input>:1: SyntaxWarning: import * only allowed at module level\n",
        "<ipython-input-11-4736c2bb0567>:1: SyntaxWarning: import * only allowed at module level\n",
        "  def test_lemmatized_bigrams_with_LSA(corpus_train_data,corpus_test_data,label_names,with_stopwords_removal,use_chi_features,use_raw_tokens,num_components):\n"
       ]
      }
     ],
     "prompt_number": 11
    },
    {
     "cell_type": "code",
     "collapsed": false,
     "input": [
      "def test_stemmed_unigrams(corpus_train_data,corpus_test_data,label_names,with_stopwords_removal,use_chi_features,use_raw_tokens):\n",
      "    import numpy as np\n",
      "    from stemming_tokenizer import StemmingTokenizer\n",
      "    from stemming_tokenizer import RawStemmingTokenizer    \n",
      "    from ng20_globals import *\n",
      "    from ng20_vocabulary_loader import load_vocabulary\n",
      "    \n",
      "    max_ngram_size = 1\n",
      "    \n",
      "    if with_stopwords_removal==False:\n",
      "        stopwords_pattern = ''\n",
      "    else:\n",
      "        stopwords_pattern = '_stopwords'\n",
      "    if use_chi_features==False:\n",
      "        chi_features_pattern = ''\n",
      "    else:\n",
      "        chi_features_pattern = '_chi'\n",
      "    if use_raw_tokens==False:\n",
      "        raw_tokens_pattern = ''\n",
      "        tokenizer = StemmingTokenizer()    \n",
      "    else:\n",
      "        raw_tokens_pattern = '_raw'\n",
      "        tokenizer = RawStemmingTokenizer()    \n",
      "    \n",
      "    # load vocabulary\n",
      "    vocabulary_tbl_name = 'ng20{0}_stems{1}_unigrams{2}_df{3}_tf{4}'.format(raw_tokens_pattern,chi_features_pattern,stopwords_pattern,min_df,min_tf)    \n",
      "    vocabulary = load_vocabulary(vocabulary_tbl_name)\n",
      "\n",
      "    # generate tfidf vectors\n",
      "    vectorizer, corpus_train_tfidf_vectors = vectorize_corpus(corpus_train_data['corpus'],tokenizer,vocabulary,max_ngram_size)\n",
      "    _, corpus_test_tfidf_vectors = vectorize_corpus(corpus_test_data['corpus'],tokenizer,vocabulary,max_ngram_size)\n",
      "    \n",
      "    # classify & evaluate    \n",
      "    results = classify(corpus_train_tfidf_vectors,corpus_train_data['labels'],\n",
      "                       corpus_test_tfidf_vectors,corpus_test_data['labels'],\n",
      "                       max_labels)\n",
      "\n",
      "    print_top_feature_names(results['classifier'], np.asarray(vectorizer.get_feature_names()), label_names)\n",
      "    \n",
      "    print vocabulary_tbl_name,' --> ','precision ',results['precision'],'recall ',results['recall'],'f1 ',results['f1']"
     ],
     "language": "python",
     "metadata": {},
     "outputs": [
      {
       "output_type": "stream",
       "stream": "stderr",
       "text": [
        "<input>:1: SyntaxWarning: import * only allowed at module level\n",
        "<input>:1: SyntaxWarning: import * only allowed at module level\n",
        "<input>:1: SyntaxWarning: import * only allowed at module level\n",
        "<input>:1: SyntaxWarning: import * only allowed at module level\n",
        "<input>:1: SyntaxWarning: import * only allowed at module level\n",
        "<input>:1: SyntaxWarning: import * only allowed at module level\n",
        "<input>:1: SyntaxWarning: import * only allowed at module level\n",
        "<input>:1: SyntaxWarning: import * only allowed at module level\n",
        "<input>:1: SyntaxWarning: import * only allowed at module level\n",
        "<input>:1: SyntaxWarning: import * only allowed at module level\n",
        "<input>:1: SyntaxWarning: import * only allowed at module level\n",
        "<input>:1: SyntaxWarning: import * only allowed at module level\n",
        "<input>:1: SyntaxWarning: import * only allowed at module level\n",
        "<input>:1: SyntaxWarning: import * only allowed at module level\n",
        "<input>:1: SyntaxWarning: import * only allowed at module level\n",
        "<input>:1: SyntaxWarning: import * only allowed at module level\n",
        "<input>:1: SyntaxWarning: import * only allowed at module level\n",
        "<input>:1: SyntaxWarning: import * only allowed at module level\n",
        "<input>:1: SyntaxWarning: import * only allowed at module level\n",
        "<input>:1: SyntaxWarning: import * only allowed at module level\n",
        "<input>:1: SyntaxWarning: import * only allowed at module level\n",
        "<input>:1: SyntaxWarning: import * only allowed at module level\n",
        "<input>:1: SyntaxWarning: import * only allowed at module level\n",
        "<input>:1: SyntaxWarning: import * only allowed at module level\n",
        "<input>:1: SyntaxWarning: import * only allowed at module level\n",
        "<input>:1: SyntaxWarning: import * only allowed at module level\n",
        "<input>:1: SyntaxWarning: import * only allowed at module level\n",
        "<input>:1: SyntaxWarning: import * only allowed at module level\n",
        "<input>:1: SyntaxWarning: import * only allowed at module level\n",
        "<input>:1: SyntaxWarning: import * only allowed at module level\n",
        "<input>:1: SyntaxWarning: import * only allowed at module level\n",
        "<input>:1: SyntaxWarning: import * only allowed at module level\n",
        "<input>:1: SyntaxWarning: import * only allowed at module level\n",
        "<input>:1: SyntaxWarning: import * only allowed at module level\n",
        "<input>:1: SyntaxWarning: import * only allowed at module level\n",
        "<input>:1: SyntaxWarning: import * only allowed at module level\n",
        "<input>:1: SyntaxWarning: import * only allowed at module level\n",
        "<input>:1: SyntaxWarning: import * only allowed at module level\n",
        "<input>:1: SyntaxWarning: import * only allowed at module level\n",
        "<input>:1: SyntaxWarning: import * only allowed at module level\n",
        "<input>:1: SyntaxWarning: import * only allowed at module level\n",
        "<input>:1: SyntaxWarning: import * only allowed at module level\n",
        "<input>:1: SyntaxWarning: import * only allowed at module level\n",
        "<input>:1: SyntaxWarning: import * only allowed at module level\n",
        "<input>:1: SyntaxWarning: import * only allowed at module level\n",
        "<input>:1: SyntaxWarning: import * only allowed at module level\n",
        "<input>:1: SyntaxWarning: import * only allowed at module level\n",
        "<input>:1: SyntaxWarning: import * only allowed at module level\n",
        "<input>:1: SyntaxWarning: import * only allowed at module level\n",
        "<input>:1: SyntaxWarning: import * only allowed at module level\n",
        "<input>:1: SyntaxWarning: import * only allowed at module level\n",
        "<input>:1: SyntaxWarning: import * only allowed at module level\n",
        "<input>:1: SyntaxWarning: import * only allowed at module level\n",
        "<input>:1: SyntaxWarning: import * only allowed at module level\n",
        "<input>:1: SyntaxWarning: import * only allowed at module level\n",
        "<input>:1: SyntaxWarning: import * only allowed at module level\n",
        "<input>:1: SyntaxWarning: import * only allowed at module level\n",
        "<input>:1: SyntaxWarning: import * only allowed at module level\n",
        "<input>:1: SyntaxWarning: import * only allowed at module level\n",
        "<input>:1: SyntaxWarning: import * only allowed at module level\n",
        "<input>:1: SyntaxWarning: import * only allowed at module level\n",
        "<input>:1: SyntaxWarning: import * only allowed at module level\n",
        "<input>:1: SyntaxWarning: import * only allowed at module level\n",
        "<input>:1: SyntaxWarning: import * only allowed at module level\n",
        "<input>:1: SyntaxWarning: import * only allowed at module level\n",
        "<input>:1: SyntaxWarning: import * only allowed at module level\n",
        "<input>:1: SyntaxWarning: import * only allowed at module level\n",
        "<input>:1: SyntaxWarning: import * only allowed at module level\n",
        "<input>:1: SyntaxWarning: import * only allowed at module level\n",
        "<input>:1: SyntaxWarning: import * only allowed at module level\n",
        "<input>:1: SyntaxWarning: import * only allowed at module level\n",
        "<input>:1: SyntaxWarning: import * only allowed at module level\n",
        "<input>:1: SyntaxWarning: import * only allowed at module level\n",
        "<input>:1: SyntaxWarning: import * only allowed at module level\n",
        "<input>:1: SyntaxWarning: import * only allowed at module level\n",
        "<input>:1: SyntaxWarning: import * only allowed at module level\n",
        "<input>:1: SyntaxWarning: import * only allowed at module level\n",
        "<input>:1: SyntaxWarning: import * only allowed at module level\n",
        "<input>:1: SyntaxWarning: import * only allowed at module level\n",
        "<input>:1: SyntaxWarning: import * only allowed at module level\n",
        "<input>:1: SyntaxWarning: import * only allowed at module level\n",
        "<input>:1: SyntaxWarning: import * only allowed at module level\n",
        "<input>:1: SyntaxWarning: import * only allowed at module level\n",
        "<input>:1: SyntaxWarning: import * only allowed at module level\n",
        "<ipython-input-12-aec8e0c96340>:1: SyntaxWarning: import * only allowed at module level\n",
        "  def test_stemmed_unigrams(corpus_train_data,corpus_test_data,label_names,with_stopwords_removal,use_chi_features,use_raw_tokens):\n"
       ]
      }
     ],
     "prompt_number": 12
    },
    {
     "cell_type": "code",
     "collapsed": false,
     "input": [
      "def test_stemmed_bigrams(corpus_train_data,corpus_test_data,label_names,with_stopwords_removal,use_chi_features,use_raw_tokens):\n",
      "    import numpy as np\n",
      "    from stemming_tokenizer import StemmingTokenizer\n",
      "    from stemming_tokenizer import RawStemmingTokenizer    \n",
      "    from ng20_globals import *\n",
      "    from ng20_vocabulary_loader import load_vocabulary\n",
      "    \n",
      "    max_ngram_size = 2\n",
      "        \n",
      "    if with_stopwords_removal==False:\n",
      "        stopwords_pattern = ''\n",
      "    else:\n",
      "        stopwords_pattern = '_stopwords'\n",
      "    if use_chi_features==False:\n",
      "        chi_features_pattern = ''\n",
      "    else:\n",
      "        chi_features_pattern = '_chi'\n",
      "    if use_raw_tokens==False:\n",
      "        raw_tokens_pattern = ''\n",
      "        tokenizer = StemmingTokenizer()\n",
      "    else:\n",
      "        raw_tokens_pattern = '_raw'\n",
      "        tokenizer = RawStemmingTokenizer()\n",
      "    \n",
      "    # load vocabulary\n",
      "    vocabulary_tbl_name = 'ng20{0}_stems{1}_bigrams{2}_df{3}_tf{4}'.format(raw_tokens_pattern,chi_features_pattern,stopwords_pattern,min_df,min_tf)\n",
      "    vocabulary = load_vocabulary(vocabulary_tbl_name)\n",
      "\n",
      "    # generate tfidf vectors\n",
      "    vectorizer, corpus_train_tfidf_vectors = vectorize_corpus(corpus_train_data['corpus'],tokenizer,vocabulary,max_ngram_size)\n",
      "    _, corpus_test_tfidf_vectors = vectorize_corpus(corpus_test_data['corpus'],tokenizer,vocabulary,max_ngram_size)\n",
      "    \n",
      "    # classify & evaluate    \n",
      "    results = classify(corpus_train_tfidf_vectors,corpus_train_data['labels'],\n",
      "                       corpus_test_tfidf_vectors,corpus_test_data['labels'],\n",
      "                       max_labels)\n",
      "\n",
      "    print_top_feature_names(results['classifier'], np.asarray(vectorizer.get_feature_names()), label_names)\n",
      "        \n",
      "    print vocabulary_tbl_name,' --> ','precision ',results['precision'],'recall ',results['recall'],'f1 ',results['f1']"
     ],
     "language": "python",
     "metadata": {},
     "outputs": [
      {
       "output_type": "stream",
       "stream": "stderr",
       "text": [
        "<input>:1: SyntaxWarning: import * only allowed at module level\n",
        "<input>:1: SyntaxWarning: import * only allowed at module level\n",
        "<input>:1: SyntaxWarning: import * only allowed at module level\n",
        "<input>:1: SyntaxWarning: import * only allowed at module level\n",
        "<input>:1: SyntaxWarning: import * only allowed at module level\n",
        "<input>:1: SyntaxWarning: import * only allowed at module level\n",
        "<input>:1: SyntaxWarning: import * only allowed at module level\n",
        "<input>:1: SyntaxWarning: import * only allowed at module level\n",
        "<input>:1: SyntaxWarning: import * only allowed at module level\n",
        "<input>:1: SyntaxWarning: import * only allowed at module level\n",
        "<input>:1: SyntaxWarning: import * only allowed at module level\n",
        "<input>:1: SyntaxWarning: import * only allowed at module level\n",
        "<input>:1: SyntaxWarning: import * only allowed at module level\n",
        "<input>:1: SyntaxWarning: import * only allowed at module level\n",
        "<input>:1: SyntaxWarning: import * only allowed at module level\n",
        "<input>:1: SyntaxWarning: import * only allowed at module level\n",
        "<input>:1: SyntaxWarning: import * only allowed at module level\n",
        "<input>:1: SyntaxWarning: import * only allowed at module level\n",
        "<input>:1: SyntaxWarning: import * only allowed at module level\n",
        "<input>:1: SyntaxWarning: import * only allowed at module level\n",
        "<input>:1: SyntaxWarning: import * only allowed at module level\n",
        "<input>:1: SyntaxWarning: import * only allowed at module level\n",
        "<input>:1: SyntaxWarning: import * only allowed at module level\n",
        "<input>:1: SyntaxWarning: import * only allowed at module level\n",
        "<input>:1: SyntaxWarning: import * only allowed at module level\n",
        "<input>:1: SyntaxWarning: import * only allowed at module level\n",
        "<input>:1: SyntaxWarning: import * only allowed at module level\n",
        "<input>:1: SyntaxWarning: import * only allowed at module level\n",
        "<input>:1: SyntaxWarning: import * only allowed at module level\n",
        "<input>:1: SyntaxWarning: import * only allowed at module level\n",
        "<input>:1: SyntaxWarning: import * only allowed at module level\n",
        "<input>:1: SyntaxWarning: import * only allowed at module level\n",
        "<input>:1: SyntaxWarning: import * only allowed at module level\n",
        "<input>:1: SyntaxWarning: import * only allowed at module level\n",
        "<input>:1: SyntaxWarning: import * only allowed at module level\n",
        "<input>:1: SyntaxWarning: import * only allowed at module level\n",
        "<input>:1: SyntaxWarning: import * only allowed at module level\n",
        "<input>:1: SyntaxWarning: import * only allowed at module level\n",
        "<input>:1: SyntaxWarning: import * only allowed at module level\n",
        "<input>:1: SyntaxWarning: import * only allowed at module level\n",
        "<input>:1: SyntaxWarning: import * only allowed at module level\n",
        "<input>:1: SyntaxWarning: import * only allowed at module level\n",
        "<input>:1: SyntaxWarning: import * only allowed at module level\n",
        "<input>:1: SyntaxWarning: import * only allowed at module level\n",
        "<input>:1: SyntaxWarning: import * only allowed at module level\n",
        "<input>:1: SyntaxWarning: import * only allowed at module level\n",
        "<input>:1: SyntaxWarning: import * only allowed at module level\n",
        "<input>:1: SyntaxWarning: import * only allowed at module level\n",
        "<input>:1: SyntaxWarning: import * only allowed at module level\n",
        "<input>:1: SyntaxWarning: import * only allowed at module level\n",
        "<input>:1: SyntaxWarning: import * only allowed at module level\n",
        "<input>:1: SyntaxWarning: import * only allowed at module level\n",
        "<input>:1: SyntaxWarning: import * only allowed at module level\n",
        "<input>:1: SyntaxWarning: import * only allowed at module level\n",
        "<input>:1: SyntaxWarning: import * only allowed at module level\n",
        "<input>:1: SyntaxWarning: import * only allowed at module level\n",
        "<input>:1: SyntaxWarning: import * only allowed at module level\n",
        "<input>:1: SyntaxWarning: import * only allowed at module level\n",
        "<input>:1: SyntaxWarning: import * only allowed at module level\n",
        "<input>:1: SyntaxWarning: import * only allowed at module level\n",
        "<input>:1: SyntaxWarning: import * only allowed at module level\n",
        "<input>:1: SyntaxWarning: import * only allowed at module level\n",
        "<input>:1: SyntaxWarning: import * only allowed at module level\n",
        "<input>:1: SyntaxWarning: import * only allowed at module level\n",
        "<input>:1: SyntaxWarning: import * only allowed at module level\n",
        "<input>:1: SyntaxWarning: import * only allowed at module level\n",
        "<input>:1: SyntaxWarning: import * only allowed at module level\n",
        "<input>:1: SyntaxWarning: import * only allowed at module level\n",
        "<input>:1: SyntaxWarning: import * only allowed at module level\n",
        "<input>:1: SyntaxWarning: import * only allowed at module level\n",
        "<input>:1: SyntaxWarning: import * only allowed at module level\n",
        "<input>:1: SyntaxWarning: import * only allowed at module level\n",
        "<input>:1: SyntaxWarning: import * only allowed at module level\n",
        "<input>:1: SyntaxWarning: import * only allowed at module level\n",
        "<input>:1: SyntaxWarning: import * only allowed at module level\n",
        "<input>:1: SyntaxWarning: import * only allowed at module level\n",
        "<input>:1: SyntaxWarning: import * only allowed at module level\n",
        "<input>:1: SyntaxWarning: import * only allowed at module level\n",
        "<input>:1: SyntaxWarning: import * only allowed at module level\n",
        "<input>:1: SyntaxWarning: import * only allowed at module level\n",
        "<input>:1: SyntaxWarning: import * only allowed at module level\n",
        "<input>:1: SyntaxWarning: import * only allowed at module level\n",
        "<input>:1: SyntaxWarning: import * only allowed at module level\n",
        "<input>:1: SyntaxWarning: import * only allowed at module level\n",
        "<ipython-input-13-221781600fe3>:1: SyntaxWarning: import * only allowed at module level\n",
        "  def test_stemmed_bigrams(corpus_train_data,corpus_test_data,label_names,with_stopwords_removal,use_chi_features,use_raw_tokens):\n"
       ]
      }
     ],
     "prompt_number": 13
    },
    {
     "cell_type": "code",
     "collapsed": false,
     "input": [
      "def test_lemmatized_wiki_bigrams(corpus_train_data,corpus_test_data,label_names,with_stopwords_removal,use_chi_features,use_raw_tokens):\n",
      "    import numpy as np\n",
      "    from lemmatizing_tokenizer import LemmaTokenizer\n",
      "    from lemmatizing_tokenizer import RawLemmaTokenizer\n",
      "    from ng20_globals import *\n",
      "    from ng20_vocabulary_loader import load_common_vocabulary\n",
      "    \n",
      "    max_ngram_size = 2\n",
      "        \n",
      "    if with_stopwords_removal==False:\n",
      "        stopwords_pattern = ''\n",
      "    else:\n",
      "        stopwords_pattern = '_stopwords'\n",
      "    if use_chi_features==False:\n",
      "        chi_features_pattern = ''\n",
      "    else:\n",
      "        chi_features_pattern = '_chi'\n",
      "    if use_raw_tokens==False:\n",
      "        raw_tokens_pattern = ''\n",
      "        tokenizer = LemmaTokenizer()\n",
      "    else:\n",
      "        raw_tokens_pattern = '_raw'\n",
      "        tokenizer = RawLemmaTokenizer()\n",
      "    \n",
      "    # load vocabulary\n",
      "    vocabulary_tbl_name1 = 'ng20{0}_lemmas{1}_unigrams{2}_df{3}_tf{4}'.format(raw_tokens_pattern,chi_features_pattern,stopwords_pattern,min_df,min_tf)\n",
      "    vocabulary_tbl_name2 = 'ng20{0}_lemmas{1}_bigrams{2}_df{3}_tf{4}'.format(raw_tokens_pattern,chi_features_pattern,stopwords_pattern,min_df,min_tf)\n",
      "    \n",
      "    vocabulary_tbl_intersect = 'wiki_bigrams'\n",
      "    vocabulary = load_common_vocabulary(vocabulary_tbl_name1,vocabulary_tbl_name2,vocabulary_tbl_intersect,'lemma')\n",
      "    print 'done loading vocabulary'\n",
      "    \n",
      "    # generate tfidf vectors\n",
      "    vectorizer, corpus_train_tfidf_vectors = vectorize_corpus(corpus_train_data['corpus'],tokenizer,vocabulary,max_ngram_size)\n",
      "    _, corpus_test_tfidf_vectors = vectorize_corpus(corpus_test_data['corpus'],tokenizer,vocabulary,max_ngram_size)\n",
      "    \n",
      "    # classify & evaluate    \n",
      "    results = classify(corpus_train_tfidf_vectors,corpus_train_data['labels'],\n",
      "                       corpus_test_tfidf_vectors,corpus_test_data['labels'],\n",
      "                       max_labels)\n",
      "\n",
      "    print_top_feature_names(results['classifier'], np.asarray(vectorizer.get_feature_names()), label_names)\n",
      "    \n",
      "    print vocabulary_tbl_name1,'^',vocabulary_tbl_name2,'^',vocabulary_tbl_intersect,' --> ','precision ',results['precision'],'recall ',results['recall'],'f1 ',results['f1']"
     ],
     "language": "python",
     "metadata": {},
     "outputs": [
      {
       "output_type": "stream",
       "stream": "stderr",
       "text": [
        "<input>:1: SyntaxWarning: import * only allowed at module level\n",
        "<input>:1: SyntaxWarning: import * only allowed at module level\n",
        "<input>:1: SyntaxWarning: import * only allowed at module level\n",
        "<input>:1: SyntaxWarning: import * only allowed at module level\n",
        "<input>:1: SyntaxWarning: import * only allowed at module level\n",
        "<input>:1: SyntaxWarning: import * only allowed at module level\n",
        "<input>:1: SyntaxWarning: import * only allowed at module level\n",
        "<input>:1: SyntaxWarning: import * only allowed at module level\n",
        "<input>:1: SyntaxWarning: import * only allowed at module level\n",
        "<input>:1: SyntaxWarning: import * only allowed at module level\n",
        "<input>:1: SyntaxWarning: import * only allowed at module level\n",
        "<input>:1: SyntaxWarning: import * only allowed at module level\n",
        "<input>:1: SyntaxWarning: import * only allowed at module level\n",
        "<input>:1: SyntaxWarning: import * only allowed at module level\n",
        "<input>:1: SyntaxWarning: import * only allowed at module level\n",
        "<input>:1: SyntaxWarning: import * only allowed at module level\n",
        "<input>:1: SyntaxWarning: import * only allowed at module level\n",
        "<input>:1: SyntaxWarning: import * only allowed at module level\n",
        "<input>:1: SyntaxWarning: import * only allowed at module level\n",
        "<input>:1: SyntaxWarning: import * only allowed at module level\n",
        "<input>:1: SyntaxWarning: import * only allowed at module level\n",
        "<input>:1: SyntaxWarning: import * only allowed at module level\n",
        "<input>:1: SyntaxWarning: import * only allowed at module level\n",
        "<input>:1: SyntaxWarning: import * only allowed at module level\n",
        "<input>:1: SyntaxWarning: import * only allowed at module level\n",
        "<input>:1: SyntaxWarning: import * only allowed at module level\n",
        "<input>:1: SyntaxWarning: import * only allowed at module level\n",
        "<input>:1: SyntaxWarning: import * only allowed at module level\n",
        "<input>:1: SyntaxWarning: import * only allowed at module level\n",
        "<input>:1: SyntaxWarning: import * only allowed at module level\n",
        "<input>:1: SyntaxWarning: import * only allowed at module level\n",
        "<input>:1: SyntaxWarning: import * only allowed at module level\n",
        "<input>:1: SyntaxWarning: import * only allowed at module level\n",
        "<input>:1: SyntaxWarning: import * only allowed at module level\n",
        "<input>:1: SyntaxWarning: import * only allowed at module level\n",
        "<input>:1: SyntaxWarning: import * only allowed at module level\n",
        "<input>:1: SyntaxWarning: import * only allowed at module level\n",
        "<input>:1: SyntaxWarning: import * only allowed at module level\n",
        "<input>:1: SyntaxWarning: import * only allowed at module level\n",
        "<input>:1: SyntaxWarning: import * only allowed at module level\n",
        "<input>:1: SyntaxWarning: import * only allowed at module level\n",
        "<input>:1: SyntaxWarning: import * only allowed at module level\n",
        "<input>:1: SyntaxWarning: import * only allowed at module level\n",
        "<input>:1: SyntaxWarning: import * only allowed at module level\n",
        "<input>:1: SyntaxWarning: import * only allowed at module level\n",
        "<input>:1: SyntaxWarning: import * only allowed at module level\n",
        "<input>:1: SyntaxWarning: import * only allowed at module level\n",
        "<input>:1: SyntaxWarning: import * only allowed at module level\n",
        "<input>:1: SyntaxWarning: import * only allowed at module level\n",
        "<input>:1: SyntaxWarning: import * only allowed at module level\n",
        "<input>:1: SyntaxWarning: import * only allowed at module level\n",
        "<input>:1: SyntaxWarning: import * only allowed at module level\n",
        "<input>:1: SyntaxWarning: import * only allowed at module level\n",
        "<input>:1: SyntaxWarning: import * only allowed at module level\n",
        "<input>:1: SyntaxWarning: import * only allowed at module level\n",
        "<input>:1: SyntaxWarning: import * only allowed at module level\n",
        "<input>:1: SyntaxWarning: import * only allowed at module level\n",
        "<input>:1: SyntaxWarning: import * only allowed at module level\n",
        "<input>:1: SyntaxWarning: import * only allowed at module level\n",
        "<input>:1: SyntaxWarning: import * only allowed at module level\n",
        "<input>:1: SyntaxWarning: import * only allowed at module level\n",
        "<input>:1: SyntaxWarning: import * only allowed at module level\n",
        "<input>:1: SyntaxWarning: import * only allowed at module level\n",
        "<input>:1: SyntaxWarning: import * only allowed at module level\n",
        "<input>:1: SyntaxWarning: import * only allowed at module level\n",
        "<input>:1: SyntaxWarning: import * only allowed at module level\n",
        "<input>:1: SyntaxWarning: import * only allowed at module level\n",
        "<input>:1: SyntaxWarning: import * only allowed at module level\n",
        "<input>:1: SyntaxWarning: import * only allowed at module level\n",
        "<input>:1: SyntaxWarning: import * only allowed at module level\n",
        "<input>:1: SyntaxWarning: import * only allowed at module level\n",
        "<input>:1: SyntaxWarning: import * only allowed at module level\n",
        "<input>:1: SyntaxWarning: import * only allowed at module level\n",
        "<input>:1: SyntaxWarning: import * only allowed at module level\n",
        "<input>:1: SyntaxWarning: import * only allowed at module level\n",
        "<input>:1: SyntaxWarning: import * only allowed at module level\n",
        "<input>:1: SyntaxWarning: import * only allowed at module level\n",
        "<input>:1: SyntaxWarning: import * only allowed at module level\n",
        "<input>:1: SyntaxWarning: import * only allowed at module level\n",
        "<input>:1: SyntaxWarning: import * only allowed at module level\n",
        "<input>:1: SyntaxWarning: import * only allowed at module level\n",
        "<input>:1: SyntaxWarning: import * only allowed at module level\n",
        "<input>:1: SyntaxWarning: import * only allowed at module level\n",
        "<input>:1: SyntaxWarning: import * only allowed at module level\n",
        "<input>:1: SyntaxWarning: import * only allowed at module level\n",
        "<input>:1: SyntaxWarning: import * only allowed at module level\n",
        "<input>:1: SyntaxWarning: import * only allowed at module level\n",
        "<input>:1: SyntaxWarning: import * only allowed at module level\n",
        "<input>:1: SyntaxWarning: import * only allowed at module level\n",
        "<input>:1: SyntaxWarning: import * only allowed at module level\n",
        "<input>:1: SyntaxWarning: import * only allowed at module level\n",
        "<input>:1: SyntaxWarning: import * only allowed at module level\n",
        "<input>:1: SyntaxWarning: import * only allowed at module level\n",
        "<input>:1: SyntaxWarning: import * only allowed at module level\n",
        "<input>:1: SyntaxWarning: import * only allowed at module level\n",
        "<input>:1: SyntaxWarning: import * only allowed at module level\n",
        "<ipython-input-14-428d90c6799c>:1: SyntaxWarning: import * only allowed at module level\n",
        "  def test_lemmatized_wiki_bigrams(corpus_train_data,corpus_test_data,label_names,with_stopwords_removal,use_chi_features,use_raw_tokens):\n"
       ]
      }
     ],
     "prompt_number": 14
    },
    {
     "cell_type": "code",
     "collapsed": false,
     "input": [
      "def test_lemmatized_bigrams_unigrams(bigrams_src,corpus_train_data,corpus_test_data,label_names,with_stopwords_removal,use_chi_features,use_raw_tokens):\n",
      "    import numpy as np\n",
      "    from lemmatizing_tokenizer import LemmaTokenizer\n",
      "    from lemmatizing_tokenizer import RawLemmaTokenizer\n",
      "    from ng20_globals import *\n",
      "    from ng20_vocabulary_loader import load_common_vocabulary_extend_unigrams\n",
      "    \n",
      "    max_ngram_size = 2\n",
      "        \n",
      "    if with_stopwords_removal==False:\n",
      "        stopwords_pattern = ''\n",
      "    else:\n",
      "        stopwords_pattern = '_stopwords'\n",
      "    if use_chi_features==False:\n",
      "        chi_features_pattern = ''\n",
      "    else:\n",
      "        chi_features_pattern = '_chi'\n",
      "    if use_raw_tokens==False:\n",
      "        raw_tokens_pattern = ''\n",
      "        tokenizer = LemmaTokenizer()\n",
      "    else:\n",
      "        raw_tokens_pattern = '_raw'\n",
      "        tokenizer = RawLemmaTokenizer()\n",
      "    \n",
      "    # load vocabulary\n",
      "    vocabulary_tbl_name = 'ng20{0}_lemmas{1}_bigrams{2}_df{3}_tf{4}'.format(raw_tokens_pattern,chi_features_pattern,stopwords_pattern,min_df,min_tf)\n",
      "    \n",
      "    if len(bigrams_src)==1:\n",
      "        vocabulary_tbl_intersect = '{0}_bigrams'.format(bigrams_src[0])\n",
      "    else:\n",
      "        vocabulary_tbl_intersect = '{0}_'.format(bigrams_src[0])\n",
      "        for i in range(len(bigrams_src)-1):\n",
      "            vocabulary_tbl_intersect = '{0}{1}_'.format(vocabulary_tbl_intersect,bigrams_src[i+1])\n",
      "        vocabulary_tbl_intersect = '{0}bigrams_vw'.format(vocabulary_tbl_intersect)\n",
      "        \n",
      "    vocabulary = load_common_vocabulary_extend_unigrams(vocabulary_tbl_name,vocabulary_tbl_intersect,'lemma')\n",
      "    print 'done loading vocabulary'\n",
      "    \n",
      "    # generate tfidf vectors\n",
      "    vectorizer, corpus_train_tfidf_vectors = vectorize_corpus(corpus_train_data['corpus'],tokenizer,vocabulary,max_ngram_size)\n",
      "    _, corpus_test_tfidf_vectors = vectorize_corpus(corpus_test_data['corpus'],tokenizer,vocabulary,max_ngram_size)\n",
      "    \n",
      "    # classify & evaluate    \n",
      "    results = classify(corpus_train_tfidf_vectors,corpus_train_data['labels'],\n",
      "                       corpus_test_tfidf_vectors,corpus_test_data['labels'],\n",
      "                       max_labels)\n",
      "    \n",
      "    print_top_feature_names(results['classifier'], np.asarray(vectorizer.get_feature_names()), label_names)\n",
      "    \n",
      "    print vocabulary_tbl_name,'^',vocabulary_tbl_intersect,'(extended unigrams) --> ','precision ',results['precision'],'recall ',results['recall'],'f1 ',results['f1']"
     ],
     "language": "python",
     "metadata": {},
     "outputs": [
      {
       "output_type": "stream",
       "stream": "stderr",
       "text": [
        "<input>:1: SyntaxWarning: import * only allowed at module level\n",
        "<input>:1: SyntaxWarning: import * only allowed at module level\n",
        "<input>:1: SyntaxWarning: import * only allowed at module level\n",
        "<input>:1: SyntaxWarning: import * only allowed at module level\n",
        "<input>:1: SyntaxWarning: import * only allowed at module level\n",
        "<input>:1: SyntaxWarning: import * only allowed at module level\n",
        "<input>:1: SyntaxWarning: import * only allowed at module level\n",
        "<input>:1: SyntaxWarning: import * only allowed at module level\n",
        "<input>:1: SyntaxWarning: import * only allowed at module level\n",
        "<input>:1: SyntaxWarning: import * only allowed at module level\n",
        "<input>:1: SyntaxWarning: import * only allowed at module level\n",
        "<input>:1: SyntaxWarning: import * only allowed at module level\n",
        "<input>:1: SyntaxWarning: import * only allowed at module level\n",
        "<input>:1: SyntaxWarning: import * only allowed at module level\n",
        "<input>:1: SyntaxWarning: import * only allowed at module level\n",
        "<input>:1: SyntaxWarning: import * only allowed at module level\n",
        "<input>:1: SyntaxWarning: import * only allowed at module level\n",
        "<input>:1: SyntaxWarning: import * only allowed at module level\n",
        "<input>:1: SyntaxWarning: import * only allowed at module level\n",
        "<input>:1: SyntaxWarning: import * only allowed at module level\n",
        "<input>:1: SyntaxWarning: import * only allowed at module level\n",
        "<input>:1: SyntaxWarning: import * only allowed at module level\n",
        "<input>:1: SyntaxWarning: import * only allowed at module level\n",
        "<input>:1: SyntaxWarning: import * only allowed at module level\n",
        "<input>:1: SyntaxWarning: import * only allowed at module level\n",
        "<input>:1: SyntaxWarning: import * only allowed at module level\n",
        "<input>:1: SyntaxWarning: import * only allowed at module level\n",
        "<input>:1: SyntaxWarning: import * only allowed at module level\n",
        "<input>:1: SyntaxWarning: import * only allowed at module level\n",
        "<input>:1: SyntaxWarning: import * only allowed at module level\n",
        "<input>:1: SyntaxWarning: import * only allowed at module level\n",
        "<input>:1: SyntaxWarning: import * only allowed at module level\n",
        "<input>:1: SyntaxWarning: import * only allowed at module level\n",
        "<input>:1: SyntaxWarning: import * only allowed at module level\n",
        "<input>:1: SyntaxWarning: import * only allowed at module level\n",
        "<input>:1: SyntaxWarning: import * only allowed at module level\n",
        "<input>:1: SyntaxWarning: import * only allowed at module level\n",
        "<input>:1: SyntaxWarning: import * only allowed at module level\n",
        "<input>:1: SyntaxWarning: import * only allowed at module level\n",
        "<input>:1: SyntaxWarning: import * only allowed at module level\n",
        "<input>:1: SyntaxWarning: import * only allowed at module level\n",
        "<input>:1: SyntaxWarning: import * only allowed at module level\n",
        "<input>:1: SyntaxWarning: import * only allowed at module level\n",
        "<input>:1: SyntaxWarning: import * only allowed at module level\n",
        "<input>:1: SyntaxWarning: import * only allowed at module level\n",
        "<input>:1: SyntaxWarning: import * only allowed at module level\n",
        "<input>:1: SyntaxWarning: import * only allowed at module level\n",
        "<input>:1: SyntaxWarning: import * only allowed at module level\n",
        "<input>:1: SyntaxWarning: import * only allowed at module level\n",
        "<input>:1: SyntaxWarning: import * only allowed at module level\n",
        "<input>:1: SyntaxWarning: import * only allowed at module level\n",
        "<input>:1: SyntaxWarning: import * only allowed at module level\n",
        "<input>:1: SyntaxWarning: import * only allowed at module level\n",
        "<input>:1: SyntaxWarning: import * only allowed at module level\n",
        "<input>:1: SyntaxWarning: import * only allowed at module level\n",
        "<input>:1: SyntaxWarning: import * only allowed at module level\n",
        "<input>:1: SyntaxWarning: import * only allowed at module level\n",
        "<input>:1: SyntaxWarning: import * only allowed at module level\n",
        "<input>:1: SyntaxWarning: import * only allowed at module level\n",
        "<input>:1: SyntaxWarning: import * only allowed at module level\n",
        "<input>:1: SyntaxWarning: import * only allowed at module level\n",
        "<input>:1: SyntaxWarning: import * only allowed at module level\n",
        "<input>:1: SyntaxWarning: import * only allowed at module level\n",
        "<input>:1: SyntaxWarning: import * only allowed at module level\n",
        "<input>:1: SyntaxWarning: import * only allowed at module level\n",
        "<input>:1: SyntaxWarning: import * only allowed at module level\n",
        "<input>:1: SyntaxWarning: import * only allowed at module level\n",
        "<input>:1: SyntaxWarning: import * only allowed at module level\n",
        "<input>:1: SyntaxWarning: import * only allowed at module level\n",
        "<input>:1: SyntaxWarning: import * only allowed at module level\n",
        "<input>:1: SyntaxWarning: import * only allowed at module level\n",
        "<input>:1: SyntaxWarning: import * only allowed at module level\n",
        "<input>:1: SyntaxWarning: import * only allowed at module level\n",
        "<input>:1: SyntaxWarning: import * only allowed at module level\n",
        "<input>:1: SyntaxWarning: import * only allowed at module level\n",
        "<input>:1: SyntaxWarning: import * only allowed at module level\n",
        "<input>:1: SyntaxWarning: import * only allowed at module level\n",
        "<input>:1: SyntaxWarning: import * only allowed at module level\n",
        "<input>:1: SyntaxWarning: import * only allowed at module level\n",
        "<input>:1: SyntaxWarning: import * only allowed at module level\n",
        "<input>:1: SyntaxWarning: import * only allowed at module level\n",
        "<input>:1: SyntaxWarning: import * only allowed at module level\n",
        "<input>:1: SyntaxWarning: import * only allowed at module level\n",
        "<input>:1: SyntaxWarning: import * only allowed at module level\n",
        "<input>:1: SyntaxWarning: import * only allowed at module level\n",
        "<input>:1: SyntaxWarning: import * only allowed at module level\n",
        "<input>:1: SyntaxWarning: import * only allowed at module level\n",
        "<input>:1: SyntaxWarning: import * only allowed at module level\n",
        "<input>:1: SyntaxWarning: import * only allowed at module level\n",
        "<input>:1: SyntaxWarning: import * only allowed at module level\n",
        "<input>:1: SyntaxWarning: import * only allowed at module level\n",
        "<input>:1: SyntaxWarning: import * only allowed at module level\n",
        "<input>:1: SyntaxWarning: import * only allowed at module level\n",
        "<input>:1: SyntaxWarning: import * only allowed at module level\n",
        "<input>:1: SyntaxWarning: import * only allowed at module level\n",
        "<input>:1: SyntaxWarning: import * only allowed at module level\n",
        "<input>:1: SyntaxWarning: import * only allowed at module level\n",
        "<input>:1: SyntaxWarning: import * only allowed at module level\n",
        "<input>:1: SyntaxWarning: import * only allowed at module level\n",
        "<input>:1: SyntaxWarning: import * only allowed at module level\n",
        "<input>:1: SyntaxWarning: import * only allowed at module level\n",
        "<input>:1: SyntaxWarning: import * only allowed at module level\n",
        "<input>:1: SyntaxWarning: import * only allowed at module level\n",
        "<input>:1: SyntaxWarning: import * only allowed at module level\n",
        "<input>:1: SyntaxWarning: import * only allowed at module level\n",
        "<ipython-input-15-0e4b024a5f69>:1: SyntaxWarning: import * only allowed at module level\n",
        "  def test_lemmatized_bigrams_unigrams(bigrams_src,corpus_train_data,corpus_test_data,label_names,with_stopwords_removal,use_chi_features,use_raw_tokens):\n"
       ]
      }
     ],
     "prompt_number": 15
    },
    {
     "cell_type": "code",
     "collapsed": false,
     "input": [
      "def test_lemmatized_wiktionary_bigrams(corpus_train_data,corpus_test_data,label_names,with_stopwords_removal,use_chi_features,use_raw_tokens):\n",
      "    import numpy as np\n",
      "    from lemmatizing_tokenizer import LemmaTokenizer\n",
      "    from lemmatizing_tokenizer import RawLemmaTokenizer\n",
      "    from ng20_globals import *\n",
      "    from ng20_vocabulary_loader import load_common_vocabulary\n",
      "    \n",
      "    max_ngram_size = 2\n",
      "    \n",
      "    if with_stopwords_removal==False:\n",
      "        stopwords_pattern = ''\n",
      "    else:\n",
      "        stopwords_pattern = '_stopwords'\n",
      "    if use_chi_features==False:\n",
      "        chi_features_pattern = ''\n",
      "    else:\n",
      "        chi_features_pattern = '_chi'\n",
      "    if use_raw_tokens==False:\n",
      "        raw_tokens_pattern = ''\n",
      "        tokenizer = LemmaTokenizer()    \n",
      "    else:\n",
      "        raw_tokens_pattern = '_raw'\n",
      "        tokenizer = RawLemmaTokenizer()    \n",
      "    \n",
      "    # load vocabulary\n",
      "    vocabulary_tbl_name1 = 'ng20{0}_lemmas{1}_unigrams{2}_df{3}_tf{4}'.format(raw_tokens_pattern,chi_features_pattern,stopwords_pattern,min_df,min_tf)\n",
      "    vocabulary_tbl_name2 = 'ng20{0}_lemmas{1}_bigrams{2}_df{3}_tf{4}'.format(raw_tokens_pattern,chi_features_pattern,stopwords_pattern,min_df,min_tf)\n",
      "    \n",
      "    vocabulary_tbl_intersect = 'wiktionary_bigrams'\n",
      "    vocabulary = load_common_vocabulary(vocabulary_tbl_name1,vocabulary_tbl_name2,vocabulary_tbl_intersect,'lemma')\n",
      "    print 'done loading vocabulary'\n",
      "\n",
      "    # generate tfidf vectors\n",
      "    vectorizer, corpus_train_tfidf_vectors = vectorize_corpus(corpus_train_data['corpus'],tokenizer,vocabulary,max_ngram_size)\n",
      "    _, corpus_test_tfidf_vectors = vectorize_corpus(corpus_test_data['corpus'],tokenizer,vocabulary,max_ngram_size)\n",
      "    \n",
      "    # classify & evaluate    \n",
      "    results = classify(corpus_train_tfidf_vectors,corpus_train_data['labels'],\n",
      "                       corpus_test_tfidf_vectors,corpus_test_data['labels'],\n",
      "                       max_labels)\n",
      "    \n",
      "    print_top_feature_names(results['classifier'], np.asarray(vectorizer.get_feature_names()), label_names)\n",
      "    \n",
      "    print vocabulary_tbl_name1,'^',vocabulary_tbl_name2,'^',vocabulary_tbl_intersect,' --> ','precision ',results['precision'],'recall ',results['recall'],'f1 ',results['f1']"
     ],
     "language": "python",
     "metadata": {},
     "outputs": [
      {
       "output_type": "stream",
       "stream": "stderr",
       "text": [
        "<input>:1: SyntaxWarning: import * only allowed at module level\n",
        "<input>:1: SyntaxWarning: import * only allowed at module level\n",
        "<input>:1: SyntaxWarning: import * only allowed at module level\n",
        "<input>:1: SyntaxWarning: import * only allowed at module level\n",
        "<input>:1: SyntaxWarning: import * only allowed at module level\n",
        "<input>:1: SyntaxWarning: import * only allowed at module level\n",
        "<input>:1: SyntaxWarning: import * only allowed at module level\n",
        "<input>:1: SyntaxWarning: import * only allowed at module level\n",
        "<input>:1: SyntaxWarning: import * only allowed at module level\n",
        "<input>:1: SyntaxWarning: import * only allowed at module level\n",
        "<input>:1: SyntaxWarning: import * only allowed at module level\n",
        "<input>:1: SyntaxWarning: import * only allowed at module level\n",
        "<input>:1: SyntaxWarning: import * only allowed at module level\n",
        "<input>:1: SyntaxWarning: import * only allowed at module level\n",
        "<input>:1: SyntaxWarning: import * only allowed at module level\n",
        "<input>:1: SyntaxWarning: import * only allowed at module level\n",
        "<input>:1: SyntaxWarning: import * only allowed at module level\n",
        "<input>:1: SyntaxWarning: import * only allowed at module level\n",
        "<input>:1: SyntaxWarning: import * only allowed at module level\n",
        "<input>:1: SyntaxWarning: import * only allowed at module level\n",
        "<input>:1: SyntaxWarning: import * only allowed at module level\n",
        "<input>:1: SyntaxWarning: import * only allowed at module level\n",
        "<input>:1: SyntaxWarning: import * only allowed at module level\n",
        "<input>:1: SyntaxWarning: import * only allowed at module level\n",
        "<input>:1: SyntaxWarning: import * only allowed at module level\n",
        "<input>:1: SyntaxWarning: import * only allowed at module level\n",
        "<input>:1: SyntaxWarning: import * only allowed at module level\n",
        "<input>:1: SyntaxWarning: import * only allowed at module level\n",
        "<input>:1: SyntaxWarning: import * only allowed at module level\n",
        "<input>:1: SyntaxWarning: import * only allowed at module level\n",
        "<input>:1: SyntaxWarning: import * only allowed at module level\n",
        "<input>:1: SyntaxWarning: import * only allowed at module level\n",
        "<input>:1: SyntaxWarning: import * only allowed at module level\n",
        "<input>:1: SyntaxWarning: import * only allowed at module level\n",
        "<input>:1: SyntaxWarning: import * only allowed at module level\n",
        "<input>:1: SyntaxWarning: import * only allowed at module level\n",
        "<input>:1: SyntaxWarning: import * only allowed at module level\n",
        "<input>:1: SyntaxWarning: import * only allowed at module level\n",
        "<input>:1: SyntaxWarning: import * only allowed at module level\n",
        "<input>:1: SyntaxWarning: import * only allowed at module level\n",
        "<input>:1: SyntaxWarning: import * only allowed at module level\n",
        "<input>:1: SyntaxWarning: import * only allowed at module level\n",
        "<input>:1: SyntaxWarning: import * only allowed at module level\n",
        "<input>:1: SyntaxWarning: import * only allowed at module level\n",
        "<input>:1: SyntaxWarning: import * only allowed at module level\n",
        "<input>:1: SyntaxWarning: import * only allowed at module level\n",
        "<input>:1: SyntaxWarning: import * only allowed at module level\n",
        "<input>:1: SyntaxWarning: import * only allowed at module level\n",
        "<input>:1: SyntaxWarning: import * only allowed at module level\n",
        "<input>:1: SyntaxWarning: import * only allowed at module level\n",
        "<input>:1: SyntaxWarning: import * only allowed at module level\n",
        "<input>:1: SyntaxWarning: import * only allowed at module level\n",
        "<input>:1: SyntaxWarning: import * only allowed at module level\n",
        "<input>:1: SyntaxWarning: import * only allowed at module level\n",
        "<input>:1: SyntaxWarning: import * only allowed at module level\n",
        "<input>:1: SyntaxWarning: import * only allowed at module level\n",
        "<input>:1: SyntaxWarning: import * only allowed at module level\n",
        "<input>:1: SyntaxWarning: import * only allowed at module level\n",
        "<input>:1: SyntaxWarning: import * only allowed at module level\n",
        "<input>:1: SyntaxWarning: import * only allowed at module level\n",
        "<input>:1: SyntaxWarning: import * only allowed at module level\n",
        "<input>:1: SyntaxWarning: import * only allowed at module level\n",
        "<input>:1: SyntaxWarning: import * only allowed at module level\n",
        "<input>:1: SyntaxWarning: import * only allowed at module level\n",
        "<input>:1: SyntaxWarning: import * only allowed at module level\n",
        "<input>:1: SyntaxWarning: import * only allowed at module level\n",
        "<input>:1: SyntaxWarning: import * only allowed at module level\n",
        "<input>:1: SyntaxWarning: import * only allowed at module level\n",
        "<input>:1: SyntaxWarning: import * only allowed at module level\n",
        "<input>:1: SyntaxWarning: import * only allowed at module level\n",
        "<input>:1: SyntaxWarning: import * only allowed at module level\n",
        "<input>:1: SyntaxWarning: import * only allowed at module level\n",
        "<input>:1: SyntaxWarning: import * only allowed at module level\n",
        "<input>:1: SyntaxWarning: import * only allowed at module level\n",
        "<input>:1: SyntaxWarning: import * only allowed at module level\n",
        "<input>:1: SyntaxWarning: import * only allowed at module level\n",
        "<input>:1: SyntaxWarning: import * only allowed at module level\n",
        "<input>:1: SyntaxWarning: import * only allowed at module level\n",
        "<input>:1: SyntaxWarning: import * only allowed at module level\n",
        "<input>:1: SyntaxWarning: import * only allowed at module level\n",
        "<input>:1: SyntaxWarning: import * only allowed at module level\n",
        "<input>:1: SyntaxWarning: import * only allowed at module level\n",
        "<input>:1: SyntaxWarning: import * only allowed at module level\n",
        "<input>:1: SyntaxWarning: import * only allowed at module level\n",
        "<input>:1: SyntaxWarning: import * only allowed at module level\n",
        "<input>:1: SyntaxWarning: import * only allowed at module level\n",
        "<input>:1: SyntaxWarning: import * only allowed at module level\n",
        "<input>:1: SyntaxWarning: import * only allowed at module level\n",
        "<input>:1: SyntaxWarning: import * only allowed at module level\n",
        "<input>:1: SyntaxWarning: import * only allowed at module level\n",
        "<input>:1: SyntaxWarning: import * only allowed at module level\n",
        "<input>:1: SyntaxWarning: import * only allowed at module level\n",
        "<input>:1: SyntaxWarning: import * only allowed at module level\n",
        "<input>:1: SyntaxWarning: import * only allowed at module level\n",
        "<input>:1: SyntaxWarning: import * only allowed at module level\n",
        "<input>:1: SyntaxWarning: import * only allowed at module level\n",
        "<ipython-input-16-6b4e132f13c3>:1: SyntaxWarning: import * only allowed at module level\n",
        "  def test_lemmatized_wiktionary_bigrams(corpus_train_data,corpus_test_data,label_names,with_stopwords_removal,use_chi_features,use_raw_tokens):\n"
       ]
      }
     ],
     "prompt_number": 16
    },
    {
     "cell_type": "code",
     "collapsed": false,
     "input": [
      "def test_lemmatized_google_bigrams(corpus_train_data,corpus_test_data,label_names,with_stopwords_removal,use_chi_features,use_raw_tokens):\n",
      "    import numpy as np\n",
      "    from lemmatizing_tokenizer import LemmaTokenizer\n",
      "    from lemmatizing_tokenizer import RawLemmaTokenizer\n",
      "    from ng20_globals import *\n",
      "    from ng20_vocabulary_loader import load_common_vocabulary\n",
      "    \n",
      "    max_ngram_size = 2\n",
      "        \n",
      "    if with_stopwords_removal==False:\n",
      "        stopwords_pattern = ''\n",
      "    else:\n",
      "        stopwords_pattern = '_stopwords'\n",
      "    if use_chi_features==False:\n",
      "        chi_features_pattern = ''\n",
      "    else:\n",
      "        chi_features_pattern = '_chi'\n",
      "    if use_raw_tokens==False:\n",
      "        raw_tokens_pattern = ''\n",
      "        tokenizer = LemmaTokenizer()\n",
      "    else:\n",
      "        raw_tokens_pattern = '_raw'\n",
      "        tokenizer = RawLemmaTokenizer()\n",
      "    \n",
      "    # load vocabulary\n",
      "    vocabulary_tbl_name1 = 'ng20{0}_lemmas{1}_unigrams{2}_df{3}_tf{4}'.format(raw_tokens_pattern,chi_features_pattern,stopwords_pattern,min_df,min_tf)\n",
      "    vocabulary_tbl_name2 = 'ng20{0}_lemmas{1}_bigrams{2}_df{3}_tf{4}'.format(raw_tokens_pattern,chi_features_pattern,stopwords_pattern,min_df,min_tf)\n",
      "    \n",
      "    vocabulary_tbl_intersect = 'google_bigrams'\n",
      "    vocabulary = load_common_vocabulary(vocabulary_tbl_name1,vocabulary_tbl_name2,vocabulary_tbl_intersect,'lemma')    \n",
      "\n",
      "    # generate tfidf vectors\n",
      "    vectorizer, corpus_train_tfidf_vectors = vectorize_corpus(corpus_train_data['corpus'],tokenizer,vocabulary,max_ngram_size)\n",
      "    _, corpus_test_tfidf_vectors = vectorize_corpus(corpus_test_data['corpus'],tokenizer,vocabulary,max_ngram_size)\n",
      "    \n",
      "    # classify & evaluate    \n",
      "    results = classify(corpus_train_tfidf_vectors,corpus_train_data['labels'],\n",
      "                       corpus_test_tfidf_vectors,corpus_test_data['labels'],\n",
      "                       max_labels)\n",
      "    \n",
      "    print_top_feature_names(results['classifier'], np.asarray(vectorizer.get_feature_names()), label_names)\n",
      "    \n",
      "    print vocabulary_tbl_name1,'^',vocabulary_tbl_name2,'^',vocabulary_tbl_intersect,' --> ','precision ',results['precision'],'recall ',results['recall'],'f1 ',results['f1']"
     ],
     "language": "python",
     "metadata": {},
     "outputs": [
      {
       "output_type": "stream",
       "stream": "stderr",
       "text": [
        "<input>:1: SyntaxWarning: import * only allowed at module level\n",
        "<input>:1: SyntaxWarning: import * only allowed at module level\n",
        "<input>:1: SyntaxWarning: import * only allowed at module level\n",
        "<input>:1: SyntaxWarning: import * only allowed at module level\n",
        "<input>:1: SyntaxWarning: import * only allowed at module level\n",
        "<input>:1: SyntaxWarning: import * only allowed at module level\n",
        "<input>:1: SyntaxWarning: import * only allowed at module level\n",
        "<input>:1: SyntaxWarning: import * only allowed at module level\n",
        "<input>:1: SyntaxWarning: import * only allowed at module level\n",
        "<input>:1: SyntaxWarning: import * only allowed at module level\n",
        "<input>:1: SyntaxWarning: import * only allowed at module level\n",
        "<input>:1: SyntaxWarning: import * only allowed at module level\n",
        "<input>:1: SyntaxWarning: import * only allowed at module level\n",
        "<input>:1: SyntaxWarning: import * only allowed at module level\n",
        "<input>:1: SyntaxWarning: import * only allowed at module level\n",
        "<input>:1: SyntaxWarning: import * only allowed at module level\n",
        "<input>:1: SyntaxWarning: import * only allowed at module level\n",
        "<input>:1: SyntaxWarning: import * only allowed at module level\n",
        "<input>:1: SyntaxWarning: import * only allowed at module level\n",
        "<input>:1: SyntaxWarning: import * only allowed at module level\n",
        "<input>:1: SyntaxWarning: import * only allowed at module level\n",
        "<input>:1: SyntaxWarning: import * only allowed at module level\n",
        "<input>:1: SyntaxWarning: import * only allowed at module level\n",
        "<input>:1: SyntaxWarning: import * only allowed at module level\n",
        "<input>:1: SyntaxWarning: import * only allowed at module level\n",
        "<input>:1: SyntaxWarning: import * only allowed at module level\n",
        "<input>:1: SyntaxWarning: import * only allowed at module level\n",
        "<input>:1: SyntaxWarning: import * only allowed at module level\n",
        "<input>:1: SyntaxWarning: import * only allowed at module level\n",
        "<input>:1: SyntaxWarning: import * only allowed at module level\n",
        "<input>:1: SyntaxWarning: import * only allowed at module level\n",
        "<input>:1: SyntaxWarning: import * only allowed at module level\n",
        "<input>:1: SyntaxWarning: import * only allowed at module level\n",
        "<input>:1: SyntaxWarning: import * only allowed at module level\n",
        "<input>:1: SyntaxWarning: import * only allowed at module level\n",
        "<input>:1: SyntaxWarning: import * only allowed at module level\n",
        "<input>:1: SyntaxWarning: import * only allowed at module level\n",
        "<input>:1: SyntaxWarning: import * only allowed at module level\n",
        "<input>:1: SyntaxWarning: import * only allowed at module level\n",
        "<input>:1: SyntaxWarning: import * only allowed at module level\n",
        "<input>:1: SyntaxWarning: import * only allowed at module level\n",
        "<input>:1: SyntaxWarning: import * only allowed at module level\n",
        "<input>:1: SyntaxWarning: import * only allowed at module level\n",
        "<input>:1: SyntaxWarning: import * only allowed at module level\n",
        "<input>:1: SyntaxWarning: import * only allowed at module level\n",
        "<input>:1: SyntaxWarning: import * only allowed at module level\n",
        "<input>:1: SyntaxWarning: import * only allowed at module level\n",
        "<input>:1: SyntaxWarning: import * only allowed at module level\n",
        "<input>:1: SyntaxWarning: import * only allowed at module level\n",
        "<input>:1: SyntaxWarning: import * only allowed at module level\n",
        "<input>:1: SyntaxWarning: import * only allowed at module level\n",
        "<input>:1: SyntaxWarning: import * only allowed at module level\n",
        "<input>:1: SyntaxWarning: import * only allowed at module level\n",
        "<input>:1: SyntaxWarning: import * only allowed at module level\n",
        "<input>:1: SyntaxWarning: import * only allowed at module level\n",
        "<input>:1: SyntaxWarning: import * only allowed at module level\n",
        "<input>:1: SyntaxWarning: import * only allowed at module level\n",
        "<input>:1: SyntaxWarning: import * only allowed at module level\n",
        "<input>:1: SyntaxWarning: import * only allowed at module level\n",
        "<input>:1: SyntaxWarning: import * only allowed at module level\n",
        "<input>:1: SyntaxWarning: import * only allowed at module level\n",
        "<input>:1: SyntaxWarning: import * only allowed at module level\n",
        "<input>:1: SyntaxWarning: import * only allowed at module level\n",
        "<input>:1: SyntaxWarning: import * only allowed at module level\n",
        "<input>:1: SyntaxWarning: import * only allowed at module level\n",
        "<input>:1: SyntaxWarning: import * only allowed at module level\n",
        "<input>:1: SyntaxWarning: import * only allowed at module level\n",
        "<input>:1: SyntaxWarning: import * only allowed at module level\n",
        "<input>:1: SyntaxWarning: import * only allowed at module level\n",
        "<input>:1: SyntaxWarning: import * only allowed at module level\n",
        "<input>:1: SyntaxWarning: import * only allowed at module level\n",
        "<input>:1: SyntaxWarning: import * only allowed at module level\n",
        "<input>:1: SyntaxWarning: import * only allowed at module level\n",
        "<input>:1: SyntaxWarning: import * only allowed at module level\n",
        "<input>:1: SyntaxWarning: import * only allowed at module level\n",
        "<input>:1: SyntaxWarning: import * only allowed at module level\n",
        "<input>:1: SyntaxWarning: import * only allowed at module level\n",
        "<input>:1: SyntaxWarning: import * only allowed at module level\n",
        "<input>:1: SyntaxWarning: import * only allowed at module level\n",
        "<input>:1: SyntaxWarning: import * only allowed at module level\n",
        "<input>:1: SyntaxWarning: import * only allowed at module level\n",
        "<input>:1: SyntaxWarning: import * only allowed at module level\n",
        "<input>:1: SyntaxWarning: import * only allowed at module level\n",
        "<input>:1: SyntaxWarning: import * only allowed at module level\n",
        "<input>:1: SyntaxWarning: import * only allowed at module level\n",
        "<input>:1: SyntaxWarning: import * only allowed at module level\n",
        "<input>:1: SyntaxWarning: import * only allowed at module level\n",
        "<input>:1: SyntaxWarning: import * only allowed at module level\n",
        "<input>:1: SyntaxWarning: import * only allowed at module level\n",
        "<input>:1: SyntaxWarning: import * only allowed at module level\n",
        "<input>:1: SyntaxWarning: import * only allowed at module level\n",
        "<input>:1: SyntaxWarning: import * only allowed at module level\n",
        "<input>:1: SyntaxWarning: import * only allowed at module level\n",
        "<ipython-input-17-f467d9a263e3>:1: SyntaxWarning: import * only allowed at module level\n",
        "  def test_lemmatized_google_bigrams(corpus_train_data,corpus_test_data,label_names,with_stopwords_removal,use_chi_features,use_raw_tokens):\n"
       ]
      }
     ],
     "prompt_number": 17
    },
    {
     "cell_type": "code",
     "collapsed": false,
     "input": [
      "def test_lemmatized_wiki_wiktionary_bigrams(corpus_train_data,corpus_test_data,label_names,with_stopwords_removal,use_chi_features,use_raw_tokens):\n",
      "    import numpy as np\n",
      "    from lemmatizing_tokenizer import LemmaTokenizer\n",
      "    from lemmatizing_tokenizer import RawLemmaTokenizer\n",
      "    from ng20_globals import *\n",
      "    from ng20_vocabulary_loader import load_common_vocabulary\n",
      "    \n",
      "    max_ngram_size = 2\n",
      "        \n",
      "    if with_stopwords_removal==False:\n",
      "        stopwords_pattern = ''\n",
      "    else:\n",
      "        stopwords_pattern = '_stopwords'\n",
      "    if use_chi_features==False:\n",
      "        chi_features_pattern = ''\n",
      "    else:\n",
      "        chi_features_pattern = '_chi'\n",
      "    if use_raw_tokens==False:\n",
      "        raw_tokens_pattern = ''\n",
      "        tokenizer = LemmaTokenizer()\n",
      "    else:\n",
      "        raw_tokens_pattern = '_raw'\n",
      "        tokenizer = RawLemmaTokenizer()\n",
      "    \n",
      "    # load vocabulary\n",
      "    vocabulary_tbl_name1 = 'ng20{0}_lemmas{1}_unigrams{2}_df{3}_tf{4}'.format(raw_tokens_pattern,chi_features_pattern,stopwords_pattern,min_df,min_tf)\n",
      "    vocabulary_tbl_name2 = 'ng20{0}_lemmas{1}_bigrams{2}_df{3}_tf{4}'.format(raw_tokens_pattern,chi_features_pattern,stopwords_pattern,min_df,min_tf)\n",
      "    \n",
      "    vocabulary_tbl_intersect = 'wiki_wiktionary_bigrams_vw'\n",
      "    vocabulary = load_common_vocabulary(vocabulary_tbl_name1,vocabulary_tbl_name2,vocabulary_tbl_intersect,'lemma')\n",
      "\n",
      "    # generate tfidf vectors\n",
      "    vectorizer, corpus_train_tfidf_vectors = vectorize_corpus(corpus_train_data['corpus'],tokenizer,vocabulary,max_ngram_size)\n",
      "    _, corpus_test_tfidf_vectors = vectorize_corpus(corpus_test_data['corpus'],tokenizer,vocabulary,max_ngram_size)\n",
      "    \n",
      "    # classify & evaluate    \n",
      "    results = classify(corpus_train_tfidf_vectors,corpus_train_data['labels'],\n",
      "                       corpus_test_tfidf_vectors,corpus_test_data['labels'],\n",
      "                       max_labels)\n",
      "    \n",
      "    print_top_feature_names(results['classifier'], np.asarray(vectorizer.get_feature_names()), label_names)\n",
      "    \n",
      "    print vocabulary_tbl_name1,'^',vocabulary_tbl_name2,'^',vocabulary_tbl_intersect,' --> ','precision ',results['precision'],'recall ',results['recall'],'f1 ',results['f1']"
     ],
     "language": "python",
     "metadata": {},
     "outputs": [
      {
       "output_type": "stream",
       "stream": "stderr",
       "text": [
        "<input>:1: SyntaxWarning: import * only allowed at module level\n",
        "<input>:1: SyntaxWarning: import * only allowed at module level\n",
        "<input>:1: SyntaxWarning: import * only allowed at module level\n",
        "<input>:1: SyntaxWarning: import * only allowed at module level\n",
        "<input>:1: SyntaxWarning: import * only allowed at module level\n",
        "<input>:1: SyntaxWarning: import * only allowed at module level\n",
        "<input>:1: SyntaxWarning: import * only allowed at module level\n",
        "<input>:1: SyntaxWarning: import * only allowed at module level\n",
        "<input>:1: SyntaxWarning: import * only allowed at module level\n",
        "<input>:1: SyntaxWarning: import * only allowed at module level\n",
        "<input>:1: SyntaxWarning: import * only allowed at module level\n",
        "<input>:1: SyntaxWarning: import * only allowed at module level\n",
        "<input>:1: SyntaxWarning: import * only allowed at module level\n",
        "<input>:1: SyntaxWarning: import * only allowed at module level\n",
        "<input>:1: SyntaxWarning: import * only allowed at module level\n",
        "<input>:1: SyntaxWarning: import * only allowed at module level\n",
        "<input>:1: SyntaxWarning: import * only allowed at module level\n",
        "<input>:1: SyntaxWarning: import * only allowed at module level\n",
        "<input>:1: SyntaxWarning: import * only allowed at module level\n",
        "<input>:1: SyntaxWarning: import * only allowed at module level\n",
        "<input>:1: SyntaxWarning: import * only allowed at module level\n",
        "<input>:1: SyntaxWarning: import * only allowed at module level\n",
        "<input>:1: SyntaxWarning: import * only allowed at module level\n",
        "<input>:1: SyntaxWarning: import * only allowed at module level\n",
        "<input>:1: SyntaxWarning: import * only allowed at module level\n",
        "<input>:1: SyntaxWarning: import * only allowed at module level\n",
        "<input>:1: SyntaxWarning: import * only allowed at module level\n",
        "<input>:1: SyntaxWarning: import * only allowed at module level\n",
        "<input>:1: SyntaxWarning: import * only allowed at module level\n",
        "<input>:1: SyntaxWarning: import * only allowed at module level\n",
        "<input>:1: SyntaxWarning: import * only allowed at module level\n",
        "<input>:1: SyntaxWarning: import * only allowed at module level\n",
        "<input>:1: SyntaxWarning: import * only allowed at module level\n",
        "<input>:1: SyntaxWarning: import * only allowed at module level\n",
        "<input>:1: SyntaxWarning: import * only allowed at module level\n",
        "<input>:1: SyntaxWarning: import * only allowed at module level\n",
        "<input>:1: SyntaxWarning: import * only allowed at module level\n",
        "<input>:1: SyntaxWarning: import * only allowed at module level\n",
        "<input>:1: SyntaxWarning: import * only allowed at module level\n",
        "<input>:1: SyntaxWarning: import * only allowed at module level\n",
        "<input>:1: SyntaxWarning: import * only allowed at module level\n",
        "<input>:1: SyntaxWarning: import * only allowed at module level\n",
        "<input>:1: SyntaxWarning: import * only allowed at module level\n",
        "<input>:1: SyntaxWarning: import * only allowed at module level\n",
        "<input>:1: SyntaxWarning: import * only allowed at module level\n",
        "<input>:1: SyntaxWarning: import * only allowed at module level\n",
        "<input>:1: SyntaxWarning: import * only allowed at module level\n",
        "<input>:1: SyntaxWarning: import * only allowed at module level\n",
        "<input>:1: SyntaxWarning: import * only allowed at module level\n",
        "<input>:1: SyntaxWarning: import * only allowed at module level\n",
        "<input>:1: SyntaxWarning: import * only allowed at module level\n",
        "<input>:1: SyntaxWarning: import * only allowed at module level\n",
        "<input>:1: SyntaxWarning: import * only allowed at module level\n",
        "<input>:1: SyntaxWarning: import * only allowed at module level\n",
        "<input>:1: SyntaxWarning: import * only allowed at module level\n",
        "<input>:1: SyntaxWarning: import * only allowed at module level\n",
        "<input>:1: SyntaxWarning: import * only allowed at module level\n",
        "<input>:1: SyntaxWarning: import * only allowed at module level\n",
        "<input>:1: SyntaxWarning: import * only allowed at module level\n",
        "<input>:1: SyntaxWarning: import * only allowed at module level\n",
        "<input>:1: SyntaxWarning: import * only allowed at module level\n",
        "<input>:1: SyntaxWarning: import * only allowed at module level\n",
        "<input>:1: SyntaxWarning: import * only allowed at module level\n",
        "<input>:1: SyntaxWarning: import * only allowed at module level\n",
        "<input>:1: SyntaxWarning: import * only allowed at module level\n",
        "<input>:1: SyntaxWarning: import * only allowed at module level\n",
        "<input>:1: SyntaxWarning: import * only allowed at module level\n",
        "<input>:1: SyntaxWarning: import * only allowed at module level\n",
        "<input>:1: SyntaxWarning: import * only allowed at module level\n",
        "<input>:1: SyntaxWarning: import * only allowed at module level\n",
        "<input>:1: SyntaxWarning: import * only allowed at module level\n",
        "<input>:1: SyntaxWarning: import * only allowed at module level\n",
        "<input>:1: SyntaxWarning: import * only allowed at module level\n",
        "<input>:1: SyntaxWarning: import * only allowed at module level\n",
        "<input>:1: SyntaxWarning: import * only allowed at module level\n",
        "<input>:1: SyntaxWarning: import * only allowed at module level\n",
        "<input>:1: SyntaxWarning: import * only allowed at module level\n",
        "<input>:1: SyntaxWarning: import * only allowed at module level\n",
        "<input>:1: SyntaxWarning: import * only allowed at module level\n",
        "<input>:1: SyntaxWarning: import * only allowed at module level\n",
        "<input>:1: SyntaxWarning: import * only allowed at module level\n",
        "<input>:1: SyntaxWarning: import * only allowed at module level\n",
        "<input>:1: SyntaxWarning: import * only allowed at module level\n",
        "<input>:1: SyntaxWarning: import * only allowed at module level\n",
        "<input>:1: SyntaxWarning: import * only allowed at module level\n",
        "<input>:1: SyntaxWarning: import * only allowed at module level\n",
        "<input>:1: SyntaxWarning: import * only allowed at module level\n",
        "<input>:1: SyntaxWarning: import * only allowed at module level\n",
        "<input>:1: SyntaxWarning: import * only allowed at module level\n",
        "<input>:1: SyntaxWarning: import * only allowed at module level\n",
        "<input>:1: SyntaxWarning: import * only allowed at module level\n",
        "<input>:1: SyntaxWarning: import * only allowed at module level\n",
        "<input>:1: SyntaxWarning: import * only allowed at module level\n",
        "<ipython-input-18-76ee1b830634>:1: SyntaxWarning: import * only allowed at module level\n",
        "  def test_lemmatized_wiki_wiktionary_bigrams(corpus_train_data,corpus_test_data,label_names,with_stopwords_removal,use_chi_features,use_raw_tokens):\n"
       ]
      }
     ],
     "prompt_number": 18
    },
    {
     "cell_type": "code",
     "collapsed": false,
     "input": [
      "def test_lemmatized_wiki_google_bigrams(corpus_train_data,corpus_test_data,label_names,with_stopwords_removal,use_chi_features,use_raw_tokens):\n",
      "    import numpy as np\n",
      "    from lemmatizing_tokenizer import LemmaTokenizer\n",
      "    from lemmatizing_tokenizer import RawLemmaTokenizer\n",
      "    from ng20_globals import *\n",
      "    from ng20_vocabulary_loader import load_common_vocabulary\n",
      "    \n",
      "    max_ngram_size = 2\n",
      "    \n",
      "    if with_stopwords_removal==False:\n",
      "        stopwords_pattern = ''\n",
      "    else:\n",
      "        stopwords_pattern = '_stopwords'\n",
      "    if use_chi_features==False:\n",
      "        chi_features_pattern = ''\n",
      "    else:\n",
      "        chi_features_pattern = '_chi'\n",
      "    if use_raw_tokens==False:\n",
      "        raw_tokens_pattern = ''\n",
      "        tokenizer = LemmaTokenizer()\n",
      "    else:\n",
      "        raw_tokens_pattern = '_raw'\n",
      "        tokenizer = RawLemmaTokenizer()\n",
      "    \n",
      "    # load vocabulary\n",
      "    vocabulary_tbl_name1 = 'ng20{0}_lemmas{1}_unigrams{2}_df{3}_tf{4}'.format(raw_tokens_pattern,chi_features_pattern,stopwords_pattern,min_df,min_tf)\n",
      "    vocabulary_tbl_name2 = 'ng20{0}_lemmas{1}_bigrams{2}_df{3}_tf{4}'.format(raw_tokens_pattern,chi_features_pattern,stopwords_pattern,min_df,min_tf)\n",
      "    \n",
      "    vocabulary_tbl_intersect = 'wiki_google_bigrams_vw'\n",
      "    vocabulary = load_common_vocabulary(vocabulary_tbl_name1,vocabulary_tbl_name2,vocabulary_tbl_intersect,'lemma')\n",
      "\n",
      "    # generate tfidf vectors\n",
      "    vectorizer, corpus_train_tfidf_vectors = vectorize_corpus(corpus_train_data['corpus'],tokenizer,vocabulary,max_ngram_size)\n",
      "    _, corpus_test_tfidf_vectors = vectorize_corpus(corpus_test_data['corpus'],tokenizer,vocabulary,max_ngram_size)\n",
      "    \n",
      "    # classify & evaluate    \n",
      "    results = classify(corpus_train_tfidf_vectors,corpus_train_data['labels'],\n",
      "                       corpus_test_tfidf_vectors,corpus_test_data['labels'],\n",
      "                       max_labels)\n",
      "    \n",
      "    print_top_feature_names(results['classifier'], np.asarray(vectorizer.get_feature_names()), label_names)\n",
      "    \n",
      "    print vocabulary_tbl_name1,'^',vocabulary_tbl_name2,'^',vocabulary_tbl_intersect,' --> ','precision ',results['precision'],'recall ',results['recall'],'f1 ',results['f1']"
     ],
     "language": "python",
     "metadata": {},
     "outputs": [
      {
       "output_type": "stream",
       "stream": "stderr",
       "text": [
        "<input>:1: SyntaxWarning: import * only allowed at module level\n",
        "<input>:1: SyntaxWarning: import * only allowed at module level\n",
        "<input>:1: SyntaxWarning: import * only allowed at module level\n",
        "<input>:1: SyntaxWarning: import * only allowed at module level\n",
        "<input>:1: SyntaxWarning: import * only allowed at module level\n",
        "<input>:1: SyntaxWarning: import * only allowed at module level\n",
        "<input>:1: SyntaxWarning: import * only allowed at module level\n",
        "<input>:1: SyntaxWarning: import * only allowed at module level\n",
        "<input>:1: SyntaxWarning: import * only allowed at module level\n",
        "<input>:1: SyntaxWarning: import * only allowed at module level\n",
        "<input>:1: SyntaxWarning: import * only allowed at module level\n",
        "<input>:1: SyntaxWarning: import * only allowed at module level\n",
        "<input>:1: SyntaxWarning: import * only allowed at module level\n",
        "<input>:1: SyntaxWarning: import * only allowed at module level\n",
        "<input>:1: SyntaxWarning: import * only allowed at module level\n",
        "<input>:1: SyntaxWarning: import * only allowed at module level\n",
        "<input>:1: SyntaxWarning: import * only allowed at module level\n",
        "<input>:1: SyntaxWarning: import * only allowed at module level\n",
        "<input>:1: SyntaxWarning: import * only allowed at module level\n",
        "<input>:1: SyntaxWarning: import * only allowed at module level\n",
        "<input>:1: SyntaxWarning: import * only allowed at module level\n",
        "<input>:1: SyntaxWarning: import * only allowed at module level\n",
        "<input>:1: SyntaxWarning: import * only allowed at module level\n",
        "<input>:1: SyntaxWarning: import * only allowed at module level\n",
        "<input>:1: SyntaxWarning: import * only allowed at module level\n",
        "<input>:1: SyntaxWarning: import * only allowed at module level\n",
        "<input>:1: SyntaxWarning: import * only allowed at module level\n",
        "<input>:1: SyntaxWarning: import * only allowed at module level\n",
        "<input>:1: SyntaxWarning: import * only allowed at module level\n",
        "<input>:1: SyntaxWarning: import * only allowed at module level\n",
        "<input>:1: SyntaxWarning: import * only allowed at module level\n",
        "<input>:1: SyntaxWarning: import * only allowed at module level\n",
        "<input>:1: SyntaxWarning: import * only allowed at module level\n",
        "<input>:1: SyntaxWarning: import * only allowed at module level\n",
        "<input>:1: SyntaxWarning: import * only allowed at module level\n",
        "<input>:1: SyntaxWarning: import * only allowed at module level\n",
        "<input>:1: SyntaxWarning: import * only allowed at module level\n",
        "<input>:1: SyntaxWarning: import * only allowed at module level\n",
        "<input>:1: SyntaxWarning: import * only allowed at module level\n",
        "<input>:1: SyntaxWarning: import * only allowed at module level\n",
        "<input>:1: SyntaxWarning: import * only allowed at module level\n",
        "<input>:1: SyntaxWarning: import * only allowed at module level\n",
        "<input>:1: SyntaxWarning: import * only allowed at module level\n",
        "<input>:1: SyntaxWarning: import * only allowed at module level\n",
        "<input>:1: SyntaxWarning: import * only allowed at module level\n",
        "<input>:1: SyntaxWarning: import * only allowed at module level\n",
        "<input>:1: SyntaxWarning: import * only allowed at module level\n",
        "<input>:1: SyntaxWarning: import * only allowed at module level\n",
        "<input>:1: SyntaxWarning: import * only allowed at module level\n",
        "<input>:1: SyntaxWarning: import * only allowed at module level\n",
        "<input>:1: SyntaxWarning: import * only allowed at module level\n",
        "<input>:1: SyntaxWarning: import * only allowed at module level\n",
        "<input>:1: SyntaxWarning: import * only allowed at module level\n",
        "<input>:1: SyntaxWarning: import * only allowed at module level\n",
        "<input>:1: SyntaxWarning: import * only allowed at module level\n",
        "<input>:1: SyntaxWarning: import * only allowed at module level\n",
        "<input>:1: SyntaxWarning: import * only allowed at module level\n",
        "<input>:1: SyntaxWarning: import * only allowed at module level\n",
        "<input>:1: SyntaxWarning: import * only allowed at module level\n",
        "<input>:1: SyntaxWarning: import * only allowed at module level\n",
        "<input>:1: SyntaxWarning: import * only allowed at module level\n",
        "<input>:1: SyntaxWarning: import * only allowed at module level\n",
        "<input>:1: SyntaxWarning: import * only allowed at module level\n",
        "<input>:1: SyntaxWarning: import * only allowed at module level\n",
        "<input>:1: SyntaxWarning: import * only allowed at module level\n",
        "<input>:1: SyntaxWarning: import * only allowed at module level\n",
        "<input>:1: SyntaxWarning: import * only allowed at module level\n",
        "<input>:1: SyntaxWarning: import * only allowed at module level\n",
        "<input>:1: SyntaxWarning: import * only allowed at module level\n",
        "<input>:1: SyntaxWarning: import * only allowed at module level\n",
        "<input>:1: SyntaxWarning: import * only allowed at module level\n",
        "<input>:1: SyntaxWarning: import * only allowed at module level\n",
        "<input>:1: SyntaxWarning: import * only allowed at module level\n",
        "<input>:1: SyntaxWarning: import * only allowed at module level\n",
        "<input>:1: SyntaxWarning: import * only allowed at module level\n",
        "<input>:1: SyntaxWarning: import * only allowed at module level\n",
        "<input>:1: SyntaxWarning: import * only allowed at module level\n",
        "<input>:1: SyntaxWarning: import * only allowed at module level\n",
        "<input>:1: SyntaxWarning: import * only allowed at module level\n",
        "<input>:1: SyntaxWarning: import * only allowed at module level\n",
        "<input>:1: SyntaxWarning: import * only allowed at module level\n",
        "<input>:1: SyntaxWarning: import * only allowed at module level\n",
        "<input>:1: SyntaxWarning: import * only allowed at module level\n",
        "<input>:1: SyntaxWarning: import * only allowed at module level\n",
        "<input>:1: SyntaxWarning: import * only allowed at module level\n",
        "<input>:1: SyntaxWarning: import * only allowed at module level\n",
        "<input>:1: SyntaxWarning: import * only allowed at module level\n",
        "<input>:1: SyntaxWarning: import * only allowed at module level\n",
        "<input>:1: SyntaxWarning: import * only allowed at module level\n",
        "<input>:1: SyntaxWarning: import * only allowed at module level\n",
        "<input>:1: SyntaxWarning: import * only allowed at module level\n",
        "<input>:1: SyntaxWarning: import * only allowed at module level\n",
        "<input>:1: SyntaxWarning: import * only allowed at module level\n",
        "<ipython-input-19-238b8a5c0d00>:1: SyntaxWarning: import * only allowed at module level\n",
        "  def test_lemmatized_wiki_google_bigrams(corpus_train_data,corpus_test_data,label_names,with_stopwords_removal,use_chi_features,use_raw_tokens):\n"
       ]
      }
     ],
     "prompt_number": 19
    },
    {
     "cell_type": "code",
     "collapsed": false,
     "input": [
      "def test_lemmatized_wiktionary_google_bigrams(corpus_train_data,corpus_test_data,label_names,with_stopwords_removal,use_chi_features,use_raw_tokens):\n",
      "    import numpy as np\n",
      "    from lemmatizing_tokenizer import LemmaTokenizer\n",
      "    from lemmatizing_tokenizer import RawLemmaTokenizer\n",
      "    from ng20_globals import *\n",
      "    from ng20_vocabulary_loader import load_common_vocabulary\n",
      "    \n",
      "    max_ngram_size = 2\n",
      "        \n",
      "    if with_stopwords_removal==False:\n",
      "        stopwords_pattern = ''\n",
      "    else:\n",
      "        stopwords_pattern = '_stopwords'\n",
      "    if use_chi_features==False:\n",
      "        chi_features_pattern = ''\n",
      "    else:\n",
      "        chi_features_pattern = '_chi'\n",
      "    if use_raw_tokens==False:\n",
      "        raw_tokens_pattern = ''\n",
      "        tokenizer = LemmaTokenizer()\n",
      "    else:\n",
      "        raw_tokens_pattern = '_raw'\n",
      "        tokenizer = RawLemmaTokenizer()\n",
      "    \n",
      "    # load vocabulary\n",
      "    vocabulary_tbl_name1 = 'ng20{0}_lemmas{1}_unigrams{2}_df{3}_tf{4}'.format(raw_tokens_pattern,chi_features_pattern,stopwords_pattern,min_df,min_tf)\n",
      "    vocabulary_tbl_name2 = 'ng20{0}_lemmas{1}_bigrams{2}_df{3}_tf{4}'.format(raw_tokens_pattern,chi_features_pattern,stopwords_pattern,min_df,min_tf)\n",
      "    \n",
      "    vocabulary_tbl_intersect = 'wiktionary_google_bigrams_vw'\n",
      "    vocabulary = load_common_vocabulary(vocabulary_tbl_name1,vocabulary_tbl_name2,vocabulary_tbl_intersect,'lemma')\n",
      "\n",
      "    # generate tfidf vectors\n",
      "    vectorizer, corpus_train_tfidf_vectors = vectorize_corpus(corpus_train_data['corpus'],tokenizer,vocabulary,max_ngram_size)\n",
      "    _, corpus_test_tfidf_vectors = vectorize_corpus(corpus_test_data['corpus'],tokenizer,vocabulary,max_ngram_size)\n",
      "    \n",
      "    # classify & evaluate    \n",
      "    results = classify(corpus_train_tfidf_vectors,corpus_train_data['labels'],\n",
      "                       corpus_test_tfidf_vectors,corpus_test_data['labels'],\n",
      "                       max_labels)\n",
      "    \n",
      "    print_top_feature_names(results['classifier'], np.asarray(vectorizer.get_feature_names()), label_names)\n",
      "    \n",
      "    print vocabulary_tbl_name1,'^',vocabulary_tbl_name2,'^',vocabulary_tbl_intersect,' --> ','precision ',results['precision'],'recall ',results['recall'],'f1 ',results['f1']"
     ],
     "language": "python",
     "metadata": {},
     "outputs": [
      {
       "output_type": "stream",
       "stream": "stderr",
       "text": [
        "<input>:1: SyntaxWarning: import * only allowed at module level\n",
        "<input>:1: SyntaxWarning: import * only allowed at module level\n",
        "<input>:1: SyntaxWarning: import * only allowed at module level\n",
        "<input>:1: SyntaxWarning: import * only allowed at module level\n",
        "<input>:1: SyntaxWarning: import * only allowed at module level\n",
        "<input>:1: SyntaxWarning: import * only allowed at module level\n",
        "<input>:1: SyntaxWarning: import * only allowed at module level\n",
        "<input>:1: SyntaxWarning: import * only allowed at module level\n",
        "<input>:1: SyntaxWarning: import * only allowed at module level\n",
        "<input>:1: SyntaxWarning: import * only allowed at module level\n",
        "<input>:1: SyntaxWarning: import * only allowed at module level\n",
        "<input>:1: SyntaxWarning: import * only allowed at module level\n",
        "<input>:1: SyntaxWarning: import * only allowed at module level\n",
        "<input>:1: SyntaxWarning: import * only allowed at module level\n",
        "<input>:1: SyntaxWarning: import * only allowed at module level\n",
        "<input>:1: SyntaxWarning: import * only allowed at module level\n",
        "<input>:1: SyntaxWarning: import * only allowed at module level\n",
        "<input>:1: SyntaxWarning: import * only allowed at module level\n",
        "<input>:1: SyntaxWarning: import * only allowed at module level\n",
        "<input>:1: SyntaxWarning: import * only allowed at module level\n",
        "<input>:1: SyntaxWarning: import * only allowed at module level\n",
        "<input>:1: SyntaxWarning: import * only allowed at module level\n",
        "<input>:1: SyntaxWarning: import * only allowed at module level\n",
        "<input>:1: SyntaxWarning: import * only allowed at module level\n",
        "<input>:1: SyntaxWarning: import * only allowed at module level\n",
        "<input>:1: SyntaxWarning: import * only allowed at module level\n",
        "<input>:1: SyntaxWarning: import * only allowed at module level\n",
        "<input>:1: SyntaxWarning: import * only allowed at module level\n",
        "<input>:1: SyntaxWarning: import * only allowed at module level\n",
        "<input>:1: SyntaxWarning: import * only allowed at module level\n",
        "<input>:1: SyntaxWarning: import * only allowed at module level\n",
        "<input>:1: SyntaxWarning: import * only allowed at module level\n",
        "<input>:1: SyntaxWarning: import * only allowed at module level\n",
        "<input>:1: SyntaxWarning: import * only allowed at module level\n",
        "<input>:1: SyntaxWarning: import * only allowed at module level\n",
        "<input>:1: SyntaxWarning: import * only allowed at module level\n",
        "<input>:1: SyntaxWarning: import * only allowed at module level\n",
        "<input>:1: SyntaxWarning: import * only allowed at module level\n",
        "<input>:1: SyntaxWarning: import * only allowed at module level\n",
        "<input>:1: SyntaxWarning: import * only allowed at module level\n",
        "<input>:1: SyntaxWarning: import * only allowed at module level\n",
        "<input>:1: SyntaxWarning: import * only allowed at module level\n",
        "<input>:1: SyntaxWarning: import * only allowed at module level\n",
        "<input>:1: SyntaxWarning: import * only allowed at module level\n",
        "<input>:1: SyntaxWarning: import * only allowed at module level\n",
        "<input>:1: SyntaxWarning: import * only allowed at module level\n",
        "<input>:1: SyntaxWarning: import * only allowed at module level\n",
        "<input>:1: SyntaxWarning: import * only allowed at module level\n",
        "<input>:1: SyntaxWarning: import * only allowed at module level\n",
        "<input>:1: SyntaxWarning: import * only allowed at module level\n",
        "<input>:1: SyntaxWarning: import * only allowed at module level\n",
        "<input>:1: SyntaxWarning: import * only allowed at module level\n",
        "<input>:1: SyntaxWarning: import * only allowed at module level\n",
        "<input>:1: SyntaxWarning: import * only allowed at module level\n",
        "<input>:1: SyntaxWarning: import * only allowed at module level\n",
        "<input>:1: SyntaxWarning: import * only allowed at module level\n",
        "<input>:1: SyntaxWarning: import * only allowed at module level\n",
        "<input>:1: SyntaxWarning: import * only allowed at module level\n",
        "<input>:1: SyntaxWarning: import * only allowed at module level\n",
        "<input>:1: SyntaxWarning: import * only allowed at module level\n",
        "<input>:1: SyntaxWarning: import * only allowed at module level\n",
        "<input>:1: SyntaxWarning: import * only allowed at module level\n",
        "<input>:1: SyntaxWarning: import * only allowed at module level\n",
        "<input>:1: SyntaxWarning: import * only allowed at module level\n",
        "<input>:1: SyntaxWarning: import * only allowed at module level\n",
        "<input>:1: SyntaxWarning: import * only allowed at module level\n",
        "<input>:1: SyntaxWarning: import * only allowed at module level\n",
        "<input>:1: SyntaxWarning: import * only allowed at module level\n",
        "<input>:1: SyntaxWarning: import * only allowed at module level\n",
        "<input>:1: SyntaxWarning: import * only allowed at module level\n",
        "<input>:1: SyntaxWarning: import * only allowed at module level\n",
        "<input>:1: SyntaxWarning: import * only allowed at module level\n",
        "<input>:1: SyntaxWarning: import * only allowed at module level\n",
        "<input>:1: SyntaxWarning: import * only allowed at module level\n",
        "<input>:1: SyntaxWarning: import * only allowed at module level\n",
        "<input>:1: SyntaxWarning: import * only allowed at module level\n",
        "<input>:1: SyntaxWarning: import * only allowed at module level\n",
        "<input>:1: SyntaxWarning: import * only allowed at module level\n",
        "<input>:1: SyntaxWarning: import * only allowed at module level\n",
        "<input>:1: SyntaxWarning: import * only allowed at module level\n",
        "<input>:1: SyntaxWarning: import * only allowed at module level\n",
        "<input>:1: SyntaxWarning: import * only allowed at module level\n",
        "<input>:1: SyntaxWarning: import * only allowed at module level\n",
        "<input>:1: SyntaxWarning: import * only allowed at module level\n",
        "<input>:1: SyntaxWarning: import * only allowed at module level\n",
        "<input>:1: SyntaxWarning: import * only allowed at module level\n",
        "<input>:1: SyntaxWarning: import * only allowed at module level\n",
        "<input>:1: SyntaxWarning: import * only allowed at module level\n",
        "<input>:1: SyntaxWarning: import * only allowed at module level\n",
        "<input>:1: SyntaxWarning: import * only allowed at module level\n",
        "<input>:1: SyntaxWarning: import * only allowed at module level\n",
        "<input>:1: SyntaxWarning: import * only allowed at module level\n",
        "<input>:1: SyntaxWarning: import * only allowed at module level\n",
        "<ipython-input-20-281d5812c07d>:1: SyntaxWarning: import * only allowed at module level\n",
        "  def test_lemmatized_wiktionary_google_bigrams(corpus_train_data,corpus_test_data,label_names,with_stopwords_removal,use_chi_features,use_raw_tokens):\n"
       ]
      }
     ],
     "prompt_number": 20
    },
    {
     "cell_type": "code",
     "collapsed": false,
     "input": [
      "def test_stemmed_wiki_wiktionary_bigrams(corpus_train_data,corpus_test_data,label_names,with_stopwords_removal,use_chi_features,use_raw_tokens):\n",
      "    import numpy as np\n",
      "    from stemming_tokenizer import StemmingTokenizer\n",
      "    from stemming_tokenizer import RawStemmingTokenizer\n",
      "    from ng20_globals import *\n",
      "    from ng20_vocabulary_loader import load_common_vocabulary\n",
      "    \n",
      "    max_ngram_size = 2\n",
      "        \n",
      "    if with_stopwords_removal==False:\n",
      "        stopwords_pattern = ''\n",
      "    else:\n",
      "        stopwords_pattern = '_stopwords'\n",
      "    if use_chi_features==False:\n",
      "        chi_features_pattern = ''\n",
      "    else:\n",
      "        chi_features_pattern = '_chi'\n",
      "    if use_raw_tokens==False:\n",
      "        raw_tokens_pattern = ''\n",
      "        tokenizer = StemmingTokenizer()\n",
      "    else:\n",
      "        raw_tokens_pattern = '_raw'\n",
      "        tokenizer = RawStemmingTokenizer()\n",
      "    \n",
      "    # load vocabulary\n",
      "    vocabulary_tbl_name1 = 'ng20{0}_stems{1}_unigrams{2}_df{3}_tf{4}'.format(raw_tokens_pattern,chi_features_pattern,stopwords_pattern,min_df,min_tf)\n",
      "    vocabulary_tbl_name2 = 'ng20{0}_stems{1}_bigrams{2}_df{3}_tf{4}'.format(raw_tokens_pattern,chi_features_pattern,stopwords_pattern,min_df,min_tf)\n",
      "    \n",
      "    vocabulary_tbl_intersect = 'wiki_wiktionary_bigrams_vw'\n",
      "    vocabulary = load_common_vocabulary(vocabulary_tbl_name1,vocabulary_tbl_name2,vocabulary_tbl_intersect,'stem')\n",
      "\n",
      "    # generate tfidf vectors\n",
      "    vectorizer, corpus_train_tfidf_vectors = vectorize_corpus(corpus_train_data['corpus'],tokenizer,vocabulary,max_ngram_size)\n",
      "    _, corpus_test_tfidf_vectors = vectorize_corpus(corpus_test_data['corpus'],tokenizer,vocabulary,max_ngram_size)\n",
      "    \n",
      "    # classify & evaluate    \n",
      "    results = classify(corpus_train_tfidf_vectors,corpus_train_data['labels'],\n",
      "                       corpus_test_tfidf_vectors,corpus_test_data['labels'],\n",
      "                       max_labels)\n",
      "    \n",
      "    print_top_feature_names(results['classifier'], np.asarray(vectorizer.get_feature_names()), label_names)\n",
      "    \n",
      "    print vocabulary_tbl_name1,'^',vocabulary_tbl_name2,'^',vocabulary_tbl_intersect,' --> ','precision ',results['precision'],'recall ',results['recall'],'f1 ',results['f1']"
     ],
     "language": "python",
     "metadata": {},
     "outputs": [
      {
       "output_type": "stream",
       "stream": "stderr",
       "text": [
        "<input>:1: SyntaxWarning: import * only allowed at module level\n",
        "<input>:1: SyntaxWarning: import * only allowed at module level\n",
        "<input>:1: SyntaxWarning: import * only allowed at module level\n",
        "<input>:1: SyntaxWarning: import * only allowed at module level\n",
        "<input>:1: SyntaxWarning: import * only allowed at module level\n",
        "<input>:1: SyntaxWarning: import * only allowed at module level\n",
        "<input>:1: SyntaxWarning: import * only allowed at module level\n",
        "<input>:1: SyntaxWarning: import * only allowed at module level\n",
        "<input>:1: SyntaxWarning: import * only allowed at module level\n",
        "<input>:1: SyntaxWarning: import * only allowed at module level\n",
        "<input>:1: SyntaxWarning: import * only allowed at module level\n",
        "<input>:1: SyntaxWarning: import * only allowed at module level\n",
        "<input>:1: SyntaxWarning: import * only allowed at module level\n",
        "<input>:1: SyntaxWarning: import * only allowed at module level\n",
        "<input>:1: SyntaxWarning: import * only allowed at module level\n",
        "<input>:1: SyntaxWarning: import * only allowed at module level\n",
        "<input>:1: SyntaxWarning: import * only allowed at module level\n",
        "<input>:1: SyntaxWarning: import * only allowed at module level\n",
        "<input>:1: SyntaxWarning: import * only allowed at module level\n",
        "<input>:1: SyntaxWarning: import * only allowed at module level\n",
        "<input>:1: SyntaxWarning: import * only allowed at module level\n",
        "<input>:1: SyntaxWarning: import * only allowed at module level\n",
        "<input>:1: SyntaxWarning: import * only allowed at module level\n",
        "<input>:1: SyntaxWarning: import * only allowed at module level\n",
        "<input>:1: SyntaxWarning: import * only allowed at module level\n",
        "<input>:1: SyntaxWarning: import * only allowed at module level\n",
        "<input>:1: SyntaxWarning: import * only allowed at module level\n",
        "<input>:1: SyntaxWarning: import * only allowed at module level\n",
        "<input>:1: SyntaxWarning: import * only allowed at module level\n",
        "<input>:1: SyntaxWarning: import * only allowed at module level\n",
        "<input>:1: SyntaxWarning: import * only allowed at module level\n",
        "<input>:1: SyntaxWarning: import * only allowed at module level\n",
        "<input>:1: SyntaxWarning: import * only allowed at module level\n",
        "<input>:1: SyntaxWarning: import * only allowed at module level\n",
        "<input>:1: SyntaxWarning: import * only allowed at module level\n",
        "<input>:1: SyntaxWarning: import * only allowed at module level\n",
        "<input>:1: SyntaxWarning: import * only allowed at module level\n",
        "<input>:1: SyntaxWarning: import * only allowed at module level\n",
        "<input>:1: SyntaxWarning: import * only allowed at module level\n",
        "<input>:1: SyntaxWarning: import * only allowed at module level\n",
        "<input>:1: SyntaxWarning: import * only allowed at module level\n",
        "<input>:1: SyntaxWarning: import * only allowed at module level\n",
        "<input>:1: SyntaxWarning: import * only allowed at module level\n",
        "<input>:1: SyntaxWarning: import * only allowed at module level\n",
        "<input>:1: SyntaxWarning: import * only allowed at module level\n",
        "<input>:1: SyntaxWarning: import * only allowed at module level\n",
        "<input>:1: SyntaxWarning: import * only allowed at module level\n",
        "<input>:1: SyntaxWarning: import * only allowed at module level\n",
        "<input>:1: SyntaxWarning: import * only allowed at module level\n",
        "<input>:1: SyntaxWarning: import * only allowed at module level\n",
        "<input>:1: SyntaxWarning: import * only allowed at module level\n",
        "<input>:1: SyntaxWarning: import * only allowed at module level\n",
        "<input>:1: SyntaxWarning: import * only allowed at module level\n",
        "<input>:1: SyntaxWarning: import * only allowed at module level\n",
        "<input>:1: SyntaxWarning: import * only allowed at module level\n",
        "<input>:1: SyntaxWarning: import * only allowed at module level\n",
        "<input>:1: SyntaxWarning: import * only allowed at module level\n",
        "<input>:1: SyntaxWarning: import * only allowed at module level\n",
        "<input>:1: SyntaxWarning: import * only allowed at module level\n",
        "<input>:1: SyntaxWarning: import * only allowed at module level\n",
        "<input>:1: SyntaxWarning: import * only allowed at module level\n",
        "<input>:1: SyntaxWarning: import * only allowed at module level\n",
        "<input>:1: SyntaxWarning: import * only allowed at module level\n",
        "<input>:1: SyntaxWarning: import * only allowed at module level\n",
        "<input>:1: SyntaxWarning: import * only allowed at module level\n",
        "<input>:1: SyntaxWarning: import * only allowed at module level\n",
        "<input>:1: SyntaxWarning: import * only allowed at module level\n",
        "<input>:1: SyntaxWarning: import * only allowed at module level\n",
        "<input>:1: SyntaxWarning: import * only allowed at module level\n",
        "<input>:1: SyntaxWarning: import * only allowed at module level\n",
        "<input>:1: SyntaxWarning: import * only allowed at module level\n",
        "<input>:1: SyntaxWarning: import * only allowed at module level\n",
        "<input>:1: SyntaxWarning: import * only allowed at module level\n",
        "<input>:1: SyntaxWarning: import * only allowed at module level\n",
        "<input>:1: SyntaxWarning: import * only allowed at module level\n",
        "<input>:1: SyntaxWarning: import * only allowed at module level\n",
        "<input>:1: SyntaxWarning: import * only allowed at module level\n",
        "<input>:1: SyntaxWarning: import * only allowed at module level\n",
        "<input>:1: SyntaxWarning: import * only allowed at module level\n",
        "<input>:1: SyntaxWarning: import * only allowed at module level\n",
        "<input>:1: SyntaxWarning: import * only allowed at module level\n",
        "<input>:1: SyntaxWarning: import * only allowed at module level\n",
        "<input>:1: SyntaxWarning: import * only allowed at module level\n",
        "<input>:1: SyntaxWarning: import * only allowed at module level\n",
        "<input>:1: SyntaxWarning: import * only allowed at module level\n",
        "<input>:1: SyntaxWarning: import * only allowed at module level\n",
        "<input>:1: SyntaxWarning: import * only allowed at module level\n",
        "<input>:1: SyntaxWarning: import * only allowed at module level\n",
        "<input>:1: SyntaxWarning: import * only allowed at module level\n",
        "<input>:1: SyntaxWarning: import * only allowed at module level\n",
        "<input>:1: SyntaxWarning: import * only allowed at module level\n",
        "<input>:1: SyntaxWarning: import * only allowed at module level\n",
        "<input>:1: SyntaxWarning: import * only allowed at module level\n",
        "<ipython-input-21-55e1da764420>:1: SyntaxWarning: import * only allowed at module level\n",
        "  def test_stemmed_wiki_wiktionary_bigrams(corpus_train_data,corpus_test_data,label_names,with_stopwords_removal,use_chi_features,use_raw_tokens):\n"
       ]
      }
     ],
     "prompt_number": 21
    },
    {
     "cell_type": "code",
     "collapsed": false,
     "input": [
      "def test_stemmed_wiki_google_bigrams(corpus_train_data,corpus_test_data,label_names,with_stopwords_removal,use_chi_features,use_raw_tokens):\n",
      "    import numpy as np\n",
      "    from stemming_tokenizer import StemmingTokenizer\n",
      "    from stemming_tokenizer import RawStemmingTokenizer\n",
      "    from ng20_globals import *\n",
      "    from ng20_vocabulary_loader import load_common_vocabulary\n",
      "    \n",
      "    max_ngram_size = 2\n",
      "        \n",
      "    if with_stopwords_removal==False:\n",
      "        stopwords_pattern = ''\n",
      "    else:\n",
      "        stopwords_pattern = '_stopwords'\n",
      "    if use_chi_features==False:\n",
      "        chi_features_pattern = ''\n",
      "    else:\n",
      "        chi_features_pattern = '_chi'\n",
      "    if use_raw_tokens==False:\n",
      "        raw_tokens_pattern = ''\n",
      "        tokenizer = StemmingTokenizer()\n",
      "    else:\n",
      "        raw_tokens_pattern = '_raw'\n",
      "        tokenizer = RawStemmingTokenizer()\n",
      "    \n",
      "    # load vocabulary\n",
      "    vocabulary_tbl_name1 = 'ng20{0}_stems{1}_unigrams{2}_df{3}_tf{4}'.format(raw_tokens_pattern,chi_features_pattern,stopwords_pattern,min_df,min_tf)\n",
      "    vocabulary_tbl_name2 = 'ng20{0}_stems{1}_bigrams{2}_df{3}_tf{4}'.format(raw_tokens_pattern,chi_features_pattern,stopwords_pattern,min_df,min_tf)\n",
      "    \n",
      "    vocabulary_tbl_intersect = 'wiki_google_bigrams_vw'\n",
      "    vocabulary = load_common_vocabulary(vocabulary_tbl_name1,vocabulary_tbl_name2,vocabulary_tbl_intersect,'stem')\n",
      "\n",
      "    # generate tfidf vectors\n",
      "    vectorizer, corpus_train_tfidf_vectors = vectorize_corpus(corpus_train_data['corpus'],tokenizer,vocabulary,max_ngram_size)\n",
      "    _, corpus_test_tfidf_vectors = vectorize_corpus(corpus_test_data['corpus'],tokenizer,vocabulary,max_ngram_size)\n",
      "    \n",
      "    # classify & evaluate    \n",
      "    results = classify(corpus_train_tfidf_vectors,corpus_train_data['labels'],\n",
      "                       corpus_test_tfidf_vectors,corpus_test_data['labels'],\n",
      "                       max_labels)\n",
      "    \n",
      "    print_top_feature_names(results['classifier'], np.asarray(vectorizer.get_feature_names()), label_names)\n",
      "    \n",
      "    print vocabulary_tbl_name1,'^',vocabulary_tbl_name2,'^',vocabulary_tbl_intersect,' --> ','precision ',results['precision'],'recall ',results['recall'],'f1 ',results['f1']"
     ],
     "language": "python",
     "metadata": {},
     "outputs": [
      {
       "output_type": "stream",
       "stream": "stderr",
       "text": [
        "<input>:1: SyntaxWarning: import * only allowed at module level\n",
        "<input>:1: SyntaxWarning: import * only allowed at module level\n",
        "<input>:1: SyntaxWarning: import * only allowed at module level\n",
        "<input>:1: SyntaxWarning: import * only allowed at module level\n",
        "<input>:1: SyntaxWarning: import * only allowed at module level\n",
        "<input>:1: SyntaxWarning: import * only allowed at module level\n",
        "<input>:1: SyntaxWarning: import * only allowed at module level\n",
        "<input>:1: SyntaxWarning: import * only allowed at module level\n",
        "<input>:1: SyntaxWarning: import * only allowed at module level\n",
        "<input>:1: SyntaxWarning: import * only allowed at module level\n",
        "<input>:1: SyntaxWarning: import * only allowed at module level\n",
        "<input>:1: SyntaxWarning: import * only allowed at module level\n",
        "<input>:1: SyntaxWarning: import * only allowed at module level\n",
        "<input>:1: SyntaxWarning: import * only allowed at module level\n",
        "<input>:1: SyntaxWarning: import * only allowed at module level\n",
        "<input>:1: SyntaxWarning: import * only allowed at module level\n",
        "<input>:1: SyntaxWarning: import * only allowed at module level\n",
        "<input>:1: SyntaxWarning: import * only allowed at module level\n",
        "<input>:1: SyntaxWarning: import * only allowed at module level\n",
        "<input>:1: SyntaxWarning: import * only allowed at module level\n",
        "<input>:1: SyntaxWarning: import * only allowed at module level\n",
        "<input>:1: SyntaxWarning: import * only allowed at module level\n",
        "<input>:1: SyntaxWarning: import * only allowed at module level\n",
        "<input>:1: SyntaxWarning: import * only allowed at module level\n",
        "<input>:1: SyntaxWarning: import * only allowed at module level\n",
        "<input>:1: SyntaxWarning: import * only allowed at module level\n",
        "<input>:1: SyntaxWarning: import * only allowed at module level\n",
        "<input>:1: SyntaxWarning: import * only allowed at module level\n",
        "<input>:1: SyntaxWarning: import * only allowed at module level\n",
        "<input>:1: SyntaxWarning: import * only allowed at module level\n",
        "<input>:1: SyntaxWarning: import * only allowed at module level\n",
        "<input>:1: SyntaxWarning: import * only allowed at module level\n",
        "<input>:1: SyntaxWarning: import * only allowed at module level\n",
        "<input>:1: SyntaxWarning: import * only allowed at module level\n",
        "<input>:1: SyntaxWarning: import * only allowed at module level\n",
        "<input>:1: SyntaxWarning: import * only allowed at module level\n",
        "<input>:1: SyntaxWarning: import * only allowed at module level\n",
        "<input>:1: SyntaxWarning: import * only allowed at module level\n",
        "<input>:1: SyntaxWarning: import * only allowed at module level\n",
        "<input>:1: SyntaxWarning: import * only allowed at module level\n",
        "<input>:1: SyntaxWarning: import * only allowed at module level\n",
        "<input>:1: SyntaxWarning: import * only allowed at module level\n",
        "<input>:1: SyntaxWarning: import * only allowed at module level\n",
        "<input>:1: SyntaxWarning: import * only allowed at module level\n",
        "<input>:1: SyntaxWarning: import * only allowed at module level\n",
        "<input>:1: SyntaxWarning: import * only allowed at module level\n",
        "<input>:1: SyntaxWarning: import * only allowed at module level\n",
        "<input>:1: SyntaxWarning: import * only allowed at module level\n",
        "<input>:1: SyntaxWarning: import * only allowed at module level\n",
        "<input>:1: SyntaxWarning: import * only allowed at module level\n",
        "<input>:1: SyntaxWarning: import * only allowed at module level\n",
        "<input>:1: SyntaxWarning: import * only allowed at module level\n",
        "<input>:1: SyntaxWarning: import * only allowed at module level\n",
        "<input>:1: SyntaxWarning: import * only allowed at module level\n",
        "<input>:1: SyntaxWarning: import * only allowed at module level\n",
        "<input>:1: SyntaxWarning: import * only allowed at module level\n",
        "<input>:1: SyntaxWarning: import * only allowed at module level\n",
        "<input>:1: SyntaxWarning: import * only allowed at module level\n",
        "<input>:1: SyntaxWarning: import * only allowed at module level\n",
        "<input>:1: SyntaxWarning: import * only allowed at module level\n",
        "<input>:1: SyntaxWarning: import * only allowed at module level\n",
        "<input>:1: SyntaxWarning: import * only allowed at module level\n",
        "<input>:1: SyntaxWarning: import * only allowed at module level\n",
        "<input>:1: SyntaxWarning: import * only allowed at module level\n",
        "<input>:1: SyntaxWarning: import * only allowed at module level\n",
        "<input>:1: SyntaxWarning: import * only allowed at module level\n",
        "<input>:1: SyntaxWarning: import * only allowed at module level\n",
        "<input>:1: SyntaxWarning: import * only allowed at module level\n",
        "<input>:1: SyntaxWarning: import * only allowed at module level\n",
        "<input>:1: SyntaxWarning: import * only allowed at module level\n",
        "<input>:1: SyntaxWarning: import * only allowed at module level\n",
        "<input>:1: SyntaxWarning: import * only allowed at module level\n",
        "<input>:1: SyntaxWarning: import * only allowed at module level\n",
        "<input>:1: SyntaxWarning: import * only allowed at module level\n",
        "<input>:1: SyntaxWarning: import * only allowed at module level\n",
        "<input>:1: SyntaxWarning: import * only allowed at module level\n",
        "<input>:1: SyntaxWarning: import * only allowed at module level\n",
        "<input>:1: SyntaxWarning: import * only allowed at module level\n",
        "<input>:1: SyntaxWarning: import * only allowed at module level\n",
        "<input>:1: SyntaxWarning: import * only allowed at module level\n",
        "<input>:1: SyntaxWarning: import * only allowed at module level\n",
        "<input>:1: SyntaxWarning: import * only allowed at module level\n",
        "<input>:1: SyntaxWarning: import * only allowed at module level\n",
        "<input>:1: SyntaxWarning: import * only allowed at module level\n",
        "<input>:1: SyntaxWarning: import * only allowed at module level\n",
        "<input>:1: SyntaxWarning: import * only allowed at module level\n",
        "<input>:1: SyntaxWarning: import * only allowed at module level\n",
        "<input>:1: SyntaxWarning: import * only allowed at module level\n",
        "<input>:1: SyntaxWarning: import * only allowed at module level\n",
        "<input>:1: SyntaxWarning: import * only allowed at module level\n",
        "<input>:1: SyntaxWarning: import * only allowed at module level\n",
        "<input>:1: SyntaxWarning: import * only allowed at module level\n",
        "<input>:1: SyntaxWarning: import * only allowed at module level\n",
        "<ipython-input-22-08816101186c>:1: SyntaxWarning: import * only allowed at module level\n",
        "  def test_stemmed_wiki_google_bigrams(corpus_train_data,corpus_test_data,label_names,with_stopwords_removal,use_chi_features,use_raw_tokens):\n"
       ]
      }
     ],
     "prompt_number": 22
    },
    {
     "cell_type": "code",
     "collapsed": false,
     "input": [
      "def test_stemmed_wiktionary_google_bigrams(corpus_train_data,corpus_test_data,label_names,with_stopwords_removal,use_chi_features,use_raw_tokens):\n",
      "    import numpy as np\n",
      "    from stemming_tokenizer import StemmingTokenizer\n",
      "    from stemming_tokenizer import RawStemmingTokenizer\n",
      "    from ng20_globals import *\n",
      "    from ng20_vocabulary_loader import load_common_vocabulary\n",
      "    \n",
      "    max_ngram_size = 2\n",
      "        \n",
      "    if with_stopwords_removal==False:\n",
      "        stopwords_pattern = ''\n",
      "    else:\n",
      "        stopwords_pattern = '_stopwords'\n",
      "    if use_chi_features==False:\n",
      "        chi_features_pattern = ''\n",
      "    else:\n",
      "        chi_features_pattern = '_chi'\n",
      "    if use_raw_tokens==False:\n",
      "        raw_tokens_pattern = ''\n",
      "        tokenizer = StemmingTokenizer()\n",
      "    else:\n",
      "        raw_tokens_pattern = '_raw'\n",
      "        tokenizer = RawStemmingTokenizer()\n",
      "    \n",
      "    # load vocabulary\n",
      "    vocabulary_tbl_name1 = 'ng20{0}_stems{1}_unigrams{2}_df{3}_tf{4}'.format(raw_tokens_pattern,chi_features_pattern,stopwords_pattern,min_df,min_tf)\n",
      "    vocabulary_tbl_name2 = 'ng20{0}_stems{1}_bigrams{2}_df{3}_tf{4}'.format(raw_tokens_pattern,chi_features_pattern,stopwords_pattern,min_df,min_tf)\n",
      "    \n",
      "    vocabulary_tbl_intersect = 'wiktionary_google_bigrams_vw'\n",
      "    vocabulary = load_common_vocabulary(vocabulary_tbl_name1,vocabulary_tbl_name2,vocabulary_tbl_intersect,'stem')\n",
      "\n",
      "    # generate tfidf vectors\n",
      "    vectorizer, corpus_train_tfidf_vectors = vectorize_corpus(corpus_train_data['corpus'],tokenizer,vocabulary,max_ngram_size)\n",
      "    _, corpus_test_tfidf_vectors = vectorize_corpus(corpus_test_data['corpus'],tokenizer,vocabulary,max_ngram_size)\n",
      "    \n",
      "    # classify & evaluate    \n",
      "    results = classify(corpus_train_tfidf_vectors,corpus_train_data['labels'],\n",
      "                       corpus_test_tfidf_vectors,corpus_test_data['labels'],\n",
      "                       max_labels)\n",
      "    \n",
      "    print_top_feature_names(results['classifier'], np.asarray(vectorizer.get_feature_names()), label_names)\n",
      "    \n",
      "    print vocabulary_tbl_name1,'^',vocabulary_tbl_name2,'^',vocabulary_tbl_intersect,' --> ','precision ',results['precision'],'recall ',results['recall'],'f1 ',results['f1']"
     ],
     "language": "python",
     "metadata": {},
     "outputs": [
      {
       "output_type": "stream",
       "stream": "stderr",
       "text": [
        "<input>:1: SyntaxWarning: import * only allowed at module level\n",
        "<input>:1: SyntaxWarning: import * only allowed at module level\n",
        "<input>:1: SyntaxWarning: import * only allowed at module level\n",
        "<input>:1: SyntaxWarning: import * only allowed at module level\n",
        "<input>:1: SyntaxWarning: import * only allowed at module level\n",
        "<input>:1: SyntaxWarning: import * only allowed at module level\n",
        "<input>:1: SyntaxWarning: import * only allowed at module level\n",
        "<input>:1: SyntaxWarning: import * only allowed at module level\n",
        "<input>:1: SyntaxWarning: import * only allowed at module level\n",
        "<input>:1: SyntaxWarning: import * only allowed at module level\n",
        "<input>:1: SyntaxWarning: import * only allowed at module level\n",
        "<input>:1: SyntaxWarning: import * only allowed at module level\n",
        "<input>:1: SyntaxWarning: import * only allowed at module level\n",
        "<input>:1: SyntaxWarning: import * only allowed at module level\n",
        "<input>:1: SyntaxWarning: import * only allowed at module level\n",
        "<input>:1: SyntaxWarning: import * only allowed at module level\n",
        "<input>:1: SyntaxWarning: import * only allowed at module level\n",
        "<input>:1: SyntaxWarning: import * only allowed at module level\n",
        "<input>:1: SyntaxWarning: import * only allowed at module level\n",
        "<input>:1: SyntaxWarning: import * only allowed at module level\n",
        "<input>:1: SyntaxWarning: import * only allowed at module level\n",
        "<input>:1: SyntaxWarning: import * only allowed at module level\n",
        "<input>:1: SyntaxWarning: import * only allowed at module level\n",
        "<input>:1: SyntaxWarning: import * only allowed at module level\n",
        "<input>:1: SyntaxWarning: import * only allowed at module level\n",
        "<input>:1: SyntaxWarning: import * only allowed at module level\n",
        "<input>:1: SyntaxWarning: import * only allowed at module level\n",
        "<input>:1: SyntaxWarning: import * only allowed at module level\n",
        "<input>:1: SyntaxWarning: import * only allowed at module level\n",
        "<input>:1: SyntaxWarning: import * only allowed at module level\n",
        "<input>:1: SyntaxWarning: import * only allowed at module level\n",
        "<input>:1: SyntaxWarning: import * only allowed at module level\n",
        "<input>:1: SyntaxWarning: import * only allowed at module level\n",
        "<input>:1: SyntaxWarning: import * only allowed at module level\n",
        "<input>:1: SyntaxWarning: import * only allowed at module level\n",
        "<input>:1: SyntaxWarning: import * only allowed at module level\n",
        "<input>:1: SyntaxWarning: import * only allowed at module level\n",
        "<input>:1: SyntaxWarning: import * only allowed at module level\n",
        "<input>:1: SyntaxWarning: import * only allowed at module level\n",
        "<input>:1: SyntaxWarning: import * only allowed at module level\n",
        "<input>:1: SyntaxWarning: import * only allowed at module level\n",
        "<input>:1: SyntaxWarning: import * only allowed at module level\n",
        "<input>:1: SyntaxWarning: import * only allowed at module level\n",
        "<input>:1: SyntaxWarning: import * only allowed at module level\n",
        "<input>:1: SyntaxWarning: import * only allowed at module level\n",
        "<input>:1: SyntaxWarning: import * only allowed at module level\n",
        "<input>:1: SyntaxWarning: import * only allowed at module level\n",
        "<input>:1: SyntaxWarning: import * only allowed at module level\n",
        "<input>:1: SyntaxWarning: import * only allowed at module level\n",
        "<input>:1: SyntaxWarning: import * only allowed at module level\n",
        "<input>:1: SyntaxWarning: import * only allowed at module level\n",
        "<input>:1: SyntaxWarning: import * only allowed at module level\n",
        "<input>:1: SyntaxWarning: import * only allowed at module level\n",
        "<input>:1: SyntaxWarning: import * only allowed at module level\n",
        "<input>:1: SyntaxWarning: import * only allowed at module level\n",
        "<input>:1: SyntaxWarning: import * only allowed at module level\n",
        "<input>:1: SyntaxWarning: import * only allowed at module level\n",
        "<input>:1: SyntaxWarning: import * only allowed at module level\n",
        "<input>:1: SyntaxWarning: import * only allowed at module level\n",
        "<input>:1: SyntaxWarning: import * only allowed at module level\n",
        "<input>:1: SyntaxWarning: import * only allowed at module level\n",
        "<input>:1: SyntaxWarning: import * only allowed at module level\n",
        "<input>:1: SyntaxWarning: import * only allowed at module level\n",
        "<input>:1: SyntaxWarning: import * only allowed at module level\n",
        "<input>:1: SyntaxWarning: import * only allowed at module level\n",
        "<input>:1: SyntaxWarning: import * only allowed at module level\n",
        "<input>:1: SyntaxWarning: import * only allowed at module level\n",
        "<input>:1: SyntaxWarning: import * only allowed at module level\n",
        "<input>:1: SyntaxWarning: import * only allowed at module level\n",
        "<input>:1: SyntaxWarning: import * only allowed at module level\n",
        "<input>:1: SyntaxWarning: import * only allowed at module level\n",
        "<input>:1: SyntaxWarning: import * only allowed at module level\n",
        "<input>:1: SyntaxWarning: import * only allowed at module level\n",
        "<input>:1: SyntaxWarning: import * only allowed at module level\n",
        "<input>:1: SyntaxWarning: import * only allowed at module level\n",
        "<input>:1: SyntaxWarning: import * only allowed at module level\n",
        "<input>:1: SyntaxWarning: import * only allowed at module level\n",
        "<input>:1: SyntaxWarning: import * only allowed at module level\n",
        "<input>:1: SyntaxWarning: import * only allowed at module level\n",
        "<input>:1: SyntaxWarning: import * only allowed at module level\n",
        "<input>:1: SyntaxWarning: import * only allowed at module level\n",
        "<input>:1: SyntaxWarning: import * only allowed at module level\n",
        "<input>:1: SyntaxWarning: import * only allowed at module level\n",
        "<input>:1: SyntaxWarning: import * only allowed at module level\n",
        "<input>:1: SyntaxWarning: import * only allowed at module level\n",
        "<input>:1: SyntaxWarning: import * only allowed at module level\n",
        "<input>:1: SyntaxWarning: import * only allowed at module level\n",
        "<input>:1: SyntaxWarning: import * only allowed at module level\n",
        "<input>:1: SyntaxWarning: import * only allowed at module level\n",
        "<input>:1: SyntaxWarning: import * only allowed at module level\n",
        "<input>:1: SyntaxWarning: import * only allowed at module level\n",
        "<input>:1: SyntaxWarning: import * only allowed at module level\n",
        "<input>:1: SyntaxWarning: import * only allowed at module level\n",
        "<ipython-input-23-538a329e78f3>:1: SyntaxWarning: import * only allowed at module level\n",
        "  def test_stemmed_wiktionary_google_bigrams(corpus_train_data,corpus_test_data,label_names,with_stopwords_removal,use_chi_features,use_raw_tokens):\n"
       ]
      }
     ],
     "prompt_number": 23
    },
    {
     "cell_type": "code",
     "collapsed": false,
     "input": [
      "def test_lemmatized_all_bigrams(corpus_train_data,corpus_test_data,label_names,with_stopwords_removal,use_chi_features,use_raw_tokens):\n",
      "    import numpy as np\n",
      "    from lemmatizing_tokenizer import LemmaTokenizer\n",
      "    from lemmatizing_tokenizer import RawLemmaTokenizer\n",
      "    from ng20_globals import *\n",
      "    from ng20_vocabulary_loader import load_common_vocabulary\n",
      "    \n",
      "    max_ngram_size = 2\n",
      "        \n",
      "    if with_stopwords_removal==False:\n",
      "        stopwords_pattern = ''\n",
      "    else:\n",
      "        stopwords_pattern = '_stopwords'\n",
      "    if use_chi_features==False:\n",
      "        chi_features_pattern = ''\n",
      "    else:\n",
      "        chi_features_pattern = '_chi'\n",
      "    if use_raw_tokens==False:\n",
      "        raw_tokens_pattern = ''\n",
      "        tokenizer = LemmaTokenizer()\n",
      "    else:\n",
      "        raw_tokens_pattern = '_raw'\n",
      "        tokenizer = RawLemmaTokenizer()\n",
      "    \n",
      "    # load vocabulary\n",
      "    vocabulary_tbl_name1 = 'ng20{0}_lemmas{1}_unigrams{2}_df{3}_tf{4}'.format(raw_tokens_pattern,chi_features_pattern,stopwords_pattern,min_df,min_tf)\n",
      "    vocabulary_tbl_name2 = 'ng20{0}_lemmas{1}_bigrams{2}_df{3}_tf{4}'.format(raw_tokens_pattern,chi_features_pattern,stopwords_pattern,min_df,min_tf)\n",
      "    \n",
      "    vocabulary_tbl_intersect = 'wiki_wiktionary_google_bigrams_vw'\n",
      "    vocabulary = load_common_vocabulary(vocabulary_tbl_name1,vocabulary_tbl_name2,vocabulary_tbl_intersect,'lemma')\n",
      "\n",
      "    # generate tfidf vectors\n",
      "    vectorizer, corpus_train_tfidf_vectors = vectorize_corpus(corpus_train_data['corpus'],tokenizer,vocabulary,max_ngram_size)\n",
      "    _, corpus_test_tfidf_vectors = vectorize_corpus(corpus_test_data['corpus'],tokenizer,vocabulary,max_ngram_size)\n",
      "    \n",
      "    # classify & evaluate    \n",
      "    results = classify(corpus_train_tfidf_vectors,corpus_train_data['labels'],\n",
      "                       corpus_test_tfidf_vectors,corpus_test_data['labels'],\n",
      "                       max_labels)\n",
      "    \n",
      "    print_top_feature_names(results['classifier'], np.asarray(vectorizer.get_feature_names()), label_names)\n",
      "    \n",
      "    print vocabulary_tbl_name1,'^',vocabulary_tbl_name2,'^',vocabulary_tbl_intersect,' --> ','precision ',results['precision'],'recall ',results['recall'],'f1 ',results['f1']"
     ],
     "language": "python",
     "metadata": {},
     "outputs": [
      {
       "output_type": "stream",
       "stream": "stderr",
       "text": [
        "<input>:1: SyntaxWarning: import * only allowed at module level\n",
        "<input>:1: SyntaxWarning: import * only allowed at module level\n",
        "<input>:1: SyntaxWarning: import * only allowed at module level\n",
        "<input>:1: SyntaxWarning: import * only allowed at module level\n",
        "<input>:1: SyntaxWarning: import * only allowed at module level\n",
        "<input>:1: SyntaxWarning: import * only allowed at module level\n",
        "<input>:1: SyntaxWarning: import * only allowed at module level\n",
        "<input>:1: SyntaxWarning: import * only allowed at module level\n",
        "<input>:1: SyntaxWarning: import * only allowed at module level\n",
        "<input>:1: SyntaxWarning: import * only allowed at module level\n",
        "<input>:1: SyntaxWarning: import * only allowed at module level\n",
        "<input>:1: SyntaxWarning: import * only allowed at module level\n",
        "<input>:1: SyntaxWarning: import * only allowed at module level\n",
        "<input>:1: SyntaxWarning: import * only allowed at module level\n",
        "<input>:1: SyntaxWarning: import * only allowed at module level\n",
        "<input>:1: SyntaxWarning: import * only allowed at module level\n",
        "<input>:1: SyntaxWarning: import * only allowed at module level\n",
        "<input>:1: SyntaxWarning: import * only allowed at module level\n",
        "<input>:1: SyntaxWarning: import * only allowed at module level\n",
        "<input>:1: SyntaxWarning: import * only allowed at module level\n",
        "<input>:1: SyntaxWarning: import * only allowed at module level\n",
        "<input>:1: SyntaxWarning: import * only allowed at module level\n",
        "<input>:1: SyntaxWarning: import * only allowed at module level\n",
        "<input>:1: SyntaxWarning: import * only allowed at module level\n",
        "<input>:1: SyntaxWarning: import * only allowed at module level\n",
        "<input>:1: SyntaxWarning: import * only allowed at module level\n",
        "<input>:1: SyntaxWarning: import * only allowed at module level\n",
        "<input>:1: SyntaxWarning: import * only allowed at module level\n",
        "<input>:1: SyntaxWarning: import * only allowed at module level\n",
        "<input>:1: SyntaxWarning: import * only allowed at module level\n",
        "<input>:1: SyntaxWarning: import * only allowed at module level\n",
        "<input>:1: SyntaxWarning: import * only allowed at module level\n",
        "<input>:1: SyntaxWarning: import * only allowed at module level\n",
        "<input>:1: SyntaxWarning: import * only allowed at module level\n",
        "<input>:1: SyntaxWarning: import * only allowed at module level\n",
        "<input>:1: SyntaxWarning: import * only allowed at module level\n",
        "<input>:1: SyntaxWarning: import * only allowed at module level\n",
        "<input>:1: SyntaxWarning: import * only allowed at module level\n",
        "<input>:1: SyntaxWarning: import * only allowed at module level\n",
        "<input>:1: SyntaxWarning: import * only allowed at module level\n",
        "<input>:1: SyntaxWarning: import * only allowed at module level\n",
        "<input>:1: SyntaxWarning: import * only allowed at module level\n",
        "<input>:1: SyntaxWarning: import * only allowed at module level\n",
        "<input>:1: SyntaxWarning: import * only allowed at module level\n",
        "<input>:1: SyntaxWarning: import * only allowed at module level\n",
        "<input>:1: SyntaxWarning: import * only allowed at module level\n",
        "<input>:1: SyntaxWarning: import * only allowed at module level\n",
        "<input>:1: SyntaxWarning: import * only allowed at module level\n",
        "<input>:1: SyntaxWarning: import * only allowed at module level\n",
        "<input>:1: SyntaxWarning: import * only allowed at module level\n",
        "<input>:1: SyntaxWarning: import * only allowed at module level\n",
        "<input>:1: SyntaxWarning: import * only allowed at module level\n",
        "<input>:1: SyntaxWarning: import * only allowed at module level\n",
        "<input>:1: SyntaxWarning: import * only allowed at module level\n",
        "<input>:1: SyntaxWarning: import * only allowed at module level\n",
        "<input>:1: SyntaxWarning: import * only allowed at module level\n",
        "<input>:1: SyntaxWarning: import * only allowed at module level\n",
        "<input>:1: SyntaxWarning: import * only allowed at module level\n",
        "<input>:1: SyntaxWarning: import * only allowed at module level\n",
        "<input>:1: SyntaxWarning: import * only allowed at module level\n",
        "<input>:1: SyntaxWarning: import * only allowed at module level\n",
        "<input>:1: SyntaxWarning: import * only allowed at module level\n",
        "<input>:1: SyntaxWarning: import * only allowed at module level\n",
        "<input>:1: SyntaxWarning: import * only allowed at module level\n",
        "<input>:1: SyntaxWarning: import * only allowed at module level\n",
        "<input>:1: SyntaxWarning: import * only allowed at module level\n",
        "<input>:1: SyntaxWarning: import * only allowed at module level\n",
        "<input>:1: SyntaxWarning: import * only allowed at module level\n",
        "<input>:1: SyntaxWarning: import * only allowed at module level\n",
        "<input>:1: SyntaxWarning: import * only allowed at module level\n",
        "<input>:1: SyntaxWarning: import * only allowed at module level\n",
        "<input>:1: SyntaxWarning: import * only allowed at module level\n",
        "<input>:1: SyntaxWarning: import * only allowed at module level\n",
        "<input>:1: SyntaxWarning: import * only allowed at module level\n",
        "<input>:1: SyntaxWarning: import * only allowed at module level\n",
        "<input>:1: SyntaxWarning: import * only allowed at module level\n",
        "<input>:1: SyntaxWarning: import * only allowed at module level\n",
        "<input>:1: SyntaxWarning: import * only allowed at module level\n",
        "<input>:1: SyntaxWarning: import * only allowed at module level\n",
        "<input>:1: SyntaxWarning: import * only allowed at module level\n",
        "<input>:1: SyntaxWarning: import * only allowed at module level\n",
        "<input>:1: SyntaxWarning: import * only allowed at module level\n",
        "<input>:1: SyntaxWarning: import * only allowed at module level\n",
        "<input>:1: SyntaxWarning: import * only allowed at module level\n",
        "<input>:1: SyntaxWarning: import * only allowed at module level\n",
        "<input>:1: SyntaxWarning: import * only allowed at module level\n",
        "<input>:1: SyntaxWarning: import * only allowed at module level\n",
        "<input>:1: SyntaxWarning: import * only allowed at module level\n",
        "<input>:1: SyntaxWarning: import * only allowed at module level\n",
        "<input>:1: SyntaxWarning: import * only allowed at module level\n",
        "<input>:1: SyntaxWarning: import * only allowed at module level\n",
        "<input>:1: SyntaxWarning: import * only allowed at module level\n",
        "<input>:1: SyntaxWarning: import * only allowed at module level\n",
        "<ipython-input-24-2a7732587269>:1: SyntaxWarning: import * only allowed at module level\n",
        "  def test_lemmatized_all_bigrams(corpus_train_data,corpus_test_data,label_names,with_stopwords_removal,use_chi_features,use_raw_tokens):\n"
       ]
      }
     ],
     "prompt_number": 24
    },
    {
     "cell_type": "code",
     "collapsed": false,
     "input": [
      "def test_stemmed_wiki_bigrams(corpus_train_data,corpus_test_data,label_names,with_stopwords_removal,use_chi_features,use_raw_tokens):\n",
      "    import numpy as np\n",
      "    from stemming_tokenizer import StemmingTokenizer\n",
      "    from stemming_tokenizer import RawStemmingTokenizer\n",
      "    from ng20_globals import *\n",
      "    from ng20_vocabulary_loader import load_common_vocabulary\n",
      "    \n",
      "    max_ngram_size = 2\n",
      "        \n",
      "    if with_stopwords_removal==False:\n",
      "        stopwords_pattern = ''\n",
      "    else:\n",
      "        stopwords_pattern = '_stopwords'\n",
      "    if use_chi_features==False:\n",
      "        chi_features_pattern = ''\n",
      "    else:\n",
      "        chi_features_pattern = '_chi'\n",
      "    if use_raw_tokens==False:\n",
      "        raw_tokens_pattern = ''\n",
      "        tokenizer = StemmingTokenizer()    \n",
      "    else:\n",
      "        raw_tokens_pattern = '_raw'\n",
      "        tokenizer = RawStemmingTokenizer()    \n",
      "    \n",
      "    # load vocabulary\n",
      "    vocabulary_tbl_name1 = 'ng20{0}_stems{1}_unigrams{2}_df{3}_tf{4}'.format(raw_tokens_pattern,chi_features_pattern,stopwords_pattern,min_df,min_tf)\n",
      "    vocabulary_tbl_name2 = 'ng20{0}_stems{1}_bigrams{2}_df{3}_tf{4}'.format(raw_tokens_pattern,chi_features_pattern,stopwords_pattern,min_df,min_tf)\n",
      "    \n",
      "    vocabulary_tbl_intersect = 'wiki_bigrams'\n",
      "    vocabulary = load_common_vocabulary(vocabulary_tbl_name1,vocabulary_tbl_name2,vocabulary_tbl_intersect,'stem')    \n",
      "\n",
      "    # generate tfidf vectors\n",
      "    vectorizer, corpus_train_tfidf_vectors = vectorize_corpus(corpus_train_data['corpus'],tokenizer,vocabulary,max_ngram_size)\n",
      "    _, corpus_test_tfidf_vectors = vectorize_corpus(corpus_test_data['corpus'],tokenizer,vocabulary,max_ngram_size)\n",
      "    \n",
      "    # classify & evaluate    \n",
      "    results = classify(corpus_train_tfidf_vectors,corpus_train_data['labels'],\n",
      "                       corpus_test_tfidf_vectors,corpus_test_data['labels'],\n",
      "                       max_labels)\n",
      "    \n",
      "    print_top_feature_names(results['classifier'], np.asarray(vectorizer.get_feature_names()), label_names)\n",
      "    \n",
      "    print vocabulary_tbl_name1,'^',vocabulary_tbl_name2,'^',vocabulary_tbl_intersect,' --> ','precision ',results['precision'],'recall ',results['recall'],'f1 ',results['f1']"
     ],
     "language": "python",
     "metadata": {},
     "outputs": [
      {
       "output_type": "stream",
       "stream": "stderr",
       "text": [
        "<input>:1: SyntaxWarning: import * only allowed at module level\n",
        "<input>:1: SyntaxWarning: import * only allowed at module level\n",
        "<input>:1: SyntaxWarning: import * only allowed at module level\n",
        "<input>:1: SyntaxWarning: import * only allowed at module level\n",
        "<input>:1: SyntaxWarning: import * only allowed at module level\n",
        "<input>:1: SyntaxWarning: import * only allowed at module level\n",
        "<input>:1: SyntaxWarning: import * only allowed at module level\n",
        "<input>:1: SyntaxWarning: import * only allowed at module level\n",
        "<input>:1: SyntaxWarning: import * only allowed at module level\n",
        "<input>:1: SyntaxWarning: import * only allowed at module level\n",
        "<input>:1: SyntaxWarning: import * only allowed at module level\n",
        "<input>:1: SyntaxWarning: import * only allowed at module level\n",
        "<input>:1: SyntaxWarning: import * only allowed at module level\n",
        "<input>:1: SyntaxWarning: import * only allowed at module level\n",
        "<input>:1: SyntaxWarning: import * only allowed at module level\n",
        "<input>:1: SyntaxWarning: import * only allowed at module level\n",
        "<input>:1: SyntaxWarning: import * only allowed at module level\n",
        "<input>:1: SyntaxWarning: import * only allowed at module level\n",
        "<input>:1: SyntaxWarning: import * only allowed at module level\n",
        "<input>:1: SyntaxWarning: import * only allowed at module level\n",
        "<input>:1: SyntaxWarning: import * only allowed at module level\n",
        "<input>:1: SyntaxWarning: import * only allowed at module level\n",
        "<input>:1: SyntaxWarning: import * only allowed at module level\n",
        "<input>:1: SyntaxWarning: import * only allowed at module level\n",
        "<input>:1: SyntaxWarning: import * only allowed at module level\n",
        "<input>:1: SyntaxWarning: import * only allowed at module level\n",
        "<input>:1: SyntaxWarning: import * only allowed at module level\n",
        "<input>:1: SyntaxWarning: import * only allowed at module level\n",
        "<input>:1: SyntaxWarning: import * only allowed at module level\n",
        "<input>:1: SyntaxWarning: import * only allowed at module level\n",
        "<input>:1: SyntaxWarning: import * only allowed at module level\n",
        "<input>:1: SyntaxWarning: import * only allowed at module level\n",
        "<input>:1: SyntaxWarning: import * only allowed at module level\n",
        "<input>:1: SyntaxWarning: import * only allowed at module level\n",
        "<input>:1: SyntaxWarning: import * only allowed at module level\n",
        "<input>:1: SyntaxWarning: import * only allowed at module level\n",
        "<input>:1: SyntaxWarning: import * only allowed at module level\n",
        "<input>:1: SyntaxWarning: import * only allowed at module level\n",
        "<input>:1: SyntaxWarning: import * only allowed at module level\n",
        "<input>:1: SyntaxWarning: import * only allowed at module level\n",
        "<input>:1: SyntaxWarning: import * only allowed at module level\n",
        "<input>:1: SyntaxWarning: import * only allowed at module level\n",
        "<input>:1: SyntaxWarning: import * only allowed at module level\n",
        "<input>:1: SyntaxWarning: import * only allowed at module level\n",
        "<input>:1: SyntaxWarning: import * only allowed at module level\n",
        "<input>:1: SyntaxWarning: import * only allowed at module level\n",
        "<input>:1: SyntaxWarning: import * only allowed at module level\n",
        "<input>:1: SyntaxWarning: import * only allowed at module level\n",
        "<input>:1: SyntaxWarning: import * only allowed at module level\n",
        "<input>:1: SyntaxWarning: import * only allowed at module level\n",
        "<input>:1: SyntaxWarning: import * only allowed at module level\n",
        "<input>:1: SyntaxWarning: import * only allowed at module level\n",
        "<input>:1: SyntaxWarning: import * only allowed at module level\n",
        "<input>:1: SyntaxWarning: import * only allowed at module level\n",
        "<input>:1: SyntaxWarning: import * only allowed at module level\n",
        "<input>:1: SyntaxWarning: import * only allowed at module level\n",
        "<input>:1: SyntaxWarning: import * only allowed at module level\n",
        "<input>:1: SyntaxWarning: import * only allowed at module level\n",
        "<input>:1: SyntaxWarning: import * only allowed at module level\n",
        "<input>:1: SyntaxWarning: import * only allowed at module level\n",
        "<input>:1: SyntaxWarning: import * only allowed at module level\n",
        "<input>:1: SyntaxWarning: import * only allowed at module level\n",
        "<input>:1: SyntaxWarning: import * only allowed at module level\n",
        "<input>:1: SyntaxWarning: import * only allowed at module level\n",
        "<input>:1: SyntaxWarning: import * only allowed at module level\n",
        "<input>:1: SyntaxWarning: import * only allowed at module level\n",
        "<input>:1: SyntaxWarning: import * only allowed at module level\n",
        "<input>:1: SyntaxWarning: import * only allowed at module level\n",
        "<input>:1: SyntaxWarning: import * only allowed at module level\n",
        "<input>:1: SyntaxWarning: import * only allowed at module level\n",
        "<input>:1: SyntaxWarning: import * only allowed at module level\n",
        "<input>:1: SyntaxWarning: import * only allowed at module level\n",
        "<input>:1: SyntaxWarning: import * only allowed at module level\n",
        "<input>:1: SyntaxWarning: import * only allowed at module level\n",
        "<input>:1: SyntaxWarning: import * only allowed at module level\n",
        "<input>:1: SyntaxWarning: import * only allowed at module level\n",
        "<input>:1: SyntaxWarning: import * only allowed at module level\n",
        "<input>:1: SyntaxWarning: import * only allowed at module level\n",
        "<input>:1: SyntaxWarning: import * only allowed at module level\n",
        "<input>:1: SyntaxWarning: import * only allowed at module level\n",
        "<input>:1: SyntaxWarning: import * only allowed at module level\n",
        "<input>:1: SyntaxWarning: import * only allowed at module level\n",
        "<input>:1: SyntaxWarning: import * only allowed at module level\n",
        "<input>:1: SyntaxWarning: import * only allowed at module level\n",
        "<input>:1: SyntaxWarning: import * only allowed at module level\n",
        "<input>:1: SyntaxWarning: import * only allowed at module level\n",
        "<input>:1: SyntaxWarning: import * only allowed at module level\n",
        "<input>:1: SyntaxWarning: import * only allowed at module level\n",
        "<input>:1: SyntaxWarning: import * only allowed at module level\n",
        "<input>:1: SyntaxWarning: import * only allowed at module level\n",
        "<input>:1: SyntaxWarning: import * only allowed at module level\n",
        "<input>:1: SyntaxWarning: import * only allowed at module level\n",
        "<input>:1: SyntaxWarning: import * only allowed at module level\n",
        "<ipython-input-25-63852a886223>:1: SyntaxWarning: import * only allowed at module level\n",
        "  def test_stemmed_wiki_bigrams(corpus_train_data,corpus_test_data,label_names,with_stopwords_removal,use_chi_features,use_raw_tokens):\n"
       ]
      }
     ],
     "prompt_number": 25
    },
    {
     "cell_type": "code",
     "collapsed": false,
     "input": [
      "def test_stemmed_bigrams_unigrams(bigrams_src,corpus_train_data,corpus_test_data,label_names,with_stopwords_removal,use_chi_features,use_raw_tokens):\n",
      "    import numpy as np\n",
      "    from stemming_tokenizer import StemmingTokenizer\n",
      "    from stemming_tokenizer import RawStemmingTokenizer\n",
      "    from ng20_globals import *\n",
      "    from ng20_vocabulary_loader import load_common_vocabulary_extend_unigrams\n",
      "    \n",
      "    max_ngram_size = 2\n",
      "        \n",
      "    if with_stopwords_removal==False:\n",
      "        stopwords_pattern = ''\n",
      "    else:\n",
      "        stopwords_pattern = '_stopwords'\n",
      "    if use_chi_features==False:\n",
      "        chi_features_pattern = ''\n",
      "    else:\n",
      "        chi_features_pattern = '_chi'\n",
      "    if use_raw_tokens==False:\n",
      "        raw_tokens_pattern = ''\n",
      "        tokenizer = StemmingTokenizer()\n",
      "    else:\n",
      "        raw_tokens_pattern = '_raw'\n",
      "        tokenizer = RawStemmingTokenizer()\n",
      "    \n",
      "    # load vocabulary\n",
      "    vocabulary_tbl_name = 'ng20{0}_stems{1}_bigrams{2}_df{3}_tf{4}'.format(raw_tokens_pattern,chi_features_pattern,stopwords_pattern,min_df,min_tf)\n",
      "    \n",
      "    if len(bigrams_src)==1:\n",
      "        vocabulary_tbl_intersect = '{0}_bigrams'.format(bigrams_src[0])\n",
      "    else:\n",
      "        vocabulary_tbl_intersect = '{0}_'.format(bigrams_src[0])\n",
      "        for i in range(len(bigrams_src)-1):\n",
      "            vocabulary_tbl_intersect = '{0}{1}_'.format(vocabulary_tbl_intersect,bigrams_src[i+1])\n",
      "        vocabulary_tbl_intersect = '{0}bigrams_vw'.format(vocabulary_tbl_intersect)\n",
      "        \n",
      "    vocabulary = load_common_vocabulary_extend_unigrams(vocabulary_tbl_name,vocabulary_tbl_intersect,'stem')\n",
      "    print 'done loading vocabulary'\n",
      "    \n",
      "    # generate tfidf vectors\n",
      "    vectorizer, corpus_train_tfidf_vectors = vectorize_corpus(corpus_train_data['corpus'],tokenizer,vocabulary,max_ngram_size)\n",
      "    _, corpus_test_tfidf_vectors = vectorize_corpus(corpus_test_data['corpus'],tokenizer,vocabulary,max_ngram_size)\n",
      "    \n",
      "    # classify & evaluate    \n",
      "    results = classify(corpus_train_tfidf_vectors,corpus_train_data['labels'],\n",
      "                       corpus_test_tfidf_vectors,corpus_test_data['labels'],\n",
      "                       max_labels)\n",
      "    \n",
      "    print_top_feature_names(results['classifier'], np.asarray(vectorizer.get_feature_names()), label_names)\n",
      "    \n",
      "    print vocabulary_tbl_name,'^',vocabulary_tbl_intersect,'(extended unigrams) --> ','precision ',results['precision'],'recall ',results['recall'],'f1 ',results['f1']"
     ],
     "language": "python",
     "metadata": {},
     "outputs": [
      {
       "output_type": "stream",
       "stream": "stderr",
       "text": [
        "<input>:1: SyntaxWarning: import * only allowed at module level\n",
        "<input>:1: SyntaxWarning: import * only allowed at module level\n",
        "<input>:1: SyntaxWarning: import * only allowed at module level\n",
        "<input>:1: SyntaxWarning: import * only allowed at module level\n",
        "<input>:1: SyntaxWarning: import * only allowed at module level\n",
        "<input>:1: SyntaxWarning: import * only allowed at module level\n",
        "<input>:1: SyntaxWarning: import * only allowed at module level\n",
        "<input>:1: SyntaxWarning: import * only allowed at module level\n",
        "<input>:1: SyntaxWarning: import * only allowed at module level\n",
        "<input>:1: SyntaxWarning: import * only allowed at module level\n",
        "<input>:1: SyntaxWarning: import * only allowed at module level\n",
        "<input>:1: SyntaxWarning: import * only allowed at module level\n",
        "<input>:1: SyntaxWarning: import * only allowed at module level\n",
        "<input>:1: SyntaxWarning: import * only allowed at module level\n",
        "<input>:1: SyntaxWarning: import * only allowed at module level\n",
        "<input>:1: SyntaxWarning: import * only allowed at module level\n",
        "<input>:1: SyntaxWarning: import * only allowed at module level\n",
        "<input>:1: SyntaxWarning: import * only allowed at module level\n",
        "<input>:1: SyntaxWarning: import * only allowed at module level\n",
        "<input>:1: SyntaxWarning: import * only allowed at module level\n",
        "<input>:1: SyntaxWarning: import * only allowed at module level\n",
        "<input>:1: SyntaxWarning: import * only allowed at module level\n",
        "<input>:1: SyntaxWarning: import * only allowed at module level\n",
        "<input>:1: SyntaxWarning: import * only allowed at module level\n",
        "<input>:1: SyntaxWarning: import * only allowed at module level\n",
        "<input>:1: SyntaxWarning: import * only allowed at module level\n",
        "<input>:1: SyntaxWarning: import * only allowed at module level\n",
        "<input>:1: SyntaxWarning: import * only allowed at module level\n",
        "<input>:1: SyntaxWarning: import * only allowed at module level\n",
        "<input>:1: SyntaxWarning: import * only allowed at module level\n",
        "<input>:1: SyntaxWarning: import * only allowed at module level\n",
        "<input>:1: SyntaxWarning: import * only allowed at module level\n",
        "<input>:1: SyntaxWarning: import * only allowed at module level\n",
        "<input>:1: SyntaxWarning: import * only allowed at module level\n",
        "<input>:1: SyntaxWarning: import * only allowed at module level\n",
        "<input>:1: SyntaxWarning: import * only allowed at module level\n",
        "<input>:1: SyntaxWarning: import * only allowed at module level\n",
        "<input>:1: SyntaxWarning: import * only allowed at module level\n",
        "<input>:1: SyntaxWarning: import * only allowed at module level\n",
        "<input>:1: SyntaxWarning: import * only allowed at module level\n",
        "<input>:1: SyntaxWarning: import * only allowed at module level\n",
        "<input>:1: SyntaxWarning: import * only allowed at module level\n",
        "<input>:1: SyntaxWarning: import * only allowed at module level\n",
        "<input>:1: SyntaxWarning: import * only allowed at module level\n",
        "<input>:1: SyntaxWarning: import * only allowed at module level\n",
        "<input>:1: SyntaxWarning: import * only allowed at module level\n",
        "<input>:1: SyntaxWarning: import * only allowed at module level\n",
        "<input>:1: SyntaxWarning: import * only allowed at module level\n",
        "<input>:1: SyntaxWarning: import * only allowed at module level\n",
        "<input>:1: SyntaxWarning: import * only allowed at module level\n",
        "<input>:1: SyntaxWarning: import * only allowed at module level\n",
        "<input>:1: SyntaxWarning: import * only allowed at module level\n",
        "<input>:1: SyntaxWarning: import * only allowed at module level\n",
        "<input>:1: SyntaxWarning: import * only allowed at module level\n",
        "<input>:1: SyntaxWarning: import * only allowed at module level\n",
        "<input>:1: SyntaxWarning: import * only allowed at module level\n",
        "<input>:1: SyntaxWarning: import * only allowed at module level\n",
        "<input>:1: SyntaxWarning: import * only allowed at module level\n",
        "<input>:1: SyntaxWarning: import * only allowed at module level\n",
        "<input>:1: SyntaxWarning: import * only allowed at module level\n",
        "<input>:1: SyntaxWarning: import * only allowed at module level\n",
        "<input>:1: SyntaxWarning: import * only allowed at module level\n",
        "<input>:1: SyntaxWarning: import * only allowed at module level\n",
        "<input>:1: SyntaxWarning: import * only allowed at module level\n",
        "<input>:1: SyntaxWarning: import * only allowed at module level\n",
        "<input>:1: SyntaxWarning: import * only allowed at module level\n",
        "<input>:1: SyntaxWarning: import * only allowed at module level\n",
        "<input>:1: SyntaxWarning: import * only allowed at module level\n",
        "<input>:1: SyntaxWarning: import * only allowed at module level\n",
        "<input>:1: SyntaxWarning: import * only allowed at module level\n",
        "<input>:1: SyntaxWarning: import * only allowed at module level\n",
        "<input>:1: SyntaxWarning: import * only allowed at module level\n",
        "<input>:1: SyntaxWarning: import * only allowed at module level\n",
        "<input>:1: SyntaxWarning: import * only allowed at module level\n",
        "<input>:1: SyntaxWarning: import * only allowed at module level\n",
        "<input>:1: SyntaxWarning: import * only allowed at module level\n",
        "<input>:1: SyntaxWarning: import * only allowed at module level\n",
        "<input>:1: SyntaxWarning: import * only allowed at module level\n",
        "<input>:1: SyntaxWarning: import * only allowed at module level\n",
        "<input>:1: SyntaxWarning: import * only allowed at module level\n",
        "<input>:1: SyntaxWarning: import * only allowed at module level\n",
        "<input>:1: SyntaxWarning: import * only allowed at module level\n",
        "<input>:1: SyntaxWarning: import * only allowed at module level\n",
        "<input>:1: SyntaxWarning: import * only allowed at module level\n",
        "<input>:1: SyntaxWarning: import * only allowed at module level\n",
        "<input>:1: SyntaxWarning: import * only allowed at module level\n",
        "<input>:1: SyntaxWarning: import * only allowed at module level\n",
        "<input>:1: SyntaxWarning: import * only allowed at module level\n",
        "<input>:1: SyntaxWarning: import * only allowed at module level\n",
        "<input>:1: SyntaxWarning: import * only allowed at module level\n",
        "<input>:1: SyntaxWarning: import * only allowed at module level\n",
        "<input>:1: SyntaxWarning: import * only allowed at module level\n",
        "<input>:1: SyntaxWarning: import * only allowed at module level\n",
        "<input>:1: SyntaxWarning: import * only allowed at module level\n",
        "<input>:1: SyntaxWarning: import * only allowed at module level\n",
        "<input>:1: SyntaxWarning: import * only allowed at module level\n",
        "<input>:1: SyntaxWarning: import * only allowed at module level\n",
        "<input>:1: SyntaxWarning: import * only allowed at module level\n",
        "<input>:1: SyntaxWarning: import * only allowed at module level\n",
        "<input>:1: SyntaxWarning: import * only allowed at module level\n",
        "<input>:1: SyntaxWarning: import * only allowed at module level\n",
        "<input>:1: SyntaxWarning: import * only allowed at module level\n",
        "<input>:1: SyntaxWarning: import * only allowed at module level\n",
        "<input>:1: SyntaxWarning: import * only allowed at module level\n",
        "<input>:1: SyntaxWarning: import * only allowed at module level\n",
        "<ipython-input-26-3b8c86e11104>:1: SyntaxWarning: import * only allowed at module level\n",
        "  def test_stemmed_bigrams_unigrams(bigrams_src,corpus_train_data,corpus_test_data,label_names,with_stopwords_removal,use_chi_features,use_raw_tokens):\n"
       ]
      }
     ],
     "prompt_number": 26
    },
    {
     "cell_type": "code",
     "collapsed": false,
     "input": [
      "def test_stemmed_wiktionary_bigrams(corpus_train_data,corpus_test_data,label_names,with_stopwords_removal,use_chi_features,use_raw_tokens):\n",
      "    import numpy as np\n",
      "    from stemming_tokenizer import StemmingTokenizer\n",
      "    from stemming_tokenizer import RawStemmingTokenizer\n",
      "    from ng20_globals import *\n",
      "    from ng20_vocabulary_loader import load_common_vocabulary\n",
      "    \n",
      "    max_ngram_size = 2\n",
      "        \n",
      "    if with_stopwords_removal==False:\n",
      "        stopwords_pattern = ''\n",
      "    else:\n",
      "        stopwords_pattern = '_stopwords'\n",
      "    if use_chi_features==False:\n",
      "        chi_features_pattern = ''\n",
      "    else:\n",
      "        chi_features_pattern = '_chi'\n",
      "    if use_raw_tokens==False:\n",
      "        raw_tokens_pattern = ''\n",
      "        tokenizer = StemmingTokenizer()\n",
      "    else:\n",
      "        raw_tokens_pattern = '_raw'\n",
      "        tokenizer = RawStemmingTokenizer()\n",
      "    \n",
      "    # load vocabulary\n",
      "    vocabulary_tbl_name1 = 'ng20{0}_stems{1}_unigrams{2}_df{3}_tf{4}'.format(raw_tokens_pattern,chi_features_pattern,stopwords_pattern,min_df,min_tf)\n",
      "    vocabulary_tbl_name2 = 'ng20{0}_stems{1}_bigrams{2}_df{3}_tf{4}'.format(raw_tokens_pattern,chi_features_pattern,stopwords_pattern,min_df,min_tf)\n",
      "    \n",
      "    vocabulary_tbl_intersect = 'wiktionary_bigrams'\n",
      "    vocabulary = load_common_vocabulary(vocabulary_tbl_name1,vocabulary_tbl_name2,vocabulary_tbl_intersect,'stem')\n",
      "\n",
      "    # generate tfidf vectors\n",
      "    vectorizer, corpus_train_tfidf_vectors = vectorize_corpus(corpus_train_data['corpus'],tokenizer,vocabulary,max_ngram_size)\n",
      "    _, corpus_test_tfidf_vectors = vectorize_corpus(corpus_test_data['corpus'],tokenizer,vocabulary,max_ngram_size)\n",
      "    \n",
      "    # classify & evaluate    \n",
      "    results = classify(corpus_train_tfidf_vectors,corpus_train_data['labels'],\n",
      "                       corpus_test_tfidf_vectors,corpus_test_data['labels'],\n",
      "                       max_labels)\n",
      "    \n",
      "    print_top_feature_names(results['classifier'], np.asarray(vectorizer.get_feature_names()), label_names)\n",
      "    \n",
      "    print vocabulary_tbl_name1,'^',vocabulary_tbl_name2,'^',vocabulary_tbl_intersect,' --> ','precision ',results['precision'],'recall ',results['recall'],'f1 ',results['f1']"
     ],
     "language": "python",
     "metadata": {},
     "outputs": [
      {
       "output_type": "stream",
       "stream": "stderr",
       "text": [
        "<input>:1: SyntaxWarning: import * only allowed at module level\n",
        "<input>:1: SyntaxWarning: import * only allowed at module level\n",
        "<input>:1: SyntaxWarning: import * only allowed at module level\n",
        "<input>:1: SyntaxWarning: import * only allowed at module level\n",
        "<input>:1: SyntaxWarning: import * only allowed at module level\n",
        "<input>:1: SyntaxWarning: import * only allowed at module level\n",
        "<input>:1: SyntaxWarning: import * only allowed at module level\n",
        "<input>:1: SyntaxWarning: import * only allowed at module level\n",
        "<input>:1: SyntaxWarning: import * only allowed at module level\n",
        "<input>:1: SyntaxWarning: import * only allowed at module level\n",
        "<input>:1: SyntaxWarning: import * only allowed at module level\n",
        "<input>:1: SyntaxWarning: import * only allowed at module level\n",
        "<input>:1: SyntaxWarning: import * only allowed at module level\n",
        "<input>:1: SyntaxWarning: import * only allowed at module level\n",
        "<input>:1: SyntaxWarning: import * only allowed at module level\n",
        "<input>:1: SyntaxWarning: import * only allowed at module level\n",
        "<input>:1: SyntaxWarning: import * only allowed at module level\n",
        "<input>:1: SyntaxWarning: import * only allowed at module level\n",
        "<input>:1: SyntaxWarning: import * only allowed at module level\n",
        "<input>:1: SyntaxWarning: import * only allowed at module level\n",
        "<input>:1: SyntaxWarning: import * only allowed at module level\n",
        "<input>:1: SyntaxWarning: import * only allowed at module level\n",
        "<input>:1: SyntaxWarning: import * only allowed at module level\n",
        "<input>:1: SyntaxWarning: import * only allowed at module level\n",
        "<input>:1: SyntaxWarning: import * only allowed at module level\n",
        "<input>:1: SyntaxWarning: import * only allowed at module level\n",
        "<input>:1: SyntaxWarning: import * only allowed at module level\n",
        "<input>:1: SyntaxWarning: import * only allowed at module level\n",
        "<input>:1: SyntaxWarning: import * only allowed at module level\n",
        "<input>:1: SyntaxWarning: import * only allowed at module level\n",
        "<input>:1: SyntaxWarning: import * only allowed at module level\n",
        "<input>:1: SyntaxWarning: import * only allowed at module level\n",
        "<input>:1: SyntaxWarning: import * only allowed at module level\n",
        "<input>:1: SyntaxWarning: import * only allowed at module level\n",
        "<input>:1: SyntaxWarning: import * only allowed at module level\n",
        "<input>:1: SyntaxWarning: import * only allowed at module level\n",
        "<input>:1: SyntaxWarning: import * only allowed at module level\n",
        "<input>:1: SyntaxWarning: import * only allowed at module level\n",
        "<input>:1: SyntaxWarning: import * only allowed at module level\n",
        "<input>:1: SyntaxWarning: import * only allowed at module level\n",
        "<input>:1: SyntaxWarning: import * only allowed at module level\n",
        "<input>:1: SyntaxWarning: import * only allowed at module level\n",
        "<input>:1: SyntaxWarning: import * only allowed at module level\n",
        "<input>:1: SyntaxWarning: import * only allowed at module level\n",
        "<input>:1: SyntaxWarning: import * only allowed at module level\n",
        "<input>:1: SyntaxWarning: import * only allowed at module level\n",
        "<input>:1: SyntaxWarning: import * only allowed at module level\n",
        "<input>:1: SyntaxWarning: import * only allowed at module level\n",
        "<input>:1: SyntaxWarning: import * only allowed at module level\n",
        "<input>:1: SyntaxWarning: import * only allowed at module level\n",
        "<input>:1: SyntaxWarning: import * only allowed at module level\n",
        "<input>:1: SyntaxWarning: import * only allowed at module level\n",
        "<input>:1: SyntaxWarning: import * only allowed at module level\n",
        "<input>:1: SyntaxWarning: import * only allowed at module level\n",
        "<input>:1: SyntaxWarning: import * only allowed at module level\n",
        "<input>:1: SyntaxWarning: import * only allowed at module level\n",
        "<input>:1: SyntaxWarning: import * only allowed at module level\n",
        "<input>:1: SyntaxWarning: import * only allowed at module level\n",
        "<input>:1: SyntaxWarning: import * only allowed at module level\n",
        "<input>:1: SyntaxWarning: import * only allowed at module level\n",
        "<input>:1: SyntaxWarning: import * only allowed at module level\n",
        "<input>:1: SyntaxWarning: import * only allowed at module level\n",
        "<input>:1: SyntaxWarning: import * only allowed at module level\n",
        "<input>:1: SyntaxWarning: import * only allowed at module level\n",
        "<input>:1: SyntaxWarning: import * only allowed at module level\n",
        "<input>:1: SyntaxWarning: import * only allowed at module level\n",
        "<input>:1: SyntaxWarning: import * only allowed at module level\n",
        "<input>:1: SyntaxWarning: import * only allowed at module level\n",
        "<input>:1: SyntaxWarning: import * only allowed at module level\n",
        "<input>:1: SyntaxWarning: import * only allowed at module level\n",
        "<input>:1: SyntaxWarning: import * only allowed at module level\n",
        "<input>:1: SyntaxWarning: import * only allowed at module level\n",
        "<input>:1: SyntaxWarning: import * only allowed at module level\n",
        "<input>:1: SyntaxWarning: import * only allowed at module level\n",
        "<input>:1: SyntaxWarning: import * only allowed at module level\n",
        "<input>:1: SyntaxWarning: import * only allowed at module level\n",
        "<input>:1: SyntaxWarning: import * only allowed at module level\n",
        "<input>:1: SyntaxWarning: import * only allowed at module level\n",
        "<input>:1: SyntaxWarning: import * only allowed at module level\n",
        "<input>:1: SyntaxWarning: import * only allowed at module level\n",
        "<input>:1: SyntaxWarning: import * only allowed at module level\n",
        "<input>:1: SyntaxWarning: import * only allowed at module level\n",
        "<input>:1: SyntaxWarning: import * only allowed at module level\n",
        "<input>:1: SyntaxWarning: import * only allowed at module level\n",
        "<input>:1: SyntaxWarning: import * only allowed at module level\n",
        "<input>:1: SyntaxWarning: import * only allowed at module level\n",
        "<input>:1: SyntaxWarning: import * only allowed at module level\n",
        "<input>:1: SyntaxWarning: import * only allowed at module level\n",
        "<input>:1: SyntaxWarning: import * only allowed at module level\n",
        "<input>:1: SyntaxWarning: import * only allowed at module level\n",
        "<input>:1: SyntaxWarning: import * only allowed at module level\n",
        "<input>:1: SyntaxWarning: import * only allowed at module level\n",
        "<input>:1: SyntaxWarning: import * only allowed at module level\n",
        "<ipython-input-27-cc32c0f5481c>:1: SyntaxWarning: import * only allowed at module level\n",
        "  def test_stemmed_wiktionary_bigrams(corpus_train_data,corpus_test_data,label_names,with_stopwords_removal,use_chi_features,use_raw_tokens):\n"
       ]
      }
     ],
     "prompt_number": 27
    },
    {
     "cell_type": "code",
     "collapsed": false,
     "input": [
      "def test_stemmed_google_bigrams(corpus_train_data,corpus_test_data,label_names,with_stopwords_removal,use_chi_features,use_raw_tokens):\n",
      "    import numpy as np\n",
      "    from stemming_tokenizer import StemmingTokenizer\n",
      "    from stemming_tokenizer import RawStemmingTokenizer\n",
      "    from ng20_globals import *\n",
      "    from ng20_vocabulary_loader import load_common_vocabulary\n",
      "    \n",
      "    max_ngram_size = 2\n",
      "        \n",
      "    if with_stopwords_removal==False:\n",
      "        stopwords_pattern = ''\n",
      "    else:\n",
      "        stopwords_pattern = '_stopwords'\n",
      "    if use_chi_features==False:\n",
      "        chi_features_pattern = ''\n",
      "    else:\n",
      "        chi_features_pattern = '_chi'\n",
      "    if use_raw_tokens==False:\n",
      "        raw_tokens_pattern = ''\n",
      "        tokenizer = StemmingTokenizer()\n",
      "    else:\n",
      "        raw_tokens_pattern = '_raw'\n",
      "        tokenizer = RawStemmingTokenizer()\n",
      "    \n",
      "    # load vocabulary\n",
      "    vocabulary_tbl_name1 = 'ng20{0}_stems{1}_unigrams{2}_df{3}_tf{4}'.format(raw_tokens_pattern,chi_features_pattern,stopwords_pattern,min_df,min_tf)\n",
      "    vocabulary_tbl_name2 = 'ng20{0}_stems{1}_bigrams{2}_df{3}_tf{4}'.format(raw_tokens_pattern,chi_features_pattern,stopwords_pattern,min_df,min_tf)\n",
      "    \n",
      "    vocabulary_tbl_intersect = 'google_bigrams'\n",
      "    vocabulary = load_common_vocabulary(vocabulary_tbl_name1,vocabulary_tbl_name2,vocabulary_tbl_intersect,'stem')\n",
      "\n",
      "    # generate tfidf vectors\n",
      "    vectorizer, corpus_train_tfidf_vectors = vectorize_corpus(corpus_train_data['corpus'],tokenizer,vocabulary,max_ngram_size)\n",
      "    _, corpus_test_tfidf_vectors = vectorize_corpus(corpus_test_data['corpus'],tokenizer,vocabulary,max_ngram_size)\n",
      "    \n",
      "    # classify & evaluate    \n",
      "    results = classify(corpus_train_tfidf_vectors,corpus_train_data['labels'],\n",
      "                       corpus_test_tfidf_vectors,corpus_test_data['labels'],\n",
      "                       max_labels)\n",
      "    \n",
      "    print_top_feature_names(results['classifier'], np.asarray(vectorizer.get_feature_names()), label_names)\n",
      "    \n",
      "    print vocabulary_tbl_name1,'^',vocabulary_tbl_name2,'^',vocabulary_tbl_intersect,' --> ','precision ',results['precision'],'recall ',results['recall'],'f1 ',results['f1']"
     ],
     "language": "python",
     "metadata": {},
     "outputs": [
      {
       "output_type": "stream",
       "stream": "stderr",
       "text": [
        "<input>:1: SyntaxWarning: import * only allowed at module level\n",
        "<input>:1: SyntaxWarning: import * only allowed at module level\n",
        "<input>:1: SyntaxWarning: import * only allowed at module level\n",
        "<input>:1: SyntaxWarning: import * only allowed at module level\n",
        "<input>:1: SyntaxWarning: import * only allowed at module level\n",
        "<input>:1: SyntaxWarning: import * only allowed at module level\n",
        "<input>:1: SyntaxWarning: import * only allowed at module level\n",
        "<input>:1: SyntaxWarning: import * only allowed at module level\n",
        "<input>:1: SyntaxWarning: import * only allowed at module level\n",
        "<input>:1: SyntaxWarning: import * only allowed at module level\n",
        "<input>:1: SyntaxWarning: import * only allowed at module level\n",
        "<input>:1: SyntaxWarning: import * only allowed at module level\n",
        "<input>:1: SyntaxWarning: import * only allowed at module level\n",
        "<input>:1: SyntaxWarning: import * only allowed at module level\n",
        "<input>:1: SyntaxWarning: import * only allowed at module level\n",
        "<input>:1: SyntaxWarning: import * only allowed at module level\n",
        "<input>:1: SyntaxWarning: import * only allowed at module level\n",
        "<input>:1: SyntaxWarning: import * only allowed at module level\n",
        "<input>:1: SyntaxWarning: import * only allowed at module level\n",
        "<input>:1: SyntaxWarning: import * only allowed at module level\n",
        "<input>:1: SyntaxWarning: import * only allowed at module level\n",
        "<input>:1: SyntaxWarning: import * only allowed at module level\n",
        "<input>:1: SyntaxWarning: import * only allowed at module level\n",
        "<input>:1: SyntaxWarning: import * only allowed at module level\n",
        "<input>:1: SyntaxWarning: import * only allowed at module level\n",
        "<input>:1: SyntaxWarning: import * only allowed at module level\n",
        "<input>:1: SyntaxWarning: import * only allowed at module level\n",
        "<input>:1: SyntaxWarning: import * only allowed at module level\n",
        "<input>:1: SyntaxWarning: import * only allowed at module level\n",
        "<input>:1: SyntaxWarning: import * only allowed at module level\n",
        "<input>:1: SyntaxWarning: import * only allowed at module level\n",
        "<input>:1: SyntaxWarning: import * only allowed at module level\n",
        "<input>:1: SyntaxWarning: import * only allowed at module level\n",
        "<input>:1: SyntaxWarning: import * only allowed at module level\n",
        "<input>:1: SyntaxWarning: import * only allowed at module level\n",
        "<input>:1: SyntaxWarning: import * only allowed at module level\n",
        "<input>:1: SyntaxWarning: import * only allowed at module level\n",
        "<input>:1: SyntaxWarning: import * only allowed at module level\n",
        "<input>:1: SyntaxWarning: import * only allowed at module level\n",
        "<input>:1: SyntaxWarning: import * only allowed at module level\n",
        "<input>:1: SyntaxWarning: import * only allowed at module level\n",
        "<input>:1: SyntaxWarning: import * only allowed at module level\n",
        "<input>:1: SyntaxWarning: import * only allowed at module level\n",
        "<input>:1: SyntaxWarning: import * only allowed at module level\n",
        "<input>:1: SyntaxWarning: import * only allowed at module level\n",
        "<input>:1: SyntaxWarning: import * only allowed at module level\n",
        "<input>:1: SyntaxWarning: import * only allowed at module level\n",
        "<input>:1: SyntaxWarning: import * only allowed at module level\n",
        "<input>:1: SyntaxWarning: import * only allowed at module level\n",
        "<input>:1: SyntaxWarning: import * only allowed at module level\n",
        "<input>:1: SyntaxWarning: import * only allowed at module level\n",
        "<input>:1: SyntaxWarning: import * only allowed at module level\n",
        "<input>:1: SyntaxWarning: import * only allowed at module level\n",
        "<input>:1: SyntaxWarning: import * only allowed at module level\n",
        "<input>:1: SyntaxWarning: import * only allowed at module level\n",
        "<input>:1: SyntaxWarning: import * only allowed at module level\n",
        "<input>:1: SyntaxWarning: import * only allowed at module level\n",
        "<input>:1: SyntaxWarning: import * only allowed at module level\n",
        "<input>:1: SyntaxWarning: import * only allowed at module level\n",
        "<input>:1: SyntaxWarning: import * only allowed at module level\n",
        "<input>:1: SyntaxWarning: import * only allowed at module level\n",
        "<input>:1: SyntaxWarning: import * only allowed at module level\n",
        "<input>:1: SyntaxWarning: import * only allowed at module level\n",
        "<input>:1: SyntaxWarning: import * only allowed at module level\n",
        "<input>:1: SyntaxWarning: import * only allowed at module level\n",
        "<input>:1: SyntaxWarning: import * only allowed at module level\n",
        "<input>:1: SyntaxWarning: import * only allowed at module level\n",
        "<input>:1: SyntaxWarning: import * only allowed at module level\n",
        "<input>:1: SyntaxWarning: import * only allowed at module level\n",
        "<input>:1: SyntaxWarning: import * only allowed at module level\n",
        "<input>:1: SyntaxWarning: import * only allowed at module level\n",
        "<input>:1: SyntaxWarning: import * only allowed at module level\n",
        "<input>:1: SyntaxWarning: import * only allowed at module level\n",
        "<input>:1: SyntaxWarning: import * only allowed at module level\n",
        "<input>:1: SyntaxWarning: import * only allowed at module level\n",
        "<input>:1: SyntaxWarning: import * only allowed at module level\n",
        "<input>:1: SyntaxWarning: import * only allowed at module level\n",
        "<input>:1: SyntaxWarning: import * only allowed at module level\n",
        "<input>:1: SyntaxWarning: import * only allowed at module level\n",
        "<input>:1: SyntaxWarning: import * only allowed at module level\n",
        "<input>:1: SyntaxWarning: import * only allowed at module level\n",
        "<input>:1: SyntaxWarning: import * only allowed at module level\n",
        "<input>:1: SyntaxWarning: import * only allowed at module level\n",
        "<input>:1: SyntaxWarning: import * only allowed at module level\n",
        "<input>:1: SyntaxWarning: import * only allowed at module level\n",
        "<input>:1: SyntaxWarning: import * only allowed at module level\n",
        "<input>:1: SyntaxWarning: import * only allowed at module level\n",
        "<input>:1: SyntaxWarning: import * only allowed at module level\n",
        "<input>:1: SyntaxWarning: import * only allowed at module level\n",
        "<input>:1: SyntaxWarning: import * only allowed at module level\n",
        "<input>:1: SyntaxWarning: import * only allowed at module level\n",
        "<input>:1: SyntaxWarning: import * only allowed at module level\n",
        "<input>:1: SyntaxWarning: import * only allowed at module level\n",
        "<ipython-input-28-2d32e6deeba1>:1: SyntaxWarning: import * only allowed at module level\n",
        "  def test_stemmed_google_bigrams(corpus_train_data,corpus_test_data,label_names,with_stopwords_removal,use_chi_features,use_raw_tokens):\n"
       ]
      }
     ],
     "prompt_number": 28
    },
    {
     "cell_type": "code",
     "collapsed": false,
     "input": [
      "def test_stemmed_all_bigrams(corpus_train_data,corpus_test_data,label_names,with_stopwords_removal,use_chi_features,use_raw_tokens):\n",
      "    import numpy as np\n",
      "    from stemming_tokenizer import StemmingTokenizer\n",
      "    from stemming_tokenizer import RawStemmingTokenizer\n",
      "    from ng20_globals import *\n",
      "    from ng20_vocabulary_loader import load_common_vocabulary\n",
      "    \n",
      "    max_ngram_size = 2\n",
      "    \n",
      "    if with_stopwords_removal==False:\n",
      "        stopwords_pattern = ''\n",
      "    else:\n",
      "        stopwords_pattern = '_stopwords'\n",
      "    if use_chi_features==False:\n",
      "        chi_features_pattern = ''\n",
      "    else:\n",
      "        chi_features_pattern = '_chi'\n",
      "    if use_raw_tokens==False:\n",
      "        raw_tokens_pattern = ''\n",
      "        tokenizer = StemmingTokenizer()\n",
      "    else:\n",
      "        raw_tokens_pattern = '_raw'\n",
      "        tokenizer = RawStemmingTokenizer()\n",
      "    \n",
      "    # load vocabulary\n",
      "    vocabulary_tbl_name1 = 'ng20{0}_stems{1}_unigrams{2}_df{3}_tf{4}'.format(raw_tokens_pattern,chi_features_pattern,stopwords_pattern,min_df,min_tf)\n",
      "    vocabulary_tbl_name2 = 'ng20{0}_stems{1}_bigrams{2}_df{3}_tf{4}'.format(raw_tokens_pattern,chi_features_pattern,stopwords_pattern,min_df,min_tf)\n",
      "    \n",
      "    vocabulary_tbl_intersect = 'wiki_wiktionary_google_bigrams_vw'\n",
      "    vocabulary = load_common_vocabulary(vocabulary_tbl_name1,vocabulary_tbl_name2,vocabulary_tbl_intersect,'stem')\n",
      "\n",
      "    # generate tfidf vectors\n",
      "    vectorizer, corpus_train_tfidf_vectors = vectorize_corpus(corpus_train_data['corpus'],tokenizer,vocabulary,max_ngram_size)\n",
      "    _, corpus_test_tfidf_vectors = vectorize_corpus(corpus_test_data['corpus'],tokenizer,vocabulary,max_ngram_size)\n",
      "    \n",
      "    # classify & evaluate    \n",
      "    results = classify(corpus_train_tfidf_vectors,corpus_train_data['labels'],\n",
      "                       corpus_test_tfidf_vectors,corpus_test_data['labels'],\n",
      "                       max_labels)\n",
      "    \n",
      "    print_top_feature_names(results['classifier'], np.asarray(vectorizer.get_feature_names()), label_names)\n",
      "    \n",
      "    print vocabulary_tbl_name1,'^',vocabulary_tbl_name2,'^',vocabulary_tbl_intersect,' --> ','precision ',results['precision'],'recall ',results['recall'],'f1 ',results['f1']"
     ],
     "language": "python",
     "metadata": {},
     "outputs": [
      {
       "output_type": "stream",
       "stream": "stderr",
       "text": [
        "<input>:1: SyntaxWarning: import * only allowed at module level\n",
        "<input>:1: SyntaxWarning: import * only allowed at module level\n",
        "<input>:1: SyntaxWarning: import * only allowed at module level\n",
        "<input>:1: SyntaxWarning: import * only allowed at module level\n",
        "<input>:1: SyntaxWarning: import * only allowed at module level\n",
        "<input>:1: SyntaxWarning: import * only allowed at module level\n",
        "<input>:1: SyntaxWarning: import * only allowed at module level\n",
        "<input>:1: SyntaxWarning: import * only allowed at module level\n",
        "<input>:1: SyntaxWarning: import * only allowed at module level\n",
        "<input>:1: SyntaxWarning: import * only allowed at module level\n",
        "<input>:1: SyntaxWarning: import * only allowed at module level\n",
        "<input>:1: SyntaxWarning: import * only allowed at module level\n",
        "<input>:1: SyntaxWarning: import * only allowed at module level\n",
        "<input>:1: SyntaxWarning: import * only allowed at module level\n",
        "<input>:1: SyntaxWarning: import * only allowed at module level\n",
        "<input>:1: SyntaxWarning: import * only allowed at module level\n",
        "<input>:1: SyntaxWarning: import * only allowed at module level\n",
        "<input>:1: SyntaxWarning: import * only allowed at module level\n",
        "<input>:1: SyntaxWarning: import * only allowed at module level\n",
        "<input>:1: SyntaxWarning: import * only allowed at module level\n",
        "<input>:1: SyntaxWarning: import * only allowed at module level\n",
        "<input>:1: SyntaxWarning: import * only allowed at module level\n",
        "<input>:1: SyntaxWarning: import * only allowed at module level\n",
        "<input>:1: SyntaxWarning: import * only allowed at module level\n",
        "<input>:1: SyntaxWarning: import * only allowed at module level\n",
        "<input>:1: SyntaxWarning: import * only allowed at module level\n",
        "<input>:1: SyntaxWarning: import * only allowed at module level\n",
        "<input>:1: SyntaxWarning: import * only allowed at module level\n",
        "<input>:1: SyntaxWarning: import * only allowed at module level\n",
        "<input>:1: SyntaxWarning: import * only allowed at module level\n",
        "<input>:1: SyntaxWarning: import * only allowed at module level\n",
        "<input>:1: SyntaxWarning: import * only allowed at module level\n",
        "<input>:1: SyntaxWarning: import * only allowed at module level\n",
        "<input>:1: SyntaxWarning: import * only allowed at module level\n",
        "<input>:1: SyntaxWarning: import * only allowed at module level\n",
        "<input>:1: SyntaxWarning: import * only allowed at module level\n",
        "<input>:1: SyntaxWarning: import * only allowed at module level\n",
        "<input>:1: SyntaxWarning: import * only allowed at module level\n",
        "<input>:1: SyntaxWarning: import * only allowed at module level\n",
        "<input>:1: SyntaxWarning: import * only allowed at module level\n",
        "<input>:1: SyntaxWarning: import * only allowed at module level\n",
        "<input>:1: SyntaxWarning: import * only allowed at module level\n",
        "<input>:1: SyntaxWarning: import * only allowed at module level\n",
        "<input>:1: SyntaxWarning: import * only allowed at module level\n",
        "<input>:1: SyntaxWarning: import * only allowed at module level\n",
        "<input>:1: SyntaxWarning: import * only allowed at module level\n",
        "<input>:1: SyntaxWarning: import * only allowed at module level\n",
        "<input>:1: SyntaxWarning: import * only allowed at module level\n",
        "<input>:1: SyntaxWarning: import * only allowed at module level\n",
        "<input>:1: SyntaxWarning: import * only allowed at module level\n",
        "<input>:1: SyntaxWarning: import * only allowed at module level\n",
        "<input>:1: SyntaxWarning: import * only allowed at module level\n",
        "<input>:1: SyntaxWarning: import * only allowed at module level\n",
        "<input>:1: SyntaxWarning: import * only allowed at module level\n",
        "<input>:1: SyntaxWarning: import * only allowed at module level\n",
        "<input>:1: SyntaxWarning: import * only allowed at module level\n",
        "<input>:1: SyntaxWarning: import * only allowed at module level\n",
        "<input>:1: SyntaxWarning: import * only allowed at module level\n",
        "<input>:1: SyntaxWarning: import * only allowed at module level\n",
        "<input>:1: SyntaxWarning: import * only allowed at module level\n",
        "<input>:1: SyntaxWarning: import * only allowed at module level\n",
        "<input>:1: SyntaxWarning: import * only allowed at module level\n",
        "<input>:1: SyntaxWarning: import * only allowed at module level\n",
        "<input>:1: SyntaxWarning: import * only allowed at module level\n",
        "<input>:1: SyntaxWarning: import * only allowed at module level\n",
        "<input>:1: SyntaxWarning: import * only allowed at module level\n",
        "<input>:1: SyntaxWarning: import * only allowed at module level\n",
        "<input>:1: SyntaxWarning: import * only allowed at module level\n",
        "<input>:1: SyntaxWarning: import * only allowed at module level\n",
        "<input>:1: SyntaxWarning: import * only allowed at module level\n",
        "<input>:1: SyntaxWarning: import * only allowed at module level\n",
        "<input>:1: SyntaxWarning: import * only allowed at module level\n",
        "<input>:1: SyntaxWarning: import * only allowed at module level\n",
        "<input>:1: SyntaxWarning: import * only allowed at module level\n",
        "<input>:1: SyntaxWarning: import * only allowed at module level\n",
        "<input>:1: SyntaxWarning: import * only allowed at module level\n",
        "<input>:1: SyntaxWarning: import * only allowed at module level\n",
        "<input>:1: SyntaxWarning: import * only allowed at module level\n",
        "<input>:1: SyntaxWarning: import * only allowed at module level\n",
        "<input>:1: SyntaxWarning: import * only allowed at module level\n",
        "<input>:1: SyntaxWarning: import * only allowed at module level\n",
        "<input>:1: SyntaxWarning: import * only allowed at module level\n",
        "<input>:1: SyntaxWarning: import * only allowed at module level\n",
        "<input>:1: SyntaxWarning: import * only allowed at module level\n",
        "<input>:1: SyntaxWarning: import * only allowed at module level\n",
        "<input>:1: SyntaxWarning: import * only allowed at module level\n",
        "<input>:1: SyntaxWarning: import * only allowed at module level\n",
        "<input>:1: SyntaxWarning: import * only allowed at module level\n",
        "<input>:1: SyntaxWarning: import * only allowed at module level\n",
        "<input>:1: SyntaxWarning: import * only allowed at module level\n",
        "<input>:1: SyntaxWarning: import * only allowed at module level\n",
        "<input>:1: SyntaxWarning: import * only allowed at module level\n",
        "<input>:1: SyntaxWarning: import * only allowed at module level\n",
        "<ipython-input-29-200cfeb781eb>:1: SyntaxWarning: import * only allowed at module level\n",
        "  def test_stemmed_all_bigrams(corpus_train_data,corpus_test_data,label_names,with_stopwords_removal,use_chi_features,use_raw_tokens):\n"
       ]
      }
     ],
     "prompt_number": 29
    },
    {
     "cell_type": "code",
     "collapsed": false,
     "input": [
      "def test():\n",
      "    from ng20_corpus_loader import load_corpus_and_labels\n",
      "    from ng20_corpus_loader import load_corpus_with_labels_mappings\n",
      "    from ng20_corpus_loader import load_label_names\n",
      "    \n",
      "    # load 20ng docs with class lables from DB\n",
      "    corpus_train_data = load_corpus_and_labels('train')\n",
      "    print 'done loading {0} train records and {1} labels.'.format(len(corpus_train_data['corpus']),len(corpus_train_data['labels_dic']))\n",
      "\n",
      "    corpus_test_data = load_corpus_with_labels_mappings('test',corpus_train_data['labels_dic'])\n",
      "    print 'done loading {0} test records.'.format(len(corpus_test_data['corpus']))\n",
      "    \n",
      "    label_names = load_label_names()\n",
      "    \n",
      "    stopwords_removal_mask = 1\n",
      "    chi_features_mask = 2\n",
      "    raw_tokens_mask = 4\n",
      "    for i in range(4,6): # test w/o stopword removal and w/o chi square features and w/o raw tokens\n",
      "        stopwords_removal = i&stopwords_removal_mask==stopwords_removal_mask\n",
      "        use_chi_features = i&chi_features_mask==chi_features_mask\n",
      "        use_raw_tokens = i&raw_tokens_mask==raw_tokens_mask\n",
      "        \n",
      "        test_all_unigrams({'corpus':corpus_train_data['corpus'],'labels':corpus_train_data['labels']},\n",
      "                                 {'corpus':corpus_test_data['corpus'],'labels':corpus_test_data['labels']},\n",
      "                                 label_names,stopwords_removal,use_chi_features,use_raw_tokens)\n",
      "        \n",
      "        test_all_bigrams({'corpus':corpus_train_data['corpus'],'labels':corpus_train_data['labels']},\n",
      "                                 {'corpus':corpus_test_data['corpus'],'labels':corpus_test_data['labels']},\n",
      "                                 label_names,stopwords_removal,use_chi_features,use_raw_tokens)\n",
      "        \n",
      "        test_lemmatized_unigrams({'corpus':corpus_train_data['corpus'],'labels':corpus_train_data['labels']},\n",
      "                                 {'corpus':corpus_test_data['corpus'],'labels':corpus_test_data['labels']},\n",
      "                                 label_names,stopwords_removal,use_chi_features,use_raw_tokens)\n",
      "        \n",
      "        test_lemmatized_bigrams({'corpus':corpus_train_data['corpus'],'labels':corpus_train_data['labels']},\n",
      "                                 {'corpus':corpus_test_data['corpus'],'labels':corpus_test_data['labels']},\n",
      "                                 label_names,stopwords_removal,use_chi_features,use_raw_tokens)\n",
      "        \n",
      "        #test_lemmatized_bigrams_with_LSA({'corpus':corpus_train_data['corpus'],'labels':corpus_train_data['labels']},\n",
      "        #                         {'corpus':corpus_test_data['corpus'],'labels':corpus_test_data['labels']},\n",
      "        #                         label_names,stopwords_removal,use_chi_features,use_raw_tokens,113240)\n",
      "        \n",
      "        test_lemmatized_wiki_bigrams({'corpus':corpus_train_data['corpus'],'labels':corpus_train_data['labels']},\n",
      "                                 {'corpus':corpus_test_data['corpus'],'labels':corpus_test_data['labels']},\n",
      "                                 label_names,stopwords_removal,use_chi_features,use_raw_tokens)\n",
      "        \n",
      "        test_lemmatized_bigrams_unigrams(['wiki'],{'corpus':corpus_train_data['corpus'],'labels':corpus_train_data['labels']},\n",
      "                                 {'corpus':corpus_test_data['corpus'],'labels':corpus_test_data['labels']},\n",
      "                                 label_names,stopwords_removal,use_chi_features,use_raw_tokens)\n",
      "        \n",
      "        test_lemmatized_wiktionary_bigrams({'corpus':corpus_train_data['corpus'],'labels':corpus_train_data['labels']},\n",
      "                                 {'corpus':corpus_test_data['corpus'],'labels':corpus_test_data['labels']},\n",
      "                                 label_names,stopwords_removal,use_chi_features,use_raw_tokens)\n",
      "        \n",
      "        test_lemmatized_bigrams_unigrams(['wiktionary'],{'corpus':corpus_train_data['corpus'],'labels':corpus_train_data['labels']},\n",
      "                                 {'corpus':corpus_test_data['corpus'],'labels':corpus_test_data['labels']},\n",
      "                                 label_names,stopwords_removal,use_chi_features,use_raw_tokens)\n",
      "        \n",
      "        test_lemmatized_google_bigrams({'corpus':corpus_train_data['corpus'],'labels':corpus_train_data['labels']},\n",
      "                                 {'corpus':corpus_test_data['corpus'],'labels':corpus_test_data['labels']},\n",
      "                                 label_names,stopwords_removal,use_chi_features,use_raw_tokens)\n",
      "        \n",
      "        test_lemmatized_bigrams_unigrams(['google'],{'corpus':corpus_train_data['corpus'],'labels':corpus_train_data['labels']},\n",
      "                                 {'corpus':corpus_test_data['corpus'],'labels':corpus_test_data['labels']},\n",
      "                                 label_names,stopwords_removal,use_chi_features,use_raw_tokens)\n",
      "        \n",
      "        test_lemmatized_wiki_wiktionary_bigrams({'corpus':corpus_train_data['corpus'],'labels':corpus_train_data['labels']},\n",
      "                                 {'corpus':corpus_test_data['corpus'],'labels':corpus_test_data['labels']},\n",
      "                                 label_names,stopwords_removal,use_chi_features,use_raw_tokens)\n",
      "        \n",
      "        test_lemmatized_bigrams_unigrams(['wiki','wiktionary'],{'corpus':corpus_train_data['corpus'],'labels':corpus_train_data['labels']},\n",
      "                                 {'corpus':corpus_test_data['corpus'],'labels':corpus_test_data['labels']},\n",
      "                                 label_names,stopwords_removal,use_chi_features,use_raw_tokens)\n",
      "        \n",
      "        test_lemmatized_wiki_google_bigrams({'corpus':corpus_train_data['corpus'],'labels':corpus_train_data['labels']},\n",
      "                                 {'corpus':corpus_test_data['corpus'],'labels':corpus_test_data['labels']},\n",
      "                                 label_names,stopwords_removal,use_chi_features,use_raw_tokens)\n",
      "        \n",
      "        test_lemmatized_bigrams_unigrams(['wiki','google'],{'corpus':corpus_train_data['corpus'],'labels':corpus_train_data['labels']},\n",
      "                                 {'corpus':corpus_test_data['corpus'],'labels':corpus_test_data['labels']},\n",
      "                                 label_names,stopwords_removal,use_chi_features,use_raw_tokens)\n",
      "        \n",
      "        test_lemmatized_wiktionary_google_bigrams({'corpus':corpus_train_data['corpus'],'labels':corpus_train_data['labels']},\n",
      "                                 {'corpus':corpus_test_data['corpus'],'labels':corpus_test_data['labels']},\n",
      "                                 label_names,stopwords_removal,use_chi_features,use_raw_tokens)\n",
      "        \n",
      "        test_lemmatized_bigrams_unigrams(['wiktionary','google'],{'corpus':corpus_train_data['corpus'],'labels':corpus_train_data['labels']},\n",
      "                                 {'corpus':corpus_test_data['corpus'],'labels':corpus_test_data['labels']},\n",
      "                                 label_names,stopwords_removal,use_chi_features,use_raw_tokens)\n",
      "        \n",
      "        test_lemmatized_all_bigrams({'corpus':corpus_train_data['corpus'],'labels':corpus_train_data['labels']},\n",
      "                                 {'corpus':corpus_test_data['corpus'],'labels':corpus_test_data['labels']},\n",
      "                                 label_names,stopwords_removal,use_chi_features,use_raw_tokens)\n",
      "        \n",
      "        test_lemmatized_bigrams_unigrams(['wiki','wiktionary','google'],{'corpus':corpus_train_data['corpus'],'labels':corpus_train_data['labels']},\n",
      "                                 {'corpus':corpus_test_data['corpus'],'labels':corpus_test_data['labels']},\n",
      "                                 label_names,stopwords_removal,use_chi_features,use_raw_tokens)\n",
      "        \n",
      "        test_stemmed_unigrams({'corpus':corpus_train_data['corpus'],'labels':corpus_train_data['labels']},\n",
      "                                 {'corpus':corpus_test_data['corpus'],'labels':corpus_test_data['labels']},\n",
      "                                 label_names,stopwords_removal,use_chi_features,use_raw_tokens)\n",
      "        \n",
      "        test_stemmed_bigrams({'corpus':corpus_train_data['corpus'],'labels':corpus_train_data['labels']},\n",
      "                                 {'corpus':corpus_test_data['corpus'],'labels':corpus_test_data['labels']},\n",
      "                                 label_names,stopwords_removal,use_chi_features,use_raw_tokens)\n",
      "        \n",
      "        test_stemmed_wiki_bigrams({'corpus':corpus_train_data['corpus'],'labels':corpus_train_data['labels']},\n",
      "                                 {'corpus':corpus_test_data['corpus'],'labels':corpus_test_data['labels']},\n",
      "                                 label_names,stopwords_removal,use_chi_features,use_raw_tokens)\n",
      "        \n",
      "        test_stemmed_bigrams_unigrams(['wiki'],{'corpus':corpus_train_data['corpus'],'labels':corpus_train_data['labels']},\n",
      "                                 {'corpus':corpus_test_data['corpus'],'labels':corpus_test_data['labels']},\n",
      "                                 label_names,stopwords_removal,use_chi_features,use_raw_tokens)\n",
      "        \n",
      "        test_stemmed_wiktionary_bigrams({'corpus':corpus_train_data['corpus'],'labels':corpus_train_data['labels']},\n",
      "                                 {'corpus':corpus_test_data['corpus'],'labels':corpus_test_data['labels']},\n",
      "                                 label_names,stopwords_removal,use_chi_features,use_raw_tokens)\n",
      "        \n",
      "        test_stemmed_bigrams_unigrams(['wiktionary'],{'corpus':corpus_train_data['corpus'],'labels':corpus_train_data['labels']},\n",
      "                                 {'corpus':corpus_test_data['corpus'],'labels':corpus_test_data['labels']},\n",
      "                                 label_names,stopwords_removal,use_chi_features,use_raw_tokens)\n",
      "        \n",
      "        test_stemmed_google_bigrams({'corpus':corpus_train_data['corpus'],'labels':corpus_train_data['labels']},\n",
      "                                 {'corpus':corpus_test_data['corpus'],'labels':corpus_test_data['labels']},\n",
      "                                 label_names,stopwords_removal,use_chi_features,use_raw_tokens)\n",
      "        \n",
      "        test_stemmed_bigrams_unigrams(['google'],{'corpus':corpus_train_data['corpus'],'labels':corpus_train_data['labels']},\n",
      "                                 {'corpus':corpus_test_data['corpus'],'labels':corpus_test_data['labels']},\n",
      "                                 label_names,stopwords_removal,use_chi_features,use_raw_tokens)\n",
      "        \n",
      "        test_stemmed_wiki_wiktionary_bigrams({'corpus':corpus_train_data['corpus'],'labels':corpus_train_data['labels']},\n",
      "                                 {'corpus':corpus_test_data['corpus'],'labels':corpus_test_data['labels']},\n",
      "                                 label_names,stopwords_removal,use_chi_features,use_raw_tokens)\n",
      "        \n",
      "        test_stemmed_bigrams_unigrams(['wiki','wiktionary'],{'corpus':corpus_train_data['corpus'],'labels':corpus_train_data['labels']},\n",
      "                                 {'corpus':corpus_test_data['corpus'],'labels':corpus_test_data['labels']},\n",
      "                                 label_names,stopwords_removal,use_chi_features,use_raw_tokens)\n",
      "        \n",
      "        test_stemmed_wiki_google_bigrams({'corpus':corpus_train_data['corpus'],'labels':corpus_train_data['labels']},\n",
      "                                 {'corpus':corpus_test_data['corpus'],'labels':corpus_test_data['labels']},\n",
      "                                 label_names,stopwords_removal,use_chi_features,use_raw_tokens)\n",
      "        \n",
      "        test_stemmed_bigrams_unigrams(['wiki','google'],{'corpus':corpus_train_data['corpus'],'labels':corpus_train_data['labels']},\n",
      "                                 {'corpus':corpus_test_data['corpus'],'labels':corpus_test_data['labels']},\n",
      "                                 label_names,stopwords_removal,use_chi_features,use_raw_tokens)\n",
      "        \n",
      "        test_stemmed_wiktionary_google_bigrams({'corpus':corpus_train_data['corpus'],'labels':corpus_train_data['labels']},\n",
      "                                 {'corpus':corpus_test_data['corpus'],'labels':corpus_test_data['labels']},\n",
      "                                 label_names,stopwords_removal,use_chi_features,use_raw_tokens)\n",
      "        \n",
      "        test_stemmed_bigrams_unigrams(['wiktionary','google'],{'corpus':corpus_train_data['corpus'],'labels':corpus_train_data['labels']},\n",
      "                                 {'corpus':corpus_test_data['corpus'],'labels':corpus_test_data['labels']},\n",
      "                                 label_names,stopwords_removal,use_chi_features,use_raw_tokens)\n",
      "        \n",
      "        test_stemmed_all_bigrams({'corpus':corpus_train_data['corpus'],'labels':corpus_train_data['labels']},\n",
      "                                 {'corpus':corpus_test_data['corpus'],'labels':corpus_test_data['labels']},\n",
      "                                 label_names,stopwords_removal,use_chi_features,use_raw_tokens)\n",
      "        \n",
      "        test_stemmed_bigrams_unigrams(['wiki','wiktionary','google'],{'corpus':corpus_train_data['corpus'],'labels':corpus_train_data['labels']},\n",
      "                                 {'corpus':corpus_test_data['corpus'],'labels':corpus_test_data['labels']},\n",
      "                                 label_names,stopwords_removal,use_chi_features,use_raw_tokens)"
     ],
     "language": "python",
     "metadata": {},
     "outputs": [],
     "prompt_number": 30
    },
    {
     "cell_type": "code",
     "collapsed": false,
     "input": [
      "# test using all vocabulary\n",
      "test()\n",
      "\n",
      "print 'done!'"
     ],
     "language": "python",
     "metadata": {},
     "outputs": [
      {
       "output_type": "stream",
       "stream": "stdout",
       "text": [
        "loaded 18828 records.\n",
        "done loading 18828 train records and 20 labels.\n",
        "loaded 0 records.\n",
        "done loading 0 test records.\n",
        "loaded 20 labels.\n",
        "ng20_raw_unigrams"
       ]
      },
      {
       "output_type": "stream",
       "stream": "stdout",
       "text": [
        "\n",
        "loaded (20600) terms\n",
        "vectorizing done, 20600 terms vocabulary tokenized"
       ]
      },
      {
       "output_type": "stream",
       "stream": "stdout",
       "text": [
        "\n",
        "vectorizing done, 20600 terms vocabulary tokenized"
       ]
      },
      {
       "output_type": "stream",
       "stream": "stdout",
       "text": [
        "\n"
       ]
      },
      {
       "output_type": "stream",
       "stream": "stdout",
       "text": [
        "accuracy scores = [ 0.86277837  0.9         0.89094388  0.87103639],0.881189658797\n"
       ]
      },
      {
       "output_type": "stream",
       "stream": "stdout",
       "text": [
        "macro precision scores = [ 0.86195166  0.89915854  0.89033037  0.86971795],0.880289632397\n"
       ]
      },
      {
       "output_type": "stream",
       "stream": "stdout",
       "text": [
        "macro recall scores = [ 0.85593742  0.89769813  0.88460096  0.86734837],0.876396220893\n"
       ]
      },
      {
       "output_type": "stream",
       "stream": "stdout",
       "text": [
        "macro f1 scores = [ 0.85723952  0.89825807  0.8857503   0.86782046],0.877267088719\n"
       ]
      },
      {
       "output_type": "stream",
       "stream": "stdout",
       "text": [
        "weighted average precision scores = [ 0.86315146  0.9000108   0.89236056  0.87283608],0.882089724946\n"
       ]
      },
      {
       "output_type": "stream",
       "stream": "stdout",
       "text": [
        "weighted average recall scores = [ 0.86315146  0.9000108   0.89236056  0.87283608],0.882089724946\n"
       ]
      },
      {
       "output_type": "stream",
       "stream": "stdout",
       "text": [
        "weighted f1 scores = [ 0.86166435  0.89985257  0.89019252  0.87123533],0.880736193168\n",
        "dimensionality: 20600"
       ]
      },
      {
       "output_type": "stream",
       "stream": "stdout",
       "text": [
        "\n",
        "density: 0.932682038835\n",
        "alt.atheism charley,mangoe,wwc,darwin,wrote,wingate,dogma,tammy,thoughts,cobb,motto,scouts,asimov,benedikt,islamic,mathew,rushdie,keith,atheism,atheists\n",
        "comp.graphics viewer,mpeg,raytracing,ethic,sphere,visualization,polygons,polygon,tiff,surface,photoshop,animation,hacker,image,siggraph,cview,3do,pov,3d,graphics\n",
        "comp.os.ms-windows.misc filenames,doublespace,font,winfax,smartdrv,progman,swap,file,ini,risc,winqvt,ax,bmp,win,microsoft,challenge,supporters,cica,win3,windows\n",
        "comp.sys.ibm.pc.hardware jumpers,isa,pentium,16550,robert,winmarks,nanao,pins,motherboard,laserjet,pc,compaq,cmos,motherboards,mitsumi,vlb,ide,modems,gateway,bios\n",
        "comp.sys.mac.hardware monitors,040,floptical,bmug,deskwriter,iici,68040,adb,pb,lciii,se,iisi,centris,duo,quadra,lc,powerbook,apple,macs,mac\n",
        "comp.windows.x clients,r5,xdm,escaped,pixmap,twm,openwindows,unsubscribe,consortium,imake,widgets,x11,xfree86,window,widget,xlib,server,xterm,x11r5,motif\n",
        "misc.forsale cod,size,original,cassette,deal,obo,snes,asking,calculator,call,pay,camera,interested,summer,sell,wanted,offer,shipping,forsale,sale\n",
        "rec.autos diesels,honda,mustang,nissan,integra,chevrolet,v6,opel,vw,warning,autos,automotive,oil,dealer,toyota,auto,geico,ford,cars,car\n",
        "rec.motorcycles cop,infante,biker,moto,ducati,ranck,yamaha,piece,harley,helmet,kawasaki,bmw,rider,ride,motorcycles,motorcycle,riding,bikes,bike,dod\n",
        "rec.sport.baseball marlins,uniforms,runs,nl,fenway,yankee,dodgers,mets,morris,stadium,yankees,ball,tigers,braves,cubs,pitcher,sox,giants,phillies,baseball\n",
        "rec.sport.hockey cherry,buffalo,detroit,coach,puck,islanders,cup,pens,wc,goalie,leafs,wings,playoffs,penguins,espn,sharks,bruins,playoff,nhl,hockey\n",
        "sci.crypt escrow,cipher,privacy,rsa,sternlight,denning,tempest,wiretap,secret,crypt,key,pgp,security,nsa,des,cryptography,crypto,encryption,tapped,clipper\n",
        "sci.electronics pcb,adcom,noise,tv,circuits,solvent,protected,exploding,spice,shack,motorola,2600,scope,rf,8051,voltage,copy,ic,electronics,circuit\n",
        "sci.med eye,prozac,treatment,pregnency,syndrome,fever,skin,patient,health,allergic,medicine,ear,cancer,msg,disease,krillean,med,medical,photography,doctor\n",
        "sci.space accelerations,funding,nasa,rockets,solar,dietz,bursters,astronomy,astro,planets,dc,spacecraft,pat,mars,launch,sky,orbit,shuttle,moon,space\n",
        "soc.religion.christian moderator,james,fisher,hell,catholic,christians,christianity,christ,1993,sin,arrogance,daily,easter,kiefer,geneva,church,verse,rutgers,athos,clh\n",
        "talk.politics.guns acronym,regulated,weaver,handgun,burns,hunting,weapon,firearm,nra,militia,fbi,quisling,dividian,weapons,waco,firearms,ranch,atf,gun,guns\n",
        "talk.politics.mideast hezbollah,elias,holocaust,uva,armenia,zionism,adl,arabs,argic,angmar,serdar,palestinian,andi,jews,armenians,arab,turkish,armenian,israeli,israel\n",
        "talk.politics.misc initiative,health,train,ten,president,kinsey,jobs,garrett,income,mow,drugs,celebrate,optilink,teel,sexual,gay,clayton,wetware,cramer,kaldis\n",
        "talk.religion.misc royalroads,rawlins,koresh,tyre,hare,sword,forming,christian,thou,brian,2000,weiss,666,hudson,beast,mormons,burden,abortion,rosicrucian,promise\n",
        "ng20_raw_unigrams  -->  precision  0.880289632397 recall  0.876396220893 f1  0.877267088719\n",
        "loaded (74568) terms"
       ]
      },
      {
       "output_type": "stream",
       "stream": "stdout",
       "text": [
        "\n",
        "vectorizing done, 74568 terms vocabulary tokenized"
       ]
      },
      {
       "output_type": "stream",
       "stream": "stdout",
       "text": [
        "\n",
        "vectorizing done, 74568 terms vocabulary tokenized"
       ]
      },
      {
       "output_type": "stream",
       "stream": "stdout",
       "text": [
        "\n"
       ]
      },
      {
       "output_type": "stream",
       "stream": "stdout",
       "text": [
        "accuracy scores = [ 0.87507953  0.90828025  0.90093537  0.8806129 ],0.891227014673\n"
       ]
      },
      {
       "output_type": "stream",
       "stream": "stdout",
       "text": [
        "macro precision scores = [ 0.87708602  0.90827713  0.90100901  0.88098957],0.891840433597\n"
       ]
      },
      {
       "output_type": "stream",
       "stream": "stdout",
       "text": [
        "macro recall scores = [ 0.86807635  0.90616811  0.89520171  0.87812669],0.886893215268\n"
       ]
      },
      {
       "output_type": "stream",
       "stream": "stdout",
       "text": [
        "macro f1 scores = [ 0.86980698  0.90702899  0.89640969  0.87859258],0.887959558399\n"
       ]
      },
      {
       "output_type": "stream",
       "stream": "stdout",
       "text": [
        "weighted average precision scores = [ 0.87663426  0.90850436  0.90273044  0.88269749],0.89264163749\n"
       ]
      },
      {
       "output_type": "stream",
       "stream": "stdout",
       "text": [
        "weighted average recall scores = [ 0.87663426  0.90850436  0.90273044  0.88269749],0.89264163749\n"
       ]
      },
      {
       "output_type": "stream",
       "stream": "stdout",
       "text": [
        "weighted f1 scores = [ 0.87379705  0.90822488  0.90035963  0.88071394],0.890773874634\n",
        "dimensionality: 74568"
       ]
      },
      {
       "output_type": "stream",
       "stream": "stdout",
       "text": [
        "\n",
        "density: 0.931066275078\n",
        "alt.atheism thoughts,alt atheism,charley,wingate,atheist,cobb,religion,islam,motto,scouts,benedikt,political atheists,re political,asimov,islamic,mathew,rushdie,keith,atheism,atheists\n",
        "comp.graphics sphere,polygons,rgb,viewer,points,hacker,vesa,surface,mpeg,polygon,images,tiff,animation,cview,3do,image,siggraph,pov,3d,graphics\n",
        "comp.os.ms-windows.misc ax ax,nt,ms,re challenge,microsoft supporters,supporters,challenge,ini,challenge to,file,bmp,font,program manager,for windows,winqvt,win,microsoft,cica,win3,windows\n",
        "comp.sys.ibm.pc.hardware settings,cmos,card,controller,monitors,jumpers,isa,nanao,compaq,harddisk,monitor,modems,486,irq,motherboard,vlb,pc,ide,gateway,bios\n",
        "comp.sys.mac.hardware iifx,deskwriter,macweek,c650,iici,floptical,se 30,pb,adb,se,lciii,iisi,lc,centris,duo,quadra,macs,powerbook,apple,mac\n",
        "comp.windows.x comp windows,twm,openwindows,clients,pixmap,sun,xdm,subscribe,imake,unsubscribe,xfree86,x11,widgets,xlib,window,widget,server,x11r5,xterm,motif\n",
        "misc.forsale"
       ]
      },
      {
       "output_type": "stream",
       "stream": "stdout",
       "text": [
        " calculator,snes,00,call,interested,for,pay,obo,if interested,asking,summer,sell,camera,wanted,subject wanted,offer,for sale,forsale,shipping,sale\n",
        "rec.autos automotive,engine,please read,honda,chevrolet,opel,vw,v6,nissan,re warning,warning please,integra,geico,dealer,oil,auto,toyota,ford,cars,car\n",
        "rec.motorcycles riders,cop,honda,moa,dog,ama,yamaha,harley,the bike,kawasaki,helmet,rider,bmw,ride,motorcycles,motorcycle,riding,bikes,bike,dod\n",
        "rec.sport.baseball morris,fenway,mets,stats,pitching,hit,dodgers,yankees,runs,yankee,stadium,ball,tigers,sox,braves,pitcher,cubs,giants,phillies,baseball\n",
        "rec.sport.hockey puck,season,buffalo,wc,coach,pens,cup,penguins,game,team,goalie,wings,playoffs,sharks,leafs,bruins,espn,playoff,nhl,hockey\n",
        "sci.crypt encrypted,tempest,rsa,tapped,re once,wiretap,denning,algorithm,crypt,secret,privacy,security,nsa,pgp,cryptography,key,des,crypto,encryption,clipper\n",
        "sci.electronics adcom,dsp,copy protected,the disks,eprom,pcb,noise,motorola,spice,circuits,2600,tv,rf,copy,scope,8051,voltage,ic,electronics,circuit\n",
        "sci.med eye,blood,syndrome,krillean photography,patient,skin,krillean,fever,health,allergic,ear,treatment,medicine,msg,photography,med,cancer,disease,medical,doctor\n",
        "sci.space"
       ]
      },
      {
       "output_type": "stream",
       "stream": "stdout",
       "text": [
        " accelerations,astro,solar,satellite,astronomy,rockets,the moon,planets,mars,re space,spacecraft,nasa,dc,sky,pat,launch,moon,shuttle,orbit,space\n",
        "soc.religion.christian article apr,article may,geneva rutgers,catholic,christianity,hell,christian,easter,sin,daily verse,subject daily,christ,verse,christians,rutgers,athos rutgers,athos,rutgers edu,church,clh\n",
        "talk.politics.guns re waco,hunting,re batf,atf burns,batf,militia,weaver,firearm,re atf,handgun,ranch,weapon,fbi,nra,firearms,weapons,waco,atf,guns,gun\n",
        "talk.politics.mideast elias,muslim,racism,uva,iran,armenia,jewish,argic,serdar,andi,adl,palestinian,arabs,armenians,turkish,armenian,jews,arab,israeli,israel\n",
        "talk.politics.misc garrett,jobs,re top,president,kinsey,teel,wetware,mow,tax,income,celebrate,optilink,clayton,clinton,gay,drugs,top ten,sexual,kaldis,cramer\n",
        "talk.religion.misc taoism,mormons,re after,order,thyagi,mithras,hare,666,brian,promise in,93 god,koresh,christian,hudson,thou,tyre,beast,rosicrucian,god promise,abortion\n",
        "ng20_raw_bigrams  -->  precision  0.891840433597 recall  0.886893215268 f1  0.887959558399\n",
        "loaded (18612) terms"
       ]
      },
      {
       "output_type": "stream",
       "stream": "stdout",
       "text": [
        "\n",
        "vectorizing done, 18612 terms vocabulary tokenized"
       ]
      },
      {
       "output_type": "stream",
       "stream": "stdout",
       "text": [
        "\n",
        "vectorizing done, 18612 terms vocabulary tokenized"
       ]
      },
      {
       "output_type": "stream",
       "stream": "stdout",
       "text": [
        "\n"
       ]
      },
      {
       "output_type": "stream",
       "stream": "stdout",
       "text": [
        "accuracy scores = [ 0.85811241  0.89660297  0.88988095  0.86678017],0.877844124496\n"
       ]
      },
      {
       "output_type": "stream",
       "stream": "stdout",
       "text": [
        "macro precision scores = [ 0.85595424  0.89589358  0.88812558  0.86503615],0.876252385642\n"
       ]
      },
      {
       "output_type": "stream",
       "stream": "stdout",
       "text": [
        "macro recall scores = [ 0.85046991  0.89395935  0.88365137  0.86316475],0.872811344352\n"
       ]
      },
      {
       "output_type": "stream",
       "stream": "stdout",
       "text": [
        "macro f1 scores = [ 0.85154492  0.89474023  0.88448907  0.86336137],0.873533895827\n"
       ]
      },
      {
       "output_type": "stream",
       "stream": "stdout",
       "text": [
        "weighted average precision scores = [ 0.85781792  0.89668899  0.89049605  0.86864781],0.878412690393\n"
       ]
      },
      {
       "output_type": "stream",
       "stream": "stdout",
       "text": [
        "weighted average recall scores = [ 0.85781792  0.89668899  0.89049605  0.86864781],0.878412690393\n"
       ]
      },
      {
       "output_type": "stream",
       "stream": "stdout",
       "text": [
        "weighted f1 scores = [ 0.85667329  0.89649287  0.88900711  0.86698321],0.877289119881\n",
        "dimensionality: 18612"
       ]
      },
      {
       "output_type": "stream",
       "stream": "stdout",
       "text": [
        "\n",
        "density: 0.925231033742\n",
        "alt.atheism jsn104,wwc,mangoe,darwin,charley,wrote,dogma,tammy,wingate,cobb,asimov,motto,benedikt,islamic,scout,mathew,rushdie,atheism,keith,atheist\n",
        "comp.graphics impulse,tiff,mpeg,raytracing,visualization,sphere,surface,viewer,photoshop,animation,fractal,polygon,hacker,image,cview,siggraph,3do,pov,3d,graphic\n",
        "comp.os.ms-windows.misc winfax,winqvt,workgroups,smartdrv,setup,doublespace,nt,swap,risc,file,ini,win,ax,bmp,challenge,supporter,microsoft,cica,win3,window\n",
        "comp.sys.ibm.pc.hardware pentium,connector,modem,irq,interrupt,spec,isa,compaq,mitsumi,motherboard,gosh,motherboards,cmos,ide,connect,pc,vlb,laserjet,gateway,bios\n",
        "comp.sys.mac.hardware cyclone,iifx,040,pb,floptical,68040,iici,bmug,deskwriter,adb,lciii,se,iisi,quadra,centris,duo,lc,apple,powerbook,mac\n",
        "comp.windows.x subscribe,r5,xdm,pixmap,escaped,event,imake,unsubscribe,xwindows,twm,openwindows,consortium,x11,xfree86,xlib,server,widget,xterm,x11r5,motif\n",
        "misc.forsale lens,cod,size,cd,obo,calculator,call,snes,pay,asking,camera,deal,summer,sell,interested,wanted,offer,shipping,forsale,sale\n",
        "rec.autos dumbest,sunroof,truck,nissan,diesel,v6,chevrolet,integra,vw,opel,mustang,dealer,toyota,automotive,warning,oil,geico,ford,auto,car\n",
        "rec.motorcycles infante,piece,moa,biker,ducati,moto,cager,yamaha,ranck,dog,harley,kawasaki,bmw,helmet,ride,rider,riding,motorcycle,bike,dod\n",
        "rec.sport.baseball mattingly,uniform,hitter,fenway,marlin,nl,mets,stadium,tiger,morris,brave,dodger,ball,pitcher,sox,cub,yankee,giant,phillies,baseball\n",
        "rec.sport.hockey oiler,cherry,coach,detroit,pen,cup,puck,goal,wc,leaf,wing,islander,shark,penguin,espn,goalie,bruin,playoff,nhl,hockey\n",
        "sci.crypt password,de,rsa,denning,sternlight,privacy,tempest,secret,crypt,key,cipher,pgp,security,nsa,wiretap,cryptography,crypto,encryption,tapped,clipper\n",
        "sci.electronics resistor,tv,led,spice,pcb,adcom,protected,motorola,shack,exploding,8051,solvent,2600,rf,voltage,ic,scope,copy,electronics,circuit\n",
        "sci.med migraine,health,seizure,needle,syndrome,pregnency,treatment,exercise,medicine,allergic,patient,cancer,ear,msg,med,disease,medical,krillean,photography,doctor\n",
        "sci.space nasa,funding,solar,dietz,burster,astronomy,astro,dc,satellite,spacecraft,rocket,pat,mar,planet,sky,launch,orbit,shuttle,moon,space\n",
        "soc.religion.christian james,catholic,christianity,christ,moderator,hell,christian,prayer,easter,1993,arrogance,sin,kiefer,geneva,daily,church,verse,rutgers,athos,clh\n",
        "talk.politics.guns cipriani,senate,acronym,hunting,weaver,regulated,burn,nra,militia,liberty,fbi,handgun,quisling,waco,dividian,ranch,weapon,firearm,atf,gun\n",
        "talk.politics.mideast hezbollah,elia,armenia,hamas,muslim,holocaust,zionism,uva,argic,adl,angmar,andi,serdar,jew,palestinian,turkish,arab,armenian,israel,israeli\n",
        "talk.politics.misc pension,verdict,initiative,celebrate,kinsey,hostage,president,drug,state,income,mow,garrett,sexual,optilink,gay,teel,wetware,clayton,cramer,kaldis\n",
        "talk.religion.misc tossed,royalroads,koresh,sabin,rawlins,tyre,hare,thou,brian,mormon,forming,wei,abortion,hudson,666,beast,2000,burden,rosicrucian,promise\n",
        "ng20_raw_lemmas_unigrams_df0.0005_tf1  -->  precision  0.876252385642 recall  0.872811344352 f1  0.873533895827\n",
        "loaded (73777) terms"
       ]
      },
      {
       "output_type": "stream",
       "stream": "stdout",
       "text": [
        "\n",
        "vectorizing done, 73777 terms vocabulary tokenized"
       ]
      },
      {
       "output_type": "stream",
       "stream": "stdout",
       "text": [
        "\n",
        "vectorizing done, 73777 terms vocabulary tokenized"
       ]
      },
      {
       "output_type": "stream",
       "stream": "stdout",
       "text": [
        "\n"
       ]
      },
      {
       "output_type": "stream",
       "stream": "stdout",
       "text": [
        "accuracy scores = [ 0.87529162  0.90828025  0.90114796  0.8806129 ],0.891333183201\n"
       ]
      },
      {
       "output_type": "stream",
       "stream": "stdout",
       "text": [
        "macro precision scores = [ 0.87664782  0.90854104  0.90022289  0.88112726],0.891634752441\n"
       ]
      },
      {
       "output_type": "stream",
       "stream": "stdout",
       "text": [
        "macro recall scores = [ 0.86764429  0.90618627  0.8951796   0.87833231],0.886835618942\n"
       ]
      },
      {
       "output_type": "stream",
       "stream": "stdout",
       "text": [
        "macro f1 scores = [ 0.86927967  0.90716176  0.89616173  0.87872246],0.887831401761\n"
       ]
      },
      {
       "output_type": "stream",
       "stream": "stdout",
       "text": [
        "weighted average precision scores = [ 0.87665856  0.90872127  0.90229997  0.88282697],0.892626694786\n"
       ]
      },
      {
       "output_type": "stream",
       "stream": "stdout",
       "text": [
        "weighted average recall scores = [ 0.87665856  0.90872127  0.90229997  0.88282697],0.892626694786\n"
       ]
      },
      {
       "output_type": "stream",
       "stream": "stdout",
       "text": [
        "weighted f1 scores = [ 0.8738541   0.90832529  0.90041158  0.88072756],0.890829633046\n",
        "dimensionality: 73777"
       ]
      },
      {
       "output_type": "stream",
       "stream": "stdout",
       "text": [
        "\n",
        "density: 0.924426311723\n",
        "alt.atheism tammy,alt atheism,charley,wingate,moral,cobb,islam,religion,benedikt,scout,asimov,political atheist,re political,motto,islamic,mathew,rushdie,keith,atheism,atheist\n",
        "comp.graphics rgb,algorithm,vesa,point,format,mpeg,hacker,viewer,surface,fractal,cview,tiff,3do,animation,polygon,siggraph,image,pov,3d,graphic\n",
        "comp.os.ms-windows.misc re challenge,microsoft supporter,ini,driver,setup,ax ax,challenge to,m,nt,bmp,winqvt,program manager,win,file,in window,for window,win3,cica,microsoft,window\n",
        "comp.sys.ibm.pc.hardware controller,mitsumi,connector,nanao,computer,modem,cmos,harddisk,isa,compaq,jumper,486,irq,vlb,motherboard,monitor,ide,pc,gateway,bios\n",
        "comp.sys.mac.hardware card for,iifx,c650,deskwriter,macweek,iici,pb,floptical,se 30,se,adb,lciii,iisi,lc,centris,quadra,duo,powerbook,apple,mac\n",
        "comp.windows.x twm,client,display,pixmap,openwindows,subscribe,xdm,imake,event,sun,unsubscribe,xfree86,x11,window manager,xlib,server,xterm,widget,x11r5,motif\n",
        "misc.forsale 00,call,for,interested,pay,obo,deal,if interested,cd,sell,asking,summer,camera,wanted,subject wanted,for sale,offer,sale,forsale,shipping\n",
        "rec.autos"
       ]
      },
      {
       "output_type": "stream",
       "stream": "stdout",
       "text": [
        " truck,v6,vw,engine,honda,opel,diesel,sunroof,nissan,mustang,re warning,integra,warning please,dealer,geico,oil,toyota,ford,auto,car\n",
        "rec.motorcycles cager,zx,ducati,honda,cage,moa,yamaha,ama,harley,the bike,dog,kawasaki,helmet,bmw,ride,rider,riding,motorcycle,bike,dod\n",
        "rec.sport.baseball pitching,fenway,stats,mets,morris,nl,hitter,hit,dodger,stadium,brave,tiger,sox,ball,giant,pitcher,cub,yankee,phillies,baseball\n",
        "rec.sport.hockey pen,wc,cup,puck,coach,game,buffalo,wing,islander,shark,leaf,penguin,goal,team,goalie,bruin,espn,playoff,nhl,hockey\n",
        "sci.crypt denning,rsa,tempest,tapped,algorithm,re once,de,crypt,secret,privacy,cipher,security,wiretap,nsa,pgp,cryptography,key,crypto,encryption,clipper\n",
        "sci.electronics solvent,dsp,eprom,copy protected,spice,noise,motorola,led,pcb,resistor,2600,rf,tv,8051,copy,voltage,ic,scope,electronics,circuit\n",
        "sci.med allergy,migraine,fever,krillean photography,health,skin,exercise,allergic,krillean,medicine,patient,ear,treatment,msg,med,photography,cancer,disease,medical,doctor\n",
        "sci.space gamma ray,mission,flight,mar,the moon,astronomy,re space,dc,spacecraft,nasa,satellite,sky,rocket,planet,pat,launch,moon,shuttle,orbit,space\n",
        "soc.religion.christian"
       ]
      },
      {
       "output_type": "stream",
       "stream": "stdout",
       "text": [
        " article may,christianity,article apr,geneva rutgers,catholic,prayer,hell,easter,verse,christ,daily verse,subject daily,rutgers,sin,christian,athos,athos rutgers,rutgers edu,church,clh\n",
        "talk.politics.guns in waco,re waco,rifle,hunting,liberty,weaver,batf,militia,re batf,atf burn,re atf,ranch,nra,fbi,handgun,waco,atf,firearm,weapon,gun\n",
        "talk.politics.mideast turk,pro angmar,elia,racism,uva,armenia,jewish,iran,argic,serdar,andi,adl,muslim,turkish,palestinian,jew,arab,armenian,israeli,israel\n",
        "talk.politics.misc kinsey,garrett,income,party,re top,teel,state,wetware,president,mow,optilink,clinton,clayton,tax,gay,drug,top ten,sexual,kaldis,cramer\n",
        "talk.religion.misc cult,order,thyagi,re after,mithra,mormon,hare,brian,christian,666,koresh,promise in,93 god,hudson,beast,thou,tyre,abortion,god promise,rosicrucian\n",
        "ng20_raw_lemmas_bigrams_df0.0005_tf1  -->  precision  0.891634752441 recall  0.886835618942 f1  0.887831401761\n",
        "loaded (24915) terms"
       ]
      },
      {
       "output_type": "stream",
       "stream": "stdout",
       "text": [
        "\n",
        "done loading vocabulary\n",
        "vectorizing done, 24915 terms vocabulary tokenized"
       ]
      },
      {
       "output_type": "stream",
       "stream": "stdout",
       "text": [
        "\n",
        "vectorizing done, 24915 terms vocabulary tokenized"
       ]
      },
      {
       "output_type": "stream",
       "stream": "stdout",
       "text": [
        "\n"
       ]
      },
      {
       "output_type": "stream",
       "stream": "stdout",
       "text": [
        "accuracy scores = [ 0.86171792  0.89936306  0.89455782  0.86912109],0.881189972894\n"
       ]
      },
      {
       "output_type": "stream",
       "stream": "stdout",
       "text": [
        "macro precision scores = [ 0.86051016  0.89913149  0.89306315  0.86815239],0.880214296871\n"
       ]
      },
      {
       "output_type": "stream",
       "stream": "stdout",
       "text": [
        "macro recall scores = [ 0.8538339   0.89723493  0.88849781  0.86624694],0.876453395924\n"
       ]
      },
      {
       "output_type": "stream",
       "stream": "stdout",
       "text": [
        "macro f1 scores = [ 0.85510345  0.89800784  0.88941016  0.866415  ],0.877234110582\n"
       ]
      },
      {
       "output_type": "stream",
       "stream": "stdout",
       "text": [
        "weighted average precision scores = [ 0.8619751   0.89964874  0.89551241  0.87134597],0.882120555522\n"
       ]
      },
      {
       "output_type": "stream",
       "stream": "stdout",
       "text": [
        "weighted average recall scores = [ 0.8619751   0.89964874  0.89551241  0.87134597],0.882120555522\n"
       ]
      },
      {
       "output_type": "stream",
       "stream": "stdout",
       "text": [
        "weighted f1 scores = [ 0.86025173  0.89934531  0.89386024  0.86945193],0.880727300409\n",
        "dimensionality: 24915"
       ]
      },
      {
       "output_type": "stream",
       "stream": "stdout",
       "text": [
        "\n",
        "density: 0.918703592214\n",
        "alt.atheism gregg,liar,darwin,wrote,wwc,charley,dogma,tammy,wingate,cobb,motto,asimov,scout,benedikt,islamic,mathew,rushdie,atheism,keith,atheist\n",
        "comp.graphics povray,raytracing,visualization,mpeg,sphere,tiff,hacker,surface,photoshop,viewer,fractal,animation,cview,polygon,image,siggraph,3do,pov,3d,graphic\n",
        "comp.os.ms-windows.misc doublespace,nt,m,winqvt,driver,risc,smartdrv,setup,file,ini,win,bmp,program manager,ax,challenge,supporter,win3,cica,microsoft,window\n",
        "comp.sys.ibm.pc.hardware jumper,robert,smc,connector,irq,compaq,motherboards,nanao,monitor,modem,mitsumi,isa,motherboard,connect,vlb,ide,cmos,pc,gateway,bios\n",
        "comp.sys.mac.hardware 040,iifx,68040,iici,on 24,pb,floptical,deskwriter,bmug,adb,lciii,se,centris,quadra,iisi,duo,powerbook,lc,apple,mac\n",
        "comp.windows.x xv,xdm,escaped,subscribe,pixmap,event,openwindows,imake,xwindows,twm,unsubscribe,x11,window manager,xfree86,xlib,server,widget,xterm,x11r5,motif\n",
        "misc.forsale lens,calculator,size,obo,cd,call,snes,asking,deal,camera,pay,summer,interested,sell,for sale,wanted,sale,offer,shipping,forsale\n",
        "rec.autos dumbest,nissan,truck,chevrolet,sunroof,v6,integra,opel,diesel,dealer,vw,mustang,automotive,toyota,warning,oil,geico,ford,auto,car\n",
        "rec.motorcycles infante,piece,cager,moto,moa,ducati,ranck,yamaha,the bike,dog,harley,kawasaki,helmet,bmw,ride,rider,riding,motorcycle,bike,dod\n",
        "rec.sport.baseball mets,hit,uniform,marlin,morris,hitter,nl,fenway,tiger,stadium,brave,dodger,sox,ball,pitcher,yankee,cub,giant,phillies,baseball\n",
        "rec.sport.hockey final,coach,octopus,wing,team,leaf,buffalo,detroit,wc,goal,puck,shark,penguin,islander,espn,goalie,bruin,playoff,nhl,hockey\n",
        "sci.crypt de,denning,rsa,sternlight,secret,tempest,privacy,crypt,key,cipher,no good,pgp,security,nsa,wiretap,tapped,cryptography,crypto,encryption,clipper\n",
        "sci.electronics resistor,tv,led,adcom,disk copy,pcb,spice,motorola,exploding,2600,copy,copy protected,solvent,rf,8051,voltage,ic,scope,electronics,circuit\n",
        "sci.med seizure,cure,physician,migraine,fever,health,exercise,medicine,treatment,allergic,patient,cancer,ear,msg,med,disease,krillean,medical,photography,doctor\n",
        "sci.space funding,flight,dietz,nasa,astronomy,astro,gamma ray,dc,satellite,spacecraft,mar,sky,rocket,pat,planet,moon,launch,shuttle,orbit,space\n",
        "soc.religion.christian moderator,james,catholic,christianity,hell,prayer,christ,arrogance,easter,1993,christian,sin,geneva,kiefer,church,daily,verse,rutgers,athos,clh\n",
        "talk.politics.guns weaver,hunting,cnn,senate,regulated,acronym,liberty,nra,burn,militia,fbi,handgun,quisling,dividian,waco,ranch,weapon,firearm,atf,gun\n",
        "talk.politics.mideast elia,racism,jerusalem,hamas,armenia,uva,zionism,argic,serdar,muslim,andi,adl,angmar,jew,palestinian,turkish,arab,armenian,israeli,israel\n",
        "talk.politics.misc deficit,income,tax,initiative,celebrate,kinsey,hostage,state,drug,mow,garrett,teel,optilink,clayton,sexual,wetware,gay,cramer,top ten,kaldis\n",
        "talk.religion.misc tossed,robert wei,koresh,mithra,rawlins,hare,mormon,beast,666,2000 year,tyre,thou,new religion,brian,hudson,mr president,rosicrucian,abortion,burden,promise\n",
        "ng20_raw_lemmas_unigrams_df0.0005_tf1 ^ ng20_raw_lemmas_bigrams_df0.0005_tf1 ^ wiki_bigrams  -->  precision  0.880214296871 recall  0.876453395924 f1  0.877234110582\n",
        "loaded (6303) terms"
       ]
      },
      {
       "output_type": "stream",
       "stream": "stdout",
       "text": [
        "\n",
        "extended to (9919) terms\n",
        "done loading vocabulary\n",
        "vectorizing done, 9919 terms vocabulary tokenized"
       ]
      },
      {
       "output_type": "stream",
       "stream": "stdout",
       "text": [
        "\n",
        "vectorizing done, 9919 terms vocabulary tokenized"
       ]
      },
      {
       "output_type": "stream",
       "stream": "stdout",
       "text": [
        "\n"
       ]
      },
      {
       "output_type": "stream",
       "stream": "stdout",
       "text": [
        "accuracy scores = [ 0.81569459  0.8566879   0.84842687  0.81485422],0.833915896217\n"
       ]
      },
      {
       "output_type": "stream",
       "stream": "stdout",
       "text": [
        "macro precision scores = [ 0.81466145  0.85572472  0.84511956  0.81434924],0.832463742706\n"
       ]
      },
      {
       "output_type": "stream",
       "stream": "stdout",
       "text": [
        "macro recall scores = [ 0.8077719   0.85392262  0.84085671  0.81160688],0.82853952887\n"
       ]
      },
      {
       "output_type": "stream",
       "stream": "stdout",
       "text": [
        "macro f1 scores = [ 0.80877056  0.85448867  0.84125562  0.81162468],0.82903488175\n"
       ]
      },
      {
       "output_type": "stream",
       "stream": "stdout",
       "text": [
        "weighted average precision scores = [ 0.81630501  0.85729115  0.84861804  0.81704779],0.834815497506\n"
       ]
      },
      {
       "output_type": "stream",
       "stream": "stdout",
       "text": [
        "weighted average recall scores = [ 0.81630501  0.85729115  0.84861804  0.81704779],0.834815497506\n"
       ]
      },
      {
       "output_type": "stream",
       "stream": "stdout",
       "text": [
        "weighted f1 scores = [ 0.81403131  0.85665394  0.84701278  0.81461343],0.833077862406\n",
        "dimensionality: 9919"
       ]
      },
      {
       "output_type": "stream",
       "stream": "stdout",
       "text": [
        "\n",
        "density: 0.899531202742\n",
        "alt.atheism dogma,dan,re,gulf war,fred rice,rice,fish,motto,mark mccullough,mccullough,vice,bobby,cobb,scout,islamic law,healy,islamic,atheist,atheism,keith\n",
        "comp.graphics tga,imagine,hacker,jpeg,point,virtual reality,temp file,42,visualization,sphere,tiff,surface,viewer,photoshop,polygon,image,siggraph,pov,3d,graphic\n",
        "comp.os.ms-windows.misc file,driver,dark,m,bmp,swap file,visual basic,nt,canon,character,indiana,setup,max,win,instruction set,program manager,ini,challenge,microsoft,window\n",
        "comp.sys.ibm.pc.hardware 16550,blue wave,the connector,cpu,bat,ide,modem,fi,robert,burn it,comment,monitor,486,isa,atari,pc,just love,17,gateway,bios\n",
        "comp.sys.mac.hardware pc at,upgrade,hardware,internet,price drop,po,clock,24 hour,950,on 24,iici,se,centris,duo,quadra,iisi,lc,apple,powerbook,mac\n",
        "comp.windows.x device driver,cursor,dump,the consortium,client,tel,binary,the server,sun,sparc,default,support,gc,display,consortium,script,event,server,window manager,widget\n",
        "misc.forsale cross posting,trade,make me,worth,size,for sale,year old,the package,firm,deal,call,original,cd,summer,camera,pay,sale,asking,sell,wanted\n",
        "rec.autos villager,concept,insurance company,license plate,bmw,truck,driving,dealership,opel,dealer,engine,wagon,toyota,oil,mustang,warning,geico,ford,auto,car\n",
        "rec.motorcycles for today,asphaug,lock,cage,wave,sutherland,rec,honda,advice,chain,82,shaft drive,the bike,moa,bmw,ed green,dog,rider,ride,bike\n",
        "rec.sport.baseball bill james,morris,rockies,nl,mets,hr,sox,cardinal,hitter,marlin,ball,tiger,brave,stadium,dodger,giant,phillies,yankee,cub,baseball\n",
        "rec.sport.hockey leaf,ice,pool,buffalo,lemieux,pit,oiler,final,coach,islander,penguin,detroit,shark,goal,espn,goalie,bruin,playoff,nhl,hockey\n",
        "sci.crypt de,once,algorithm,attack,announcement,key,denning,the lobby,escrow,rsa,secret,privacy,pgp,cipher,security,crypto,no good,encryption,cryptography,clipper\n",
        "sci.electronics ic,ham,noise,them,power,led,duct,re power,resistance,copy,electrical,duct tape,2600,disk copy,copy protected,tv,voltage,scope,electronics,circuit\n",
        "sci.med blood,eye,skin,medicine,fever,physician,health,exercise,patient,treatment,allergic,ear,cancer,msg,gordon bank,med,medical,disease,doctor,photography\n",
        "sci.space telescope,fred,flight,dc,satellite,solar,mission,astronomy,mar,gamma ray,pat,spacecraft,rocket,sky,planet,moon,shuttle,launch,orbit,space\n",
        "soc.religion.christian the mystery,tongue,paul,sabbath,ceremony,may,translation,spiritual,hell,james,easter,sin,prayer,church,christ,catholic,christian,daily,verse,1993\n",
        "talk.politics.guns criminal,concealed,politician,free state,texas,liberty,bullet,safety,senate,weaver,survivor,rifle,hunting,nra,fbi,waco,burn,weapon,atf,gun\n",
        "talk.politics.mideast soldier,jewish,iranian,holocaust,occupied,warsaw,policy,say you,armenia,freedom,argic,palestinian,serdar,turkish,jew,adl,arab,armenian,israel,israeli\n",
        "talk.politics.misc party,income,liberal,tax,libertarian,economic,verdict,state,kinsey,ted frank,drug,initiative,police state,clayton,baker,sexual,gay,garrett,top ten,cramer\n",
        "talk.religion.misc malcolm lee,sword,wei,the beast,moment,sabin,albert sabin,beast,who next,new age,robert wei,commandment,hudson,rosicrucian,abortion,brian,mr president,new religion,burden,promise\n",
        "ng20_raw_lemmas_bigrams_df0.0005_tf1 ^ wiki_bigrams (extended unigrams) -->  precision  0.832463742706 recall  0.82853952887 f1  0.82903488175\n",
        "loaded (20954) terms"
       ]
      },
      {
       "output_type": "stream",
       "stream": "stdout",
       "text": [
        "\n",
        "done loading vocabulary\n",
        "vectorizing done, 20954 terms vocabulary tokenized"
       ]
      },
      {
       "output_type": "stream",
       "stream": "stdout",
       "text": [
        "\n",
        "vectorizing done, 20954 terms vocabulary tokenized"
       ]
      },
      {
       "output_type": "stream",
       "stream": "stdout",
       "text": [
        "\n"
       ]
      },
      {
       "output_type": "stream",
       "stream": "stdout",
       "text": [
        "accuracy scores = [ 0.86193001  0.9         0.89094388  0.86614173],0.87975390511\n"
       ]
      },
      {
       "output_type": "stream",
       "stream": "stdout",
       "text": [
        "macro precision scores = [ 0.86052423  0.89944322  0.88920353  0.86481005],0.878495256438\n"
       ]
      },
      {
       "output_type": "stream",
       "stream": "stdout",
       "text": [
        "macro recall scores = [ 0.85437499  0.89765267  0.88446206  0.86273138],0.874805276408\n"
       ]
      },
      {
       "output_type": "stream",
       "stream": "stdout",
       "text": [
        "macro f1 scores = [ 0.85552168  0.89836202  0.88536587  0.86309396],0.875585882473\n"
       ]
      },
      {
       "output_type": "stream",
       "stream": "stdout",
       "text": [
        "weighted average precision scores = [ 0.862151    0.90008395  0.89179045  0.86806772],0.880523279168\n"
       ]
      },
      {
       "output_type": "stream",
       "stream": "stdout",
       "text": [
        "weighted average recall scores = [ 0.862151    0.90008395  0.89179045  0.86806772],0.880523279168\n"
       ]
      },
      {
       "output_type": "stream",
       "stream": "stdout",
       "text": [
        "weighted f1 scores = [ 0.86055349  0.89987556  0.89013137  0.86643217],0.879248147321\n",
        "dimensionality: 20954"
       ]
      },
      {
       "output_type": "stream",
       "stream": "stdout",
       "text": [
        "\n",
        "density: 0.927474467882\n",
        "alt.atheism liar,darwin,wwc,mangoe,charley,wrote,dogma,tammy,wingate,cobb,scout,asimov,benedikt,motto,islamic,mathew,rushdie,atheism,keith,atheist\n",
        "comp.graphics visualization,povray,raytracing,tiff,mpeg,sphere,surface,photoshop,viewer,animation,fractal,polygon,cview,hacker,image,siggraph,3do,pov,3d,graphic\n",
        "comp.os.ms-windows.misc winfax,workgroups,driver,winqvt,setup,smartdrv,nt,doublespace,risc,file,ini,bmp,ax,win,challenge,supporter,cica,microsoft,win3,window\n",
        "comp.sys.ibm.pc.hardware interrupt,modem,smc,irq,motherboards,compaq,spec,connect,nanao,gosh,isa,mitsumi,motherboard,vlb,cmos,pc,laserjet,ide,gateway,bios\n",
        "comp.sys.mac.hardware 040,iifx,pb,kept on,floptical,68040,iici,deskwriter,bmug,adb,lciii,se,iisi,quadra,centris,duo,powerbook,lc,apple,mac\n",
        "comp.windows.x r5,escaped,pixmap,event,xdm,xwindows,imake,unsubscribe,openwindows,twm,consortium,x11,xfree86,window manager,xlib,server,widget,xterm,x11r5,motif\n",
        "misc.forsale lens,cd,size,obo,calculator,asking,snes,call,camera,pay,deal,sell,interested,summer,for sale,wanted,sale,offer,shipping,forsale\n",
        "rec.autos dumbest,truck,sunroof,nissan,chevrolet,v6,diesel,integra,vw,opel,mustang,dealer,automotive,toyota,warning,oil,geico,ford,auto,car\n",
        "rec.motorcycles infante,biker,piece,moa,ducati,cager,moto,yamaha,ranck,dog,harley,kawasaki,bmw,helmet,ride,rider,riding,motorcycle,bike,dod\n",
        "rec.sport.baseball uniform,mattingly,hitter,marlin,mets,fenway,nl,stadium,tiger,sox,morris,dodger,ball,brave,pitcher,cub,yankee,giant,phillies,baseball\n",
        "rec.sport.hockey oiler,detroit,coach,team,pen,cup,puck,wing,wc,leaf,goal,islander,shark,penguin,espn,goalie,bruin,playoff,nhl,hockey\n",
        "sci.crypt rsa,denning,de,sternlight,privacy,tempest,secret,no good,key,crypt,cipher,pgp,security,wiretap,nsa,tapped,cryptography,crypto,encryption,clipper\n",
        "sci.electronics protected,noise,resistor,pcb,tv,led,adcom,motorola,spice,exploding,2600,solvent,rf,8051,voltage,ic,copy,scope,electronics,circuit\n",
        "sci.med migraine,cure,health,syndrome,skin,needle,treatment,medicine,exercise,allergic,patient,cancer,ear,med,msg,disease,krillean,medical,photography,doctor\n",
        "sci.space dietz,flight,nasa,funding,gamma ray,astronomy,astro,dc,satellite,spacecraft,rocket,mar,pat,planet,launch,sky,shuttle,orbit,moon,space\n",
        "soc.religion.christian james,moderator,christianity,catholic,hell,christian,prayer,christ,easter,arrogance,1993,sin,geneva,kiefer,daily,church,verse,rutgers,athos,clh\n",
        "talk.politics.guns cnn,senate,acronym,regulated,hunting,weaver,burn,liberty,nra,militia,fbi,quisling,handgun,waco,dividian,weapon,ranch,firearm,atf,gun\n",
        "talk.politics.mideast hezbollah,elia,armenia,hamas,uva,holocaust,muslim,zionism,adl,argic,andi,angmar,serdar,jew,palestinian,turkish,arab,armenian,israeli,israel\n",
        "talk.politics.misc police state,verdict,income,celebrate,kinsey,initiative,state,president,hostage,drug,mow,garrett,gay,sexual,teel,optilink,wetware,clayton,cramer,kaldis\n",
        "talk.religion.misc royalroads,tossed,koresh,sabin,hare,beast,tyre,rawlins,brian,666,mormon,thou,wei,hudson,abortion,2000,burden,rosicrucian,mr president,promise\n",
        "ng20_raw_lemmas_unigrams_df0.0005_tf1 ^ ng20_raw_lemmas_bigrams_df0.0005_tf1 ^ wiktionary_bigrams  -->  precision  0.878495256438 recall  0.874805276408 f1  0.875585882473\n",
        "loaded (2342) terms"
       ]
      },
      {
       "output_type": "stream",
       "stream": "stdout",
       "text": [
        "\n",
        "extended to (3925) terms\n",
        "done loading vocabulary\n",
        "vectorizing done, 3925 terms vocabulary tokenized"
       ]
      },
      {
       "output_type": "stream",
       "stream": "stdout",
       "text": [
        "\n",
        "vectorizing done, 3925 terms vocabulary tokenized"
       ]
      },
      {
       "output_type": "stream",
       "stream": "stdout",
       "text": [
        "\n"
       ]
      },
      {
       "output_type": "stream",
       "stream": "stdout",
       "text": [
        "accuracy scores = [ 0.69756098  0.75201699  0.74808673  0.70993828],0.726900745046\n"
       ]
      },
      {
       "output_type": "stream",
       "stream": "stdout",
       "text": [
        "macro precision scores = [ 0.69149336  0.74909854  0.74432173  0.70777026],0.723170974609\n"
       ]
      },
      {
       "output_type": "stream",
       "stream": "stdout",
       "text": [
        "macro recall scores = [ 0.68945409  0.74677712  0.73984159  0.70500941],0.720270552804\n"
       ]
      },
      {
       "output_type": "stream",
       "stream": "stdout",
       "text": [
        "macro f1 scores = [ 0.68888824  0.74701652  0.73935744  0.70528953],0.720137934787\n"
       ]
      },
      {
       "output_type": "stream",
       "stream": "stdout",
       "text": [
        "weighted average precision scores = [ 0.69564738  0.75222461  0.74753799  0.71091915],0.726582282085\n"
       ]
      },
      {
       "output_type": "stream",
       "stream": "stdout",
       "text": [
        "weighted average recall scores = [ 0.69564738  0.75222461  0.74753799  0.71091915],0.726582282085\n"
       ]
      },
      {
       "output_type": "stream",
       "stream": "stdout",
       "text": [
        "weighted f1 scores = [ 0.69521402  0.75124867  0.74557376  0.7093574 ],0.725348460431\n",
        "dimensionality: 3925"
       ]
      },
      {
       "output_type": "stream",
       "stream": "stdout",
       "text": [
        "\n",
        "density: 0.938878980892\n",
        "alt.atheism rest,religious,fi,gulf,thought,punishment,closed in,au,go to,fish,scout,boy scout,thrown,believing in,moral,gulf war,po,vice,political,islamic\n",
        "comp.graphics gamma,file,next generation,method,go in,another,computer,maple,computer graphic,picture,input device,map,virtual reality,fill,texture,point,not yet,tracing,image,graphic\n",
        "comp.os.ms-windows.misc this time,driver,o,printer,very much,money,right now,swap file,manager,swap,cool,desktop,real world,character,development,vu,instruction set,win,visual basic,window\n",
        "comp.sys.ibm.pc.hardware western,stack,card,hear,cpu,drive,comment,cap lock,rosa,pc,data compression,thrown out,power source,computer,bat,floppy,date,bus,atari,setting\n",
        "comp.sys.mac.hardware mail order,turn on,shift key,home computer,ha it,soft,price,speed,ago,start up,control panel,internal,as,clock,se,logic board,reflect,kept on,apple,mac\n",
        "comp.windows.x following,application,script,example,return,capital,an,set,dump,come up,support,software engineer,default,pressed,kong,running,man page,computer science,event,window manager\n",
        "misc.forsale business,girl,great,cheap,in love,book,working condition,comic,worth,trade,pedal,reach,deck,deal,asking,original,camera,wanted,sale,pay\n",
        "rec.autos extended,take off,washington,bird,bumper,cylinder,driving,test drive,drain plug,license plate,drain,transmission,flat,dealer,shift,wagon,truck,of all,insurance company,car\n",
        "rec.motorcycles parking,club,lock,fault,east,exhaust,member,hog,course,drink,drunk,united kingdom,log out,hello there,stolen,happy easter,respect,chain,shaft,dog\n",
        "rec.sport.baseball spring training,al,ticket,park,world series,cry,total,run,bat,length,sox,make room,jay,home run,ball,hit,hitter,batting,pitch,baseball\n",
        "rec.sport.hockey team,vancouver,letter,cheap shot,player,pick,round,penalty,beat,cap,final,mask,wing,devil,pool,cup,leaf,ice,coach,goal\n",
        "sci.crypt be bothered,sci,police,screw,fifth,speech,de,message,random,white house,drug dealer,fifth amendment,any more,key,public key,security,secret,no good,organized,clipper\n",
        "sci.electronics signal,the company,vacuum tube,current,power line,discharge,frequency,cooling tower,duct,duct tape,copy,in series,apple mac,ham,tv,electrical,copy protection,2600,acid,circuit\n",
        "sci.med kidney,eye,side effect,taking,med,corona,information,hospital,fever,nerve,effect,health,clinical,infection,muscle,food,medicine,medical,bank,doctor\n",
        "sci.space looked into,space station,nuclear waste,solar,command,lunar,rocket,exploration,hopkins,landing,mission,astronomy,flight,planet,gamma ray,moon,launch,shuttle,orbit,space\n",
        "soc.religion.christian new testament,feel,kicked out,heart,immaculate conception,absolute,judgement,broken,roman,original sin,christian,catholic,sex education,may,easter,hell,sin,christ,church,married\n",
        "talk.politics.guns child abuse,press,keeping,liberty,fire,responsibility,full,house,the pill,baptist,safety,speak for,in for,examiner,rifle,free state,fbi,weapon,burn,gun\n",
        "talk.politics.mideast ran,nation,missile,freedom,having to,minister,take to,west bank,soviet,gaza,shoot down,sexual favor,turkey,hate,village,human right,border,policy,expansion,arab\n",
        "talk.politics.misc income,tax,cigarette,child,president,stimulus,party,free market,tantrum,temper tantrum,ten,day out,mother nature,look through,relation,sexual,environmental,economic,gay,police state\n",
        "talk.religion.misc ye,christian,public school,lds,southern baptist,material,the beast,beast,take part,internet address,au moins,moins,new age,moral system,order,sign up,ancient,commandment,backing,mr president\n",
        "ng20_raw_lemmas_bigrams_df0.0005_tf1 ^ wiktionary_bigrams (extended unigrams) -->  precision  0.723170974609 recall  0.720270552804 f1  0.720137934787\n",
        "loaded (20409) terms"
       ]
      },
      {
       "output_type": "stream",
       "stream": "stdout",
       "text": [
        "\n",
        "vectorizing done, 20409 terms vocabulary tokenized"
       ]
      },
      {
       "output_type": "stream",
       "stream": "stdout",
       "text": [
        "\n",
        "vectorizing done, 20409 terms vocabulary tokenized"
       ]
      },
      {
       "output_type": "stream",
       "stream": "stdout",
       "text": [
        "\n"
       ]
      },
      {
       "output_type": "stream",
       "stream": "stdout",
       "text": [
        "accuracy scores = [ 0.85896076  0.89915074  0.8920068   0.86954671],0.879916255352\n"
       ]
      },
      {
       "output_type": "stream",
       "stream": "stdout",
       "text": [
        "macro precision scores = [ 0.85758333  0.89875475  0.89067025  0.86792438],0.878733177073\n"
       ]
      },
      {
       "output_type": "stream",
       "stream": "stdout",
       "text": [
        "macro recall scores = [ 0.8514157   0.89651887  0.88563035  0.86621033],0.874943813081\n"
       ]
      },
      {
       "output_type": "stream",
       "stream": "stdout",
       "text": [
        "macro f1 scores = [ 0.85265557  0.89739854  0.88663289  0.86637246],0.875764864946\n"
       ]
      },
      {
       "output_type": "stream",
       "stream": "stdout",
       "text": [
        "weighted average precision scores = [ 0.85914144  0.8992205   0.89323831  0.87136503],0.880741320593\n"
       ]
      },
      {
       "output_type": "stream",
       "stream": "stdout",
       "text": [
        "weighted average recall scores = [ 0.85914144  0.8992205   0.89323831  0.87136503],0.880741320593\n"
       ]
      },
      {
       "output_type": "stream",
       "stream": "stdout",
       "text": [
        "weighted f1 scores = [ 0.85760241  0.89898261  0.89132516  0.86976865],0.879419707503\n",
        "dimensionality: 20409"
       ]
      },
      {
       "output_type": "stream",
       "stream": "stdout",
       "text": [
        "\n",
        "density: 0.917989612426\n",
        "alt.atheism boy scout,mangoe,wwc,darwin,charley,wrote,dogma,tammy,wingate,cobb,scout,asimov,motto,benedikt,islamic,mathew,rushdie,atheism,keith,atheist\n",
        "comp.graphics impulse,tiff,raytracing,mpeg,visualization,sphere,surface,viewer,photoshop,animation,fractal,hacker,cview,polygon,siggraph,image,3do,pov,3d,graphic\n",
        "comp.os.ms-windows.misc workgroups,printer driver,risc,winqvt,doublespace,smartdrv,setup,nt,file,ini,bmp,win,ax,program manager,challenge,supporter,win3,microsoft,cica,window\n",
        "comp.sys.ibm.pc.hardware monitor,pentium,connector,nanao,compaq,isa,motherboards,irq,mitsumi,gosh,spec,connect,vlb,motherboard,modem,cmos,pc,ide,gateway,bios\n",
        "comp.sys.mac.hardware macweek,iifx,040,pb,floptical,68040,iici,bmug,deskwriter,adb,lciii,se,iisi,quadra,centris,duo,lc,powerbook,apple,mac\n",
        "comp.windows.x r5,xdm,pixmap,escaped,event,imake,xwindows,twm,unsubscribe,openwindows,consortium,x11,xfree86,window manager,xlib,server,widget,xterm,x11r5,motif\n",
        "misc.forsale lens,cod,calculator,size,cd,obo,call,snes,camera,pay,asking,deal,summer,sell,interested,wanted,offer,shipping,forsale,sale\n",
        "rec.autos dumbest,truck,nissan,sunroof,integra,chevrolet,v6,diesel,vw,opel,mustang,dealer,oil,automotive,toyota,warning,geico,ford,auto,car\n",
        "rec.motorcycles infante,biker,piece,moa,moto,ducati,cager,yamaha,ranck,dog,harley,kawasaki,bmw,helmet,ride,rider,riding,motorcycle,bike,dod\n",
        "rec.sport.baseball uniform,mattingly,hitter,nl,marlin,fenway,mets,stadium,sox,tiger,morris,dodger,brave,ball,pitcher,cub,yankee,giant,phillies,baseball\n",
        "rec.sport.hockey cup,detroit,cherry,coach,buffalo,pen,wc,puck,goal,leaf,wing,islander,shark,penguin,espn,goalie,bruin,playoff,nhl,hockey\n",
        "sci.crypt password,rsa,de,denning,sternlight,privacy,tempest,secret,crypt,key,cipher,pgp,security,nsa,wiretap,cryptography,crypto,encryption,tapped,clipper\n",
        "sci.electronics resistor,noise,tv,adcom,led,spice,pcb,motorola,exploding,solvent,copy,8051,2600,rf,voltage,ic,scope,disk copy,electronics,circuit\n",
        "sci.med pregnency,cure,skin,needle,syndrome,health,treatment,exercise,medicine,allergic,patient,cancer,ear,msg,disease,med,medical,krillean,photography,doctor\n",
        "sci.space funding,nasa,solar,dietz,gamma ray,astronomy,astro,dc,satellite,spacecraft,pat,rocket,mar,planet,sky,launch,orbit,shuttle,moon,space\n",
        "soc.religion.christian christianity,james,catholic,moderator,hell,prayer,christ,christian,easter,arrogance,1993,sin,kiefer,geneva,daily,verse,church,rutgers,athos,clh\n",
        "talk.politics.guns cnn,senate,acronym,hunting,weaver,regulated,burn,nra,militia,liberty,fbi,handgun,quisling,waco,dividian,ranch,weapon,firearm,atf,gun\n",
        "talk.politics.mideast hezbollah,jerusalem,holocaust,hamas,armenia,muslim,zionism,uva,argic,adl,angmar,serdar,andi,jew,palestinian,turkish,arab,armenian,israeli,israel\n",
        "talk.politics.misc verdict,ten,income,initiative,celebrate,kinsey,president,drug,hostage,state,mow,garrett,sexual,gay,optilink,teel,wetware,clayton,cramer,kaldis\n",
        "talk.religion.misc new age,sabin,tossed,rawlins,koresh,tyre,hare,brian,thou,wei,new religion,mormon,2000,hudson,abortion,666,beast,burden,rosicrucian,promise\n",
        "ng20_raw_lemmas_unigrams_df0.0005_tf1 ^ ng20_raw_lemmas_bigrams_df0.0005_tf1 ^ google_bigrams  -->  precision  0.878733177073 recall  0.874943813081 f1  0.875764864946\n",
        "loaded (1797) terms"
       ]
      },
      {
       "output_type": "stream",
       "stream": "stdout",
       "text": [
        "\n",
        "extended to (3286) terms\n",
        "done loading vocabulary\n",
        "vectorizing done, 3286 terms vocabulary tokenized"
       ]
      },
      {
       "output_type": "stream",
       "stream": "stdout",
       "text": [
        "\n",
        "vectorizing done, 3286 terms vocabulary tokenized\n"
       ]
      },
      {
       "output_type": "stream",
       "stream": "stdout",
       "text": [
        "accuracy scores = [ 0.73340403  0.78152866  0.77465986  0.74590338],0.758873984939\n"
       ]
      },
      {
       "output_type": "stream",
       "stream": "stdout",
       "text": [
        "macro precision scores = [ 0.72859644  0.77841739  0.76930021  0.744514  ],0.75520701222\n"
       ]
      },
      {
       "output_type": "stream",
       "stream": "stdout",
       "text": [
        "macro recall scores = [ 0.7243091   0.77675789  0.76578851  0.7397789 ],0.751658599734\n"
       ]
      },
      {
       "output_type": "stream",
       "stream": "stdout",
       "text": [
        "macro f1 scores = [ 0.72425395  0.7771281   0.76560279  0.74072384],0.751927169613\n"
       ]
      },
      {
       "output_type": "stream",
       "stream": "stdout",
       "text": [
        "weighted average precision scores = [ 0.7323963   0.78227711  0.77403481  0.7495162 ],0.759556104927\n"
       ]
      },
      {
       "output_type": "stream",
       "stream": "stdout",
       "text": [
        "weighted average recall scores = [ 0.7323963   0.78227711  0.77403481  0.7495162 ],0.759556104927\n"
       ]
      },
      {
       "output_type": "stream",
       "stream": "stdout",
       "text": [
        "weighted f1 scores = [ 0.73101943  0.78143199  0.77282488  0.74638515],0.757915360846\n",
        "dimensionality: 3286"
       ]
      },
      {
       "output_type": "stream",
       "stream": "stdout",
       "text": [
        "\n",
        "density: 0.85564516129\n",
        "alt.atheism agency,go to,hitler,religion,punishment,higher,germany,scout,fossil,wood,decision support,rice,boy scout,jehovah witness,god be,po,gulf war,political,vice,islamic\n",
        "comp.graphics oak,color image,unix machine,map,vga,hacker ethic,point,reality,hacker,rgb,texture,no name,viewer,surface,mac version,algorithm,temp file,image,graphic,3d\n",
        "comp.os.ms-windows.misc jordan,printer driver,wise,setup,mouse cursor,nt,ink,survey,file manager,print manager,indiana,swap file,bmp,vu,real world,instruction set,ini,window,program manager,microsoft\n",
        "comp.sys.ibm.pc.hardware isa,controller,computer,pc,cpu fan,ben,low level,cd rom,bat,monitor,data compression,date,legal,power source,ide,hardware problem,blaster,bios,gateway,drive a\n",
        "comp.sys.mac.hardware control panel,hour,planet,system file,hardware,austin,photo,home computer,monty,slot,right hand,educational,se,pc at,shift key,logic board,price drop,run window,apple,mac\n",
        "comp.windows.x kong,technical conference,unix platform,computer science,capital,client,tar,sun,window system,device driver,display,default,system programmer,sparc,script,man page,widget,server,window manager,motif\n",
        "misc.forsale pedal,manual,fax modem,deck,answer question,size,depth,condition,common sense,mailing,family,trade,call,sega,mail list,deal,camera,summer,shipping,sale\n",
        "rec.autos bird,bumper,rock,sale people,early,test drive,engine,license plate,taurus,power window,dealer,toyota,insurance company,consumer report,wagon,shift,warning,oil by,ford,car\n",
        "rec.motorcycles word daddy,general rule,service manual,court,liability,bar,lock,chamber,shaft,drunk,parking,breaker,dog,blue book,chain,honda,austin area,ninja,world will,helmet\n",
        "rec.sport.baseball year,world series,oriole,marlin,baltimore,tiger,era,official,sox,hitter,bat,rockies,pitch,home run,batter,cub,brave,batting,phillies,baseball\n",
        "rec.sport.hockey power play,pool,cap,ice,tie,buffalo,wing,final,world championship,coverage,pit,detroit,coach,oiler,leaf,penguin,bruin,playoff,nhl,hockey\n",
        "sci.crypt re,public,police,radiation,cola,political party,speech,administration,court order,code,attack,escrow,hard core,key,drug dealer,security,cipher,secret,encryption,clipper\n",
        "sci.electronics data book,police radar,service department,electrical,signal,stop bit,atari,copy protection,duct,cd player,pc board,correction,cable company,duct tape,tv,cooling tower,power signal,apple mac,disk copy,circuit\n",
        "sci.med kidney,information,reaction,scientific basis,chemical,food,nerve,corona,bank,eye,scientist,fever,success,pitt,health,infection,cancer,disease,medical,patient\n",
        "sci.space funding,telescope,flight,hopkins,satellite,solar,atmosphere,mar,exploration,man work,planet,rocket,spacecraft,gamma ray,launch,moon,shuttle,orbit,sky,space\n",
        "soc.religion.christian paul,angel,mormon temple,judgement,new christian,translation,temple,ethic,christian,may,new testament,church,homosexuality issue,oakland,catholic,prayer,ancient book,christ,sex education,daily\n",
        "talk.politics.guns population,vice president,national debt,search warrant,safety,liberty,bullet,texas,fbi,rifle,senate,homicide,id card,american express,waco,free state,weapon,socialist leader,gun,atf\n",
        "talk.politics.mideast minister,jefferson,west bank,mountain pass,cloud,warsaw,internet,mcgill,expansion,greek,policy,holocaust,human right,freedom,bosnians,troop,jew,occupied,arab,israeli\n",
        "talk.politics.misc dump,study,operation,top,party,tantrum,temper tantrum,stimulus,free market,crime rate,economic,reform,molester,child molester,kinsey,environmental,good neighbor,relation,mother nature,police state\n",
        "talk.religion.misc structure,wall,south,orthodox christian,material,christian morality,ancient,hard way,kent,fiction,internet address,computer program,southern,open mind,new age,2000,order,mormon,loving god,new religion\n",
        "ng20_raw_lemmas_bigrams_df0.0005_tf1 ^ google_bigrams (extended unigrams) -->  precision  0.75520701222 recall  0.751658599734 f1  0.751927169613\n",
        "loaded (25763) terms"
       ]
      },
      {
       "output_type": "stream",
       "stream": "stdout",
       "text": [
        "\n",
        "vectorizing done, 25763 terms vocabulary tokenized"
       ]
      },
      {
       "output_type": "stream",
       "stream": "stdout",
       "text": [
        "\n",
        "vectorizing done, 25763 terms vocabulary tokenized"
       ]
      },
      {
       "output_type": "stream",
       "stream": "stdout",
       "text": [
        "\n"
       ]
      },
      {
       "output_type": "stream",
       "stream": "stdout",
       "text": [
        "accuracy scores = [ 0.86086957  0.90042463  0.89413265  0.87061077],0.881509403744\n"
       ]
      },
      {
       "output_type": "stream",
       "stream": "stdout",
       "text": [
        "macro precision scores = [ 0.85974936  0.90015654  0.89277009  0.86950341],0.880544853874\n"
       ]
      },
      {
       "output_type": "stream",
       "stream": "stdout",
       "text": [
        "macro recall scores = [ 0.85282758  0.89818441  0.88792881  0.86765305],0.876648463322\n"
       ]
      },
      {
       "output_type": "stream",
       "stream": "stdout",
       "text": [
        "macro f1 scores = [ 0.85394142  0.8989801   0.88888335  0.86785084],0.877413929112\n"
       ]
      },
      {
       "output_type": "stream",
       "stream": "stdout",
       "text": [
        "weighted average precision scores = [ 0.86107286  0.90066861  0.89516701  0.87259127],0.882374936336\n"
       ]
      },
      {
       "output_type": "stream",
       "stream": "stdout",
       "text": [
        "weighted average recall scores = [ 0.86107286  0.90066861  0.89516701  0.87259127],0.882374936336\n"
       ]
      },
      {
       "output_type": "stream",
       "stream": "stdout",
       "text": [
        "weighted f1 scores = [ 0.85917168  0.90037435  0.8933922   0.87087898],0.880954301635\n",
        "dimensionality: 25763"
       ]
      },
      {
       "output_type": "stream",
       "stream": "stdout",
       "text": [
        "\n",
        "density: 0.920496448395\n",
        "alt.atheism jaeger,liar,darwin,wrote,wwc,dogma,tammy,charley,wingate,motto,cobb,asimov,scout,benedikt,islamic,mathew,rushdie,atheism,keith,atheist\n",
        "comp.graphics povray,visualization,raytracing,mpeg,sphere,tiff,hacker,surface,photoshop,viewer,fractal,animation,cview,polygon,image,siggraph,3do,pov,3d,graphic\n",
        "comp.os.ms-windows.misc doublespace,m,nt,winqvt,driver,smartdrv,risc,setup,file,ini,win,bmp,program manager,ax,challenge,supporter,win3,cica,microsoft,window\n",
        "comp.sys.ibm.pc.hardware robert,motherboards,smc,jumper,connector,irq,compaq,mitsumi,nanao,isa,monitor,modem,connect,motherboard,vlb,ide,cmos,pc,gateway,bios\n",
        "comp.sys.mac.hardware 040,on 24,iifx,iici,68040,pb,floptical,deskwriter,bmug,adb,lciii,se,centris,quadra,iisi,duo,powerbook,lc,apple,mac\n",
        "comp.windows.x xv,escaped,subscribe,xdm,pixmap,event,openwindows,xwindows,imake,unsubscribe,twm,x11,window manager,xfree86,xlib,server,widget,xterm,x11r5,motif\n",
        "misc.forsale cod,calculator,size,obo,cd,call,snes,asking,deal,camera,pay,summer,interested,sell,for sale,wanted,sale,offer,shipping,forsale\n",
        "rec.autos honda,nissan,truck,chevrolet,sunroof,v6,diesel,opel,integra,dealer,vw,mustang,automotive,toyota,warning,oil,geico,ford,auto,car\n",
        "rec.motorcycles cager,infante,piece,moa,moto,ducati,ranck,yamaha,the bike,dog,harley,kawasaki,helmet,bmw,ride,rider,riding,motorcycle,bike,dod\n",
        "rec.sport.baseball hit,mets,uniform,marlin,morris,hitter,nl,fenway,tiger,stadium,brave,dodger,sox,ball,pitcher,giant,yankee,cub,phillies,baseball\n",
        "rec.sport.hockey final,coach,octopus,wing,leaf,buffalo,team,detroit,wc,puck,goal,penguin,shark,islander,espn,goalie,bruin,playoff,nhl,hockey\n",
        "sci.crypt denning,de,rsa,sternlight,secret,tempest,privacy,crypt,no good,cipher,key,pgp,security,wiretap,nsa,tapped,cryptography,crypto,encryption,clipper\n",
        "sci.electronics disk copy,resistor,adcom,led,pcb,tv,exploding,spice,motorola,2600,copy protected,copy,solvent,rf,8051,voltage,ic,scope,electronics,circuit\n",
        "sci.med physician,syndrome,cure,migraine,fever,health,exercise,medicine,treatment,allergic,patient,cancer,ear,msg,disease,med,krillean,medical,photography,doctor\n",
        "sci.space funding,dietz,flight,nasa,astronomy,astro,gamma ray,dc,satellite,spacecraft,mar,rocket,sky,pat,planet,moon,launch,shuttle,orbit,space\n",
        "soc.religion.christian moderator,james,catholic,christianity,hell,prayer,christ,easter,arrogance,1993,christian,sin,geneva,kiefer,church,daily,verse,rutgers,athos,clh\n",
        "talk.politics.guns weaver,cnn,hunting,regulated,senate,acronym,liberty,nra,burn,militia,fbi,handgun,quisling,dividian,waco,ranch,weapon,firearm,atf,gun\n",
        "talk.politics.mideast elia,jerusalem,racism,hamas,armenia,uva,zionism,serdar,argic,muslim,adl,andi,angmar,jew,palestinian,turkish,arab,armenian,israeli,israel\n",
        "talk.politics.misc clinton,income,celebrate,initiative,tax,kinsey,hostage,state,mow,drug,garrett,teel,optilink,wetware,sexual,clayton,gay,cramer,top ten,kaldis\n",
        "talk.religion.misc new age,robert wei,new religion,koresh,mithra,hare,rawlins,mormon,beast,666,2000 year,tyre,brian,thou,hudson,mr president,rosicrucian,abortion,burden,promise\n",
        "ng20_raw_lemmas_unigrams_df0.0005_tf1 ^ ng20_raw_lemmas_bigrams_df0.0005_tf1 ^ wiki_wiktionary_bigrams_vw  -->  precision  0.880544853874 recall  0.876648463322 f1  0.877413929112\n",
        "loaded (7151) terms"
       ]
      },
      {
       "output_type": "stream",
       "stream": "stdout",
       "text": [
        "\n",
        "extended to (10900) terms\n",
        "done loading vocabulary\n",
        "vectorizing done, 10900 terms vocabulary tokenized"
       ]
      },
      {
       "output_type": "stream",
       "stream": "stdout",
       "text": [
        "\n",
        "vectorizing done, 10900 terms vocabulary tokenized"
       ]
      },
      {
       "output_type": "stream",
       "stream": "stdout",
       "text": [
        "\n"
       ]
      },
      {
       "output_type": "stream",
       "stream": "stdout",
       "text": [
        "accuracy scores = [ 0.81717922  0.85987261  0.84991497  0.81485422],0.835455254256\n"
       ]
      },
      {
       "output_type": "stream",
       "stream": "stdout",
       "text": [
        "macro precision scores = [ 0.81659931  0.85881698  0.84744933  0.81454737],0.834353248336\n"
       ]
      },
      {
       "output_type": "stream",
       "stream": "stdout",
       "text": [
        "macro recall scores = [ 0.80898896  0.85735563  0.84297092  0.81136698],0.830170619803\n"
       ]
      },
      {
       "output_type": "stream",
       "stream": "stdout",
       "text": [
        "macro f1 scores = [ 0.81009531  0.85786415  0.84349728  0.81167797],0.830783677907\n"
       ]
      },
      {
       "output_type": "stream",
       "stream": "stdout",
       "text": [
        "weighted average precision scores = [ 0.81802306  0.86028609  0.850167    0.81721404],0.836422548519\n"
       ]
      },
      {
       "output_type": "stream",
       "stream": "stdout",
       "text": [
        "weighted average recall scores = [ 0.81802306  0.86028609  0.850167    0.81721404],0.836422548519\n"
       ]
      },
      {
       "output_type": "stream",
       "stream": "stdout",
       "text": [
        "weighted f1 scores = [ 0.81541956  0.85985886  0.84855314  0.81476927],0.834650207053\n",
        "dimensionality: 10900"
       ]
      },
      {
       "output_type": "stream",
       "stream": "stdout",
       "text": [
        "\n",
        "density: 0.90502293578\n",
        "alt.atheism moral agency,re,dan,rice,fish,dogma,mccullough,mark mccullough,motto,gulf war,vice,bobby,scout,cobb,islamic law,healy,islamic,atheist,atheism,keith\n",
        "comp.graphics tga,imagine,jpeg,temp file,point,42,virtual reality,hacker,visualization,tiff,sphere,surface,photoshop,polygon,viewer,siggraph,image,pov,3d,graphic\n",
        "comp.os.ms-windows.misc file,dark,driver,m,swap file,bmp,visual basic,nt,indiana,character,canon,setup,max,instruction set,win,program manager,ini,challenge,microsoft,window\n",
        "comp.sys.ibm.pc.hardware fi,o,the connector,cpu,robert,bat,modem,ide,burn it,setting,isa,atari,comment,monitor,486,just love,pc,17,gateway,bios\n",
        "comp.sys.mac.hardware per,ethernet,upgrade,kept on,po,internet,reflect,clock,950,on 24,iici,se,centris,duo,quadra,iisi,apple,lc,powerbook,mac\n",
        "comp.windows.x cursor,mit,the consortium,client,sparc,binary,tel,the server,sun,dump,gc,support,default,script,consortium,display,event,server,window manager,widget\n",
        "misc.forsale make me,the package,for sale,worth,size,reply,year old,cheap,firm,original,deal,call,cd,summer,camera,pay,asking,sale,sell,wanted\n",
        "rec.autos flat,of all,insurance company,license plate,bmw,dealership,truck,driving,opel,dealer,wagon,engine,toyota,oil,mustang,warning,geico,ford,auto,car\n",
        "rec.motorcycles for today,piece,lock,asphaug,sutherland,cage,82,advice,rec,chain,honda,the bike,shaft drive,moa,ed green,bmw,dog,rider,ride,bike\n",
        "rec.sport.baseball bill james,nl,morris,mets,rockies,hr,cardinal,hitter,marlin,sox,tiger,ball,brave,stadium,dodger,giant,yankee,phillies,cub,baseball\n",
        "rec.sport.hockey abc,team,ice,buffalo,pit,oiler,lemieux,final,coach,islander,penguin,detroit,shark,goal,espn,goalie,bruin,playoff,nhl,hockey\n",
        "sci.crypt de,algorithm,attack,announcement,denning,the lobby,key,any more,escrow,rsa,secret,privacy,pgp,cipher,security,no good,crypto,cryptography,encryption,clipper\n",
        "sci.electronics ic,noise,them,power,re power,ham,led,duct,resistance,duct tape,electrical,disk copy,copy,copy protected,2600,tv,voltage,scope,electronics,circuit\n",
        "sci.med eye,skin,medicine,physician,fever,health,exercise,muscle,allergic,patient,treatment,ear,cancer,msg,gordon bank,med,medical,disease,doctor,photography\n",
        "sci.space telescope,exploration,flight,dc,solar,satellite,mission,astronomy,mar,gamma ray,pat,spacecraft,rocket,sky,moon,planet,shuttle,launch,orbit,space\n",
        "soc.religion.christian fisher,the mystery,paul,sabbath,ceremony,may,spiritual,translation,james,easter,hell,prayer,sin,church,christ,catholic,christian,daily,verse,1993\n",
        "talk.politics.guns texas,politician,free state,criminal,concealed,liberty,bullet,safety,senate,survivor,rifle,weaver,nra,hunting,fbi,waco,burn,weapon,atf,gun\n",
        "talk.politics.mideast occupied,iranian,soldier,holocaust,muslim,warsaw,jewish,policy,armenia,freedom,argic,palestinian,serdar,turkish,jew,adl,arab,armenian,israel,israeli\n",
        "talk.politics.misc party,income,liberal,tax,libertarian,economic,verdict,ted frank,state,kinsey,drug,initiative,police state,baker,clayton,sexual,gay,garrett,top ten,cramer\n",
        "talk.religion.misc malcolm lee,moment,sword,the beast,wei,beast,sabin,who next,albert sabin,new age,robert wei,commandment,new religion,hudson,rosicrucian,abortion,mr president,brian,burden,promise\n",
        "ng20_raw_lemmas_bigrams_df0.0005_tf1 ^ wiki_wiktionary_bigrams_vw (extended unigrams) -->  precision  0.834353248336 recall  0.830170619803 f1  0.830783677907\n",
        "loaded (25322) terms"
       ]
      },
      {
       "output_type": "stream",
       "stream": "stdout",
       "text": [
        "\n",
        "vectorizing done, 25322 terms vocabulary tokenized"
       ]
      },
      {
       "output_type": "stream",
       "stream": "stdout",
       "text": [
        "\n",
        "vectorizing done, 25322 terms vocabulary tokenized"
       ]
      },
      {
       "output_type": "stream",
       "stream": "stdout",
       "text": [
        "\n"
       ]
      },
      {
       "output_type": "stream",
       "stream": "stdout",
       "text": [
        "accuracy scores = [ 0.8621421   0.89978769  0.89519558  0.86975952],0.881721221748\n"
       ]
      },
      {
       "output_type": "stream",
       "stream": "stdout",
       "text": [
        "macro precision scores = [ 0.86106768  0.89950272  0.89379057  0.868779  ],0.880784990409\n"
       ]
      },
      {
       "output_type": "stream",
       "stream": "stdout",
       "text": [
        "macro recall scores = [ 0.85429137  0.89743124  0.88907952  0.86685508],0.876914300906\n"
       ]
      },
      {
       "output_type": "stream",
       "stream": "stdout",
       "text": [
        "macro f1 scores = [ 0.85555195  0.89827448  0.89003114  0.8670403 ],0.877724467815\n"
       ]
      },
      {
       "output_type": "stream",
       "stream": "stdout",
       "text": [
        "weighted average precision scores = [ 0.86240055  0.90001488  0.89627427  0.87192649],0.88265404817\n"
       ]
      },
      {
       "output_type": "stream",
       "stream": "stdout",
       "text": [
        "weighted average recall scores = [ 0.86240055  0.90001488  0.89627427  0.87192649],0.88265404817\n"
       ]
      },
      {
       "output_type": "stream",
       "stream": "stdout",
       "text": [
        "weighted f1 scores = [ 0.86064051  0.89973009  0.89452643  0.87006935],0.88124159158\n",
        "dimensionality: 25322"
       ]
      },
      {
       "output_type": "stream",
       "stream": "stdout",
       "text": [
        "\n",
        "density: 0.917940920938\n",
        "alt.atheism mangoe,liar,darwin,wrote,wwc,charley,dogma,tammy,wingate,cobb,motto,asimov,scout,benedikt,islamic,mathew,rushdie,atheism,keith,atheist\n",
        "comp.graphics povray,visualization,raytracing,mpeg,sphere,tiff,hacker,surface,photoshop,viewer,fractal,animation,cview,polygon,image,siggraph,3do,pov,3d,graphic\n",
        "comp.os.ms-windows.misc doublespace,nt,m,winqvt,smartdrv,risc,driver,setup,file,ini,win,bmp,program manager,ax,challenge,supporter,win3,cica,microsoft,window\n",
        "comp.sys.ibm.pc.hardware pentium,robert,smc,connector,motherboards,compaq,irq,nanao,modem,mitsumi,monitor,isa,motherboard,vlb,connect,cmos,ide,pc,gateway,bios\n",
        "comp.sys.mac.hardware 040,iifx,68040,iici,floptical,pb,on 24,deskwriter,bmug,adb,lciii,se,centris,quadra,iisi,duo,powerbook,lc,apple,mac\n",
        "comp.windows.x xv,xdm,escaped,subscribe,pixmap,event,openwindows,imake,xwindows,twm,unsubscribe,x11,window manager,xfree86,xlib,server,widget,xterm,x11r5,motif\n",
        "misc.forsale lens,calculator,size,obo,cd,call,snes,asking,deal,camera,pay,summer,interested,sell,for sale,wanted,sale,offer,shipping,forsale\n",
        "rec.autos dumbest,nissan,truck,chevrolet,sunroof,integra,v6,dealer,diesel,opel,vw,mustang,automotive,toyota,oil,warning,geico,ford,auto,car\n",
        "rec.motorcycles infante,piece,cager,moto,moa,ducati,ranck,the bike,yamaha,dog,harley,kawasaki,helmet,bmw,ride,rider,riding,motorcycle,bike,dod\n",
        "rec.sport.baseball mets,hit,uniform,marlin,morris,hitter,nl,fenway,stadium,tiger,brave,dodger,sox,ball,pitcher,cub,yankee,giant,phillies,baseball\n",
        "rec.sport.hockey final,coach,wing,octopus,team,leaf,buffalo,detroit,wc,goal,puck,shark,penguin,islander,espn,goalie,bruin,playoff,nhl,hockey\n",
        "sci.crypt de,denning,rsa,sternlight,secret,tempest,privacy,crypt,cipher,key,no good,pgp,security,nsa,wiretap,tapped,cryptography,crypto,encryption,clipper\n",
        "sci.electronics resistor,disk copy,adcom,led,tv,pcb,spice,motorola,exploding,2600,copy,copy protected,rf,solvent,8051,voltage,ic,scope,electronics,circuit\n",
        "sci.med seizure,cure,migraine,physician,fever,health,exercise,treatment,medicine,allergic,patient,cancer,ear,msg,disease,med,krillean,medical,photography,doctor\n",
        "sci.space funding,dietz,flight,nasa,astronomy,astro,gamma ray,dc,satellite,spacecraft,mar,sky,rocket,pat,planet,moon,launch,shuttle,orbit,space\n",
        "soc.religion.christian moderator,james,catholic,christianity,hell,prayer,christ,arrogance,easter,1993,christian,sin,geneva,kiefer,church,daily,verse,rutgers,athos,clh\n",
        "talk.politics.guns weaver,hunting,cnn,senate,regulated,acronym,liberty,nra,burn,militia,fbi,handgun,quisling,dividian,waco,ranch,weapon,firearm,atf,gun\n",
        "talk.politics.mideast elia,racism,hamas,jerusalem,armenia,uva,zionism,argic,serdar,muslim,andi,adl,angmar,jew,palestinian,turkish,arab,armenian,israeli,israel\n",
        "talk.politics.misc deficit,initiative,income,celebrate,tax,kinsey,hostage,state,drug,mow,garrett,teel,optilink,clayton,sexual,wetware,gay,cramer,top ten,kaldis\n",
        "talk.religion.misc new age,robert wei,koresh,mithra,rawlins,hare,mormon,beast,666,2000 year,tyre,thou,new religion,brian,hudson,mr president,rosicrucian,abortion,burden,promise\n",
        "ng20_raw_lemmas_unigrams_df0.0005_tf1 ^ ng20_raw_lemmas_bigrams_df0.0005_tf1 ^ wiki_google_bigrams_vw  -->  precision  0.880784990409 recall  0.876914300906 f1  0.877724467815\n",
        "loaded (6710) terms"
       ]
      },
      {
       "output_type": "stream",
       "stream": "stdout",
       "text": [
        "\n",
        "extended to (10381) terms\n",
        "done loading vocabulary\n",
        "vectorizing done, 10381 terms vocabulary tokenized"
       ]
      },
      {
       "output_type": "stream",
       "stream": "stdout",
       "text": [
        "\n",
        "vectorizing done, 10381 terms vocabulary tokenized"
       ]
      },
      {
       "output_type": "stream",
       "stream": "stdout",
       "text": [
        "\n"
       ]
      },
      {
       "output_type": "stream",
       "stream": "stdout",
       "text": [
        "accuracy scores = [ 0.81866384  0.86093418  0.8537415   0.81847202],0.837952883331\n"
       ]
      },
      {
       "output_type": "stream",
       "stream": "stdout",
       "text": [
        "macro precision scores = [ 0.81799906  0.85956821  0.85014718  0.8182349 ],0.836487336912\n"
       ]
      },
      {
       "output_type": "stream",
       "stream": "stdout",
       "text": [
        "macro recall scores = [ 0.81042606  0.8577302   0.84609475  0.81516148],0.832353122183\n"
       ]
      },
      {
       "output_type": "stream",
       "stream": "stdout",
       "text": [
        "macro f1 scores = [ 0.81150869  0.85827773  0.84642827  0.81553153],0.832936555117\n"
       ]
      },
      {
       "output_type": "stream",
       "stream": "stdout",
       "text": [
        "weighted average precision scores = [ 0.81936536  0.86097359  0.85388784  0.82104101],0.838816948109\n"
       ]
      },
      {
       "output_type": "stream",
       "stream": "stdout",
       "text": [
        "weighted average recall scores = [ 0.81936536  0.86097359  0.85388784  0.82104101],0.838816948109\n"
       ]
      },
      {
       "output_type": "stream",
       "stream": "stdout",
       "text": [
        "weighted f1 scores = [ 0.8168633   0.86059514  0.85233526  0.81861605],0.837102436058\n",
        "dimensionality: 10381"
       ]
      },
      {
       "output_type": "stream",
       "stream": "stdout",
       "text": [
        "\n",
        "density: 0.895641075041\n",
        "alt.atheism dan,dogma,re,fred rice,gulf war,fish,rice,motto,mark mccullough,mccullough,vice,bobby,cobb,scout,islamic law,healy,islamic,atheist,atheism,keith\n",
        "comp.graphics rgb,point,hacker,imagine,virtual reality,algorithm,temp file,visualization,tiff,42,sphere,surface,viewer,photoshop,polygon,image,siggraph,pov,3d,graphic\n",
        "comp.os.ms-windows.misc driver,dark,swap file,file,visual basic,canon,indiana,nt,m,character,setup,bmp,max,win,instruction set,program manager,ini,challenge,microsoft,window\n",
        "comp.sys.ibm.pc.hardware o,blue wave,the connector,modem,cpu,fi,robert,ide,comment,monitor,burn it,atari,isa,486,drive a,pc,just love,17,gateway,bios\n",
        "comp.sys.mac.hardware internal,upgrade,pc at,clock speed,po,price drop,hardware,24 hour,950,iici,on 24,se,centris,duo,quadra,iisi,apple,lc,powerbook,mac\n",
        "comp.windows.x client,the code,mit,sparc,the server,cursor,the consortium,sun,tel,gc,support,default,script,display,consortium,event,widget,server,window manager,motif\n",
        "misc.forsale trade,sega,ticket,year old,for sale,firm,worth,the package,pay,original,deal,call,cd,summer,camera,sale,asking,sell,wanted,shipping\n",
        "rec.autos trunk,villager,license plate,bmw,insurance company,driving,truck,dealership,engine,opel,dealer,oil,wagon,toyota,mustang,warning,geico,ford,auto,car\n",
        "rec.motorcycles asphaug,cage,lock,sutherland,wave,rec,honda,advice,82,chain,the bike,shaft drive,bmw,ed green,moa,dog,helmet,rider,ride,bike\n",
        "rec.sport.baseball bill james,morris,rockies,hr,nl,mets,sox,cardinal,hitter,marlin,stadium,tiger,ball,brave,dodger,giant,phillies,cub,yankee,baseball\n",
        "rec.sport.hockey pool,ice,lemieux,leaf,buffalo,oiler,pit,final,coach,islander,penguin,detroit,espn,goal,shark,goalie,bruin,playoff,nhl,hockey\n",
        "sci.crypt once,de,algorithm,attack,announcement,the lobby,denning,key,escrow,rsa,secret,privacy,pgp,cipher,security,no good,crypto,encryption,cryptography,clipper\n",
        "sci.electronics universal,style,noise,power,them,led,duct,resistance,electrical,copy,duct tape,disk copy,2600,ic,copy protected,tv,voltage,scope,electronics,circuit\n",
        "sci.med gordon,eye,skin,medicine,health,fever,physician,exercise,patient,treatment,allergic,ear,gordon bank,cancer,msg,med,medical,disease,doctor,photography\n",
        "sci.space flight,funding,fred,dc,satellite,solar,mission,astronomy,mar,spacecraft,gamma ray,pat,rocket,sky,planet,moon,shuttle,launch,orbit,space\n",
        "soc.religion.christian homosexuality,the mystery,tongue,ceremony,sabbath,may,translation,spiritual,james,hell,easter,sin,prayer,christ,church,catholic,christian,verse,daily,1993\n",
        "talk.politics.guns criminal,whitehead,texas,politician,bullet,free state,liberty,safety,weaver,senate,survivor,rifle,hunting,nra,fbi,waco,burn,weapon,atf,gun\n",
        "talk.politics.mideast jewish,soldier,iranian,occupied,policy,bosnians,warsaw,say you,armenia,freedom,argic,palestinian,serdar,turkish,adl,jew,arab,armenian,israel,israeli\n",
        "talk.politics.misc reform,economic,income,liberal,libertarian,tax,state,verdict,kinsey,ted frank,drug,initiative,police state,clayton,baker,sexual,gay,garrett,top ten,cramer\n",
        "talk.religion.misc biblical,the beast,sword,wei,moment,sabin,albert sabin,beast,who next,commandment,robert wei,new age,hudson,rosicrucian,abortion,mr president,brian,new religion,burden,promise\n",
        "ng20_raw_lemmas_bigrams_df0.0005_tf1 ^ wiki_google_bigrams_vw (extended unigrams) -->  precision  0.836487336912 recall  0.832353122183 f1  0.832936555117\n",
        "loaded (22134) terms"
       ]
      },
      {
       "output_type": "stream",
       "stream": "stdout",
       "text": [
        "\n",
        "vectorizing done, 22134 terms vocabulary tokenized"
       ]
      },
      {
       "output_type": "stream",
       "stream": "stdout",
       "text": [
        "\n",
        "vectorizing done, 22134 terms vocabulary tokenized"
       ]
      },
      {
       "output_type": "stream",
       "stream": "stdout",
       "text": [
        "\n"
       ]
      },
      {
       "output_type": "stream",
       "stream": "stdout",
       "text": [
        "accuracy scores = [ 0.86086957  0.90276008  0.89455782  0.86805703],0.881561126671\n"
       ]
      },
      {
       "output_type": "stream",
       "stream": "stdout",
       "text": [
        "macro precision scores = [ 0.85941611  0.90227175  0.89292327  0.86700135],0.880403121272\n"
       ]
      },
      {
       "output_type": "stream",
       "stream": "stdout",
       "text": [
        "macro recall scores = [ 0.85302261  0.90035091  0.88793695  0.86484304],0.876538376759\n"
       ]
      },
      {
       "output_type": "stream",
       "stream": "stdout",
       "text": [
        "macro f1 scores = [ 0.85414241  0.90110149  0.88892175  0.86515471],0.877330089994\n"
       ]
      },
      {
       "output_type": "stream",
       "stream": "stdout",
       "text": [
        "weighted average precision scores = [ 0.86111211  0.9028823   0.89555952  0.87023092],0.882446212064\n"
       ]
      },
      {
       "output_type": "stream",
       "stream": "stdout",
       "text": [
        "weighted average recall scores = [ 0.86111211  0.9028823   0.89555952  0.87023092],0.882446212064\n"
       ]
      },
      {
       "output_type": "stream",
       "stream": "stdout",
       "text": [
        "weighted f1 scores = [ 0.85937578  0.9026333   0.89379403  0.86837681],0.881044979271\n",
        "dimensionality: 22134"
       ]
      },
      {
       "output_type": "stream",
       "stream": "stdout",
       "text": [
        "\n",
        "density: 0.920561127677\n",
        "alt.atheism liar,darwin,mangoe,wwc,charley,wrote,dogma,tammy,wingate,cobb,scout,asimov,benedikt,motto,islamic,mathew,rushdie,atheism,keith,atheist\n",
        "comp.graphics vesa,povray,raytracing,mpeg,tiff,sphere,surface,viewer,photoshop,animation,fractal,hacker,cview,polygon,siggraph,image,3do,pov,3d,graphic\n",
        "comp.os.ms-windows.misc driver,printer driver,winqvt,risc,doublespace,smartdrv,setup,nt,file,ini,bmp,win,program manager,ax,challenge,supporter,win3,cica,microsoft,window\n",
        "comp.sys.ibm.pc.hardware connector,monitor,motherboards,smc,compaq,gosh,connect,isa,mitsumi,nanao,irq,modem,spec,vlb,cmos,motherboard,pc,ide,gateway,bios\n",
        "comp.sys.mac.hardware 040,iifx,pb,kept on,floptical,68040,iici,deskwriter,bmug,adb,lciii,se,iisi,quadra,centris,duo,powerbook,lc,apple,mac\n",
        "comp.windows.x xwd,escaped,pixmap,event,xdm,xwindows,imake,unsubscribe,openwindows,twm,consortium,x11,xfree86,window manager,xlib,server,widget,xterm,x11r5,motif\n",
        "misc.forsale lens,size,obo,calculator,cd,asking,call,snes,camera,pay,deal,sell,interested,summer,for sale,wanted,sale,offer,shipping,forsale\n",
        "rec.autos honda,truck,chevrolet,nissan,sunroof,v6,integra,diesel,vw,opel,mustang,automotive,dealer,oil,toyota,warning,geico,ford,auto,car\n",
        "rec.motorcycles infante,biker,piece,moa,ducati,cager,moto,yamaha,ranck,dog,harley,kawasaki,bmw,helmet,ride,rider,riding,motorcycle,bike,dod\n",
        "rec.sport.baseball uniform,mattingly,hitter,marlin,nl,fenway,mets,stadium,tiger,sox,morris,dodger,ball,brave,pitcher,cub,giant,yankee,phillies,baseball\n",
        "rec.sport.hockey detroit,oiler,coach,cup,team,pen,wc,puck,wing,leaf,goal,islander,shark,penguin,espn,goalie,bruin,playoff,nhl,hockey\n",
        "sci.crypt rsa,denning,de,sternlight,privacy,tempest,secret,no good,crypt,key,cipher,pgp,security,nsa,wiretap,tapped,cryptography,crypto,encryption,clipper\n",
        "sci.electronics resistor,noise,adcom,pcb,motorola,tv,led,spice,2600,exploding,solvent,rf,copy,8051,voltage,ic,disk copy,scope,electronics,circuit\n",
        "sci.med migraine,cure,health,syndrome,skin,needle,treatment,exercise,medicine,allergic,patient,cancer,ear,med,msg,disease,krillean,medical,photography,doctor\n",
        "sci.space funding,dietz,flight,nasa,gamma ray,astronomy,astro,dc,satellite,spacecraft,rocket,mar,pat,planet,sky,launch,shuttle,orbit,moon,space\n",
        "soc.religion.christian moderator,james,christianity,catholic,hell,prayer,christ,easter,christian,arrogance,1993,sin,geneva,kiefer,daily,church,verse,rutgers,athos,clh\n",
        "talk.politics.guns senate,cnn,acronym,regulated,weaver,hunting,burn,nra,liberty,militia,fbi,handgun,quisling,waco,dividian,ranch,weapon,firearm,atf,gun\n",
        "talk.politics.mideast elia,jerusalem,holocaust,hamas,armenia,uva,muslim,zionism,adl,argic,andi,angmar,serdar,jew,palestinian,turkish,arab,armenian,israeli,israel\n",
        "talk.politics.misc police state,verdict,income,celebrate,initiative,kinsey,drug,hostage,state,president,mow,garrett,sexual,gay,optilink,teel,wetware,clayton,cramer,kaldis\n",
        "talk.religion.misc new age,sabin,koresh,tossed,hare,tyre,rawlins,beast,666,brian,thou,wei,mormon,2000,hudson,abortion,burden,rosicrucian,mr president,promise\n",
        "ng20_raw_lemmas_unigrams_df0.0005_tf1 ^ ng20_raw_lemmas_bigrams_df0.0005_tf1 ^ wiktionary_google_bigrams_vw  -->  precision  0.880403121272 recall  0.876538376759 f1  0.877330089994\n",
        "loaded (3522) terms"
       ]
      },
      {
       "output_type": "stream",
       "stream": "stdout",
       "text": [
        "\n",
        "extended to (5695) terms\n",
        "done loading vocabulary\n",
        "vectorizing done, 5695 terms vocabulary tokenized"
       ]
      },
      {
       "output_type": "stream",
       "stream": "stdout",
       "text": [
        "\n",
        "vectorizing done, 5695 terms vocabulary tokenized"
       ]
      },
      {
       "output_type": "stream",
       "stream": "stdout",
       "text": [
        "\n"
       ]
      },
      {
       "output_type": "stream",
       "stream": "stdout",
       "text": [
        "accuracy scores = [ 0.75440085  0.80934183  0.80208333  0.7727176 ],0.78463590177\n"
       ]
      },
      {
       "output_type": "stream",
       "stream": "stdout",
       "text": [
        "macro precision scores = [ 0.74884002  0.80662765  0.79766934  0.7732246 ],0.781590405228\n"
       ]
      },
      {
       "output_type": "stream",
       "stream": "stdout",
       "text": [
        "macro recall scores = [ 0.74587054  0.80448918  0.79371717  0.7674562 ],0.77788327284\n"
       ]
      },
      {
       "output_type": "stream",
       "stream": "stdout",
       "text": [
        "macro f1 scores = [ 0.74571339  0.8049329   0.79366123  0.76884508],0.778288152984\n"
       ]
      },
      {
       "output_type": "stream",
       "stream": "stdout",
       "text": [
        "weighted average precision scores = [ 0.75301105  0.80996863  0.80148993  0.77730068],0.785442575167\n"
       ]
      },
      {
       "output_type": "stream",
       "stream": "stdout",
       "text": [
        "weighted average recall scores = [ 0.75301105  0.80996863  0.80148993  0.77730068],0.785442575167\n"
       ]
      },
      {
       "output_type": "stream",
       "stream": "stdout",
       "text": [
        "weighted f1 scores = [ 0.7522793   0.80904412  0.80016562  0.77357876],0.783766949725\n",
        "dimensionality: 5695"
       ]
      },
      {
       "output_type": "stream",
       "stream": "stdout",
       "text": [
        "\n",
        "density: 0.898876207199\n",
        "alt.atheism decision support,jehovah witness,gulf,tu,believing in,fi,faq,fish,punishment,moral,boy scout,go to,scout,rice,religion,gulf war,po,vice,political,islamic\n",
        "comp.graphics map,jpeg,hacker ethic,mac version,vga,texture,rgb,fill,virtual reality,temp file,tracing,hacker,point,surface,algorithm,viewer,not yet,image,3d,graphic\n",
        "comp.os.ms-windows.misc ink,print manager,desktop,character,survey,nt,real world,swap file,file manager,setup,indiana,vu,visual basic,bmp,win,instruction set,program manager,ini,window,microsoft\n",
        "comp.sys.ibm.pc.hardware finger,hardware problem,comment,cpu,data compression,parity,blaster,ben,atari,computer,floppy,isa,date,monitor,bat,pc,ide,drive a,bios,gateway\n",
        "comp.sys.mac.hardware carrying,clock speed,memory,video,slot,per,mail order,clock,educational,hardware,pc at,photo,run window,logic board,reflect,price drop,se,kept on,apple,mac\n",
        "comp.windows.x window system,man page,dump,following,device driver,support,example,display,client,computer science,sparc,system programmer,sun,script,default,event,widget,server,window manager,motif\n",
        "misc.forsale ticket,business,family,deck,size,trade,sega,cheap,cd,book,worth,pay,original,asking,deal,camera,sale,summer,wanted,shipping\n",
        "rec.autos consumer report,washington,bumper,early,flat,driving,truck,oil by,license plate,transmission,dealer,engine,wagon,shift,toyota,of all,insurance company,warning,ford,car\n",
        "rec.motorcycles parking,respect,exhaust,boot,hello there,austin area,piece,drunk,drink,fault,club,member,lock,bar,ninja,chain,shaft,honda,dog,helmet\n",
        "rec.sport.baseball oriole,jay,length,nl,sox,home run,rockies,era,hitter,hit,tiger,batter,marlin,pitch,ball,batting,brave,cub,phillies,baseball\n",
        "rec.sport.hockey burn,final,mask,buffalo,cup,edmonton,world championship,pit,ice,coverage,leaf,detroit,oiler,penguin,coach,goal,bruin,playoff,nhl,hockey\n",
        "sci.crypt once,drug dealer,random,hard core,algorithm,attack,fifth,de,key,fifth amendment,any more,public key,escrow,cipher,security,organized,secret,no good,encryption,clipper\n",
        "sci.electronics power line,in series,service department,current,ham,electrical,acid,pc board,copy protection,duct,correction,copy,cooling tower,duct tape,apple mac,power signal,2600,tv,disk copy,circuit\n",
        "sci.med success,information,side effect,eye,scientist,effect,infection,health,bank,fever,pitt,medicine,muscle,food,med,cancer,medical,patient,disease,doctor\n",
        "sci.space man work,lunar,dc,satellite,funding,mission,astronomy,exploration,flight,mar,rocket,gamma ray,spacecraft,planet,moon,launch,shuttle,sky,orbit,space\n",
        "soc.religion.christian heart,ancient book,paul,oakland,broken,temple,james,translation,hell,easter,may,christian,sex education,sin,catholic,prayer,church,married,christ,daily\n",
        "talk.politics.guns gang,american express,stove,homicide,criminal,safety,in for,the pill,free state,senate,texas,bullet,socialist leader,rifle,fbi,waco,burn,weapon,atf,gun\n",
        "talk.politics.mideast jewish,hate,muslim,internet,mcgill,soviet,shoot down,expansion,human right,having to,bosnians,freedom,policy,troop,holocaust,turkey,occupied,jew,arab,israeli\n",
        "talk.politics.misc trial,selective service,president,molester,child molester,drug,income,american,libertarian,good neighbor,kinsey,reform,mother nature,environmental,relation,ten,economic,sexual,police state,gay\n",
        "talk.religion.misc take part,kent,southern,moral system,material,loving,moins,au moins,beast,the beast,new age,2000,mormon,commandment,order,ancient,new religion,loving god,backing,mr president\n",
        "ng20_raw_lemmas_bigrams_df0.0005_tf1 ^ wiktionary_google_bigrams_vw (extended unigrams) -->  precision  0.781590405228 recall  0.77788327284 f1  0.778288152984\n",
        "loaded (26158) terms"
       ]
      },
      {
       "output_type": "stream",
       "stream": "stdout",
       "text": [
        "\n",
        "vectorizing done, 26158 terms vocabulary tokenized"
       ]
      },
      {
       "output_type": "stream",
       "stream": "stdout",
       "text": [
        "\n",
        "vectorizing done, 26158 terms vocabulary tokenized"
       ]
      },
      {
       "output_type": "stream",
       "stream": "stdout",
       "text": [
        "\n"
       ]
      },
      {
       "output_type": "stream",
       "stream": "stdout",
       "text": [
        "accuracy scores = [ 0.86235419  0.90106157  0.89477041  0.86954671],0.881933220029\n"
       ]
      },
      {
       "output_type": "stream",
       "stream": "stdout",
       "text": [
        "macro precision scores = [ 0.86159004  0.90085363  0.89333637  0.86851371],0.881073438891\n"
       ]
      },
      {
       "output_type": "stream",
       "stream": "stdout",
       "text": [
        "macro recall scores = [ 0.85435703  0.89869833  0.88855201  0.86663671],0.877061021038\n"
       ]
      },
      {
       "output_type": "stream",
       "stream": "stdout",
       "text": [
        "macro f1 scores = [ 0.85560123  0.89958053  0.889496    0.86682105],0.877874702204\n"
       ]
      },
      {
       "output_type": "stream",
       "stream": "stdout",
       "text": [
        "weighted average precision scores = [ 0.86273123  0.90130795  0.89578883  0.87155148],0.882844874596\n"
       ]
      },
      {
       "output_type": "stream",
       "stream": "stdout",
       "text": [
        "weighted average recall scores = [ 0.86273123  0.90130795  0.89578883  0.87155148],0.882844874596\n"
       ]
      },
      {
       "output_type": "stream",
       "stream": "stdout",
       "text": [
        "weighted f1 scores = [ 0.86072787  0.90101408  0.8940408   0.86979953],0.881395572819\n",
        "dimensionality: 26158"
       ]
      },
      {
       "output_type": "stream",
       "stream": "stdout",
       "text": [
        "\n",
        "density: 0.919905956113\n",
        "alt.atheism jaeger,liar,darwin,wrote,wwc,dogma,tammy,charley,wingate,motto,cobb,asimov,scout,benedikt,islamic,mathew,rushdie,atheism,keith,atheist\n",
        "comp.graphics povray,visualization,raytracing,mpeg,sphere,tiff,hacker,photoshop,surface,viewer,fractal,animation,cview,polygon,siggraph,image,3do,pov,3d,graphic\n",
        "comp.os.ms-windows.misc doublespace,m,nt,winqvt,smartdrv,risc,driver,setup,file,ini,bmp,win,program manager,ax,challenge,supporter,win3,cica,microsoft,window\n",
        "comp.sys.ibm.pc.hardware pentium,robert,motherboards,smc,connector,irq,compaq,mitsumi,nanao,isa,modem,monitor,connect,motherboard,vlb,cmos,ide,pc,gateway,bios\n",
        "comp.sys.mac.hardware 040,iifx,on 24,68040,iici,pb,floptical,deskwriter,bmug,adb,lciii,se,centris,quadra,iisi,duo,powerbook,lc,apple,mac\n",
        "comp.windows.x xv,escaped,xdm,subscribe,pixmap,event,openwindows,xwindows,imake,unsubscribe,twm,x11,window manager,xfree86,xlib,server,widget,xterm,x11r5,motif\n",
        "misc.forsale lens,calculator,obo,size,cd,call,asking,snes,deal,camera,pay,summer,interested,sell,for sale,wanted,sale,offer,shipping,forsale\n",
        "rec.autos honda,nissan,truck,chevrolet,sunroof,v6,diesel,integra,opel,dealer,vw,mustang,automotive,toyota,oil,warning,geico,ford,auto,car\n",
        "rec.motorcycles cager,infante,piece,moa,moto,ducati,ranck,yamaha,the bike,dog,harley,kawasaki,helmet,bmw,ride,rider,riding,motorcycle,bike,dod\n",
        "rec.sport.baseball hit,mets,uniform,marlin,hitter,morris,nl,fenway,tiger,stadium,brave,dodger,sox,ball,pitcher,giant,cub,yankee,phillies,baseball\n",
        "rec.sport.hockey final,coach,wing,octopus,detroit,buffalo,leaf,team,wc,puck,goal,penguin,shark,islander,espn,goalie,bruin,playoff,nhl,hockey\n",
        "sci.crypt denning,de,rsa,sternlight,secret,tempest,privacy,crypt,no good,cipher,key,pgp,security,nsa,wiretap,tapped,cryptography,crypto,encryption,clipper\n",
        "sci.electronics noise,resistor,adcom,led,pcb,tv,spice,exploding,motorola,2600,copy protected,copy,solvent,rf,8051,voltage,ic,scope,electronics,circuit\n",
        "sci.med syndrome,physician,cure,migraine,fever,health,exercise,medicine,treatment,allergic,patient,cancer,ear,msg,disease,med,krillean,medical,photography,doctor\n",
        "sci.space funding,dietz,flight,nasa,astro,astronomy,gamma ray,dc,satellite,spacecraft,mar,rocket,sky,pat,planet,moon,launch,shuttle,orbit,space\n",
        "soc.religion.christian moderator,james,catholic,christianity,hell,prayer,christ,easter,arrogance,1993,christian,sin,geneva,kiefer,church,daily,verse,rutgers,athos,clh\n",
        "talk.politics.guns weaver,cnn,hunting,senate,regulated,acronym,liberty,nra,burn,militia,fbi,handgun,quisling,dividian,waco,weapon,ranch,firearm,atf,gun\n",
        "talk.politics.mideast elia,jerusalem,hamas,racism,armenia,uva,zionism,serdar,argic,muslim,adl,andi,angmar,jew,palestinian,turkish,arab,armenian,israeli,israel\n",
        "talk.politics.misc clinton,initiative,celebrate,income,tax,kinsey,hostage,state,mow,drug,garrett,teel,optilink,wetware,sexual,clayton,gay,cramer,top ten,kaldis\n",
        "talk.religion.misc new age,robert wei,new religion,koresh,mithra,hare,rawlins,mormon,666,beast,2000 year,tyre,brian,thou,hudson,mr president,rosicrucian,abortion,burden,promise\n",
        "ng20_raw_lemmas_unigrams_df0.0005_tf1 ^ ng20_raw_lemmas_bigrams_df0.0005_tf1 ^ wiki_wiktionary_google_bigrams_vw  -->  precision  0.881073438891 recall  0.877061021038 f1  0.877874702204\n",
        "loaded (7546) terms"
       ]
      },
      {
       "output_type": "stream",
       "stream": "stdout",
       "text": [
        "\n",
        "extended to (11346) terms\n",
        "done loading vocabulary\n",
        "vectorizing done, 11346 terms vocabulary tokenized"
       ]
      },
      {
       "output_type": "stream",
       "stream": "stdout",
       "text": [
        "\n",
        "vectorizing done, 11346 terms vocabulary tokenized"
       ]
      },
      {
       "output_type": "stream",
       "stream": "stdout",
       "text": [
        "\n"
       ]
      },
      {
       "output_type": "stream",
       "stream": "stdout",
       "text": [
        "accuracy scores = [ 0.821421    0.86284501  0.85459184  0.82102575],0.839970898582\n"
       ]
      },
      {
       "output_type": "stream",
       "stream": "stdout",
       "text": [
        "macro precision scores = [ 0.82041277  0.86134891  0.85178764  0.82077838],0.838581924598\n"
       ]
      },
      {
       "output_type": "stream",
       "stream": "stdout",
       "text": [
        "macro recall scores = [ 0.8135546   0.86009838  0.84737211  0.81769009],0.834678795552\n"
       ]
      },
      {
       "output_type": "stream",
       "stream": "stdout",
       "text": [
        "macro f1 scores = [ 0.81467306  0.86051892  0.84788172  0.81809588],0.835292396129\n"
       ]
      },
      {
       "output_type": "stream",
       "stream": "stdout",
       "text": [
        "weighted average precision scores = [ 0.82193574  0.86303309  0.85487437  0.82338188],0.840806271194\n"
       ]
      },
      {
       "output_type": "stream",
       "stream": "stdout",
       "text": [
        "weighted average recall scores = [ 0.82193574  0.86303309  0.85487437  0.82338188],0.840806271194\n"
       ]
      },
      {
       "output_type": "stream",
       "stream": "stdout",
       "text": [
        "weighted f1 scores = [ 0.81982169  0.86273634  0.85325618  0.8210882 ],0.839225601084\n",
        "dimensionality: 11346"
       ]
      },
      {
       "output_type": "stream",
       "stream": "stdout",
       "text": [
        "\n",
        "density: 0.90196104354\n",
        "alt.atheism moral agency,re,fish,dan,dogma,rice,mark mccullough,mccullough,motto,gulf war,vice,bobby,scout,cobb,islamic law,healy,islamic,atheist,atheism,keith\n",
        "comp.graphics rgb,imagine,temp file,algorithm,point,virtual reality,visualization,hacker,42,tiff,sphere,surface,photoshop,viewer,polygon,siggraph,image,pov,3d,graphic\n",
        "comp.os.ms-windows.misc dark,swap file,driver,file,visual basic,indiana,m,nt,character,setup,canon,bmp,max,instruction set,win,program manager,ini,challenge,microsoft,window\n",
        "comp.sys.ibm.pc.hardware the connector,bat,fi,o,modem,robert,burn it,cpu,isa,ide,atari,monitor,comment,drive a,486,just love,17,pc,gateway,bios\n",
        "comp.sys.mac.hardware internet,kept on,upgrade,ethernet,clock speed,po,hardware,reflect,950,on 24,iici,se,centris,duo,quadra,iisi,apple,lc,powerbook,mac\n",
        "comp.windows.x device driver,client,dump,mit,the server,the consortium,sun,cursor,tel,gc,support,default,script,consortium,display,event,widget,window manager,server,motif\n",
        "misc.forsale size,year old,firm,for sale,the package,ticket,cheap,original,pay,worth,deal,call,cd,summer,camera,sale,asking,sell,wanted,shipping\n",
        "rec.autos of all,flat,license plate,insurance company,bmw,dealership,driving,truck,opel,dealer,engine,oil,wagon,toyota,mustang,warning,geico,ford,auto,car\n",
        "rec.motorcycles piece,asphaug,lock,sutherland,82,rec,cage,advice,honda,chain,the bike,shaft drive,ed green,moa,bmw,dog,helmet,rider,ride,bike\n",
        "rec.sport.baseball bill james,morris,nl,rockies,mets,hr,cardinal,hitter,marlin,sox,tiger,stadium,ball,brave,dodger,giant,yankee,phillies,cub,baseball\n",
        "rec.sport.hockey team,leaf,ice,lemieux,buffalo,oiler,pit,final,coach,islander,penguin,detroit,espn,shark,goal,goalie,bruin,playoff,nhl,hockey\n",
        "sci.crypt de,algorithm,attack,announcement,denning,the lobby,key,any more,escrow,rsa,secret,privacy,pgp,cipher,security,no good,crypto,encryption,cryptography,clipper\n",
        "sci.electronics current,noise,universal,power,them,duct,led,resistance,duct tape,electrical,disk copy,copy,copy protected,2600,ic,tv,voltage,scope,electronics,circuit\n",
        "sci.med eye,medicine,physician,skin,health,fever,exercise,muscle,allergic,patient,treatment,ear,cancer,gordon bank,msg,med,medical,disease,doctor,photography\n",
        "sci.space sunset,funding,flight,dc,solar,satellite,mission,astronomy,mar,spacecraft,gamma ray,pat,rocket,sky,moon,planet,shuttle,launch,orbit,space\n",
        "soc.religion.christian homosexuality,paul,the mystery,sabbath,may,ceremony,spiritual,translation,easter,james,hell,prayer,sin,christ,church,catholic,christian,daily,verse,1993\n",
        "talk.politics.guns texas,politician,free state,bullet,concealed,criminal,liberty,safety,senate,survivor,weaver,rifle,hunting,nra,fbi,waco,burn,weapon,atf,gun\n",
        "talk.politics.mideast holocaust,occupied,iranian,soldier,policy,jewish,bosnians,warsaw,armenia,freedom,argic,palestinian,serdar,turkish,jew,adl,arab,armenian,israeli,israel\n",
        "talk.politics.misc income,reform,economic,liberal,libertarian,tax,verdict,ted frank,state,kinsey,drug,initiative,police state,baker,clayton,sexual,gay,garrett,top ten,cramer\n",
        "talk.religion.misc mormon,the beast,moment,sword,wei,beast,sabin,albert sabin,who next,robert wei,new age,commandment,hudson,new religion,rosicrucian,abortion,mr president,brian,burden,promise\n",
        "ng20_raw_lemmas_bigrams_df0.0005_tf1 ^ wiki_wiktionary_google_bigrams_vw (extended unigrams) -->  precision  0.838581924598 recall  0.834678795552 f1  0.835292396129\n",
        "loaded (15500) terms\n",
        "vectorizing done, 15500 terms vocabulary tokenized"
       ]
      },
      {
       "output_type": "stream",
       "stream": "stdout",
       "text": [
        "\n",
        "vectorizing done, 15500 terms vocabulary tokenized"
       ]
      },
      {
       "output_type": "stream",
       "stream": "stdout",
       "text": [
        "\n"
       ]
      },
      {
       "output_type": "stream",
       "stream": "stdout",
       "text": [
        "accuracy scores = [ 0.85683987  0.89915074  0.88626701  0.86529049],0.876887027497\n"
       ]
      },
      {
       "output_type": "stream",
       "stream": "stdout",
       "text": [
        "macro precision scores = [ 0.8548566   0.89846788  0.88533285  0.86315423],0.87545289107\n"
       ]
      },
      {
       "output_type": "stream",
       "stream": "stdout",
       "text": [
        "macro recall scores = [ 0.84865979  0.8964037   0.87987397  0.86128618],0.871555908219\n"
       ]
      },
      {
       "output_type": "stream",
       "stream": "stdout",
       "text": [
        "macro f1 scores = [ 0.84957763  0.89724361  0.88098142  0.86155538],0.87233950882\n"
       ]
      },
      {
       "output_type": "stream",
       "stream": "stdout",
       "text": [
        "weighted average precision scores = [ 0.8566891   0.89927725  0.88769018  0.86652455],0.877545270242\n"
       ]
      },
      {
       "output_type": "stream",
       "stream": "stdout",
       "text": [
        "weighted average recall scores = [ 0.8566891   0.89927725  0.88769018  0.86652455],0.877545270242\n"
       ]
      },
      {
       "output_type": "stream",
       "stream": "stdout",
       "text": [
        "weighted f1 scores = [ 0.85512536  0.8990461   0.88557837  0.8652573 ],0.87625178159\n",
        "dimensionality: 15500"
       ]
      },
      {
       "output_type": "stream",
       "stream": "stdout",
       "text": [
        "\n",
        "density: 0.924116129032\n",
        "alt.atheism cruel,charley,wrote,mango,jsn104,darwin,tammi,wingat,dogma,cobb,motto,asimov,benedikt,mathew,islam,rushdi,scout,keith,atheism,atheist\n",
        "comp.graphics sphere,tiff,mpeg,targa,impuls,surfac,anim,viewer,photoshop,raytrac,fractal,polygon,imag,cview,hacker,siggraph,pov,3do,3d,graphic\n",
        "comp.os.ms-windows.misc winfax,nt,progman,swap,winqvt,setup,smartdrv,workgroup,doublespac,risc,ini,file,ax,win,bmp,challeng,cica,microsoft,win3,window\n",
        "comp.sys.ibm.pc.hardware ide,nanao,i486,59,16550,pc,connector,isa,interrupt,vlb,gosh,cmo,spec,mitsumi,irq,winmark,laserjet,motherboard,gateway,bio\n",
        "comp.sys.mac.hardware syquest,cyclon,040,pb,macweek,iici,68040,deskwrit,bmug,adb,lciii,se,iisi,quadra,lc,centri,duo,appl,powerbook,mac\n",
        "comp.windows.x pixmap,xv,xwd,r5,xdm,event,xwindow,imak,unsubscrib,openwindow,twm,xfree86,consortium,x11,xlib,server,widget,xterm,x11r5,motif\n",
        "misc.forsale cod,cd,airlin,size,origin,pay,obo,deal,camera,includ,want,sne,3b1,interest,sell,summer,ship,offer,forsal,sale\n",
        "rec.autos shift,nissan,diesel,integra,dumbest,sunroof,v6,opel,vw,dealer,mustang,toyota,truck,warn,oil,automot,ford,geico,auto,car\n",
        "rec.motorcycles piec,infant,moto,cage,moa,ducati,cager,ranck,yamaha,dog,biker,harley,kawasaki,helmet,bmw,rider,ride,motorcycl,bike,dod\n",
        "rec.sport.baseball uniform,bat,met,nl,fenway,tiger,marlin,stadium,morri,ball,pitch,dodger,brave,pitcher,sox,cub,giant,yanke,philli,basebal\n",
        "rec.sport.hockey coach,oiler,pen,wc,cherri,buffalo,cup,goal,puck,detroit,wing,leaf,penguin,shark,espn,goali,bruin,playoff,nhl,hockey\n",
        "sci.crypt den,sternlight,overreact,privaci,de,secret,lobbi,key,tempest,crypt,cipher,pgp,wiretap,secur,nsa,cryptographi,crypto,tap,encrypt,clipper\n",
        "sci.electronics resistor,tv,protect,256k,shack,adcom,pcb,spice,motorola,8051,rf,explod,solvent,2600,ic,voltag,copi,scope,electron,circuit\n",
        "sci.med syndrom,seizur,health,prozac,pregnenc,treatment,effect,patient,exercis,medicin,allerg,cancer,ear,msg,diseas,med,krillean,medic,photographi,doctor\n",
        "sci.space flight,solar,sunset,nasa,burster,dc,dietz,astronomi,satellit,spacecraft,mar,rocket,planet,pat,sky,launch,shuttl,moon,orbit,space\n",
        "soc.religion.christian fisher,hell,jame,cathol,ceremoni,prayer,christ,sin,1993,easter,christian,arrog,vers,geneva,kiefer,church,daili,rutger,atho,clh\n",
        "talk.politics.guns feustel,bd,ban,acronym,burn,cdt,weaver,nra,militia,liberti,handgun,fbi,quisl,dividian,waco,weapon,ranch,firearm,atf,gun\n",
        "talk.politics.mideast hama,iran,armenia,occupi,elia,jerusalem,argic,holocaust,uva,zionism,serdar,adl,jew,palestinian,bosnian,turkish,arab,armenian,isra,israel\n",
        "talk.politics.misc violenc,liber,kinsey,verdict,presid,drug,hostag,initi,mow,incom,employ,sexual,optilink,gay,garrett,teel,wetwar,clayton,cramer,kaldi\n",
        "talk.religion.misc thyagi,tyre,koresh,mormon,sabin,royalroad,hare,biblic,brian,thou,rawlin,abort,hudson,weiss,666,beast,promis,rosicrucian,2000,burden\n",
        "ng20_raw_stems_unigrams_df0.0005_tf1  -->  precision  0.87545289107 recall  0.871555908219 f1  0.87233950882\n",
        "loaded (72621) terms"
       ]
      },
      {
       "output_type": "stream",
       "stream": "stdout",
       "text": [
        "\n",
        "vectorizing done, 72621 terms vocabulary tokenized"
       ]
      },
      {
       "output_type": "stream",
       "stream": "stdout",
       "text": [
        "\n",
        "vectorizing done, 72621 terms vocabulary tokenized"
       ]
      },
      {
       "output_type": "stream",
       "stream": "stdout",
       "text": [
        "\n"
       ]
      },
      {
       "output_type": "stream",
       "stream": "stdout",
       "text": [
        "accuracy scores = [ 0.87338282  0.90976645  0.89880952  0.87891041],0.890217301354\n"
       ]
      },
      {
       "output_type": "stream",
       "stream": "stdout",
       "text": [
        "macro precision scores = [ 0.87423057  0.90980093  0.89864691  0.8791675 ],0.890461476684\n"
       ]
      },
      {
       "output_type": "stream",
       "stream": "stdout",
       "text": [
        "macro recall scores = [ 0.86607233  0.90747335  0.89263802  0.87663396],0.885704415119\n"
       ]
      },
      {
       "output_type": "stream",
       "stream": "stdout",
       "text": [
        "macro f1 scores = [ 0.86777353  0.90845146  0.89384949  0.87704302],0.886779377326\n"
       ]
      },
      {
       "output_type": "stream",
       "stream": "stdout",
       "text": [
        "weighted average precision scores = [ 0.8744538   0.91011895  0.9004665   0.88080819],0.8914618587\n"
       ]
      },
      {
       "output_type": "stream",
       "stream": "stdout",
       "text": [
        "weighted average recall scores = [ 0.8744538   0.91011895  0.9004665   0.88080819],0.8914618587\n"
       ]
      },
      {
       "output_type": "stream",
       "stream": "stdout",
       "text": [
        "weighted f1 scores = [ 0.87213325  0.90978526  0.89810387  0.87902488],0.889761813261\n",
        "dimensionality: 72621"
       ]
      },
      {
       "output_type": "stream",
       "stream": "stdout",
       "text": [
        "\n",
        "density: 0.920125032704\n",
        "alt.atheism and dogma,tammi,all go,charley,wingat,moral,cobb,religion,benedikt,polit atheist,asimov,re polit,motto,scout,mathew,rushdi,islam,keith,atheism,atheist\n",
        "comp.graphics rgb,format,vesa,point,mpeg,raytrac,viewer,surfac,hacker,cview,fractal,tiff,anim,3do,polygon,siggraph,pov,imag,3d,graphic\n",
        "comp.os.ms-windows.misc ax ax,driver,ini,setup,re challeng,ms,microsoft support,nt,bmp,challeng to,winqvt,win,program manag,in window,file,for window,cica,win3,microsoft,window\n",
        "comp.sys.ibm.pc.hardware pentium,connector,modem,zeo,nanao,mitsumi,compaq,cmo,486,harddisk,isa,jumper,vlb,irq,monitor,ide,pc,motherboard,gateway,bio\n",
        "comp.sys.mac.hardware card for,deskwrit,c650,macweek,iici,floptic,pb,simm,se 30,se,adb,lciii,lc,iisi,centri,quadra,duo,powerbook,appl,mac\n",
        "comp.windows.x twm,openwindow,xwindow,display,imak,subscrib,xdm,pixmap,event,sun,unsubscrib,xfree86,x11,window manag,xlib,server,xterm,widget,x11r5,motif\n",
        "misc.forsale airlin,deal,size,00,sne,pay,for,cd,includ,obo,if interest,summer,camera,sell,ship,offer,for sale,subject want,sale,forsal\n",
        "rec.autos"
       ]
      },
      {
       "output_type": "stream",
       "stream": "stdout",
       "text": [
        " opel,vw,v6,diesel,honda,sunroof,nissan,shift,mustang,re warn,integra,warn pleas,truck,dealer,toyota,oil,geico,ford,auto,car\n",
        "rec.motorcycles cager,750,ducati,zx,cage,moa,ama,yamaha,biker,the bike,dog,harley,kawasaki,helmet,bmw,rider,ride,motorcycl,bike,dod\n",
        "rec.sport.baseball fenway,hitter,jay,morri,nl,dodger,bat,hit,tiger,stadium,sox,brave,ball,giant,pitcher,cub,pitch,philli,yanke,basebal\n",
        "rec.sport.hockey devil,game,puck,detroit,play,cup,coach,wing,buffalo,shark,penguin,leaf,goal,team,goali,bruin,espn,playoff,nhl,hockey\n",
        "sci.crypt re clipper,onc tap,algorithm,de,tempest,secret,re onc,crypt,privaci,cipher,tap,nsa,pgp,key,cryptographi,wiretap,secur,crypto,encrypt,clipper\n",
        "sci.electronics wire,adcom,nois,dsp,led,motorola,spice,resistor,rf,pcb,copi,2600,8051,tv,voltag,ic,scope,copi protect,electron,circuit\n",
        "sci.med fever,skin,cure,health,krillean photographi,allerg,exercis,krillean,effect,medicin,patient,ear,treatment,msg,cancer,med,photographi,diseas,medic,doctor\n",
        "sci.space gamma ray,mission,mar,flight,the moon,astronomi,re space,dc,spacecraft,nasa,satellit,sky,rocket,planet,pat,moon,launch,shuttl,orbit,space\n",
        "soc.religion.christian jame kiefer,geneva rutger,articl apr,prayer,vers,arrog,cathol,hell,easter,christ,daili vers,subject daili,sin,rutger,rutger edu,atho,atho rutger,christian,church,clh\n",
        "talk.politics.guns"
       ]
      },
      {
       "output_type": "stream",
       "stream": "stdout",
       "text": [
        " rifl,burn,quisl,re waco,liberti,weaver,batf,re batf,militia,atf burn,re atf,ranch,nra,fbi,handgun,waco,atf,firearm,weapon,gun\n",
        "talk.politics.mideast jerusalem,yigal,elia,racism,armenia,uva,jewish,argic,iran,serdar,adl,muslim,bosnian,turkish,palestinian,jew,arab,armenian,isra,israel\n",
        "talk.politics.misc liber,american,libertarian,narr,mow,re top,garrett,teel,presid,wetwar,optilink,clinton,clayton,tax,gay,drug,sexual,top ten,kaldi,cramer\n",
        "talk.religion.misc mormon,of proof,mithra,christian,thyagi,brian,new religion,re after,hare,666,promis in,koresh,hudson,beast,tyre,thou,93 god,abort,god promis,rosicrucian\n",
        "ng20_raw_stems_bigrams_df0.0005_tf1  -->  precision  0.890461476684 recall  0.885704415119 f1  0.886779377326\n",
        "loaded (22292) terms"
       ]
      },
      {
       "output_type": "stream",
       "stream": "stdout",
       "text": [
        "\n",
        "vectorizing done, 22292 terms vocabulary tokenized"
       ]
      },
      {
       "output_type": "stream",
       "stream": "stdout",
       "text": [
        "\n",
        "vectorizing done, 22292 terms vocabulary tokenized"
       ]
      },
      {
       "output_type": "stream",
       "stream": "stdout",
       "text": [
        "\n"
       ]
      },
      {
       "output_type": "stream",
       "stream": "stdout",
       "text": [
        "accuracy scores = [ 0.86002121  0.90127389  0.88881803  0.8693339 ],0.879861755575\n"
       ]
      },
      {
       "output_type": "stream",
       "stream": "stdout",
       "text": [
        "macro precision scores = [ 0.85878879  0.90118095  0.88832227  0.86789444],0.879046608118\n"
       ]
      },
      {
       "output_type": "stream",
       "stream": "stdout",
       "text": [
        "macro recall scores = [ 0.85228443  0.89889815  0.88258358  0.86628919],0.875013839098\n"
       ]
      },
      {
       "output_type": "stream",
       "stream": "stdout",
       "text": [
        "macro f1 scores = [ 0.85345259  0.89982517  0.88376501  0.86635854],0.875850325332\n"
       ]
      },
      {
       "output_type": "stream",
       "stream": "stdout",
       "text": [
        "weighted average precision scores = [ 0.86014688  0.90147132  0.89040416  0.87079458],0.880704235356\n"
       ]
      },
      {
       "output_type": "stream",
       "stream": "stdout",
       "text": [
        "weighted average recall scores = [ 0.86014688  0.90147132  0.89040416  0.87079458],0.880704235356\n"
       ]
      },
      {
       "output_type": "stream",
       "stream": "stdout",
       "text": [
        "weighted f1 scores = [ 0.85851702  0.90119016  0.88817229  0.86934858],0.879307014767\n",
        "dimensionality: 22292"
       ]
      },
      {
       "output_type": "stream",
       "stream": "stdout",
       "text": [
        "\n",
        "density: 0.915494347748\n",
        "alt.atheism jaeger,mango,moral agenc,charley,wwc,darwin,tammi,dogma,cobb,wingat,motto,asimov,benedikt,scout,islam,mathew,rushdi,atheism,keith,atheist\n",
        "comp.graphics impuls,sphere,mpeg,targa,surfac,tiff,hacker,anim,raytrac,photoshop,viewer,fractal,polygon,cview,imag,siggraph,pov,3do,3d,graphic\n",
        "comp.os.ms-windows.misc nt,winfax,ms,driver,risc,doublespac,smartdrv,winqvt,setup,ini,file,win,bmp,program manag,ax,challeng,cica,win3,microsoft,window\n",
        "comp.sys.ibm.pc.hardware smc,connect,jumper,interrupt,robert,monitor,connector,modem,isa,winmark,nanao,vlb,ide,mitsumi,cmo,pc,irq,motherboard,gateway,bio\n",
        "comp.sys.mac.hardware 040,iifx,macweek,iici,68040,pb,deskwrit,on 24,bmug,adb,lciii,centri,se,quadra,lc,iisi,duo,powerbook,appl,mac\n",
        "comp.windows.x subscrib,xdm,pixmap,xv,xwd,openwindow,event,imak,xwindow,unsubscrib,twm,xfree86,x11,window manag,xlib,server,widget,xterm,x11r5,motif\n",
        "misc.forsale origin,cod,cd,size,deal,3b1,obo,camera,includ,pay,sne,interest,summer,sell,want,for sale,ship,sale,offer,forsal\n",
        "rec.autos nissan,dumbest,integra,shift,diesel,opel,dealer,v6,sunroof,vw,mustang,warn,truck,toyota,automot,oil,geico,ford,auto,car\n",
        "rec.motorcycles stroke,cage,moto,cager,moa,ducati,ranck,yamaha,the bike,dog,biker,harley,kawasaki,helmet,bmw,rider,ride,motorcycl,bike,dod\n",
        "rec.sport.baseball uniform,morri,hit,marlin,nl,bat,tiger,fenway,sox,stadium,brave,ball,dodger,pitch,pitcher,philli,cub,yanke,giant,basebal\n",
        "rec.sport.hockey lemieux,ice,coach,team,wing,island,wc,buffalo,goal,leaf,puck,detroit,penguin,shark,espn,goali,bruin,playoff,nhl,hockey\n",
        "sci.crypt rsa,secret,sternlight,de,lobbi,privaci,tempest,crypt,key,cipher,no good,pgp,wiretap,nsa,secur,cryptographi,crypto,tap,encrypt,clipper\n",
        "sci.electronics dsp,resistor,led,bubblejet,tv,adcom,pcb,rf,motorola,explod,spice,solvent,2600,8051,ic,voltag,scope,copi protect,electron,circuit\n",
        "sci.med migrain,fever,cure,seizur,effect,health,exercis,treatment,patient,allerg,medicin,cancer,ear,msg,diseas,med,krillean,medic,photographi,doctor\n",
        "sci.space sunris,sunset,flight,nasa,dietz,gamma ray,dc,astronomi,satellit,mar,sky,spacecraft,rocket,planet,pat,moon,shuttl,launch,orbit,space\n",
        "soc.religion.christian bless,ceremoni,prayer,cathol,jame,sin,hell,arrog,easter,1993,christ,geneva,christian,kiefer,vers,church,daili,rutger,atho,clh\n",
        "talk.politics.guns cipriani,cnn,ban,weaver,acronym,cdt,burn,liberti,nra,handgun,militia,fbi,quisl,dividian,waco,weapon,ranch,firearm,atf,gun\n",
        "talk.politics.mideast armenia,racism,occupi,iran,muslim,elia,argic,jerusalem,serdar,uva,zionism,adl,jew,palestinian,bosnian,turkish,arab,armenian,isra,israel\n",
        "talk.politics.misc clinton,kinsey,violenc,liber,tax,initi,mow,hostag,drug,employ,optilink,sexual,garrett,teel,wetwar,gay,clayton,cramer,top ten,kaldi\n",
        "talk.religion.misc mithra,robert weiss,new age,hare,who next,koresh,beast,tyre,666,rawlin,2000 year,brian,thou,abort,hudson,promis,rosicrucian,new religion,mr presid,burden\n",
        "ng20_raw_stems_unigrams_df0.0005_tf1 ^ ng20_raw_stems_bigrams_df0.0005_tf1 ^ wiki_bigrams  -->  precision  0.879046608118 recall  0.875013839098 f1  0.875850325332\n",
        "loaded (6792) terms"
       ]
      },
      {
       "output_type": "stream",
       "stream": "stdout",
       "text": [
        "\n",
        "extended to (10297) terms\n",
        "done loading vocabulary\n",
        "vectorizing done, 10297 terms vocabulary tokenized"
       ]
      },
      {
       "output_type": "stream",
       "stream": "stdout",
       "text": [
        "\n",
        "vectorizing done, 10297 terms vocabulary tokenized"
       ]
      },
      {
       "output_type": "stream",
       "stream": "stdout",
       "text": [
        "\n"
       ]
      },
      {
       "output_type": "stream",
       "stream": "stdout",
       "text": [
        "accuracy scores = [ 0.81717922  0.86050955  0.85352891  0.82336667],0.838646088684\n"
       ]
      },
      {
       "output_type": "stream",
       "stream": "stdout",
       "text": [
        "macro precision scores = [ 0.81588409  0.85973985  0.85161531  0.82325204],0.837622823206\n"
       ]
      },
      {
       "output_type": "stream",
       "stream": "stdout",
       "text": [
        "macro recall scores = [ 0.80886877  0.85831384  0.84607926  0.82030906],0.833392732775\n"
       ]
      },
      {
       "output_type": "stream",
       "stream": "stdout",
       "text": [
        "macro f1 scores = [ 0.80987177  0.85876345  0.84693645  0.82078738],0.834089762593\n"
       ]
      },
      {
       "output_type": "stream",
       "stream": "stdout",
       "text": [
        "weighted average precision scores = [ 0.81737211  0.8610199   0.85449659  0.82560012],0.839622182872\n"
       ]
      },
      {
       "output_type": "stream",
       "stream": "stdout",
       "text": [
        "weighted average recall scores = [ 0.81737211  0.8610199   0.85449659  0.82560012],0.839622182872\n"
       ]
      },
      {
       "output_type": "stream",
       "stream": "stdout",
       "text": [
        "weighted f1 scores = [ 0.81531219  0.86049972  0.85235432  0.82352661],0.837923209859\n",
        "dimensionality: 10297"
       ]
      },
      {
       "output_type": "stream",
       "stream": "stdout",
       "text": [
        "\n",
        "density: 0.89677575993\n",
        "alt.atheism moral agenc,dan,you will,rice,dogma,the us,islam law,gulf war,mccullough,mark mccullough,motto,vice,bobbi,cobb,heali,scout,islam,atheism,atheist,keith\n",
        "comp.graphics vesa,corel,rgb,temp file,hacker,virtual realiti,sphere,42,point,tiff,surfac,anim,polygon,photoshop,viewer,imag,siggraph,pov,3d,graphic\n",
        "comp.os.ms-windows.misc wise,swap file,dark,download,charact,bmp,visual basic,canon,indiana,nt,ms,max,setup,win,instruct set,program manag,ini,challeng,microsoft,window\n",
        "comp.sys.ibm.pc.hardware connect,data compress,ide,the connector,cpu,robert,monitor,486,fi,isa,atari,pc,burn it,comment,cmo,17,interrupt,just love,bio,gateway\n",
        "comp.sys.mac.hardware upgrad,clock,hardwar,global villag,compar,pd slot,24 hour,950,price drop,on 24,se,iici,centri,duo,quadra,lc,iisi,appl,powerbook,mac\n",
        "comp.windows.x creat,sparc,sun,hp 9000,subject,the server,client,gc,support,the consortium,default,display,event,consortium,escap,script,widget,server,window manag,motif\n",
        "misc.forsale the packag,girl,origin,year old,deal,calcul,size,cd,pay,includ,ask,advertis,interest,camera,summer,sell,sale,want,ship,offer\n",
        "rec.autos kill me,sho,licens plate,engin,dealership,bmw,insur compani,shift,opel,dealer,toyota,wagon,truck,oil,mustang,warn,geico,ford,auto,car\n",
        "rec.motorcycles 82,wave,asphaug,for today,jonathan,chain,cage,sutherland,rec,bar,shaft drive,the bike,ed green,moa,bmw,dog,rider,ama,ride,bike\n",
        "rec.sport.baseball bill jame,morri,nl,hitter,hr,bat,sox,brave,cardin,tiger,ball,marlin,stadium,dodger,pitch,philli,giant,yanke,cub,basebal\n",
        "rec.sport.hockey final,team,pool,oiler,lemieux,ice,leaf,coach,pit,buffalo,penguin,goal,shark,detroit,espn,goali,bruin,playoff,nhl,hockey\n",
        "sci.crypt de,anonym,random,fifth amend,the lobbi,key,secret,rsa,escrow,lobbi,privaci,pgp,cipher,no good,secur,crypto,cryptographi,tap,encrypt,clipper\n",
        "sci.electronics cap,cool tower,project,nois,led,them,develop tool,disk copi,assembl,re power,duct,resist,duct tape,2600,tv,voltag,copi protect,electron,scope,circuit\n",
        "sci.med gordon,effect,skin,fever,physician,exercis,treatment,health,medicin,ear,patient,allerg,cancer,gordon bank,med,msg,medic,diseas,doctor,photographi\n",
        "sci.space fred,the moon,flight,astronomi,solar,dc,satellit,mission,mar,gamma ray,spacecraft,pat,rocket,sky,planet,moon,launch,shuttl,orbit,space\n",
        "soc.religion.christian bless,sex educ,translat,may,moder,hell,jame,spiritu,sin,ceremoni,easter,arrog,prayer,cathol,christian,christ,vers,church,daili,1993\n",
        "talk.politics.guns bullet,politician,texa,senat,examin,stratu,hunt,safeti,rifl,weaver,ban,burn,liberti,nra,fbi,waco,dividian,weapon,atf,gun\n",
        "talk.politics.mideast warsaw,soldier,iranian,prison,holocaust,say you,armenia,occupi,freedom,argic,serdar,palestinian,bosnian,turkish,adl,jew,arab,armenian,israel,isra\n",
        "talk.politics.misc econom,carpet,libertarian,tax,ted frank,verdict,initi,kinsey,celebr,polic state,drug,liber,baker,employ,sexual,clayton,garrett,cramer,top ten,gay\n",
        "talk.religion.misc sword,malcolm lee,koresh,mormon,albert sabin,the beast,2000 year,new age,weiss,beast,robert weiss,hudson,who next,abort,rosicrucian,brian,new religion,promis,mr presid,burden\n",
        "ng20_raw_stems_bigrams_df0.0005_tf1 ^ wiki_bigrams (extended unigrams) -->  precision  0.837622823206 recall  0.833392732775 f1  0.834089762593\n",
        "loaded (17960) terms"
       ]
      },
      {
       "output_type": "stream",
       "stream": "stdout",
       "text": [
        "\n",
        "vectorizing done, 17960 terms vocabulary tokenized"
       ]
      },
      {
       "output_type": "stream",
       "stream": "stdout",
       "text": [
        "\n",
        "vectorizing done, 17960 terms vocabulary tokenized"
       ]
      },
      {
       "output_type": "stream",
       "stream": "stdout",
       "text": [
        "\n"
       ]
      },
      {
       "output_type": "stream",
       "stream": "stdout",
       "text": [
        "accuracy scores = [ 0.85874867  0.89957537  0.8892432   0.86592892],0.87837404108\n"
       ]
      },
      {
       "output_type": "stream",
       "stream": "stdout",
       "text": [
        "macro precision scores = [ 0.85762535  0.8991727   0.88892349  0.86427829],0.877499959155\n"
       ]
      },
      {
       "output_type": "stream",
       "stream": "stdout",
       "text": [
        "macro recall scores = [ 0.85094266  0.89676221  0.88297006  0.86251385],0.873297197031\n"
       ]
      },
      {
       "output_type": "stream",
       "stream": "stdout",
       "text": [
        "macro f1 scores = [ 0.85209736  0.89773433  0.88420961  0.86278312],0.874206103791\n"
       ]
      },
      {
       "output_type": "stream",
       "stream": "stdout",
       "text": [
        "weighted average precision scores = [ 0.85894556  0.89978468  0.89071591  0.8672684 ],0.879178638821\n"
       ]
      },
      {
       "output_type": "stream",
       "stream": "stdout",
       "text": [
        "weighted average recall scores = [ 0.85894556  0.89978468  0.89071591  0.8672684 ],0.879178638821\n"
       ]
      },
      {
       "output_type": "stream",
       "stream": "stdout",
       "text": [
        "weighted f1 scores = [ 0.85718707  0.89948454  0.88851384  0.86601186],0.87779932598\n",
        "dimensionality: 17960"
       ]
      },
      {
       "output_type": "stream",
       "stream": "stdout",
       "text": [
        "\n",
        "density: 0.924791202673\n",
        "alt.atheism wrote,jaeger,charley,darwin,mango,tammi,dogma,cobb,wingat,asimov,motto,benedikt,scout,all go,mathew,islam,rushdi,atheism,keith,atheist\n",
        "comp.graphics virtual realiti,sphere,targa,mpeg,tiff,surfac,anim,raytrac,photoshop,fractal,viewer,polygon,cview,imag,hacker,siggraph,pov,3do,3d,graphic\n",
        "comp.os.ms-windows.misc progman,winfax,winword,workgroup,nt,winqvt,setup,smartdrv,risc,ini,doublespac,file,bmp,ax,win,challeng,cica,win3,microsoft,window\n",
        "comp.sys.ibm.pc.hardware smc,16550,connector,jumper,gosh,isa,nanao,interrupt,vlb,cmo,spec,ide,irq,pc,winmark,laserjet,mitsumi,motherboard,gateway,bio\n",
        "comp.sys.mac.hardware iifx,040,pb,macweek,kept on,68040,deskwrit,iici,bmug,adb,lciii,se,iisi,quadra,lc,centri,duo,powerbook,appl,mac\n",
        "comp.windows.x pixmap,xwd,xv,event,xwindow,xdm,imak,openwindow,unsubscrib,twm,xfree86,consortium,x11,window manag,xlib,server,widget,xterm,x11r5,motif\n",
        "misc.forsale cheap,cd,origin,size,obo,deal,camera,pay,3b1,includ,want,interest,sne,sell,summer,for sale,ship,sale,offer,forsal\n",
        "rec.autos dumbest,nissan,shift,integra,diesel,sunroof,opel,v6,vw,mustang,toyota,dealer,truck,warn,automot,oil,geico,ford,auto,car\n",
        "rec.motorcycles piec,infant,cage,moto,moa,ducati,cager,ranck,yamaha,dog,biker,harley,kawasaki,helmet,bmw,rider,ride,motorcycl,bike,dod\n",
        "rec.sport.baseball mattingli,uniform,marlin,bat,nl,fenway,sox,tiger,morri,stadium,ball,dodger,pitch,brave,pitcher,cub,yanke,giant,philli,basebal\n",
        "rec.sport.hockey coach,pen,buffalo,team,wc,cherri,detroit,puck,cup,wing,goal,leaf,penguin,shark,espn,goali,bruin,playoff,nhl,hockey\n",
        "sci.crypt sternlight,den,privaci,de,secret,lobbi,tempest,key,crypt,no good,cipher,pgp,wiretap,nsa,secur,tap,cryptographi,crypto,encrypt,clipper\n",
        "sci.electronics eprom,256k,led,tv,adcom,copi,motorola,pcb,spice,explod,rf,solvent,2600,8051,ic,voltag,scope,electron,copi protect,circuit\n",
        "sci.med health,seizur,needl,syndrom,prozac,effect,treatment,patient,exercis,medicin,allerg,cancer,ear,med,diseas,msg,krillean,photographi,medic,doctor\n",
        "sci.space sunris,sunset,flight,nasa,dietz,gamma ray,dc,astronomi,satellit,spacecraft,mar,rocket,planet,pat,sky,launch,shuttl,moon,orbit,space\n",
        "soc.religion.christian fisher,ceremoni,jame,cathol,sin,prayer,easter,1993,hell,christian,christ,arrog,vers,geneva,kiefer,church,daili,rutger,atho,clh\n",
        "talk.politics.guns bd,cnn,ban,acronym,cdt,burn,weaver,liberti,nra,militia,handgun,quisl,fbi,dividian,waco,weapon,ranch,firearm,atf,gun\n",
        "talk.politics.mideast armenia,hama,iran,occupi,jerusalem,elia,uva,argic,zionism,holocaust,serdar,adl,jew,palestinian,bosnian,turkish,arab,armenian,isra,israel\n",
        "talk.politics.misc deficit,tax,kinsey,liber,violenc,presid,mow,drug,employ,hostag,initi,sexual,gay,garrett,optilink,teel,wetwar,clayton,cramer,kaldi\n",
        "talk.religion.misc new age,mormon,beast,hare,sabin,koresh,biblic,brian,royalroad,666,abort,rawlin,thou,hudson,weiss,promis,rosicrucian,2000,mr presid,burden\n",
        "ng20_raw_stems_unigrams_df0.0005_tf1 ^ ng20_raw_stems_bigrams_df0.0005_tf1 ^ wiktionary_bigrams  -->  precision  0.877499959155 recall  0.873297197031 f1  0.874206103791\n",
        "loaded (2460) terms"
       ]
      },
      {
       "output_type": "stream",
       "stream": "stdout",
       "text": [
        "\n",
        "extended to (3985) terms\n",
        "done loading vocabulary\n",
        "vectorizing done, 3985 terms vocabulary tokenized"
       ]
      },
      {
       "output_type": "stream",
       "stream": "stdout",
       "text": [
        "\n",
        "vectorizing done, 3985 terms vocabulary tokenized"
       ]
      },
      {
       "output_type": "stream",
       "stream": "stdout",
       "text": [
        "\n"
       ]
      },
      {
       "output_type": "stream",
       "stream": "stdout",
       "text": [
        "accuracy scores = [ 0.70858961  0.75774947  0.7557398   0.72206853],0.736036849497\n"
       ]
      },
      {
       "output_type": "stream",
       "stream": "stdout",
       "text": [
        "macro precision scores = [ 0.70020589  0.75442453  0.75011426  0.7181582 ],0.730725720507\n"
       ]
      },
      {
       "output_type": "stream",
       "stream": "stdout",
       "text": [
        "macro recall scores = [ 0.6981609   0.75233185  0.74639496  0.71704892],0.728484158553\n"
       ]
      },
      {
       "output_type": "stream",
       "stream": "stdout",
       "text": [
        "macro f1 scores = [ 0.6967199   0.75273894  0.74558419  0.7165015 ],0.727886133556\n"
       ]
      },
      {
       "output_type": "stream",
       "stream": "stdout",
       "text": [
        "weighted average precision scores = [ 0.70540684  0.75773662  0.75461016  0.72231465],0.735017067524\n"
       ]
      },
      {
       "output_type": "stream",
       "stream": "stdout",
       "text": [
        "weighted average recall scores = [ 0.70540684  0.75773662  0.75461016  0.72231465],0.735017067524\n"
       ]
      },
      {
       "output_type": "stream",
       "stream": "stdout",
       "text": [
        "weighted f1 scores = [ 0.70500716  0.75716231  0.75297259  0.72112162],0.734065920216\n",
        "dimensionality: 3985"
       ]
      },
      {
       "output_type": "stream",
       "stream": "stdout",
       "text": [
        "\n",
        "density: 0.935646173149\n",
        "alt.atheism for instanc,punish,post,thought,do what,religi,boy scout,moral,logic,gulf,thrown,close in,polit,write,scout,vice,po,gulf war,islam,all go\n",
        "comp.graphics next gener,file,split,line up,true color,fill,map,mapl,decod,everi time,input devic,pictur,comput graphic,trace,textur,virtual realiti,not yet,point,imag,graphic\n",
        "comp.os.ms-windows.misc swap file,for rent,beta,goe,file,access,printer,swap,product,manag,develop,real world,charact,give back,desktop,vu,instruct set,visual basic,win,window\n",
        "comp.sys.ibm.pc.hardware rosa,main memori,model number,protect mode,comput,stack,power sourc,cent,cap lock,comment,cpu,western,floppi,control,pc,data compress,partit,thrown out,date,atari\n",
        "comp.sys.mac.hardware slot,video,per,desktop,global villag,start up,home comput,shift key,educ,ago,comput scientist,speed,system design,se,clock,control panel,logic board,kept on,appl,mac\n",
        "comp.windows.x remot,return,applic,script,devic driver,exampl,attribut,softwar engin,go about,handler,dump,an,default,support,man page,kong,comput scienc,event,escap,window manag\n",
        "misc.forsale book,deck,girl,reach,trade,ask,spend,pedal,cheap,in love,comic,worth,work condit,want,deal,interest,sell,camera,pay,sale\n",
        "rec.autos concept,cylind,explor,bird,fuel,drain plug,drain,bumper,air condit,test drive,flat,licens plate,dealer,engin,wagon,of all,truck,insur compani,shift,car\n",
        "rec.motorcycles hog,split,insur,court,east,steer,drunk,follow by,member,drink,stolen,write,exhaust,happi easter,unit kingdom,chain,shaft,dog,lean,ride\n",
        "rec.sport.baseball total,strike,al,baseman,nation leagu,spring train,world seri,ticket,sport,sox,length,make room,home run,jay,hitter,ball,hit,bat,pitch,basebal\n",
        "rec.sport.hockey tie,round,penalti,season,radio station,team,beat,letter,play,cap,mask,final,devil,wing,pool,cup,coach,leaf,goal,ice\n",
        "sci.crypt spi,messag,issu,fifth,ani more,speech,de,be bother,drug dealer,random,white hous,fifth amend,organ,public key,key,secret,no good,secur,tap,clipper\n",
        "sci.electronics electr,text file,laser,design,project,frequenc,radar,duct,assembl,acid,cool tower,tv,ham,duct tape,in seri,appl mac,2600,electron,copi protect,circuit\n",
        "sci.med side effect,candida,eye,fever,inform,hospit,nerv,inject,corona,effect,med,infect,health,muscl,clinic,food,medicin,bank,medic,doctor\n",
        "sci.space vacuum,radiat,idea,drag,nuclear wast,space station,loss,lunar,hopkin,rocket,mission,astronomi,planet,gamma ray,flight,moon,launch,shuttl,orbit,space\n",
        "soc.religion.christian polit correct,absolut,immacul concept,heart,environment,feel,roman,broken,judgement,sin,origin sin,may,christian,cathol,marri,easter,christ,hell,sex educ,church\n",
        "talk.politics.guns fuck up,fire,baptist,possess,assault,speak for,id card,fide,in for,leader,hunt,full,safeti,free state,rifl,examin,fbi,weapon,burn,gun\n",
        "talk.politics.mideast prison,ethnic,kill,villag,take to,ten,side,soviet,freedom,gaza,sexual favor,human right,shoot down,turkey,border,expans,hate,polici,palestinian,arab\n",
        "talk.politics.misc cigarett,top,day out,tax,drug,tantrum,temper tantrum,stimulu,free market,hold,environment,presid,ten,concentr,sexual,mutual,econom,initi,gay,polic state\n",
        "talk.religion.misc theori,true believ,appl,lighten,southern baptist,may be,public school,take part,moral system,spin off,sign up,materi,beast,new age,order,the beast,internet address,fait,ancient,mr presid\n",
        "ng20_raw_stems_bigrams_df0.0005_tf1 ^ wiktionary_bigrams (extended unigrams) -->  precision  0.730725720507 recall  0.728484158553 f1  0.727886133556\n",
        "loaded (17482) terms"
       ]
      },
      {
       "output_type": "stream",
       "stream": "stdout",
       "text": [
        "\n",
        "vectorizing done, 17482 terms vocabulary tokenized"
       ]
      },
      {
       "output_type": "stream",
       "stream": "stdout",
       "text": [
        "\n",
        "vectorizing done, 17482 terms vocabulary tokenized"
       ]
      },
      {
       "output_type": "stream",
       "stream": "stdout",
       "text": [
        "\n"
       ]
      },
      {
       "output_type": "stream",
       "stream": "stdout",
       "text": [
        "accuracy scores = [ 0.85811241  0.9         0.88988095  0.8674186 ],0.878852989824\n"
       ]
      },
      {
       "output_type": "stream",
       "stream": "stdout",
       "text": [
        "macro precision scores = [ 0.85592703  0.89971363  0.8890805   0.86583932],0.877640118976\n"
       ]
      },
      {
       "output_type": "stream",
       "stream": "stdout",
       "text": [
        "macro recall scores = [ 0.85032251  0.89725996  0.88347389  0.8639263 ],0.873745666218\n"
       ]
      },
      {
       "output_type": "stream",
       "stream": "stdout",
       "text": [
        "macro f1 scores = [ 0.8512104   0.89824913  0.88469282  0.86423079],0.87459578553\n"
       ]
      },
      {
       "output_type": "stream",
       "stream": "stdout",
       "text": [
        "weighted average precision scores = [ 0.85778893  0.9001895   0.89141032  0.86893638],0.879581285096\n"
       ]
      },
      {
       "output_type": "stream",
       "stream": "stdout",
       "text": [
        "weighted average recall scores = [ 0.85778893  0.9001895   0.89141032  0.86893638],0.879581285096\n"
       ]
      },
      {
       "output_type": "stream",
       "stream": "stdout",
       "text": [
        "weighted f1 scores = [ 0.85649308  0.89989877  0.88928645  0.86753923],0.878304382453\n",
        "dimensionality: 17482"
       ]
      },
      {
       "output_type": "stream",
       "stream": "stdout",
       "text": [
        "\n",
        "density: 0.913465278572\n",
        "alt.atheism jaeger,jon,jsn104,mango,wrote,darwin,tammi,wingat,dogma,cobb,motto,asimov,benedikt,scout,mathew,islam,rushdi,keith,atheism,atheist\n",
        "comp.graphics sphere,targa,tiff,mpeg,impuls,surfac,anim,viewer,raytrac,fractal,photoshop,hacker,polygon,cview,imag,siggraph,pov,3do,3d,graphic\n",
        "comp.os.ms-windows.misc w4wg,printer driver,workgroup,nt,risc,winqvt,setup,doublespac,smartdrv,ini,file,win,bmp,program manag,ax,challeng,cica,win3,microsoft,window\n",
        "comp.sys.ibm.pc.hardware pentium,16550,interrupt,i486,isa,nanao,connector,gosh,vlb,modem,cmo,ide,pc,spec,winmark,mitsumi,irq,motherboard,bio,gateway\n",
        "comp.sys.mac.hardware cyclon,syquest,040,pb,macweek,iici,68040,deskwrit,bmug,adb,lciii,se,iisi,quadra,lc,centri,duo,powerbook,appl,mac\n",
        "comp.windows.x r5,xwd,xv,xdm,event,imak,xwindow,openwindow,unsubscrib,twm,consortium,xfree86,window manag,x11,xlib,server,widget,xterm,x11r5,motif\n",
        "misc.forsale cod,traci,origin,cd,size,pay,obo,deal,3b1,want,camera,includ,sne,interest,summer,sell,ship,offer,forsal,sale\n",
        "rec.autos nissan,integra,shift,dumbest,diesel,v6,opel,sunroof,vw,mustang,dealer,truck,warn,oil,toyota,automot,geico,ford,auto,car\n",
        "rec.motorcycles piec,infant,moto,cage,moa,ducati,ranck,cager,yamaha,dog,biker,harley,kawasaki,helmet,bmw,rider,ride,motorcycl,bike,dod\n",
        "rec.sport.baseball mattingli,met,nl,bat,marlin,sox,fenway,tiger,stadium,morri,ball,dodger,pitch,brave,pitcher,cub,yanke,giant,philli,basebal\n",
        "rec.sport.hockey island,oiler,wc,cup,pen,cherri,goal,detroit,buffalo,puck,wing,leaf,penguin,shark,espn,goali,bruin,playoff,nhl,hockey\n",
        "sci.crypt sternlight,den,overreact,de,secret,privaci,lobbi,tempest,crypt,key,cipher,pgp,wiretap,nsa,secur,crypto,cryptographi,tap,encrypt,clipper\n",
        "sci.electronics 256k,dsp,led,tv,adcom,disk copi,motorola,8051,spice,pcb,rf,solvent,explod,2600,ic,voltag,scope,electron,copi protect,circuit\n",
        "sci.med pregnenc,syndrom,seizur,prozac,effect,health,treatment,patient,exercis,allerg,medicin,cancer,ear,diseas,msg,med,krillean,medic,photographi,doctor\n",
        "sci.space henri,solar,flight,nasa,gamma ray,dietz,dc,astronomi,satellit,spacecraft,mar,rocket,planet,pat,sky,launch,shuttl,moon,orbit,space\n",
        "soc.religion.christian fisher,ceremoni,cathol,jame,prayer,hell,sin,easter,1993,arrog,christian,christ,vers,geneva,kiefer,church,daili,rutger,atho,clh\n",
        "talk.politics.guns bd,cnn,ban,acronym,cdt,burn,weaver,nra,liberti,militia,handgun,fbi,quisl,dividian,waco,weapon,ranch,firearm,atf,gun\n",
        "talk.politics.mideast iran,hama,holocaust,occupi,elia,armenia,jerusalem,argic,zionism,uva,serdar,adl,jew,bosnian,palestinian,turkish,arab,armenian,isra,israel\n",
        "talk.politics.misc carpet,mail address,verdict,liber,kinsey,presid,drug,initi,mow,hostag,employ,sexual,gay,optilink,garrett,teel,wetwar,clayton,cramer,kaldi\n",
        "talk.religion.misc royalroad,new age,hare,sabin,koresh,mormon,biblic,brian,rawlin,thou,abort,weiss,hudson,666,promis,2000,beast,new religion,rosicrucian,burden\n",
        "ng20_raw_stems_unigrams_df0.0005_tf1 ^ ng20_raw_stems_bigrams_df0.0005_tf1 ^ google_bigrams  -->  precision  0.877640118976 recall  0.873745666218 f1  0.87459578553\n",
        "loaded (1982) terms"
       ]
      },
      {
       "output_type": "stream",
       "stream": "stdout",
       "text": [
        "\n",
        "extended to (3512) terms\n",
        "done loading vocabulary\n",
        "vectorizing done, 3512 terms vocabulary tokenized"
       ]
      },
      {
       "output_type": "stream",
       "stream": "stdout",
       "text": [
        "\n",
        "vectorizing done, 3512 terms vocabulary tokenized\n"
       ]
      },
      {
       "output_type": "stream",
       "stream": "stdout",
       "text": [
        "accuracy scores = [ 0.74209968  0.79150743  0.78146259  0.75505427],0.767530991191\n"
       ]
      },
      {
       "output_type": "stream",
       "stream": "stdout",
       "text": [
        "macro precision scores = [ 0.73650414  0.78853238  0.77752623  0.75173688],0.763574907954\n"
       ]
      },
      {
       "output_type": "stream",
       "stream": "stdout",
       "text": [
        "macro recall scores = [ 0.73205903  0.78710995  0.77271284  0.74935974],0.760310391421\n"
       ]
      },
      {
       "output_type": "stream",
       "stream": "stdout",
       "text": [
        "macro f1 scores = [ 0.73186904  0.7872105   0.77311714  0.74949238],0.760422266346\n"
       ]
      },
      {
       "output_type": "stream",
       "stream": "stdout",
       "text": [
        "weighted average precision scores = [ 0.74100351  0.79196023  0.78220106  0.75563265],0.767699362404\n"
       ]
      },
      {
       "output_type": "stream",
       "stream": "stdout",
       "text": [
        "weighted average recall scores = [ 0.74100351  0.79196023  0.78220106  0.75563265],0.767699362404\n"
       ]
      },
      {
       "output_type": "stream",
       "stream": "stdout",
       "text": [
        "weighted f1 scores = [ 0.7395749   0.79111315  0.78015599  0.75438615],0.766307547951\n",
        "dimensionality: 3512"
       ]
      },
      {
       "output_type": "stream",
       "stream": "stdout",
       "text": [
        "\n",
        "density: 0.847394646925\n",
        "alt.atheism trick,moral,popul,gulf,higher,boy scout,go to,fossil,object system,decis support,jehovah wit,rice,polit,po,scout,gulf war,god be,write,islam,vice\n",
        "comp.graphics convers,wish list,unix machin,vga,hacker ethic,color imag,textur,rgb,no name,anim,point,hacker,viewer,surfac,temp file,algorithm,mac version,imag,3d,graphic\n",
        "comp.os.ms-windows.misc wise,swap,mous cursor,printer driver,nt,swap file,ink,file manag,survey,setup,print manag,indiana,real world,bmp,vu,instruct set,ini,program manag,window,microsoft\n",
        "comp.sys.ibm.pc.hardware date,pariti,silicon graphic,low level,cpu fan,build one,cd rom,protect mode,memori manag,monitor,legal,data compress,ben,base card,hardwar problem,ide,blaster,bio,cmo,gateway\n",
        "comp.sys.mac.hardware discharg,educ,monti,memori,right hand,system design,hardwar,home comput,hour,clock speed,slot,control panel,se,pc at,logic board,price drop,shift key,run window,appl,mac\n",
        "comp.windows.x implement,item,an,sun,graphic acceler,display,client,telecom,devic driver,system programm,window system,default,script,sparc,man page,widget,escap,server,window manag,motif\n",
        "misc.forsale reserv,book,pedal,deck,cd,want,depth,size,trade,famili,sega,record,origin,dougla,deal,camera,interest,summer,ship,sale\n",
        "rec.autos earli,power window,rock,turn signal,tauru,engin,oil chang,consum report,concept,licens plate,dealer,air condit,wagon,toyota,oil by,warn,insur compani,shift,ford,car\n",
        "rec.motorcycles owner,roll royc,write,bar,breaker,chamber,court,member,liabil,blue book,shaft,steer,honda,chain,dog,world will,ninja,austin area,drink,helmet\n",
        "rec.sport.baseball red sox,jay,sport,field,tiger,offici,rocki,sox,world seri,era,hitter,marlin,home run,brave,batter,philli,cub,pitch,bat,basebal\n",
        "rec.sport.hockey next,world championship,ottawa,pool,ice,tie,final,wing,buffalo,pit,coverag,detroit,coach,penguin,oiler,leaf,bruin,playoff,nhl,hockey\n",
        "sci.crypt laissez,implement,radiat,administr,gener purpos,paper,speech,cola,organ,attack,escrow,secret,drug dealer,hard core,key,cipher,secur,encrypt,clipper,tap\n",
        "sci.electronics polic radar,design,ground,atari,cd player,cabl compani,assembl,system work,duct,tv,develop tool,cool tower,duct tape,electron,disk copi,voltag,power signal,appl mac,copi protect,circuit\n",
        "sci.med scientif basi,chemic,success,inform,corona,eye,effect,scientist,fever,bank,food,health,pitt,infect,cancer,inject,diseas,medic,treatment,patient\n",
        "sci.space lunar,sunset,sunset time,space station,satellit,solar,man work,hopkin,flight,mar,planet,rocket,gamma ray,spacecraft,launch,moon,shuttl,orbit,sky,space\n",
        "soc.religion.christian jame,translat,environment,angel,paul,templ,etern,christian,new testament,oakland,judgement,may,ancient book,church,cathol,homosexu issu,prayer,christ,sex educ,daili\n",
        "talk.politics.guns thursday,nation debt,homicid,vice presid,safeti,texa,bullet,id card,examin,fbi,militia,rifl,free state,smuggl,waco,american express,socialist leader,weapon,gun,atf\n",
        "talk.politics.mideast mountain pass,nation,muslim,davidian,jefferson,troop,warsaw,human right,cloud,expans,mcgill,holocaust,greek,freedom,polici,jew,occupi,bosnian,arab,isra\n",
        "talk.politics.misc american,concentr,environment,deficit,rodney king,kinsey,top,tantrum,temper tantrum,libertarian,select servic,free market,stimulu,studi,child molest,molest,good neighbor,mother natur,marin,polic state\n",
        "talk.religion.misc orthodox christian,ancient,internet address,red her,south,materi,opposit,comput program,kent,royc,open mind,new age,southern,order,love god,mormon,christian re,2000,fait,new religion\n",
        "ng20_raw_stems_bigrams_df0.0005_tf1 ^ google_bigrams (extended unigrams) -->  precision  0.763574907954 recall  0.760310391421 f1  0.760422266346\n",
        "loaded (23127) terms"
       ]
      },
      {
       "output_type": "stream",
       "stream": "stdout",
       "text": [
        "\n",
        "vectorizing done, 23127 terms vocabulary tokenized"
       ]
      },
      {
       "output_type": "stream",
       "stream": "stdout",
       "text": [
        "\n",
        "vectorizing done, 23127 terms vocabulary tokenized"
       ]
      },
      {
       "output_type": "stream",
       "stream": "stdout",
       "text": [
        "\n"
       ]
      },
      {
       "output_type": "stream",
       "stream": "stdout",
       "text": [
        "accuracy scores = [ 0.86044539  0.90042463  0.8892432   0.87167482],0.880447009306\n"
       ]
      },
      {
       "output_type": "stream",
       "stream": "stdout",
       "text": [
        "macro precision scores = [ 0.85980672  0.90002599  0.88865722  0.86989908],0.879597253931\n"
       ]
      },
      {
       "output_type": "stream",
       "stream": "stdout",
       "text": [
        "macro recall scores = [ 0.8530437   0.89781842  0.88283184  0.86863375],0.87558192762\n"
       ]
      },
      {
       "output_type": "stream",
       "stream": "stdout",
       "text": [
        "macro f1 scores = [ 0.8542919   0.8987357   0.88405523  0.86866669],0.876437380486\n"
       ]
      },
      {
       "output_type": "stream",
       "stream": "stdout",
       "text": [
        "weighted average precision scores = [ 0.8607199   0.90066063  0.89073297  0.87272462],0.881209531338\n"
       ]
      },
      {
       "output_type": "stream",
       "stream": "stdout",
       "text": [
        "weighted average recall scores = [ 0.8607199   0.90066063  0.89073297  0.87272462],0.881209531338\n"
       ]
      },
      {
       "output_type": "stream",
       "stream": "stdout",
       "text": [
        "weighted f1 scores = [ 0.85897226  0.90038239  0.88856426  0.87160824],0.879881787428\n",
        "dimensionality: 23127"
       ]
      },
      {
       "output_type": "stream",
       "stream": "stdout",
       "text": [
        "\n",
        "density: 0.916772603451\n",
        "alt.atheism mango,wwc,moral agenc,darwin,tammi,charley,dogma,cobb,motto,wingat,asimov,all go,benedikt,scout,islam,mathew,rushdi,atheism,keith,atheist\n",
        "comp.graphics point,sphere,targa,mpeg,surfac,tiff,hacker,raytrac,photoshop,anim,fractal,viewer,polygon,cview,imag,siggraph,pov,3do,3d,graphic\n",
        "comp.os.ms-windows.misc winword,nt,driver,ms,risc,smartdrv,doublespac,winqvt,ini,setup,file,win,program manag,bmp,ax,challeng,cica,win3,microsoft,window\n",
        "comp.sys.ibm.pc.hardware compaq,robert,connect,interrupt,jumper,connector,monitor,isa,modem,winmark,nanao,vlb,ide,irq,mitsumi,cmo,pc,motherboard,gateway,bio\n",
        "comp.sys.mac.hardware 040,iifx,on 24,macweek,iici,68040,deskwrit,pb,bmug,adb,lciii,se,centri,quadra,lc,iisi,duo,powerbook,appl,mac\n",
        "comp.windows.x subscrib,xdm,pixmap,xwd,xv,event,openwindow,xwindow,imak,unsubscrib,twm,xfree86,x11,window manag,xlib,server,widget,xterm,x11r5,motif\n",
        "misc.forsale traci,cod,cd,size,deal,3b1,obo,pay,camera,includ,sne,interest,summer,sell,want,for sale,ship,sale,offer,forsal\n",
        "rec.autos nissan,honda,shift,diesel,opel,integra,dealer,v6,sunroof,vw,mustang,warn,truck,toyota,automot,oil,geico,ford,auto,car\n",
        "rec.motorcycles piec,cage,moto,cager,moa,ducati,ranck,yamaha,the bike,dog,biker,harley,kawasaki,helmet,bmw,rider,ride,motorcycl,bike,dod\n",
        "rec.sport.baseball uniform,morri,marlin,hit,nl,bat,tiger,fenway,sox,stadium,brave,dodger,ball,pitcher,pitch,philli,cub,giant,yanke,basebal\n",
        "rec.sport.hockey lemieux,ice,coach,wing,island,team,wc,buffalo,goal,detroit,puck,leaf,penguin,shark,espn,goali,bruin,playoff,nhl,hockey\n",
        "sci.crypt rsa,secret,sternlight,lobbi,de,privaci,tempest,crypt,no good,key,cipher,pgp,wiretap,nsa,secur,tap,cryptographi,crypto,encrypt,clipper\n",
        "sci.electronics resistor,eprom,led,bubblejet,adcom,tv,pcb,explod,motorola,rf,spice,solvent,2600,8051,ic,voltag,scope,copi protect,electron,circuit\n",
        "sci.med antibiot,fever,cure,seizur,health,effect,exercis,treatment,patient,medicin,allerg,cancer,ear,diseas,msg,med,krillean,medic,photographi,doctor\n",
        "sci.space sunris,sunset,flight,dietz,nasa,gamma ray,dc,astronomi,satellit,mar,sky,spacecraft,rocket,planet,pat,moon,shuttl,launch,orbit,space\n",
        "soc.religion.christian bless,ceremoni,jame,cathol,prayer,sin,easter,hell,arrog,1993,christ,geneva,christian,kiefer,vers,church,daili,rutger,atho,clh\n",
        "talk.politics.guns bd,cnn,ban,weaver,acronym,cdt,burn,liberti,nra,handgun,militia,fbi,quisl,dividian,waco,weapon,ranch,firearm,atf,gun\n",
        "talk.politics.mideast armenia,racism,occupi,iran,muslim,elia,jerusalem,argic,uva,serdar,zionism,adl,jew,palestinian,bosnian,turkish,arab,armenian,isra,israel\n",
        "talk.politics.misc kinsey,clinton,violenc,liber,tax,initi,mow,hostag,drug,employ,optilink,sexual,garrett,teel,wetwar,gay,clayton,cramer,top ten,kaldi\n",
        "talk.religion.misc mithra,robert weiss,hare,new age,who next,koresh,beast,666,tyre,new religion,rawlin,brian,2000 year,abort,thou,hudson,rosicrucian,promis,mr presid,burden\n",
        "ng20_raw_stems_unigrams_df0.0005_tf1 ^ ng20_raw_stems_bigrams_df0.0005_tf1 ^ wiki_wiktionary_bigrams_vw  -->  precision  0.879597253931 recall  0.87558192762 f1  0.876437380486\n",
        "loaded (7627) terms"
       ]
      },
      {
       "output_type": "stream",
       "stream": "stdout",
       "text": [
        "\n",
        "extended to (11236) terms\n",
        "done loading vocabulary\n",
        "vectorizing done, 11236 terms vocabulary tokenized"
       ]
      },
      {
       "output_type": "stream",
       "stream": "stdout",
       "text": [
        "\n",
        "vectorizing done, 11236 terms vocabulary tokenized"
       ]
      },
      {
       "output_type": "stream",
       "stream": "stdout",
       "text": [
        "\n"
       ]
      },
      {
       "output_type": "stream",
       "stream": "stdout",
       "text": [
        "accuracy scores = [ 0.81760339  0.85838641  0.85459184  0.82549479],0.839019107044\n"
       ]
      },
      {
       "output_type": "stream",
       "stream": "stdout",
       "text": [
        "macro precision scores = [ 0.81612542  0.85785872  0.85273842  0.82471133],0.837858473714\n"
       ]
      },
      {
       "output_type": "stream",
       "stream": "stdout",
       "text": [
        "macro recall scores = [ 0.80948986  0.85601814  0.84698113  0.82228897],0.833694523928\n"
       ]
      },
      {
       "output_type": "stream",
       "stream": "stdout",
       "text": [
        "macro f1 scores = [ 0.81037458  0.85661299  0.84776456  0.82268627],0.83435959986\n"
       ]
      },
      {
       "output_type": "stream",
       "stream": "stdout",
       "text": [
        "weighted average precision scores = [ 0.81766162  0.85922072  0.85563413  0.82721647],0.839933235004\n"
       ]
      },
      {
       "output_type": "stream",
       "stream": "stdout",
       "text": [
        "weighted average recall scores = [ 0.81766162  0.85922072  0.85563413  0.82721647],0.839933235004\n"
       ]
      },
      {
       "output_type": "stream",
       "stream": "stdout",
       "text": [
        "weighted f1 scores = [ 0.81575601  0.85847673  0.85331536  0.8255605 ],0.838277149057\n",
        "dimensionality: 11236"
       ]
      },
      {
       "output_type": "stream",
       "stream": "stdout",
       "text": [
        "\n",
        "density: 0.901690993236\n",
        "alt.atheism unicorn,rice,moral agenc,the us,dogma,mccullough,mark mccullough,islam law,motto,gulf war,vice,bobbi,cobb,heali,scout,all go,islam,atheism,atheist,keith\n",
        "comp.graphics vesa,format,temp file,rgb,42,sphere,virtual realiti,hacker,point,tiff,surfac,anim,polygon,photoshop,imag,siggraph,viewer,pov,3d,graphic\n",
        "comp.os.ms-windows.misc desktop,access,dark,charact,visual basic,bmp,indiana,download,canon,nt,ms,max,setup,instruct set,win,program manag,ini,challeng,microsoft,window\n",
        "comp.sys.ibm.pc.hardware connect,modem,data compress,the connector,fi,486,atari,isa,partit,cpu,monitor,comment,burn it,cmo,pc,17,interrupt,just love,bio,gateway\n",
        "comp.sys.mac.hardware per,hardwar,pd slot,compar,in need,global villag,clock,950,price drop,on 24,iici,se,centri,duo,quadra,lc,iisi,appl,powerbook,mac\n",
        "comp.windows.x creat,cursor,hp 9000,sun,client,the server,gc,subject,the consortium,support,default,display,event,consortium,script,escap,widget,window manag,server,motif\n",
        "misc.forsale worth,repli,year old,deal,calcul,cd,pay,cheap,includ,size,ask,advertis,camera,interest,sell,summer,sale,want,ship,offer\n",
        "rec.autos of all,sho,licens plate,dealership,engin,insur compani,bmw,dealer,opel,shift,wagon,toyota,oil,truck,mustang,warn,ford,geico,auto,car\n",
        "rec.motorcycles wave,honda,for today,asphaug,jonathan,sutherland,chain,rec,bar,cage,shaft drive,ed green,the bike,moa,bmw,dog,rider,ama,ride,bike\n",
        "rec.sport.baseball hit,nl,hitter,morri,hr,bat,cardin,brave,marlin,sox,tiger,ball,stadium,dodger,pitch,giant,philli,yanke,cub,basebal\n",
        "rec.sport.hockey final,pool,team,oiler,lemieux,ice,leaf,buffalo,pit,coach,penguin,goal,shark,detroit,espn,goali,bruin,playoff,nhl,hockey\n",
        "sci.crypt fifth amend,de,random,the lobbi,ani more,key,secret,rsa,escrow,lobbi,privaci,pgp,cipher,no good,secur,crypto,tap,cryptographi,encrypt,clipper\n",
        "sci.electronics ham,copi,cool tower,nois,disk copi,develop tool,re power,led,assembl,them,duct,resist,duct tape,2600,tv,voltag,copi protect,scope,electron,circuit\n",
        "sci.med fever,physician,effect,exercis,skin,muscl,medicin,treatment,health,allerg,ear,patient,cancer,gordon bank,med,msg,diseas,medic,doctor,photographi\n",
        "sci.space orion,the moon,flight,astronomi,solar,satellit,dc,mission,mar,gamma ray,spacecraft,pat,rocket,sky,planet,moon,launch,shuttl,orbit,space\n",
        "soc.religion.christian paul,sex educ,may,moder,translat,jame,spiritu,ceremoni,sin,hell,easter,prayer,arrog,cathol,christ,christian,church,vers,daili,1993\n",
        "talk.politics.guns texa,politician,crimin,senat,examin,stratu,safeti,hunt,rifl,weaver,ban,burn,liberti,nra,fbi,waco,dividian,weapon,atf,gun\n",
        "talk.politics.mideast muslim,soldier,prison,iranian,holocaust,say you,armenia,occupi,freedom,argic,serdar,palestinian,bosnian,turkish,adl,jew,arab,armenian,isra,israel\n",
        "talk.politics.misc econom,carpet,verdict,libertarian,ted frank,tax,celebr,initi,kinsey,polic state,drug,liber,baker,employ,sexual,clayton,garrett,cramer,top ten,gay\n",
        "talk.religion.misc sword,sabin,mormon,koresh,albert sabin,the beast,2000 year,new age,weiss,beast,robert weiss,new religion,abort,who next,hudson,rosicrucian,brian,mr presid,promis,burden\n",
        "ng20_raw_stems_bigrams_df0.0005_tf1 ^ wiki_wiktionary_bigrams_vw (extended unigrams) -->  precision  0.837858473714 recall  0.833694523928 f1  0.83435959986\n",
        "loaded (22775) terms"
       ]
      },
      {
       "output_type": "stream",
       "stream": "stdout",
       "text": [
        "\n",
        "vectorizing done, 22775 terms vocabulary tokenized"
       ]
      },
      {
       "output_type": "stream",
       "stream": "stdout",
       "text": [
        "\n",
        "vectorizing done, 22775 terms vocabulary tokenized"
       ]
      },
      {
       "output_type": "stream",
       "stream": "stdout",
       "text": [
        "\n"
       ]
      },
      {
       "output_type": "stream",
       "stream": "stdout",
       "text": [
        "accuracy scores = [ 0.86129374  0.90169851  0.8892432   0.86954671],0.880445541629\n"
       ]
      },
      {
       "output_type": "stream",
       "stream": "stdout",
       "text": [
        "macro precision scores = [ 0.86003168  0.90170004  0.88870056  0.86807666],0.879627233734\n"
       ]
      },
      {
       "output_type": "stream",
       "stream": "stdout",
       "text": [
        "macro recall scores = [ 0.85362335  0.89941801  0.88298679  0.86649244],0.875630148842\n"
       ]
      },
      {
       "output_type": "stream",
       "stream": "stdout",
       "text": [
        "macro f1 scores = [ 0.85479834  0.90036657  0.88416237  0.86658267],0.876477486228\n"
       ]
      },
      {
       "output_type": "stream",
       "stream": "stdout",
       "text": [
        "weighted average precision scores = [ 0.8613659   0.90192669  0.89079816  0.87087217],0.881240729188\n"
       ]
      },
      {
       "output_type": "stream",
       "stream": "stdout",
       "text": [
        "weighted average recall scores = [ 0.8613659   0.90192669  0.89079816  0.87087217],0.881240729188\n"
       ]
      },
      {
       "output_type": "stream",
       "stream": "stdout",
       "text": [
        "weighted f1 scores = [ 0.85979967  0.9016496   0.88858741  0.86952397],0.879890160633\n",
        "dimensionality: 22775"
       ]
      },
      {
       "output_type": "stream",
       "stream": "stdout",
       "text": [
        "\n",
        "density: 0.913326015368\n",
        "alt.atheism jaeger,mango,moral agenc,charley,wwc,darwin,tammi,dogma,cobb,wingat,motto,asimov,benedikt,scout,islam,mathew,rushdi,atheism,keith,atheist\n",
        "comp.graphics impuls,sphere,mpeg,targa,surfac,tiff,hacker,raytrac,anim,photoshop,viewer,fractal,polygon,cview,imag,siggraph,pov,3do,3d,graphic\n",
        "comp.os.ms-windows.misc winword,nt,ms,driver,risc,doublespac,smartdrv,winqvt,setup,ini,file,win,bmp,program manag,ax,challeng,cica,win3,microsoft,window\n",
        "comp.sys.ibm.pc.hardware compaq,connect,smc,robert,interrupt,monitor,connector,modem,winmark,isa,nanao,vlb,ide,mitsumi,irq,cmo,pc,motherboard,gateway,bio\n",
        "comp.sys.mac.hardware iifx,040,iici,macweek,68040,pb,deskwrit,on 24,bmug,adb,lciii,centri,se,quadra,lc,iisi,duo,powerbook,appl,mac\n",
        "comp.windows.x subscrib,xdm,xwd,pixmap,xv,openwindow,imak,event,xwindow,unsubscrib,twm,xfree86,window manag,x11,xlib,server,widget,xterm,x11r5,motif\n",
        "misc.forsale origin,cod,cd,size,deal,3b1,obo,camera,includ,pay,sne,interest,summer,sell,want,for sale,ship,sale,offer,forsal\n",
        "rec.autos nissan,dumbest,integra,shift,diesel,opel,dealer,v6,sunroof,vw,mustang,warn,truck,toyota,oil,automot,geico,ford,auto,car\n",
        "rec.motorcycles piec,cage,moto,cager,moa,ducati,ranck,yamaha,the bike,dog,biker,harley,kawasaki,helmet,bmw,rider,ride,motorcycl,bike,dod\n",
        "rec.sport.baseball uniform,morri,hit,marlin,nl,bat,tiger,fenway,sox,stadium,ball,brave,dodger,pitch,pitcher,philli,cub,giant,yanke,basebal\n",
        "rec.sport.hockey lemieux,ice,coach,wing,team,island,wc,buffalo,goal,puck,leaf,detroit,penguin,shark,espn,goali,bruin,playoff,nhl,hockey\n",
        "sci.crypt rsa,secret,sternlight,de,lobbi,privaci,tempest,crypt,key,cipher,no good,pgp,nsa,wiretap,secur,cryptographi,crypto,tap,encrypt,clipper\n",
        "sci.electronics dsp,resistor,led,bubblejet,tv,adcom,pcb,rf,motorola,explod,spice,solvent,2600,8051,ic,voltag,scope,copi protect,electron,circuit\n",
        "sci.med prozac,fever,seizur,cure,health,effect,exercis,treatment,patient,allerg,medicin,cancer,ear,diseas,msg,med,krillean,medic,photographi,doctor\n",
        "sci.space the moon,aurora,flight,nasa,dietz,gamma ray,dc,astronomi,satellit,mar,sky,spacecraft,rocket,planet,pat,moon,shuttl,launch,orbit,space\n",
        "soc.religion.christian bless,ceremoni,jame,cathol,prayer,sin,hell,arrog,easter,1993,christ,geneva,christian,kiefer,vers,church,daili,rutger,atho,clh\n",
        "talk.politics.guns cipriani,cnn,ban,weaver,acronym,cdt,burn,liberti,nra,handgun,militia,fbi,quisl,dividian,waco,weapon,ranch,firearm,atf,gun\n",
        "talk.politics.mideast armenia,racism,occupi,iran,muslim,elia,argic,jerusalem,serdar,uva,zionism,adl,jew,bosnian,palestinian,turkish,arab,armenian,isra,israel\n",
        "talk.politics.misc kinsey,clinton,violenc,liber,initi,tax,mow,hostag,drug,employ,optilink,sexual,garrett,teel,wetwar,gay,clayton,cramer,top ten,kaldi\n",
        "talk.religion.misc 2000,robert weiss,hare,new age,who next,koresh,beast,tyre,666,rawlin,2000 year,brian,thou,abort,hudson,promis,rosicrucian,new religion,mr presid,burden\n",
        "ng20_raw_stems_unigrams_df0.0005_tf1 ^ ng20_raw_stems_bigrams_df0.0005_tf1 ^ wiki_google_bigrams_vw  -->  precision  0.879627233734 recall  0.875630148842 f1  0.876477486228\n",
        "loaded (7275) terms"
       ]
      },
      {
       "output_type": "stream",
       "stream": "stdout",
       "text": [
        "\n",
        "extended to (10831) terms\n",
        "done loading vocabulary\n",
        "vectorizing done, 10831 terms vocabulary tokenized"
       ]
      },
      {
       "output_type": "stream",
       "stream": "stdout",
       "text": [
        "\n",
        "vectorizing done, 10831 terms vocabulary tokenized"
       ]
      },
      {
       "output_type": "stream",
       "stream": "stdout",
       "text": [
        "\n"
       ]
      },
      {
       "output_type": "stream",
       "stream": "stdout",
       "text": [
        "accuracy scores = [ 0.82120891  0.86135881  0.85522959  0.82506916],0.840716618568\n"
       ]
      },
      {
       "output_type": "stream",
       "stream": "stdout",
       "text": [
        "macro precision scores = [ 0.81951658  0.8605852   0.85268298  0.82444106],0.839306453076\n"
       ]
      },
      {
       "output_type": "stream",
       "stream": "stdout",
       "text": [
        "macro recall scores = [ 0.81270096  0.85906717  0.84768088  0.82190156],0.835337641854\n"
       ]
      },
      {
       "output_type": "stream",
       "stream": "stdout",
       "text": [
        "macro f1 scores = [ 0.81372702  0.85953423  0.84829634  0.82223636],0.835948487382\n"
       ]
      },
      {
       "output_type": "stream",
       "stream": "stdout",
       "text": [
        "weighted average precision scores = [ 0.82160394  0.8617231   0.85579708  0.82699941],0.841530883824\n"
       ]
      },
      {
       "output_type": "stream",
       "stream": "stdout",
       "text": [
        "weighted average recall scores = [ 0.82160394  0.8617231   0.85579708  0.82699941],0.841530883824\n"
       ]
      },
      {
       "output_type": "stream",
       "stream": "stdout",
       "text": [
        "weighted f1 scores = [ 0.81951196  0.86125028  0.85387693  0.8251289 ],0.839942018779\n",
        "dimensionality: 10831"
       ]
      },
      {
       "output_type": "stream",
       "stream": "stdout",
       "text": [
        "\n",
        "density: 0.890471793925\n",
        "alt.atheism dan,moral agenc,re,rice,the us,dogma,islam law,mark mccullough,mccullough,gulf war,motto,vice,bobbi,cobb,heali,scout,islam,atheism,atheist,keith\n",
        "comp.graphics corel,algorithm,rgb,sphere,hacker,temp file,virtual realiti,42,point,tiff,surfac,anim,polygon,viewer,photoshop,imag,siggraph,pov,3d,graphic\n",
        "comp.os.ms-windows.misc printer driver,download,dark,file,charact,indiana,visual basic,canon,nt,ms,setup,bmp,max,win,instruct set,program manag,ini,challeng,microsoft,window\n",
        "comp.sys.ibm.pc.hardware data compress,ide,os,robert,monitor,cpu,the connector,isa,486,fi,atari,comment,burn it,pc,cmo,interrupt,17,just love,bio,gateway\n",
        "comp.sys.mac.hardware laser printer,po,upgrad,global villag,pd slot,24 hour,hardwar,950,price drop,on 24,iici,se,centri,duo,quadra,lc,iisi,appl,powerbook,mac\n",
        "comp.windows.x cursor,sparc,hp 9000,the server,gc,client,sun,subject,support,the consortium,default,display,event,consortium,script,escap,widget,window manag,server,motif\n",
        "misc.forsale girl,record,origin,year old,deal,calcul,cd,size,pay,includ,ask,advertis,interest,camera,summer,sell,sale,want,ship,offer\n",
        "rec.autos kill me,sho,licens plate,engin,dealership,bmw,insur compani,shift,opel,dealer,oil,toyota,wagon,truck,mustang,warn,geico,ford,auto,car\n",
        "rec.motorcycles 82,for today,asphaug,sutherland,chain,bar,rec,jonathan,cage,shaft drive,the bike,ed green,moa,bmw,dog,helmet,rider,ama,ride,bike\n",
        "rec.sport.baseball hit,morri,hitter,nl,hr,bat,sox,cardin,brave,tiger,stadium,ball,marlin,dodger,pitch,philli,giant,yanke,cub,basebal\n",
        "rec.sport.hockey final,pool,team,lemieux,oiler,ice,coach,pit,leaf,buffalo,penguin,goal,shark,espn,detroit,goali,bruin,playoff,nhl,hockey\n",
        "sci.crypt algorithm,anonym,fifth amend,random,the lobbi,key,secret,rsa,escrow,lobbi,privaci,pgp,cipher,no good,secur,crypto,cryptographi,tap,encrypt,clipper\n",
        "sci.electronics copi,cap,cool tower,nois,led,develop tool,project,them,disk copi,assembl,duct,resist,duct tape,2600,tv,voltag,electron,copi protect,scope,circuit\n",
        "sci.med gordon,skin,effect,fever,physician,exercis,health,treatment,medicin,allerg,patient,ear,cancer,gordon bank,med,msg,diseas,medic,doctor,photographi\n",
        "sci.space fred,mission,sunset time,astronomi,sunset,solar,dc,satellit,mar,gamma ray,spacecraft,pat,rocket,sky,planet,moon,shuttl,launch,orbit,space\n",
        "soc.religion.christian paul,may,sex educ,translat,moder,hell,jame,spiritu,sin,ceremoni,easter,arrog,prayer,cathol,christ,vers,christian,church,daili,1993\n",
        "talk.politics.guns politician,texa,examin,senat,stratu,hunt,rifl,safeti,weaver,ban,burn,liberti,militia,nra,fbi,waco,dividian,weapon,atf,gun\n",
        "talk.politics.mideast polici,warsaw,soldier,prison,iranian,say you,armenia,freedom,occupi,argic,serdar,palestinian,bosnian,turkish,adl,jew,arab,armenian,israel,isra\n",
        "talk.politics.misc deficit,libertarian,tax,carpet,ted frank,initi,verdict,kinsey,celebr,polic state,liber,drug,baker,employ,sexual,clayton,garrett,cramer,top ten,gay\n",
        "talk.religion.misc biblic,sword,albert sabin,koresh,mormon,the beast,2000 year,new age,weiss,beast,robert weiss,abort,hudson,who next,rosicrucian,brian,new religion,mr presid,promis,burden\n",
        "ng20_raw_stems_bigrams_df0.0005_tf1 ^ wiki_google_bigrams_vw (extended unigrams) -->  precision  0.839306453076 recall  0.835337641854 f1  0.835948487382\n",
        "loaded (19282) terms"
       ]
      },
      {
       "output_type": "stream",
       "stream": "stdout",
       "text": [
        "\n",
        "vectorizing done, 19282 terms vocabulary tokenized"
       ]
      },
      {
       "output_type": "stream",
       "stream": "stdout",
       "text": [
        "\n",
        "vectorizing done, 19282 terms vocabulary tokenized"
       ]
      },
      {
       "output_type": "stream",
       "stream": "stdout",
       "text": [
        "\n"
       ]
      },
      {
       "output_type": "stream",
       "stream": "stdout",
       "text": [
        "accuracy scores = [ 0.85896076  0.90042463  0.88988095  0.86869547],0.879490452868\n"
       ]
      },
      {
       "output_type": "stream",
       "stream": "stdout",
       "text": [
        "macro precision scores = [ 0.85725621  0.89996526  0.88992121  0.86745052],0.878648299429\n"
       ]
      },
      {
       "output_type": "stream",
       "stream": "stdout",
       "text": [
        "macro recall scores = [ 0.85125689  0.89770847  0.88362251  0.86583982],0.874606922531\n"
       ]
      },
      {
       "output_type": "stream",
       "stream": "stdout",
       "text": [
        "macro f1 scores = [ 0.85226602  0.89859905  0.88500986  0.86595475],0.875457420248\n"
       ]
      },
      {
       "output_type": "stream",
       "stream": "stdout",
       "text": [
        "weighted average precision scores = [ 0.85886661  0.9005416   0.89169991  0.87017983],0.880321986206\n"
       ]
      },
      {
       "output_type": "stream",
       "stream": "stdout",
       "text": [
        "weighted average recall scores = [ 0.85886661  0.9005416   0.89169991  0.87017983],0.880321986206\n"
       ]
      },
      {
       "output_type": "stream",
       "stream": "stdout",
       "text": [
        "weighted f1 scores = [ 0.85738586  0.90027666  0.88929628  0.86877597],0.878933689591\n",
        "dimensionality: 19282"
       ]
      },
      {
       "output_type": "stream",
       "stream": "stdout",
       "text": [
        "\n",
        "density: 0.916914739135\n",
        "alt.atheism jaeger,wrote,charley,mango,darwin,tammi,dogma,cobb,wingat,asimov,motto,benedikt,scout,all go,mathew,islam,rushdi,keith,atheism,atheist\n",
        "comp.graphics impuls,virtual realiti,sphere,mpeg,tiff,surfac,anim,raytrac,photoshop,viewer,fractal,hacker,polygon,cview,imag,siggraph,pov,3do,3d,graphic\n",
        "comp.os.ms-windows.misc winword,printer driver,workgroup,nt,risc,winqvt,smartdrv,setup,ini,doublespac,file,bmp,win,program manag,ax,challeng,cica,win3,microsoft,window\n",
        "comp.sys.ibm.pc.hardware 16550,date,smc,gosh,isa,connector,interrupt,nanao,modem,vlb,cmo,irq,ide,spec,mitsumi,winmark,pc,motherboard,bio,gateway\n",
        "comp.sys.mac.hardware 040,syquest,macweek,pb,kept on,iici,deskwrit,68040,bmug,adb,lciii,se,iisi,quadra,lc,centri,duo,powerbook,appl,mac\n",
        "comp.windows.x pixmap,xwd,xv,event,xwindow,xdm,imak,openwindow,unsubscrib,twm,consortium,xfree86,window manag,x11,xlib,widget,server,xterm,x11r5,motif\n",
        "misc.forsale cod,origin,cd,size,3b1,deal,obo,camera,pay,want,includ,interest,sne,sell,summer,for sale,ship,sale,offer,forsal\n",
        "rec.autos dumbest,nissan,integra,shift,diesel,opel,sunroof,v6,vw,mustang,dealer,truck,warn,toyota,oil,automot,geico,ford,auto,car\n",
        "rec.motorcycles piec,infant,cage,moto,moa,ducati,cager,ranck,yamaha,dog,biker,harley,kawasaki,helmet,bmw,rider,ride,motorcycl,bike,dod\n",
        "rec.sport.baseball hit,mattingli,nl,marlin,bat,sox,fenway,tiger,morri,stadium,ball,dodger,brave,pitch,pitcher,cub,giant,yanke,philli,basebal\n",
        "rec.sport.hockey wc,oiler,pen,team,buffalo,cup,cherri,detroit,puck,wing,goal,leaf,penguin,shark,espn,goali,bruin,playoff,nhl,hockey\n",
        "sci.crypt sternlight,den,privaci,de,secret,lobbi,tempest,crypt,key,no good,cipher,pgp,wiretap,nsa,secur,tap,cryptographi,crypto,encrypt,clipper\n",
        "sci.electronics bubblejet,256k,disk copi,adcom,led,tv,motorola,pcb,spice,explod,rf,solvent,8051,2600,ic,voltag,scope,electron,copi protect,circuit\n",
        "sci.med seizur,syndrom,needl,health,prozac,effect,treatment,patient,exercis,medicin,allerg,cancer,ear,diseas,med,msg,krillean,photographi,medic,doctor\n",
        "sci.space lunar,henri,flight,nasa,dietz,gamma ray,dc,astronomi,satellit,spacecraft,mar,rocket,planet,pat,sky,launch,shuttl,moon,orbit,space\n",
        "soc.religion.christian fisher,ceremoni,jame,cathol,prayer,sin,1993,easter,hell,arrog,christ,christian,vers,geneva,kiefer,church,daili,rutger,atho,clh\n",
        "talk.politics.guns bd,cnn,ban,acronym,cdt,burn,weaver,liberti,nra,militia,handgun,fbi,quisl,dividian,waco,weapon,ranch,firearm,atf,gun\n",
        "talk.politics.mideast hama,armenia,iran,occupi,holocaust,elia,jerusalem,uva,argic,zionism,serdar,adl,jew,bosnian,palestinian,turkish,arab,armenian,isra,israel\n",
        "talk.politics.misc carpet,liber,kinsey,tax,violenc,presid,drug,mow,initi,hostag,employ,sexual,gay,garrett,optilink,teel,wetwar,clayton,cramer,kaldi\n",
        "talk.religion.misc hare,new age,beast,sabin,biblic,koresh,mormon,666,brian,new religion,rawlin,abort,thou,weiss,hudson,promis,2000,rosicrucian,mr presid,burden\n",
        "ng20_raw_stems_unigrams_df0.0005_tf1 ^ ng20_raw_stems_bigrams_df0.0005_tf1 ^ wiktionary_google_bigrams_vw  -->  precision  0.878648299429 recall  0.874606922531 f1  0.875457420248\n",
        "loaded (3782) terms"
       ]
      },
      {
       "output_type": "stream",
       "stream": "stdout",
       "text": [
        "\n",
        "extended to (5904) terms\n",
        "done loading vocabulary\n",
        "vectorizing done, 5904 terms vocabulary tokenized"
       ]
      },
      {
       "output_type": "stream",
       "stream": "stdout",
       "text": [
        "\n",
        "vectorizing done, 5904 terms vocabulary tokenized"
       ]
      },
      {
       "output_type": "stream",
       "stream": "stdout",
       "text": [
        "\n"
       ]
      },
      {
       "output_type": "stream",
       "stream": "stdout",
       "text": [
        "accuracy scores = [ 0.75843054  0.81273885  0.81292517  0.78442222],0.792129195473\n"
       ]
      },
      {
       "output_type": "stream",
       "stream": "stdout",
       "text": [
        "macro precision scores = [ 0.75223907  0.8098301   0.80902355  0.78354544],0.788659540673\n"
       ]
      },
      {
       "output_type": "stream",
       "stream": "stdout",
       "text": [
        "macro recall scores = [ 0.7485362   0.80786985  0.80436462  0.7802127 ],0.785245841458\n"
       ]
      },
      {
       "output_type": "stream",
       "stream": "stdout",
       "text": [
        "macro f1 scores = [ 0.74837771  0.80831961  0.80457948  0.78083241],0.785527302928\n"
       ]
      },
      {
       "output_type": "stream",
       "stream": "stdout",
       "text": [
        "weighted average precision scores = [ 0.75707204  0.81303943  0.81287998  0.78676634],0.792439446031\n"
       ]
      },
      {
       "output_type": "stream",
       "stream": "stdout",
       "text": [
        "weighted average recall scores = [ 0.75707204  0.81303943  0.81287998  0.78676634],0.792439446031\n"
       ]
      },
      {
       "output_type": "stream",
       "stream": "stdout",
       "text": [
        "weighted f1 scores = [ 0.75614606  0.81242404  0.81118645  0.78458015],0.791084176254\n",
        "dimensionality: 5904"
       ]
      },
      {
       "output_type": "stream",
       "stream": "stdout",
       "text": [
        "\n",
        "density: 0.891675135501\n",
        "alt.atheism object system,caus,boy scout,logic,rice,close in,thrown,thought,moral,religion,gulf,punish,polit,scout,gulf war,po,write,vice,islam,all go\n",
        "comp.graphics fill,color imag,textur,mac version,hacker ethic,vga,rgb,trace,virtual realiti,temp file,anim,not yet,surfac,algorithm,hacker,point,viewer,imag,3d,graphic\n",
        "comp.os.ms-windows.misc file,real world,swap file,ink,file manag,nt,print manag,desktop,survey,indiana,setup,visual basic,win,vu,bmp,instruct set,ini,program manag,window,microsoft\n",
        "comp.sys.ibm.pc.hardware comput,data compress,blaster,date,cpu,jumper,comment,main memori,ben,memori manag,floppi,isa,monitor,atari,partit,ide,pc,cmo,bio,gateway\n",
        "comp.sys.mac.hardware internet,educ,photo,laser printer,control panel,video,oscil,memori,pc at,run window,clock,per,slot,hardwar,logic board,price drop,se,kept on,appl,mac\n",
        "comp.windows.x man page,implement,devic driver,comput scienc,support,exampl,display,client,system programm,sun,script,default,sparc,window system,event,widget,escap,server,window manag,motif\n",
        "misc.forsale girl,trade,origin,cd,record,book,size,sega,pay,cheap,ask,worth,want,sell,deal,interest,sale,ship,summer,camera\n",
        "rec.autos earli,washington,consum report,oil chang,flat,air condit,oil by,bumper,engin,licens plate,dealer,truck,wagon,of all,toyota,warn,insur compani,shift,ford,car\n",
        "rec.motorcycles park,steer,insur,rec,split,chamber,drink,lock,member,ninja,bar,owner,exhaust,chain,honda,shaft,lean,dog,helmet,ride\n",
        "rec.sport.baseball rocki,sport,length,jay,sox,home run,tiger,nl,hitter,era,batter,hit,marlin,ball,bat,brave,cub,pitch,philli,basebal\n",
        "rec.sport.hockey pool,edmonton,wing,final,mask,cup,pit,buffalo,ice,coverag,detroit,leaf,oiler,penguin,goal,coach,bruin,playoff,nhl,hockey\n",
        "sci.crypt be bother,attack,algorithm,organ,de,ani more,fifth,hard core,random,public key,key,escrow,fifth amend,secret,cipher,no good,secur,tap,encrypt,clipper\n",
        "sci.electronics cd player,in seri,design,ham,project,ground,assembl,duct,develop tool,cool tower,disk copi,duct tape,tv,appl mac,2600,power signal,voltag,electron,copi protect,circuit\n",
        "sci.med corona,infect,eye,clinic,fever,inject,effect,bank,health,medicin,cancer,muscl,pitt,food,treatment,med,patient,medic,diseas,doctor\n",
        "sci.space hopkin,loss,satellit,dc,sunset time,astronomi,sunset,lunar,flight,mar,spacecraft,gamma ray,rocket,planet,launch,moon,shuttl,sky,orbit,space\n",
        "soc.religion.christian homosexu issu,paul,judgement,oakland,templ,translat,jame,broken,sin,may,marri,easter,hell,christian,sex educ,prayer,cathol,church,christ,daili\n",
        "talk.politics.guns smuggl,gang,possess,in for,crimin,bullet,texa,american express,safeti,examin,socialist leader,burn,militia,hunt,rifl,fbi,waco,weapon,gun,atf\n",
        "talk.politics.mideast prison,border,human right,greek,troop,expans,muslim,hate,mcgill,holocaust,shoot down,freedom,polici,turkey,palestinian,jew,occupi,bosnian,arab,isra\n",
        "talk.politics.misc temper tantrum,stimulu,kinsey,select servic,presid,drug,hold,american,good neighbor,child molest,deficit,libertarian,initi,ten,econom,molest,mutual,sexual,polic state,gay\n",
        "talk.religion.misc public school,lighten,cult,southern,spin off,kent,moral system,materi,christian re,beast,new age,the beast,love god,order,ancient,fait,2000,mormon,new religion,mr presid\n",
        "ng20_raw_stems_bigrams_df0.0005_tf1 ^ wiktionary_google_bigrams_vw (extended unigrams) -->  precision  0.788659540673 recall  0.785245841458 f1  0.785527302928\n",
        "loaded (23596) terms"
       ]
      },
      {
       "output_type": "stream",
       "stream": "stdout",
       "text": [
        "\n",
        "vectorizing done, 23596 terms vocabulary tokenized"
       ]
      },
      {
       "output_type": "stream",
       "stream": "stdout",
       "text": [
        "\n",
        "vectorizing done, 23596 terms vocabulary tokenized"
       ]
      },
      {
       "output_type": "stream",
       "stream": "stdout",
       "text": [
        "\n"
       ]
      },
      {
       "output_type": "stream",
       "stream": "stdout",
       "text": [
        "accuracy scores = [ 0.86150583  0.90063694  0.89009354  0.8712492 ],0.880871378624\n"
       ]
      },
      {
       "output_type": "stream",
       "stream": "stdout",
       "text": [
        "macro precision scores = [ 0.86059856  0.90034546  0.88962434  0.86960652],0.88004371867\n"
       ]
      },
      {
       "output_type": "stream",
       "stream": "stdout",
       "text": [
        "macro recall scores = [ 0.85395098  0.89813669  0.88372044  0.86827031],0.87601960483\n"
       ]
      },
      {
       "output_type": "stream",
       "stream": "stdout",
       "text": [
        "macro f1 scores = [ 0.85517049  0.89905719  0.88492561  0.86835221],0.876876376763\n"
       ]
      },
      {
       "output_type": "stream",
       "stream": "stdout",
       "text": [
        "weighted average precision scores = [ 0.86172318  0.90096961  0.89172782  0.87222925],0.881662466301\n"
       ]
      },
      {
       "output_type": "stream",
       "stream": "stdout",
       "text": [
        "weighted average recall scores = [ 0.86172318  0.90096961  0.89172782  0.87222925],0.881662466301\n"
       ]
      },
      {
       "output_type": "stream",
       "stream": "stdout",
       "text": [
        "weighted f1 scores = [ 0.86001716  0.90064186  0.88942831  0.87115933],0.880311663117\n",
        "dimensionality: 23596"
       ]
      },
      {
       "output_type": "stream",
       "stream": "stdout",
       "text": [
        "\n",
        "density: 0.914739786404\n",
        "alt.atheism mango,wwc,moral agenc,darwin,tammi,charley,dogma,cobb,motto,wingat,asimov,all go,benedikt,scout,islam,mathew,rushdi,atheism,keith,atheist\n",
        "comp.graphics point,sphere,targa,mpeg,surfac,tiff,photoshop,hacker,raytrac,anim,fractal,viewer,polygon,cview,imag,siggraph,pov,3do,3d,graphic\n",
        "comp.os.ms-windows.misc winword,nt,ms,driver,doublespac,risc,smartdrv,winqvt,ini,setup,file,win,bmp,program manag,ax,challeng,cica,win3,microsoft,window\n",
        "comp.sys.ibm.pc.hardware robert,smc,connect,compaq,interrupt,connector,monitor,isa,modem,winmark,nanao,vlb,ide,irq,mitsumi,cmo,pc,motherboard,gateway,bio\n",
        "comp.sys.mac.hardware floptic,040,on 24,iici,macweek,68040,deskwrit,pb,bmug,adb,lciii,se,centri,quadra,lc,iisi,duo,powerbook,appl,mac\n",
        "comp.windows.x subscrib,xwd,xdm,pixmap,xv,event,openwindow,imak,xwindow,unsubscrib,twm,xfree86,window manag,x11,xlib,server,widget,xterm,x11r5,motif\n",
        "misc.forsale traci,cod,cd,3b1,deal,size,obo,pay,camera,includ,sne,interest,summer,sell,want,for sale,ship,sale,offer,forsal\n",
        "rec.autos nissan,honda,shift,integra,diesel,opel,dealer,v6,sunroof,vw,mustang,warn,truck,toyota,automot,oil,geico,ford,auto,car\n",
        "rec.motorcycles cage,piec,moto,cager,moa,ducati,ranck,yamaha,the bike,dog,biker,kawasaki,harley,helmet,bmw,rider,ride,motorcycl,bike,dod\n",
        "rec.sport.baseball uniform,morri,marlin,hit,nl,bat,tiger,fenway,sox,stadium,brave,dodger,ball,pitch,pitcher,philli,cub,giant,yanke,basebal\n",
        "rec.sport.hockey lemieux,ice,coach,wing,island,wc,team,buffalo,goal,detroit,puck,leaf,penguin,shark,espn,goali,bruin,playoff,nhl,hockey\n",
        "sci.crypt rsa,secret,sternlight,lobbi,de,privaci,tempest,crypt,no good,cipher,key,pgp,wiretap,nsa,secur,tap,cryptographi,crypto,encrypt,clipper\n",
        "sci.electronics dsp,eprom,led,bubblejet,adcom,tv,pcb,motorola,rf,explod,spice,solvent,2600,8051,ic,voltag,scope,copi protect,electron,circuit\n",
        "sci.med antibiot,fever,seizur,cure,health,effect,exercis,patient,treatment,allerg,medicin,cancer,ear,diseas,msg,med,krillean,medic,photographi,doctor\n",
        "sci.space the moon,aurora,flight,dietz,nasa,gamma ray,dc,astronomi,satellit,mar,sky,spacecraft,rocket,planet,pat,moon,shuttl,launch,orbit,space\n",
        "soc.religion.christian bless,ceremoni,jame,cathol,prayer,sin,easter,hell,arrog,1993,christ,geneva,christian,kiefer,vers,church,daili,rutger,atho,clh\n",
        "talk.politics.guns cipriani,cnn,ban,weaver,acronym,cdt,burn,liberti,nra,handgun,militia,fbi,quisl,dividian,waco,weapon,ranch,firearm,atf,gun\n",
        "talk.politics.mideast armenia,racism,occupi,iran,muslim,elia,jerusalem,argic,uva,serdar,zionism,adl,jew,bosnian,palestinian,turkish,arab,armenian,isra,israel\n",
        "talk.politics.misc kinsey,clinton,violenc,liber,initi,tax,mow,hostag,drug,employ,optilink,sexual,garrett,teel,wetwar,gay,clayton,cramer,top ten,kaldi\n",
        "talk.religion.misc mithra,robert weiss,hare,new age,who next,koresh,beast,666,tyre,new religion,rawlin,brian,2000 year,abort,thou,hudson,rosicrucian,mr presid,promis,burden\n",
        "ng20_raw_stems_unigrams_df0.0005_tf1 ^ ng20_raw_stems_bigrams_df0.0005_tf1 ^ wiki_wiktionary_google_bigrams_vw  -->  precision  0.88004371867 recall  0.87601960483 f1  0.876876376763\n",
        "loaded (8096) terms"
       ]
      },
      {
       "output_type": "stream",
       "stream": "stdout",
       "text": [
        "\n",
        "extended to (11753) terms\n",
        "done loading vocabulary\n",
        "vectorizing done, 11753 terms vocabulary tokenized"
       ]
      },
      {
       "output_type": "stream",
       "stream": "stdout",
       "text": [
        "\n",
        "vectorizing done, 11753 terms vocabulary tokenized"
       ]
      },
      {
       "output_type": "stream",
       "stream": "stdout",
       "text": [
        "\n"
       ]
      },
      {
       "output_type": "stream",
       "stream": "stdout",
       "text": [
        "accuracy scores = [ 0.82163309  0.85902335  0.85629252  0.82677165],0.840930152753\n"
       ]
      },
      {
       "output_type": "stream",
       "stream": "stdout",
       "text": [
        "macro precision scores = [ 0.82013622  0.85820618  0.85429756  0.82603194],0.839667972025\n"
       ]
      },
      {
       "output_type": "stream",
       "stream": "stdout",
       "text": [
        "macro recall scores = [ 0.81330868  0.85653631  0.84895041  0.82364255],0.835609487068\n"
       ]
      },
      {
       "output_type": "stream",
       "stream": "stdout",
       "text": [
        "macro f1 scores = [ 0.81420527  0.8570479   0.84977683  0.82398454],0.836253637612\n"
       ]
      },
      {
       "output_type": "stream",
       "stream": "stdout",
       "text": [
        "weighted average precision scores = [ 0.8218146   0.85957879  0.85733659  0.82855502],0.841821248929\n"
       ]
      },
      {
       "output_type": "stream",
       "stream": "stdout",
       "text": [
        "weighted average recall scores = [ 0.8218146   0.85957879  0.85733659  0.82855502],0.841821248929\n"
       ]
      },
      {
       "output_type": "stream",
       "stream": "stdout",
       "text": [
        "weighted f1 scores = [ 0.81976772  0.85897961  0.8552152   0.82682878],0.84019782909\n",
        "dimensionality: 11753"
       ]
      },
      {
       "output_type": "stream",
       "stream": "stdout",
       "text": [
        "\n",
        "density: 0.89668169829\n",
        "alt.atheism unicorn,moral agenc,rice,the us,mark mccullough,mccullough,dogma,islam law,motto,gulf war,vice,bobbi,cobb,heali,scout,all go,islam,atheism,atheist,keith\n",
        "comp.graphics vesa,algorithm,temp file,rgb,42,sphere,virtual realiti,hacker,tiff,surfac,point,anim,polygon,photoshop,viewer,siggraph,imag,pov,3d,graphic\n",
        "comp.os.ms-windows.misc access,dark,visual basic,charact,file,indiana,download,nt,canon,ms,setup,max,bmp,instruct set,win,program manag,ini,challeng,microsoft,window\n",
        "comp.sys.ibm.pc.hardware ide,robert,os,fi,the connector,isa,monitor,atari,partit,486,cpu,comment,burn it,cmo,pc,interrupt,17,just love,bio,gateway\n",
        "comp.sys.mac.hardware kept on,upgrad,per,pd slot,global villag,in need,hardwar,950,price drop,on 24,iici,se,centri,duo,quadra,lc,iisi,appl,powerbook,mac\n",
        "comp.windows.x sparc,hp 9000,client,cursor,gc,the server,sun,support,subject,the consortium,default,event,display,script,consortium,escap,widget,window manag,server,motif\n",
        "misc.forsale ticket,worth,deal,repli,calcul,cd,cheap,pay,includ,size,ask,advertis,camera,interest,sell,summer,sale,want,ship,offer\n",
        "rec.autos kill me,sho,licens plate,engin,dealership,insur compani,bmw,dealer,opel,shift,oil,toyota,wagon,truck,mustang,warn,geico,ford,auto,car\n",
        "rec.motorcycles wave,drink,asphaug,sutherland,bar,rec,chain,jonathan,cage,shaft drive,ed green,the bike,moa,bmw,dog,helmet,rider,ama,ride,bike\n",
        "rec.sport.baseball hit,hitter,nl,morri,hr,bat,cardin,sox,marlin,brave,tiger,ball,stadium,dodger,pitch,giant,philli,yanke,cub,basebal\n",
        "rec.sport.hockey final,pool,team,oiler,lemieux,ice,pit,buffalo,leaf,coach,penguin,goal,shark,espn,detroit,goali,bruin,playoff,nhl,hockey\n",
        "sci.crypt anonym,de,random,the lobbi,ani more,key,secret,rsa,escrow,privaci,lobbi,pgp,cipher,no good,secur,cryptographi,crypto,tap,encrypt,clipper\n",
        "sci.electronics cap,nois,cool tower,disk copi,project,copi,develop tool,led,them,assembl,duct,resist,duct tape,2600,tv,voltag,copi protect,electron,scope,circuit\n",
        "sci.med fever,physician,exercis,skin,effect,health,muscl,medicin,treatment,allerg,ear,patient,cancer,gordon bank,med,msg,diseas,medic,doctor,photographi\n",
        "sci.space flight,sunset time,mission,solar,sunset,satellit,astronomi,dc,mar,gamma ray,spacecraft,pat,rocket,sky,planet,moon,shuttl,launch,orbit,space\n",
        "soc.religion.christian paul,sex educ,may,moder,translat,jame,spiritu,ceremoni,sin,hell,easter,prayer,arrog,cathol,christ,christian,church,vers,daili,1993\n",
        "talk.politics.guns texa,politician,examin,senat,stratu,hunt,safeti,rifl,weaver,ban,burn,liberti,militia,nra,fbi,waco,dividian,weapon,atf,gun\n",
        "talk.politics.mideast muslim,warsaw,prison,soldier,iranian,say you,armenia,occupi,freedom,argic,serdar,palestinian,bosnian,turkish,adl,jew,arab,armenian,isra,israel\n",
        "talk.politics.misc libertarian,ted frank,tax,carpet,deficit,verdict,initi,celebr,kinsey,polic state,drug,liber,baker,employ,sexual,clayton,garrett,cramer,top ten,gay\n",
        "talk.religion.misc sabin,sword,mormon,albert sabin,koresh,the beast,2000 year,new age,weiss,beast,robert weiss,new religion,abort,who next,hudson,rosicrucian,brian,mr presid,promis,burden\n",
        "ng20_raw_stems_bigrams_df0.0005_tf1 ^ wiki_wiktionary_google_bigrams_vw (extended unigrams) -->  precision  0.839667972025 recall  0.835609487068 f1  0.836253637612\n",
        "ng20_raw_unigrams_stopwords\n",
        "loaded (20257) terms"
       ]
      },
      {
       "output_type": "stream",
       "stream": "stdout",
       "text": [
        "\n",
        "vectorizing done, 20257 terms vocabulary tokenized"
       ]
      },
      {
       "output_type": "stream",
       "stream": "stdout",
       "text": [
        "\n",
        "vectorizing done, 20257 terms vocabulary tokenized"
       ]
      },
      {
       "output_type": "stream",
       "stream": "stdout",
       "text": [
        "\n"
       ]
      },
      {
       "output_type": "stream",
       "stream": "stdout",
       "text": [
        "accuracy scores = [ 0.8640509   0.90106157  0.89285714  0.87231326],0.882570718375\n"
       ]
      },
      {
       "output_type": "stream",
       "stream": "stdout",
       "text": [
        "macro precision scores = [ 0.86346369  0.90068743  0.89241438  0.87116606],0.881932892987\n"
       ]
      },
      {
       "output_type": "stream",
       "stream": "stdout",
       "text": [
        "macro recall scores = [ 0.85730788  0.8989886   0.88693441  0.86881013],0.878010254966\n"
       ]
      },
      {
       "output_type": "stream",
       "stream": "stdout",
       "text": [
        "macro f1 scores = [ 0.85876766  0.89961549  0.8882074   0.8690727 ],0.878915815376\n"
       ]
      },
      {
       "output_type": "stream",
       "stream": "stdout",
       "text": [
        "weighted average precision scores = [ 0.86480548  0.9011964   0.89458294  0.87432847],0.883728322488\n"
       ]
      },
      {
       "output_type": "stream",
       "stream": "stdout",
       "text": [
        "weighted average recall scores = [ 0.86480548  0.9011964   0.89458294  0.87432847],0.883728322488\n"
       ]
      },
      {
       "output_type": "stream",
       "stream": "stdout",
       "text": [
        "weighted f1 scores = [ 0.86314955  0.90092123  0.89243203  0.87241866],0.882230366152\n",
        "dimensionality: 20257"
       ]
      },
      {
       "output_type": "stream",
       "stream": "stdout",
       "text": [
        "\n",
        "density: 0.937317964161\n",
        "alt.atheism wwc,mangoe,darwin,tammy,wingate,jsn104,wrote,dogma,thoughts,motto,cobb,benedikt,asimov,scouts,islamic,mathew,rushdie,atheism,atheists,keith\n",
        "comp.graphics mpeg,povray,ethic,surface,polygons,sphere,tiff,visualization,polygon,viewer,animation,photoshop,image,hacker,cview,siggraph,3do,pov,3d,graphics\n",
        "comp.os.ms-windows.misc setup,download,font,file,progman,smartdrv,swap,winfax,ini,risc,winqvt,bmp,win,ax,microsoft,challenge,supporters,win3,cica,windows\n",
        "comp.sys.ibm.pc.hardware motherboard,irq,gosh,specifications,trinitron,pentium,laserjet,smc,pins,cmos,isa,winmarks,compaq,vlb,mitsumi,ide,motherboards,modems,gateway,bios\n",
        "comp.sys.mac.hardware macweek,monitors,floptical,bmug,deskwriter,iici,adb,68040,pb,lciii,iisi,se,centris,quadra,duo,lc,apple,powerbook,macs,mac\n",
        "comp.windows.x xdm,subscribe,escaped,r5,pixmap,imake,consortium,twm,unsubscribe,openwindows,x11,widgets,window,xfree86,widget,xlib,server,xterm,x11r5,motif\n",
        "misc.forsale cassette,original,excellent,00,cod,pay,snes,obo,calculator,interested,camera,summer,call,sell,asking,wanted,offer,shipping,forsale,sale\n",
        "rec.autos honda,dumbest,nissan,integra,mustang,v6,chevrolet,opel,vw,warning,dealer,automotive,auto,oil,autos,toyota,geico,ford,cars,car\n",
        "rec.motorcycles moa,riders,infante,biker,moto,piece,ranck,yamaha,helmet,harley,kawasaki,bmw,rider,ride,motorcycles,motorcycle,riding,bikes,bike,dod\n",
        "rec.sport.baseball dl,uniforms,nl,mattingly,mets,fenway,yankee,yankees,dodgers,morris,stadium,ball,pitcher,braves,cubs,tigers,sox,giants,phillies,baseball\n",
        "rec.sport.hockey cherry,detroit,coach,buffalo,pens,puck,cup,wc,islanders,goalie,wings,espn,playoffs,leafs,penguins,sharks,bruins,playoff,nhl,hockey\n",
        "sci.crypt escrow,privacy,cipher,rsa,denning,sternlight,secret,tempest,wiretap,crypt,key,security,pgp,nsa,des,cryptography,crypto,encryption,tapped,clipper\n",
        "sci.electronics circuits,noise,resistor,exploding,protected,eprom,shack,solvent,256k,spice,scope,voltage,motorola,2600,copy,rf,8051,ic,electronics,circuit\n",
        "sci.med treatment,eye,prozac,syndrome,fever,skin,patient,pregnency,health,allergic,medicine,cancer,ear,msg,disease,medical,krillean,med,photography,doctor\n",
        "sci.space nasa,satellite,solar,dietz,rockets,astronomy,bursters,funding,astro,planets,dc,spacecraft,pat,mars,launch,sky,orbit,shuttle,moon,space\n",
        "soc.religion.christian saved,james,moderator,christianity,fisher,catholic,christians,christ,1993,sin,arrogance,daily,easter,church,geneva,kiefer,verse,rutgers,athos,clh\n",
        "talk.politics.guns weapon,burns,handgun,weaver,regulated,hunting,acronym,fbi,militia,firearm,nra,firearms,weapons,waco,quisling,dividian,ranch,atf,gun,guns\n",
        "talk.politics.mideast documentary,hezbollah,holocaust,elias,arabs,zionism,uva,argic,adl,jews,palestinian,andi,angmar,serdar,armenians,arab,armenian,turkish,israeli,israel\n",
        "talk.politics.misc train,ipser,initiative,ten,president,kinsey,jobs,income,gay,garrett,drugs,mow,optilink,sexual,celebrate,clayton,teel,wetware,cramer,kaldis\n",
        "talk.religion.misc happened,christian,sabin,tyre,hare,thyagi,rawlins,brian,forming,hudson,sword,666,weiss,beast,2000,abortion,rosicrucian,mormons,burden,promise\n",
        "ng20_raw_unigrams_stopwords  -->  precision  0.881932892987 recall  0.878010254966 f1  0.878915815376\n",
        "loaded (37215) terms"
       ]
      },
      {
       "output_type": "stream",
       "stream": "stdout",
       "text": [
        "\n",
        "vectorizing done, 37215 terms vocabulary tokenized"
       ]
      },
      {
       "output_type": "stream",
       "stream": "stdout",
       "text": [
        "\n",
        "vectorizing done, 37215 terms vocabulary tokenized"
       ]
      },
      {
       "output_type": "stream",
       "stream": "stdout",
       "text": [
        "\n"
       ]
      },
      {
       "output_type": "stream",
       "stream": "stdout",
       "text": [
        "accuracy scores = [ 0.8718982   0.90191083  0.90029762  0.87954884],0.888413871124\n"
       ]
      },
      {
       "output_type": "stream",
       "stream": "stdout",
       "text": [
        "macro precision scores = [ 0.87214428  0.90167844  0.90036131  0.87910001],0.888321009415\n"
       ]
      },
      {
       "output_type": "stream",
       "stream": "stdout",
       "text": [
        "macro recall scores = [ 0.86612153  0.89994738  0.89507273  0.87689981],0.884510362524\n"
       ]
      },
      {
       "output_type": "stream",
       "stream": "stdout",
       "text": [
        "macro f1 scores = [ 0.86756564  0.90062041  0.89640937  0.87715339],0.885437205639\n"
       ]
      },
      {
       "output_type": "stream",
       "stream": "stdout",
       "text": [
        "weighted average precision scores = [ 0.87273788  0.90196365  0.90190071  0.88158514],0.889546844231\n"
       ]
      },
      {
       "output_type": "stream",
       "stream": "stdout",
       "text": [
        "weighted average recall scores = [ 0.87273788  0.90196365  0.90190071  0.88158514],0.889546844231\n"
       ]
      },
      {
       "output_type": "stream",
       "stream": "stdout",
       "text": [
        "weighted f1 scores = [ 0.87107577  0.90176256  0.8999462   0.87973517],0.888129925516\n",
        "dimensionality: 37215"
       ]
      },
      {
       "output_type": "stream",
       "stream": "stdout",
       "text": [
        "\n",
        "density: 0.814164987236\n",
        "alt.atheism wrote,wingate,boy scouts,fish,darwin,jsn104,thoughts,scouts,dogma,motto,benedikt,political atheists,re political,mathew,asimov,islamic,rushdie,keith,atheism,atheists\n",
        "comp.graphics raytracing,vesa,images,visualization,mpeg,sphere,tiff,viewer,surface,polygon,hacker,photoshop,animation,cview,image,siggraph,3do,pov,3d,graphics\n",
        "comp.os.ms-windows.misc download,risc,ax,winfax,ax ax,font,smartdrv,ini,bmp,re challenge,microsoft supporters,program manager,challenge,win,supporters,winqvt,microsoft,win3,cica,windows\n",
        "comp.sys.ibm.pc.hardware pins,harddisk,motherboard,isa,connector,motherboards,pentium,robert,mitsumi,smc,compaq,settings,vlb,irq,pc,cmos,modems,ide,gateway,bios\n",
        "comp.sys.mac.hardware c650,macweek,floptical,68040,iici,deskwriter,se 30,adb,pb,se,lciii,centris,iisi,quadra,duo,lc,powerbook,apple,macs,mac\n",
        "comp.windows.x xdm,xwindows,subscribe,twm,comp windows,pixmap,consortium,openwindows,imake,unsubscribe,x11,widgets,xfree86,window,widget,xlib,server,xterm,x11r5,motif\n",
        "misc.forsale original,cds,brand new,calculator,00,interested,wanted,pay,snes,summer,camera,call,obo,sell,asking,subject wanted,offer,shipping,forsale,sale\n",
        "rec.autos shifting,honda,v6,nissan,opel,autos,integra,re warning,mustang,warning please,chevrolet,vw,oil,geico,auto,dealer,toyota,ford,cars,car\n",
        "rec.motorcycles moto,moa,ama,piece,ducati,cop,riders,yamaha,helmet,harley,kawasaki,bmw,rider,ride,motorcycles,motorcycle,riding,bikes,bike,dod\n",
        "rec.sport.baseball morris,nl,dl,runs,uniforms,mets,yankee,dodgers,fenway,sox,yankees,stadium,ball,braves,pitcher,cubs,tigers,giants,phillies,baseball\n",
        "rec.sport.hockey coach,flyers,detroit,goalie,wc,puck,pens,cup,buffalo,islanders,wings,playoffs,penguins,sharks,leafs,espn,bruins,playoff,nhl,hockey\n",
        "sci.crypt tempest,denning,cipher,secret,privacy,rsa,wiretap,crypt,key,once tapped,security,tapped,nsa,re once,pgp,des,cryptography,crypto,encryption,clipper\n",
        "sci.electronics resistor,tv,dsp,circuits,exploding,copy,noise,2600,eprom,scope,spice,motorola,voltage,rf,copy protected,8051,disks copy,ic,electronics,circuit\n",
        "sci.med diet,eye,syndrome,prozac,patient,krillean photography,fever,skin,krillean,health,medicine,allergic,msg,ear,photography,cancer,disease,med,medical,doctor\n",
        "sci.space solar,accelerations,satellite,rockets,nasa,funding,astronomy,astro,planets,re space,dc,spacecraft,mars,pat,sky,launch,orbit,shuttle,moon,space\n",
        "soc.religion.christian james,geneva,verse,catholic,daily verse,subject daily,christians,geneva rutgers,arrogance,sin,christ,james kiefer,kiefer,rutgers,easter,rutgers edu,church,athos rutgers,athos,clh\n",
        "talk.politics.guns fbi,weapon,handgun,regulated,militia,hunting,re cnn,re atf,firearm,weaver,re batf,ranch,quisling,nra,firearms,weapons,waco,atf,gun,guns\n",
        "talk.politics.mideast elias,documentary,racism,hamas,hezbollah,argic,zionism,arabs,uva,adl,andi,serdar,jews,palestinian,armenians,arab,armenian,turkish,israeli,israel\n",
        "talk.politics.misc tax,new study,jobs,violence,president,kinsey,re top,gay,income,drugs,optilink,celebrate,clayton,mow,teel,sexual,wetware,top ten,kaldis,cramer\n",
        "talk.religion.misc"
       ]
      },
      {
       "output_type": "stream",
       "stream": "stdout",
       "text": [
        " 2000,jesus died,new age,robert weiss,new religion,hare,tyre,thyagi,hudson,2000 years,666,93 god,rosicrucian,sword,beast,abortion,mormons,burden,god promise,re message\n",
        "ng20_raw_bigrams_stopwords  -->  precision  0.888321009415 recall  0.884510362524 f1  0.885437205639\n",
        "loaded (18277) terms\n",
        "vectorizing done, 18277 terms vocabulary tokenized"
       ]
      },
      {
       "output_type": "stream",
       "stream": "stdout",
       "text": [
        "\n",
        "vectorizing done, 18277 terms vocabulary tokenized"
       ]
      },
      {
       "output_type": "stream",
       "stream": "stdout",
       "text": [
        "\n"
       ]
      },
      {
       "output_type": "stream",
       "stream": "stdout",
       "text": [
        "accuracy scores = [ 0.85896076  0.89681529  0.89051871  0.86231113],0.877151471914\n"
       ]
      },
      {
       "output_type": "stream",
       "stream": "stdout",
       "text": [
        "macro precision scores = [ 0.85775146  0.89685342  0.88840349  0.8613337 ],0.876085516757\n"
       ]
      },
      {
       "output_type": "stream",
       "stream": "stdout",
       "text": [
        "macro recall scores = [ 0.85153455  0.89428609  0.88477045  0.85874674],0.872334459353\n"
       ]
      },
      {
       "output_type": "stream",
       "stream": "stdout",
       "text": [
        "macro f1 scores = [ 0.85281419  0.89525314  0.88546219  0.85912813],0.873164412835\n"
       ]
      },
      {
       "output_type": "stream",
       "stream": "stdout",
       "text": [
        "weighted average precision scores = [ 0.85914453  0.89708081  0.89099364  0.86486483],0.878020950085\n"
       ]
      },
      {
       "output_type": "stream",
       "stream": "stdout",
       "text": [
        "weighted average recall scores = [ 0.85914453  0.89708081  0.89099364  0.86486483],0.878020950085\n"
       ]
      },
      {
       "output_type": "stream",
       "stream": "stdout",
       "text": [
        "weighted f1 scores = [ 0.85763013  0.89667371  0.8897582   0.86268147],0.876685878643\n",
        "dimensionality: 18277"
       ]
      },
      {
       "output_type": "stream",
       "stream": "stdout",
       "text": [
        "\n",
        "density: 0.928158341084\n",
        "alt.atheism cruel,charley,darwin,mangoe,jsn104,dogma,tammy,wrote,wingate,cobb,asimov,benedikt,motto,islamic,rushdie,scout,mathew,atheism,atheist,keith\n",
        "comp.graphics impulse,tiff,raytracing,mpeg,sphere,surface,visualization,animation,fractal,viewer,photoshop,image,hacker,polygon,cview,siggraph,pov,3do,3d,graphic\n",
        "comp.os.ms-windows.misc w4wg,file,doublespace,setup,winfax,winqvt,nt,smartdrv,swap,risc,ini,win,bmp,ax,challenge,microsoft,supporter,cica,win3,window\n",
        "comp.sys.ibm.pc.hardware motherboard,trinitron,pentium,winmarks,spec,smc,cmos,irq,interrupt,compaq,vlb,mitsumi,ide,motherboards,gosh,isa,connect,laserjet,gateway,bios\n",
        "comp.sys.mac.hardware 040,macweek,iifx,pb,floptical,bmug,iici,68040,deskwriter,adb,lciii,se,iisi,quadra,centris,apple,duo,lc,powerbook,mac\n",
        "comp.windows.x xdm,subscribe,imake,r5,pixmap,escaped,event,unsubscribe,xwindows,twm,consortium,openwindows,x11,xfree86,xlib,server,widget,xterm,x11r5,motif\n",
        "misc.forsale lens,00,cod,cd,deal,pay,calculator,obo,snes,call,interested,summer,camera,sell,asking,wanted,offer,shipping,forsale,sale\n",
        "rec.autos honda,dumbest,89,nissan,v6,diesel,chevrolet,integra,vw,dealer,opel,toyota,warning,mustang,automotive,oil,geico,ford,auto,car\n",
        "rec.motorcycles piece,infante,moa,ducati,biker,dog,cager,moto,ranck,yamaha,harley,bmw,kawasaki,helmet,ride,rider,riding,motorcycle,bike,dod\n",
        "rec.sport.baseball cardinal,hitter,marlin,mets,mattingly,fenway,nl,ball,stadium,brave,tiger,morris,dodger,pitcher,sox,cub,yankee,giant,phillies,baseball\n",
        "rec.sport.hockey coach,oiler,pen,cup,cherry,detroit,wing,leaf,buffalo,wc,puck,islander,shark,espn,penguin,goalie,bruin,playoff,nhl,hockey\n",
        "sci.crypt password,de,denning,privacy,rsa,sternlight,secret,key,tempest,crypt,cipher,security,pgp,nsa,wiretap,cryptography,crypto,encryption,tapped,clipper\n",
        "sci.electronics adcom,led,resistor,pcb,exploding,shack,spice,protected,voltage,motorola,256k,2600,solvent,8051,rf,copy,scope,ic,electronics,circuit\n",
        "sci.med health,syndrome,needle,cure,seizure,migraine,patient,pregnency,exercise,medicine,allergic,cancer,medical,msg,ear,disease,krillean,med,photography,doctor\n",
        "sci.space solar,flight,dietz,astronomy,burster,funding,dc,astro,satellite,spacecraft,pat,rocket,mar,planet,sky,launch,orbit,shuttle,moon,space\n",
        "soc.religion.christian married,fisher,james,christ,catholic,christian,moderator,prayer,arrogance,1993,easter,sin,daily,church,verse,geneva,kiefer,rutgers,athos,clh\n",
        "talk.politics.guns senate,cipriani,burn,weaver,hunting,militia,acronym,regulated,fbi,nra,liberty,handgun,waco,quisling,dividian,weapon,ranch,firearm,atf,gun\n",
        "talk.politics.mideast hezbollah,elia,racism,hamas,muslim,zionism,holocaust,argic,uva,jew,andi,adl,angmar,serdar,palestinian,turkish,arab,armenian,israel,israeli\n",
        "talk.politics.misc verdict,pension,kinsey,drug,president,initiative,celebrate,state,income,gay,hostage,sexual,garrett,optilink,mow,clayton,wetware,teel,cramer,kaldis\n",
        "talk.religion.misc biblical,sabin,thyagi,tyre,hare,brian,sword,happened,rawlins,abortion,mormon,wei,forming,hudson,666,beast,rosicrucian,2000,burden,promise\n",
        "ng20_raw_lemmas_unigrams_stopwords_df0.0005_tf1  -->  precision  0.876085516757 recall  0.872334459353 f1  0.873164412835\n",
        "loaded (38097) terms"
       ]
      },
      {
       "output_type": "stream",
       "stream": "stdout",
       "text": [
        "\n",
        "vectorizing done, 38097 terms vocabulary tokenized"
       ]
      },
      {
       "output_type": "stream",
       "stream": "stdout",
       "text": [
        "\n",
        "vectorizing done, 38097 terms vocabulary tokenized"
       ]
      },
      {
       "output_type": "stream",
       "stream": "stdout",
       "text": [
        "\n"
       ]
      },
      {
       "output_type": "stream",
       "stream": "stdout",
       "text": [
        "accuracy scores = [ 0.87147402  0.90615711  0.89732143  0.87486699],0.887454888291\n"
       ]
      },
      {
       "output_type": "stream",
       "stream": "stdout",
       "text": [
        "macro precision scores = [ 0.87130713  0.90625112  0.89586     0.87446079],0.8869697606\n"
       ]
      },
      {
       "output_type": "stream",
       "stream": "stdout",
       "text": [
        "macro recall scores = [ 0.86544042  0.90426027  0.89176156  0.87193782],0.883350017128\n"
       ]
      },
      {
       "output_type": "stream",
       "stream": "stdout",
       "text": [
        "macro f1 scores = [ 0.86693391  0.90510303  0.89273595  0.87221179],0.884246167678\n"
       ]
      },
      {
       "output_type": "stream",
       "stream": "stdout",
       "text": [
        "weighted average precision scores = [ 0.87207477  0.90647028  0.89799221  0.87743515],0.888493100656\n"
       ]
      },
      {
       "output_type": "stream",
       "stream": "stdout",
       "text": [
        "weighted average recall scores = [ 0.87207477  0.90647028  0.89799221  0.87743515],0.888493100656\n"
       ]
      },
      {
       "output_type": "stream",
       "stream": "stdout",
       "text": [
        "weighted f1 scores = [ 0.87062652  0.90618013  0.89673872  0.87518236],0.887181932102\n",
        "dimensionality: 38097"
       ]
      },
      {
       "output_type": "stream",
       "stream": "stdout",
       "text": [
        "\n",
        "density: 0.783148279392\n",
        "alt.atheism fish,tammy,liar,boy scout,darwin,wingate,jsn104,dogma,benedikt,political atheist,scout,re political,asimov,mathew,islamic,motto,rushdie,keith,atheism,atheist\n",
        "comp.graphics impulse,hacker ethic,tiff,visualization,sphere,mpeg,surface,viewer,fractal,photoshop,cview,hacker,animation,polygon,image,siggraph,3do,pov,3d,graphic\n",
        "comp.os.ms-windows.misc w4wg,winfax,nt,challenge,file,ax ax,setup,smartdrv,supporter,win,ini,winqvt,bmp,re challenge,microsoft supporter,program manager,microsoft,cica,win3,window\n",
        "comp.sys.ibm.pc.hardware motherboards,robert,spec,motherboard,pentium,compaq,modem,isa,vlb,connector,mitsumi,connect,smc,monitor,irq,pc,cmos,ide,gateway,bios\n",
        "comp.sys.mac.hardware iifx,pb,macweek,re monitor,floptical,iici,68040,deskwriter,se 30,adb,se,lciii,iisi,quadra,centris,duo,lc,powerbook,apple,mac\n",
        "comp.windows.x xwd,xdm,subscribe,pixmap,imake,event,twm,consortium,openwindows,unsubscribe,xwindows,window manager,x11,xfree86,xlib,server,widget,xterm,x11r5,motif\n",
        "misc.forsale cod,lens,deal,wanted,00,pay,cd,interested,call,summer,snes,camera,sell,obo,asking,subject wanted,offer,forsale,shipping,sale\n",
        "rec.autos honda,v6,sunroof,diesel,89,nissan,integra,opel,re warning,vw,chevrolet,warning please,dealer,mustang,oil,toyota,geico,ford,auto,car\n",
        "rec.motorcycles ranck,moa,ama,moto,ducati,cager,tool tool,cage,dog,yamaha,harley,bmw,helmet,kawasaki,ride,rider,riding,motorcycle,bike,dod\n",
        "rec.sport.baseball marlin,cardinal,uniform,mets,morris,hitter,nl,fenway,brave,sox,stadium,dodger,ball,tiger,pitcher,cub,giant,yankee,phillies,baseball\n",
        "rec.sport.hockey final,oiler,detroit,pen,wc,goal,wing,cup,puck,shark,leaf,buffalo,islander,penguin,espn,goalie,bruin,playoff,nhl,hockey\n",
        "sci.crypt de,denning,tempest,rsa,secret,privacy,crypt,key,cipher,once tapped,tapped,security,re once,pgp,nsa,wiretap,cryptography,crypto,encryption,clipper\n",
        "sci.electronics dsp,tv,resistor,eprom,exploding,led,noise,2600,copy,spice,motorola,voltage,8051,rf,disk copy,copy protected,scope,ic,electronics,circuit\n",
        "sci.med allergy,seizure,needle,krillean photography,migraine,treatment,skin,medicine,patient,krillean,exercise,allergic,msg,cancer,photography,med,ear,disease,medical,doctor\n",
        "sci.space flight,gamma ray,nasa,funding,astronomy,astro,re space,dc,spacecraft,satellite,mar,sky,rocket,pat,planet,launch,orbit,shuttle,moon,space\n",
        "soc.religion.christian geneva,moderator,catholic,daily verse,prayer,geneva rutgers,subject daily,arrogance,christian,christ,james kiefer,kiefer,rutgers,easter,sin,rutgers edu,church,athos rutgers,athos,clh\n",
        "talk.politics.guns burn dividian,weaver,militia,hunting,atf burn,fbi,liberty,regulated,re atf,re cnn,re batf,ranch,nra,quisling,handgun,waco,weapon,atf,firearm,gun\n",
        "talk.politics.mideast freedom,elia,iran,jerusalem,racism,argic,zionism,hamas,muslim,uva,andi,serdar,adl,jew,palestinian,turkish,arab,armenian,israeli,israel\n",
        "talk.politics.misc income,hostage,celebrate,garrett,tax,president,gay,state,violence,drug,re top,optilink,mow,teel,clayton,sexual,wetware,kaldis,top ten,cramer\n",
        "talk.religion.misc"
       ]
      },
      {
       "output_type": "stream",
       "stream": "stdout",
       "text": [
        " jesus died,rawlins,robert wei,christian morality,thyagi,hare,new religion,tyre,sword,mormon,abortion,hudson,rosicrucian,666,93 god,2000,beast,burden,god promise,re message\n",
        "ng20_raw_lemmas_bigrams_stopwords_df0.0005_tf1  -->  precision  0.8869697606 recall  0.883350017128 f1  0.884246167678\n",
        "loaded (21560) terms"
       ]
      },
      {
       "output_type": "stream",
       "stream": "stdout",
       "text": [
        "\n",
        "done loading vocabulary\n",
        "vectorizing done, 21560 terms vocabulary tokenized"
       ]
      },
      {
       "output_type": "stream",
       "stream": "stdout",
       "text": [
        "\n",
        "vectorizing done, 21560 terms vocabulary tokenized"
       ]
      },
      {
       "output_type": "stream",
       "stream": "stdout",
       "text": [
        "\n"
       ]
      },
      {
       "output_type": "stream",
       "stream": "stdout",
       "text": [
        "accuracy scores = [ 0.8621421   0.90127389  0.89285714  0.8674186 ],0.880922931898\n"
       ]
      },
      {
       "output_type": "stream",
       "stream": "stdout",
       "text": [
        "macro precision scores = [ 0.8610204   0.90138604  0.89127138  0.86690227],0.880145022801\n"
       ]
      },
      {
       "output_type": "stream",
       "stream": "stdout",
       "text": [
        "macro recall scores = [ 0.8546188   0.8989036   0.8869391   0.86433735],0.876199713891\n"
       ]
      },
      {
       "output_type": "stream",
       "stream": "stdout",
       "text": [
        "macro f1 scores = [ 0.85597375  0.89982378  0.88784858  0.86471801],0.877091032262\n"
       ]
      },
      {
       "output_type": "stream",
       "stream": "stdout",
       "text": [
        "weighted average precision scores = [ 0.86251853  0.90143266  0.89389541  0.8699691 ],0.881953923799\n"
       ]
      },
      {
       "output_type": "stream",
       "stream": "stdout",
       "text": [
        "weighted average recall scores = [ 0.86251853  0.90143266  0.89389541  0.8699691 ],0.881953923799\n"
       ]
      },
      {
       "output_type": "stream",
       "stream": "stdout",
       "text": [
        "weighted f1 scores = [ 0.86089772  0.9010764   0.89226727  0.86781317],0.880513638861\n",
        "dimensionality: 21560"
       ]
      },
      {
       "output_type": "stream",
       "stream": "stdout",
       "text": [
        "\n",
        "density: 0.907513914657\n",
        "alt.atheism boy scout,charley,darwin,jsn104,wrote,moral agency,tammy,dogma,wingate,cobb,asimov,scout,benedikt,motto,islamic,rushdie,mathew,atheism,atheist,keith\n",
        "comp.graphics raytracing,impulse,tiff,visualization,sphere,mpeg,surface,hacker,fractal,animation,photoshop,viewer,image,cview,polygon,siggraph,pov,3do,3d,graphic\n",
        "comp.os.ms-windows.misc workgroups,risc,w4wg,nt,doublespace,winfax,setup,winqvt,smartdrv,win,ini,bmp,program manager,ax,challenge,supporter,win3,microsoft,cica,window\n",
        "comp.sys.ibm.pc.hardware trinitron,pentium,spec,monitor,gosh,compaq,motherboard,modem,irq,pc,motherboards,smc,mitsumi,vlb,cmos,ide,connect,isa,gateway,bios\n",
        "comp.sys.mac.hardware macweek,iifx,pb,24 hour,floptical,iici,bmug,68040,deskwriter,adb,lciii,se,centris,iisi,quadra,lc,duo,apple,powerbook,mac\n",
        "comp.windows.x xwd,subscribe,pixmap,imake,escaped,event,twm,unsubscribe,xwindows,consortium,openwindows,window manager,x11,xfree86,xlib,server,widget,xterm,x11r5,motif\n",
        "misc.forsale lens,00,cod,deal,cd,calculator,pay,call,snes,summer,obo,camera,interested,sell,asking,wanted,offer,shipping,forsale,sale\n",
        "rec.autos nissan,honda,89,dumbest,integra,diesel,v6,chevrolet,opel,vw,dealer,toyota,automotive,mustang,warning,oil,geico,ford,auto,car\n",
        "rec.motorcycles stroke,cage,moa,infante,ducati,cager,dog,moto,ranck,yamaha,harley,bmw,kawasaki,helmet,ride,rider,riding,motorcycle,bike,dod\n",
        "rec.sport.baseball cardinal,uniform,marlin,mets,morris,hitter,nl,fenway,sox,stadium,ball,brave,tiger,dodger,pitcher,cub,yankee,giant,phillies,baseball\n",
        "rec.sport.hockey goal,octopus,cup,oiler,pen,wing,detroit,wc,leaf,puck,buffalo,islander,shark,penguin,espn,goalie,bruin,playoff,nhl,hockey\n",
        "sci.crypt de,escrow,denning,rsa,sternlight,privacy,secret,tempest,key,crypt,cipher,pgp,security,nsa,wiretap,cryptography,crypto,encryption,tapped,clipper\n",
        "sci.electronics noise,led,copy,resistor,pcb,2600,256k,exploding,spice,solvent,motorola,voltage,8051,rf,disk copy,scope,ic,copy protected,electronics,circuit\n",
        "sci.med treatment,needle,skin,seizure,pregnency,health,migraine,patient,medicine,exercise,allergic,cancer,msg,ear,medical,disease,krillean,med,photography,doctor\n",
        "sci.space aurora,dietz,flight,astronomy,funding,gamma ray,dc,astro,satellite,spacecraft,mar,rocket,pat,sky,planet,launch,orbit,shuttle,moon,space\n",
        "soc.religion.christian christianity,hell,james,catholic,christian,moderator,prayer,christ,arrogance,1993,sin,easter,geneva,daily,verse,church,kiefer,rutgers,athos,clh\n",
        "talk.politics.guns senate,cnn,weaver,hunting,burn,militia,regulated,acronym,fbi,liberty,nra,handgun,quisling,waco,dividian,weapon,ranch,firearm,atf,gun\n",
        "talk.politics.mideast elia,hezbollah,racism,hamas,holocaust,muslim,zionism,argic,uva,jew,serdar,andi,adl,angmar,palestinian,turkish,arab,armenian,israeli,israel\n",
        "talk.politics.misc mail address,kinsey,police state,president,celebrate,drug,initiative,state,hostage,gay,garrett,optilink,mow,sexual,clayton,teel,wetware,cramer,kaldis,top ten\n",
        "talk.religion.misc christian morality,new age,robert wei,tyre,thyagi,happened,hare,brian,sword,rawlins,abortion,mormon,new religion,hudson,rosicrucian,666,2000,beast,burden,promise\n",
        "ng20_raw_lemmas_unigrams_stopwords_df0.0005_tf1 ^ ng20_raw_lemmas_bigrams_stopwords_df0.0005_tf1 ^ wiki_bigrams  -->  precision  0.880145022801 recall  0.876199713891 f1  0.877091032262\n",
        "loaded (3283) terms"
       ]
      },
      {
       "output_type": "stream",
       "stream": "stdout",
       "text": [
        "\n",
        "extended to (5824) terms\n",
        "done loading vocabulary\n",
        "vectorizing done, 5824 terms vocabulary tokenized"
       ]
      },
      {
       "output_type": "stream",
       "stream": "stdout",
       "text": [
        "\n",
        "vectorizing done, 5824 terms vocabulary tokenized\n"
       ]
      },
      {
       "output_type": "stream",
       "stream": "stdout",
       "text": [
        "accuracy scores = [ 0.79681866  0.83779193  0.83227041  0.79378591],0.815166728989\n"
       ]
      },
      {
       "output_type": "stream",
       "stream": "stdout",
       "text": [
        "macro precision scores = [ 0.79587948  0.83650975  0.82852562  0.79400897],0.813730953806\n"
       ]
      },
      {
       "output_type": "stream",
       "stream": "stdout",
       "text": [
        "macro recall scores = [ 0.78955792  0.83491375  0.8250153   0.79007323],0.809890050702\n"
       ]
      },
      {
       "output_type": "stream",
       "stream": "stdout",
       "text": [
        "macro f1 scores = [ 0.7907031   0.83536686  0.82538753  0.79085279],0.810577570491\n"
       ]
      },
      {
       "output_type": "stream",
       "stream": "stdout",
       "text": [
        "weighted average precision scores = [ 0.79741473  0.83781521  0.83226411  0.79722316],0.81617929864\n"
       ]
      },
      {
       "output_type": "stream",
       "stream": "stdout",
       "text": [
        "weighted average recall scores = [ 0.79741473  0.83781521  0.83226411  0.79722316],0.81617929864\n"
       ]
      },
      {
       "output_type": "stream",
       "stream": "stdout",
       "text": [
        "weighted f1 scores = [ 0.79544943  0.83747627  0.83108407  0.79434915],0.814589731402\n",
        "dimensionality: 5824"
       ]
      },
      {
       "output_type": "stream",
       "stream": "stdout",
       "text": [
        "\n",
        "density: 0.817676854396\n",
        "alt.atheism eternal damnation,mark mccullough,mccullough,john cooper,jehovah witness,cobb,boy scout,bobby,tu,vice,gulf war,fred rice,moral agency,scout,atheist,islamic law,islamic,atheism,healy,keith\n",
        "comp.graphics hacker,map,point,tga,hacker ethic,visualization,tiff,tracing,surface,virtual reality,42,algorithm,viewer,temp file,photoshop,image,siggraph,pov,3d,graphic\n",
        "comp.os.ms-windows.misc wise,dark,nt,mirror,hp deskjet,howard,win nt,steve gibson,swap file,netware,visual basic,indiana,desktop,14,setup,instruction set,program manager,ini,window,microsoft\n",
        "comp.sys.ibm.pc.hardware file server,486,blue wave,tseng lab,ide,pc,austin,atari,monitor,17,date,silicon graphic,blaster,robert,refresh,isa,spec,laserjet,bios,gateway\n",
        "comp.sys.mac.hardware soft,zone,clock speed,po,global village,imagewriter,950,price drop,pd slot,se,iici,centris,24 hour,duo,lc,quadra,apple,iisi,powerbook,mac\n",
        "comp.windows.x support,color,dump,handler,tar,client,sun,window system,device driver,open look,depth,binary,hp 9000,display,script,sparc,event,server,widget,window manager\n",
        "misc.forsale deck,mailing,right arm,apartment,deal,summer,call,firm,cd,trade,sega,brand new,pay,camera,sell,original,wanted,unix pc,asking,sale\n",
        "rec.autos bumper,power window,viper,insurance company,sho,driving,engine,consumer report,license plate,oil,wagon,opel,dealer,toyota,warning,mustang,geico,auto,ford,car\n",
        "rec.motorcycles bar,michigan,wave,asphaug,svoboda,82,robinson,curtis jackson,route,chain,honda,hawk gt,dog,sutherland,moa,shaft drive,ed green,rider,riding,bike\n",
        "rec.sport.baseball red sox,hernandez,morris,era,mattingly,marlin,sox,batting,home run,hr,batter,tiger,bill james,rockies,hitter,ball,brave,cub,phillies,baseball\n",
        "rec.sport.hockey probert,buffalo,cup,leaf,season,lemieux,final,coach,pit,islander,goal,detroit,oiler,espn,goalie,penguin,bruin,playoff,nhl,hockey\n",
        "sci.crypt fifth,code,attack,random,holland,key,trust,secret source,escrow,fifth amendment,denning,privacy,pgp,security,secret,cipher,encryption,crypto,cryptography,clipper\n",
        "sci.electronics lead acid,alan,cable company,distance,style,led,electrical,cooling tower,filter,2600,tv,duct,duct tape,re power,voltage,disk copy,apple mac,copy protected,electronics,circuit\n",
        "sci.med recreational,scientist,cause,eye,information,food,sure fire,gordon,health,infection,patient,treatment,cancer,medical,allergic,med,disease,gordon bank,doctor,photography\n",
        "sci.space lunar,mission,exploration,orion,telescope,astronomy,tommy mac,satellite,pat,mar,gamma ray,planet,spacecraft,launch,rocket,shuttle,sky,moon,orbit,space\n",
        "soc.religion.christian sex education,dead sea,temple,translation,second coming,oakland,lewis,original sin,judgement,christian,sin,prayer,james,married,easter,church,catholic,christ,daily,1993\n",
        "talk.politics.guns senate,liberty,neil smith,texas,examiner,stratus,non lethal,rifle,weaver,fbi,socialist leader,whitehead,cochrane,free state,waco,weapon,hunting,burn,atf,gun\n",
        "talk.politics.mideast soldier,armenia,mohammad,hate,policy,warsaw,occupied,spying,mcgill,palestinian,holocaust,freedom,jew,turkish,argic,serdar,arab,armenian,israel,israeli\n",
        "talk.politics.misc drug,income,19 april,usa,good neighbor,selective service,secretary,bashing,kinsey,mitchell todd,economic,gay,ted frank,baker,sexual,clayton,garrett,police state,cramer,top ten\n",
        "talk.religion.misc material,southern baptist,sabin,open mind,albert sabin,ancient,southern,commandment,wei,apr,hudson,john king,mormon,rosicrucian,new age,malcolm lee,brian,robert wei,2000,new religion\n",
        "ng20_raw_lemmas_bigrams_stopwords_df0.0005_tf1 ^ wiki_bigrams (extended unigrams) -->  precision  0.813730953806 recall  0.809890050702 f1  0.810577570491\n",
        "loaded (19297) terms"
       ]
      },
      {
       "output_type": "stream",
       "stream": "stdout",
       "text": [
        "\n",
        "done loading vocabulary\n",
        "vectorizing done, 19297 terms vocabulary tokenized"
       ]
      },
      {
       "output_type": "stream",
       "stream": "stdout",
       "text": [
        "\n",
        "vectorizing done, 19297 terms vocabulary tokenized"
       ]
      },
      {
       "output_type": "stream",
       "stream": "stdout",
       "text": [
        "\n"
       ]
      },
      {
       "output_type": "stream",
       "stream": "stdout",
       "text": [
        "accuracy scores = [ 0.86044539  0.89745223  0.89009354  0.86380081],0.877947990615\n"
       ]
      },
      {
       "output_type": "stream",
       "stream": "stdout",
       "text": [
        "macro precision scores = [ 0.85870861  0.89728366  0.88781956  0.86261337],0.876606301247\n"
       ]
      },
      {
       "output_type": "stream",
       "stream": "stdout",
       "text": [
        "macro recall scores = [ 0.85278371  0.89495545  0.88419353  0.86042584],0.873089634006\n"
       ]
      },
      {
       "output_type": "stream",
       "stream": "stdout",
       "text": [
        "macro f1 scores = [ 0.85397953  0.89582147  0.88493157  0.86074529],0.873869463291\n"
       ]
      },
      {
       "output_type": "stream",
       "stream": "stdout",
       "text": [
        "weighted average precision scores = [ 0.86049691  0.89767688  0.89075951  0.86598284],0.878729033176\n"
       ]
      },
      {
       "output_type": "stream",
       "stream": "stdout",
       "text": [
        "weighted average recall scores = [ 0.86049691  0.89767688  0.89075951  0.86598284],0.878729033176\n"
       ]
      },
      {
       "output_type": "stream",
       "stream": "stdout",
       "text": [
        "weighted f1 scores = [ 0.85910664  0.89730185  0.88946894  0.86412768],0.87750127693\n",
        "dimensionality: 19297"
       ]
      },
      {
       "output_type": "stream",
       "stream": "stdout",
       "text": [
        "\n",
        "density: 0.924493444577\n",
        "alt.atheism charley,darwin,boy scout,mangoe,jsn104,dogma,tammy,wrote,wingate,cobb,scout,asimov,motto,benedikt,islamic,mathew,rushdie,atheism,atheist,keith\n",
        "comp.graphics povray,impulse,tiff,mpeg,sphere,visualization,surface,animation,fractal,viewer,photoshop,image,hacker,polygon,cview,siggraph,pov,3do,3d,graphic\n",
        "comp.os.ms-windows.misc workgroups,file,w4wg,setup,risc,doublespace,winfax,nt,winqvt,smartdrv,ini,bmp,win,ax,challenge,microsoft,supporter,cica,win3,window\n",
        "comp.sys.ibm.pc.hardware trinitron,winmarks,motherboard,pentium,spec,interrupt,compaq,irq,smc,gosh,motherboards,cmos,mitsumi,vlb,isa,connect,laserjet,ide,gateway,bios\n",
        "comp.sys.mac.hardware cyclone,macweek,iifx,pb,floptical,bmug,68040,iici,deskwriter,adb,lciii,iisi,se,quadra,centris,duo,apple,lc,powerbook,mac\n",
        "comp.windows.x subscribe,xdm,imake,pixmap,escaped,event,unsubscribe,twm,xwindows,consortium,openwindows,x11,xfree86,window manager,xlib,server,widget,xterm,x11r5,motif\n",
        "misc.forsale cod,lens,00,cd,deal,calculator,pay,obo,snes,call,interested,summer,camera,sell,asking,wanted,offer,shipping,forsale,sale\n",
        "rec.autos honda,dumbest,89,nissan,v6,integra,diesel,chevrolet,vw,opel,dealer,toyota,warning,mustang,automotive,oil,geico,ford,auto,car\n",
        "rec.motorcycles piece,infante,moa,ducati,biker,dog,cager,ranck,moto,yamaha,harley,bmw,kawasaki,helmet,ride,rider,riding,motorcycle,bike,dod\n",
        "rec.sport.baseball uniform,hitter,mets,marlin,mattingly,fenway,nl,sox,ball,stadium,brave,tiger,morris,dodger,pitcher,cub,yankee,giant,phillies,baseball\n",
        "rec.sport.hockey octopus,oiler,pen,cup,cherry,detroit,wing,leaf,wc,buffalo,puck,islander,shark,penguin,espn,goalie,bruin,playoff,nhl,hockey\n",
        "sci.crypt encrypted,de,rsa,privacy,denning,sternlight,key,tempest,secret,crypt,pgp,cipher,security,nsa,wiretap,cryptography,crypto,encryption,tapped,clipper\n",
        "sci.electronics adcom,eprom,led,protected,resistor,pcb,exploding,spice,2600,256k,solvent,motorola,voltage,8051,rf,copy,scope,ic,electronics,circuit\n",
        "sci.med cure,skin,health,seizure,needle,migraine,pregnency,patient,medicine,exercise,allergic,cancer,msg,medical,ear,disease,med,krillean,doctor,photography\n",
        "sci.space aurora,dietz,flight,astronomy,funding,gamma ray,dc,astro,satellite,spacecraft,pat,mar,rocket,planet,sky,launch,orbit,shuttle,moon,space\n",
        "soc.religion.christian married,fisher,james,catholic,christian,moderator,christ,prayer,arrogance,sin,1993,easter,daily,verse,church,geneva,kiefer,rutgers,athos,clh\n",
        "talk.politics.guns senate,cipriani,burn,hunting,weaver,militia,regulated,acronym,nra,fbi,liberty,handgun,waco,quisling,dividian,weapon,ranch,firearm,atf,gun\n",
        "talk.politics.mideast hezbollah,elia,racism,hamas,zionism,muslim,holocaust,argic,uva,jew,andi,adl,angmar,serdar,palestinian,turkish,arab,armenian,israel,israeli\n",
        "talk.politics.misc pension,verdict,kinsey,president,police state,celebrate,drug,initiative,state,gay,hostage,garrett,sexual,mow,optilink,clayton,wetware,teel,cramer,kaldis\n",
        "talk.religion.misc biblical,tyre,thyagi,sabin,hare,brian,happened,sword,mormon,rawlins,abortion,hudson,wei,forming,666,beast,rosicrucian,2000,burden,promise\n",
        "ng20_raw_lemmas_unigrams_stopwords_df0.0005_tf1 ^ ng20_raw_lemmas_bigrams_stopwords_df0.0005_tf1 ^ wiktionary_bigrams  -->  precision  0.876606301247 recall  0.873089634006 f1  0.873869463291\n",
        "loaded (1020) terms"
       ]
      },
      {
       "output_type": "stream",
       "stream": "stdout",
       "text": [
        "\n",
        "extended to (2091) terms\n",
        "done loading vocabulary\n",
        "vectorizing done, 2091 terms vocabulary tokenized"
       ]
      },
      {
       "output_type": "stream",
       "stream": "stdout",
       "text": [
        "\n",
        "vectorizing done, 2091 terms vocabulary tokenized\n"
       ]
      },
      {
       "output_type": "stream",
       "stream": "stdout",
       "text": [
        "accuracy scores = [ 0.67613998  0.71804671  0.70854592  0.68163439],0.696091749146\n"
       ]
      },
      {
       "output_type": "stream",
       "stream": "stdout",
       "text": [
        "macro precision scores = [ 0.67024481  0.71457177  0.70168195  0.68100553],0.691876014636\n"
       ]
      },
      {
       "output_type": "stream",
       "stream": "stdout",
       "text": [
        "macro recall scores = [ 0.66818283  0.71204142  0.69965318  0.6760673 ],0.68898618137\n"
       ]
      },
      {
       "output_type": "stream",
       "stream": "stdout",
       "text": [
        "macro f1 scores = [ 0.66788509  0.71220914  0.69842489  0.6770024 ],0.688880380442\n"
       ]
      },
      {
       "output_type": "stream",
       "stream": "stdout",
       "text": [
        "weighted average precision scores = [ 0.67499733  0.71751635  0.70640421  0.68436553],0.695820854086\n"
       ]
      },
      {
       "output_type": "stream",
       "stream": "stdout",
       "text": [
        "weighted average recall scores = [ 0.67499733  0.71751635  0.70640421  0.68436553],0.695820854086\n"
       ]
      },
      {
       "output_type": "stream",
       "stream": "stdout",
       "text": [
        "weighted f1 scores = [ 0.67436099  0.71679573  0.70571193  0.68153183],0.694600122079\n",
        "dimensionality: 2091"
       ]
      },
      {
       "output_type": "stream",
       "stream": "stdout",
       "text": [
        "\n",
        "density: 0.885700621712\n",
        "alt.atheism germany,religious leader,au,rest,thought,agency,higher,trick,two thousand,fall back,scout,moral,po,loaded,fossil,vice,gulf war,boy scout,political,islamic\n",
        "comp.graphics diego,gamma,data stream,orientation,method,scan line,batch file,true color,point,computer graphic,frame rate,map,maple,wish list,input device,texture,image,virtual reality,tracing,graphic\n",
        "comp.os.ms-windows.misc give back,run away,large number,token ring,character,development,short cut,extended memory,manager,desktop,swap,hot key,motion,swap file,acid rain,real world,visual basic,vu,window,instruction set\n",
        "comp.sys.ibm.pc.hardware silicon,computer,bad news,western,null modem,main memory,boot disk,amateur radio,bang,oh yeah,cap lock,setting,model number,master,data compression,bus,floppy,atari,rosa,power source\n",
        "comp.sys.mac.hardware price list,price,clock,internal,desktop,ago,clock speed,take advantage,cap lock,third party,computer scientist,global village,control panel,personal computer,work station,home computer,shift key,logic board,apple,mac\n",
        "comp.windows.x set,pretty picture,shell script,release,remote,application,free software,device driver,capital,software engineer,snail,middle class,kong,event,pressed,computer science,man page,handler,server,window manager\n",
        "misc.forsale estate,game port,oh god,access time,pedal,mint,comic,camera,oh dear,apartment,brand new,money order,common sense,deck,original,pay,working condition,asking,wanted,sale\n",
        "rec.autos fuel,automatic transmission,bird,cylinder,look ahead,drain,transmission,reverse,take away,license plate,hard hat,bring back,dealer,shift,hear hear,drain plug,wagon,test drive,insurance company,car\n",
        "rec.motorcycles member,prime,vega,court,green,drunk,police officer,exhaust,ursa,route,north america,parking,chain,blue book,stolen,shaft,dog,hog,united kingdom,happy easter\n",
        "rec.sport.baseball fan club,runner,law school,park,jay,east coast,supreme,national league,handed,bat,hit,spring training,make room,sox,ball,world series,hitter,home run,baseball,batting\n",
        "rec.sport.hockey play,capital,power play,vancouver,player,san jose,mask,cap,penalty,radio station,red wing,north america,golf course,final,wing,czech,pool,cup,coach,leaf\n",
        "sci.crypt random,serial number,police,code,political party,black box,cola,core,laissez,white house,speech,court order,key,public key,drug dealer,fifth amendment,security,secret,organized,clipper\n",
        "sci.electronics power line,discharge,western europe,time clock,vacuum tube,text file,ham,cd player,life form,tv,duty cycle,duct,acid,2600,electrical,duct tape,cooling tower,copy protection,apple mac,circuit\n",
        "sci.med cause,believer,intercourse,fever,immune,c gas,side effect,placebo,kidney,med,corona,food,health,nerve,clinical,medicine,infection,medical,doctor,bank\n",
        "sci.space radiation,vacuum,human activity,lunar,space station,nuclear waste,exploration,rocket,landing,mission,flight,hopkins,astronomy,planet,moon,launch,gamma ray,orbit,shuttle,space\n",
        "soc.religion.christian supreme court,temper,st john,strictly,dead sea,roman,best friend,new testament,christian,sin,immaculate conception,new christian,second coming,judgement,easter,catholic,church,christ,original sin,sex education\n",
        "talk.politics.guns house,robin hood,rifle,vice president,hay,liberty,transfer,search warrant,elevator shaft,committed suicide,national debt,baptist,weapon,nut case,id card,fbi,examiner,arrest warrant,free state,gun\n",
        "talk.politics.mideast freedom,nation,police force,soviet,minister,graduate,two hundred,happy birthday,cloud,missile,gaza,hate,sexual favor,west bank,human right,border,village,policy,expansion,arab\n",
        "talk.politics.misc heart attack,party,free speech,bank account,secret service,cigarette,stimulus,ma bell,tantrum,sexual,temper tantrum,irrational number,take responsibility,environmental,relation,free market,gay,mother nature,economic,police state\n",
        "talk.religion.misc taking,true believer,black hole,material,right one,better place,fiction,time wa,ancient,order,southern baptist,moral system,new age,open mind,commandment,computer program,take part,internet address,moins,au moins\n",
        "ng20_raw_lemmas_bigrams_stopwords_df0.0005_tf1 ^ wiktionary_bigrams (extended unigrams) -->  precision  0.691876014636 recall  0.68898618137 f1  0.688880380442\n",
        "loaded (20384) terms"
       ]
      },
      {
       "output_type": "stream",
       "stream": "stdout",
       "text": [
        "\n",
        "vectorizing done, 20384 terms vocabulary tokenized"
       ]
      },
      {
       "output_type": "stream",
       "stream": "stdout",
       "text": [
        "\n",
        "vectorizing done, 20384 terms vocabulary tokenized"
       ]
      },
      {
       "output_type": "stream",
       "stream": "stdout",
       "text": [
        "\n"
       ]
      },
      {
       "output_type": "stream",
       "stream": "stdout",
       "text": [
        "accuracy scores = [ 0.86277837  0.9         0.89158163  0.8655033 ],0.879965824535\n"
       ]
      },
      {
       "output_type": "stream",
       "stream": "stdout",
       "text": [
        "macro precision scores = [ 0.86174023  0.8999878   0.88974038  0.86470489],0.879043323743\n"
       ]
      },
      {
       "output_type": "stream",
       "stream": "stdout",
       "text": [
        "macro recall scores = [ 0.85549413  0.89753919  0.8858077   0.8623891 ],0.875307531301\n"
       ]
      },
      {
       "output_type": "stream",
       "stream": "stdout",
       "text": [
        "macro f1 scores = [ 0.85682868  0.89845107  0.8866115   0.86268966],0.876145229666\n"
       ]
      },
      {
       "output_type": "stream",
       "stream": "stdout",
       "text": [
        "weighted average precision scores = [ 0.86330325  0.90011408  0.89260004  0.86802882],0.881011549284\n"
       ]
      },
      {
       "output_type": "stream",
       "stream": "stdout",
       "text": [
        "weighted average recall scores = [ 0.86330325  0.90011408  0.89260004  0.86802882],0.881011549284\n"
       ]
      },
      {
       "output_type": "stream",
       "stream": "stdout",
       "text": [
        "weighted f1 scores = [ 0.86161261  0.8997933   0.89104806  0.86592413],0.879594524957\n",
        "dimensionality: 20384"
       ]
      },
      {
       "output_type": "stream",
       "stream": "stdout",
       "text": [
        "\n",
        "density: 0.908138736264\n",
        "alt.atheism charley,darwin,mangoe,boy scout,jsn104,dogma,tammy,wrote,wingate,cobb,asimov,scout,motto,benedikt,islamic,mathew,rushdie,atheism,atheist,keith\n",
        "comp.graphics povray,impulse,tiff,mpeg,sphere,surface,visualization,hacker,fractal,animation,viewer,photoshop,cview,image,polygon,siggraph,pov,3do,3d,graphic\n",
        "comp.os.ms-windows.misc w4wg,winfax,risc,printer driver,doublespace,setup,nt,winqvt,smartdrv,ini,bmp,win,program manager,ax,challenge,supporter,microsoft,win3,cica,window\n",
        "comp.sys.ibm.pc.hardware specification,pentium,interrupt,motherboard,smc,modem,spec,pc,compaq,vlb,motherboards,mitsumi,gosh,irq,cmos,isa,connect,ide,bios,gateway\n",
        "comp.sys.mac.hardware cyclone,iifx,macweek,pb,floptical,bmug,iici,68040,deskwriter,adb,lciii,iisi,se,quadra,centris,duo,apple,lc,powerbook,mac\n",
        "comp.windows.x imake,subscribe,xwd,pixmap,escaped,event,twm,xwindows,unsubscribe,consortium,openwindows,window manager,x11,xfree86,xlib,server,widget,xterm,x11r5,motif\n",
        "misc.forsale 00,lens,cod,deal,cd,calculator,pay,call,snes,summer,obo,camera,interested,sell,asking,wanted,offer,shipping,forsale,sale\n",
        "rec.autos sunroof,89,dumbest,integra,nissan,v6,diesel,chevrolet,opel,dealer,vw,toyota,automotive,mustang,warning,oil,geico,ford,auto,car\n",
        "rec.motorcycles piece,infante,moa,ducati,biker,dog,moto,ranck,cager,yamaha,harley,bmw,kawasaki,helmet,ride,rider,riding,motorcycle,bike,dod\n",
        "rec.sport.baseball cardinal,marlin,hitter,mets,nl,mattingly,fenway,sox,stadium,ball,brave,morris,tiger,dodger,pitcher,cub,yankee,giant,phillies,baseball\n",
        "rec.sport.hockey gerald,octopus,oiler,pen,detroit,cherry,wing,wc,leaf,puck,buffalo,islander,shark,espn,penguin,goalie,bruin,playoff,nhl,hockey\n",
        "sci.crypt password,de,denning,rsa,sternlight,privacy,secret,tempest,key,crypt,cipher,pgp,security,nsa,wiretap,cryptography,crypto,encryption,tapped,clipper\n",
        "sci.electronics noise,resistor,ee,led,pcb,exploding,256k,spice,copy,motorola,solvent,voltage,2600,8051,rf,ic,scope,disk copy,electronics,circuit\n",
        "sci.med skin,needle,cure,health,seizure,migraine,pregnency,patient,exercise,medicine,allergic,cancer,medical,msg,ear,disease,krillean,med,photography,doctor\n",
        "sci.space solar,flight,dietz,funding,astronomy,gamma ray,astro,dc,satellite,spacecraft,pat,rocket,mar,planet,sky,launch,orbit,shuttle,moon,space\n",
        "soc.religion.christian hell,fisher,james,catholic,christian,moderator,prayer,christ,arrogance,1993,easter,sin,daily,verse,geneva,church,kiefer,rutgers,athos,clh\n",
        "talk.politics.guns crary,cipriani,burn,hunting,weaver,militia,regulated,fbi,acronym,nra,liberty,handgun,waco,quisling,dividian,weapon,ranch,firearm,atf,gun\n",
        "talk.politics.mideast elia,hezbollah,holocaust,racism,hamas,muslim,zionism,argic,uva,jew,andi,adl,angmar,serdar,palestinian,turkish,arab,armenian,israeli,israel\n",
        "talk.politics.misc pension,kinsey,mail address,police state,initiative,president,celebrate,drug,state,gay,hostage,garrett,sexual,mow,optilink,clayton,wetware,teel,cramer,kaldis\n",
        "talk.religion.misc christian morality,tyre,thyagi,sabin,hare,happened,brian,sword,rawlins,abortion,new religion,wei,mormon,hudson,666,2000,beast,rosicrucian,burden,promise\n",
        "ng20_raw_lemmas_unigrams_stopwords_df0.0005_tf1 ^ ng20_raw_lemmas_bigrams_stopwords_df0.0005_tf1 ^ google_bigrams  -->  precision  0.879043323743 recall  0.875307531301 f1  0.876145229666\n",
        "loaded (2107) terms"
       ]
      },
      {
       "output_type": "stream",
       "stream": "stdout",
       "text": [
        "\n",
        "extended to (3632) terms\n",
        "done loading vocabulary\n",
        "vectorizing done, 3632 terms vocabulary tokenized"
       ]
      },
      {
       "output_type": "stream",
       "stream": "stdout",
       "text": [
        "\n",
        "vectorizing done, 3632 terms vocabulary tokenized\n"
       ]
      },
      {
       "output_type": "stream",
       "stream": "stdout",
       "text": [
        "accuracy scores = [ 0.74337222  0.79193206  0.78422619  0.75207491],0.767901343953\n"
       ]
      },
      {
       "output_type": "stream",
       "stream": "stdout",
       "text": [
        "macro precision scores = [ 0.73850166  0.78662958  0.77645891  0.75071462],0.763076192518\n"
       ]
      },
      {
       "output_type": "stream",
       "stream": "stdout",
       "text": [
        "macro recall scores = [ 0.73381644  0.78653826  0.77431079  0.74649581],0.760290325285\n"
       ]
      },
      {
       "output_type": "stream",
       "stream": "stdout",
       "text": [
        "macro f1 scores = [ 0.73387118  0.7861628   0.77371973  0.74713643],0.760222535311\n"
       ]
      },
      {
       "output_type": "stream",
       "stream": "stdout",
       "text": [
        "weighted average precision scores = [ 0.74261457  0.79118791  0.78279223  0.75624662],0.768210331346\n"
       ]
      },
      {
       "output_type": "stream",
       "stream": "stdout",
       "text": [
        "weighted average recall scores = [ 0.74261457  0.79118791  0.78279223  0.75624662],0.768210331346\n"
       ]
      },
      {
       "output_type": "stream",
       "stream": "stdout",
       "text": [
        "weighted f1 scores = [ 0.74112161  0.79114816  0.78216021  0.75275025],0.766795056081\n",
        "dimensionality: 3632"
       ]
      },
      {
       "output_type": "stream",
       "stream": "stdout",
       "text": [
        "\n",
        "density: 0.774449339207\n",
        "alt.atheism tu,gulf,hitler,moral,wood,agency,germany,fossil,scout,political,rice,po,entire nation,decision support,jehovah witness,boy scout,vice,atheist,gulf war,islamic\n",
        "comp.graphics client server,gamma,unix machine,point,reality,wish list,hacker,map,hacker ethic,color image,rgb,texture,viewer,surface,algorithm,mac version,image,temp file,3d,graphic\n",
        "comp.os.ms-windows.misc desktop,jordan,setup,printer driver,nt,ink,mouse cursor,swap file,file manager,indiana,download,print manager,bmp,real world,vu,ini,instruction set,window,program manager,microsoft\n",
        "comp.sys.ibm.pc.hardware dip switch,western,silicon graphic,monitor,system boot,data compression,ben,desktop window,cd rom,date,cpu fan,ide,bat,legal,master,hardware problem,power source,blaster,bios,gateway\n",
        "comp.sys.mac.hardware planet,hardware,mail order,hour,slot,control panel,austin,zone,photo,clock speed,monty,shift key,home computer,se,educational,logic board,price drop,run window,apple,mac\n",
        "comp.windows.x fee,technical conference,window system,dump,depth,capital,display,item,unix platform,system programmer,parent window,default,device driver,man page,sparc,script,widget,server,window manager,motif\n",
        "misc.forsale guarantee,condition,sun system,fax modem,mailing,mail list,pay,trade,pedal,deck,right arm,call,common sense,life time,apartment,sega,summer,camera,shipping,sale\n",
        "rec.autos computer center,early,honda,concept,engine,oil,power window,taurus,license plate,test drive,dealer,contact person,consumer report,toyota,wagon,insurance company,warning,shift,ford,car\n",
        "rec.motorcycles word daddy,wave,court,michigan,minnesota,insurance,re,police officer,chamber,general rule,honda,ninja,dog,blue book,shaft,drunk,chain,helmet,rider,bike\n",
        "rec.sport.baseball baltimore,rockies,park,world series,hit,official,marlin,sox,tiger,era,hitter,home run,ball,batter,batting,cub,brave,pitcher,phillies,baseball\n",
        "rec.sport.hockey ice,cap,tie,montreal,pool,final,wing,buffalo,coverage,world championship,pit,detroit,coach,penguin,oiler,leaf,bruin,playoff,hockey,nhl\n",
        "sci.crypt speech,political party,george,measure,administration,cola,radiation,court order,code,drug dealer,escrow,attack,hard core,key,security,cipher,privacy,secret,encryption,clipper\n",
        "sci.electronics acid,style,company,line level,time clock,copy protection,atari,cable company,filter,tv,duct,correction,pc board,duct tape,cooling tower,voltage,power signal,apple mac,disk copy,circuit\n",
        "sci.med reaction,food,nerve,information,adult,diet,corona,scientist,pitt,fever,bank,success,medical,cancer,health,infection,patient,disease,treatment,doctor\n",
        "sci.space flight,atmosphere,funding,hopkins,telescope,space station,satellite,mar,exploration,man work,rocket,planet,spacecraft,gamma ray,launch,moon,shuttle,orbit,sky,space\n",
        "soc.religion.christian christian,augustine,dead sea,translation,mormon temple,ethic,parent,temple,new testament,oakland,church,new christian,judgement,catholic,ancient book,christ,prayer,homosexuality issue,sex education,daily\n",
        "talk.politics.guns search warrant,vice president,rifle,examiner,liberty,american express,texas,homicide,national debt,bullet,waco,arrest warrant,id card,cnn,weapon,hunting,socialist leader,free state,gun,atf\n",
        "talk.politics.mideast muslim,minister,west bank,cloud,warsaw,internet,mountain pass,holocaust,policy,mcgill,greek,human right,freedom,jew,troop,occupied,bosnians,arab,israel,israeli\n",
        "talk.politics.misc tantrum,way people,income,temper tantrum,cigarette,large black,reform,dump,kinsey,top,free market,crime rate,environmental,economic,molester,child molester,good neighbor,mother nature,relation,police state\n",
        "talk.religion.misc herring,red herring,south,orthodox christian,atheist position,material,fiction,hard way,kent,ancient,internet address,computer program,order,new age,southern,open mind,christian morality,mormon,new religion,loving god\n",
        "ng20_raw_lemmas_bigrams_stopwords_df0.0005_tf1 ^ google_bigrams (extended unigrams) -->  precision  0.763076192518 recall  0.760290325285 f1  0.760222535311\n",
        "loaded (21656) terms"
       ]
      },
      {
       "output_type": "stream",
       "stream": "stdout",
       "text": [
        "\n",
        "vectorizing done, 21656 terms vocabulary tokenized"
       ]
      },
      {
       "output_type": "stream",
       "stream": "stdout",
       "text": [
        "\n",
        "vectorizing done, 21656 terms vocabulary tokenized"
       ]
      },
      {
       "output_type": "stream",
       "stream": "stdout",
       "text": [
        "\n"
       ]
      },
      {
       "output_type": "stream",
       "stream": "stdout",
       "text": [
        "accuracy scores = [ 0.86235419  0.90084926  0.89243197  0.86763141],0.880816707347\n"
       ]
      },
      {
       "output_type": "stream",
       "stream": "stdout",
       "text": [
        "macro precision scores = [ 0.86099345  0.90072446  0.89087743  0.86712297],0.879929576165\n"
       ]
      },
      {
       "output_type": "stream",
       "stream": "stdout",
       "text": [
        "macro recall scores = [ 0.85486986  0.89832904  0.88641408  0.86442872],0.876010425262\n"
       ]
      },
      {
       "output_type": "stream",
       "stream": "stdout",
       "text": [
        "macro f1 scores = [ 0.85616344  0.89920942  0.88735224  0.8648855 ],0.876902651227\n"
       ]
      },
      {
       "output_type": "stream",
       "stream": "stdout",
       "text": [
        "weighted average precision scores = [ 0.86261348  0.90099543  0.89340137  0.87023196],0.881810560023\n"
       ]
      },
      {
       "output_type": "stream",
       "stream": "stdout",
       "text": [
        "weighted average recall scores = [ 0.86261348  0.90099543  0.89340137  0.87023196],0.881810560023\n"
       ]
      },
      {
       "output_type": "stream",
       "stream": "stdout",
       "text": [
        "weighted f1 scores = [ 0.86110552  0.90064323  0.8917853   0.86806123],0.880398819603\n",
        "dimensionality: 21656"
       ]
      },
      {
       "output_type": "stream",
       "stream": "stdout",
       "text": [
        "\n",
        "density: 0.907194311045\n",
        "alt.atheism boy scout,charley,darwin,jsn104,moral agency,wrote,tammy,dogma,wingate,cobb,asimov,scout,benedikt,motto,islamic,rushdie,mathew,atheism,atheist,keith\n",
        "comp.graphics raytracing,impulse,tiff,visualization,sphere,mpeg,surface,hacker,animation,fractal,photoshop,viewer,image,cview,polygon,siggraph,pov,3do,3d,graphic\n",
        "comp.os.ms-windows.misc workgroups,risc,w4wg,nt,doublespace,winfax,setup,winqvt,smartdrv,win,ini,bmp,program manager,ax,challenge,supporter,win3,microsoft,cica,window\n",
        "comp.sys.ibm.pc.hardware trinitron,pentium,spec,monitor,gosh,modem,compaq,motherboard,irq,pc,motherboards,smc,mitsumi,vlb,cmos,ide,connect,isa,gateway,bios\n",
        "comp.sys.mac.hardware macweek,iifx,pb,24 hour,floptical,iici,bmug,68040,deskwriter,adb,lciii,se,centris,iisi,quadra,lc,duo,apple,powerbook,mac\n",
        "comp.windows.x subscribe,xwd,pixmap,imake,escaped,event,twm,unsubscribe,xwindows,consortium,openwindows,window manager,x11,xfree86,xlib,server,widget,xterm,x11r5,motif\n",
        "misc.forsale lens,00,cod,deal,cd,calculator,pay,call,snes,obo,summer,camera,interested,sell,asking,wanted,offer,shipping,forsale,sale\n",
        "rec.autos nissan,honda,89,dumbest,integra,diesel,v6,chevrolet,opel,vw,dealer,toyota,automotive,mustang,warning,oil,geico,ford,auto,car\n",
        "rec.motorcycles stroke,cage,moa,infante,ducati,cager,dog,moto,ranck,yamaha,harley,bmw,kawasaki,helmet,ride,rider,riding,motorcycle,bike,dod\n",
        "rec.sport.baseball cardinal,uniform,marlin,mets,morris,hitter,nl,fenway,sox,stadium,ball,brave,tiger,dodger,pitcher,cub,yankee,giant,phillies,baseball\n",
        "rec.sport.hockey goal,octopus,cup,oiler,pen,wing,detroit,wc,leaf,puck,buffalo,islander,shark,penguin,espn,goalie,bruin,playoff,nhl,hockey\n",
        "sci.crypt de,escrow,denning,rsa,sternlight,privacy,secret,tempest,key,crypt,cipher,pgp,security,nsa,wiretap,cryptography,crypto,encryption,tapped,clipper\n",
        "sci.electronics noise,led,copy,resistor,pcb,2600,256k,exploding,spice,solvent,motorola,voltage,8051,rf,disk copy,ic,scope,copy protected,electronics,circuit\n",
        "sci.med treatment,needle,skin,seizure,pregnency,health,migraine,patient,medicine,exercise,allergic,cancer,msg,ear,medical,disease,krillean,med,photography,doctor\n",
        "sci.space aurora,dietz,flight,astronomy,funding,gamma ray,dc,astro,satellite,spacecraft,mar,rocket,pat,sky,planet,launch,orbit,shuttle,moon,space\n",
        "soc.religion.christian christianity,hell,james,catholic,christian,moderator,prayer,christ,arrogance,1993,easter,sin,geneva,daily,verse,church,kiefer,rutgers,athos,clh\n",
        "talk.politics.guns senate,cnn,weaver,hunting,burn,militia,regulated,acronym,fbi,liberty,nra,handgun,quisling,waco,dividian,weapon,ranch,firearm,atf,gun\n",
        "talk.politics.mideast elia,hezbollah,racism,hamas,holocaust,muslim,zionism,argic,uva,jew,serdar,andi,adl,angmar,palestinian,turkish,arab,armenian,israeli,israel\n",
        "talk.politics.misc mail address,kinsey,police state,president,celebrate,drug,initiative,state,hostage,gay,garrett,optilink,mow,sexual,clayton,teel,wetware,cramer,kaldis,top ten\n",
        "talk.religion.misc christian morality,new age,robert wei,tyre,hare,thyagi,happened,brian,sword,rawlins,abortion,mormon,new religion,hudson,rosicrucian,2000,666,beast,burden,promise\n",
        "ng20_raw_lemmas_unigrams_stopwords_df0.0005_tf1 ^ ng20_raw_lemmas_bigrams_stopwords_df0.0005_tf1 ^ wiki_wiktionary_bigrams_vw  -->  precision  0.879929576165 recall  0.876010425262 f1  0.876902651227\n",
        "loaded (3379) terms"
       ]
      },
      {
       "output_type": "stream",
       "stream": "stdout",
       "text": [
        "\n",
        "extended to (5958) terms\n",
        "done loading vocabulary\n",
        "vectorizing done, 5958 terms vocabulary tokenized"
       ]
      },
      {
       "output_type": "stream",
       "stream": "stdout",
       "text": [
        "\n",
        "vectorizing done, 5958 terms vocabulary tokenized\n"
       ]
      },
      {
       "output_type": "stream",
       "stream": "stdout",
       "text": [
        "accuracy scores = [ 0.79703075  0.83757962  0.83014456  0.79378591],0.814635210117\n"
       ]
      },
      {
       "output_type": "stream",
       "stream": "stdout",
       "text": [
        "macro precision scores = [ 0.79479492  0.83648347  0.8264289   0.79376167],0.812867239718\n"
       ]
      },
      {
       "output_type": "stream",
       "stream": "stdout",
       "text": [
        "macro recall scores = [ 0.78984663  0.8346189   0.82300581  0.78997823],0.809362392886\n"
       ]
      },
      {
       "output_type": "stream",
       "stream": "stdout",
       "text": [
        "macro f1 scores = [ 0.79064618  0.83503361  0.82336854  0.79072109],0.809942356216\n"
       ]
      },
      {
       "output_type": "stream",
       "stream": "stdout",
       "text": [
        "weighted average precision scores = [ 0.79702197  0.83775324  0.83030243  0.79738864],0.815616568343\n"
       ]
      },
      {
       "output_type": "stream",
       "stream": "stdout",
       "text": [
        "weighted average recall scores = [ 0.79702197  0.83775324  0.83030243  0.79738864],0.815616568343\n"
       ]
      },
      {
       "output_type": "stream",
       "stream": "stdout",
       "text": [
        "weighted f1 scores = [ 0.79562234  0.83717642  0.82904477  0.79447559],0.814079779478\n",
        "dimensionality: 5958"
       ]
      },
      {
       "output_type": "stream",
       "stream": "stdout",
       "text": [
        "\n",
        "density: 0.816582745888\n",
        "alt.atheism eternal damnation,fred rice,mark mccullough,mccullough,jehovah witness,john cooper,bobby,tu,cobb,boy scout,gulf war,vice,moral agency,scout,atheist,islamic law,islamic,atheism,healy,keith\n",
        "comp.graphics hacker,map,point,tga,hacker ethic,visualization,tiff,tracing,virtual reality,surface,42,algorithm,viewer,temp file,image,photoshop,siggraph,pov,3d,graphic\n",
        "comp.os.ms-windows.misc vu,howard,win nt,wise,mirror,win,hp deskjet,steve gibson,netware,visual basic,swap file,desktop,indiana,setup,14,instruction set,program manager,ini,window,microsoft\n",
        "comp.sys.ibm.pc.hardware tseng lab,ide,file server,austin,486,atari,blaster,blue wave,date,pc,silicon graphic,robert,monitor,17,refresh,isa,spec,laserjet,bios,gateway\n",
        "comp.sys.mac.hardware tt,soft,clock speed,po,global village,imagewriter,950,price drop,pd slot,se,iici,24 hour,centris,duo,lc,quadra,apple,iisi,powerbook,mac\n",
        "comp.windows.x computer science,handler,monochrome,color,tar,sun,device driver,client,window system,depth,binary,open look,hp 9000,display,script,sparc,event,server,widget,window manager\n",
        "misc.forsale mailing,deck,apartment,right arm,firm,summer,deal,call,cd,sega,brand new,trade,pay,original,camera,sell,wanted,unix pc,asking,sale\n",
        "rec.autos honda,power window,insurance company,sho,viper,driving,consumer report,license plate,engine,oil,wagon,opel,dealer,toyota,warning,mustang,geico,auto,ford,car\n",
        "rec.motorcycles levine,michigan,wave,asphaug,82,svoboda,robinson,curtis jackson,route,chain,honda,hawk gt,sutherland,dog,moa,shaft drive,ed green,rider,riding,bike\n",
        "rec.sport.baseball winfield,hernandez,era,morris,mattingly,marlin,home run,batting,sox,hr,bill james,batter,tiger,rockies,hitter,ball,brave,cub,phillies,baseball\n",
        "rec.sport.hockey cherry,buffalo,cup,leaf,season,final,lemieux,pit,coach,islander,goal,detroit,espn,oiler,penguin,goalie,bruin,playoff,nhl,hockey\n",
        "sci.crypt fifth,attack,code,random,holland,key,trust,secret source,fifth amendment,escrow,denning,privacy,pgp,security,secret,cipher,encryption,crypto,cryptography,clipper\n",
        "sci.electronics copy,noise,cable company,distance,electrical,led,style,cooling tower,filter,2600,tv,duct,re power,duct tape,voltage,disk copy,apple mac,copy protected,electronics,circuit\n",
        "sci.med scientist,recreational,cause,eye,information,food,sure fire,gordon,infection,health,patient,treatment,cancer,medical,allergic,med,disease,gordon bank,doctor,photography\n",
        "sci.space lunar,exploration,mission,orion,telescope,astronomy,tommy mac,satellite,pat,mar,gamma ray,planet,spacecraft,launch,rocket,shuttle,sky,moon,orbit,space\n",
        "soc.religion.christian dead sea,joe fisher,temple,original sin,oakland,translation,lewis,second coming,prayer,judgement,christian,sin,married,easter,james,church,catholic,christ,daily,1993\n",
        "talk.politics.guns texas,neil smith,senate,liberty,examiner,stratus,non lethal,rifle,weaver,fbi,socialist leader,cochrane,whitehead,free state,waco,weapon,hunting,burn,atf,gun\n",
        "talk.politics.mideast soldier,jefferson,hate,armenia,policy,occupied,warsaw,mcgill,spying,palestinian,holocaust,freedom,jew,turkish,argic,serdar,arab,armenian,israel,israeli\n",
        "talk.politics.misc state,cigarette,drug,usa,good neighbor,selective service,bashing,secretary,kinsey,mitchell todd,economic,gay,ted frank,baker,sexual,clayton,police state,garrett,cramer,top ten\n",
        "talk.religion.misc order,open mind,southern baptist,sabin,albert sabin,ancient,southern,commandment,wei,apr,hudson,john king,mormon,malcolm lee,brian,rosicrucian,new age,robert wei,2000,new religion\n",
        "ng20_raw_lemmas_bigrams_stopwords_df0.0005_tf1 ^ wiki_wiktionary_bigrams_vw (extended unigrams) -->  precision  0.812867239718 recall  0.809362392886 f1  0.809942356216\n",
        "loaded (22178) terms"
       ]
      },
      {
       "output_type": "stream",
       "stream": "stdout",
       "text": [
        "\n",
        "vectorizing done, 22178 terms vocabulary tokenized"
       ]
      },
      {
       "output_type": "stream",
       "stream": "stdout",
       "text": [
        "\n",
        "vectorizing done, 22178 terms vocabulary tokenized"
       ]
      },
      {
       "output_type": "stream",
       "stream": "stdout",
       "text": [
        "\n"
       ]
      },
      {
       "output_type": "stream",
       "stream": "stdout",
       "text": [
        "accuracy scores = [ 0.86277837  0.9         0.8934949   0.86805703],0.881082574571\n"
       ]
      },
      {
       "output_type": "stream",
       "stream": "stdout",
       "text": [
        "macro precision scores = [ 0.86178625  0.90012705  0.89163726  0.86754859],0.880274788016\n"
       ]
      },
      {
       "output_type": "stream",
       "stream": "stdout",
       "text": [
        "macro recall scores = [ 0.85545572  0.89762772  0.88760953  0.86485811],0.876387768391\n"
       ]
      },
      {
       "output_type": "stream",
       "stream": "stdout",
       "text": [
        "macro f1 scores = [ 0.8568359   0.89856143  0.88850603  0.86525189],0.877288812887\n"
       ]
      },
      {
       "output_type": "stream",
       "stream": "stdout",
       "text": [
        "weighted average precision scores = [ 0.86325177  0.90025375  0.89434638  0.87061134],0.882115811008\n"
       ]
      },
      {
       "output_type": "stream",
       "stream": "stdout",
       "text": [
        "weighted average recall scores = [ 0.86325177  0.90025375  0.89434638  0.87061134],0.882115811008\n"
       ]
      },
      {
       "output_type": "stream",
       "stream": "stdout",
       "text": [
        "weighted f1 scores = [ 0.86161228  0.89984572  0.89293662  0.86840415],0.880699692572\n",
        "dimensionality: 22178"
       ]
      },
      {
       "output_type": "stream",
       "stream": "stdout",
       "text": [
        "\n",
        "density: 0.897673370006\n",
        "alt.atheism boy scout,darwin,charley,jsn104,wrote,moral agency,tammy,dogma,wingate,cobb,asimov,scout,motto,benedikt,islamic,rushdie,mathew,atheism,atheist,keith\n",
        "comp.graphics raytracing,impulse,tiff,visualization,mpeg,sphere,surface,hacker,fractal,animation,photoshop,viewer,cview,image,polygon,siggraph,pov,3do,3d,graphic\n",
        "comp.os.ms-windows.misc file,w4wg,risc,winfax,nt,doublespace,setup,winqvt,smartdrv,bmp,win,ini,program manager,ax,challenge,supporter,win3,microsoft,cica,window\n",
        "comp.sys.ibm.pc.hardware interrupt,pentium,spec,monitor,modem,motherboard,gosh,motherboards,compaq,smc,irq,mitsumi,pc,vlb,ide,connect,cmos,isa,gateway,bios\n",
        "comp.sys.mac.hardware iifx,macweek,pb,24 hour,floptical,iici,bmug,68040,deskwriter,adb,lciii,se,centris,iisi,quadra,lc,duo,apple,powerbook,mac\n",
        "comp.windows.x subscribe,xwd,imake,pixmap,escaped,event,xwindows,twm,unsubscribe,consortium,openwindows,window manager,x11,xfree86,xlib,server,widget,xterm,x11r5,motif\n",
        "misc.forsale lens,00,cod,deal,cd,calculator,pay,call,summer,obo,camera,snes,sell,interested,asking,wanted,offer,shipping,forsale,sale\n",
        "rec.autos 89,honda,nissan,dumbest,integra,v6,diesel,chevrolet,opel,vw,dealer,toyota,automotive,mustang,warning,oil,geico,ford,auto,car\n",
        "rec.motorcycles stroke,cage,moa,infante,ducati,cager,dog,moto,ranck,yamaha,harley,bmw,kawasaki,helmet,ride,rider,riding,motorcycle,bike,dod\n",
        "rec.sport.baseball cardinal,uniform,marlin,mets,morris,hitter,nl,fenway,sox,stadium,ball,brave,tiger,dodger,pitcher,cub,yankee,giant,phillies,baseball\n",
        "rec.sport.hockey goal,octopus,cup,oiler,pen,wing,detroit,wc,puck,leaf,buffalo,islander,shark,penguin,espn,goalie,bruin,playoff,nhl,hockey\n",
        "sci.crypt de,escrow,denning,rsa,sternlight,privacy,secret,tempest,key,crypt,cipher,pgp,security,nsa,wiretap,cryptography,crypto,encryption,tapped,clipper\n",
        "sci.electronics noise,led,copy,resistor,pcb,256k,2600,spice,exploding,solvent,motorola,voltage,8051,rf,disk copy,ic,copy protected,scope,electronics,circuit\n",
        "sci.med treatment,needle,health,skin,seizure,pregnency,migraine,patient,medicine,exercise,allergic,cancer,medical,msg,ear,disease,krillean,med,photography,doctor\n",
        "sci.space aurora,dietz,flight,funding,astronomy,gamma ray,dc,astro,satellite,spacecraft,mar,rocket,pat,planet,sky,launch,orbit,shuttle,moon,space\n",
        "soc.religion.christian christianity,hell,james,catholic,moderator,christian,prayer,christ,arrogance,1993,easter,sin,geneva,daily,verse,church,kiefer,rutgers,athos,clh\n",
        "talk.politics.guns senate,cnn,weaver,hunting,burn,militia,regulated,fbi,acronym,liberty,nra,handgun,quisling,waco,dividian,weapon,ranch,firearm,atf,gun\n",
        "talk.politics.mideast elia,hezbollah,holocaust,racism,hamas,muslim,zionism,argic,uva,jew,serdar,adl,andi,angmar,palestinian,turkish,arab,armenian,israeli,israel\n",
        "talk.politics.misc mail address,kinsey,police state,president,initiative,celebrate,drug,state,hostage,gay,garrett,optilink,mow,sexual,clayton,teel,wetware,cramer,kaldis,top ten\n",
        "talk.religion.misc christian morality,new age,robert wei,tyre,thyagi,happened,hare,brian,sword,rawlins,abortion,mormon,new religion,hudson,rosicrucian,666,2000,beast,burden,promise\n",
        "ng20_raw_lemmas_unigrams_stopwords_df0.0005_tf1 ^ ng20_raw_lemmas_bigrams_stopwords_df0.0005_tf1 ^ wiki_google_bigrams_vw  -->  precision  0.880274788016 recall  0.876387768391 f1  0.877288812887\n",
        "loaded (3901) terms"
       ]
      },
      {
       "output_type": "stream",
       "stream": "stdout",
       "text": [
        "\n",
        "extended to (6547) terms\n",
        "done loading vocabulary\n",
        "vectorizing done, 6547 terms vocabulary tokenized"
       ]
      },
      {
       "output_type": "stream",
       "stream": "stdout",
       "text": [
        "\n",
        "vectorizing done, 6547 terms vocabulary tokenized\n"
       ]
      },
      {
       "output_type": "stream",
       "stream": "stdout",
       "text": [
        "accuracy scores = [ 0.80021209  0.84161359  0.83567177  0.79761651],0.818778490012\n"
       ]
      },
      {
       "output_type": "stream",
       "stream": "stdout",
       "text": [
        "macro precision scores = [ 0.79850645  0.83952531  0.83190774  0.79852949],0.817117247542\n"
       ]
      },
      {
       "output_type": "stream",
       "stream": "stdout",
       "text": [
        "macro recall scores = [ 0.79300599  0.83813417  0.82837707  0.79371551],0.813308187059\n"
       ]
      },
      {
       "output_type": "stream",
       "stream": "stdout",
       "text": [
        "macro f1 scores = [ 0.79376759  0.83846931  0.82873898  0.79486803],0.813960979205\n"
       ]
      },
      {
       "output_type": "stream",
       "stream": "stdout",
       "text": [
        "weighted average precision scores = [ 0.80049764  0.841232    0.83568075  0.80177493],0.819796331347\n"
       ]
      },
      {
       "output_type": "stream",
       "stream": "stdout",
       "text": [
        "weighted average recall scores = [ 0.80049764  0.841232    0.83568075  0.80177493],0.819796331347\n"
       ]
      },
      {
       "output_type": "stream",
       "stream": "stdout",
       "text": [
        "weighted f1 scores = [ 0.79867981  0.84108899  0.83447505  0.79848112],0.818181240215\n",
        "dimensionality: 6547"
       ]
      },
      {
       "output_type": "stream",
       "stream": "stdout",
       "text": [
        "\n",
        "density: 0.787719566214\n",
        "alt.atheism john cooper,mccullough,mark mccullough,eternal damnation,cobb,jehovah witness,tu,bobby,boy scout,gulf war,fred rice,vice,moral agency,scout,atheist,islamic law,atheism,islamic,healy,keith\n",
        "comp.graphics tga,rgb,hacker,point,tracing,hacker ethic,tiff,visualization,viewer,virtual reality,surface,42,temp file,photoshop,algorithm,image,siggraph,pov,3d,graphic\n",
        "comp.os.ms-windows.misc wise,visual basic,mirror,m,brett,nt,netware,hp deskjet,indiana,14,setup,bmp,desktop,print manager,download,instruction set,program manager,ini,window,microsoft\n",
        "comp.sys.ibm.pc.hardware file server,silicon graphic,monitor,atari,486,burn,blaster,austin,pc,isa,blue wave,hardware problem,date,robert,spec,laserjet,17,refresh,bios,gateway\n",
        "comp.sys.mac.hardware imagewriter,mail order,po,global village,950,clock speed,price drop,pd slot,run window,se,iici,24 hour,centris,duo,quadra,lc,apple,iisi,powerbook,mac\n",
        "comp.windows.x mark taylor,sun,color,hp 9000,device driver,man page,mit,return,depth,binary,window system,sparc,display,default,script,event,widget,server,window manager,motif\n",
        "misc.forsale fax modem,ticket,apartment,deal,deck,laptop,call,brand new,cd,trade,sega,summer,sell,original,unix pc,camera,wanted,asking,shipping,sale\n",
        "rec.autos viper,contact person,driving,engine,concept,consumer report,insurance company,license plate,sho,oil,wagon,opel,dealer,toyota,mustang,warning,geico,ford,auto,car\n",
        "rec.motorcycles levine,wave,asphaug,svoboda,route,robinson,82,chain,curtis jackson,honda,sutherland,hawk gt,dog,moa,shaft drive,ed green,helmet,rider,riding,bike\n",
        "rec.sport.baseball era,red sox,jack morris,mattingly,rockies,batting,marlin,home run,batter,sox,hr,tiger,bill james,hitter,ball,brave,pitcher,cub,phillies,baseball\n",
        "rec.sport.hockey lemieux,cherry,probert,season,cup,buffalo,leaf,coach,islander,pit,goal,detroit,oiler,espn,goalie,penguin,bruin,playoff,nhl,hockey\n",
        "sci.crypt triple de,holland,attack,code,random,key,trust,secret source,fifth amendment,escrow,denning,pgp,privacy,security,secret,cipher,encryption,crypto,cryptography,clipper\n",
        "sci.electronics system work,distance,cable company,electrical,style,led,power signal,re power,cooling tower,filter,2600,duct,tv,duct tape,voltage,disk copy,copy protected,apple mac,electronics,circuit\n",
        "sci.med eye,scientist,food,information,cause,diet,sure fire,gordon,health,infection,patient,treatment,cancer,medical,allergic,med,disease,gordon bank,doctor,photography\n",
        "sci.space telescope,mission,exploration,orion,tommy mac,funding,astronomy,satellite,pat,mar,gamma ray,spacecraft,planet,rocket,launch,shuttle,sky,moon,orbit,space\n",
        "soc.religion.christian sex education,homosexuality issue,dead sea,lewis,second coming,temple,translation,married,original sin,christian,judgement,sin,james,easter,prayer,church,catholic,christ,daily,1993\n",
        "talk.politics.guns texas,neil smith,examiner,liberty,stratus,non lethal,rifle,fbi,weaver,socialist leader,whitehead,cochrane,cnn,free state,waco,hunting,weapon,burn,atf,gun\n",
        "talk.politics.mideast soldier,policy,mohammad,armenia,occupied,mcgill,spying,warsaw,holocaust,bosnians,palestinian,freedom,jew,turkish,argic,serdar,arab,armenian,israel,israeli\n",
        "talk.politics.misc state,liberal,secretary,drug,usa,selective service,good neighbor,bashing,kinsey,economic,mitchell todd,ted frank,gay,clayton,baker,sexual,garrett,police state,cramer,top ten\n",
        "talk.religion.misc sabin,southern baptist,albert sabin,open mind,commandment,southern,malcolm lee,ancient,apr,loving god,wei,hudson,john king,mormon,rosicrucian,new age,robert wei,brian,2000,new religion\n",
        "ng20_raw_lemmas_bigrams_stopwords_df0.0005_tf1 ^ wiki_google_bigrams_vw (extended unigrams) -->  precision  0.817117247542 recall  0.813308187059 f1  0.813960979205\n",
        "loaded (20767) terms"
       ]
      },
      {
       "output_type": "stream",
       "stream": "stdout",
       "text": [
        "\n",
        "vectorizing done, 20767 terms vocabulary tokenized"
       ]
      },
      {
       "output_type": "stream",
       "stream": "stdout",
       "text": [
        "\n",
        "vectorizing done, 20767 terms vocabulary tokenized"
       ]
      },
      {
       "output_type": "stream",
       "stream": "stdout",
       "text": [
        "\n"
       ]
      },
      {
       "output_type": "stream",
       "stream": "stdout",
       "text": [
        "accuracy scores = [ 0.86383881  0.9         0.89243197  0.86529049],0.880390318107\n"
       ]
      },
      {
       "output_type": "stream",
       "stream": "stdout",
       "text": [
        "macro precision scores = [ 0.86248375  0.89975967  0.8905654   0.86428675],0.879273889987\n"
       ]
      },
      {
       "output_type": "stream",
       "stream": "stdout",
       "text": [
        "macro recall scores = [ 0.85656667  0.89749137  0.88663455  0.8620173 ],0.87567747213\n"
       ]
      },
      {
       "output_type": "stream",
       "stream": "stdout",
       "text": [
        "macro f1 scores = [ 0.85785538  0.89835203  0.88745524  0.86230377],0.876491604268\n"
       ]
      },
      {
       "output_type": "stream",
       "stream": "stdout",
       "text": [
        "weighted average precision scores = [ 0.86418321  0.9000891   0.89324406  0.86769016],0.881301635623\n"
       ]
      },
      {
       "output_type": "stream",
       "stream": "stdout",
       "text": [
        "weighted average recall scores = [ 0.86418321  0.9000891   0.89324406  0.86769016],0.881301635623\n"
       ]
      },
      {
       "output_type": "stream",
       "stream": "stdout",
       "text": [
        "weighted f1 scores = [ 0.86268162  0.8998088   0.89182004  0.86565627],0.879991682501\n",
        "dimensionality: 20767"
       ]
      },
      {
       "output_type": "stream",
       "stream": "stdout",
       "text": [
        "\n",
        "density: 0.906269562286\n",
        "alt.atheism charley,darwin,boy scout,mangoe,jsn104,dogma,tammy,wrote,wingate,cobb,scout,asimov,motto,benedikt,islamic,mathew,rushdie,atheism,atheist,keith\n",
        "comp.graphics povray,impulse,tiff,mpeg,sphere,visualization,surface,hacker,fractal,animation,viewer,photoshop,cview,image,polygon,siggraph,3do,pov,3d,graphic\n",
        "comp.os.ms-windows.misc w4wg,winfax,printer driver,risc,doublespace,setup,winqvt,nt,smartdrv,bmp,ini,win,program manager,ax,challenge,supporter,microsoft,win3,cica,window\n",
        "comp.sys.ibm.pc.hardware winmarks,interrupt,pentium,modem,motherboard,spec,pc,compaq,gosh,motherboards,mitsumi,smc,irq,vlb,isa,cmos,connect,ide,bios,gateway\n",
        "comp.sys.mac.hardware cyclone,iifx,macweek,pb,floptical,bmug,iici,68040,deskwriter,adb,lciii,iisi,se,quadra,centris,duo,apple,lc,powerbook,mac\n",
        "comp.windows.x imake,subscribe,xwd,pixmap,escaped,event,twm,xwindows,unsubscribe,consortium,openwindows,window manager,x11,xfree86,xlib,server,widget,xterm,x11r5,motif\n",
        "misc.forsale lens,00,cod,deal,cd,calculator,pay,obo,call,summer,snes,camera,sell,interested,asking,wanted,offer,shipping,forsale,sale\n",
        "rec.autos honda,89,dumbest,integra,nissan,v6,diesel,chevrolet,vw,opel,dealer,toyota,automotive,mustang,warning,oil,geico,ford,auto,car\n",
        "rec.motorcycles piece,infante,ducati,moa,biker,dog,moto,ranck,cager,yamaha,harley,bmw,kawasaki,helmet,ride,rider,riding,motorcycle,bike,dod\n",
        "rec.sport.baseball cardinal,marlin,hitter,mets,nl,mattingly,fenway,sox,stadium,ball,brave,morris,tiger,dodger,pitcher,cub,yankee,giant,phillies,baseball\n",
        "rec.sport.hockey gerald,octopus,oiler,pen,detroit,cherry,wing,wc,leaf,buffalo,puck,islander,shark,penguin,espn,goalie,bruin,playoff,nhl,hockey\n",
        "sci.crypt encrypted,de,rsa,denning,sternlight,privacy,secret,key,tempest,crypt,cipher,pgp,security,nsa,wiretap,cryptography,crypto,encryption,tapped,clipper\n",
        "sci.electronics noise,dsp,resistor,led,pcb,2600,exploding,spice,256k,copy,motorola,solvent,voltage,8051,rf,ic,scope,disk copy,electronics,circuit\n",
        "sci.med cure,skin,seizure,needle,health,pregnency,migraine,patient,medicine,exercise,allergic,cancer,medical,msg,ear,disease,med,krillean,photography,doctor\n",
        "sci.space henry,dietz,flight,funding,astronomy,gamma ray,astro,dc,satellite,spacecraft,pat,mar,rocket,planet,sky,launch,orbit,shuttle,moon,space\n",
        "soc.religion.christian married,fisher,james,catholic,christian,moderator,christ,prayer,arrogance,1993,easter,sin,daily,verse,geneva,church,kiefer,rutgers,athos,clh\n",
        "talk.politics.guns crary,cipriani,burn,weaver,hunting,militia,regulated,fbi,acronym,nra,liberty,handgun,waco,quisling,dividian,weapon,ranch,firearm,atf,gun\n",
        "talk.politics.mideast elia,hezbollah,holocaust,racism,hamas,muslim,zionism,argic,uva,jew,andi,adl,angmar,serdar,palestinian,turkish,arab,armenian,israeli,israel\n",
        "talk.politics.misc pension,mail address,kinsey,police state,president,initiative,celebrate,drug,state,gay,hostage,garrett,sexual,mow,optilink,clayton,wetware,teel,cramer,kaldis\n",
        "talk.religion.misc christian morality,tyre,sabin,hare,thyagi,happened,brian,sword,rawlins,abortion,new religion,mormon,wei,hudson,666,2000,beast,rosicrucian,burden,promise\n",
        "ng20_raw_lemmas_unigrams_stopwords_df0.0005_tf1 ^ ng20_raw_lemmas_bigrams_stopwords_df0.0005_tf1 ^ wiktionary_google_bigrams_vw  -->  precision  0.879273889987 recall  0.87567747213 f1  0.876491604268\n",
        "loaded (2490) terms"
       ]
      },
      {
       "output_type": "stream",
       "stream": "stdout",
       "text": [
        "\n",
        "extended to (4255) terms\n",
        "done loading vocabulary\n",
        "vectorizing done, 4255 terms vocabulary tokenized"
       ]
      },
      {
       "output_type": "stream",
       "stream": "stdout",
       "text": [
        "\n",
        "vectorizing done, 4255 terms vocabulary tokenized\n"
       ]
      },
      {
       "output_type": "stream",
       "stream": "stdout",
       "text": [
        "accuracy scores = [ 0.75058324  0.80573248  0.79506803  0.76441796],0.77895042938\n"
       ]
      },
      {
       "output_type": "stream",
       "stream": "stdout",
       "text": [
        "macro precision scores = [ 0.74544035  0.80170386  0.78780386  0.76333304],0.774570276283\n"
       ]
      },
      {
       "output_type": "stream",
       "stream": "stdout",
       "text": [
        "macro recall scores = [ 0.74191     0.80106026  0.78520081  0.75840365],0.771643680683\n"
       ]
      },
      {
       "output_type": "stream",
       "stream": "stdout",
       "text": [
        "macro f1 scores = [ 0.74182809  0.80094425  0.78487045  0.75946946],0.771778061491\n"
       ]
      },
      {
       "output_type": "stream",
       "stream": "stdout",
       "text": [
        "weighted average precision scores = [ 0.7498638   0.80544298  0.79409987  0.76816342],0.779392516815\n"
       ]
      },
      {
       "output_type": "stream",
       "stream": "stdout",
       "text": [
        "weighted average recall scores = [ 0.7498638   0.80544298  0.79409987  0.76816342],0.779392516815\n"
       ]
      },
      {
       "output_type": "stream",
       "stream": "stdout",
       "text": [
        "weighted f1 scores = [ 0.7486509   0.8051733   0.79324107  0.76495727],0.778005633625\n",
        "dimensionality: 4255"
       ]
      },
      {
       "output_type": "stream",
       "stream": "stdout",
       "text": [
        "\n",
        "density: 0.787085781434\n",
        "alt.atheism religion,germany,eight,moral,agency,tu,wood,entire nation,fossil,rice,decision support,jehovah witness,po,scout,political,boy scout,vice,gulf war,atheist,islamic\n",
        "comp.graphics method,color image,vga,unix machine,point,map,hacker,texture,hacker ethic,rgb,viewer,surface,temp file,virtual reality,tracing,algorithm,mac version,image,3d,graphic\n",
        "comp.os.ms-windows.misc setup,mouse cursor,file manager,nt,ink,win,visual basic,swap file,desktop,indiana,bmp,print manager,real world,download,vu,instruction set,ini,program manager,window,microsoft\n",
        "comp.sys.ibm.pc.hardware memory manager,monitor,tech support,data compression,system boot,atari,cpu fan,master,desktop window,floppy,laserjet,hardware problem,bat,date,ide,legal,power source,blaster,bios,gateway\n",
        "comp.sys.mac.hardware official,memory,price,slot,internal,photo,austin,home computer,clock speed,global village,hardware,hour,mail order,educational,logic board,se,price drop,run window,apple,mac\n",
        "comp.windows.x capital,unix platform,handler,computer science,fee,client,sun,display,default,dump,system programmer,device driver,man page,sparc,script,event,widget,server,window manager,motif\n",
        "misc.forsale cd,working condition,call,common sense,pedal,apartment,trade,summer,right arm,fax modem,brand new,deck,deal,sega,original,camera,wanted,asking,shipping,sale\n",
        "rec.autos automatic transmission,honda,transmission,extended,power window,concept,contact person,engine,oil,consumer report,test drive,license plate,dealer,wagon,shift,toyota,warning,insurance company,ford,car\n",
        "rec.motorcycles police officer,club,minnesota,happy easter,wave,hog,chamber,speeding,drink,re,honda,blue book,ninja,drunk,chain,shaft,dog,helmet,rider,bike\n",
        "rec.sport.baseball world series,park,sport,nl,rockies,marlin,hit,sox,era,hitter,tiger,home run,batter,ball,pitcher,batting,brave,cub,phillies,baseball\n",
        "rec.sport.hockey mask,ice,tie,montreal,pool,final,buffalo,coverage,wing,world championship,pit,penguin,detroit,oiler,coach,leaf,bruin,playoff,hockey,nhl\n",
        "sci.crypt administration,court order,random,de,fifth,attack,code,drug dealer,key,public key,escrow,hard core,fifth amendment,security,privacy,cipher,organized,secret,encryption,clipper\n",
        "sci.electronics copy protection,line level,project,acid,cable company,correction,company,style,filter,2600,cooling tower,duct,tv,pc board,duct tape,voltage,power signal,apple mac,disk copy,circuit\n",
        "sci.med scientist,information,pitt,adult,food,corona,fever,medicine,diet,success,infection,bank,health,medical,cancer,patient,med,treatment,disease,doctor\n",
        "sci.space lunar,hopkins,atmosphere,flight,funding,telescope,satellite,exploration,mar,man work,planet,rocket,spacecraft,gamma ray,launch,moon,shuttle,orbit,sky,space\n",
        "soc.religion.christian mormon temple,ethic,translation,parent,sin,james,temple,new christian,judgement,oakland,easter,church,christ,original sin,catholic,ancient book,prayer,homosexuality issue,sex education,daily\n",
        "talk.politics.guns gang,examiner,fbi,national debt,liberty,child abuse,texas,arrest warrant,american express,homicide,bullet,id card,waco,cnn,weapon,hunting,socialist leader,free state,gun,atf\n",
        "talk.politics.mideast mountain,cloud,attention,muslim,warsaw,mountain pass,policy,mcgill,internet,holocaust,greek,freedom,human right,jew,troop,bosnians,occupied,arab,israel,israeli\n",
        "talk.politics.misc reform,stimulus,free market,kinsey,cigarette,dump,income,drug,environmental,large black,molester,child molester,ten,good neighbor,relation,economic,mother nature,sexual,gay,police state\n",
        "talk.religion.misc south,southern baptist,kent,computer program,take part,hard way,internet address,material,southern,ancient,commandment,moins,au moins,open mind,order,new age,christian morality,mormon,loving god,new religion\n",
        "ng20_raw_lemmas_bigrams_stopwords_df0.0005_tf1 ^ wiktionary_google_bigrams_vw (extended unigrams) -->  precision  0.774570276283 recall  0.771643680683 f1  0.771778061491\n",
        "loaded (22262) terms"
       ]
      },
      {
       "output_type": "stream",
       "stream": "stdout",
       "text": [
        "\n",
        "vectorizing done, 22262 terms vocabulary tokenized"
       ]
      },
      {
       "output_type": "stream",
       "stream": "stdout",
       "text": [
        "\n",
        "vectorizing done, 22262 terms vocabulary tokenized"
       ]
      },
      {
       "output_type": "stream",
       "stream": "stdout",
       "text": [
        "\n"
       ]
      },
      {
       "output_type": "stream",
       "stream": "stdout",
       "text": [
        "accuracy scores = [ 0.86277837  0.9         0.8934949   0.86805703],0.881082574571\n"
       ]
      },
      {
       "output_type": "stream",
       "stream": "stdout",
       "text": [
        "macro precision scores = [ 0.86159664  0.90004004  0.89167683  0.86762325],0.880234189286\n"
       ]
      },
      {
       "output_type": "stream",
       "stream": "stdout",
       "text": [
        "macro recall scores = [ 0.85550598  0.89762772  0.88760528  0.86485471],0.876398420832\n"
       ]
      },
      {
       "output_type": "stream",
       "stream": "stdout",
       "text": [
        "macro f1 scores = [ 0.85684329  0.89852951  0.88851905  0.8652824 ],0.87729356156\n"
       ]
      },
      {
       "output_type": "stream",
       "stream": "stdout",
       "text": [
        "weighted average precision scores = [ 0.86318042  0.90021476  0.89439188  0.87069154],0.88211964891\n"
       ]
      },
      {
       "output_type": "stream",
       "stream": "stdout",
       "text": [
        "weighted average recall scores = [ 0.86318042  0.90021476  0.89439188  0.87069154],0.88211964891\n"
       ]
      },
      {
       "output_type": "stream",
       "stream": "stdout",
       "text": [
        "weighted f1 scores = [ 0.86163153  0.89983707  0.89295468  0.86843878],0.880715514358\n",
        "dimensionality: 22262"
       ]
      },
      {
       "output_type": "stream",
       "stream": "stdout",
       "text": [
        "\n",
        "density: 0.897134129907\n",
        "alt.atheism boy scout,darwin,charley,jsn104,moral agency,wrote,tammy,dogma,wingate,cobb,asimov,scout,motto,benedikt,islamic,rushdie,mathew,atheism,atheist,keith\n",
        "comp.graphics raytracing,impulse,tiff,visualization,mpeg,sphere,surface,hacker,fractal,animation,photoshop,viewer,cview,image,polygon,siggraph,pov,3do,3d,graphic\n",
        "comp.os.ms-windows.misc file,w4wg,risc,winfax,nt,doublespace,setup,winqvt,smartdrv,bmp,win,ini,program manager,ax,challenge,supporter,microsoft,win3,cica,window\n",
        "comp.sys.ibm.pc.hardware trinitron,pentium,spec,monitor,modem,motherboard,gosh,motherboards,compaq,smc,irq,mitsumi,pc,vlb,ide,cmos,connect,isa,gateway,bios\n",
        "comp.sys.mac.hardware iifx,macweek,pb,24 hour,floptical,iici,bmug,68040,deskwriter,adb,lciii,se,centris,iisi,quadra,lc,duo,apple,powerbook,mac\n",
        "comp.windows.x subscribe,imake,xwd,pixmap,escaped,event,xwindows,twm,unsubscribe,consortium,openwindows,window manager,x11,xfree86,xlib,server,widget,xterm,x11r5,motif\n",
        "misc.forsale lens,00,cod,deal,cd,calculator,pay,call,summer,obo,snes,camera,sell,interested,asking,wanted,offer,shipping,forsale,sale\n",
        "rec.autos 89,honda,nissan,dumbest,integra,v6,diesel,chevrolet,opel,vw,dealer,toyota,automotive,mustang,warning,oil,geico,ford,auto,car\n",
        "rec.motorcycles stroke,cage,moa,infante,ducati,cager,dog,moto,ranck,yamaha,harley,bmw,kawasaki,helmet,ride,rider,riding,motorcycle,bike,dod\n",
        "rec.sport.baseball cardinal,uniform,marlin,mets,morris,hitter,nl,fenway,sox,stadium,ball,brave,tiger,dodger,pitcher,cub,yankee,giant,phillies,baseball\n",
        "rec.sport.hockey goal,octopus,cup,oiler,pen,wing,detroit,wc,leaf,puck,buffalo,islander,shark,penguin,espn,goalie,bruin,playoff,nhl,hockey\n",
        "sci.crypt de,escrow,denning,rsa,sternlight,privacy,secret,tempest,key,crypt,cipher,pgp,security,nsa,wiretap,cryptography,crypto,encryption,tapped,clipper\n",
        "sci.electronics noise,led,copy,resistor,pcb,256k,2600,spice,exploding,solvent,motorola,voltage,8051,rf,disk copy,ic,copy protected,scope,electronics,circuit\n",
        "sci.med treatment,needle,health,skin,seizure,pregnency,migraine,patient,medicine,exercise,allergic,cancer,medical,msg,disease,ear,krillean,med,photography,doctor\n",
        "sci.space aurora,dietz,flight,funding,astronomy,gamma ray,dc,astro,satellite,spacecraft,mar,rocket,pat,planet,sky,launch,orbit,shuttle,moon,space\n",
        "soc.religion.christian christianity,hell,james,catholic,moderator,christian,prayer,christ,arrogance,1993,easter,sin,geneva,daily,verse,church,kiefer,rutgers,athos,clh\n",
        "talk.politics.guns senate,cnn,weaver,hunting,burn,militia,regulated,fbi,acronym,liberty,nra,handgun,quisling,waco,dividian,weapon,ranch,firearm,atf,gun\n",
        "talk.politics.mideast elia,hezbollah,holocaust,racism,hamas,muslim,zionism,argic,uva,jew,serdar,adl,andi,angmar,palestinian,turkish,arab,armenian,israeli,israel\n",
        "talk.politics.misc mail address,kinsey,police state,president,initiative,celebrate,drug,state,hostage,gay,garrett,optilink,mow,sexual,clayton,teel,wetware,cramer,kaldis,top ten\n",
        "talk.religion.misc christian morality,new age,robert wei,tyre,thyagi,happened,hare,brian,sword,rawlins,abortion,mormon,new religion,hudson,rosicrucian,666,2000,beast,burden,promise\n",
        "ng20_raw_lemmas_unigrams_stopwords_df0.0005_tf1 ^ ng20_raw_lemmas_bigrams_stopwords_df0.0005_tf1 ^ wiki_wiktionary_google_bigrams_vw  -->  precision  0.880234189286 recall  0.876398420832 f1  0.87729356156\n",
        "loaded (3985) terms"
       ]
      },
      {
       "output_type": "stream",
       "stream": "stdout",
       "text": [
        "\n",
        "extended to (6665) terms\n",
        "done loading vocabulary\n",
        "vectorizing done, 6665 terms vocabulary tokenized"
       ]
      },
      {
       "output_type": "stream",
       "stream": "stdout",
       "text": [
        "\n",
        "vectorizing done, 6665 terms vocabulary tokenized\n"
       ]
      },
      {
       "output_type": "stream",
       "stream": "stdout",
       "text": [
        "accuracy scores = [ 0.80148462  0.84267516  0.83694728  0.79868057],0.819946908006\n"
       ]
      },
      {
       "output_type": "stream",
       "stream": "stdout",
       "text": [
        "macro precision scores = [ 0.79964396  0.84056835  0.83321654  0.79882213],0.818062745082\n"
       ]
      },
      {
       "output_type": "stream",
       "stream": "stdout",
       "text": [
        "macro recall scores = [ 0.79423686  0.83941704  0.82940879  0.79464923],0.814427981174\n"
       ]
      },
      {
       "output_type": "stream",
       "stream": "stdout",
       "text": [
        "macro f1 scores = [ 0.79502001  0.8396611   0.82980291  0.79558757],0.815017898973\n"
       ]
      },
      {
       "output_type": "stream",
       "stream": "stdout",
       "text": [
        "weighted average precision scores = [ 0.80176167  0.84212215  0.83708813  0.80254105],0.820878249557\n"
       ]
      },
      {
       "output_type": "stream",
       "stream": "stdout",
       "text": [
        "weighted average recall scores = [ 0.80176167  0.84212215  0.83708813  0.80254105],0.820878249557\n"
       ]
      },
      {
       "output_type": "stream",
       "stream": "stdout",
       "text": [
        "weighted f1 scores = [ 0.80000819  0.84209674  0.83573248  0.79949892],0.819334085593\n",
        "dimensionality: 6665"
       ]
      },
      {
       "output_type": "stream",
       "stream": "stdout",
       "text": [
        "\n",
        "density: 0.787666916729\n",
        "alt.atheism fred rice,john cooper,tu,jehovah witness,eternal damnation,mark mccullough,mccullough,bobby,cobb,boy scout,gulf war,vice,moral agency,scout,atheist,islamic law,atheism,islamic,healy,keith\n",
        "comp.graphics map,rgb,hacker,point,tracing,hacker ethic,tiff,visualization,viewer,virtual reality,surface,42,temp file,photoshop,algorithm,image,siggraph,pov,3d,graphic\n",
        "comp.os.ms-windows.misc mirror,swap file,brett,visual basic,m,nt,netware,hp deskjet,indiana,bmp,14,setup,desktop,print manager,download,instruction set,program manager,ini,window,microsoft\n",
        "comp.sys.ibm.pc.hardware ide,silicon graphic,16550,blaster,burn,486,monitor,austin,date,isa,pc,hardware problem,laserjet,robert,blue wave,17,spec,refresh,bios,gateway\n",
        "comp.sys.mac.hardware mail order,imagewriter,global village,po,clock speed,950,price drop,pd slot,run window,se,iici,24 hour,centris,duo,quadra,lc,apple,iisi,powerbook,mac\n",
        "comp.windows.x sun,color,client,device driver,hp 9000,return,man page,mit,depth,binary,window system,display,sparc,default,script,event,widget,server,window manager,motif\n",
        "misc.forsale apartment,deck,ticket,fax modem,laptop,call,deal,brand new,cd,trade,sega,summer,sell,original,unix pc,camera,wanted,asking,shipping,sale\n",
        "rec.autos driving,contact person,viper,consumer report,engine,sho,concept,license plate,insurance company,oil,wagon,opel,dealer,toyota,mustang,warning,geico,ford,auto,car\n",
        "rec.motorcycles michigan,wave,svoboda,asphaug,route,robinson,82,chain,curtis jackson,honda,sutherland,hawk gt,moa,dog,shaft drive,ed green,helmet,rider,riding,bike\n",
        "rec.sport.baseball hernandez,winfield,jack morris,home run,mattingly,rockies,batting,marlin,batter,hr,sox,bill james,tiger,hitter,ball,brave,pitcher,cub,phillies,baseball\n",
        "rec.sport.hockey final,cherry,lemieux,cup,season,buffalo,leaf,coach,islander,pit,goal,detroit,espn,oiler,penguin,goalie,bruin,playoff,nhl,hockey\n",
        "sci.crypt fifth,holland,attack,code,random,key,trust,secret source,fifth amendment,escrow,denning,privacy,pgp,security,secret,cipher,encryption,crypto,cryptography,clipper\n",
        "sci.electronics noise,electrical,distance,cable company,style,power signal,re power,led,cooling tower,filter,2600,duct,tv,duct tape,voltage,disk copy,copy protected,apple mac,electronics,circuit\n",
        "sci.med scientist,eye,food,information,cause,diet,sure fire,gordon,health,infection,patient,treatment,cancer,medical,allergic,med,disease,gordon bank,doctor,photography\n",
        "sci.space telescope,mission,exploration,tommy mac,orion,funding,astronomy,satellite,pat,mar,spacecraft,gamma ray,planet,rocket,launch,shuttle,sky,moon,orbit,space\n",
        "soc.religion.christian sex education,homosexuality issue,dead sea,lewis,second coming,temple,translation,married,original sin,judgement,prayer,christian,sin,james,easter,church,catholic,christ,daily,1993\n",
        "talk.politics.guns blast,neil smith,examiner,liberty,stratus,non lethal,rifle,weaver,fbi,socialist leader,cochrane,whitehead,cnn,free state,waco,hunting,weapon,burn,atf,gun\n",
        "talk.politics.mideast bosnian,soldier,policy,armenia,occupied,mcgill,spying,warsaw,bosnians,holocaust,palestinian,freedom,jew,turkish,argic,serdar,arab,armenian,israel,israeli\n",
        "talk.politics.misc liberal,secretary,state,selective service,usa,good neighbor,drug,bashing,kinsey,mitchell todd,economic,ted frank,gay,baker,clayton,sexual,garrett,police state,cramer,top ten\n",
        "talk.religion.misc southern baptist,sabin,open mind,albert sabin,malcolm lee,commandment,ancient,southern,loving god,apr,wei,hudson,john king,mormon,rosicrucian,brian,new age,robert wei,2000,new religion\n",
        "ng20_raw_lemmas_bigrams_stopwords_df0.0005_tf1 ^ wiki_wiktionary_google_bigrams_vw (extended unigrams) -->  precision  0.818062745082 recall  0.814427981174 f1  0.815017898973\n",
        "loaded (15275) terms\n",
        "vectorizing done, 15275 terms vocabulary tokenized"
       ]
      },
      {
       "output_type": "stream",
       "stream": "stdout",
       "text": [
        "\n",
        "vectorizing done, 15275 terms vocabulary tokenized"
       ]
      },
      {
       "output_type": "stream",
       "stream": "stdout",
       "text": [
        "\n"
       ]
      },
      {
       "output_type": "stream",
       "stream": "stdout",
       "text": [
        "accuracy scores = [ 0.85599152  0.89830149  0.88605442  0.86273675],0.875771044226\n"
       ]
      },
      {
       "output_type": "stream",
       "stream": "stdout",
       "text": [
        "macro precision scores = [ 0.85372792  0.89799397  0.88481275  0.86180126],0.874583974841\n"
       ]
      },
      {
       "output_type": "stream",
       "stream": "stdout",
       "text": [
        "macro recall scores = [ 0.84831269  0.8958904   0.88025604  0.85952294],0.870995518195\n"
       ]
      },
      {
       "output_type": "stream",
       "stream": "stdout",
       "text": [
        "macro f1 scores = [ 0.84943824  0.89674532  0.88125166  0.85986068],0.871823974525\n"
       ]
      },
      {
       "output_type": "stream",
       "stream": "stdout",
       "text": [
        "weighted average precision scores = [ 0.85587672  0.89848409  0.88716553  0.86485112],0.876594366667\n"
       ]
      },
      {
       "output_type": "stream",
       "stream": "stdout",
       "text": [
        "weighted average recall scores = [ 0.85587672  0.89848409  0.88716553  0.86485112],0.876594366667\n"
       ]
      },
      {
       "output_type": "stream",
       "stream": "stdout",
       "text": [
        "weighted f1 scores = [ 0.85470456  0.89821974  0.88547369  0.86302051],0.875354624363\n",
        "dimensionality: 15275"
       ]
      },
      {
       "output_type": "stream",
       "stream": "stdout",
       "text": [
        "\n",
        "density: 0.925355155483\n",
        "alt.atheism liar,cruel,wrote,mango,darwin,wingat,tammi,jsn104,dogma,cobb,motto,asimov,benedikt,islam,mathew,rushdi,atheist,atheism,scout,keith\n",
        "comp.graphics targa,tiff,sphere,anim,mpeg,impuls,surfac,fractal,raytrac,photoshop,viewer,imag,polygon,hacker,cview,siggraph,pov,3do,3d,graphic\n",
        "comp.os.ms-windows.misc swap,w4wg,progman,winfax,workgroup,doublespac,winqvt,setup,file,smartdrv,ini,risc,win,bmp,ax,challeng,cica,microsoft,win3,window\n",
        "comp.sys.ibm.pc.hardware ide,smc,connect,pentium,i486,connector,cmo,vlb,59,spec,interrupt,irq,gosh,isa,motherboard,laserjet,mitsumi,winmark,bio,gateway\n",
        "comp.sys.mac.hardware syquest,cyclon,040,pb,macweek,adb,bmug,deskwrit,iici,68040,lciii,iisi,se,quadra,lc,centri,appl,duo,powerbook,mac\n",
        "comp.windows.x pixmap,script,xdm,r5,xwd,imak,xwindow,event,unsubscrib,openwindow,twm,consortium,xfree86,x11,xlib,server,widget,xterm,x11r5,motif\n",
        "misc.forsale 00,traci,calcul,deal,buyer,interest,cod,airlin,3b1,pay,camera,sne,sell,includ,obo,summer,ship,offer,forsal,sale\n",
        "rec.autos sunroof,shift,nissan,diesel,integra,v6,dumbest,opel,dealer,vw,toyota,truck,warn,mustang,oil,automot,ford,geico,auto,car\n",
        "rec.motorcycles winona,piec,moto,ducati,cage,moa,cager,dog,ranck,yamaha,biker,harley,kawasaki,bmw,helmet,rider,ride,motorcycl,bike,dod\n",
        "rec.sport.baseball uniform,marlin,mattingli,cardin,nl,fenway,ball,tiger,morri,stadium,pitch,brave,dodger,pitcher,sox,cub,yanke,giant,philli,basebal\n",
        "rec.sport.hockey probert,pen,gerald,goal,cherri,wc,cup,wing,buffalo,puck,detroit,leaf,penguin,shark,espn,goali,bruin,playoff,nhl,hockey\n",
        "sci.crypt rsa,de,overreact,privaci,sternlight,secret,key,tempest,lobbi,crypt,cipher,pgp,secur,nsa,wiretap,cryptographi,crypto,encrypt,tap,clipper\n",
        "sci.electronics resistor,adcom,protect,shack,dsp,explod,pcb,rf,motorola,8051,spice,solvent,256k,copi,2600,voltag,ic,scope,electron,circuit\n",
        "sci.med cure,treatment,patient,prozac,seizur,migrain,effect,pregnenc,exercis,medicin,cancer,allerg,ear,msg,diseas,medic,med,krillean,photographi,doctor\n",
        "sci.space nasa,flight,solar,sunset,burster,dietz,dc,astronomi,satellit,mar,rocket,spacecraft,pat,planet,sky,launch,shuttl,moon,orbit,space\n",
        "soc.religion.christian bless,ceremoni,jame,cathol,sin,fisher,christ,prayer,christian,1993,vers,arrog,easter,church,geneva,daili,kiefer,rutger,atho,clh\n",
        "talk.politics.guns cipriani,cathi,crari,cdt,burn,weaver,militia,acronym,fbi,nra,handgun,liberti,dividian,waco,quisl,weapon,ranch,firearm,atf,gun\n",
        "talk.politics.mideast ucdavi,hezbollah,occupi,hama,jerusalem,argic,elia,zionism,holocaust,uva,jew,adl,serdar,palestinian,bosnian,turkish,arab,armenian,isra,israel\n",
        "talk.politics.misc secretari,drug,percentag,liber,presid,violenc,incom,gay,employ,hostag,initi,mow,sexual,optilink,garrett,clayton,teel,wetwar,cramer,kaldi\n",
        "talk.religion.misc tyre,kendig,royalroad,mormon,sabin,thyagi,abort,hare,brian,biblic,sword,promis,rawlin,666,beast,hudson,weiss,rosicrucian,2000,burden\n",
        "ng20_raw_stems_unigrams_stopwords_df0.0005_tf1  -->  precision  0.874583974841 recall  0.870995518195 f1  0.871823974525\n",
        "loaded (39830) terms"
       ]
      },
      {
       "output_type": "stream",
       "stream": "stdout",
       "text": [
        "\n",
        "vectorizing done, 39830 terms vocabulary tokenized"
       ]
      },
      {
       "output_type": "stream",
       "stream": "stdout",
       "text": [
        "\n",
        "vectorizing done, 39830 terms vocabulary tokenized"
       ]
      },
      {
       "output_type": "stream",
       "stream": "stdout",
       "text": [
        "\n"
       ]
      },
      {
       "output_type": "stream",
       "stream": "stdout",
       "text": [
        "accuracy scores = [ 0.86892895  0.90870488  0.89540816  0.87486699],0.886977247407\n"
       ]
      },
      {
       "output_type": "stream",
       "stream": "stdout",
       "text": [
        "macro precision scores = [ 0.86817963  0.90894412  0.89459862  0.87485514],0.886644379047\n"
       ]
      },
      {
       "output_type": "stream",
       "stream": "stdout",
       "text": [
        "macro recall scores = [ 0.86190174  0.90691258  0.88996381  0.87223826],0.882754098661\n"
       ]
      },
      {
       "output_type": "stream",
       "stream": "stdout",
       "text": [
        "macro f1 scores = [ 0.86325345  0.90775492  0.8911116   0.87274402],0.883715999016\n"
       ]
      },
      {
       "output_type": "stream",
       "stream": "stdout",
       "text": [
        "weighted average precision scores = [ 0.86939177  0.90911259  0.89634956  0.87676924],0.887905791314\n"
       ]
      },
      {
       "output_type": "stream",
       "stream": "stdout",
       "text": [
        "weighted average recall scores = [ 0.86939177  0.90911259  0.89634956  0.87676924],0.887905791314\n"
       ]
      },
      {
       "output_type": "stream",
       "stream": "stdout",
       "text": [
        "weighted f1 scores = [ 0.86778655  0.90875045  0.89486641  0.87504042],0.886610955964\n",
        "dimensionality: 39830"
       ]
      },
      {
       "output_type": "stream",
       "stream": "stdout",
       "text": [
        "\n",
        "density: 0.758758473512\n",
        "alt.atheism cobb,tammi,re islam,liar,wingat,darwin,jsn104,dogma,benedikt,polit atheist,re polit,motto,mathew,asimov,islam,scout,rushdi,keith,atheism,atheist\n",
        "comp.graphics hacker ethic,virtual realiti,impuls,tiff,mpeg,anim,surfac,photoshop,viewer,fractal,raytrac,cview,hacker,polygon,imag,siggraph,3do,pov,3d,graphic\n",
        "comp.os.ms-windows.misc w4wg,risc,driver,ax ax,doublespac,smartdrv,ini,win,file,challeng,setup,bmp,winqvt,program manag,re challeng,microsoft support,cica,win3,microsoft,window\n",
        "comp.sys.ibm.pc.hardware walli,compaq,vlb,smc,pentium,interrupt,modem,spec,winmark,isa,monitor,connector,pc,cmo,mitsumi,motherboard,ide,irq,gateway,bio\n",
        "comp.sys.mac.hardware iifx,floptic,pb,iici,re monitor,68040,macweek,deskwrit,adb,se 30,se,lciii,iisi,quadra,centri,lc,duo,powerbook,appl,mac\n",
        "comp.windows.x pixmap,comp window,xwd,xdm,event,imak,xwindow,openwindow,twm,unsubscrib,consortium,xfree86,window manag,x11,xlib,server,widget,xterm,x11r5,motif\n",
        "misc.forsale origin,cod,ask,interest,condit,interest pleas,airlin,cd,00,pay,sne,includ,camera,sell,summer,obo,ship,offer,forsal,sale\n",
        "rec.autos 89,diesel,nissan,shift,honda,sunroof,opel,integra,re warn,vw,warn pleas,truck,toyota,mustang,dealer,oil,geico,ford,auto,car\n",
        "rec.motorcycles wave,shim,ama,ranck,moa,ducati,cager,cage,dog,yamaha,biker,harley,kawasaki,helmet,bmw,rider,ride,motorcycl,bike,dod\n",
        "rec.sport.baseball cardin,hitter,uniform,bat,nl,morri,sox,ball,fenway,dodger,tiger,stadium,pitch,brave,pitcher,cub,giant,yanke,philli,basebal\n",
        "rec.sport.hockey team,pen,oiler,wc,wing,detroit,island,cup,puck,goal,buffalo,shark,leaf,penguin,espn,goali,bruin,playoff,nhl,hockey\n",
        "sci.crypt secret,tempest,rsa,privaci,lobbi,good ani,crypt,key,onc tap,re onc,cipher,tap,nsa,pgp,secur,wiretap,cryptographi,crypto,encrypt,clipper\n",
        "sci.electronics bubblejet,led,solvent,nois,pcb,tv,dsp,explod,disk copi,motorola,rf,2600,spice,8051,voltag,ic,scope,electron,copi protect,circuit\n",
        "sci.med diet,needl,migrain,patient,seizur,krillean photographi,effect,treatment,krillean,medicin,exercis,allerg,msg,ear,photographi,cancer,diseas,med,medic,doctor\n",
        "sci.space littl research,fund,flight,gamma ray,nasa,re space,dc,astronomi,satellit,spacecraft,mar,sky,rocket,planet,pat,launch,shuttl,moon,orbit,space\n",
        "soc.religion.christian bless,prayer,jame,geneva rutger,cathol,daili vers,sin,subject daili,arrog,jame kiefer,kiefer,easter,rutger,christian,christ,rutger edu,atho rutger,atho,church,clh\n",
        "talk.politics.guns dividian ranch,hunt,burn dividian,weaver,atf burn,militia,re atf,re cnn,fbi,liberti,re batf,ranch,handgun,quisl,nra,waco,weapon,atf,firearm,gun\n",
        "talk.politics.mideast occupi,elia,argic,racism,iran,muslim,hama,jerusalem,zionism,uva,serdar,adl,jew,bosnian,palestinian,turkish,arab,armenian,isra,israel\n",
        "talk.politics.misc"
       ]
      },
      {
       "output_type": "stream",
       "stream": "stdout",
       "text": [
        " new studi,liber,hostag,presid,employ,drug,tax,gay,re top,garrett,optilink,violenc,mow,sexual,teel,wetwar,clayton,kaldi,cramer,top ten\n",
        "talk.religion.misc jesu die,weiss,christian moral,robert weiss,mormon,tyre,thyagi,hare,rawlin,abort,sword,rosicrucian,hudson,666,beast,93 god,2000,burden,god promis,re messag\n",
        "ng20_raw_stems_bigrams_stopwords_df0.0005_tf1  -->  precision  0.886644379047 recall  0.882754098661 f1  0.883715999016\n",
        "loaded (19073) terms"
       ]
      },
      {
       "output_type": "stream",
       "stream": "stdout",
       "text": [
        "\n",
        "vectorizing done, 19073 terms vocabulary tokenized"
       ]
      },
      {
       "output_type": "stream",
       "stream": "stdout",
       "text": [
        "\n",
        "vectorizing done, 19073 terms vocabulary tokenized"
       ]
      },
      {
       "output_type": "stream",
       "stream": "stdout",
       "text": [
        "\n"
       ]
      },
      {
       "output_type": "stream",
       "stream": "stdout",
       "text": [
        "accuracy scores = [ 0.86002121  0.90127389  0.8892432   0.86316237],0.878425166628\n"
       ]
      },
      {
       "output_type": "stream",
       "stream": "stdout",
       "text": [
        "macro precision scores = [ 0.85822949  0.90124235  0.88822863  0.86242709],0.877531893526\n"
       ]
      },
      {
       "output_type": "stream",
       "stream": "stdout",
       "text": [
        "macro recall scores = [ 0.85249892  0.89895294  0.88322503  0.86014837],0.873706314341\n"
       ]
      },
      {
       "output_type": "stream",
       "stream": "stdout",
       "text": [
        "macro f1 scores = [ 0.85372506  0.8998398   0.88437094  0.86047934],0.87460378583\n"
       ]
      },
      {
       "output_type": "stream",
       "stream": "stdout",
       "text": [
        "weighted average precision scores = [ 0.86013205  0.90138826  0.89066575  0.86533152],0.879379396086\n"
       ]
      },
      {
       "output_type": "stream",
       "stream": "stdout",
       "text": [
        "weighted average recall scores = [ 0.86013205  0.90138826  0.89066575  0.86533152],0.879379396086\n"
       ]
      },
      {
       "output_type": "stream",
       "stream": "stdout",
       "text": [
        "weighted f1 scores = [ 0.85883704  0.90110527  0.88876443  0.86346321],0.878042491037\n",
        "dimensionality: 19073"
       ]
      },
      {
       "output_type": "stream",
       "stream": "stdout",
       "text": [
        "\n",
        "density: 0.893493420018\n",
        "alt.atheism cruel,mango,wrote,darwin,tammi,wingat,moral agenc,cobb,jsn104,dogma,motto,asimov,benedikt,islam,scout,mathew,rushdi,atheism,atheist,keith\n",
        "comp.graphics hacker ethic,anim,virtual realiti,mpeg,surfac,tiff,impuls,fractal,raytrac,photoshop,hacker,viewer,imag,polygon,cview,siggraph,pov,3do,3d,graphic\n",
        "comp.os.ms-windows.misc printer driver,w4wg,workgroup,risc,file,winfax,doublespac,setup,winqvt,ini,smartdrv,win,bmp,program manag,ax,challeng,cica,win3,microsoft,window\n",
        "comp.sys.ibm.pc.hardware pentium,i486,pc,smc,modem,connector,gosh,ide,59,vlb,spec,interrupt,cmo,irq,mitsumi,isa,winmark,motherboard,bio,gateway\n",
        "comp.sys.mac.hardware syquest,iifx,pb,24 hour,iici,macweek,deskwrit,bmug,adb,68040,lciii,centri,se,quadra,lc,iisi,duo,appl,powerbook,mac\n",
        "comp.windows.x pixmap,r5,xdm,imak,event,xwindow,xwd,unsubscrib,openwindow,twm,consortium,xfree86,window manag,x11,xlib,server,widget,xterm,x11r5,motif\n",
        "misc.forsale calcul,size,00,3b1,buyer,traci,cod,airlin,interest,pay,camera,sell,sne,summer,includ,obo,ship,offer,forsal,sale\n",
        "rec.autos licens plate,integra,sunroof,diesel,shift,dumbest,opel,v6,dealer,vw,truck,mustang,warn,toyota,oil,automot,ford,geico,auto,car\n",
        "rec.motorcycles wave,stroke,moto,moa,cage,ducati,cager,dog,ranck,yamaha,biker,kawasaki,harley,bmw,helmet,rider,ride,motorcycl,bike,dod\n",
        "rec.sport.baseball bat,uniform,morri,hitter,marlin,nl,sox,ball,fenway,tiger,pitch,stadium,dodger,brave,pitcher,cub,yanke,giant,philli,basebal\n",
        "rec.sport.hockey oiler,gerald,pen,wing,goal,cup,island,wc,puck,detroit,buffalo,leaf,penguin,espn,shark,goali,bruin,playoff,nhl,hockey\n",
        "sci.crypt den,rsa,sternlight,secret,overreact,privaci,key,tempest,lobbi,crypt,cipher,pgp,nsa,secur,wiretap,cryptographi,crypto,encrypt,tap,clipper\n",
        "sci.electronics bubblejet,led,resistor,dsp,explod,pcb,256k,2600,motorola,spice,solvent,rf,8051,disk copi,voltag,ic,scope,electron,copi protect,circuit\n",
        "sci.med effect,patient,prozac,pregnenc,treatment,health,seizur,migrain,exercis,medicin,allerg,cancer,ear,diseas,msg,med,krillean,medic,photographi,doctor\n",
        "sci.space sunris,hst,flight,sunset,dietz,dc,gamma ray,satellit,astronomi,mar,rocket,spacecraft,pat,planet,sky,launch,shuttl,moon,orbit,space\n",
        "soc.religion.christian joe fisher,ceremoni,hell,sin,cathol,prayer,jame,arrog,1993,christian,christ,easter,vers,geneva,church,kiefer,daili,rutger,atho,clh\n",
        "talk.politics.guns ban,crari,cnn,cdt,weaver,burn,militia,acronym,fbi,handgun,liberti,nra,dividian,quisl,waco,weapon,ranch,firearm,atf,gun\n",
        "talk.politics.mideast ucdavi,hama,occupi,hezbollah,argic,jerusalem,elia,zionism,holocaust,uva,serdar,jew,adl,palestinian,bosnian,turkish,arab,armenian,isra,israel\n",
        "talk.politics.misc deficit,presid,liber,mail address,drug,violenc,employ,gay,initi,mow,hostag,sexual,optilink,garrett,clayton,teel,wetwar,cramer,kaldi,top ten\n",
        "talk.religion.misc christian moral,kendig,tyre,thyagi,new age,mormon,robert weiss,hare,abort,brian,sword,rosicrucian,rawlin,666,promis,hudson,beast,new religion,2000,burden\n",
        "ng20_raw_stems_unigrams_stopwords_df0.0005_tf1 ^ ng20_raw_stems_bigrams_stopwords_df0.0005_tf1 ^ wiki_bigrams  -->  precision  0.877531893526 recall  0.873706314341 f1  0.87460378583\n",
        "loaded (3798) terms"
       ]
      },
      {
       "output_type": "stream",
       "stream": "stdout",
       "text": [
        "\n",
        "extended to (6351) terms\n",
        "done loading vocabulary\n",
        "vectorizing done, 6351 terms vocabulary tokenized"
       ]
      },
      {
       "output_type": "stream",
       "stream": "stdout",
       "text": [
        "\n",
        "vectorizing done, 6351 terms vocabulary tokenized\n"
       ]
      },
      {
       "output_type": "stream",
       "stream": "stdout",
       "text": [
        "accuracy scores = [ 0.79724284  0.83779193  0.83439626  0.80229836],0.817932348477\n"
       ]
      },
      {
       "output_type": "stream",
       "stream": "stdout",
       "text": [
        "macro precision scores = [ 0.79553614  0.83599958  0.83160746  0.80219588],0.816334766681\n"
       ]
      },
      {
       "output_type": "stream",
       "stream": "stdout",
       "text": [
        "macro recall scores = [ 0.78776612  0.83518325  0.82737745  0.79908174],0.812352140173\n"
       ]
      },
      {
       "output_type": "stream",
       "stream": "stdout",
       "text": [
        "macro f1 scores = [ 0.78857036  0.83539207  0.82809065  0.7995258 ],0.812894721016\n"
       ]
      },
      {
       "output_type": "stream",
       "stream": "stdout",
       "text": [
        "weighted average precision scores = [ 0.7977873   0.83803203  0.834737    0.80575088],0.81907680332\n"
       ]
      },
      {
       "output_type": "stream",
       "stream": "stdout",
       "text": [
        "weighted average recall scores = [ 0.7977873   0.83803203  0.834737    0.80575088],0.81907680332\n"
       ]
      },
      {
       "output_type": "stream",
       "stream": "stdout",
       "text": [
        "weighted f1 scores = [ 0.79507865  0.8377089   0.83334107  0.80293895],0.817266892437\n",
        "dimensionality: 6351"
       ]
      },
      {
       "output_type": "stream",
       "stream": "stdout",
       "text": [
        "\n",
        "density: 0.803802550779\n",
        "alt.atheism mccullough,mark mccullough,fuller,one true,rice,fred rice,damnat,vice,cobb,etern damnat,gulf war,moral agenc,bobbi,islam law,atheist,scout,islam,atheism,heali,keith\n",
        "comp.graphics vesa,color imag,anoth,algorithm,tiff,surfac,point,anim,hacker ethic,hacker,42,temp file,virtual realiti,imag,viewer,photoshop,siggraph,pov,3d,graphic\n",
        "comp.os.ms-windows.misc win nt,hp deskjet,nt,vu,thi space,desktop,bmp,indiana,win,dark,14,netwar,visual basic,setup,workgroup,instruct set,program manag,ini,window,microsoft\n",
        "comp.sys.ibm.pc.hardware conner,tseng lab,monitor,blue wave,date,ide,robert,486,memori manag,file server,ben,spec,atari,isa,laserjet,silicon graphic,17,cmo,bio,gateway\n",
        "comp.sys.mac.hardware hardwar,soft,950,zone,laser printer,compar,global villag,price drop,pd slot,se,iici,24 hour,centri,lc,duo,quadra,appl,iisi,powerbook,mac\n",
        "comp.windows.x devic driver,comput scienc,mit,read onli,sun,man page,client,hp 9000,dump,window system,sparc,depth,display,script,event,escap,widget,server,window manag,motif\n",
        "misc.forsale deal,fax modem,laptop,interest,cd,size,origin,pay,trade,record,sell,advertis,right arm,camera,sega,includ,summer,unix pc,ask,sale\n",
        "rec.autos bumper,bmw,engin,sho,concept,licens plate,insur compani,consum report,shift,opel,oil,wagon,dealer,toyota,mustang,warn,geico,ford,auto,car\n",
        "rec.motorcycles svoboda,bar,michigan,curti jackson,asphaug,robinson,wave,honda,chain,bmw,82,shaft drive,hawk gt,sutherland,dog,moa,ed green,rider,ride,bike\n",
        "rec.sport.baseball batter,red sox,mattingli,morri,hit,hr,marlin,tiger,sox,hernandez,bill jame,ball,bat,hitter,pitch,brave,cardin,cub,philli,basebal\n",
        "rec.sport.hockey island,cup,final,season,buffalo,probert,lemieux,pit,coach,leaf,goal,detroit,goali,espn,oiler,penguin,bruin,playoff,nhl,hockey\n",
        "sci.crypt attack,key,fifth,anonym,implement,trust,random,secret sourc,fifth amend,secret,escrow,privaci,pgp,secur,cipher,crypto,cryptographi,encrypt,clipper,tap\n",
        "sci.electronics distanc,de bari,led,filter,ground,zero,develop tool,cool tower,disk copi,2600,tv,duct,re power,assembl,duct tape,appl mac,voltag,electron,copi protect,circuit\n",
        "sci.med inform,medicin,gordon,infect,eye,health,sure fire,effect,treatment,inject,food,patient,cancer,allerg,med,medic,diseas,doctor,gordon bank,photographi\n",
        "sci.space fund,telescop,astronomi,nuclear wast,orion,tommi mac,satellit,mission,mar,pat,planet,gamma ray,spacecraft,rocket,launch,shuttl,sky,moon,orbit,space\n",
        "soc.religion.christian bless,oakland,broken,apr 10,question author,sin,answer thi,andrew kill,sex educ,jame,origin sin,christian,judgement,easter,prayer,cathol,church,christ,daili,1993\n",
        "talk.politics.guns non lethal,brent,liberti,senat,stratu,free state,ban,examin,socialist leader,weaver,whitehead,burn,rifl,fbi,hunt,waco,weapon,dividian,atf,gun\n",
        "talk.politics.mideast soldier,brad,mcgill,hate,holocaust memori,warsaw,armenia,occupi,freedom,palestinian,holocaust,jew,argic,bosnian,turkish,serdar,arab,armenian,israel,isra\n",
        "talk.politics.misc cigarett,drug,tax,liber,incom tax,kinsey,one act,good neighbor,mitchel todd,econom,select servic,ted frank,sexual,gay,baker,polic state,clayton,garrett,cramer,top ten\n",
        "talk.religion.misc albert sabin,talk origin,moment,materi,southern baptist,john king,ancient,open mind,biblic contradict,weiss,rosicrucian,malcolm lee,new age,brian,hudson,mormon,promis,robert weiss,2000,new religion\n",
        "ng20_raw_stems_bigrams_stopwords_df0.0005_tf1 ^ wiki_bigrams (extended unigrams) -->  precision  0.816334766681 recall  0.812352140173 f1  0.812894721016\n",
        "loaded (16399) terms"
       ]
      },
      {
       "output_type": "stream",
       "stream": "stdout",
       "text": [
        "\n",
        "vectorizing done, 16399 terms vocabulary tokenized"
       ]
      },
      {
       "output_type": "stream",
       "stream": "stdout",
       "text": [
        "\n",
        "vectorizing done, 16399 terms vocabulary tokenized"
       ]
      },
      {
       "output_type": "stream",
       "stream": "stdout",
       "text": [
        "\n"
       ]
      },
      {
       "output_type": "stream",
       "stream": "stdout",
       "text": [
        "accuracy scores = [ 0.85874867  0.90084926  0.88818027  0.86124707],0.877256319324\n"
       ]
      },
      {
       "output_type": "stream",
       "stream": "stdout",
       "text": [
        "macro precision scores = [ 0.85619535  0.90063683  0.88703349  0.86010878],0.875993610254\n"
       ]
      },
      {
       "output_type": "stream",
       "stream": "stdout",
       "text": [
        "macro recall scores = [ 0.85129186  0.89863802  0.8823023   0.8580281 ],0.872565068482\n"
       ]
      },
      {
       "output_type": "stream",
       "stream": "stdout",
       "text": [
        "macro f1 scores = [ 0.85244477  0.89944044  0.88334994  0.85839206],0.873406804251\n"
       ]
      },
      {
       "output_type": "stream",
       "stream": "stdout",
       "text": [
        "weighted average precision scores = [ 0.85861864  0.9010095   0.88948323  0.86317491],0.878071569128\n"
       ]
      },
      {
       "output_type": "stream",
       "stream": "stdout",
       "text": [
        "weighted average recall scores = [ 0.85861864  0.9010095   0.88948323  0.86317491],0.878071569128\n"
       ]
      },
      {
       "output_type": "stream",
       "stream": "stdout",
       "text": [
        "weighted f1 scores = [ 0.8576765   0.90075078  0.88766354  0.86156209],0.876913227272\n",
        "dimensionality: 16399"
       ]
      },
      {
       "output_type": "stream",
       "stream": "stdout",
       "text": [
        "\n",
        "density: 0.918921885481\n",
        "alt.atheism jon,cruel,wrote,mango,darwin,wingat,jsn104,tammi,dogma,cobb,motto,asimov,benedikt,islam,mathew,scout,rushdi,atheist,atheism,keith\n",
        "comp.graphics tiff,targa,sphere,impuls,surfac,mpeg,virtual realiti,fractal,raytrac,viewer,photoshop,imag,polygon,cview,hacker,siggraph,pov,3do,3d,graphic\n",
        "comp.os.ms-windows.misc progman,nt,workgroup,w4wg,winfax,setup,risc,file,winqvt,doublespac,smartdrv,ini,bmp,win,ax,challeng,cica,microsoft,win3,window\n",
        "comp.sys.ibm.pc.hardware connect,pentium,i486,connector,smc,ide,vlb,59,cmo,spec,gosh,interrupt,irq,isa,laserjet,motherboard,mitsumi,winmark,bio,gateway\n",
        "comp.sys.mac.hardware cyclon,syquest,040,pb,macweek,adb,bmug,deskwrit,iici,68040,lciii,iisi,se,quadra,lc,centri,appl,duo,powerbook,mac\n",
        "comp.windows.x openlook,r5,xdm,imak,event,xwindow,xwd,unsubscrib,openwindow,twm,xfree86,consortium,x11,window manag,server,xlib,widget,xterm,x11r5,motif\n",
        "misc.forsale 00,deal,traci,calcul,cod,buyer,airlin,interest,3b1,pay,camera,sell,sne,includ,obo,summer,ship,offer,forsal,sale\n",
        "rec.autos nissan,sunroof,integra,shift,diesel,v6,dumbest,opel,vw,dealer,toyota,warn,truck,mustang,oil,automot,ford,geico,auto,car\n",
        "rec.motorcycles winona,piec,moto,cage,ducati,dog,moa,cager,ranck,yamaha,biker,harley,kawasaki,helmet,bmw,rider,ride,motorcycl,bike,dod\n",
        "rec.sport.baseball hitter,bat,marlin,mattingli,nl,sox,ball,fenway,tiger,pitch,morri,stadium,dodger,brave,pitcher,cub,yanke,giant,philli,basebal\n",
        "rec.sport.hockey pen,goal,island,gerald,wing,wc,cherri,cup,puck,detroit,buffalo,leaf,penguin,shark,espn,goali,bruin,playoff,nhl,hockey\n",
        "sci.crypt rsa,sternlight,privaci,den,overreact,secret,key,tempest,lobbi,crypt,cipher,pgp,secur,wiretap,nsa,cryptographi,crypto,encrypt,tap,clipper\n",
        "sci.electronics led,adcom,eprom,resistor,dsp,explod,pcb,256k,motorola,solvent,rf,2600,spice,8051,voltag,ic,scope,electron,copi protect,circuit\n",
        "sci.med cure,health,treatment,patient,prozac,pregnenc,seizur,migrain,exercis,medicin,allerg,cancer,ear,diseas,msg,med,medic,krillean,doctor,photographi\n",
        "sci.space hst,sunris,sunset,flight,dietz,dc,gamma ray,satellit,astronomi,mar,rocket,spacecraft,pat,planet,sky,launch,shuttl,moon,orbit,space\n",
        "soc.religion.christian roman,sin,ceremoni,jame,fisher,cathol,prayer,christian,1993,christ,vers,arrog,easter,geneva,church,daili,kiefer,rutger,atho,clh\n",
        "talk.politics.guns cipriani,crari,cathi,cdt,burn,weaver,militia,acronym,nra,liberti,fbi,handgun,dividian,waco,quisl,weapon,ranch,firearm,atf,gun\n",
        "talk.politics.mideast hezbollah,ucdavi,occupi,hama,jerusalem,elia,zionism,argic,holocaust,uva,jew,adl,serdar,palestinian,bosnian,turkish,arab,armenian,isra,israel\n",
        "talk.politics.misc pension,deficit,ipser,percentag,drug,liber,violenc,gay,employ,mow,hostag,sexual,initi,garrett,optilink,clayton,wetwar,teel,cramer,kaldi\n",
        "talk.religion.misc koresh,new age,mormon,thyagi,sabin,royalroad,hare,abort,brian,biblic,sword,hudson,rawlin,666,promis,beast,weiss,rosicrucian,2000,burden\n",
        "ng20_raw_stems_unigrams_stopwords_df0.0005_tf1 ^ ng20_raw_stems_bigrams_stopwords_df0.0005_tf1 ^ wiktionary_bigrams  -->  precision  0.875993610254 recall  0.872565068482 f1  0.873406804251\n",
        "loaded (1124) terms"
       ]
      },
      {
       "output_type": "stream",
       "stream": "stdout",
       "text": [
        "\n",
        "extended to (2230) terms\n",
        "done loading vocabulary\n",
        "vectorizing done, 2230 terms vocabulary tokenized"
       ]
      },
      {
       "output_type": "stream",
       "stream": "stdout",
       "text": [
        "\n",
        "vectorizing done, 2230 terms vocabulary tokenized\n"
       ]
      },
      {
       "output_type": "stream",
       "stream": "stdout",
       "text": [
        "accuracy scores = [ 0.68186638  0.73014862  0.72278912  0.69163652],0.706610159473\n"
       ]
      },
      {
       "output_type": "stream",
       "stream": "stdout",
       "text": [
        "macro precision scores = [ 0.67548648  0.72656738  0.71672466  0.69149065],0.702567293357\n"
       ]
      },
      {
       "output_type": "stream",
       "stream": "stdout",
       "text": [
        "macro recall scores = [ 0.67331196  0.72421689  0.71393872  0.68694818],0.699603934556\n"
       ]
      },
      {
       "output_type": "stream",
       "stream": "stdout",
       "text": [
        "macro f1 scores = [ 0.67313953  0.72457477  0.71294712  0.68747342],0.699533711562\n"
       ]
      },
      {
       "output_type": "stream",
       "stream": "stdout",
       "text": [
        "weighted average precision scores = [ 0.68036911  0.73051928  0.72115954  0.69464072],0.70667216283\n"
       ]
      },
      {
       "output_type": "stream",
       "stream": "stdout",
       "text": [
        "weighted average recall scores = [ 0.68036911  0.73051928  0.72115954  0.69464072],0.70667216283\n"
       ]
      },
      {
       "output_type": "stream",
       "stream": "stdout",
       "text": [
        "weighted f1 scores = [ 0.68009693  0.72954208  0.72003846  0.69143482],0.705278071524\n",
        "dimensionality: 2230"
       ]
      },
      {
       "output_type": "stream",
       "stream": "stdout",
       "text": [
        "\n",
        "density: 0.879215246637\n",
        "alt.atheism one anoth,stay,gulf,horror,logic,post,construct logic,moral,two thousand,higher,agenc,fossil,write,polit,po,boy scout,scout,vice,gulf war,islam\n",
        "comp.graphics pictur,gamma,wish list,map,play back,scan line,split,true color,method,textur,ray trace,everi time,trace,comput graphic,point,mapl,input devic,imag,virtual realiti,graphic\n",
        "comp.os.ms-windows.misc roman,cool,charact,run away,swap file,assur,manag,motion,thi time,swap,short cut,desktop,acid rain,hot key,real world,visual basic,give back,vu,instruct set,window\n",
        "comp.sys.ibm.pc.hardware drive,free softwar,control,800 number,cent,master,null modem,amateur radio,bad news,oh yeah,floppi,western,cap lock,data compress,main memori,rosa,model number,atari,protect mode,power sourc\n",
        "comp.sys.mac.hardware discharg,clock speed,monti,desktop,third parti,person comput,cap lock,float point,laser printer,hulk,ass,global villag,comput scientist,system design,home comput,shift key,control panel,logic board,appl,mac\n",
        "comp.windows.x support,long ago,depth,free softwar,middl class,softwar engin,applic,pretti pictur,dump,snail,devic driver,remot,kong,handler,comput scienc,man page,event,server,escap,window manag\n",
        "misc.forsale oh dear,estat,deal,postal,record,interest,access time,pedal,pay,ask,deck,mint,money order,brand new,common sens,camera,sell,comic,work condit,sale\n",
        "rec.autos bird,bring back,drain plug,automat transmiss,rock,look ahead,bumper,explor,licens plate,hear hear,concept,tail light,engin,dealer,shift,wagon,air condit,test drive,insur compani,car\n",
        "rec.motorcycles ursa,ratio,insur,court,stolen,blue book,jerk,write,chain,steer,member,polic offic,hog,north america,shaft,speed ticket,drink,dog,happi easter,unit kingdom\n",
        "rec.sport.baseball suprem,right away,runner,plate,east coast,old man,strike,nation leagu,fan club,jay,make room,hit,sox,ball,spring train,home run,hitter,world seri,bat,basebal\n",
        "rec.sport.hockey player,champion,mask,vancouv,play,north america,penalti,island,final,san jose,golf cours,red wing,cap,radio station,wing,czech,pool,cup,coach,leaf\n",
        "sci.crypt black box,brute forc,cola,core,code,laissez,electromagnet,random,speech,take away,white hous,organ,court order,key,public key,drug dealer,secret,fifth amend,secur,clipper\n",
        "sci.electronics duti cycl,design,radar,lo angel,text file,time clock,life form,project,tv,assembl,ham,2600,duct,cool tower,acid,electron,duct tape,appl mac,circuit,copi protect\n",
        "sci.med eye,placebo,electromagnet field,corona discharg,kidney,long live,intercours,effect,inject,corona,med,health,food,nerv,infect,medicin,clinic,doctor,medic,bank\n",
        "sci.space command,explor,vacuum,human activ,lunar,light pollut,nuclear wast,rocket,space station,hopkin,planet,flight,mission,astronomi,gamma ray,moon,launch,orbit,shuttl,space\n",
        "soc.religion.christian st john,new christian,dead sea,come befor,strictli,sin,etern,roman,immacul concept,new testament,second come,christian,easter,polit correct,cathol,church,judgement,christ,origin sin,sex educ\n",
        "talk.politics.guns buy back,sail,full,crimin,baptist,leader,liberti,elev shaft,nation debt,vice presid,fide,fbi,arrest warrant,id card,rifl,weapon,examin,free state,burn,gun\n",
        "talk.politics.mideast friendli,two hundr,villag,republ,minist,nation,ten,gaza,happi birthday,soviet,human right,freedom,cloud,sexual favor,border,hate,palestinian,expans,polici,arab\n",
        "talk.politics.misc law school,arm forc,ma bell,incom tax,make peac,stimulu,ten,irrat number,cigarett,tantrum,temper tantrum,bank account,econom,mutual,mother natur,sexual,free market,gay,concentr,polic state\n",
        "talk.religion.misc love one,south,better place,black hole,materi,order,ancient,popular,time wa,ten command,public school,true believ,open mind,take part,new age,comput program,southern baptist,fait,internet address,promis\n",
        "ng20_raw_stems_bigrams_stopwords_df0.0005_tf1 ^ wiktionary_bigrams (extended unigrams) -->  precision  0.702567293357 recall  0.699603934556 f1  0.699533711562\n",
        "loaded (17813) terms"
       ]
      },
      {
       "output_type": "stream",
       "stream": "stdout",
       "text": [
        "\n",
        "vectorizing done, 17813 terms vocabulary tokenized"
       ]
      },
      {
       "output_type": "stream",
       "stream": "stdout",
       "text": [
        "\n",
        "vectorizing done, 17813 terms vocabulary tokenized"
       ]
      },
      {
       "output_type": "stream",
       "stream": "stdout",
       "text": [
        "\n"
       ]
      },
      {
       "output_type": "stream",
       "stream": "stdout",
       "text": [
        "accuracy scores = [ 0.85874867  0.9         0.88881803  0.86294956],0.877629066348\n"
       ]
      },
      {
       "output_type": "stream",
       "stream": "stdout",
       "text": [
        "macro precision scores = [ 0.85603975  0.89991263  0.88770865  0.86237468],0.876508925893\n"
       ]
      },
      {
       "output_type": "stream",
       "stream": "stdout",
       "text": [
        "macro recall scores = [ 0.85122748  0.89774475  0.88290317  0.85990218],0.872944396066\n"
       ]
      },
      {
       "output_type": "stream",
       "stream": "stdout",
       "text": [
        "macro f1 scores = [ 0.85228771  0.89858913  0.88400487  0.86032512],0.873801706578\n"
       ]
      },
      {
       "output_type": "stream",
       "stream": "stdout",
       "text": [
        "weighted average precision scores = [ 0.85848506  0.90011512  0.89028953  0.86507169],0.878490353404\n"
       ]
      },
      {
       "output_type": "stream",
       "stream": "stdout",
       "text": [
        "weighted average recall scores = [ 0.85848506  0.90011512  0.89028953  0.86507169],0.878490353404\n"
       ]
      },
      {
       "output_type": "stream",
       "stream": "stdout",
       "text": [
        "weighted f1 scores = [ 0.85757582  0.89984568  0.88839882  0.86322845],0.877262192716\n",
        "dimensionality: 17813"
       ]
      },
      {
       "output_type": "stream",
       "stream": "stdout",
       "text": [
        "\n",
        "density: 0.891798124965\n",
        "alt.atheism cruel,jon,mango,wrote,darwin,wingat,jsn104,tammi,dogma,cobb,motto,asimov,benedikt,islam,mathew,scout,rushdi,atheism,atheist,keith\n",
        "comp.graphics vesa,sphere,anim,tiff,mpeg,surfac,impuls,fractal,viewer,hacker,raytrac,photoshop,polygon,cview,imag,siggraph,pov,3do,3d,graphic\n",
        "comp.os.ms-windows.misc dll,w4wg,printer driver,risc,nt,doublespac,file,ini,setup,winqvt,smartdrv,bmp,win,program manag,ax,challeng,cica,win3,microsoft,window\n",
        "comp.sys.ibm.pc.hardware smc,pentium,nanao,pc,modem,connector,59,vlb,cmo,gosh,interrupt,ide,spec,isa,irq,mitsumi,motherboard,winmark,bio,gateway\n",
        "comp.sys.mac.hardware syquest,cyclon,040,pb,macweek,adb,iici,deskwrit,bmug,68040,lciii,iisi,se,quadra,lc,centri,appl,duo,powerbook,mac\n",
        "comp.windows.x escap,r5,xdm,imak,event,xwd,xwindow,unsubscrib,twm,openwindow,consortium,xfree86,window manag,x11,xlib,server,widget,xterm,x11r5,motif\n",
        "misc.forsale 00,cd,deal,buyer,traci,cod,airlin,3b1,interest,pay,sell,camera,sne,includ,summer,obo,ship,offer,forsal,sale\n",
        "rec.autos integra,nissan,diesel,sunroof,shift,dumbest,v6,opel,dealer,vw,truck,warn,mustang,toyota,oil,automot,ford,geico,auto,car\n",
        "rec.motorcycles stroke,piec,moto,ducati,cage,moa,dog,ranck,cager,yamaha,biker,harley,kawasaki,helmet,bmw,rider,ride,motorcycl,bike,dod\n",
        "rec.sport.baseball cardin,hitter,nl,marlin,mattingli,sox,ball,fenway,morri,tiger,pitch,stadium,brave,dodger,pitcher,cub,yanke,giant,philli,basebal\n",
        "rec.sport.hockey probert,goal,pen,island,gerald,wc,cherri,wing,detroit,puck,buffalo,leaf,penguin,espn,shark,goali,bruin,playoff,nhl,hockey\n",
        "sci.crypt sternlight,den,de,overreact,secret,privaci,key,tempest,lobbi,crypt,cipher,pgp,nsa,secur,wiretap,cryptographi,crypto,encrypt,tap,clipper\n",
        "sci.electronics resistor,ee,led,explod,pcb,dsp,256k,rf,8051,motorola,disk copi,solvent,spice,2600,voltag,ic,scope,electron,copi protect,circuit\n",
        "sci.med cure,health,patient,prozac,treatment,pregnenc,migrain,seizur,exercis,medicin,allerg,cancer,ear,diseas,msg,medic,med,krillean,doctor,photographi\n",
        "sci.space henri,nasa,solar,flight,dietz,gamma ray,dc,astronomi,satellit,mar,spacecraft,rocket,pat,planet,sky,launch,shuttl,moon,orbit,space\n",
        "soc.religion.christian hell,ceremoni,fisher,cathol,jame,prayer,sin,christian,1993,vers,arrog,christ,easter,geneva,church,kiefer,daili,rutger,atho,clh\n",
        "talk.politics.guns cipriani,cnn,crari,cdt,burn,weaver,militia,acronym,fbi,nra,liberti,handgun,dividian,quisl,waco,weapon,ranch,firearm,atf,gun\n",
        "talk.politics.mideast ucdavi,hezbollah,occupi,hama,elia,holocaust,jerusalem,argic,zionism,uva,jew,adl,serdar,palestinian,bosnian,turkish,arab,armenian,isra,israel\n",
        "talk.politics.misc ipser,percentag,liber,mail address,presid,drug,violenc,gay,initi,employ,mow,hostag,sexual,garrett,optilink,clayton,wetwar,teel,cramer,kaldi\n",
        "talk.religion.misc koresh,thyagi,new age,sabin,hare,mormon,abort,brian,sword,biblic,promis,rawlin,666,hudson,weiss,beast,new religion,rosicrucian,2000,burden\n",
        "ng20_raw_stems_unigrams_stopwords_df0.0005_tf1 ^ ng20_raw_stems_bigrams_stopwords_df0.0005_tf1 ^ google_bigrams  -->  precision  0.876508925893 recall  0.872944396066 f1  0.873801706578\n",
        "loaded (2538) terms"
       ]
      },
      {
       "output_type": "stream",
       "stream": "stdout",
       "text": [
        "\n",
        "extended to (4116) terms\n",
        "done loading vocabulary\n",
        "vectorizing done, 4116 terms vocabulary tokenized"
       ]
      },
      {
       "output_type": "stream",
       "stream": "stdout",
       "text": [
        "\n",
        "vectorizing done, 4116 terms vocabulary tokenized\n"
       ]
      },
      {
       "output_type": "stream",
       "stream": "stdout",
       "text": [
        "accuracy scores = [ 0.75376458  0.80573248  0.79655612  0.768887  ],0.781235046221\n"
       ]
      },
      {
       "output_type": "stream",
       "stream": "stdout",
       "text": [
        "macro precision scores = [ 0.74727563  0.80248261  0.7905182   0.76610747],0.776595979881\n"
       ]
      },
      {
       "output_type": "stream",
       "stream": "stdout",
       "text": [
        "macro recall scores = [ 0.74339284  0.80156827  0.78740979  0.76319975],0.773892662505\n"
       ]
      },
      {
       "output_type": "stream",
       "stream": "stdout",
       "text": [
        "macro f1 scores = [ 0.74332109  0.80169294  0.78728489  0.76380222],0.774025284913\n"
       ]
      },
      {
       "output_type": "stream",
       "stream": "stdout",
       "text": [
        "weighted average precision scores = [ 0.75281985  0.80610085  0.79561389  0.77045556],0.78124753733\n"
       ]
      },
      {
       "output_type": "stream",
       "stream": "stdout",
       "text": [
        "weighted average recall scores = [ 0.75281985  0.80610085  0.79561389  0.77045556],0.78124753733\n"
       ]
      },
      {
       "output_type": "stream",
       "stream": "stdout",
       "text": [
        "weighted f1 scores = [ 0.75164259  0.80557663  0.79470238  0.76885889],0.780195124322\n",
        "dimensionality: 4116"
       ]
      },
      {
       "output_type": "stream",
       "stream": "stdout",
       "text": [
        "\n",
        "density: 0.751433430515\n",
        "alt.atheism germani,wood,social,gulf,agenc,posit statement,object system,rice,boy scout,fossil,entir nation,jehovah wit,po,decis support,write,scout,atheist,gulf war,vice,islam\n",
        "comp.graphics realiti,gamma,workstat,unix machin,wish list,rgb,anim,textur,hacker ethic,color imag,hacker,point,viewer,surfac,imag,algorithm,mac version,temp file,3d,graphic\n",
        "comp.os.ms-windows.misc mous cursor,file manag,swap,index,printer driver,jordan,nt,ink,setup,download,real world,indiana,print manag,bmp,vu,ini,instruct set,program manag,window,microsoft\n",
        "comp.sys.ibm.pc.hardware scsi card,monitor,low level,date,system boot,desktop window,memori manag,cpu fan,cd rom,silicon graphic,ide,data compress,base card,ben,hardwar problem,comput world,blaster,bio,cmo,gateway\n",
        "comp.sys.mac.hardware internet,memori,hardwar,educ,phone number,zone,monti,slot,home comput,system design,hour,clock speed,control panel,se,logic board,price drop,shift key,run window,appl,mac\n",
        "comp.windows.x telecom,sun,oper system,depth,client,return,system programm,item,technic confer,default,devic driver,window system,sparc,script,man page,widget,escap,server,window manag,motif\n",
        "misc.forsale trade,turtl,life time,interest,deck,deal,size,cd,stereo,record,power suppli,origin,right arm,pedal,sega,camera,summer,offer,ship,sale\n",
        "rec.autos bumper,top end,honda,turn signal,engin,concept,oil,licens plate,tauru,contact person,dealer,consum report,wagon,insur compani,air condit,warn,toyota,shift,ford,car\n",
        "rec.motorcycles honda,exhaust,rec,wave,michigan,court,insur,owner,chamber,fist,drunk,drink,polic offic,dog,chain,shaft,helmet,rider,ride,bike\n",
        "rec.sport.baseball world seri,texa ranger,red sox,sox,era,tiger,complet,hitter,marlin,hit,home run,pitch,ball,batter,brave,pitcher,bat,cub,philli,basebal\n",
        "rec.sport.hockey cup,final,cap,ottawa,pool,wing,world championship,coverag,buffalo,goal,pit,coach,detroit,penguin,leaf,oiler,bruin,playoff,hockey,nhl\n",
        "sci.crypt write gun,scheme,organ,gener purpos,speech,radiat,cola,trust,drug dealer,escrow,attack,secret,key,hard core,cipher,privaci,secur,encrypt,clipper,tap\n",
        "sci.electronics pc board,design,ground,cabl compani,system work,assembl,atari,filter,tv,duct,cool tower,duct tape,develop tool,disk copi,electron,voltag,power signal,appl mac,copi protect,circuit\n",
        "sci.med success,eye,adult,fever,scientist,corona,food,pitt,diet,effect,bank,cancer,health,inject,infect,treatment,medic,patient,diseas,doctor\n",
        "sci.space sunset,solar,lunar,telescop,space station,flight,satellit,mar,man work,hopkin,planet,rocket,spacecraft,gamma ray,launch,moon,shuttl,orbit,sky,space\n",
        "soc.religion.christian sin,major view,angel,environment,christian,parent,templ,polit correct,oakland,new testament,new christian,church,ancient book,judgement,cathol,christ,prayer,homosexu issu,sex educ,daili\n",
        "talk.politics.guns avoid situat,deer,militia,examin,rifl,bullet,hunt,texa,smuggl,arrest warrant,burn,id card,american express,free state,waco,cnn,socialist leader,weapon,gun,atf\n",
        "talk.politics.mideast davidian,jefferson,hate,muslim,cloud,troop,human right,mcgill,warsaw,polici,mountain pass,holocaust,greek,freedom,jew,occupi,bosnian,arab,israel,isra\n",
        "talk.politics.misc presid,know noth,econom,tax,studi,incom tax,tantrum,temper tantrum,dump,concentr,american,top,stimulu,child molest,free market,molest,mother natur,good neighbor,marin,polic state\n",
        "talk.religion.misc internet address,cult,opposit,kent,chosen peopl,materi,comput program,royc,moral system,southern,order,open mind,new age,christian re,love god,christian moral,mormon,promis,fait,new religion\n",
        "ng20_raw_stems_bigrams_stopwords_df0.0005_tf1 ^ google_bigrams (extended unigrams) -->  precision  0.776595979881 recall  0.773892662505 f1  0.774025284913\n",
        "loaded (19180) terms"
       ]
      },
      {
       "output_type": "stream",
       "stream": "stdout",
       "text": [
        "\n",
        "vectorizing done, 19180 terms vocabulary tokenized"
       ]
      },
      {
       "output_type": "stream",
       "stream": "stdout",
       "text": [
        "\n",
        "vectorizing done, 19180 terms vocabulary tokenized"
       ]
      },
      {
       "output_type": "stream",
       "stream": "stdout",
       "text": [
        "\n"
       ]
      },
      {
       "output_type": "stream",
       "stream": "stdout",
       "text": [
        "accuracy scores = [ 0.86044539  0.90127389  0.88945578  0.86316237],0.878584357425\n"
       ]
      },
      {
       "output_type": "stream",
       "stream": "stdout",
       "text": [
        "macro precision scores = [ 0.85854454  0.90123021  0.88846046  0.86237606],0.877652817229\n"
       ]
      },
      {
       "output_type": "stream",
       "stream": "stdout",
       "text": [
        "macro recall scores = [ 0.8528629   0.89894798  0.88342921  0.8601012 ],0.873835322298\n"
       ]
      },
      {
       "output_type": "stream",
       "stream": "stdout",
       "text": [
        "macro f1 scores = [ 0.85406289  0.89982177  0.88458508  0.86044491],0.874728660174\n"
       ]
      },
      {
       "output_type": "stream",
       "stream": "stdout",
       "text": [
        "weighted average precision scores = [ 0.86046258  0.9013566   0.89084579  0.86527781],0.879485697036\n"
       ]
      },
      {
       "output_type": "stream",
       "stream": "stdout",
       "text": [
        "weighted average recall scores = [ 0.86046258  0.9013566   0.89084579  0.86527781],0.879485697036\n"
       ]
      },
      {
       "output_type": "stream",
       "stream": "stdout",
       "text": [
        "weighted f1 scores = [ 0.85921218  0.90107949  0.88896105  0.86345061],0.878175834796\n",
        "dimensionality: 19180"
       ]
      },
      {
       "output_type": "stream",
       "stream": "stdout",
       "text": [
        "\n",
        "density: 0.892669447341\n",
        "alt.atheism cruel,mango,wrote,darwin,tammi,wingat,moral agenc,cobb,jsn104,dogma,motto,asimov,benedikt,islam,scout,mathew,rushdi,atheism,atheist,keith\n",
        "comp.graphics sphere,anim,virtual realiti,mpeg,surfac,tiff,impuls,fractal,raytrac,photoshop,hacker,viewer,imag,polygon,cview,siggraph,pov,3do,3d,graphic\n",
        "comp.os.ms-windows.misc printer driver,workgroup,w4wg,risc,file,winfax,doublespac,setup,winqvt,ini,smartdrv,win,bmp,program manag,ax,challeng,cica,win3,microsoft,window\n",
        "comp.sys.ibm.pc.hardware i486,pentium,pc,smc,modem,connector,gosh,ide,59,vlb,interrupt,spec,cmo,irq,mitsumi,isa,winmark,motherboard,bio,gateway\n",
        "comp.sys.mac.hardware syquest,iifx,pb,24 hour,macweek,iici,deskwrit,adb,bmug,68040,lciii,centri,se,quadra,lc,iisi,duo,appl,powerbook,mac\n",
        "comp.windows.x pixmap,r5,xdm,imak,event,xwindow,xwd,unsubscrib,openwindow,twm,consortium,xfree86,window manag,x11,xlib,server,widget,xterm,x11r5,motif\n",
        "misc.forsale size,3b1,00,buyer,calcul,traci,cod,airlin,interest,pay,camera,sell,sne,summer,includ,obo,ship,offer,forsal,sale\n",
        "rec.autos licens plate,integra,sunroof,diesel,shift,dumbest,opel,v6,vw,dealer,truck,mustang,warn,toyota,oil,automot,ford,geico,auto,car\n",
        "rec.motorcycles shim,stroke,moto,moa,cage,ducati,cager,dog,ranck,yamaha,biker,kawasaki,harley,bmw,helmet,rider,ride,motorcycl,bike,dod\n",
        "rec.sport.baseball bat,uniform,morri,hitter,marlin,nl,sox,ball,fenway,tiger,pitch,stadium,dodger,brave,pitcher,cub,yanke,giant,philli,basebal\n",
        "rec.sport.hockey gerald,oiler,pen,wing,goal,cup,island,wc,puck,detroit,buffalo,leaf,penguin,shark,espn,goali,bruin,playoff,nhl,hockey\n",
        "sci.crypt den,rsa,sternlight,secret,overreact,privaci,key,tempest,lobbi,crypt,cipher,pgp,nsa,secur,wiretap,cryptographi,crypto,encrypt,tap,clipper\n",
        "sci.electronics eprom,led,resistor,dsp,explod,pcb,256k,spice,2600,motorola,rf,solvent,8051,disk copi,voltag,ic,scope,electron,copi protect,circuit\n",
        "sci.med effect,patient,prozac,pregnenc,treatment,health,seizur,migrain,exercis,medicin,allerg,cancer,ear,diseas,msg,med,krillean,medic,photographi,doctor\n",
        "sci.space nasa,sunris,flight,sunset,dietz,dc,gamma ray,satellit,astronomi,mar,rocket,spacecraft,pat,planet,sky,launch,shuttl,moon,orbit,space\n",
        "soc.religion.christian ceremoni,roman,hell,sin,cathol,prayer,jame,arrog,1993,christian,christ,easter,vers,geneva,church,kiefer,daili,rutger,atho,clh\n",
        "talk.politics.guns ban,crari,cnn,cdt,weaver,burn,militia,acronym,fbi,handgun,liberti,nra,dividian,quisl,waco,weapon,ranch,firearm,atf,gun\n",
        "talk.politics.mideast ucdavi,hezbollah,occupi,hama,argic,jerusalem,elia,zionism,holocaust,uva,serdar,jew,adl,palestinian,bosnian,turkish,arab,armenian,isra,israel\n",
        "talk.politics.misc tax,presid,mail address,liber,drug,violenc,employ,gay,initi,hostag,mow,sexual,optilink,garrett,clayton,teel,wetwar,cramer,kaldi,top ten\n",
        "talk.religion.misc christian moral,kendig,tyre,thyagi,new age,hare,mormon,robert weiss,abort,brian,sword,rosicrucian,rawlin,666,promis,hudson,beast,new religion,2000,burden\n",
        "ng20_raw_stems_unigrams_stopwords_df0.0005_tf1 ^ ng20_raw_stems_bigrams_stopwords_df0.0005_tf1 ^ wiki_wiktionary_bigrams_vw  -->  precision  0.877652817229 recall  0.873835322298 f1  0.874728660174\n",
        "loaded (3905) terms"
       ]
      },
      {
       "output_type": "stream",
       "stream": "stdout",
       "text": [
        "\n",
        "extended to (6502) terms\n",
        "done loading vocabulary\n",
        "vectorizing done, 6502 terms vocabulary tokenized"
       ]
      },
      {
       "output_type": "stream",
       "stream": "stdout",
       "text": [
        "\n",
        "vectorizing done, 6502 terms vocabulary tokenized\n"
       ]
      },
      {
       "output_type": "stream",
       "stream": "stdout",
       "text": [
        "accuracy scores = [ 0.79872747  0.83906582  0.83354592  0.80059587],0.817983768194\n"
       ]
      },
      {
       "output_type": "stream",
       "stream": "stdout",
       "text": [
        "macro precision scores = [ 0.79864259  0.83710877  0.82986655  0.80056784],0.816546438355\n"
       ]
      },
      {
       "output_type": "stream",
       "stream": "stdout",
       "text": [
        "macro recall scores = [ 0.78939447  0.83643097  0.82651933  0.79720917],0.812388486169\n"
       ]
      },
      {
       "output_type": "stream",
       "stream": "stdout",
       "text": [
        "macro f1 scores = [ 0.79048279  0.83657547  0.82713076  0.79785538],0.813011099464\n"
       ]
      },
      {
       "output_type": "stream",
       "stream": "stdout",
       "text": [
        "weighted average precision scores = [ 0.80019942  0.83915297  0.83400616  0.80405261],0.819352790929\n"
       ]
      },
      {
       "output_type": "stream",
       "stream": "stdout",
       "text": [
        "weighted average recall scores = [ 0.80019942  0.83915297  0.83400616  0.80405261],0.819352790929\n"
       ]
      },
      {
       "output_type": "stream",
       "stream": "stdout",
       "text": [
        "weighted f1 scores = [ 0.79667069  0.83891046  0.83280027  0.80132257],0.817426000588\n",
        "dimensionality: 6502"
       ]
      },
      {
       "output_type": "stream",
       "stream": "stdout",
       "text": [
        "\n",
        "density: 0.803929560135\n",
        "alt.atheism conner,mark mccullough,mccullough,one true,fuller,rice,damnat,cobb,etern damnat,gulf war,vice,moral agenc,bobbi,islam law,atheist,scout,islam,atheism,heali,keith\n",
        "comp.graphics color imag,vesa,anoth,algorithm,tiff,surfac,hacker,point,hacker ethic,anim,42,temp file,virtual realiti,imag,viewer,photoshop,siggraph,pov,3d,graphic\n",
        "comp.os.ms-windows.misc win nt,hp deskjet,nt,thi space,desktop,vu,indiana,bmp,win,dark,14,netwar,setup,visual basic,workgroup,instruct set,program manag,ini,window,microsoft\n",
        "comp.sys.ibm.pc.hardware tseng lab,pc,ben,file server,blue wave,monitor,486,date,ide,robert,atari,memori manag,spec,isa,laserjet,silicon graphic,17,bio,cmo,gateway\n",
        "comp.sys.mac.hardware hardwar,950,soft,laser printer,zone,global villag,compar,price drop,pd slot,24 hour,se,iici,centri,lc,duo,quadra,appl,iisi,powerbook,mac\n",
        "comp.windows.x devic driver,comput scienc,read onli,mit,dump,man page,sun,client,hp 9000,window system,depth,sparc,display,script,escap,event,widget,server,window manag,motif\n",
        "misc.forsale fax modem,deal,interest,laptop,cd,trade,size,origin,pay,record,right arm,sell,advertis,sega,camera,summer,includ,unix pc,ask,sale\n",
        "rec.autos bumper,bmw,sho,licens plate,engin,concept,insur compani,consum report,opel,shift,oil,wagon,dealer,toyota,mustang,warn,ford,geico,auto,car\n",
        "rec.motorcycles svoboda,bar,curti jackson,michigan,robinson,wave,asphaug,honda,bmw,chain,82,shaft drive,hawk gt,sutherland,dog,moa,ed green,rider,ride,bike\n",
        "rec.sport.baseball rocki,batter,hit,mattingli,morri,hr,tiger,marlin,sox,bill jame,hernandez,ball,bat,hitter,pitch,brave,cardin,cub,philli,basebal\n",
        "rec.sport.hockey cherri,cup,final,season,buffalo,probert,lemieux,pit,leaf,coach,goal,detroit,goali,espn,oiler,penguin,bruin,playoff,nhl,hockey\n",
        "sci.crypt attack,key,anonym,implement,fifth,trust,random,secret sourc,fifth amend,secret,escrow,privaci,pgp,secur,cipher,crypto,cryptographi,encrypt,clipper,tap\n",
        "sci.electronics filter,project,ground,led,zero,style,cool tower,develop tool,tv,re power,2600,assembl,disk copi,duct,appl mac,duct tape,voltag,electron,copi protect,circuit\n",
        "sci.med dyer,medicin,infect,gordon,eye,effect,health,sure fire,inject,treatment,food,cancer,patient,allerg,med,medic,diseas,gordon bank,doctor,photographi\n",
        "sci.space telescop,solar,astronomi,nuclear wast,orion,tommi mac,satellit,mission,mar,pat,planet,gamma ray,spacecraft,rocket,launch,shuttl,sky,moon,orbit,space\n",
        "soc.religion.christian oakland,apr 10,broken,polit correct,question author,answer thi,sin,andrew kill,sex educ,jame,judgement,origin sin,christian,easter,prayer,cathol,church,christ,daili,1993\n",
        "talk.politics.guns brent,neil smith,liberti,ban,stratu,free state,senat,socialist leader,examin,whitehead,burn,rifl,weaver,fbi,hunt,waco,weapon,dividian,atf,gun\n",
        "talk.politics.mideast soldier,holocaust memori,mcgill,hate,brad,warsaw,armenia,occupi,freedom,palestinian,holocaust,jew,argic,turkish,bosnian,serdar,arab,armenian,israel,isra\n",
        "talk.politics.misc liber,stimulu,tax,drug,incom tax,good neighbor,one act,kinsey,mitchel todd,econom,select servic,ted frank,sexual,baker,gay,polic state,clayton,garrett,cramer,top ten\n",
        "talk.religion.misc talk origin,royc,moment,albert sabin,southern baptist,john king,open mind,ancient,biblic contradict,rosicrucian,weiss,malcolm lee,hudson,new age,brian,mormon,promis,robert weiss,2000,new religion\n",
        "ng20_raw_stems_bigrams_stopwords_df0.0005_tf1 ^ wiki_wiktionary_bigrams_vw (extended unigrams) -->  precision  0.816546438355 recall  0.812388486169 f1  0.813011099464\n",
        "loaded (19926) terms"
       ]
      },
      {
       "output_type": "stream",
       "stream": "stdout",
       "text": [
        "\n",
        "vectorizing done, 19926 terms vocabulary tokenized"
       ]
      },
      {
       "output_type": "stream",
       "stream": "stdout",
       "text": [
        "\n",
        "vectorizing done, 19926 terms vocabulary tokenized"
       ]
      },
      {
       "output_type": "stream",
       "stream": "stdout",
       "text": [
        "\n"
       ]
      },
      {
       "output_type": "stream",
       "stream": "stdout",
       "text": [
        "accuracy scores = [ 0.86086957  0.90106157  0.89073129  0.86422643],0.879222215004\n"
       ]
      },
      {
       "output_type": "stream",
       "stream": "stdout",
       "text": [
        "macro precision scores = [ 0.85904125  0.90092725  0.88994361  0.863577  ],0.878372277044\n"
       ]
      },
      {
       "output_type": "stream",
       "stream": "stdout",
       "text": [
        "macro recall scores = [ 0.85333061  0.89872533  0.88479799  0.86120817],0.874515526052\n"
       ]
      },
      {
       "output_type": "stream",
       "stream": "stdout",
       "text": [
        "macro f1 scores = [ 0.8544945   0.89959025  0.88598708  0.86158823],0.875415016865\n"
       ]
      },
      {
       "output_type": "stream",
       "stream": "stdout",
       "text": [
        "weighted average precision scores = [ 0.86087708  0.90112967  0.89225284  0.8662843 ],0.880135970183\n"
       ]
      },
      {
       "output_type": "stream",
       "stream": "stdout",
       "text": [
        "weighted average recall scores = [ 0.86087708  0.90112967  0.89225284  0.8662843 ],0.880135970183\n"
       ]
      },
      {
       "output_type": "stream",
       "stream": "stdout",
       "text": [
        "weighted f1 scores = [ 0.85960179  0.90089151  0.89028004  0.86447879],0.878813030693\n",
        "dimensionality: 19926"
       ]
      },
      {
       "output_type": "stream",
       "stream": "stdout",
       "text": [
        "\n",
        "density: 0.878515507377\n",
        "alt.atheism cruel,mango,wrote,darwin,tammi,moral agenc,wingat,cobb,jsn104,dogma,motto,asimov,benedikt,islam,scout,mathew,rushdi,atheism,atheist,keith\n",
        "comp.graphics anim,sphere,mpeg,virtual realiti,surfac,tiff,impuls,fractal,raytrac,photoshop,hacker,viewer,polygon,cview,imag,siggraph,pov,3do,3d,graphic\n",
        "comp.os.ms-windows.misc workgroup,printer driver,winfax,w4wg,risc,file,doublespac,ini,setup,winqvt,smartdrv,win,bmp,program manag,ax,challeng,win3,cica,microsoft,window\n",
        "comp.sys.ibm.pc.hardware walli,i486,smc,59,modem,pc,gosh,connector,ide,vlb,interrupt,spec,cmo,irq,mitsumi,winmark,isa,motherboard,bio,gateway\n",
        "comp.sys.mac.hardware syquest,040,pb,24 hour,iici,macweek,deskwrit,bmug,adb,68040,lciii,centri,se,quadra,lc,iisi,duo,appl,powerbook,mac\n",
        "comp.windows.x display,r5,xdm,imak,event,xwindow,xwd,twm,openwindow,unsubscrib,consortium,xfree86,window manag,x11,xlib,server,widget,xterm,x11r5,motif\n",
        "misc.forsale calcul,size,buyer,00,cd,traci,cod,airlin,interest,pay,camera,sell,sne,summer,includ,obo,ship,offer,forsal,sale\n",
        "rec.autos licens plate,integra,sunroof,diesel,shift,dumbest,opel,v6,truck,dealer,vw,mustang,warn,toyota,oil,automot,ford,geico,auto,car\n",
        "rec.motorcycles wave,stroke,moto,moa,cage,ducati,cager,dog,ranck,yamaha,biker,kawasaki,harley,bmw,helmet,rider,ride,motorcycl,bike,dod\n",
        "rec.sport.baseball bat,uniform,morri,hitter,marlin,nl,sox,fenway,ball,tiger,pitch,stadium,dodger,brave,pitcher,cub,yanke,giant,philli,basebal\n",
        "rec.sport.hockey oiler,gerald,pen,goal,wing,cup,wc,island,puck,detroit,buffalo,leaf,penguin,espn,shark,goali,bruin,playoff,nhl,hockey\n",
        "sci.crypt den,rsa,sternlight,secret,overreact,privaci,key,tempest,lobbi,crypt,cipher,pgp,nsa,secur,wiretap,cryptographi,crypto,encrypt,tap,clipper\n",
        "sci.electronics bubblejet,led,resistor,dsp,explod,pcb,256k,rf,disk copi,spice,2600,8051,motorola,solvent,voltag,ic,scope,electron,copi protect,circuit\n",
        "sci.med patient,effect,health,pregnenc,treatment,prozac,migrain,seizur,exercis,medicin,allerg,cancer,ear,diseas,msg,med,krillean,medic,photographi,doctor\n",
        "sci.space lunar,aurora,nasa,flight,dietz,dc,gamma ray,satellit,astronomi,mar,spacecraft,rocket,pat,planet,sky,launch,shuttl,moon,orbit,space\n",
        "soc.religion.christian roman,ceremoni,hell,sin,cathol,jame,prayer,arrog,1993,christian,christ,easter,vers,geneva,church,kiefer,daili,rutger,atho,clh\n",
        "talk.politics.guns ban,crari,cnn,cdt,weaver,burn,acronym,militia,fbi,handgun,liberti,nra,dividian,quisl,waco,weapon,ranch,firearm,atf,gun\n",
        "talk.politics.mideast hama,ucdavi,occupi,hezbollah,argic,elia,jerusalem,holocaust,zionism,uva,serdar,jew,adl,palestinian,bosnian,turkish,arab,armenian,isra,israel\n",
        "talk.politics.misc tax,presid,mail address,liber,drug,violenc,initi,employ,gay,hostag,mow,sexual,optilink,garrett,clayton,teel,wetwar,cramer,kaldi,top ten\n",
        "talk.religion.misc weiss,kendig,tyre,thyagi,new age,mormon,robert weiss,abort,hare,brian,sword,rosicrucian,rawlin,666,promis,hudson,beast,new religion,2000,burden\n",
        "ng20_raw_stems_unigrams_stopwords_df0.0005_tf1 ^ ng20_raw_stems_bigrams_stopwords_df0.0005_tf1 ^ wiki_google_bigrams_vw  -->  precision  0.878372277044 recall  0.874515526052 f1  0.875415016865\n",
        "loaded (4651) terms"
       ]
      },
      {
       "output_type": "stream",
       "stream": "stdout",
       "text": [
        "\n",
        "extended to (7312) terms\n",
        "done loading vocabulary\n",
        "vectorizing done, 7312 terms vocabulary tokenized"
       ]
      },
      {
       "output_type": "stream",
       "stream": "stdout",
       "text": [
        "\n",
        "vectorizing done, 7312 terms vocabulary tokenized\n"
       ]
      },
      {
       "output_type": "stream",
       "stream": "stdout",
       "text": [
        "accuracy scores = [ 0.80424178  0.84416136  0.8422619   0.80761864],0.824570921846\n"
       ]
      },
      {
       "output_type": "stream",
       "stream": "stdout",
       "text": [
        "macro precision scores = [ 0.80294168  0.84191409  0.83939352  0.80741078],0.822915020306\n"
       ]
      },
      {
       "output_type": "stream",
       "stream": "stdout",
       "text": [
        "macro recall scores = [ 0.7949723   0.8416035   0.83530882  0.80374816],0.818908197768\n"
       ]
      },
      {
       "output_type": "stream",
       "stream": "stdout",
       "text": [
        "macro f1 scores = [ 0.79574656  0.84159237  0.83597672  0.8044889 ],0.819451139591\n"
       ]
      },
      {
       "output_type": "stream",
       "stream": "stdout",
       "text": [
        "weighted average precision scores = [ 0.80447714  0.84415853  0.84269594  0.81111038],0.825610497343\n"
       ]
      },
      {
       "output_type": "stream",
       "stream": "stdout",
       "text": [
        "weighted average recall scores = [ 0.80447714  0.84415853  0.84269594  0.81111038],0.825610497343\n"
       ]
      },
      {
       "output_type": "stream",
       "stream": "stdout",
       "text": [
        "weighted f1 scores = [ 0.80187222  0.84398798  0.8412853   0.80831093],0.823864106699\n",
        "dimensionality: 7312"
       ]
      },
      {
       "output_type": "stream",
       "stream": "stdout",
       "text": [
        "\n",
        "density: 0.768825218818\n",
        "alt.atheism jehovah wit,mark mccullough,mccullough,one true,rice,fred rice,cobb,damnat,vice,etern damnat,gulf war,bobbi,moral agenc,islam law,atheist,scout,islam,atheism,heali,keith\n",
        "comp.graphics anoth,vesa,rgb,tiff,anim,point,hacker,surfac,hacker ethic,42,virtual realiti,temp file,algorithm,viewer,imag,photoshop,siggraph,pov,3d,graphic\n",
        "comp.os.ms-windows.misc hp deskjet,indiana,nt,vu,win,print manag,download,14,desktop,thi space,visual basic,setup,netwar,bmp,workgroup,instruct set,program manag,ini,window,microsoft\n",
        "comp.sys.ibm.pc.hardware file server,memori manag,data compress,floppi,monitor,pc,robert,laserjet,486,date,ide,silicon graphic,spec,isa,atari,hardwar problem,17,cmo,bio,gateway\n",
        "comp.sys.mac.hardware laser printer,hardwar,950,run window,compar,clock speed,global villag,price drop,pd slot,se,24 hour,iici,centri,lc,duo,quadra,appl,iisi,powerbook,mac\n",
        "comp.windows.x mark taylor,client,devic driver,man page,binari,sun,read onli,depth,hp 9000,sparc,window system,default,display,script,event,escap,widget,window manag,server,motif\n",
        "misc.forsale deal,sell,fax modem,interest,includ,laptop,cd,origin,size,record,advertis,right arm,sega,unix pc,camera,summer,ask,ship,offer,sale\n",
        "rec.autos bumper,contact person,bmw,engin,licens plate,sho,consum report,opel,shift,insur compani,oil,dealer,wagon,mustang,toyota,warn,geico,ford,auto,car\n",
        "rec.motorcycles wave,jonathan,honda,robinson,curti jackson,asphaug,chain,bmw,rec,shaft drive,sutherland,82,hawk gt,dog,moa,ed green,helmet,rider,ride,bike\n",
        "rec.sport.baseball home run,morri,hit,hr,mattingli,sox,tiger,hernandez,marlin,pitch,bill jame,ball,bat,hitter,pitcher,brave,cardin,cub,philli,basebal\n",
        "rec.sport.hockey island,coverag,lemieux,season,cup,probert,buffalo,coach,pit,goal,leaf,detroit,espn,goali,oiler,penguin,bruin,playoff,nhl,hockey\n",
        "sci.crypt attack,anonym,fifth,implement,key,trust,random,secret sourc,fifth amend,secret,escrow,privaci,pgp,cipher,secur,crypto,cryptographi,encrypt,clipper,tap\n",
        "sci.electronics project,led,zero,power signal,re power,filter,ground,cool tower,develop tool,assembl,2600,disk copi,tv,duct,duct tape,appl mac,voltag,electron,copi protect,circuit\n",
        "sci.med eye,gordon,medicin,health,infect,sure fire,treatment,effect,food,inject,diet,patient,cancer,allerg,med,diseas,medic,gordon bank,doctor,photographi\n",
        "sci.space mission,sunset,astronomi,sunset time,nuclear wast,tommi mac,satellit,orion,mar,pat,planet,gamma ray,spacecraft,rocket,launch,shuttl,sky,moon,orbit,space\n",
        "soc.religion.christian dead sea,andrew kill,apr 10,question author,sin,broken,answer thi,sex educ,homosexu issu,judgement,jame,christian,easter,origin sin,cathol,prayer,church,christ,daili,1993\n",
        "talk.politics.guns neil smith,non lethal,brent,liberti,ban,stratu,militia,socialist leader,whitehead,burn,weaver,rifl,fbi,hunt,cnn,waco,weapon,dividian,atf,gun\n",
        "talk.politics.mideast mohammad,soldier,brad,hate,mcgill,warsaw,armenia,occupi,holocaust,freedom,palestinian,jew,argic,turkish,bosnian,serdar,arab,armenian,israel,isra\n",
        "talk.politics.misc libertarian,tax,stimulu,econom,liber,kinsey,drug,good neighbor,one act,deficit,mitchel todd,ted frank,sexual,baker,gay,polic state,garrett,clayton,cramer,top ten\n",
        "talk.religion.misc albert sabin,biblic,ancient,moment,materi,john king,biblic contradict,open mind,christian re,rosicrucian,weiss,new age,brian,malcolm lee,mormon,hudson,promis,robert weiss,2000,new religion\n",
        "ng20_raw_stems_bigrams_stopwords_df0.0005_tf1 ^ wiki_google_bigrams_vw (extended unigrams) -->  precision  0.822915020306 recall  0.818908197768 f1  0.819451139591\n",
        "loaded (18244) terms"
       ]
      },
      {
       "output_type": "stream",
       "stream": "stdout",
       "text": [
        "\n",
        "vectorizing done, 18244 terms vocabulary tokenized"
       ]
      },
      {
       "output_type": "stream",
       "stream": "stdout",
       "text": [
        "\n",
        "vectorizing done, 18244 terms vocabulary tokenized"
       ]
      },
      {
       "output_type": "stream",
       "stream": "stdout",
       "text": [
        "\n"
       ]
      },
      {
       "output_type": "stream",
       "stream": "stdout",
       "text": [
        "accuracy scores = [ 0.85874867  0.9014862   0.89009354  0.86294956],0.878319493793\n"
       ]
      },
      {
       "output_type": "stream",
       "stream": "stdout",
       "text": [
        "macro precision scores = [ 0.85614452  0.9012435   0.88883681  0.86231879],0.877135903802\n"
       ]
      },
      {
       "output_type": "stream",
       "stream": "stdout",
       "text": [
        "macro recall scores = [ 0.85119459  0.89925336  0.8841527   0.85999916],0.873649950596\n"
       ]
      },
      {
       "output_type": "stream",
       "stream": "stdout",
       "text": [
        "macro f1 scores = [ 0.85227474  0.9000574   0.88521453  0.86035493],0.87447539993\n"
       ]
      },
      {
       "output_type": "stream",
       "stream": "stdout",
       "text": [
        "weighted average precision scores = [ 0.85852229  0.9016806   0.89143162  0.86514974],0.87919606078\n"
       ]
      },
      {
       "output_type": "stream",
       "stream": "stdout",
       "text": [
        "weighted average recall scores = [ 0.85852229  0.9016806   0.89143162  0.86514974],0.87919606078\n"
       ]
      },
      {
       "output_type": "stream",
       "stream": "stdout",
       "text": [
        "weighted f1 scores = [ 0.85756062  0.90141141  0.88962539  0.86327826],0.877968921028\n",
        "dimensionality: 18244"
       ]
      },
      {
       "output_type": "stream",
       "stream": "stdout",
       "text": [
        "\n",
        "density: 0.890684608638\n",
        "alt.atheism cruel,jon,mango,wrote,darwin,wingat,jsn104,tammi,dogma,cobb,motto,asimov,benedikt,islam,mathew,scout,rushdi,atheist,atheism,keith\n",
        "comp.graphics anim,sphere,tiff,surfac,impuls,mpeg,virtual realiti,fractal,viewer,hacker,raytrac,photoshop,polygon,cview,imag,siggraph,pov,3do,3d,graphic\n",
        "comp.os.ms-windows.misc winfax,w4wg,printer driver,nt,risc,file,doublespac,ini,setup,winqvt,smartdrv,bmp,win,program manag,ax,challeng,cica,win3,microsoft,window\n",
        "comp.sys.ibm.pc.hardware pentium,nanao,modem,pc,59,smc,vlb,connector,gosh,cmo,interrupt,ide,spec,isa,irq,mitsumi,motherboard,winmark,bio,gateway\n",
        "comp.sys.mac.hardware cyclon,syquest,040,pb,macweek,adb,bmug,iici,deskwrit,68040,lciii,iisi,se,quadra,lc,centri,duo,appl,powerbook,mac\n",
        "comp.windows.x escap,r5,xdm,imak,event,xwd,xwindow,unsubscrib,twm,openwindow,consortium,xfree86,window manag,x11,xlib,server,widget,xterm,x11r5,motif\n",
        "misc.forsale calcul,cd,00,buyer,traci,cod,airlin,3b1,interest,pay,camera,sell,sne,includ,obo,summer,ship,offer,forsal,sale\n",
        "rec.autos integra,nissan,diesel,sunroof,shift,dumbest,v6,opel,dealer,vw,truck,warn,mustang,toyota,oil,automot,ford,geico,auto,car\n",
        "rec.motorcycles stroke,piec,moto,ducati,cage,dog,moa,cager,ranck,yamaha,biker,harley,kawasaki,helmet,bmw,rider,ride,motorcycl,bike,dod\n",
        "rec.sport.baseball bat,hitter,marlin,nl,mattingli,sox,ball,fenway,tiger,morri,pitch,stadium,dodger,brave,pitcher,cub,yanke,philli,giant,basebal\n",
        "rec.sport.hockey cup,pen,gerald,goal,island,wc,cherri,wing,detroit,puck,buffalo,leaf,penguin,espn,shark,goali,bruin,playoff,nhl,hockey\n",
        "sci.crypt sternlight,de,overreact,den,secret,privaci,key,tempest,lobbi,crypt,cipher,pgp,nsa,secur,wiretap,cryptographi,crypto,encrypt,tap,clipper\n",
        "sci.electronics eprom,resistor,led,explod,dsp,pcb,256k,motorola,2600,rf,spice,8051,solvent,disk copi,voltag,ic,scope,electron,copi protect,circuit\n",
        "sci.med antibiot,patient,prozac,health,treatment,pregnenc,seizur,migrain,exercis,medicin,allerg,cancer,ear,diseas,msg,med,medic,krillean,doctor,photographi\n",
        "sci.space lunar,henri,nasa,flight,dietz,gamma ray,dc,astronomi,satellit,mar,spacecraft,rocket,pat,planet,sky,launch,shuttl,moon,orbit,space\n",
        "soc.religion.christian roman,ceremoni,sin,fisher,jame,cathol,prayer,christian,1993,christ,vers,arrog,easter,geneva,church,kiefer,daili,rutger,atho,clh\n",
        "talk.politics.guns cathi,cnn,crari,cdt,burn,weaver,militia,acronym,fbi,nra,liberti,handgun,dividian,quisl,waco,weapon,ranch,firearm,atf,gun\n",
        "talk.politics.mideast hezbollah,ucdavi,occupi,hama,elia,holocaust,jerusalem,zionism,argic,uva,jew,adl,serdar,palestinian,bosnian,turkish,arab,armenian,isra,israel\n",
        "talk.politics.misc ipser,percentag,presid,mail address,liber,drug,violenc,gay,employ,initi,mow,hostag,sexual,garrett,optilink,clayton,wetwar,teel,cramer,kaldi\n",
        "talk.religion.misc koresh,thyagi,sabin,hare,new age,mormon,abort,brian,sword,biblic,rawlin,promis,666,hudson,weiss,beast,new religion,rosicrucian,2000,burden\n",
        "ng20_raw_stems_unigrams_stopwords_df0.0005_tf1 ^ ng20_raw_stems_bigrams_stopwords_df0.0005_tf1 ^ wiktionary_google_bigrams_vw  -->  precision  0.877135903802 recall  0.873649950596 f1  0.87447539993\n",
        "loaded (2969) terms"
       ]
      },
      {
       "output_type": "stream",
       "stream": "stdout",
       "text": [
        "\n",
        "extended to (4783) terms\n",
        "done loading vocabulary\n",
        "vectorizing done, 4783 terms vocabulary tokenized"
       ]
      },
      {
       "output_type": "stream",
       "stream": "stdout",
       "text": [
        "\n",
        "vectorizing done, 4783 terms vocabulary tokenized\n"
       ]
      },
      {
       "output_type": "stream",
       "stream": "stdout",
       "text": [
        "accuracy scores = [ 0.7592789   0.80955414  0.80484694  0.77612258],0.787450638828\n"
       ]
      },
      {
       "output_type": "stream",
       "stream": "stdout",
       "text": [
        "macro precision scores = [ 0.75301118  0.80545316  0.7994041   0.7750549 ],0.783230835843\n"
       ]
      },
      {
       "output_type": "stream",
       "stream": "stdout",
       "text": [
        "macro recall scores = [ 0.74908585  0.80538973  0.7964961   0.77048858],0.780365065391\n"
       ]
      },
      {
       "output_type": "stream",
       "stream": "stdout",
       "text": [
        "macro f1 scores = [ 0.74893294  0.80518324  0.79679116  0.77139035],0.780574423853\n"
       ]
      },
      {
       "output_type": "stream",
       "stream": "stdout",
       "text": [
        "weighted average precision scores = [ 0.75789881  0.80980943  0.80466024  0.77888262],0.787812775129\n"
       ]
      },
      {
       "output_type": "stream",
       "stream": "stdout",
       "text": [
        "weighted average recall scores = [ 0.75789881  0.80980943  0.80466024  0.77888262],0.787812775129\n"
       ]
      },
      {
       "output_type": "stream",
       "stream": "stdout",
       "text": [
        "weighted f1 scores = [ 0.75691594  0.80943712  0.80374996  0.77618852],0.786572885055\n",
        "dimensionality: 4783"
       ]
      },
      {
       "output_type": "stream",
       "stream": "stdout",
       "text": [
        "\n",
        "density: 0.766370478779\n",
        "alt.atheism moral,posit statement,tu,social,gulf,agenc,polit,rice,fossil,object system,jehovah wit,boy scout,decis support,po,write,gulf war,scout,vice,atheist,islam\n",
        "comp.graphics gamma,unix machin,vga,split,color imag,anim,rgb,hacker ethic,hacker,point,surfac,viewer,trace,mac version,algorithm,temp file,virtual realiti,imag,3d,graphic\n",
        "comp.os.ms-windows.misc enhanc mode,jordan,swap file,nt,ink,win,setup,desktop,real world,download,indiana,visual basic,print manag,bmp,instruct set,vu,ini,program manag,window,microsoft\n",
        "comp.sys.ibm.pc.hardware build one,date,pariti,system boot,silicon graphic,data compress,low level,legal,base card,cpu fan,atari,ben,cd rom,hardwar problem,ide,blaster,memori manag,bio,cmo,gateway\n",
        "comp.sys.mac.hardware zone,desktop,cap lock,home comput,memori,laser printer,system design,control panel,slot,clock speed,hour,hardwar,global villag,shift key,run window,logic board,price drop,se,appl,mac\n",
        "comp.windows.x return,display,depth,system programm,client,sun,handler,technic confer,default,sparc,devic driver,window system,man page,script,escap,event,widget,server,window manag,motif\n",
        "misc.forsale pedal,size,stereo,interest,turtl,jay,cd,sell,brand new,origin,record,deal,right arm,sega,camera,summer,ask,ship,offer,sale\n",
        "rec.autos washington,contact person,test drive,bumper,tauru,concept,turn signal,licens plate,engin,oil,wagon,dealer,consum report,shift,air condit,toyota,warn,insur compani,ford,car\n",
        "rec.motorcycles court,fist,drunk,wave,owner,honda,rec,insur,polic offic,chamber,happi easter,drink,speed ticket,chain,dog,shaft,helmet,rider,ride,bike\n",
        "rec.sport.baseball red sox,rocki,nl,complet,era,hitter,home run,sox,hit,marlin,tiger,batter,pitch,ball,pitcher,bat,brave,cub,philli,basebal\n",
        "rec.sport.hockey final,ice,cup,ottawa,world championship,pool,wing,coverag,buffalo,goal,pit,detroit,penguin,coach,leaf,oiler,bruin,playoff,hockey,nhl\n",
        "sci.crypt favor,attack,de,cola,fifth,drug dealer,trust,public key,secret,escrow,random,key,fifth amend,hard core,privaci,secur,cipher,encrypt,clipper,tap\n",
        "sci.electronics filter,system work,design,ground,assembl,compani,project,2600,cool tower,tv,duct,duct tape,develop tool,disk copi,voltag,power signal,electron,appl mac,copi protect,circuit\n",
        "sci.med clinic,eye,adult,corona,pitt,diet,cancer,health,effect,inject,infect,food,bank,medicin,treatment,patient,med,medic,diseas,doctor\n",
        "sci.space lunar,telescop,sunset time,sunset,satellit,man work,hopkin,flight,nuclear wast,mar,planet,rocket,spacecraft,gamma ray,launch,shuttl,moon,sky,orbit,space\n",
        "soc.religion.christian new christian,parent,environment,jame,translat,templ,christian,polit correct,oakland,easter,judgement,church,ancient book,cathol,christ,homosexu issu,origin sin,sex educ,prayer,daili\n",
        "talk.politics.guns nation debt,smuggl,vice presid,texa,id card,fbi,rifl,militia,bullet,examin,free state,burn,american express,hunt,waco,cnn,socialist leader,weapon,gun,atf\n",
        "talk.politics.mideast cloud,davidian,troop,hate,warsaw,mcgill,mountain pass,muslim,polici,human right,holocaust,greek,palestinian,freedom,jew,occupi,bosnian,arab,israel,isra\n",
        "talk.politics.misc american,deficit,bash,drug,stimulu,pass away,tantrum,child molest,temper tantrum,libertarian,concentr,pollut,mutual,ten,econom,molest,sexual,good neighbor,gay,polic state\n",
        "talk.religion.misc kent,ancient,materi,south,opposit,southern baptist,true believ,moral system,popular,royc,christian re,open mind,order,fait,new age,love god,christian moral,mormon,new religion,promis\n",
        "ng20_raw_stems_bigrams_stopwords_df0.0005_tf1 ^ wiktionary_google_bigrams_vw (extended unigrams) -->  precision  0.783230835843 recall  0.780365065391 f1  0.780574423853\n",
        "loaded (20016) terms"
       ]
      },
      {
       "output_type": "stream",
       "stream": "stdout",
       "text": [
        "\n",
        "vectorizing done, 20016 terms vocabulary tokenized"
       ]
      },
      {
       "output_type": "stream",
       "stream": "stdout",
       "text": [
        "\n",
        "vectorizing done, 20016 terms vocabulary tokenized"
       ]
      },
      {
       "output_type": "stream",
       "stream": "stdout",
       "text": [
        "\n"
       ]
      },
      {
       "output_type": "stream",
       "stream": "stdout",
       "text": [
        "accuracy scores = [ 0.86150583  0.90106157  0.89073129  0.86422643],0.879381281812\n"
       ]
      },
      {
       "output_type": "stream",
       "stream": "stdout",
       "text": [
        "macro precision scores = [ 0.85963604  0.90084398  0.88994361  0.86355281],0.878494109446\n"
       ]
      },
      {
       "output_type": "stream",
       "stream": "stdout",
       "text": [
        "macro recall scores = [ 0.85394204  0.89872452  0.88479799  0.86121074],0.874668823877\n"
       ]
      },
      {
       "output_type": "stream",
       "stream": "stdout",
       "text": [
        "macro f1 scores = [ 0.85509489  0.8995504   0.88598708  0.86159079],0.875555790503\n"
       ]
      },
      {
       "output_type": "stream",
       "stream": "stdout",
       "text": [
        "weighted average precision scores = [ 0.86148653  0.90104337  0.89225284  0.86624899],0.880257934277\n"
       ]
      },
      {
       "output_type": "stream",
       "stream": "stdout",
       "text": [
        "weighted average recall scores = [ 0.86148653  0.90104337  0.89225284  0.86624899],0.880257934277\n"
       ]
      },
      {
       "output_type": "stream",
       "stream": "stdout",
       "text": [
        "weighted f1 scores = [ 0.86022172  0.90085064  0.89028004  0.86447451],0.87895672922\n",
        "dimensionality: 20016"
       ]
      },
      {
       "output_type": "stream",
       "stream": "stdout",
       "text": [
        "\n",
        "density: 0.877370603517\n",
        "alt.atheism cruel,mango,wrote,darwin,tammi,moral agenc,cobb,wingat,jsn104,dogma,motto,asimov,benedikt,islam,scout,mathew,rushdi,atheism,atheist,keith\n",
        "comp.graphics anim,sphere,mpeg,virtual realiti,surfac,tiff,impuls,fractal,raytrac,photoshop,hacker,viewer,polygon,cview,imag,siggraph,pov,3do,3d,graphic\n",
        "comp.os.ms-windows.misc printer driver,workgroup,winfax,w4wg,risc,file,doublespac,ini,setup,winqvt,smartdrv,win,bmp,program manag,ax,challeng,cica,win3,microsoft,window\n",
        "comp.sys.ibm.pc.hardware i486,walli,smc,59,modem,pc,gosh,connector,ide,vlb,interrupt,spec,cmo,irq,mitsumi,winmark,isa,motherboard,bio,gateway\n",
        "comp.sys.mac.hardware syquest,040,pb,24 hour,iici,macweek,deskwrit,adb,bmug,68040,lciii,centri,se,quadra,lc,iisi,duo,appl,powerbook,mac\n",
        "comp.windows.x display,r5,xdm,imak,xwindow,event,xwd,openwindow,unsubscrib,twm,consortium,xfree86,window manag,x11,xlib,server,widget,xterm,x11r5,motif\n",
        "misc.forsale size,buyer,00,calcul,cd,traci,cod,airlin,interest,camera,pay,sell,sne,summer,includ,obo,ship,offer,forsal,sale\n",
        "rec.autos licens plate,integra,sunroof,diesel,shift,dumbest,opel,v6,vw,dealer,truck,mustang,warn,toyota,oil,automot,ford,geico,auto,car\n",
        "rec.motorcycles wave,stroke,moto,moa,cage,ducati,cager,dog,ranck,yamaha,biker,kawasaki,harley,bmw,helmet,rider,ride,motorcycl,bike,dod\n",
        "rec.sport.baseball bat,uniform,morri,hitter,marlin,nl,sox,fenway,ball,tiger,pitch,stadium,dodger,brave,pitcher,cub,yanke,giant,philli,basebal\n",
        "rec.sport.hockey gerald,oiler,pen,wing,goal,cup,wc,island,puck,detroit,buffalo,leaf,penguin,espn,shark,goali,bruin,playoff,nhl,hockey\n",
        "sci.crypt den,rsa,sternlight,secret,overreact,privaci,key,tempest,lobbi,crypt,cipher,pgp,nsa,secur,wiretap,cryptographi,crypto,encrypt,tap,clipper\n",
        "sci.electronics bubblejet,led,resistor,dsp,explod,pcb,256k,rf,disk copi,spice,2600,8051,motorola,solvent,voltag,ic,scope,electron,copi protect,circuit\n",
        "sci.med patient,health,effect,pregnenc,treatment,prozac,migrain,seizur,exercis,medicin,allerg,cancer,ear,diseas,msg,med,krillean,medic,photographi,doctor\n",
        "sci.space lunar,aurora,nasa,flight,dietz,dc,gamma ray,satellit,astronomi,mar,rocket,spacecraft,pat,planet,sky,launch,shuttl,moon,orbit,space\n",
        "soc.religion.christian ceremoni,roman,hell,sin,cathol,jame,prayer,arrog,1993,christian,christ,easter,vers,geneva,church,kiefer,daili,rutger,atho,clh\n",
        "talk.politics.guns ban,crari,cnn,cdt,weaver,burn,acronym,militia,fbi,handgun,liberti,nra,dividian,quisl,waco,weapon,ranch,firearm,atf,gun\n",
        "talk.politics.mideast hama,ucdavi,occupi,hezbollah,argic,elia,jerusalem,holocaust,zionism,uva,serdar,jew,adl,bosnian,palestinian,turkish,arab,armenian,isra,israel\n",
        "talk.politics.misc tax,presid,mail address,liber,drug,violenc,initi,employ,hostag,gay,mow,sexual,optilink,garrett,clayton,teel,wetwar,cramer,kaldi,top ten\n",
        "talk.religion.misc weiss,kendig,tyre,thyagi,hare,new age,mormon,abort,robert weiss,brian,sword,rosicrucian,rawlin,666,promis,hudson,beast,new religion,2000,burden\n",
        "ng20_raw_stems_unigrams_stopwords_df0.0005_tf1 ^ ng20_raw_stems_bigrams_stopwords_df0.0005_tf1 ^ wiki_wiktionary_google_bigrams_vw  -->  precision  0.878494109446 recall  0.874668823877 f1  0.875555790503\n",
        "loaded (4741) terms"
       ]
      },
      {
       "output_type": "stream",
       "stream": "stdout",
       "text": [
        "\n",
        "extended to (7440) terms\n",
        "done loading vocabulary\n",
        "vectorizing done, 7440 terms vocabulary tokenized"
       ]
      },
      {
       "output_type": "stream",
       "stream": "stdout",
       "text": [
        "\n",
        "vectorizing done, 7440 terms vocabulary tokenized\n"
       ]
      },
      {
       "output_type": "stream",
       "stream": "stdout",
       "text": [
        "accuracy scores = [ 0.80360551  0.84501062  0.84034864  0.80698021],0.82398624451\n"
       ]
      },
      {
       "output_type": "stream",
       "stream": "stdout",
       "text": [
        "macro precision scores = [ 0.80297338  0.84285802  0.83655724  0.80748089],0.822467381426\n"
       ]
      },
      {
       "output_type": "stream",
       "stream": "stdout",
       "text": [
        "macro recall scores = [ 0.79443984  0.84232984  0.83350952  0.80320696],0.818371541059\n"
       ]
      },
      {
       "output_type": "stream",
       "stream": "stdout",
       "text": [
        "macro f1 scores = [ 0.79543319  0.84244016  0.83401532  0.80413189],0.819005139972\n"
       ]
      },
      {
       "output_type": "stream",
       "stream": "stdout",
       "text": [
        "weighted average precision scores = [ 0.80430879  0.84490833  0.84077258  0.8110152 ],0.825251226755\n"
       ]
      },
      {
       "output_type": "stream",
       "stream": "stdout",
       "text": [
        "weighted average recall scores = [ 0.80430879  0.84490833  0.84077258  0.8110152 ],0.825251226755\n"
       ]
      },
      {
       "output_type": "stream",
       "stream": "stdout",
       "text": [
        "weighted f1 scores = [ 0.8013909   0.84480353  0.83961782  0.80782097],0.823408306719\n",
        "dimensionality: 7440"
       ]
      },
      {
       "output_type": "stream",
       "stream": "stdout",
       "text": [
        "\n",
        "density: 0.770409946237\n",
        "alt.atheism fred rice,fuller,one true,mccullough,mark mccullough,rice,cobb,damnat,gulf war,etern damnat,vice,bobbi,moral agenc,islam law,atheist,scout,islam,atheism,heali,keith\n",
        "comp.graphics vesa,anoth,rgb,tiff,anim,hacker,surfac,point,hacker ethic,42,virtual realiti,temp file,algorithm,viewer,imag,photoshop,siggraph,pov,3d,graphic\n",
        "comp.os.ms-windows.misc dark,hp deskjet,nt,win,vu,download,desktop,thi space,14,print manag,visual basic,setup,netwar,bmp,workgroup,instruct set,program manag,ini,window,microsoft\n",
        "comp.sys.ibm.pc.hardware conner,monitor,laserjet,486,floppi,data compress,pc,memori manag,robert,date,ide,silicon graphic,atari,isa,spec,hardwar problem,17,cmo,bio,gateway\n",
        "comp.sys.mac.hardware laser printer,hardwar,950,clock speed,run window,compar,global villag,price drop,pd slot,se,24 hour,iici,centri,lc,duo,quadra,appl,iisi,powerbook,mac\n",
        "comp.windows.x mit,client,devic driver,binari,read onli,man page,sun,depth,sparc,hp 9000,window system,default,display,script,event,escap,widget,window manag,server,motif\n",
        "misc.forsale sell,fax modem,interest,includ,deal,laptop,cd,size,origin,right arm,record,advertis,sega,camera,unix pc,summer,ask,ship,offer,sale\n",
        "rec.autos concept,bumper,bmw,engin,licens plate,sho,consum report,opel,shift,insur compani,oil,dealer,wagon,mustang,toyota,warn,geico,ford,auto,car\n",
        "rec.motorcycles jonathan,wave,robinson,honda,curti jackson,bmw,asphaug,chain,rec,82,shaft drive,sutherland,hawk gt,dog,moa,ed green,helmet,rider,ride,bike\n",
        "rec.sport.baseball home run,morri,hit,hr,mattingli,tiger,sox,hernandez,marlin,bill jame,pitch,ball,bat,hitter,pitcher,brave,cardin,cub,philli,basebal\n",
        "rec.sport.hockey cherri,coverag,lemieux,cup,season,probert,buffalo,coach,pit,leaf,goal,detroit,espn,goali,oiler,penguin,bruin,playoff,nhl,hockey\n",
        "sci.crypt attack,anonym,implement,key,fifth,trust,random,secret sourc,fifth amend,secret,escrow,privaci,pgp,cipher,secur,crypto,cryptographi,encrypt,clipper,tap\n",
        "sci.electronics ground,distanc,project,re power,power signal,led,style,cool tower,develop tool,assembl,2600,tv,disk copi,duct,appl mac,duct tape,voltag,electron,copi protect,circuit\n",
        "sci.med eye,gordon,health,infect,medicin,sure fire,effect,treatment,inject,food,diet,cancer,patient,allerg,med,diseas,medic,gordon bank,doctor,photographi\n",
        "sci.space mission,sunset,astronomi,sunset time,nuclear wast,tommi mac,orion,satellit,mar,pat,planet,gamma ray,spacecraft,rocket,launch,shuttl,sky,moon,orbit,space\n",
        "soc.religion.christian andrew kill,translat,apr 10,question author,broken,answer thi,sin,sex educ,homosexu issu,judgement,jame,christian,easter,origin sin,prayer,cathol,church,christ,daili,1993\n",
        "talk.politics.guns examin,brent,neil smith,liberti,ban,militia,stratu,whitehead,socialist leader,burn,weaver,rifl,fbi,hunt,cnn,waco,weapon,dividian,atf,gun\n",
        "talk.politics.mideast polici,soldier,mcgill,hate,brad,warsaw,armenia,occupi,freedom,holocaust,palestinian,jew,argic,turkish,bosnian,serdar,arab,armenian,israel,isra\n",
        "talk.politics.misc libertarian,tax,stimulu,econom,liber,good neighbor,drug,kinsey,one act,deficit,mitchel todd,ted frank,sexual,baker,gay,polic state,garrett,clayton,cramer,top ten\n",
        "talk.religion.misc royc,biblic,albert sabin,moment,ancient,john king,biblic contradict,christian re,open mind,rosicrucian,weiss,malcolm lee,new age,hudson,mormon,brian,robert weiss,promis,2000,new religion\n",
        "ng20_raw_stems_bigrams_stopwords_df0.0005_tf1 ^ wiki_wiktionary_google_bigrams_vw (extended unigrams) -->  precision  0.822467381426 recall  0.818371541059 f1  0.819005139972\n",
        "done!\n"
       ]
      }
     ],
     "prompt_number": 31
    }
   ],
   "metadata": {}
  }
 ]
}