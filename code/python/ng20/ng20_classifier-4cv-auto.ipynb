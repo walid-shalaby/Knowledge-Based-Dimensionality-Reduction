{
 "metadata": {
  "name": "",
  "signature": "sha256:5e4f9607ed2a956d0fbf19f3b390e76c9b290570ceb5aef7de8c4546f6f4ac18"
 },
 "nbformat": 3,
 "nbformat_minor": 0,
 "worksheets": [
  {
   "cells": [
    {
     "cell_type": "heading",
     "level": 1,
     "metadata": {},
     "source": [
      "Classify 20ng docs"
     ]
    },
    {
     "cell_type": "heading",
     "level": 6,
     "metadata": {},
     "source": [
      "Classifiy 20ng docs using unigrams and bigrams features with different classifiers and report classification results"
     ]
    },
    {
     "cell_type": "code",
     "collapsed": false,
     "input": [
      "def vectorize_corpus(corpus,tokenizer,vocabulary,max_ngram_size):\n",
      "    # tokenize text\n",
      "    import numpy as np\n",
      "    from sklearn.feature_extraction.text import CountVectorizer\n",
      "    from sklearn.feature_extraction.text import TfidfTransformer\n",
      "    from ng20_globals import *\n",
      "    \n",
      "    # generate corpus vectors\n",
      "    vectorizer = CountVectorizer(min_df=min_df,tokenizer=tokenizer,ngram_range=(1,max_ngram_size),vocabulary=vocabulary,stop_words={})\n",
      "    corpus_vectors = vectorizer.fit_transform(corpus)\n",
      "    \n",
      "    print 'vectorizing done, {0} terms vocabulary tokenized'.format(len(vectorizer.vocabulary_))\n",
      "    \n",
      "    # generate tfidf vectors\n",
      "    transformer = TfidfTransformer()\n",
      "    corpus_tfidf_vectors = transformer.fit_transform(corpus_vectors)\n",
      "\n",
      "    return vectorizer, corpus_tfidf_vectors"
     ],
     "language": "python",
     "metadata": {},
     "outputs": [
      {
       "output_type": "stream",
       "stream": "stderr",
       "text": [
        "<input>:1: SyntaxWarning: import * only allowed at module level\n",
        "<input>:1: SyntaxWarning: import * only allowed at module level\n",
        "<input>:1: SyntaxWarning: import * only allowed at module level\n",
        "<input>:1: SyntaxWarning: import * only allowed at module level\n",
        "<input>:1: SyntaxWarning: import * only allowed at module level\n",
        "<input>:1: SyntaxWarning: import * only allowed at module level\n",
        "<input>:1: SyntaxWarning: import * only allowed at module level\n",
        "<input>:1: SyntaxWarning: import * only allowed at module level\n",
        "<input>:1: SyntaxWarning: import * only allowed at module level\n",
        "<input>:1: SyntaxWarning: import * only allowed at module level\n",
        "<input>:1: SyntaxWarning: import * only allowed at module level\n",
        "<input>:1: SyntaxWarning: import * only allowed at module level\n",
        "<input>:1: SyntaxWarning: import * only allowed at module level\n",
        "<input>:1: SyntaxWarning: import * only allowed at module level\n",
        "<input>:1: SyntaxWarning: import * only allowed at module level\n",
        "<input>:1: SyntaxWarning: import * only allowed at module level\n",
        "<input>:1: SyntaxWarning: import * only allowed at module level\n",
        "<input>:1: SyntaxWarning: import * only allowed at module level\n",
        "<input>:1: SyntaxWarning: import * only allowed at module level\n",
        "<input>:1: SyntaxWarning: import * only allowed at module level\n",
        "<input>:1: SyntaxWarning: import * only allowed at module level\n",
        "<input>:1: SyntaxWarning: import * only allowed at module level\n",
        "<input>:1: SyntaxWarning: import * only allowed at module level\n",
        "<input>:1: SyntaxWarning: import * only allowed at module level\n",
        "<input>:1: SyntaxWarning: import * only allowed at module level\n",
        "<input>:1: SyntaxWarning: import * only allowed at module level\n",
        "<input>:1: SyntaxWarning: import * only allowed at module level\n",
        "<input>:1: SyntaxWarning: import * only allowed at module level\n",
        "<input>:1: SyntaxWarning: import * only allowed at module level\n",
        "<input>:1: SyntaxWarning: import * only allowed at module level\n",
        "<input>:1: SyntaxWarning: import * only allowed at module level\n",
        "<input>:1: SyntaxWarning: import * only allowed at module level\n",
        "<input>:1: SyntaxWarning: import * only allowed at module level\n",
        "<input>:1: SyntaxWarning: import * only allowed at module level\n",
        "<input>:1: SyntaxWarning: import * only allowed at module level\n",
        "<input>:1: SyntaxWarning: import * only allowed at module level\n",
        "<input>:1: SyntaxWarning: import * only allowed at module level\n",
        "<input>:1: SyntaxWarning: import * only allowed at module level\n",
        "<input>:1: SyntaxWarning: import * only allowed at module level\n",
        "<ipython-input-1-f6d4316a36bd>:1: SyntaxWarning: import * only allowed at module level\n",
        "  def vectorize_corpus(corpus,tokenizer,vocabulary,max_ngram_size):\n"
       ]
      }
     ],
     "prompt_number": 1
    },
    {
     "cell_type": "code",
     "collapsed": false,
     "input": [
      "def vectorize_corpus_new(corpus,tokenizer,vocabulary,max_ngram_size):\n",
      "    # tokenize text\n",
      "    from sklearn.feature_extraction.text import TfidfVectorizer\n",
      "    from ng20_globals import *\n",
      "    \n",
      "    # generate corpus vectors\n",
      "    vectorizer = TfidfVectorizer(min_df=min_df,tokenizer=tokenizer,ngram_range=(1,max_ngram_size),vocabulary=vocabulary,stop_words={})\n",
      "    corpus_tfidf_vectors = vectorizer.fit_transform(corpus)\n",
      "    \n",
      "    print 'vectorizing done, {0} terms vocabulary tokenized'.format(len(vectorizer.vocabulary_))\n",
      "    \n",
      "    return corpus_tfidf_vectors"
     ],
     "language": "python",
     "metadata": {},
     "outputs": [
      {
       "output_type": "stream",
       "stream": "stderr",
       "text": [
        "<input>:1: SyntaxWarning: import * only allowed at module level\n",
        "<input>:1: SyntaxWarning: import * only allowed at module level\n",
        "<input>:1: SyntaxWarning: import * only allowed at module level\n",
        "<input>:1: SyntaxWarning: import * only allowed at module level\n",
        "<input>:1: SyntaxWarning: import * only allowed at module level\n",
        "<input>:1: SyntaxWarning: import * only allowed at module level\n",
        "<input>:1: SyntaxWarning: import * only allowed at module level\n",
        "<input>:1: SyntaxWarning: import * only allowed at module level\n",
        "<input>:1: SyntaxWarning: import * only allowed at module level\n",
        "<input>:1: SyntaxWarning: import * only allowed at module level\n",
        "<input>:1: SyntaxWarning: import * only allowed at module level\n",
        "<input>:1: SyntaxWarning: import * only allowed at module level\n",
        "<input>:1: SyntaxWarning: import * only allowed at module level\n",
        "<input>:1: SyntaxWarning: import * only allowed at module level\n",
        "<input>:1: SyntaxWarning: import * only allowed at module level\n",
        "<input>:1: SyntaxWarning: import * only allowed at module level\n",
        "<input>:1: SyntaxWarning: import * only allowed at module level\n",
        "<input>:1: SyntaxWarning: import * only allowed at module level\n",
        "<input>:1: SyntaxWarning: import * only allowed at module level\n",
        "<input>:1: SyntaxWarning: import * only allowed at module level\n",
        "<input>:1: SyntaxWarning: import * only allowed at module level\n",
        "<input>:1: SyntaxWarning: import * only allowed at module level\n",
        "<input>:1: SyntaxWarning: import * only allowed at module level\n",
        "<input>:1: SyntaxWarning: import * only allowed at module level\n",
        "<input>:1: SyntaxWarning: import * only allowed at module level\n",
        "<input>:1: SyntaxWarning: import * only allowed at module level\n",
        "<input>:1: SyntaxWarning: import * only allowed at module level\n",
        "<ipython-input-2-f88374f887f0>:1: SyntaxWarning: import * only allowed at module level\n",
        "  def vectorize_corpus_new(corpus,tokenizer,vocabulary,max_ngram_size):\n"
       ]
      }
     ],
     "prompt_number": 2
    },
    {
     "cell_type": "code",
     "collapsed": false,
     "input": [
      "# given classifier predictions probabilities, return predictions with top n probabilities > 0.5 for each instance or greatest one if all are <=0.5\n",
      "def get_max_n_pred(pred_proba, n_pred, threshold):\n",
      "    import heapq\n",
      "    import numpy\n",
      "    max_n_pred = numpy.ndarray(shape=pred_proba.shape)\n",
      "    for i in range(len(pred_proba)):\n",
      "        largest_n_proba = heapq.nlargest(n_pred,pred_proba[i])\n",
      "        max_n_pred[i] = numpy.array(((pred_proba[i]>threshold) & (pred_proba[i]>=largest_n_proba[len(largest_n_proba)-1]) & 1))\n",
      "        if max_n_pred[i].sum(axis=0)==0: # at least one label should be returned\n",
      "            max_n_pred[i] = numpy.array(((pred_proba[i]>=max(pred_proba[i])) & 1))\n",
      "    return max_n_pred"
     ],
     "language": "python",
     "metadata": {},
     "outputs": [],
     "prompt_number": 3
    },
    {
     "cell_type": "code",
     "collapsed": false,
     "input": [
      "def print_top_feature_names(classifier, feature_names, label_names, max_features=20):\n",
      "    import numpy as np\n",
      "    from sklearn.utils.extmath import density\n",
      "    if hasattr(classifier,'coef_'):\n",
      "        print 'dimensionality: {0}'.format(classifier.coef_.shape[1])\n",
      "        print 'density: {0}'.format(density(classifier.coef_))\n",
      "        for i, category in enumerate(label_names):\n",
      "            top = np.argsort(classifier.coef_[i])[max_features*-1:]\n",
      "            print category,\",\".join(feature_names[top])"
     ],
     "language": "python",
     "metadata": {},
     "outputs": [],
     "prompt_number": 4
    },
    {
     "cell_type": "code",
     "collapsed": false,
     "input": [
      "# reference: http://scikit-learn.org/stable/modules/model_evaluation.html#multiclass-and-multilabel-classification\n",
      "def classify(x_train,y_train,x_test,y_test,max_labels):\n",
      "    from sklearn.preprocessing import MultiLabelBinarizer\n",
      "    from sklearn.multiclass import OneVsRestClassifier\n",
      "    from sklearn.svm import SVC\n",
      "    from sklearn.svm import LinearSVC\n",
      "    from sklearn.linear_model import LogisticRegression\n",
      "    from sklearn.naive_bayes import MultinomialNB\n",
      "    from sklearn.naive_bayes import BernoulliNB\n",
      "    from sklearn.preprocessing import binarize\n",
      "    from sklearn.cross_validation import train_test_split\n",
      "    from sklearn import metrics\n",
      "    import numpy as np\n",
      "    from numpy import mean\n",
      "    import scipy\n",
      "    from sklearn.cross_validation import cross_val_score\n",
      "    from sklearn.metrics import make_scorer\n",
      "    from sklearn.metrics import precision_score\n",
      "    from sklearn.metrics import recall_score\n",
      "    from sklearn.metrics import f1_score\n",
      "    \n",
      "    # combine train and test vectors\n",
      "    #print 'merging training and testing samples x({0}),x({1})'.format(x_train.shape,x_test.shape)\n",
      "    #print 'merging training and testing samples y({0}),y({1})'.format(len(y_train),len(y_test))\n",
      "    if x_test.shape[0]>0:\n",
      "        x = scipy.sparse.vstack((x_train,x_test))\n",
      "        y = y_train + y_test\n",
      "    else:\n",
      "        x = x_train\n",
      "        y = y_train\n",
      "    #print 'merged into x({0})'.format(x.shape)\n",
      "    #print 'merged into y({0})'.format(len(y))\n",
      "    # binarize the labels\n",
      "    #mlb = MultiLabelBinarizer()\n",
      "    #y_train_binarized = mlb.fit_transform(y_train)\n",
      "    \n",
      "    # train/test split\n",
      "    #corpus_tfidf_vectors, labels_binarized = shuffle(corpus_tfidf_vectors, labels_binarized)\n",
      "    #x_train, x_test, y_train, y_test = train_test_split(corpus_tfidf_vectors, labels_binarized, test_size=test_size, random_state=1)\n",
      "    \n",
      "    # classify\n",
      "    #cls = OneVsRestClassifier(LogisticRegression(class_weight='auto'))\n",
      "    #cls = OneVsRestClassifier(LogisticRegression())\n",
      "    #cls = MultinomialNB(alpha=0.01)\n",
      "    #cls = OneVsRestClassifier(BernoulliNB()need binarize(x_train and x_test))\n",
      "    #cls = OneVsRestClassifier(SVC(kernel='linear',probability=True,max_iter=1000))\n",
      "    #cls = LinearSVC(dual=False,penalty='l1')\n",
      "    cls = LinearSVC(class_weight='auto')\n",
      "    acc_scores = cross_val_score(cls,x,y,scoring='accuracy',cv=4,n_jobs=-1)\n",
      "    print 'accuracy scores = {0},{1}'.format(acc_scores,mean(acc_scores))\n",
      "    macro_p_scores = cross_val_score(cls,x,y,scoring=make_scorer(precision_score,average='macro'),cv=4,n_jobs=-1)\n",
      "    print 'macro precision scores = {0},{1}'.format(macro_p_scores,mean(macro_p_scores))\n",
      "    macro_r_scores = cross_val_score(cls,x,y,scoring=make_scorer(recall_score,average='macro'),cv=4,n_jobs=-1)\n",
      "    print 'macro recall scores = {0},{1}'.format(macro_r_scores,mean(macro_r_scores))\n",
      "    macro_f1_scores = cross_val_score(cls,x,y,scoring=make_scorer(f1_score,average='macro'),cv=4,n_jobs=-1)\n",
      "    print 'macro f1 scores = {0},{1}'.format(macro_f1_scores,mean(macro_f1_scores))\n",
      "    p_scores = cross_val_score(cls,x,y,scoring=make_scorer(precision_score,average='weighted'),cv=4,n_jobs=-1)\n",
      "    print 'weighted average precision scores = {0},{1}'.format(p_scores,mean(p_scores))\n",
      "    r_scores = cross_val_score(cls,x,y,scoring=make_scorer(precision_score,average='weighted'),cv=4,n_jobs=-1)\n",
      "    print 'weighted average recall scores = {0},{1}'.format(r_scores,mean(r_scores))\n",
      "    f1_scores = cross_val_score(cls,x,y,scoring=make_scorer(f1_score,average='weighted'),cv=4,n_jobs=-1)\n",
      "    print 'weighted f1 scores = {0},{1}'.format(f1_scores,mean(f1_scores))\n",
      "   \n",
      "    cls.fit(x,y)\n",
      "    \n",
      "    return {'classifier':cls,\n",
      "            'precision':mean(macro_p_scores),\n",
      "            'recall':mean(macro_r_scores),\n",
      "            'f1':mean(macro_f1_scores)}"
     ],
     "language": "python",
     "metadata": {},
     "outputs": [],
     "prompt_number": 5
    },
    {
     "cell_type": "code",
     "collapsed": false,
     "input": [
      "import sklearn\n",
      "from sklearn.svm import LinearSVC\n",
      "c = LinearSVC()\n",
      "print sklearn.__version__"
     ],
     "language": "python",
     "metadata": {},
     "outputs": [
      {
       "output_type": "stream",
       "stream": "stdout",
       "text": [
        "0.15.2\n"
       ]
      }
     ],
     "prompt_number": 6
    },
    {
     "cell_type": "code",
     "collapsed": false,
     "input": [
      "def test_all_unigrams(corpus_train_data,corpus_test_data,label_names,with_stopwords_removal,use_chi_features,use_raw_tokens):\n",
      "    import numpy as np\n",
      "    from lemmatizing_tokenizer import RawTokenizer\n",
      "    from ng20_globals import *\n",
      "    from ng20_vocabulary_loader import load_vocabulary\n",
      "    \n",
      "    max_ngram_size = 1\n",
      "    \n",
      "    if with_stopwords_removal==False:\n",
      "        stopwords_pattern = ''\n",
      "    else:\n",
      "        stopwords_pattern = '_stopwords'\n",
      "    if use_chi_features==False:\n",
      "        chi_features_pattern = ''\n",
      "    else:\n",
      "        chi_features_pattern = '_chi'\n",
      "    if use_raw_tokens==False:\n",
      "        raw_tokens_pattern = ''\n",
      "        tokenizer = None\n",
      "    else:\n",
      "        raw_tokens_pattern = '_raw'\n",
      "        tokenizer = RawTokenizer()\n",
      "    \n",
      "    # load vocabulary\n",
      "    vocabulary_tbl_name = 'ng20{0}{1}_unigrams{2}'.format(raw_tokens_pattern,chi_features_pattern,stopwords_pattern)\n",
      "    vocabulary = load_vocabulary(vocabulary_tbl_name)\n",
      "\n",
      "    # generate tfidf vectors\n",
      "    vectorizer, corpus_train_tfidf_vectors = vectorize_corpus(corpus_train_data['corpus'],tokenizer,vocabulary,max_ngram_size)\n",
      "    _, corpus_test_tfidf_vectors = vectorize_corpus(corpus_test_data['corpus'],tokenizer,vocabulary,max_ngram_size)\n",
      "    \n",
      "    # classify & evaluate    \n",
      "    results = classify(corpus_train_tfidf_vectors,corpus_train_data['labels'],\n",
      "                       corpus_test_tfidf_vectors,corpus_test_data['labels'],\n",
      "                       max_labels)\n",
      "    \n",
      "    print_top_feature_names(results['classifier'], np.asarray(vectorizer.get_feature_names()), label_names)\n",
      "    \n",
      "    print vocabulary_tbl_name,' --> ','precision ',results['precision'],'recall ',results['recall'],'f1 ',results['f1']"
     ],
     "language": "python",
     "metadata": {},
     "outputs": [
      {
       "output_type": "stream",
       "stream": "stderr",
       "text": [
        "<input>:1: SyntaxWarning: import * only allowed at module level\n",
        "<input>:1: SyntaxWarning: import * only allowed at module level\n",
        "<input>:1: SyntaxWarning: import * only allowed at module level\n",
        "<input>:1: SyntaxWarning: import * only allowed at module level\n",
        "<input>:1: SyntaxWarning: import * only allowed at module level\n",
        "<input>:1: SyntaxWarning: import * only allowed at module level\n",
        "<input>:1: SyntaxWarning: import * only allowed at module level\n",
        "<input>:1: SyntaxWarning: import * only allowed at module level\n",
        "<input>:1: SyntaxWarning: import * only allowed at module level\n",
        "<input>:1: SyntaxWarning: import * only allowed at module level\n",
        "<input>:1: SyntaxWarning: import * only allowed at module level\n",
        "<input>:1: SyntaxWarning: import * only allowed at module level\n",
        "<input>:1: SyntaxWarning: import * only allowed at module level\n",
        "<input>:1: SyntaxWarning: import * only allowed at module level\n",
        "<input>:1: SyntaxWarning: import * only allowed at module level\n",
        "<input>:1: SyntaxWarning: import * only allowed at module level\n",
        "<input>:1: SyntaxWarning: import * only allowed at module level\n",
        "<input>:1: SyntaxWarning: import * only allowed at module level\n",
        "<input>:1: SyntaxWarning: import * only allowed at module level\n",
        "<input>:1: SyntaxWarning: import * only allowed at module level\n",
        "<input>:1: SyntaxWarning: import * only allowed at module level\n",
        "<input>:1: SyntaxWarning: import * only allowed at module level\n",
        "<input>:1: SyntaxWarning: import * only allowed at module level\n",
        "<input>:1: SyntaxWarning: import * only allowed at module level\n",
        "<input>:1: SyntaxWarning: import * only allowed at module level\n",
        "<input>:1: SyntaxWarning: import * only allowed at module level\n",
        "<input>:1: SyntaxWarning: import * only allowed at module level\n",
        "<input>:1: SyntaxWarning: import * only allowed at module level\n",
        "<input>:1: SyntaxWarning: import * only allowed at module level\n",
        "<input>:1: SyntaxWarning: import * only allowed at module level\n",
        "<input>:1: SyntaxWarning: import * only allowed at module level\n",
        "<input>:1: SyntaxWarning: import * only allowed at module level\n",
        "<input>:1: SyntaxWarning: import * only allowed at module level\n",
        "<input>:1: SyntaxWarning: import * only allowed at module level\n",
        "<input>:1: SyntaxWarning: import * only allowed at module level\n",
        "<input>:1: SyntaxWarning: import * only allowed at module level\n",
        "<input>:1: SyntaxWarning: import * only allowed at module level\n",
        "<input>:1: SyntaxWarning: import * only allowed at module level\n",
        "<input>:1: SyntaxWarning: import * only allowed at module level\n",
        "<input>:1: SyntaxWarning: import * only allowed at module level\n",
        "<input>:1: SyntaxWarning: import * only allowed at module level\n",
        "<input>:1: SyntaxWarning: import * only allowed at module level\n",
        "<input>:1: SyntaxWarning: import * only allowed at module level\n",
        "<input>:1: SyntaxWarning: import * only allowed at module level\n",
        "<input>:1: SyntaxWarning: import * only allowed at module level\n",
        "<input>:1: SyntaxWarning: import * only allowed at module level\n",
        "<input>:1: SyntaxWarning: import * only allowed at module level\n",
        "<input>:1: SyntaxWarning: import * only allowed at module level\n",
        "<input>:1: SyntaxWarning: import * only allowed at module level\n",
        "<input>:1: SyntaxWarning: import * only allowed at module level\n",
        "<input>:1: SyntaxWarning: import * only allowed at module level\n",
        "<input>:1: SyntaxWarning: import * only allowed at module level\n",
        "<input>:1: SyntaxWarning: import * only allowed at module level\n",
        "<input>:1: SyntaxWarning: import * only allowed at module level\n",
        "<input>:1: SyntaxWarning: import * only allowed at module level\n",
        "<input>:1: SyntaxWarning: import * only allowed at module level\n",
        "<input>:1: SyntaxWarning: import * only allowed at module level\n",
        "<input>:1: SyntaxWarning: import * only allowed at module level\n",
        "<input>:1: SyntaxWarning: import * only allowed at module level\n",
        "<input>:1: SyntaxWarning: import * only allowed at module level\n",
        "<input>:1: SyntaxWarning: import * only allowed at module level\n",
        "<input>:1: SyntaxWarning: import * only allowed at module level\n",
        "<input>:1: SyntaxWarning: import * only allowed at module level\n",
        "<input>:1: SyntaxWarning: import * only allowed at module level\n",
        "<input>:1: SyntaxWarning: import * only allowed at module level\n",
        "<input>:1: SyntaxWarning: import * only allowed at module level\n",
        "<input>:1: SyntaxWarning: import * only allowed at module level\n",
        "<input>:1: SyntaxWarning: import * only allowed at module level\n",
        "<input>:1: SyntaxWarning: import * only allowed at module level\n",
        "<input>:1: SyntaxWarning: import * only allowed at module level\n",
        "<input>:1: SyntaxWarning: import * only allowed at module level\n",
        "<input>:1: SyntaxWarning: import * only allowed at module level\n",
        "<input>:1: SyntaxWarning: import * only allowed at module level\n",
        "<input>:1: SyntaxWarning: import * only allowed at module level\n",
        "<input>:1: SyntaxWarning: import * only allowed at module level\n",
        "<input>:1: SyntaxWarning: import * only allowed at module level\n",
        "<input>:1: SyntaxWarning: import * only allowed at module level\n",
        "<input>:1: SyntaxWarning: import * only allowed at module level\n",
        "<input>:1: SyntaxWarning: import * only allowed at module level\n",
        "<input>:1: SyntaxWarning: import * only allowed at module level\n",
        "<input>:1: SyntaxWarning: import * only allowed at module level\n",
        "<input>:1: SyntaxWarning: import * only allowed at module level\n",
        "<input>:1: SyntaxWarning: import * only allowed at module level\n",
        "<input>:1: SyntaxWarning: import * only allowed at module level\n",
        "<ipython-input-7-77cb7ab5b8d8>:1: SyntaxWarning: import * only allowed at module level\n",
        "  def test_all_unigrams(corpus_train_data,corpus_test_data,label_names,with_stopwords_removal,use_chi_features,use_raw_tokens):\n"
       ]
      }
     ],
     "prompt_number": 7
    },
    {
     "cell_type": "code",
     "collapsed": false,
     "input": [
      "def test_lemmatized_unigrams(corpus_train_data,corpus_test_data,label_names,with_stopwords_removal,use_chi_features,use_raw_tokens):\n",
      "    import numpy as np\n",
      "    from lemmatizing_tokenizer import LemmaTokenizer\n",
      "    from lemmatizing_tokenizer import RawLemmaTokenizer\n",
      "    from ng20_globals import *\n",
      "    from ng20_vocabulary_loader import load_vocabulary\n",
      "    \n",
      "    max_ngram_size = 1\n",
      "    \n",
      "    if with_stopwords_removal==False:\n",
      "        stopwords_pattern = ''\n",
      "    else:\n",
      "        stopwords_pattern = '_stopwords'\n",
      "    if use_chi_features==False:\n",
      "        chi_features_pattern = ''\n",
      "    else:\n",
      "        chi_features_pattern = '_chi'\n",
      "    if use_raw_tokens==False:\n",
      "        raw_tokens_pattern = ''\n",
      "        tokenizer = LemmaTokenizer()\n",
      "    else:\n",
      "        raw_tokens_pattern = '_raw'\n",
      "        tokenizer = RawLemmaTokenizer()\n",
      "    \n",
      "    # load vocabulary\n",
      "    vocabulary_tbl_name = 'ng20{0}_lemmas{1}_unigrams{2}_df{3}_tf{4}'.format(raw_tokens_pattern,chi_features_pattern,stopwords_pattern,min_df,min_tf)\n",
      "    vocabulary = load_vocabulary(vocabulary_tbl_name)\n",
      "\n",
      "    # generate tfidf vectors\n",
      "    vectorizer, corpus_train_tfidf_vectors = vectorize_corpus(corpus_train_data['corpus'],tokenizer,vocabulary,max_ngram_size)\n",
      "    _, corpus_test_tfidf_vectors = vectorize_corpus(corpus_test_data['corpus'],tokenizer,vocabulary,max_ngram_size)\n",
      "    \n",
      "    # classify & evaluate    \n",
      "    results = classify(corpus_train_tfidf_vectors,corpus_train_data['labels'],\n",
      "                       corpus_test_tfidf_vectors,corpus_test_data['labels'],\n",
      "                       max_labels)\n",
      "    \n",
      "    print_top_feature_names(results['classifier'], np.asarray(vectorizer.get_feature_names()), label_names)\n",
      "    \n",
      "    print vocabulary_tbl_name,' --> ','precision ',results['precision'],'recall ',results['recall'],'f1 ',results['f1']"
     ],
     "language": "python",
     "metadata": {},
     "outputs": [
      {
       "output_type": "stream",
       "stream": "stderr",
       "text": [
        "<input>:1: SyntaxWarning: import * only allowed at module level\n",
        "<input>:1: SyntaxWarning: import * only allowed at module level\n",
        "<input>:1: SyntaxWarning: import * only allowed at module level\n",
        "<input>:1: SyntaxWarning: import * only allowed at module level\n",
        "<input>:1: SyntaxWarning: import * only allowed at module level\n",
        "<input>:1: SyntaxWarning: import * only allowed at module level\n",
        "<input>:1: SyntaxWarning: import * only allowed at module level\n",
        "<input>:1: SyntaxWarning: import * only allowed at module level\n",
        "<input>:1: SyntaxWarning: import * only allowed at module level\n",
        "<input>:1: SyntaxWarning: import * only allowed at module level\n",
        "<input>:1: SyntaxWarning: import * only allowed at module level\n",
        "<input>:1: SyntaxWarning: import * only allowed at module level\n",
        "<input>:1: SyntaxWarning: import * only allowed at module level\n",
        "<input>:1: SyntaxWarning: import * only allowed at module level\n",
        "<input>:1: SyntaxWarning: import * only allowed at module level\n",
        "<input>:1: SyntaxWarning: import * only allowed at module level\n",
        "<input>:1: SyntaxWarning: import * only allowed at module level\n",
        "<input>:1: SyntaxWarning: import * only allowed at module level\n",
        "<input>:1: SyntaxWarning: import * only allowed at module level\n",
        "<input>:1: SyntaxWarning: import * only allowed at module level\n",
        "<input>:1: SyntaxWarning: import * only allowed at module level\n",
        "<input>:1: SyntaxWarning: import * only allowed at module level\n",
        "<input>:1: SyntaxWarning: import * only allowed at module level\n",
        "<input>:1: SyntaxWarning: import * only allowed at module level\n",
        "<input>:1: SyntaxWarning: import * only allowed at module level\n",
        "<input>:1: SyntaxWarning: import * only allowed at module level\n",
        "<input>:1: SyntaxWarning: import * only allowed at module level\n",
        "<input>:1: SyntaxWarning: import * only allowed at module level\n",
        "<input>:1: SyntaxWarning: import * only allowed at module level\n",
        "<input>:1: SyntaxWarning: import * only allowed at module level\n",
        "<input>:1: SyntaxWarning: import * only allowed at module level\n",
        "<input>:1: SyntaxWarning: import * only allowed at module level\n",
        "<input>:1: SyntaxWarning: import * only allowed at module level\n",
        "<input>:1: SyntaxWarning: import * only allowed at module level\n",
        "<input>:1: SyntaxWarning: import * only allowed at module level\n",
        "<input>:1: SyntaxWarning: import * only allowed at module level\n",
        "<input>:1: SyntaxWarning: import * only allowed at module level\n",
        "<input>:1: SyntaxWarning: import * only allowed at module level\n",
        "<input>:1: SyntaxWarning: import * only allowed at module level\n",
        "<input>:1: SyntaxWarning: import * only allowed at module level\n",
        "<input>:1: SyntaxWarning: import * only allowed at module level\n",
        "<input>:1: SyntaxWarning: import * only allowed at module level\n",
        "<input>:1: SyntaxWarning: import * only allowed at module level\n",
        "<input>:1: SyntaxWarning: import * only allowed at module level\n",
        "<input>:1: SyntaxWarning: import * only allowed at module level\n",
        "<input>:1: SyntaxWarning: import * only allowed at module level\n",
        "<input>:1: SyntaxWarning: import * only allowed at module level\n",
        "<input>:1: SyntaxWarning: import * only allowed at module level\n",
        "<input>:1: SyntaxWarning: import * only allowed at module level\n",
        "<input>:1: SyntaxWarning: import * only allowed at module level\n",
        "<input>:1: SyntaxWarning: import * only allowed at module level\n",
        "<input>:1: SyntaxWarning: import * only allowed at module level\n",
        "<input>:1: SyntaxWarning: import * only allowed at module level\n",
        "<input>:1: SyntaxWarning: import * only allowed at module level\n",
        "<input>:1: SyntaxWarning: import * only allowed at module level\n",
        "<input>:1: SyntaxWarning: import * only allowed at module level\n",
        "<input>:1: SyntaxWarning: import * only allowed at module level\n",
        "<input>:1: SyntaxWarning: import * only allowed at module level\n",
        "<input>:1: SyntaxWarning: import * only allowed at module level\n",
        "<input>:1: SyntaxWarning: import * only allowed at module level\n",
        "<input>:1: SyntaxWarning: import * only allowed at module level\n",
        "<input>:1: SyntaxWarning: import * only allowed at module level\n",
        "<input>:1: SyntaxWarning: import * only allowed at module level\n",
        "<input>:1: SyntaxWarning: import * only allowed at module level\n",
        "<input>:1: SyntaxWarning: import * only allowed at module level\n",
        "<input>:1: SyntaxWarning: import * only allowed at module level\n",
        "<input>:1: SyntaxWarning: import * only allowed at module level\n",
        "<input>:1: SyntaxWarning: import * only allowed at module level\n",
        "<input>:1: SyntaxWarning: import * only allowed at module level\n",
        "<input>:1: SyntaxWarning: import * only allowed at module level\n",
        "<input>:1: SyntaxWarning: import * only allowed at module level\n",
        "<input>:1: SyntaxWarning: import * only allowed at module level\n",
        "<input>:1: SyntaxWarning: import * only allowed at module level\n",
        "<input>:1: SyntaxWarning: import * only allowed at module level\n",
        "<input>:1: SyntaxWarning: import * only allowed at module level\n",
        "<input>:1: SyntaxWarning: import * only allowed at module level\n",
        "<input>:1: SyntaxWarning: import * only allowed at module level\n",
        "<input>:1: SyntaxWarning: import * only allowed at module level\n",
        "<input>:1: SyntaxWarning: import * only allowed at module level\n",
        "<input>:1: SyntaxWarning: import * only allowed at module level\n",
        "<input>:1: SyntaxWarning: import * only allowed at module level\n",
        "<input>:1: SyntaxWarning: import * only allowed at module level\n",
        "<input>:1: SyntaxWarning: import * only allowed at module level\n",
        "<input>:1: SyntaxWarning: import * only allowed at module level\n",
        "<ipython-input-8-ca66c3443484>:1: SyntaxWarning: import * only allowed at module level\n",
        "  def test_lemmatized_unigrams(corpus_train_data,corpus_test_data,label_names,with_stopwords_removal,use_chi_features,use_raw_tokens):\n"
       ]
      }
     ],
     "prompt_number": 8
    },
    {
     "cell_type": "code",
     "collapsed": false,
     "input": [
      "def test_all_bigrams(corpus_train_data,corpus_test_data,label_names,with_stopwords_removal,use_chi_features,use_raw_tokens):\n",
      "    import numpy as np\n",
      "    from lemmatizing_tokenizer import LemmaTokenizer\n",
      "    from lemmatizing_tokenizer import RawTokenizer\n",
      "    from ng20_globals import *\n",
      "    from ng20_vocabulary_loader import load_vocabulary\n",
      "    \n",
      "    max_ngram_size = 2\n",
      "    \n",
      "    if with_stopwords_removal==False:\n",
      "        stopwords_pattern = ''\n",
      "    else:\n",
      "        stopwords_pattern = '_stopwords'\n",
      "    if use_chi_features==False:\n",
      "        chi_features_pattern = ''\n",
      "    else:\n",
      "        chi_features_pattern = '_chi'\n",
      "    if use_raw_tokens==False:\n",
      "        raw_tokens_pattern = ''\n",
      "        tokenizer = None\n",
      "    else:\n",
      "        raw_tokens_pattern = '_raw'\n",
      "        tokenizer = RawTokenizer()\n",
      "    \n",
      "    # load vocabulary\n",
      "    vocabulary_tbl_name = 'ng20{0}{1}_bigrams{2}'.format(raw_tokens_pattern,chi_features_pattern,stopwords_pattern)\n",
      "    vocabulary = load_vocabulary(vocabulary_tbl_name)\n",
      "\n",
      "    # generate tfidf vectors\n",
      "    vectorizer, corpus_train_tfidf_vectors = vectorize_corpus(corpus_train_data['corpus'],tokenizer,vocabulary,max_ngram_size)\n",
      "    _, corpus_test_tfidf_vectors = vectorize_corpus(corpus_test_data['corpus'],tokenizer,vocabulary,max_ngram_size)\n",
      "    \n",
      "    # classify & evaluate    \n",
      "    results = classify(corpus_train_tfidf_vectors,corpus_train_data['labels'],\n",
      "                       corpus_test_tfidf_vectors,corpus_test_data['labels'],\n",
      "                       max_labels)\n",
      "\n",
      "    print_top_feature_names(results['classifier'], np.asarray(vectorizer.get_feature_names()), label_names)\n",
      "    \n",
      "    print vocabulary_tbl_name,' --> ','precision ',results['precision'],'recall ',results['recall'],'f1 ',results['f1']"
     ],
     "language": "python",
     "metadata": {},
     "outputs": [
      {
       "output_type": "stream",
       "stream": "stderr",
       "text": [
        "<input>:1: SyntaxWarning: import * only allowed at module level\n",
        "<input>:1: SyntaxWarning: import * only allowed at module level\n",
        "<input>:1: SyntaxWarning: import * only allowed at module level\n",
        "<input>:1: SyntaxWarning: import * only allowed at module level\n",
        "<input>:1: SyntaxWarning: import * only allowed at module level\n",
        "<input>:1: SyntaxWarning: import * only allowed at module level\n",
        "<input>:1: SyntaxWarning: import * only allowed at module level\n",
        "<input>:1: SyntaxWarning: import * only allowed at module level\n",
        "<input>:1: SyntaxWarning: import * only allowed at module level\n",
        "<input>:1: SyntaxWarning: import * only allowed at module level\n",
        "<input>:1: SyntaxWarning: import * only allowed at module level\n",
        "<input>:1: SyntaxWarning: import * only allowed at module level\n",
        "<input>:1: SyntaxWarning: import * only allowed at module level\n",
        "<input>:1: SyntaxWarning: import * only allowed at module level\n",
        "<input>:1: SyntaxWarning: import * only allowed at module level\n",
        "<input>:1: SyntaxWarning: import * only allowed at module level\n",
        "<input>:1: SyntaxWarning: import * only allowed at module level\n",
        "<input>:1: SyntaxWarning: import * only allowed at module level\n",
        "<input>:1: SyntaxWarning: import * only allowed at module level\n",
        "<input>:1: SyntaxWarning: import * only allowed at module level\n",
        "<input>:1: SyntaxWarning: import * only allowed at module level\n",
        "<input>:1: SyntaxWarning: import * only allowed at module level\n",
        "<input>:1: SyntaxWarning: import * only allowed at module level\n",
        "<input>:1: SyntaxWarning: import * only allowed at module level\n",
        "<input>:1: SyntaxWarning: import * only allowed at module level\n",
        "<input>:1: SyntaxWarning: import * only allowed at module level\n",
        "<input>:1: SyntaxWarning: import * only allowed at module level\n",
        "<input>:1: SyntaxWarning: import * only allowed at module level\n",
        "<input>:1: SyntaxWarning: import * only allowed at module level\n",
        "<input>:1: SyntaxWarning: import * only allowed at module level\n",
        "<input>:1: SyntaxWarning: import * only allowed at module level\n",
        "<input>:1: SyntaxWarning: import * only allowed at module level\n",
        "<input>:1: SyntaxWarning: import * only allowed at module level\n",
        "<input>:1: SyntaxWarning: import * only allowed at module level\n",
        "<input>:1: SyntaxWarning: import * only allowed at module level\n",
        "<input>:1: SyntaxWarning: import * only allowed at module level\n",
        "<input>:1: SyntaxWarning: import * only allowed at module level\n",
        "<input>:1: SyntaxWarning: import * only allowed at module level\n",
        "<input>:1: SyntaxWarning: import * only allowed at module level\n",
        "<input>:1: SyntaxWarning: import * only allowed at module level\n",
        "<input>:1: SyntaxWarning: import * only allowed at module level\n",
        "<input>:1: SyntaxWarning: import * only allowed at module level\n",
        "<input>:1: SyntaxWarning: import * only allowed at module level\n",
        "<input>:1: SyntaxWarning: import * only allowed at module level\n",
        "<input>:1: SyntaxWarning: import * only allowed at module level\n",
        "<input>:1: SyntaxWarning: import * only allowed at module level\n",
        "<input>:1: SyntaxWarning: import * only allowed at module level\n",
        "<input>:1: SyntaxWarning: import * only allowed at module level\n",
        "<input>:1: SyntaxWarning: import * only allowed at module level\n",
        "<input>:1: SyntaxWarning: import * only allowed at module level\n",
        "<input>:1: SyntaxWarning: import * only allowed at module level\n",
        "<input>:1: SyntaxWarning: import * only allowed at module level\n",
        "<input>:1: SyntaxWarning: import * only allowed at module level\n",
        "<input>:1: SyntaxWarning: import * only allowed at module level\n",
        "<input>:1: SyntaxWarning: import * only allowed at module level\n",
        "<input>:1: SyntaxWarning: import * only allowed at module level\n",
        "<input>:1: SyntaxWarning: import * only allowed at module level\n",
        "<input>:1: SyntaxWarning: import * only allowed at module level\n",
        "<input>:1: SyntaxWarning: import * only allowed at module level\n",
        "<input>:1: SyntaxWarning: import * only allowed at module level\n",
        "<input>:1: SyntaxWarning: import * only allowed at module level\n",
        "<input>:1: SyntaxWarning: import * only allowed at module level\n",
        "<input>:1: SyntaxWarning: import * only allowed at module level\n",
        "<input>:1: SyntaxWarning: import * only allowed at module level\n",
        "<input>:1: SyntaxWarning: import * only allowed at module level\n",
        "<input>:1: SyntaxWarning: import * only allowed at module level\n",
        "<input>:1: SyntaxWarning: import * only allowed at module level\n",
        "<input>:1: SyntaxWarning: import * only allowed at module level\n",
        "<input>:1: SyntaxWarning: import * only allowed at module level\n",
        "<input>:1: SyntaxWarning: import * only allowed at module level\n",
        "<input>:1: SyntaxWarning: import * only allowed at module level\n",
        "<input>:1: SyntaxWarning: import * only allowed at module level\n",
        "<input>:1: SyntaxWarning: import * only allowed at module level\n",
        "<input>:1: SyntaxWarning: import * only allowed at module level\n",
        "<input>:1: SyntaxWarning: import * only allowed at module level\n",
        "<input>:1: SyntaxWarning: import * only allowed at module level\n",
        "<input>:1: SyntaxWarning: import * only allowed at module level\n",
        "<input>:1: SyntaxWarning: import * only allowed at module level\n",
        "<input>:1: SyntaxWarning: import * only allowed at module level\n",
        "<input>:1: SyntaxWarning: import * only allowed at module level\n",
        "<input>:1: SyntaxWarning: import * only allowed at module level\n",
        "<input>:1: SyntaxWarning: import * only allowed at module level\n",
        "<input>:1: SyntaxWarning: import * only allowed at module level\n",
        "<input>:1: SyntaxWarning: import * only allowed at module level\n",
        "<ipython-input-9-33560924c95a>:1: SyntaxWarning: import * only allowed at module level\n",
        "  def test_all_bigrams(corpus_train_data,corpus_test_data,label_names,with_stopwords_removal,use_chi_features,use_raw_tokens):\n"
       ]
      }
     ],
     "prompt_number": 9
    },
    {
     "cell_type": "code",
     "collapsed": false,
     "input": [
      "def test_lemmatized_bigrams(corpus_train_data,corpus_test_data,label_names,with_stopwords_removal,use_chi_features,use_raw_tokens):\n",
      "    import numpy as np\n",
      "    from lemmatizing_tokenizer import LemmaTokenizer\n",
      "    from lemmatizing_tokenizer import RawLemmaTokenizer\n",
      "    from ng20_globals import *\n",
      "    from ng20_vocabulary_loader import load_vocabulary\n",
      "    \n",
      "    max_ngram_size = 2\n",
      "    \n",
      "    if with_stopwords_removal==False:\n",
      "        stopwords_pattern = ''\n",
      "    else:\n",
      "        stopwords_pattern = '_stopwords'\n",
      "    if use_chi_features==False:\n",
      "        chi_features_pattern = ''\n",
      "    else:\n",
      "        chi_features_pattern = '_chi'\n",
      "    if use_raw_tokens==False:\n",
      "        raw_tokens_pattern = ''\n",
      "        tokenizer = LemmaTokenizer()\n",
      "    else:\n",
      "        raw_tokens_pattern = '_raw'\n",
      "        tokenizer = RawLemmaTokenizer()\n",
      "    \n",
      "    # load vocabulary\n",
      "    vocabulary_tbl_name = 'ng20{0}_lemmas{1}_bigrams{2}_df{3}_tf{4}'.format(raw_tokens_pattern,chi_features_pattern,stopwords_pattern,min_df,min_tf)\n",
      "    vocabulary = load_vocabulary(vocabulary_tbl_name)\n",
      "\n",
      "    # generate tfidf vectors\n",
      "    vectorizer, corpus_train_tfidf_vectors = vectorize_corpus(corpus_train_data['corpus'],tokenizer,vocabulary,max_ngram_size)\n",
      "    _, corpus_test_tfidf_vectors = vectorize_corpus(corpus_test_data['corpus'],tokenizer,vocabulary,max_ngram_size)\n",
      "    \n",
      "    # classify & evaluate    \n",
      "    results = classify(corpus_train_tfidf_vectors,corpus_train_data['labels'],\n",
      "                       corpus_test_tfidf_vectors,corpus_test_data['labels'],\n",
      "                       max_labels)\n",
      "\n",
      "    print_top_feature_names(results['classifier'], np.asarray(vectorizer.get_feature_names()), label_names)\n",
      "    \n",
      "    print vocabulary_tbl_name,' --> ','precision ',results['precision'],'recall ',results['recall'],'f1 ',results['f1']"
     ],
     "language": "python",
     "metadata": {},
     "outputs": [
      {
       "output_type": "stream",
       "stream": "stderr",
       "text": [
        "<input>:1: SyntaxWarning: import * only allowed at module level\n",
        "<input>:1: SyntaxWarning: import * only allowed at module level\n",
        "<input>:1: SyntaxWarning: import * only allowed at module level\n",
        "<input>:1: SyntaxWarning: import * only allowed at module level\n",
        "<input>:1: SyntaxWarning: import * only allowed at module level\n",
        "<input>:1: SyntaxWarning: import * only allowed at module level\n",
        "<input>:1: SyntaxWarning: import * only allowed at module level\n",
        "<input>:1: SyntaxWarning: import * only allowed at module level\n",
        "<input>:1: SyntaxWarning: import * only allowed at module level\n",
        "<input>:1: SyntaxWarning: import * only allowed at module level\n",
        "<input>:1: SyntaxWarning: import * only allowed at module level\n",
        "<input>:1: SyntaxWarning: import * only allowed at module level\n",
        "<input>:1: SyntaxWarning: import * only allowed at module level\n",
        "<input>:1: SyntaxWarning: import * only allowed at module level\n",
        "<input>:1: SyntaxWarning: import * only allowed at module level\n",
        "<input>:1: SyntaxWarning: import * only allowed at module level\n",
        "<input>:1: SyntaxWarning: import * only allowed at module level\n",
        "<input>:1: SyntaxWarning: import * only allowed at module level\n",
        "<input>:1: SyntaxWarning: import * only allowed at module level\n",
        "<input>:1: SyntaxWarning: import * only allowed at module level\n",
        "<input>:1: SyntaxWarning: import * only allowed at module level\n",
        "<input>:1: SyntaxWarning: import * only allowed at module level\n",
        "<input>:1: SyntaxWarning: import * only allowed at module level\n",
        "<input>:1: SyntaxWarning: import * only allowed at module level\n",
        "<input>:1: SyntaxWarning: import * only allowed at module level\n",
        "<input>:1: SyntaxWarning: import * only allowed at module level\n",
        "<input>:1: SyntaxWarning: import * only allowed at module level\n",
        "<input>:1: SyntaxWarning: import * only allowed at module level\n",
        "<input>:1: SyntaxWarning: import * only allowed at module level\n",
        "<input>:1: SyntaxWarning: import * only allowed at module level\n",
        "<input>:1: SyntaxWarning: import * only allowed at module level\n",
        "<input>:1: SyntaxWarning: import * only allowed at module level\n",
        "<input>:1: SyntaxWarning: import * only allowed at module level\n",
        "<input>:1: SyntaxWarning: import * only allowed at module level\n",
        "<input>:1: SyntaxWarning: import * only allowed at module level\n",
        "<input>:1: SyntaxWarning: import * only allowed at module level\n",
        "<input>:1: SyntaxWarning: import * only allowed at module level\n",
        "<input>:1: SyntaxWarning: import * only allowed at module level\n",
        "<input>:1: SyntaxWarning: import * only allowed at module level\n",
        "<input>:1: SyntaxWarning: import * only allowed at module level\n",
        "<input>:1: SyntaxWarning: import * only allowed at module level\n",
        "<input>:1: SyntaxWarning: import * only allowed at module level\n",
        "<input>:1: SyntaxWarning: import * only allowed at module level\n",
        "<input>:1: SyntaxWarning: import * only allowed at module level\n",
        "<input>:1: SyntaxWarning: import * only allowed at module level\n",
        "<input>:1: SyntaxWarning: import * only allowed at module level\n",
        "<input>:1: SyntaxWarning: import * only allowed at module level\n",
        "<input>:1: SyntaxWarning: import * only allowed at module level\n",
        "<input>:1: SyntaxWarning: import * only allowed at module level\n",
        "<input>:1: SyntaxWarning: import * only allowed at module level\n",
        "<input>:1: SyntaxWarning: import * only allowed at module level\n",
        "<input>:1: SyntaxWarning: import * only allowed at module level\n",
        "<input>:1: SyntaxWarning: import * only allowed at module level\n",
        "<input>:1: SyntaxWarning: import * only allowed at module level\n",
        "<input>:1: SyntaxWarning: import * only allowed at module level\n",
        "<input>:1: SyntaxWarning: import * only allowed at module level\n",
        "<input>:1: SyntaxWarning: import * only allowed at module level\n",
        "<input>:1: SyntaxWarning: import * only allowed at module level\n",
        "<input>:1: SyntaxWarning: import * only allowed at module level\n",
        "<input>:1: SyntaxWarning: import * only allowed at module level\n",
        "<input>:1: SyntaxWarning: import * only allowed at module level\n",
        "<input>:1: SyntaxWarning: import * only allowed at module level\n",
        "<input>:1: SyntaxWarning: import * only allowed at module level\n",
        "<input>:1: SyntaxWarning: import * only allowed at module level\n",
        "<input>:1: SyntaxWarning: import * only allowed at module level\n",
        "<input>:1: SyntaxWarning: import * only allowed at module level\n",
        "<input>:1: SyntaxWarning: import * only allowed at module level\n",
        "<input>:1: SyntaxWarning: import * only allowed at module level\n",
        "<input>:1: SyntaxWarning: import * only allowed at module level\n",
        "<input>:1: SyntaxWarning: import * only allowed at module level\n",
        "<input>:1: SyntaxWarning: import * only allowed at module level\n",
        "<input>:1: SyntaxWarning: import * only allowed at module level\n",
        "<input>:1: SyntaxWarning: import * only allowed at module level\n",
        "<input>:1: SyntaxWarning: import * only allowed at module level\n",
        "<input>:1: SyntaxWarning: import * only allowed at module level\n",
        "<input>:1: SyntaxWarning: import * only allowed at module level\n",
        "<input>:1: SyntaxWarning: import * only allowed at module level\n",
        "<input>:1: SyntaxWarning: import * only allowed at module level\n",
        "<input>:1: SyntaxWarning: import * only allowed at module level\n",
        "<input>:1: SyntaxWarning: import * only allowed at module level\n",
        "<input>:1: SyntaxWarning: import * only allowed at module level\n",
        "<input>:1: SyntaxWarning: import * only allowed at module level\n",
        "<input>:1: SyntaxWarning: import * only allowed at module level\n",
        "<input>:1: SyntaxWarning: import * only allowed at module level\n",
        "<ipython-input-10-00c480486dcf>:1: SyntaxWarning: import * only allowed at module level\n",
        "  def test_lemmatized_bigrams(corpus_train_data,corpus_test_data,label_names,with_stopwords_removal,use_chi_features,use_raw_tokens):\n"
       ]
      }
     ],
     "prompt_number": 10
    },
    {
     "cell_type": "code",
     "collapsed": false,
     "input": [
      "def test_lemmatized_bigrams_with_LSA(corpus_train_data,corpus_test_data,label_names,with_stopwords_removal,use_chi_features,use_raw_tokens,num_components):\n",
      "    import numpy as np\n",
      "    from lemmatizing_tokenizer import LemmaTokenizer\n",
      "    from lemmatizing_tokenizer import RawLemmaTokenizer\n",
      "    from ng20_globals import *\n",
      "    from ng20_vocabulary_loader import load_vocabulary\n",
      "    from sklearn.decomposition import TruncatedSVD\n",
      "    from scipy import sparse\n",
      "    import numpy\n",
      "    \n",
      "    max_ngram_size = 2\n",
      "    \n",
      "    if with_stopwords_removal==False:\n",
      "        stopwords_pattern = ''\n",
      "    else:\n",
      "        stopwords_pattern = '_stopwords'\n",
      "    if use_chi_features==False:\n",
      "        chi_features_pattern = ''\n",
      "    else:\n",
      "        chi_features_pattern = '_chi'\n",
      "    if use_raw_tokens==False:\n",
      "        raw_tokens_pattern = ''\n",
      "        tokenizer = LemmaTokenizer()\n",
      "    else:\n",
      "        raw_tokens_pattern = '_raw'\n",
      "        tokenizer = RawLemmaTokenizer()\n",
      "    \n",
      "    # load vocabulary\n",
      "    vocabulary_tbl_name = 'ng20{0}_lemmas{1}_bigrams{2}_df{3}_tf{4}'.format(raw_tokens_pattern,chi_features_pattern,stopwords_pattern,min_df,min_tf)\n",
      "    vocabulary = load_vocabulary(vocabulary_tbl_name)\n",
      "\n",
      "    # generate tfidf vectors\n",
      "    vectorizer, corpus_train_tfidf_vectors = vectorize_corpus(corpus_train_data['corpus'],tokenizer,vocabulary,max_ngram_size)\n",
      "    _, corpus_test_tfidf_vectors = vectorize_corpus(corpus_test_data['corpus'],tokenizer,vocabulary,max_ngram_size)\n",
      "    \n",
      "    # apply LSA\n",
      "    #print numpy.max(corpus_train_tfidf_vectors)\n",
      "    #print numpy.min(corpus_train_tfidf_vectors)\n",
      "    lsa = TruncatedSVD(n_components=num_components)\n",
      "    lsa.fit(corpus_train_tfidf_vectors)\n",
      "    #corpus_train_tfidf_vectors = numpy.dot(corpus_train_tfidf_vectors,pca.components_.transpose())\n",
      "    corpus_train_tfidf_vectors = lsa.transform(corpus_train_tfidf_vectors)\n",
      "    corpus_test_tfidf_vectors = lsa.transform(corpus_test_tfidf_vectors)\n",
      "    \n",
      "    # classify & evaluate    \n",
      "    results = classify(corpus_train_tfidf_vectors,corpus_train_data['labels'],\n",
      "                       corpus_test_tfidf_vectors,corpus_test_data['labels'],\n",
      "                       max_labels)\n",
      "\n",
      "    print_top_feature_names(results['classifier'], np.asarray(vectorizer.get_feature_names()), label_names)\n",
      "    \n",
      "    print 'LSA ^' , vocabulary_tbl_name,' --> ','precision ',results['precision'],'recall ',results['recall'],'f1 ',results['f1']"
     ],
     "language": "python",
     "metadata": {},
     "outputs": [
      {
       "output_type": "stream",
       "stream": "stderr",
       "text": [
        "<input>:1: SyntaxWarning: import * only allowed at module level\n",
        "<input>:1: SyntaxWarning: import * only allowed at module level\n",
        "<input>:1: SyntaxWarning: import * only allowed at module level\n",
        "<input>:1: SyntaxWarning: import * only allowed at module level\n",
        "<input>:1: SyntaxWarning: import * only allowed at module level\n",
        "<input>:1: SyntaxWarning: import * only allowed at module level\n",
        "<input>:1: SyntaxWarning: import * only allowed at module level\n",
        "<input>:1: SyntaxWarning: import * only allowed at module level\n",
        "<input>:1: SyntaxWarning: import * only allowed at module level\n",
        "<input>:1: SyntaxWarning: import * only allowed at module level\n",
        "<input>:1: SyntaxWarning: import * only allowed at module level\n",
        "<input>:1: SyntaxWarning: import * only allowed at module level\n",
        "<input>:1: SyntaxWarning: import * only allowed at module level\n",
        "<input>:1: SyntaxWarning: import * only allowed at module level\n",
        "<input>:1: SyntaxWarning: import * only allowed at module level\n",
        "<input>:1: SyntaxWarning: import * only allowed at module level\n",
        "<input>:1: SyntaxWarning: import * only allowed at module level\n",
        "<input>:1: SyntaxWarning: import * only allowed at module level\n",
        "<input>:1: SyntaxWarning: import * only allowed at module level\n",
        "<input>:1: SyntaxWarning: import * only allowed at module level\n",
        "<input>:1: SyntaxWarning: import * only allowed at module level\n",
        "<input>:1: SyntaxWarning: import * only allowed at module level\n",
        "<input>:1: SyntaxWarning: import * only allowed at module level\n",
        "<input>:1: SyntaxWarning: import * only allowed at module level\n",
        "<input>:1: SyntaxWarning: import * only allowed at module level\n",
        "<input>:1: SyntaxWarning: import * only allowed at module level\n",
        "<input>:1: SyntaxWarning: import * only allowed at module level\n",
        "<input>:1: SyntaxWarning: import * only allowed at module level\n",
        "<input>:1: SyntaxWarning: import * only allowed at module level\n",
        "<input>:1: SyntaxWarning: import * only allowed at module level\n",
        "<input>:1: SyntaxWarning: import * only allowed at module level\n",
        "<input>:1: SyntaxWarning: import * only allowed at module level\n",
        "<input>:1: SyntaxWarning: import * only allowed at module level\n",
        "<input>:1: SyntaxWarning: import * only allowed at module level\n",
        "<input>:1: SyntaxWarning: import * only allowed at module level\n",
        "<input>:1: SyntaxWarning: import * only allowed at module level\n",
        "<input>:1: SyntaxWarning: import * only allowed at module level\n",
        "<input>:1: SyntaxWarning: import * only allowed at module level\n",
        "<input>:1: SyntaxWarning: import * only allowed at module level\n",
        "<input>:1: SyntaxWarning: import * only allowed at module level\n",
        "<input>:1: SyntaxWarning: import * only allowed at module level\n",
        "<input>:1: SyntaxWarning: import * only allowed at module level\n",
        "<input>:1: SyntaxWarning: import * only allowed at module level\n",
        "<input>:1: SyntaxWarning: import * only allowed at module level\n",
        "<input>:1: SyntaxWarning: import * only allowed at module level\n",
        "<input>:1: SyntaxWarning: import * only allowed at module level\n",
        "<input>:1: SyntaxWarning: import * only allowed at module level\n",
        "<input>:1: SyntaxWarning: import * only allowed at module level\n",
        "<input>:1: SyntaxWarning: import * only allowed at module level\n",
        "<input>:1: SyntaxWarning: import * only allowed at module level\n",
        "<input>:1: SyntaxWarning: import * only allowed at module level\n",
        "<input>:1: SyntaxWarning: import * only allowed at module level\n",
        "<input>:1: SyntaxWarning: import * only allowed at module level\n",
        "<input>:1: SyntaxWarning: import * only allowed at module level\n",
        "<input>:1: SyntaxWarning: import * only allowed at module level\n",
        "<input>:1: SyntaxWarning: import * only allowed at module level\n",
        "<input>:1: SyntaxWarning: import * only allowed at module level\n",
        "<input>:1: SyntaxWarning: import * only allowed at module level\n",
        "<input>:1: SyntaxWarning: import * only allowed at module level\n",
        "<input>:1: SyntaxWarning: import * only allowed at module level\n",
        "<input>:1: SyntaxWarning: import * only allowed at module level\n",
        "<input>:1: SyntaxWarning: import * only allowed at module level\n",
        "<input>:1: SyntaxWarning: import * only allowed at module level\n",
        "<input>:1: SyntaxWarning: import * only allowed at module level\n",
        "<input>:1: SyntaxWarning: import * only allowed at module level\n",
        "<input>:1: SyntaxWarning: import * only allowed at module level\n",
        "<input>:1: SyntaxWarning: import * only allowed at module level\n",
        "<input>:1: SyntaxWarning: import * only allowed at module level\n",
        "<input>:1: SyntaxWarning: import * only allowed at module level\n",
        "<input>:1: SyntaxWarning: import * only allowed at module level\n",
        "<input>:1: SyntaxWarning: import * only allowed at module level\n",
        "<input>:1: SyntaxWarning: import * only allowed at module level\n",
        "<input>:1: SyntaxWarning: import * only allowed at module level\n",
        "<input>:1: SyntaxWarning: import * only allowed at module level\n",
        "<input>:1: SyntaxWarning: import * only allowed at module level\n",
        "<input>:1: SyntaxWarning: import * only allowed at module level\n",
        "<input>:1: SyntaxWarning: import * only allowed at module level\n",
        "<input>:1: SyntaxWarning: import * only allowed at module level\n",
        "<input>:1: SyntaxWarning: import * only allowed at module level\n",
        "<input>:1: SyntaxWarning: import * only allowed at module level\n",
        "<input>:1: SyntaxWarning: import * only allowed at module level\n",
        "<input>:1: SyntaxWarning: import * only allowed at module level\n",
        "<input>:1: SyntaxWarning: import * only allowed at module level\n",
        "<input>:1: SyntaxWarning: import * only allowed at module level\n",
        "<input>:1: SyntaxWarning: import * only allowed at module level\n",
        "<input>:1: SyntaxWarning: import * only allowed at module level\n",
        "<input>:1: SyntaxWarning: import * only allowed at module level\n",
        "<input>:1: SyntaxWarning: import * only allowed at module level\n",
        "<input>:1: SyntaxWarning: import * only allowed at module level\n",
        "<input>:1: SyntaxWarning: import * only allowed at module level\n",
        "<input>:1: SyntaxWarning: import * only allowed at module level\n",
        "<input>:1: SyntaxWarning: import * only allowed at module level\n",
        "<input>:1: SyntaxWarning: import * only allowed at module level\n",
        "<input>:1: SyntaxWarning: import * only allowed at module level\n",
        "<input>:1: SyntaxWarning: import * only allowed at module level\n",
        "<input>:1: SyntaxWarning: import * only allowed at module level\n",
        "<input>:1: SyntaxWarning: import * only allowed at module level\n",
        "<input>:1: SyntaxWarning: import * only allowed at module level\n",
        "<input>:1: SyntaxWarning: import * only allowed at module level\n",
        "<input>:1: SyntaxWarning: import * only allowed at module level\n",
        "<input>:1: SyntaxWarning: import * only allowed at module level\n",
        "<input>:1: SyntaxWarning: import * only allowed at module level\n",
        "<input>:1: SyntaxWarning: import * only allowed at module level\n",
        "<input>:1: SyntaxWarning: import * only allowed at module level\n",
        "<input>:1: SyntaxWarning: import * only allowed at module level\n",
        "<input>:1: SyntaxWarning: import * only allowed at module level\n",
        "<input>:1: SyntaxWarning: import * only allowed at module level\n",
        "<input>:1: SyntaxWarning: import * only allowed at module level\n",
        "<input>:1: SyntaxWarning: import * only allowed at module level\n",
        "<input>:1: SyntaxWarning: import * only allowed at module level\n",
        "<input>:1: SyntaxWarning: import * only allowed at module level\n",
        "<input>:1: SyntaxWarning: import * only allowed at module level\n",
        "<input>:1: SyntaxWarning: import * only allowed at module level\n",
        "<input>:1: SyntaxWarning: import * only allowed at module level\n",
        "<input>:1: SyntaxWarning: import * only allowed at module level\n",
        "<input>:1: SyntaxWarning: import * only allowed at module level\n",
        "<input>:1: SyntaxWarning: import * only allowed at module level\n",
        "<input>:1: SyntaxWarning: import * only allowed at module level\n",
        "<input>:1: SyntaxWarning: import * only allowed at module level\n",
        "<input>:1: SyntaxWarning: import * only allowed at module level\n",
        "<ipython-input-11-4736c2bb0567>:1: SyntaxWarning: import * only allowed at module level\n",
        "  def test_lemmatized_bigrams_with_LSA(corpus_train_data,corpus_test_data,label_names,with_stopwords_removal,use_chi_features,use_raw_tokens,num_components):\n"
       ]
      }
     ],
     "prompt_number": 11
    },
    {
     "cell_type": "code",
     "collapsed": false,
     "input": [
      "def test_stemmed_unigrams(corpus_train_data,corpus_test_data,label_names,with_stopwords_removal,use_chi_features,use_raw_tokens):\n",
      "    import numpy as np\n",
      "    from stemming_tokenizer import StemmingTokenizer\n",
      "    from stemming_tokenizer import RawStemmingTokenizer    \n",
      "    from ng20_globals import *\n",
      "    from ng20_vocabulary_loader import load_vocabulary\n",
      "    \n",
      "    max_ngram_size = 1\n",
      "    \n",
      "    if with_stopwords_removal==False:\n",
      "        stopwords_pattern = ''\n",
      "    else:\n",
      "        stopwords_pattern = '_stopwords'\n",
      "    if use_chi_features==False:\n",
      "        chi_features_pattern = ''\n",
      "    else:\n",
      "        chi_features_pattern = '_chi'\n",
      "    if use_raw_tokens==False:\n",
      "        raw_tokens_pattern = ''\n",
      "        tokenizer = StemmingTokenizer()    \n",
      "    else:\n",
      "        raw_tokens_pattern = '_raw'\n",
      "        tokenizer = RawStemmingTokenizer()    \n",
      "    \n",
      "    # load vocabulary\n",
      "    vocabulary_tbl_name = 'ng20{0}_stems{1}_unigrams{2}_df{3}_tf{4}'.format(raw_tokens_pattern,chi_features_pattern,stopwords_pattern,min_df,min_tf)    \n",
      "    vocabulary = load_vocabulary(vocabulary_tbl_name)\n",
      "\n",
      "    # generate tfidf vectors\n",
      "    vectorizer, corpus_train_tfidf_vectors = vectorize_corpus(corpus_train_data['corpus'],tokenizer,vocabulary,max_ngram_size)\n",
      "    _, corpus_test_tfidf_vectors = vectorize_corpus(corpus_test_data['corpus'],tokenizer,vocabulary,max_ngram_size)\n",
      "    \n",
      "    # classify & evaluate    \n",
      "    results = classify(corpus_train_tfidf_vectors,corpus_train_data['labels'],\n",
      "                       corpus_test_tfidf_vectors,corpus_test_data['labels'],\n",
      "                       max_labels)\n",
      "\n",
      "    print_top_feature_names(results['classifier'], np.asarray(vectorizer.get_feature_names()), label_names)\n",
      "    \n",
      "    print vocabulary_tbl_name,' --> ','precision ',results['precision'],'recall ',results['recall'],'f1 ',results['f1']"
     ],
     "language": "python",
     "metadata": {},
     "outputs": [
      {
       "output_type": "stream",
       "stream": "stderr",
       "text": [
        "<input>:1: SyntaxWarning: import * only allowed at module level\n",
        "<input>:1: SyntaxWarning: import * only allowed at module level\n",
        "<input>:1: SyntaxWarning: import * only allowed at module level\n",
        "<input>:1: SyntaxWarning: import * only allowed at module level\n",
        "<input>:1: SyntaxWarning: import * only allowed at module level\n",
        "<input>:1: SyntaxWarning: import * only allowed at module level\n",
        "<input>:1: SyntaxWarning: import * only allowed at module level\n",
        "<input>:1: SyntaxWarning: import * only allowed at module level\n",
        "<input>:1: SyntaxWarning: import * only allowed at module level\n",
        "<input>:1: SyntaxWarning: import * only allowed at module level\n",
        "<input>:1: SyntaxWarning: import * only allowed at module level\n",
        "<input>:1: SyntaxWarning: import * only allowed at module level\n",
        "<input>:1: SyntaxWarning: import * only allowed at module level\n",
        "<input>:1: SyntaxWarning: import * only allowed at module level\n",
        "<input>:1: SyntaxWarning: import * only allowed at module level\n",
        "<input>:1: SyntaxWarning: import * only allowed at module level\n",
        "<input>:1: SyntaxWarning: import * only allowed at module level\n",
        "<input>:1: SyntaxWarning: import * only allowed at module level\n",
        "<input>:1: SyntaxWarning: import * only allowed at module level\n",
        "<input>:1: SyntaxWarning: import * only allowed at module level\n",
        "<input>:1: SyntaxWarning: import * only allowed at module level\n",
        "<input>:1: SyntaxWarning: import * only allowed at module level\n",
        "<input>:1: SyntaxWarning: import * only allowed at module level\n",
        "<input>:1: SyntaxWarning: import * only allowed at module level\n",
        "<input>:1: SyntaxWarning: import * only allowed at module level\n",
        "<input>:1: SyntaxWarning: import * only allowed at module level\n",
        "<input>:1: SyntaxWarning: import * only allowed at module level\n",
        "<input>:1: SyntaxWarning: import * only allowed at module level\n",
        "<input>:1: SyntaxWarning: import * only allowed at module level\n",
        "<input>:1: SyntaxWarning: import * only allowed at module level\n",
        "<input>:1: SyntaxWarning: import * only allowed at module level\n",
        "<input>:1: SyntaxWarning: import * only allowed at module level\n",
        "<input>:1: SyntaxWarning: import * only allowed at module level\n",
        "<input>:1: SyntaxWarning: import * only allowed at module level\n",
        "<input>:1: SyntaxWarning: import * only allowed at module level\n",
        "<input>:1: SyntaxWarning: import * only allowed at module level\n",
        "<input>:1: SyntaxWarning: import * only allowed at module level\n",
        "<input>:1: SyntaxWarning: import * only allowed at module level\n",
        "<input>:1: SyntaxWarning: import * only allowed at module level\n",
        "<input>:1: SyntaxWarning: import * only allowed at module level\n",
        "<input>:1: SyntaxWarning: import * only allowed at module level\n",
        "<input>:1: SyntaxWarning: import * only allowed at module level\n",
        "<input>:1: SyntaxWarning: import * only allowed at module level\n",
        "<input>:1: SyntaxWarning: import * only allowed at module level\n",
        "<input>:1: SyntaxWarning: import * only allowed at module level\n",
        "<input>:1: SyntaxWarning: import * only allowed at module level\n",
        "<input>:1: SyntaxWarning: import * only allowed at module level\n",
        "<input>:1: SyntaxWarning: import * only allowed at module level\n",
        "<input>:1: SyntaxWarning: import * only allowed at module level\n",
        "<input>:1: SyntaxWarning: import * only allowed at module level\n",
        "<input>:1: SyntaxWarning: import * only allowed at module level\n",
        "<input>:1: SyntaxWarning: import * only allowed at module level\n",
        "<input>:1: SyntaxWarning: import * only allowed at module level\n",
        "<input>:1: SyntaxWarning: import * only allowed at module level\n",
        "<input>:1: SyntaxWarning: import * only allowed at module level\n",
        "<input>:1: SyntaxWarning: import * only allowed at module level\n",
        "<input>:1: SyntaxWarning: import * only allowed at module level\n",
        "<input>:1: SyntaxWarning: import * only allowed at module level\n",
        "<input>:1: SyntaxWarning: import * only allowed at module level\n",
        "<input>:1: SyntaxWarning: import * only allowed at module level\n",
        "<input>:1: SyntaxWarning: import * only allowed at module level\n",
        "<input>:1: SyntaxWarning: import * only allowed at module level\n",
        "<input>:1: SyntaxWarning: import * only allowed at module level\n",
        "<input>:1: SyntaxWarning: import * only allowed at module level\n",
        "<input>:1: SyntaxWarning: import * only allowed at module level\n",
        "<input>:1: SyntaxWarning: import * only allowed at module level\n",
        "<input>:1: SyntaxWarning: import * only allowed at module level\n",
        "<input>:1: SyntaxWarning: import * only allowed at module level\n",
        "<input>:1: SyntaxWarning: import * only allowed at module level\n",
        "<input>:1: SyntaxWarning: import * only allowed at module level\n",
        "<input>:1: SyntaxWarning: import * only allowed at module level\n",
        "<input>:1: SyntaxWarning: import * only allowed at module level\n",
        "<input>:1: SyntaxWarning: import * only allowed at module level\n",
        "<input>:1: SyntaxWarning: import * only allowed at module level\n",
        "<input>:1: SyntaxWarning: import * only allowed at module level\n",
        "<input>:1: SyntaxWarning: import * only allowed at module level\n",
        "<input>:1: SyntaxWarning: import * only allowed at module level\n",
        "<input>:1: SyntaxWarning: import * only allowed at module level\n",
        "<input>:1: SyntaxWarning: import * only allowed at module level\n",
        "<input>:1: SyntaxWarning: import * only allowed at module level\n",
        "<input>:1: SyntaxWarning: import * only allowed at module level\n",
        "<input>:1: SyntaxWarning: import * only allowed at module level\n",
        "<input>:1: SyntaxWarning: import * only allowed at module level\n",
        "<input>:1: SyntaxWarning: import * only allowed at module level\n",
        "<ipython-input-12-aec8e0c96340>:1: SyntaxWarning: import * only allowed at module level\n",
        "  def test_stemmed_unigrams(corpus_train_data,corpus_test_data,label_names,with_stopwords_removal,use_chi_features,use_raw_tokens):\n"
       ]
      }
     ],
     "prompt_number": 12
    },
    {
     "cell_type": "code",
     "collapsed": false,
     "input": [
      "def test_stemmed_bigrams(corpus_train_data,corpus_test_data,label_names,with_stopwords_removal,use_chi_features,use_raw_tokens):\n",
      "    import numpy as np\n",
      "    from stemming_tokenizer import StemmingTokenizer\n",
      "    from stemming_tokenizer import RawStemmingTokenizer    \n",
      "    from ng20_globals import *\n",
      "    from ng20_vocabulary_loader import load_vocabulary\n",
      "    \n",
      "    max_ngram_size = 2\n",
      "        \n",
      "    if with_stopwords_removal==False:\n",
      "        stopwords_pattern = ''\n",
      "    else:\n",
      "        stopwords_pattern = '_stopwords'\n",
      "    if use_chi_features==False:\n",
      "        chi_features_pattern = ''\n",
      "    else:\n",
      "        chi_features_pattern = '_chi'\n",
      "    if use_raw_tokens==False:\n",
      "        raw_tokens_pattern = ''\n",
      "        tokenizer = StemmingTokenizer()\n",
      "    else:\n",
      "        raw_tokens_pattern = '_raw'\n",
      "        tokenizer = RawStemmingTokenizer()\n",
      "    \n",
      "    # load vocabulary\n",
      "    vocabulary_tbl_name = 'ng20{0}_stems{1}_bigrams{2}_df{3}_tf{4}'.format(raw_tokens_pattern,chi_features_pattern,stopwords_pattern,min_df,min_tf)\n",
      "    vocabulary = load_vocabulary(vocabulary_tbl_name)\n",
      "\n",
      "    # generate tfidf vectors\n",
      "    vectorizer, corpus_train_tfidf_vectors = vectorize_corpus(corpus_train_data['corpus'],tokenizer,vocabulary,max_ngram_size)\n",
      "    _, corpus_test_tfidf_vectors = vectorize_corpus(corpus_test_data['corpus'],tokenizer,vocabulary,max_ngram_size)\n",
      "    \n",
      "    # classify & evaluate    \n",
      "    results = classify(corpus_train_tfidf_vectors,corpus_train_data['labels'],\n",
      "                       corpus_test_tfidf_vectors,corpus_test_data['labels'],\n",
      "                       max_labels)\n",
      "\n",
      "    print_top_feature_names(results['classifier'], np.asarray(vectorizer.get_feature_names()), label_names)\n",
      "        \n",
      "    print vocabulary_tbl_name,' --> ','precision ',results['precision'],'recall ',results['recall'],'f1 ',results['f1']"
     ],
     "language": "python",
     "metadata": {},
     "outputs": [
      {
       "output_type": "stream",
       "stream": "stderr",
       "text": [
        "<input>:1: SyntaxWarning: import * only allowed at module level\n",
        "<input>:1: SyntaxWarning: import * only allowed at module level\n",
        "<input>:1: SyntaxWarning: import * only allowed at module level\n",
        "<input>:1: SyntaxWarning: import * only allowed at module level\n",
        "<input>:1: SyntaxWarning: import * only allowed at module level\n",
        "<input>:1: SyntaxWarning: import * only allowed at module level\n",
        "<input>:1: SyntaxWarning: import * only allowed at module level\n",
        "<input>:1: SyntaxWarning: import * only allowed at module level\n",
        "<input>:1: SyntaxWarning: import * only allowed at module level\n",
        "<input>:1: SyntaxWarning: import * only allowed at module level\n",
        "<input>:1: SyntaxWarning: import * only allowed at module level\n",
        "<input>:1: SyntaxWarning: import * only allowed at module level\n",
        "<input>:1: SyntaxWarning: import * only allowed at module level\n",
        "<input>:1: SyntaxWarning: import * only allowed at module level\n",
        "<input>:1: SyntaxWarning: import * only allowed at module level\n",
        "<input>:1: SyntaxWarning: import * only allowed at module level\n",
        "<input>:1: SyntaxWarning: import * only allowed at module level\n",
        "<input>:1: SyntaxWarning: import * only allowed at module level\n",
        "<input>:1: SyntaxWarning: import * only allowed at module level\n",
        "<input>:1: SyntaxWarning: import * only allowed at module level\n",
        "<input>:1: SyntaxWarning: import * only allowed at module level\n",
        "<input>:1: SyntaxWarning: import * only allowed at module level\n",
        "<input>:1: SyntaxWarning: import * only allowed at module level\n",
        "<input>:1: SyntaxWarning: import * only allowed at module level\n",
        "<input>:1: SyntaxWarning: import * only allowed at module level\n",
        "<input>:1: SyntaxWarning: import * only allowed at module level\n",
        "<input>:1: SyntaxWarning: import * only allowed at module level\n",
        "<input>:1: SyntaxWarning: import * only allowed at module level\n",
        "<input>:1: SyntaxWarning: import * only allowed at module level\n",
        "<input>:1: SyntaxWarning: import * only allowed at module level\n",
        "<input>:1: SyntaxWarning: import * only allowed at module level\n",
        "<input>:1: SyntaxWarning: import * only allowed at module level\n",
        "<input>:1: SyntaxWarning: import * only allowed at module level\n",
        "<input>:1: SyntaxWarning: import * only allowed at module level\n",
        "<input>:1: SyntaxWarning: import * only allowed at module level\n",
        "<input>:1: SyntaxWarning: import * only allowed at module level\n",
        "<input>:1: SyntaxWarning: import * only allowed at module level\n",
        "<input>:1: SyntaxWarning: import * only allowed at module level\n",
        "<input>:1: SyntaxWarning: import * only allowed at module level\n",
        "<input>:1: SyntaxWarning: import * only allowed at module level\n",
        "<input>:1: SyntaxWarning: import * only allowed at module level\n",
        "<input>:1: SyntaxWarning: import * only allowed at module level\n",
        "<input>:1: SyntaxWarning: import * only allowed at module level\n",
        "<input>:1: SyntaxWarning: import * only allowed at module level\n",
        "<input>:1: SyntaxWarning: import * only allowed at module level\n",
        "<input>:1: SyntaxWarning: import * only allowed at module level\n",
        "<input>:1: SyntaxWarning: import * only allowed at module level\n",
        "<input>:1: SyntaxWarning: import * only allowed at module level\n",
        "<input>:1: SyntaxWarning: import * only allowed at module level\n",
        "<input>:1: SyntaxWarning: import * only allowed at module level\n",
        "<input>:1: SyntaxWarning: import * only allowed at module level\n",
        "<input>:1: SyntaxWarning: import * only allowed at module level\n",
        "<input>:1: SyntaxWarning: import * only allowed at module level\n",
        "<input>:1: SyntaxWarning: import * only allowed at module level\n",
        "<input>:1: SyntaxWarning: import * only allowed at module level\n",
        "<input>:1: SyntaxWarning: import * only allowed at module level\n",
        "<input>:1: SyntaxWarning: import * only allowed at module level\n",
        "<input>:1: SyntaxWarning: import * only allowed at module level\n",
        "<input>:1: SyntaxWarning: import * only allowed at module level\n",
        "<input>:1: SyntaxWarning: import * only allowed at module level\n",
        "<input>:1: SyntaxWarning: import * only allowed at module level\n",
        "<input>:1: SyntaxWarning: import * only allowed at module level\n",
        "<input>:1: SyntaxWarning: import * only allowed at module level\n",
        "<input>:1: SyntaxWarning: import * only allowed at module level\n",
        "<input>:1: SyntaxWarning: import * only allowed at module level\n",
        "<input>:1: SyntaxWarning: import * only allowed at module level\n",
        "<input>:1: SyntaxWarning: import * only allowed at module level\n",
        "<input>:1: SyntaxWarning: import * only allowed at module level\n",
        "<input>:1: SyntaxWarning: import * only allowed at module level\n",
        "<input>:1: SyntaxWarning: import * only allowed at module level\n",
        "<input>:1: SyntaxWarning: import * only allowed at module level\n",
        "<input>:1: SyntaxWarning: import * only allowed at module level\n",
        "<input>:1: SyntaxWarning: import * only allowed at module level\n",
        "<input>:1: SyntaxWarning: import * only allowed at module level\n",
        "<input>:1: SyntaxWarning: import * only allowed at module level\n",
        "<input>:1: SyntaxWarning: import * only allowed at module level\n",
        "<input>:1: SyntaxWarning: import * only allowed at module level\n",
        "<input>:1: SyntaxWarning: import * only allowed at module level\n",
        "<input>:1: SyntaxWarning: import * only allowed at module level\n",
        "<input>:1: SyntaxWarning: import * only allowed at module level\n",
        "<input>:1: SyntaxWarning: import * only allowed at module level\n",
        "<input>:1: SyntaxWarning: import * only allowed at module level\n",
        "<input>:1: SyntaxWarning: import * only allowed at module level\n",
        "<input>:1: SyntaxWarning: import * only allowed at module level\n",
        "<ipython-input-13-221781600fe3>:1: SyntaxWarning: import * only allowed at module level\n",
        "  def test_stemmed_bigrams(corpus_train_data,corpus_test_data,label_names,with_stopwords_removal,use_chi_features,use_raw_tokens):\n"
       ]
      }
     ],
     "prompt_number": 13
    },
    {
     "cell_type": "code",
     "collapsed": false,
     "input": [
      "def test_lemmatized_wiki_bigrams(corpus_train_data,corpus_test_data,label_names,with_stopwords_removal,use_chi_features,use_raw_tokens):\n",
      "    import numpy as np\n",
      "    from lemmatizing_tokenizer import LemmaTokenizer\n",
      "    from lemmatizing_tokenizer import RawLemmaTokenizer\n",
      "    from ng20_globals import *\n",
      "    from ng20_vocabulary_loader import load_common_vocabulary\n",
      "    \n",
      "    max_ngram_size = 2\n",
      "        \n",
      "    if with_stopwords_removal==False:\n",
      "        stopwords_pattern = ''\n",
      "    else:\n",
      "        stopwords_pattern = '_stopwords'\n",
      "    if use_chi_features==False:\n",
      "        chi_features_pattern = ''\n",
      "    else:\n",
      "        chi_features_pattern = '_chi'\n",
      "    if use_raw_tokens==False:\n",
      "        raw_tokens_pattern = ''\n",
      "        tokenizer = LemmaTokenizer()\n",
      "    else:\n",
      "        raw_tokens_pattern = '_raw'\n",
      "        tokenizer = RawLemmaTokenizer()\n",
      "    \n",
      "    # load vocabulary\n",
      "    vocabulary_tbl_name1 = 'ng20{0}_lemmas{1}_unigrams{2}_df{3}_tf{4}'.format(raw_tokens_pattern,chi_features_pattern,stopwords_pattern,min_df,min_tf)\n",
      "    vocabulary_tbl_name2 = 'ng20{0}_lemmas{1}_bigrams{2}_df{3}_tf{4}'.format(raw_tokens_pattern,chi_features_pattern,stopwords_pattern,min_df,min_tf)\n",
      "    \n",
      "    vocabulary_tbl_intersect = 'wiki_bigrams'\n",
      "    vocabulary = load_common_vocabulary(vocabulary_tbl_name1,vocabulary_tbl_name2,vocabulary_tbl_intersect,'lemma')\n",
      "    print 'done loading vocabulary'\n",
      "    \n",
      "    # generate tfidf vectors\n",
      "    vectorizer, corpus_train_tfidf_vectors = vectorize_corpus(corpus_train_data['corpus'],tokenizer,vocabulary,max_ngram_size)\n",
      "    _, corpus_test_tfidf_vectors = vectorize_corpus(corpus_test_data['corpus'],tokenizer,vocabulary,max_ngram_size)\n",
      "    \n",
      "    # classify & evaluate    \n",
      "    results = classify(corpus_train_tfidf_vectors,corpus_train_data['labels'],\n",
      "                       corpus_test_tfidf_vectors,corpus_test_data['labels'],\n",
      "                       max_labels)\n",
      "\n",
      "    print_top_feature_names(results['classifier'], np.asarray(vectorizer.get_feature_names()), label_names)\n",
      "    \n",
      "    print vocabulary_tbl_name1,'^',vocabulary_tbl_name2,'^',vocabulary_tbl_intersect,' --> ','precision ',results['precision'],'recall ',results['recall'],'f1 ',results['f1']"
     ],
     "language": "python",
     "metadata": {},
     "outputs": [
      {
       "output_type": "stream",
       "stream": "stderr",
       "text": [
        "<input>:1: SyntaxWarning: import * only allowed at module level\n",
        "<input>:1: SyntaxWarning: import * only allowed at module level\n",
        "<input>:1: SyntaxWarning: import * only allowed at module level\n",
        "<input>:1: SyntaxWarning: import * only allowed at module level\n",
        "<input>:1: SyntaxWarning: import * only allowed at module level\n",
        "<input>:1: SyntaxWarning: import * only allowed at module level\n",
        "<input>:1: SyntaxWarning: import * only allowed at module level\n",
        "<input>:1: SyntaxWarning: import * only allowed at module level\n",
        "<input>:1: SyntaxWarning: import * only allowed at module level\n",
        "<input>:1: SyntaxWarning: import * only allowed at module level\n",
        "<input>:1: SyntaxWarning: import * only allowed at module level\n",
        "<input>:1: SyntaxWarning: import * only allowed at module level\n",
        "<input>:1: SyntaxWarning: import * only allowed at module level\n",
        "<input>:1: SyntaxWarning: import * only allowed at module level\n",
        "<input>:1: SyntaxWarning: import * only allowed at module level\n",
        "<input>:1: SyntaxWarning: import * only allowed at module level\n",
        "<input>:1: SyntaxWarning: import * only allowed at module level\n",
        "<input>:1: SyntaxWarning: import * only allowed at module level\n",
        "<input>:1: SyntaxWarning: import * only allowed at module level\n",
        "<input>:1: SyntaxWarning: import * only allowed at module level\n",
        "<input>:1: SyntaxWarning: import * only allowed at module level\n",
        "<input>:1: SyntaxWarning: import * only allowed at module level\n",
        "<input>:1: SyntaxWarning: import * only allowed at module level\n",
        "<input>:1: SyntaxWarning: import * only allowed at module level\n",
        "<input>:1: SyntaxWarning: import * only allowed at module level\n",
        "<input>:1: SyntaxWarning: import * only allowed at module level\n",
        "<input>:1: SyntaxWarning: import * only allowed at module level\n",
        "<input>:1: SyntaxWarning: import * only allowed at module level\n",
        "<input>:1: SyntaxWarning: import * only allowed at module level\n",
        "<input>:1: SyntaxWarning: import * only allowed at module level\n",
        "<input>:1: SyntaxWarning: import * only allowed at module level\n",
        "<input>:1: SyntaxWarning: import * only allowed at module level\n",
        "<input>:1: SyntaxWarning: import * only allowed at module level\n",
        "<input>:1: SyntaxWarning: import * only allowed at module level\n",
        "<input>:1: SyntaxWarning: import * only allowed at module level\n",
        "<input>:1: SyntaxWarning: import * only allowed at module level\n",
        "<input>:1: SyntaxWarning: import * only allowed at module level\n",
        "<input>:1: SyntaxWarning: import * only allowed at module level\n",
        "<input>:1: SyntaxWarning: import * only allowed at module level\n",
        "<input>:1: SyntaxWarning: import * only allowed at module level\n",
        "<input>:1: SyntaxWarning: import * only allowed at module level\n",
        "<input>:1: SyntaxWarning: import * only allowed at module level\n",
        "<input>:1: SyntaxWarning: import * only allowed at module level\n",
        "<input>:1: SyntaxWarning: import * only allowed at module level\n",
        "<input>:1: SyntaxWarning: import * only allowed at module level\n",
        "<input>:1: SyntaxWarning: import * only allowed at module level\n",
        "<input>:1: SyntaxWarning: import * only allowed at module level\n",
        "<input>:1: SyntaxWarning: import * only allowed at module level\n",
        "<input>:1: SyntaxWarning: import * only allowed at module level\n",
        "<input>:1: SyntaxWarning: import * only allowed at module level\n",
        "<input>:1: SyntaxWarning: import * only allowed at module level\n",
        "<input>:1: SyntaxWarning: import * only allowed at module level\n",
        "<input>:1: SyntaxWarning: import * only allowed at module level\n",
        "<input>:1: SyntaxWarning: import * only allowed at module level\n",
        "<input>:1: SyntaxWarning: import * only allowed at module level\n",
        "<input>:1: SyntaxWarning: import * only allowed at module level\n",
        "<input>:1: SyntaxWarning: import * only allowed at module level\n",
        "<input>:1: SyntaxWarning: import * only allowed at module level\n",
        "<input>:1: SyntaxWarning: import * only allowed at module level\n",
        "<input>:1: SyntaxWarning: import * only allowed at module level\n",
        "<input>:1: SyntaxWarning: import * only allowed at module level\n",
        "<input>:1: SyntaxWarning: import * only allowed at module level\n",
        "<input>:1: SyntaxWarning: import * only allowed at module level\n",
        "<input>:1: SyntaxWarning: import * only allowed at module level\n",
        "<input>:1: SyntaxWarning: import * only allowed at module level\n",
        "<input>:1: SyntaxWarning: import * only allowed at module level\n",
        "<input>:1: SyntaxWarning: import * only allowed at module level\n",
        "<input>:1: SyntaxWarning: import * only allowed at module level\n",
        "<input>:1: SyntaxWarning: import * only allowed at module level\n",
        "<input>:1: SyntaxWarning: import * only allowed at module level\n",
        "<input>:1: SyntaxWarning: import * only allowed at module level\n",
        "<input>:1: SyntaxWarning: import * only allowed at module level\n",
        "<input>:1: SyntaxWarning: import * only allowed at module level\n",
        "<input>:1: SyntaxWarning: import * only allowed at module level\n",
        "<input>:1: SyntaxWarning: import * only allowed at module level\n",
        "<input>:1: SyntaxWarning: import * only allowed at module level\n",
        "<input>:1: SyntaxWarning: import * only allowed at module level\n",
        "<input>:1: SyntaxWarning: import * only allowed at module level\n",
        "<input>:1: SyntaxWarning: import * only allowed at module level\n",
        "<input>:1: SyntaxWarning: import * only allowed at module level\n",
        "<input>:1: SyntaxWarning: import * only allowed at module level\n",
        "<input>:1: SyntaxWarning: import * only allowed at module level\n",
        "<input>:1: SyntaxWarning: import * only allowed at module level\n",
        "<input>:1: SyntaxWarning: import * only allowed at module level\n",
        "<input>:1: SyntaxWarning: import * only allowed at module level\n",
        "<input>:1: SyntaxWarning: import * only allowed at module level\n",
        "<input>:1: SyntaxWarning: import * only allowed at module level\n",
        "<input>:1: SyntaxWarning: import * only allowed at module level\n",
        "<input>:1: SyntaxWarning: import * only allowed at module level\n",
        "<input>:1: SyntaxWarning: import * only allowed at module level\n",
        "<input>:1: SyntaxWarning: import * only allowed at module level\n",
        "<input>:1: SyntaxWarning: import * only allowed at module level\n",
        "<input>:1: SyntaxWarning: import * only allowed at module level\n",
        "<input>:1: SyntaxWarning: import * only allowed at module level\n",
        "<input>:1: SyntaxWarning: import * only allowed at module level\n",
        "<input>:1: SyntaxWarning: import * only allowed at module level\n",
        "<ipython-input-14-428d90c6799c>:1: SyntaxWarning: import * only allowed at module level\n",
        "  def test_lemmatized_wiki_bigrams(corpus_train_data,corpus_test_data,label_names,with_stopwords_removal,use_chi_features,use_raw_tokens):\n"
       ]
      }
     ],
     "prompt_number": 14
    },
    {
     "cell_type": "code",
     "collapsed": false,
     "input": [
      "def test_lemmatized_bigrams_unigrams(bigrams_src,corpus_train_data,corpus_test_data,label_names,with_stopwords_removal,use_chi_features,use_raw_tokens):\n",
      "    import numpy as np\n",
      "    from lemmatizing_tokenizer import LemmaTokenizer\n",
      "    from lemmatizing_tokenizer import RawLemmaTokenizer\n",
      "    from ng20_globals import *\n",
      "    from ng20_vocabulary_loader import load_common_vocabulary_extend_unigrams\n",
      "    \n",
      "    max_ngram_size = 2\n",
      "        \n",
      "    if with_stopwords_removal==False:\n",
      "        stopwords_pattern = ''\n",
      "    else:\n",
      "        stopwords_pattern = '_stopwords'\n",
      "    if use_chi_features==False:\n",
      "        chi_features_pattern = ''\n",
      "    else:\n",
      "        chi_features_pattern = '_chi'\n",
      "    if use_raw_tokens==False:\n",
      "        raw_tokens_pattern = ''\n",
      "        tokenizer = LemmaTokenizer()\n",
      "    else:\n",
      "        raw_tokens_pattern = '_raw'\n",
      "        tokenizer = RawLemmaTokenizer()\n",
      "    \n",
      "    # load vocabulary\n",
      "    vocabulary_tbl_name = 'ng20{0}_lemmas{1}_bigrams{2}_df{3}_tf{4}'.format(raw_tokens_pattern,chi_features_pattern,stopwords_pattern,min_df,min_tf)\n",
      "    \n",
      "    if len(bigrams_src)==1:\n",
      "        vocabulary_tbl_intersect = '{0}_bigrams'.format(bigrams_src[0])\n",
      "    else:\n",
      "        vocabulary_tbl_intersect = '{0}_'.format(bigrams_src[0])\n",
      "        for i in range(len(bigrams_src)-1):\n",
      "            vocabulary_tbl_intersect = '{0}{1}_'.format(vocabulary_tbl_intersect,bigrams_src[i+1])\n",
      "        vocabulary_tbl_intersect = '{0}bigrams_vw'.format(vocabulary_tbl_intersect)\n",
      "        \n",
      "    vocabulary = load_common_vocabulary_extend_unigrams(vocabulary_tbl_name,vocabulary_tbl_intersect,'lemma')\n",
      "    print 'done loading vocabulary'\n",
      "    \n",
      "    # generate tfidf vectors\n",
      "    vectorizer, corpus_train_tfidf_vectors = vectorize_corpus(corpus_train_data['corpus'],tokenizer,vocabulary,max_ngram_size)\n",
      "    _, corpus_test_tfidf_vectors = vectorize_corpus(corpus_test_data['corpus'],tokenizer,vocabulary,max_ngram_size)\n",
      "    \n",
      "    # classify & evaluate    \n",
      "    results = classify(corpus_train_tfidf_vectors,corpus_train_data['labels'],\n",
      "                       corpus_test_tfidf_vectors,corpus_test_data['labels'],\n",
      "                       max_labels)\n",
      "    \n",
      "    print_top_feature_names(results['classifier'], np.asarray(vectorizer.get_feature_names()), label_names)\n",
      "    \n",
      "    print vocabulary_tbl_name,'^',vocabulary_tbl_intersect,'(extended unigrams) --> ','precision ',results['precision'],'recall ',results['recall'],'f1 ',results['f1']"
     ],
     "language": "python",
     "metadata": {},
     "outputs": [
      {
       "output_type": "stream",
       "stream": "stderr",
       "text": [
        "<input>:1: SyntaxWarning: import * only allowed at module level\n",
        "<input>:1: SyntaxWarning: import * only allowed at module level\n",
        "<input>:1: SyntaxWarning: import * only allowed at module level\n",
        "<input>:1: SyntaxWarning: import * only allowed at module level\n",
        "<input>:1: SyntaxWarning: import * only allowed at module level\n",
        "<input>:1: SyntaxWarning: import * only allowed at module level\n",
        "<input>:1: SyntaxWarning: import * only allowed at module level\n",
        "<input>:1: SyntaxWarning: import * only allowed at module level\n",
        "<input>:1: SyntaxWarning: import * only allowed at module level\n",
        "<input>:1: SyntaxWarning: import * only allowed at module level\n",
        "<input>:1: SyntaxWarning: import * only allowed at module level\n",
        "<input>:1: SyntaxWarning: import * only allowed at module level\n",
        "<input>:1: SyntaxWarning: import * only allowed at module level\n",
        "<input>:1: SyntaxWarning: import * only allowed at module level\n",
        "<input>:1: SyntaxWarning: import * only allowed at module level\n",
        "<input>:1: SyntaxWarning: import * only allowed at module level\n",
        "<input>:1: SyntaxWarning: import * only allowed at module level\n",
        "<input>:1: SyntaxWarning: import * only allowed at module level\n",
        "<input>:1: SyntaxWarning: import * only allowed at module level\n",
        "<input>:1: SyntaxWarning: import * only allowed at module level\n",
        "<input>:1: SyntaxWarning: import * only allowed at module level\n",
        "<input>:1: SyntaxWarning: import * only allowed at module level\n",
        "<input>:1: SyntaxWarning: import * only allowed at module level\n",
        "<input>:1: SyntaxWarning: import * only allowed at module level\n",
        "<input>:1: SyntaxWarning: import * only allowed at module level\n",
        "<input>:1: SyntaxWarning: import * only allowed at module level\n",
        "<input>:1: SyntaxWarning: import * only allowed at module level\n",
        "<input>:1: SyntaxWarning: import * only allowed at module level\n",
        "<input>:1: SyntaxWarning: import * only allowed at module level\n",
        "<input>:1: SyntaxWarning: import * only allowed at module level\n",
        "<input>:1: SyntaxWarning: import * only allowed at module level\n",
        "<input>:1: SyntaxWarning: import * only allowed at module level\n",
        "<input>:1: SyntaxWarning: import * only allowed at module level\n",
        "<input>:1: SyntaxWarning: import * only allowed at module level\n",
        "<input>:1: SyntaxWarning: import * only allowed at module level\n",
        "<input>:1: SyntaxWarning: import * only allowed at module level\n",
        "<input>:1: SyntaxWarning: import * only allowed at module level\n",
        "<input>:1: SyntaxWarning: import * only allowed at module level\n",
        "<input>:1: SyntaxWarning: import * only allowed at module level\n",
        "<input>:1: SyntaxWarning: import * only allowed at module level\n",
        "<input>:1: SyntaxWarning: import * only allowed at module level\n",
        "<input>:1: SyntaxWarning: import * only allowed at module level\n",
        "<input>:1: SyntaxWarning: import * only allowed at module level\n",
        "<input>:1: SyntaxWarning: import * only allowed at module level\n",
        "<input>:1: SyntaxWarning: import * only allowed at module level\n",
        "<input>:1: SyntaxWarning: import * only allowed at module level\n",
        "<input>:1: SyntaxWarning: import * only allowed at module level\n",
        "<input>:1: SyntaxWarning: import * only allowed at module level\n",
        "<input>:1: SyntaxWarning: import * only allowed at module level\n",
        "<input>:1: SyntaxWarning: import * only allowed at module level\n",
        "<input>:1: SyntaxWarning: import * only allowed at module level\n",
        "<input>:1: SyntaxWarning: import * only allowed at module level\n",
        "<input>:1: SyntaxWarning: import * only allowed at module level\n",
        "<input>:1: SyntaxWarning: import * only allowed at module level\n",
        "<input>:1: SyntaxWarning: import * only allowed at module level\n",
        "<input>:1: SyntaxWarning: import * only allowed at module level\n",
        "<input>:1: SyntaxWarning: import * only allowed at module level\n",
        "<input>:1: SyntaxWarning: import * only allowed at module level\n",
        "<input>:1: SyntaxWarning: import * only allowed at module level\n",
        "<input>:1: SyntaxWarning: import * only allowed at module level\n",
        "<input>:1: SyntaxWarning: import * only allowed at module level\n",
        "<input>:1: SyntaxWarning: import * only allowed at module level\n",
        "<input>:1: SyntaxWarning: import * only allowed at module level\n",
        "<input>:1: SyntaxWarning: import * only allowed at module level\n",
        "<input>:1: SyntaxWarning: import * only allowed at module level\n",
        "<input>:1: SyntaxWarning: import * only allowed at module level\n",
        "<input>:1: SyntaxWarning: import * only allowed at module level\n",
        "<input>:1: SyntaxWarning: import * only allowed at module level\n",
        "<input>:1: SyntaxWarning: import * only allowed at module level\n",
        "<input>:1: SyntaxWarning: import * only allowed at module level\n",
        "<input>:1: SyntaxWarning: import * only allowed at module level\n",
        "<input>:1: SyntaxWarning: import * only allowed at module level\n",
        "<input>:1: SyntaxWarning: import * only allowed at module level\n",
        "<input>:1: SyntaxWarning: import * only allowed at module level\n",
        "<input>:1: SyntaxWarning: import * only allowed at module level\n",
        "<input>:1: SyntaxWarning: import * only allowed at module level\n",
        "<input>:1: SyntaxWarning: import * only allowed at module level\n",
        "<input>:1: SyntaxWarning: import * only allowed at module level\n",
        "<input>:1: SyntaxWarning: import * only allowed at module level\n",
        "<input>:1: SyntaxWarning: import * only allowed at module level\n",
        "<input>:1: SyntaxWarning: import * only allowed at module level\n",
        "<input>:1: SyntaxWarning: import * only allowed at module level\n",
        "<input>:1: SyntaxWarning: import * only allowed at module level\n",
        "<input>:1: SyntaxWarning: import * only allowed at module level\n",
        "<input>:1: SyntaxWarning: import * only allowed at module level\n",
        "<input>:1: SyntaxWarning: import * only allowed at module level\n",
        "<input>:1: SyntaxWarning: import * only allowed at module level\n",
        "<input>:1: SyntaxWarning: import * only allowed at module level\n",
        "<input>:1: SyntaxWarning: import * only allowed at module level\n",
        "<input>:1: SyntaxWarning: import * only allowed at module level\n",
        "<input>:1: SyntaxWarning: import * only allowed at module level\n",
        "<input>:1: SyntaxWarning: import * only allowed at module level\n",
        "<input>:1: SyntaxWarning: import * only allowed at module level\n",
        "<input>:1: SyntaxWarning: import * only allowed at module level\n",
        "<input>:1: SyntaxWarning: import * only allowed at module level\n",
        "<input>:1: SyntaxWarning: import * only allowed at module level\n",
        "<input>:1: SyntaxWarning: import * only allowed at module level\n",
        "<input>:1: SyntaxWarning: import * only allowed at module level\n",
        "<input>:1: SyntaxWarning: import * only allowed at module level\n",
        "<input>:1: SyntaxWarning: import * only allowed at module level\n"
       ]
      },
      {
       "output_type": "stream",
       "stream": "stderr",
       "text": [
        "<input>:1: SyntaxWarning: import * only allowed at module level\n",
        "<input>:1: SyntaxWarning: import * only allowed at module level\n",
        "<input>:1: SyntaxWarning: import * only allowed at module level\n",
        "<input>:1: SyntaxWarning: import * only allowed at module level\n",
        "<input>:1: SyntaxWarning: import * only allowed at module level\n",
        "<ipython-input-15-0e4b024a5f69>:1: SyntaxWarning: import * only allowed at module level\n",
        "  def test_lemmatized_bigrams_unigrams(bigrams_src,corpus_train_data,corpus_test_data,label_names,with_stopwords_removal,use_chi_features,use_raw_tokens):\n"
       ]
      }
     ],
     "prompt_number": 15
    },
    {
     "cell_type": "code",
     "collapsed": false,
     "input": [
      "def test_lemmatized_wiktionary_bigrams(corpus_train_data,corpus_test_data,label_names,with_stopwords_removal,use_chi_features,use_raw_tokens):\n",
      "    import numpy as np\n",
      "    from lemmatizing_tokenizer import LemmaTokenizer\n",
      "    from lemmatizing_tokenizer import RawLemmaTokenizer\n",
      "    from ng20_globals import *\n",
      "    from ng20_vocabulary_loader import load_common_vocabulary\n",
      "    \n",
      "    max_ngram_size = 2\n",
      "    \n",
      "    if with_stopwords_removal==False:\n",
      "        stopwords_pattern = ''\n",
      "    else:\n",
      "        stopwords_pattern = '_stopwords'\n",
      "    if use_chi_features==False:\n",
      "        chi_features_pattern = ''\n",
      "    else:\n",
      "        chi_features_pattern = '_chi'\n",
      "    if use_raw_tokens==False:\n",
      "        raw_tokens_pattern = ''\n",
      "        tokenizer = LemmaTokenizer()    \n",
      "    else:\n",
      "        raw_tokens_pattern = '_raw'\n",
      "        tokenizer = RawLemmaTokenizer()    \n",
      "    \n",
      "    # load vocabulary\n",
      "    vocabulary_tbl_name1 = 'ng20{0}_lemmas{1}_unigrams{2}_df{3}_tf{4}'.format(raw_tokens_pattern,chi_features_pattern,stopwords_pattern,min_df,min_tf)\n",
      "    vocabulary_tbl_name2 = 'ng20{0}_lemmas{1}_bigrams{2}_df{3}_tf{4}'.format(raw_tokens_pattern,chi_features_pattern,stopwords_pattern,min_df,min_tf)\n",
      "    \n",
      "    vocabulary_tbl_intersect = 'wiktionary_bigrams'\n",
      "    vocabulary = load_common_vocabulary(vocabulary_tbl_name1,vocabulary_tbl_name2,vocabulary_tbl_intersect,'lemma')\n",
      "    print 'done loading vocabulary'\n",
      "\n",
      "    # generate tfidf vectors\n",
      "    vectorizer, corpus_train_tfidf_vectors = vectorize_corpus(corpus_train_data['corpus'],tokenizer,vocabulary,max_ngram_size)\n",
      "    _, corpus_test_tfidf_vectors = vectorize_corpus(corpus_test_data['corpus'],tokenizer,vocabulary,max_ngram_size)\n",
      "    \n",
      "    # classify & evaluate    \n",
      "    results = classify(corpus_train_tfidf_vectors,corpus_train_data['labels'],\n",
      "                       corpus_test_tfidf_vectors,corpus_test_data['labels'],\n",
      "                       max_labels)\n",
      "    \n",
      "    print_top_feature_names(results['classifier'], np.asarray(vectorizer.get_feature_names()), label_names)\n",
      "    \n",
      "    print vocabulary_tbl_name1,'^',vocabulary_tbl_name2,'^',vocabulary_tbl_intersect,' --> ','precision ',results['precision'],'recall ',results['recall'],'f1 ',results['f1']"
     ],
     "language": "python",
     "metadata": {},
     "outputs": [
      {
       "output_type": "stream",
       "stream": "stderr",
       "text": [
        "<input>:1: SyntaxWarning: import * only allowed at module level\n",
        "<input>:1: SyntaxWarning: import * only allowed at module level\n",
        "<input>:1: SyntaxWarning: import * only allowed at module level\n",
        "<input>:1: SyntaxWarning: import * only allowed at module level\n",
        "<input>:1: SyntaxWarning: import * only allowed at module level\n",
        "<input>:1: SyntaxWarning: import * only allowed at module level\n",
        "<input>:1: SyntaxWarning: import * only allowed at module level\n",
        "<input>:1: SyntaxWarning: import * only allowed at module level\n",
        "<input>:1: SyntaxWarning: import * only allowed at module level\n",
        "<input>:1: SyntaxWarning: import * only allowed at module level\n",
        "<input>:1: SyntaxWarning: import * only allowed at module level\n",
        "<input>:1: SyntaxWarning: import * only allowed at module level\n",
        "<input>:1: SyntaxWarning: import * only allowed at module level\n",
        "<input>:1: SyntaxWarning: import * only allowed at module level\n",
        "<input>:1: SyntaxWarning: import * only allowed at module level\n",
        "<input>:1: SyntaxWarning: import * only allowed at module level\n",
        "<input>:1: SyntaxWarning: import * only allowed at module level\n",
        "<input>:1: SyntaxWarning: import * only allowed at module level\n",
        "<input>:1: SyntaxWarning: import * only allowed at module level\n",
        "<input>:1: SyntaxWarning: import * only allowed at module level\n",
        "<input>:1: SyntaxWarning: import * only allowed at module level\n",
        "<input>:1: SyntaxWarning: import * only allowed at module level\n",
        "<input>:1: SyntaxWarning: import * only allowed at module level\n",
        "<input>:1: SyntaxWarning: import * only allowed at module level\n",
        "<input>:1: SyntaxWarning: import * only allowed at module level\n",
        "<input>:1: SyntaxWarning: import * only allowed at module level\n",
        "<input>:1: SyntaxWarning: import * only allowed at module level\n",
        "<input>:1: SyntaxWarning: import * only allowed at module level\n",
        "<input>:1: SyntaxWarning: import * only allowed at module level\n",
        "<input>:1: SyntaxWarning: import * only allowed at module level\n",
        "<input>:1: SyntaxWarning: import * only allowed at module level\n",
        "<input>:1: SyntaxWarning: import * only allowed at module level\n",
        "<input>:1: SyntaxWarning: import * only allowed at module level\n",
        "<input>:1: SyntaxWarning: import * only allowed at module level\n",
        "<input>:1: SyntaxWarning: import * only allowed at module level\n",
        "<input>:1: SyntaxWarning: import * only allowed at module level\n",
        "<input>:1: SyntaxWarning: import * only allowed at module level\n",
        "<input>:1: SyntaxWarning: import * only allowed at module level\n",
        "<input>:1: SyntaxWarning: import * only allowed at module level\n",
        "<input>:1: SyntaxWarning: import * only allowed at module level\n",
        "<input>:1: SyntaxWarning: import * only allowed at module level\n",
        "<input>:1: SyntaxWarning: import * only allowed at module level\n",
        "<input>:1: SyntaxWarning: import * only allowed at module level\n",
        "<input>:1: SyntaxWarning: import * only allowed at module level\n",
        "<input>:1: SyntaxWarning: import * only allowed at module level\n",
        "<input>:1: SyntaxWarning: import * only allowed at module level\n",
        "<input>:1: SyntaxWarning: import * only allowed at module level\n",
        "<input>:1: SyntaxWarning: import * only allowed at module level\n",
        "<input>:1: SyntaxWarning: import * only allowed at module level\n",
        "<input>:1: SyntaxWarning: import * only allowed at module level\n",
        "<input>:1: SyntaxWarning: import * only allowed at module level\n",
        "<input>:1: SyntaxWarning: import * only allowed at module level\n",
        "<input>:1: SyntaxWarning: import * only allowed at module level\n",
        "<input>:1: SyntaxWarning: import * only allowed at module level\n",
        "<input>:1: SyntaxWarning: import * only allowed at module level\n",
        "<input>:1: SyntaxWarning: import * only allowed at module level\n",
        "<input>:1: SyntaxWarning: import * only allowed at module level\n",
        "<input>:1: SyntaxWarning: import * only allowed at module level\n",
        "<input>:1: SyntaxWarning: import * only allowed at module level\n",
        "<input>:1: SyntaxWarning: import * only allowed at module level\n",
        "<input>:1: SyntaxWarning: import * only allowed at module level\n",
        "<input>:1: SyntaxWarning: import * only allowed at module level\n",
        "<input>:1: SyntaxWarning: import * only allowed at module level\n",
        "<input>:1: SyntaxWarning: import * only allowed at module level\n",
        "<input>:1: SyntaxWarning: import * only allowed at module level\n",
        "<input>:1: SyntaxWarning: import * only allowed at module level\n",
        "<input>:1: SyntaxWarning: import * only allowed at module level\n",
        "<input>:1: SyntaxWarning: import * only allowed at module level\n",
        "<input>:1: SyntaxWarning: import * only allowed at module level\n",
        "<input>:1: SyntaxWarning: import * only allowed at module level\n",
        "<input>:1: SyntaxWarning: import * only allowed at module level\n",
        "<input>:1: SyntaxWarning: import * only allowed at module level\n",
        "<input>:1: SyntaxWarning: import * only allowed at module level\n",
        "<input>:1: SyntaxWarning: import * only allowed at module level\n",
        "<input>:1: SyntaxWarning: import * only allowed at module level\n",
        "<input>:1: SyntaxWarning: import * only allowed at module level\n",
        "<input>:1: SyntaxWarning: import * only allowed at module level\n",
        "<input>:1: SyntaxWarning: import * only allowed at module level\n",
        "<input>:1: SyntaxWarning: import * only allowed at module level\n",
        "<input>:1: SyntaxWarning: import * only allowed at module level\n",
        "<input>:1: SyntaxWarning: import * only allowed at module level\n",
        "<input>:1: SyntaxWarning: import * only allowed at module level\n",
        "<input>:1: SyntaxWarning: import * only allowed at module level\n",
        "<input>:1: SyntaxWarning: import * only allowed at module level\n",
        "<input>:1: SyntaxWarning: import * only allowed at module level\n",
        "<input>:1: SyntaxWarning: import * only allowed at module level\n",
        "<input>:1: SyntaxWarning: import * only allowed at module level\n",
        "<input>:1: SyntaxWarning: import * only allowed at module level\n",
        "<input>:1: SyntaxWarning: import * only allowed at module level\n",
        "<input>:1: SyntaxWarning: import * only allowed at module level\n",
        "<input>:1: SyntaxWarning: import * only allowed at module level\n",
        "<input>:1: SyntaxWarning: import * only allowed at module level\n",
        "<input>:1: SyntaxWarning: import * only allowed at module level\n",
        "<input>:1: SyntaxWarning: import * only allowed at module level\n",
        "<input>:1: SyntaxWarning: import * only allowed at module level\n",
        "<input>:1: SyntaxWarning: import * only allowed at module level\n",
        "<ipython-input-16-6b4e132f13c3>:1: SyntaxWarning: import * only allowed at module level\n",
        "  def test_lemmatized_wiktionary_bigrams(corpus_train_data,corpus_test_data,label_names,with_stopwords_removal,use_chi_features,use_raw_tokens):\n"
       ]
      }
     ],
     "prompt_number": 16
    },
    {
     "cell_type": "code",
     "collapsed": false,
     "input": [
      "def test_lemmatized_google_bigrams(corpus_train_data,corpus_test_data,label_names,with_stopwords_removal,use_chi_features,use_raw_tokens):\n",
      "    import numpy as np\n",
      "    from lemmatizing_tokenizer import LemmaTokenizer\n",
      "    from lemmatizing_tokenizer import RawLemmaTokenizer\n",
      "    from ng20_globals import *\n",
      "    from ng20_vocabulary_loader import load_common_vocabulary\n",
      "    \n",
      "    max_ngram_size = 2\n",
      "        \n",
      "    if with_stopwords_removal==False:\n",
      "        stopwords_pattern = ''\n",
      "    else:\n",
      "        stopwords_pattern = '_stopwords'\n",
      "    if use_chi_features==False:\n",
      "        chi_features_pattern = ''\n",
      "    else:\n",
      "        chi_features_pattern = '_chi'\n",
      "    if use_raw_tokens==False:\n",
      "        raw_tokens_pattern = ''\n",
      "        tokenizer = LemmaTokenizer()\n",
      "    else:\n",
      "        raw_tokens_pattern = '_raw'\n",
      "        tokenizer = RawLemmaTokenizer()\n",
      "    \n",
      "    # load vocabulary\n",
      "    vocabulary_tbl_name1 = 'ng20{0}_lemmas{1}_unigrams{2}_df{3}_tf{4}'.format(raw_tokens_pattern,chi_features_pattern,stopwords_pattern,min_df,min_tf)\n",
      "    vocabulary_tbl_name2 = 'ng20{0}_lemmas{1}_bigrams{2}_df{3}_tf{4}'.format(raw_tokens_pattern,chi_features_pattern,stopwords_pattern,min_df,min_tf)\n",
      "    \n",
      "    vocabulary_tbl_intersect = 'google_bigrams'\n",
      "    vocabulary = load_common_vocabulary(vocabulary_tbl_name1,vocabulary_tbl_name2,vocabulary_tbl_intersect,'lemma')    \n",
      "\n",
      "    # generate tfidf vectors\n",
      "    vectorizer, corpus_train_tfidf_vectors = vectorize_corpus(corpus_train_data['corpus'],tokenizer,vocabulary,max_ngram_size)\n",
      "    _, corpus_test_tfidf_vectors = vectorize_corpus(corpus_test_data['corpus'],tokenizer,vocabulary,max_ngram_size)\n",
      "    \n",
      "    # classify & evaluate    \n",
      "    results = classify(corpus_train_tfidf_vectors,corpus_train_data['labels'],\n",
      "                       corpus_test_tfidf_vectors,corpus_test_data['labels'],\n",
      "                       max_labels)\n",
      "    \n",
      "    print_top_feature_names(results['classifier'], np.asarray(vectorizer.get_feature_names()), label_names)\n",
      "    \n",
      "    print vocabulary_tbl_name1,'^',vocabulary_tbl_name2,'^',vocabulary_tbl_intersect,' --> ','precision ',results['precision'],'recall ',results['recall'],'f1 ',results['f1']"
     ],
     "language": "python",
     "metadata": {},
     "outputs": [
      {
       "output_type": "stream",
       "stream": "stderr",
       "text": [
        "<input>:1: SyntaxWarning: import * only allowed at module level\n",
        "<input>:1: SyntaxWarning: import * only allowed at module level\n",
        "<input>:1: SyntaxWarning: import * only allowed at module level\n",
        "<input>:1: SyntaxWarning: import * only allowed at module level\n",
        "<input>:1: SyntaxWarning: import * only allowed at module level\n",
        "<input>:1: SyntaxWarning: import * only allowed at module level\n",
        "<input>:1: SyntaxWarning: import * only allowed at module level\n",
        "<input>:1: SyntaxWarning: import * only allowed at module level\n",
        "<input>:1: SyntaxWarning: import * only allowed at module level\n",
        "<input>:1: SyntaxWarning: import * only allowed at module level\n",
        "<input>:1: SyntaxWarning: import * only allowed at module level\n",
        "<input>:1: SyntaxWarning: import * only allowed at module level\n",
        "<input>:1: SyntaxWarning: import * only allowed at module level\n",
        "<input>:1: SyntaxWarning: import * only allowed at module level\n",
        "<input>:1: SyntaxWarning: import * only allowed at module level\n",
        "<input>:1: SyntaxWarning: import * only allowed at module level\n",
        "<input>:1: SyntaxWarning: import * only allowed at module level\n",
        "<input>:1: SyntaxWarning: import * only allowed at module level\n",
        "<input>:1: SyntaxWarning: import * only allowed at module level\n",
        "<input>:1: SyntaxWarning: import * only allowed at module level\n",
        "<input>:1: SyntaxWarning: import * only allowed at module level\n",
        "<input>:1: SyntaxWarning: import * only allowed at module level\n",
        "<input>:1: SyntaxWarning: import * only allowed at module level\n",
        "<input>:1: SyntaxWarning: import * only allowed at module level\n",
        "<input>:1: SyntaxWarning: import * only allowed at module level\n",
        "<input>:1: SyntaxWarning: import * only allowed at module level\n",
        "<input>:1: SyntaxWarning: import * only allowed at module level\n",
        "<input>:1: SyntaxWarning: import * only allowed at module level\n",
        "<input>:1: SyntaxWarning: import * only allowed at module level\n",
        "<input>:1: SyntaxWarning: import * only allowed at module level\n",
        "<input>:1: SyntaxWarning: import * only allowed at module level\n",
        "<input>:1: SyntaxWarning: import * only allowed at module level\n",
        "<input>:1: SyntaxWarning: import * only allowed at module level\n",
        "<input>:1: SyntaxWarning: import * only allowed at module level\n",
        "<input>:1: SyntaxWarning: import * only allowed at module level\n",
        "<input>:1: SyntaxWarning: import * only allowed at module level\n",
        "<input>:1: SyntaxWarning: import * only allowed at module level\n",
        "<input>:1: SyntaxWarning: import * only allowed at module level\n",
        "<input>:1: SyntaxWarning: import * only allowed at module level\n",
        "<input>:1: SyntaxWarning: import * only allowed at module level\n",
        "<input>:1: SyntaxWarning: import * only allowed at module level\n",
        "<input>:1: SyntaxWarning: import * only allowed at module level\n",
        "<input>:1: SyntaxWarning: import * only allowed at module level\n",
        "<input>:1: SyntaxWarning: import * only allowed at module level\n",
        "<input>:1: SyntaxWarning: import * only allowed at module level\n",
        "<input>:1: SyntaxWarning: import * only allowed at module level\n",
        "<input>:1: SyntaxWarning: import * only allowed at module level\n",
        "<input>:1: SyntaxWarning: import * only allowed at module level\n",
        "<input>:1: SyntaxWarning: import * only allowed at module level\n",
        "<input>:1: SyntaxWarning: import * only allowed at module level\n",
        "<input>:1: SyntaxWarning: import * only allowed at module level\n",
        "<input>:1: SyntaxWarning: import * only allowed at module level\n",
        "<input>:1: SyntaxWarning: import * only allowed at module level\n",
        "<input>:1: SyntaxWarning: import * only allowed at module level\n",
        "<input>:1: SyntaxWarning: import * only allowed at module level\n",
        "<input>:1: SyntaxWarning: import * only allowed at module level\n",
        "<input>:1: SyntaxWarning: import * only allowed at module level\n",
        "<input>:1: SyntaxWarning: import * only allowed at module level\n",
        "<input>:1: SyntaxWarning: import * only allowed at module level\n",
        "<input>:1: SyntaxWarning: import * only allowed at module level\n",
        "<input>:1: SyntaxWarning: import * only allowed at module level\n",
        "<input>:1: SyntaxWarning: import * only allowed at module level\n",
        "<input>:1: SyntaxWarning: import * only allowed at module level\n",
        "<input>:1: SyntaxWarning: import * only allowed at module level\n",
        "<input>:1: SyntaxWarning: import * only allowed at module level\n",
        "<input>:1: SyntaxWarning: import * only allowed at module level\n",
        "<input>:1: SyntaxWarning: import * only allowed at module level\n",
        "<input>:1: SyntaxWarning: import * only allowed at module level\n",
        "<input>:1: SyntaxWarning: import * only allowed at module level\n",
        "<input>:1: SyntaxWarning: import * only allowed at module level\n",
        "<input>:1: SyntaxWarning: import * only allowed at module level\n",
        "<input>:1: SyntaxWarning: import * only allowed at module level\n",
        "<input>:1: SyntaxWarning: import * only allowed at module level\n",
        "<input>:1: SyntaxWarning: import * only allowed at module level\n",
        "<input>:1: SyntaxWarning: import * only allowed at module level\n",
        "<input>:1: SyntaxWarning: import * only allowed at module level\n",
        "<input>:1: SyntaxWarning: import * only allowed at module level\n",
        "<input>:1: SyntaxWarning: import * only allowed at module level\n",
        "<input>:1: SyntaxWarning: import * only allowed at module level\n",
        "<input>:1: SyntaxWarning: import * only allowed at module level\n",
        "<input>:1: SyntaxWarning: import * only allowed at module level\n",
        "<input>:1: SyntaxWarning: import * only allowed at module level\n",
        "<input>:1: SyntaxWarning: import * only allowed at module level\n",
        "<input>:1: SyntaxWarning: import * only allowed at module level\n",
        "<input>:1: SyntaxWarning: import * only allowed at module level\n",
        "<input>:1: SyntaxWarning: import * only allowed at module level\n",
        "<input>:1: SyntaxWarning: import * only allowed at module level\n",
        "<input>:1: SyntaxWarning: import * only allowed at module level\n",
        "<input>:1: SyntaxWarning: import * only allowed at module level\n",
        "<input>:1: SyntaxWarning: import * only allowed at module level\n",
        "<input>:1: SyntaxWarning: import * only allowed at module level\n",
        "<input>:1: SyntaxWarning: import * only allowed at module level\n",
        "<input>:1: SyntaxWarning: import * only allowed at module level\n",
        "<ipython-input-17-f467d9a263e3>:1: SyntaxWarning: import * only allowed at module level\n",
        "  def test_lemmatized_google_bigrams(corpus_train_data,corpus_test_data,label_names,with_stopwords_removal,use_chi_features,use_raw_tokens):\n"
       ]
      }
     ],
     "prompt_number": 17
    },
    {
     "cell_type": "code",
     "collapsed": false,
     "input": [
      "def test_lemmatized_wiki_wiktionary_bigrams(corpus_train_data,corpus_test_data,label_names,with_stopwords_removal,use_chi_features,use_raw_tokens):\n",
      "    import numpy as np\n",
      "    from lemmatizing_tokenizer import LemmaTokenizer\n",
      "    from lemmatizing_tokenizer import RawLemmaTokenizer\n",
      "    from ng20_globals import *\n",
      "    from ng20_vocabulary_loader import load_common_vocabulary\n",
      "    \n",
      "    max_ngram_size = 2\n",
      "        \n",
      "    if with_stopwords_removal==False:\n",
      "        stopwords_pattern = ''\n",
      "    else:\n",
      "        stopwords_pattern = '_stopwords'\n",
      "    if use_chi_features==False:\n",
      "        chi_features_pattern = ''\n",
      "    else:\n",
      "        chi_features_pattern = '_chi'\n",
      "    if use_raw_tokens==False:\n",
      "        raw_tokens_pattern = ''\n",
      "        tokenizer = LemmaTokenizer()\n",
      "    else:\n",
      "        raw_tokens_pattern = '_raw'\n",
      "        tokenizer = RawLemmaTokenizer()\n",
      "    \n",
      "    # load vocabulary\n",
      "    vocabulary_tbl_name1 = 'ng20{0}_lemmas{1}_unigrams{2}_df{3}_tf{4}'.format(raw_tokens_pattern,chi_features_pattern,stopwords_pattern,min_df,min_tf)\n",
      "    vocabulary_tbl_name2 = 'ng20{0}_lemmas{1}_bigrams{2}_df{3}_tf{4}'.format(raw_tokens_pattern,chi_features_pattern,stopwords_pattern,min_df,min_tf)\n",
      "    \n",
      "    vocabulary_tbl_intersect = 'wiki_wiktionary_bigrams_vw'\n",
      "    vocabulary = load_common_vocabulary(vocabulary_tbl_name1,vocabulary_tbl_name2,vocabulary_tbl_intersect,'lemma')\n",
      "\n",
      "    # generate tfidf vectors\n",
      "    vectorizer, corpus_train_tfidf_vectors = vectorize_corpus(corpus_train_data['corpus'],tokenizer,vocabulary,max_ngram_size)\n",
      "    _, corpus_test_tfidf_vectors = vectorize_corpus(corpus_test_data['corpus'],tokenizer,vocabulary,max_ngram_size)\n",
      "    \n",
      "    # classify & evaluate    \n",
      "    results = classify(corpus_train_tfidf_vectors,corpus_train_data['labels'],\n",
      "                       corpus_test_tfidf_vectors,corpus_test_data['labels'],\n",
      "                       max_labels)\n",
      "    \n",
      "    print_top_feature_names(results['classifier'], np.asarray(vectorizer.get_feature_names()), label_names)\n",
      "    \n",
      "    print vocabulary_tbl_name1,'^',vocabulary_tbl_name2,'^',vocabulary_tbl_intersect,' --> ','precision ',results['precision'],'recall ',results['recall'],'f1 ',results['f1']"
     ],
     "language": "python",
     "metadata": {},
     "outputs": [
      {
       "output_type": "stream",
       "stream": "stderr",
       "text": [
        "<input>:1: SyntaxWarning: import * only allowed at module level\n",
        "<input>:1: SyntaxWarning: import * only allowed at module level\n",
        "<input>:1: SyntaxWarning: import * only allowed at module level\n",
        "<input>:1: SyntaxWarning: import * only allowed at module level\n",
        "<input>:1: SyntaxWarning: import * only allowed at module level\n",
        "<input>:1: SyntaxWarning: import * only allowed at module level\n",
        "<input>:1: SyntaxWarning: import * only allowed at module level\n",
        "<input>:1: SyntaxWarning: import * only allowed at module level\n",
        "<input>:1: SyntaxWarning: import * only allowed at module level\n",
        "<input>:1: SyntaxWarning: import * only allowed at module level\n",
        "<input>:1: SyntaxWarning: import * only allowed at module level\n",
        "<input>:1: SyntaxWarning: import * only allowed at module level\n",
        "<input>:1: SyntaxWarning: import * only allowed at module level\n",
        "<input>:1: SyntaxWarning: import * only allowed at module level\n",
        "<input>:1: SyntaxWarning: import * only allowed at module level\n",
        "<input>:1: SyntaxWarning: import * only allowed at module level\n",
        "<input>:1: SyntaxWarning: import * only allowed at module level\n",
        "<input>:1: SyntaxWarning: import * only allowed at module level\n",
        "<input>:1: SyntaxWarning: import * only allowed at module level\n",
        "<input>:1: SyntaxWarning: import * only allowed at module level\n",
        "<input>:1: SyntaxWarning: import * only allowed at module level\n",
        "<input>:1: SyntaxWarning: import * only allowed at module level\n",
        "<input>:1: SyntaxWarning: import * only allowed at module level\n",
        "<input>:1: SyntaxWarning: import * only allowed at module level\n",
        "<input>:1: SyntaxWarning: import * only allowed at module level\n",
        "<input>:1: SyntaxWarning: import * only allowed at module level\n",
        "<input>:1: SyntaxWarning: import * only allowed at module level\n",
        "<input>:1: SyntaxWarning: import * only allowed at module level\n",
        "<input>:1: SyntaxWarning: import * only allowed at module level\n",
        "<input>:1: SyntaxWarning: import * only allowed at module level\n",
        "<input>:1: SyntaxWarning: import * only allowed at module level\n",
        "<input>:1: SyntaxWarning: import * only allowed at module level\n",
        "<input>:1: SyntaxWarning: import * only allowed at module level\n",
        "<input>:1: SyntaxWarning: import * only allowed at module level\n",
        "<input>:1: SyntaxWarning: import * only allowed at module level\n",
        "<input>:1: SyntaxWarning: import * only allowed at module level\n",
        "<input>:1: SyntaxWarning: import * only allowed at module level\n",
        "<input>:1: SyntaxWarning: import * only allowed at module level\n",
        "<input>:1: SyntaxWarning: import * only allowed at module level\n",
        "<input>:1: SyntaxWarning: import * only allowed at module level\n",
        "<input>:1: SyntaxWarning: import * only allowed at module level\n",
        "<input>:1: SyntaxWarning: import * only allowed at module level\n",
        "<input>:1: SyntaxWarning: import * only allowed at module level\n",
        "<input>:1: SyntaxWarning: import * only allowed at module level\n",
        "<input>:1: SyntaxWarning: import * only allowed at module level\n",
        "<input>:1: SyntaxWarning: import * only allowed at module level\n",
        "<input>:1: SyntaxWarning: import * only allowed at module level\n",
        "<input>:1: SyntaxWarning: import * only allowed at module level\n",
        "<input>:1: SyntaxWarning: import * only allowed at module level\n",
        "<input>:1: SyntaxWarning: import * only allowed at module level\n",
        "<input>:1: SyntaxWarning: import * only allowed at module level\n",
        "<input>:1: SyntaxWarning: import * only allowed at module level\n",
        "<input>:1: SyntaxWarning: import * only allowed at module level\n",
        "<input>:1: SyntaxWarning: import * only allowed at module level\n",
        "<input>:1: SyntaxWarning: import * only allowed at module level\n",
        "<input>:1: SyntaxWarning: import * only allowed at module level\n",
        "<input>:1: SyntaxWarning: import * only allowed at module level\n",
        "<input>:1: SyntaxWarning: import * only allowed at module level\n",
        "<input>:1: SyntaxWarning: import * only allowed at module level\n",
        "<input>:1: SyntaxWarning: import * only allowed at module level\n",
        "<input>:1: SyntaxWarning: import * only allowed at module level\n",
        "<input>:1: SyntaxWarning: import * only allowed at module level\n",
        "<input>:1: SyntaxWarning: import * only allowed at module level\n",
        "<input>:1: SyntaxWarning: import * only allowed at module level\n",
        "<input>:1: SyntaxWarning: import * only allowed at module level\n",
        "<input>:1: SyntaxWarning: import * only allowed at module level\n",
        "<input>:1: SyntaxWarning: import * only allowed at module level\n",
        "<input>:1: SyntaxWarning: import * only allowed at module level\n",
        "<input>:1: SyntaxWarning: import * only allowed at module level\n",
        "<input>:1: SyntaxWarning: import * only allowed at module level\n",
        "<input>:1: SyntaxWarning: import * only allowed at module level\n",
        "<input>:1: SyntaxWarning: import * only allowed at module level\n",
        "<input>:1: SyntaxWarning: import * only allowed at module level\n",
        "<input>:1: SyntaxWarning: import * only allowed at module level\n",
        "<input>:1: SyntaxWarning: import * only allowed at module level\n",
        "<input>:1: SyntaxWarning: import * only allowed at module level\n",
        "<input>:1: SyntaxWarning: import * only allowed at module level\n",
        "<input>:1: SyntaxWarning: import * only allowed at module level\n",
        "<input>:1: SyntaxWarning: import * only allowed at module level\n",
        "<input>:1: SyntaxWarning: import * only allowed at module level\n",
        "<input>:1: SyntaxWarning: import * only allowed at module level\n",
        "<input>:1: SyntaxWarning: import * only allowed at module level\n",
        "<input>:1: SyntaxWarning: import * only allowed at module level\n",
        "<input>:1: SyntaxWarning: import * only allowed at module level\n",
        "<input>:1: SyntaxWarning: import * only allowed at module level\n",
        "<input>:1: SyntaxWarning: import * only allowed at module level\n",
        "<input>:1: SyntaxWarning: import * only allowed at module level\n",
        "<input>:1: SyntaxWarning: import * only allowed at module level\n",
        "<input>:1: SyntaxWarning: import * only allowed at module level\n",
        "<input>:1: SyntaxWarning: import * only allowed at module level\n",
        "<input>:1: SyntaxWarning: import * only allowed at module level\n",
        "<input>:1: SyntaxWarning: import * only allowed at module level\n",
        "<input>:1: SyntaxWarning: import * only allowed at module level\n",
        "<ipython-input-18-76ee1b830634>:1: SyntaxWarning: import * only allowed at module level\n",
        "  def test_lemmatized_wiki_wiktionary_bigrams(corpus_train_data,corpus_test_data,label_names,with_stopwords_removal,use_chi_features,use_raw_tokens):\n"
       ]
      }
     ],
     "prompt_number": 18
    },
    {
     "cell_type": "code",
     "collapsed": false,
     "input": [
      "def test_lemmatized_wiki_google_bigrams(corpus_train_data,corpus_test_data,label_names,with_stopwords_removal,use_chi_features,use_raw_tokens):\n",
      "    import numpy as np\n",
      "    from lemmatizing_tokenizer import LemmaTokenizer\n",
      "    from lemmatizing_tokenizer import RawLemmaTokenizer\n",
      "    from ng20_globals import *\n",
      "    from ng20_vocabulary_loader import load_common_vocabulary\n",
      "    \n",
      "    max_ngram_size = 2\n",
      "    \n",
      "    if with_stopwords_removal==False:\n",
      "        stopwords_pattern = ''\n",
      "    else:\n",
      "        stopwords_pattern = '_stopwords'\n",
      "    if use_chi_features==False:\n",
      "        chi_features_pattern = ''\n",
      "    else:\n",
      "        chi_features_pattern = '_chi'\n",
      "    if use_raw_tokens==False:\n",
      "        raw_tokens_pattern = ''\n",
      "        tokenizer = LemmaTokenizer()\n",
      "    else:\n",
      "        raw_tokens_pattern = '_raw'\n",
      "        tokenizer = RawLemmaTokenizer()\n",
      "    \n",
      "    # load vocabulary\n",
      "    vocabulary_tbl_name1 = 'ng20{0}_lemmas{1}_unigrams{2}_df{3}_tf{4}'.format(raw_tokens_pattern,chi_features_pattern,stopwords_pattern,min_df,min_tf)\n",
      "    vocabulary_tbl_name2 = 'ng20{0}_lemmas{1}_bigrams{2}_df{3}_tf{4}'.format(raw_tokens_pattern,chi_features_pattern,stopwords_pattern,min_df,min_tf)\n",
      "    \n",
      "    vocabulary_tbl_intersect = 'wiki_google_bigrams_vw'\n",
      "    vocabulary = load_common_vocabulary(vocabulary_tbl_name1,vocabulary_tbl_name2,vocabulary_tbl_intersect,'lemma')\n",
      "\n",
      "    # generate tfidf vectors\n",
      "    vectorizer, corpus_train_tfidf_vectors = vectorize_corpus(corpus_train_data['corpus'],tokenizer,vocabulary,max_ngram_size)\n",
      "    _, corpus_test_tfidf_vectors = vectorize_corpus(corpus_test_data['corpus'],tokenizer,vocabulary,max_ngram_size)\n",
      "    \n",
      "    # classify & evaluate    \n",
      "    results = classify(corpus_train_tfidf_vectors,corpus_train_data['labels'],\n",
      "                       corpus_test_tfidf_vectors,corpus_test_data['labels'],\n",
      "                       max_labels)\n",
      "    \n",
      "    print_top_feature_names(results['classifier'], np.asarray(vectorizer.get_feature_names()), label_names)\n",
      "    \n",
      "    print vocabulary_tbl_name1,'^',vocabulary_tbl_name2,'^',vocabulary_tbl_intersect,' --> ','precision ',results['precision'],'recall ',results['recall'],'f1 ',results['f1']"
     ],
     "language": "python",
     "metadata": {},
     "outputs": [
      {
       "output_type": "stream",
       "stream": "stderr",
       "text": [
        "<input>:1: SyntaxWarning: import * only allowed at module level\n",
        "<input>:1: SyntaxWarning: import * only allowed at module level\n",
        "<input>:1: SyntaxWarning: import * only allowed at module level\n",
        "<input>:1: SyntaxWarning: import * only allowed at module level\n",
        "<input>:1: SyntaxWarning: import * only allowed at module level\n",
        "<input>:1: SyntaxWarning: import * only allowed at module level\n",
        "<input>:1: SyntaxWarning: import * only allowed at module level\n",
        "<input>:1: SyntaxWarning: import * only allowed at module level\n",
        "<input>:1: SyntaxWarning: import * only allowed at module level\n",
        "<input>:1: SyntaxWarning: import * only allowed at module level\n",
        "<input>:1: SyntaxWarning: import * only allowed at module level\n",
        "<input>:1: SyntaxWarning: import * only allowed at module level\n",
        "<input>:1: SyntaxWarning: import * only allowed at module level\n",
        "<input>:1: SyntaxWarning: import * only allowed at module level\n",
        "<input>:1: SyntaxWarning: import * only allowed at module level\n",
        "<input>:1: SyntaxWarning: import * only allowed at module level\n",
        "<input>:1: SyntaxWarning: import * only allowed at module level\n",
        "<input>:1: SyntaxWarning: import * only allowed at module level\n",
        "<input>:1: SyntaxWarning: import * only allowed at module level\n",
        "<input>:1: SyntaxWarning: import * only allowed at module level\n",
        "<input>:1: SyntaxWarning: import * only allowed at module level\n",
        "<input>:1: SyntaxWarning: import * only allowed at module level\n",
        "<input>:1: SyntaxWarning: import * only allowed at module level\n",
        "<input>:1: SyntaxWarning: import * only allowed at module level\n",
        "<input>:1: SyntaxWarning: import * only allowed at module level\n",
        "<input>:1: SyntaxWarning: import * only allowed at module level\n",
        "<input>:1: SyntaxWarning: import * only allowed at module level\n",
        "<input>:1: SyntaxWarning: import * only allowed at module level\n",
        "<input>:1: SyntaxWarning: import * only allowed at module level\n",
        "<input>:1: SyntaxWarning: import * only allowed at module level\n",
        "<input>:1: SyntaxWarning: import * only allowed at module level\n",
        "<input>:1: SyntaxWarning: import * only allowed at module level\n",
        "<input>:1: SyntaxWarning: import * only allowed at module level\n",
        "<input>:1: SyntaxWarning: import * only allowed at module level\n",
        "<input>:1: SyntaxWarning: import * only allowed at module level\n",
        "<input>:1: SyntaxWarning: import * only allowed at module level\n",
        "<input>:1: SyntaxWarning: import * only allowed at module level\n",
        "<input>:1: SyntaxWarning: import * only allowed at module level\n",
        "<input>:1: SyntaxWarning: import * only allowed at module level\n",
        "<input>:1: SyntaxWarning: import * only allowed at module level\n",
        "<input>:1: SyntaxWarning: import * only allowed at module level\n",
        "<input>:1: SyntaxWarning: import * only allowed at module level\n",
        "<input>:1: SyntaxWarning: import * only allowed at module level\n",
        "<input>:1: SyntaxWarning: import * only allowed at module level\n",
        "<input>:1: SyntaxWarning: import * only allowed at module level\n",
        "<input>:1: SyntaxWarning: import * only allowed at module level\n",
        "<input>:1: SyntaxWarning: import * only allowed at module level\n",
        "<input>:1: SyntaxWarning: import * only allowed at module level\n",
        "<input>:1: SyntaxWarning: import * only allowed at module level\n",
        "<input>:1: SyntaxWarning: import * only allowed at module level\n",
        "<input>:1: SyntaxWarning: import * only allowed at module level\n",
        "<input>:1: SyntaxWarning: import * only allowed at module level\n",
        "<input>:1: SyntaxWarning: import * only allowed at module level\n",
        "<input>:1: SyntaxWarning: import * only allowed at module level\n",
        "<input>:1: SyntaxWarning: import * only allowed at module level\n",
        "<input>:1: SyntaxWarning: import * only allowed at module level\n",
        "<input>:1: SyntaxWarning: import * only allowed at module level\n",
        "<input>:1: SyntaxWarning: import * only allowed at module level\n",
        "<input>:1: SyntaxWarning: import * only allowed at module level\n",
        "<input>:1: SyntaxWarning: import * only allowed at module level\n",
        "<input>:1: SyntaxWarning: import * only allowed at module level\n",
        "<input>:1: SyntaxWarning: import * only allowed at module level\n",
        "<input>:1: SyntaxWarning: import * only allowed at module level\n",
        "<input>:1: SyntaxWarning: import * only allowed at module level\n",
        "<input>:1: SyntaxWarning: import * only allowed at module level\n",
        "<input>:1: SyntaxWarning: import * only allowed at module level\n",
        "<input>:1: SyntaxWarning: import * only allowed at module level\n",
        "<input>:1: SyntaxWarning: import * only allowed at module level\n",
        "<input>:1: SyntaxWarning: import * only allowed at module level\n",
        "<input>:1: SyntaxWarning: import * only allowed at module level\n",
        "<input>:1: SyntaxWarning: import * only allowed at module level\n",
        "<input>:1: SyntaxWarning: import * only allowed at module level\n",
        "<input>:1: SyntaxWarning: import * only allowed at module level\n",
        "<input>:1: SyntaxWarning: import * only allowed at module level\n",
        "<input>:1: SyntaxWarning: import * only allowed at module level\n",
        "<input>:1: SyntaxWarning: import * only allowed at module level\n",
        "<input>:1: SyntaxWarning: import * only allowed at module level\n",
        "<input>:1: SyntaxWarning: import * only allowed at module level\n",
        "<input>:1: SyntaxWarning: import * only allowed at module level\n",
        "<input>:1: SyntaxWarning: import * only allowed at module level\n",
        "<input>:1: SyntaxWarning: import * only allowed at module level\n",
        "<input>:1: SyntaxWarning: import * only allowed at module level\n",
        "<input>:1: SyntaxWarning: import * only allowed at module level\n",
        "<input>:1: SyntaxWarning: import * only allowed at module level\n",
        "<input>:1: SyntaxWarning: import * only allowed at module level\n",
        "<input>:1: SyntaxWarning: import * only allowed at module level\n",
        "<input>:1: SyntaxWarning: import * only allowed at module level\n",
        "<input>:1: SyntaxWarning: import * only allowed at module level\n",
        "<input>:1: SyntaxWarning: import * only allowed at module level\n",
        "<input>:1: SyntaxWarning: import * only allowed at module level\n",
        "<input>:1: SyntaxWarning: import * only allowed at module level\n",
        "<input>:1: SyntaxWarning: import * only allowed at module level\n",
        "<input>:1: SyntaxWarning: import * only allowed at module level\n",
        "<ipython-input-19-238b8a5c0d00>:1: SyntaxWarning: import * only allowed at module level\n",
        "  def test_lemmatized_wiki_google_bigrams(corpus_train_data,corpus_test_data,label_names,with_stopwords_removal,use_chi_features,use_raw_tokens):\n"
       ]
      }
     ],
     "prompt_number": 19
    },
    {
     "cell_type": "code",
     "collapsed": false,
     "input": [
      "def test_lemmatized_wiktionary_google_bigrams(corpus_train_data,corpus_test_data,label_names,with_stopwords_removal,use_chi_features,use_raw_tokens):\n",
      "    import numpy as np\n",
      "    from lemmatizing_tokenizer import LemmaTokenizer\n",
      "    from lemmatizing_tokenizer import RawLemmaTokenizer\n",
      "    from ng20_globals import *\n",
      "    from ng20_vocabulary_loader import load_common_vocabulary\n",
      "    \n",
      "    max_ngram_size = 2\n",
      "        \n",
      "    if with_stopwords_removal==False:\n",
      "        stopwords_pattern = ''\n",
      "    else:\n",
      "        stopwords_pattern = '_stopwords'\n",
      "    if use_chi_features==False:\n",
      "        chi_features_pattern = ''\n",
      "    else:\n",
      "        chi_features_pattern = '_chi'\n",
      "    if use_raw_tokens==False:\n",
      "        raw_tokens_pattern = ''\n",
      "        tokenizer = LemmaTokenizer()\n",
      "    else:\n",
      "        raw_tokens_pattern = '_raw'\n",
      "        tokenizer = RawLemmaTokenizer()\n",
      "    \n",
      "    # load vocabulary\n",
      "    vocabulary_tbl_name1 = 'ng20{0}_lemmas{1}_unigrams{2}_df{3}_tf{4}'.format(raw_tokens_pattern,chi_features_pattern,stopwords_pattern,min_df,min_tf)\n",
      "    vocabulary_tbl_name2 = 'ng20{0}_lemmas{1}_bigrams{2}_df{3}_tf{4}'.format(raw_tokens_pattern,chi_features_pattern,stopwords_pattern,min_df,min_tf)\n",
      "    \n",
      "    vocabulary_tbl_intersect = 'wiktionary_google_bigrams_vw'\n",
      "    vocabulary = load_common_vocabulary(vocabulary_tbl_name1,vocabulary_tbl_name2,vocabulary_tbl_intersect,'lemma')\n",
      "\n",
      "    # generate tfidf vectors\n",
      "    vectorizer, corpus_train_tfidf_vectors = vectorize_corpus(corpus_train_data['corpus'],tokenizer,vocabulary,max_ngram_size)\n",
      "    _, corpus_test_tfidf_vectors = vectorize_corpus(corpus_test_data['corpus'],tokenizer,vocabulary,max_ngram_size)\n",
      "    \n",
      "    # classify & evaluate    \n",
      "    results = classify(corpus_train_tfidf_vectors,corpus_train_data['labels'],\n",
      "                       corpus_test_tfidf_vectors,corpus_test_data['labels'],\n",
      "                       max_labels)\n",
      "    \n",
      "    print_top_feature_names(results['classifier'], np.asarray(vectorizer.get_feature_names()), label_names)\n",
      "    \n",
      "    print vocabulary_tbl_name1,'^',vocabulary_tbl_name2,'^',vocabulary_tbl_intersect,' --> ','precision ',results['precision'],'recall ',results['recall'],'f1 ',results['f1']"
     ],
     "language": "python",
     "metadata": {},
     "outputs": [
      {
       "output_type": "stream",
       "stream": "stderr",
       "text": [
        "<input>:1: SyntaxWarning: import * only allowed at module level\n",
        "<input>:1: SyntaxWarning: import * only allowed at module level\n",
        "<input>:1: SyntaxWarning: import * only allowed at module level\n",
        "<input>:1: SyntaxWarning: import * only allowed at module level\n",
        "<input>:1: SyntaxWarning: import * only allowed at module level\n",
        "<input>:1: SyntaxWarning: import * only allowed at module level\n",
        "<input>:1: SyntaxWarning: import * only allowed at module level\n",
        "<input>:1: SyntaxWarning: import * only allowed at module level\n",
        "<input>:1: SyntaxWarning: import * only allowed at module level\n",
        "<input>:1: SyntaxWarning: import * only allowed at module level\n",
        "<input>:1: SyntaxWarning: import * only allowed at module level\n",
        "<input>:1: SyntaxWarning: import * only allowed at module level\n",
        "<input>:1: SyntaxWarning: import * only allowed at module level\n",
        "<input>:1: SyntaxWarning: import * only allowed at module level\n",
        "<input>:1: SyntaxWarning: import * only allowed at module level\n",
        "<input>:1: SyntaxWarning: import * only allowed at module level\n",
        "<input>:1: SyntaxWarning: import * only allowed at module level\n",
        "<input>:1: SyntaxWarning: import * only allowed at module level\n",
        "<input>:1: SyntaxWarning: import * only allowed at module level\n",
        "<input>:1: SyntaxWarning: import * only allowed at module level\n",
        "<input>:1: SyntaxWarning: import * only allowed at module level\n",
        "<input>:1: SyntaxWarning: import * only allowed at module level\n",
        "<input>:1: SyntaxWarning: import * only allowed at module level\n",
        "<input>:1: SyntaxWarning: import * only allowed at module level\n",
        "<input>:1: SyntaxWarning: import * only allowed at module level\n",
        "<input>:1: SyntaxWarning: import * only allowed at module level\n",
        "<input>:1: SyntaxWarning: import * only allowed at module level\n",
        "<input>:1: SyntaxWarning: import * only allowed at module level\n",
        "<input>:1: SyntaxWarning: import * only allowed at module level\n",
        "<input>:1: SyntaxWarning: import * only allowed at module level\n",
        "<input>:1: SyntaxWarning: import * only allowed at module level\n",
        "<input>:1: SyntaxWarning: import * only allowed at module level\n",
        "<input>:1: SyntaxWarning: import * only allowed at module level\n",
        "<input>:1: SyntaxWarning: import * only allowed at module level\n",
        "<input>:1: SyntaxWarning: import * only allowed at module level\n",
        "<input>:1: SyntaxWarning: import * only allowed at module level\n",
        "<input>:1: SyntaxWarning: import * only allowed at module level\n",
        "<input>:1: SyntaxWarning: import * only allowed at module level\n",
        "<input>:1: SyntaxWarning: import * only allowed at module level\n",
        "<input>:1: SyntaxWarning: import * only allowed at module level\n",
        "<input>:1: SyntaxWarning: import * only allowed at module level\n",
        "<input>:1: SyntaxWarning: import * only allowed at module level\n",
        "<input>:1: SyntaxWarning: import * only allowed at module level\n",
        "<input>:1: SyntaxWarning: import * only allowed at module level\n",
        "<input>:1: SyntaxWarning: import * only allowed at module level\n",
        "<input>:1: SyntaxWarning: import * only allowed at module level\n",
        "<input>:1: SyntaxWarning: import * only allowed at module level\n",
        "<input>:1: SyntaxWarning: import * only allowed at module level\n",
        "<input>:1: SyntaxWarning: import * only allowed at module level\n",
        "<input>:1: SyntaxWarning: import * only allowed at module level\n",
        "<input>:1: SyntaxWarning: import * only allowed at module level\n",
        "<input>:1: SyntaxWarning: import * only allowed at module level\n",
        "<input>:1: SyntaxWarning: import * only allowed at module level\n",
        "<input>:1: SyntaxWarning: import * only allowed at module level\n",
        "<input>:1: SyntaxWarning: import * only allowed at module level\n",
        "<input>:1: SyntaxWarning: import * only allowed at module level\n",
        "<input>:1: SyntaxWarning: import * only allowed at module level\n",
        "<input>:1: SyntaxWarning: import * only allowed at module level\n",
        "<input>:1: SyntaxWarning: import * only allowed at module level\n",
        "<input>:1: SyntaxWarning: import * only allowed at module level\n",
        "<input>:1: SyntaxWarning: import * only allowed at module level\n",
        "<input>:1: SyntaxWarning: import * only allowed at module level\n",
        "<input>:1: SyntaxWarning: import * only allowed at module level\n",
        "<input>:1: SyntaxWarning: import * only allowed at module level\n",
        "<input>:1: SyntaxWarning: import * only allowed at module level\n",
        "<input>:1: SyntaxWarning: import * only allowed at module level\n",
        "<input>:1: SyntaxWarning: import * only allowed at module level\n",
        "<input>:1: SyntaxWarning: import * only allowed at module level\n",
        "<input>:1: SyntaxWarning: import * only allowed at module level\n",
        "<input>:1: SyntaxWarning: import * only allowed at module level\n",
        "<input>:1: SyntaxWarning: import * only allowed at module level\n",
        "<input>:1: SyntaxWarning: import * only allowed at module level\n",
        "<input>:1: SyntaxWarning: import * only allowed at module level\n",
        "<input>:1: SyntaxWarning: import * only allowed at module level\n",
        "<input>:1: SyntaxWarning: import * only allowed at module level\n",
        "<input>:1: SyntaxWarning: import * only allowed at module level\n",
        "<input>:1: SyntaxWarning: import * only allowed at module level\n",
        "<input>:1: SyntaxWarning: import * only allowed at module level\n",
        "<input>:1: SyntaxWarning: import * only allowed at module level\n",
        "<input>:1: SyntaxWarning: import * only allowed at module level\n",
        "<input>:1: SyntaxWarning: import * only allowed at module level\n",
        "<input>:1: SyntaxWarning: import * only allowed at module level\n",
        "<input>:1: SyntaxWarning: import * only allowed at module level\n",
        "<input>:1: SyntaxWarning: import * only allowed at module level\n",
        "<input>:1: SyntaxWarning: import * only allowed at module level\n",
        "<input>:1: SyntaxWarning: import * only allowed at module level\n",
        "<input>:1: SyntaxWarning: import * only allowed at module level\n",
        "<input>:1: SyntaxWarning: import * only allowed at module level\n",
        "<input>:1: SyntaxWarning: import * only allowed at module level\n",
        "<input>:1: SyntaxWarning: import * only allowed at module level\n",
        "<input>:1: SyntaxWarning: import * only allowed at module level\n",
        "<input>:1: SyntaxWarning: import * only allowed at module level\n",
        "<input>:1: SyntaxWarning: import * only allowed at module level\n",
        "<ipython-input-20-281d5812c07d>:1: SyntaxWarning: import * only allowed at module level\n",
        "  def test_lemmatized_wiktionary_google_bigrams(corpus_train_data,corpus_test_data,label_names,with_stopwords_removal,use_chi_features,use_raw_tokens):\n"
       ]
      }
     ],
     "prompt_number": 20
    },
    {
     "cell_type": "code",
     "collapsed": false,
     "input": [
      "def test_stemmed_wiki_wiktionary_bigrams(corpus_train_data,corpus_test_data,label_names,with_stopwords_removal,use_chi_features,use_raw_tokens):\n",
      "    import numpy as np\n",
      "    from stemming_tokenizer import StemmingTokenizer\n",
      "    from stemming_tokenizer import RawStemmingTokenizer\n",
      "    from ng20_globals import *\n",
      "    from ng20_vocabulary_loader import load_common_vocabulary\n",
      "    \n",
      "    max_ngram_size = 2\n",
      "        \n",
      "    if with_stopwords_removal==False:\n",
      "        stopwords_pattern = ''\n",
      "    else:\n",
      "        stopwords_pattern = '_stopwords'\n",
      "    if use_chi_features==False:\n",
      "        chi_features_pattern = ''\n",
      "    else:\n",
      "        chi_features_pattern = '_chi'\n",
      "    if use_raw_tokens==False:\n",
      "        raw_tokens_pattern = ''\n",
      "        tokenizer = StemmingTokenizer()\n",
      "    else:\n",
      "        raw_tokens_pattern = '_raw'\n",
      "        tokenizer = RawStemmingTokenizer()\n",
      "    \n",
      "    # load vocabulary\n",
      "    vocabulary_tbl_name1 = 'ng20{0}_stems{1}_unigrams{2}_df{3}_tf{4}'.format(raw_tokens_pattern,chi_features_pattern,stopwords_pattern,min_df,min_tf)\n",
      "    vocabulary_tbl_name2 = 'ng20{0}_stems{1}_bigrams{2}_df{3}_tf{4}'.format(raw_tokens_pattern,chi_features_pattern,stopwords_pattern,min_df,min_tf)\n",
      "    \n",
      "    vocabulary_tbl_intersect = 'wiki_wiktionary_bigrams_vw'\n",
      "    vocabulary = load_common_vocabulary(vocabulary_tbl_name1,vocabulary_tbl_name2,vocabulary_tbl_intersect,'stem')\n",
      "\n",
      "    # generate tfidf vectors\n",
      "    vectorizer, corpus_train_tfidf_vectors = vectorize_corpus(corpus_train_data['corpus'],tokenizer,vocabulary,max_ngram_size)\n",
      "    _, corpus_test_tfidf_vectors = vectorize_corpus(corpus_test_data['corpus'],tokenizer,vocabulary,max_ngram_size)\n",
      "    \n",
      "    # classify & evaluate    \n",
      "    results = classify(corpus_train_tfidf_vectors,corpus_train_data['labels'],\n",
      "                       corpus_test_tfidf_vectors,corpus_test_data['labels'],\n",
      "                       max_labels)\n",
      "    \n",
      "    print_top_feature_names(results['classifier'], np.asarray(vectorizer.get_feature_names()), label_names)\n",
      "    \n",
      "    print vocabulary_tbl_name1,'^',vocabulary_tbl_name2,'^',vocabulary_tbl_intersect,' --> ','precision ',results['precision'],'recall ',results['recall'],'f1 ',results['f1']"
     ],
     "language": "python",
     "metadata": {},
     "outputs": [
      {
       "output_type": "stream",
       "stream": "stderr",
       "text": [
        "<input>:1: SyntaxWarning: import * only allowed at module level\n",
        "<input>:1: SyntaxWarning: import * only allowed at module level\n",
        "<input>:1: SyntaxWarning: import * only allowed at module level\n",
        "<input>:1: SyntaxWarning: import * only allowed at module level\n",
        "<input>:1: SyntaxWarning: import * only allowed at module level\n",
        "<input>:1: SyntaxWarning: import * only allowed at module level\n",
        "<input>:1: SyntaxWarning: import * only allowed at module level\n",
        "<input>:1: SyntaxWarning: import * only allowed at module level\n",
        "<input>:1: SyntaxWarning: import * only allowed at module level\n",
        "<input>:1: SyntaxWarning: import * only allowed at module level\n",
        "<input>:1: SyntaxWarning: import * only allowed at module level\n",
        "<input>:1: SyntaxWarning: import * only allowed at module level\n",
        "<input>:1: SyntaxWarning: import * only allowed at module level\n",
        "<input>:1: SyntaxWarning: import * only allowed at module level\n",
        "<input>:1: SyntaxWarning: import * only allowed at module level\n",
        "<input>:1: SyntaxWarning: import * only allowed at module level\n",
        "<input>:1: SyntaxWarning: import * only allowed at module level\n",
        "<input>:1: SyntaxWarning: import * only allowed at module level\n",
        "<input>:1: SyntaxWarning: import * only allowed at module level\n",
        "<input>:1: SyntaxWarning: import * only allowed at module level\n",
        "<input>:1: SyntaxWarning: import * only allowed at module level\n",
        "<input>:1: SyntaxWarning: import * only allowed at module level\n",
        "<input>:1: SyntaxWarning: import * only allowed at module level\n",
        "<input>:1: SyntaxWarning: import * only allowed at module level\n",
        "<input>:1: SyntaxWarning: import * only allowed at module level\n",
        "<input>:1: SyntaxWarning: import * only allowed at module level\n",
        "<input>:1: SyntaxWarning: import * only allowed at module level\n",
        "<input>:1: SyntaxWarning: import * only allowed at module level\n",
        "<input>:1: SyntaxWarning: import * only allowed at module level\n",
        "<input>:1: SyntaxWarning: import * only allowed at module level\n",
        "<input>:1: SyntaxWarning: import * only allowed at module level\n",
        "<input>:1: SyntaxWarning: import * only allowed at module level\n",
        "<input>:1: SyntaxWarning: import * only allowed at module level\n",
        "<input>:1: SyntaxWarning: import * only allowed at module level\n",
        "<input>:1: SyntaxWarning: import * only allowed at module level\n",
        "<input>:1: SyntaxWarning: import * only allowed at module level\n",
        "<input>:1: SyntaxWarning: import * only allowed at module level\n",
        "<input>:1: SyntaxWarning: import * only allowed at module level\n",
        "<input>:1: SyntaxWarning: import * only allowed at module level\n",
        "<input>:1: SyntaxWarning: import * only allowed at module level\n",
        "<input>:1: SyntaxWarning: import * only allowed at module level\n",
        "<input>:1: SyntaxWarning: import * only allowed at module level\n",
        "<input>:1: SyntaxWarning: import * only allowed at module level\n",
        "<input>:1: SyntaxWarning: import * only allowed at module level\n",
        "<input>:1: SyntaxWarning: import * only allowed at module level\n",
        "<input>:1: SyntaxWarning: import * only allowed at module level\n",
        "<input>:1: SyntaxWarning: import * only allowed at module level\n",
        "<input>:1: SyntaxWarning: import * only allowed at module level\n",
        "<input>:1: SyntaxWarning: import * only allowed at module level\n",
        "<input>:1: SyntaxWarning: import * only allowed at module level\n",
        "<input>:1: SyntaxWarning: import * only allowed at module level\n",
        "<input>:1: SyntaxWarning: import * only allowed at module level\n",
        "<input>:1: SyntaxWarning: import * only allowed at module level\n",
        "<input>:1: SyntaxWarning: import * only allowed at module level\n",
        "<input>:1: SyntaxWarning: import * only allowed at module level\n",
        "<input>:1: SyntaxWarning: import * only allowed at module level\n",
        "<input>:1: SyntaxWarning: import * only allowed at module level\n",
        "<input>:1: SyntaxWarning: import * only allowed at module level\n",
        "<input>:1: SyntaxWarning: import * only allowed at module level\n",
        "<input>:1: SyntaxWarning: import * only allowed at module level\n",
        "<input>:1: SyntaxWarning: import * only allowed at module level\n",
        "<input>:1: SyntaxWarning: import * only allowed at module level\n",
        "<input>:1: SyntaxWarning: import * only allowed at module level\n",
        "<input>:1: SyntaxWarning: import * only allowed at module level\n",
        "<input>:1: SyntaxWarning: import * only allowed at module level\n",
        "<input>:1: SyntaxWarning: import * only allowed at module level\n",
        "<input>:1: SyntaxWarning: import * only allowed at module level\n",
        "<input>:1: SyntaxWarning: import * only allowed at module level\n",
        "<input>:1: SyntaxWarning: import * only allowed at module level\n",
        "<input>:1: SyntaxWarning: import * only allowed at module level\n",
        "<input>:1: SyntaxWarning: import * only allowed at module level\n",
        "<input>:1: SyntaxWarning: import * only allowed at module level\n",
        "<input>:1: SyntaxWarning: import * only allowed at module level\n",
        "<input>:1: SyntaxWarning: import * only allowed at module level\n",
        "<input>:1: SyntaxWarning: import * only allowed at module level\n",
        "<input>:1: SyntaxWarning: import * only allowed at module level\n",
        "<input>:1: SyntaxWarning: import * only allowed at module level\n",
        "<input>:1: SyntaxWarning: import * only allowed at module level\n",
        "<input>:1: SyntaxWarning: import * only allowed at module level\n",
        "<input>:1: SyntaxWarning: import * only allowed at module level\n",
        "<input>:1: SyntaxWarning: import * only allowed at module level\n",
        "<input>:1: SyntaxWarning: import * only allowed at module level\n",
        "<input>:1: SyntaxWarning: import * only allowed at module level\n",
        "<input>:1: SyntaxWarning: import * only allowed at module level\n",
        "<input>:1: SyntaxWarning: import * only allowed at module level\n",
        "<input>:1: SyntaxWarning: import * only allowed at module level\n",
        "<input>:1: SyntaxWarning: import * only allowed at module level\n",
        "<input>:1: SyntaxWarning: import * only allowed at module level\n",
        "<input>:1: SyntaxWarning: import * only allowed at module level\n",
        "<input>:1: SyntaxWarning: import * only allowed at module level\n",
        "<input>:1: SyntaxWarning: import * only allowed at module level\n",
        "<input>:1: SyntaxWarning: import * only allowed at module level\n",
        "<input>:1: SyntaxWarning: import * only allowed at module level\n",
        "<ipython-input-21-55e1da764420>:1: SyntaxWarning: import * only allowed at module level\n",
        "  def test_stemmed_wiki_wiktionary_bigrams(corpus_train_data,corpus_test_data,label_names,with_stopwords_removal,use_chi_features,use_raw_tokens):\n"
       ]
      }
     ],
     "prompt_number": 21
    },
    {
     "cell_type": "code",
     "collapsed": false,
     "input": [
      "def test_stemmed_wiki_google_bigrams(corpus_train_data,corpus_test_data,label_names,with_stopwords_removal,use_chi_features,use_raw_tokens):\n",
      "    import numpy as np\n",
      "    from stemming_tokenizer import StemmingTokenizer\n",
      "    from stemming_tokenizer import RawStemmingTokenizer\n",
      "    from ng20_globals import *\n",
      "    from ng20_vocabulary_loader import load_common_vocabulary\n",
      "    \n",
      "    max_ngram_size = 2\n",
      "        \n",
      "    if with_stopwords_removal==False:\n",
      "        stopwords_pattern = ''\n",
      "    else:\n",
      "        stopwords_pattern = '_stopwords'\n",
      "    if use_chi_features==False:\n",
      "        chi_features_pattern = ''\n",
      "    else:\n",
      "        chi_features_pattern = '_chi'\n",
      "    if use_raw_tokens==False:\n",
      "        raw_tokens_pattern = ''\n",
      "        tokenizer = StemmingTokenizer()\n",
      "    else:\n",
      "        raw_tokens_pattern = '_raw'\n",
      "        tokenizer = RawStemmingTokenizer()\n",
      "    \n",
      "    # load vocabulary\n",
      "    vocabulary_tbl_name1 = 'ng20{0}_stems{1}_unigrams{2}_df{3}_tf{4}'.format(raw_tokens_pattern,chi_features_pattern,stopwords_pattern,min_df,min_tf)\n",
      "    vocabulary_tbl_name2 = 'ng20{0}_stems{1}_bigrams{2}_df{3}_tf{4}'.format(raw_tokens_pattern,chi_features_pattern,stopwords_pattern,min_df,min_tf)\n",
      "    \n",
      "    vocabulary_tbl_intersect = 'wiki_google_bigrams_vw'\n",
      "    vocabulary = load_common_vocabulary(vocabulary_tbl_name1,vocabulary_tbl_name2,vocabulary_tbl_intersect,'stem')\n",
      "\n",
      "    # generate tfidf vectors\n",
      "    vectorizer, corpus_train_tfidf_vectors = vectorize_corpus(corpus_train_data['corpus'],tokenizer,vocabulary,max_ngram_size)\n",
      "    _, corpus_test_tfidf_vectors = vectorize_corpus(corpus_test_data['corpus'],tokenizer,vocabulary,max_ngram_size)\n",
      "    \n",
      "    # classify & evaluate    \n",
      "    results = classify(corpus_train_tfidf_vectors,corpus_train_data['labels'],\n",
      "                       corpus_test_tfidf_vectors,corpus_test_data['labels'],\n",
      "                       max_labels)\n",
      "    \n",
      "    print_top_feature_names(results['classifier'], np.asarray(vectorizer.get_feature_names()), label_names)\n",
      "    \n",
      "    print vocabulary_tbl_name1,'^',vocabulary_tbl_name2,'^',vocabulary_tbl_intersect,' --> ','precision ',results['precision'],'recall ',results['recall'],'f1 ',results['f1']"
     ],
     "language": "python",
     "metadata": {},
     "outputs": [
      {
       "output_type": "stream",
       "stream": "stderr",
       "text": [
        "<input>:1: SyntaxWarning: import * only allowed at module level\n",
        "<input>:1: SyntaxWarning: import * only allowed at module level\n",
        "<input>:1: SyntaxWarning: import * only allowed at module level\n",
        "<input>:1: SyntaxWarning: import * only allowed at module level\n",
        "<input>:1: SyntaxWarning: import * only allowed at module level\n",
        "<input>:1: SyntaxWarning: import * only allowed at module level\n",
        "<input>:1: SyntaxWarning: import * only allowed at module level\n",
        "<input>:1: SyntaxWarning: import * only allowed at module level\n",
        "<input>:1: SyntaxWarning: import * only allowed at module level\n",
        "<input>:1: SyntaxWarning: import * only allowed at module level\n",
        "<input>:1: SyntaxWarning: import * only allowed at module level\n",
        "<input>:1: SyntaxWarning: import * only allowed at module level\n",
        "<input>:1: SyntaxWarning: import * only allowed at module level\n",
        "<input>:1: SyntaxWarning: import * only allowed at module level\n",
        "<input>:1: SyntaxWarning: import * only allowed at module level\n",
        "<input>:1: SyntaxWarning: import * only allowed at module level\n",
        "<input>:1: SyntaxWarning: import * only allowed at module level\n",
        "<input>:1: SyntaxWarning: import * only allowed at module level\n",
        "<input>:1: SyntaxWarning: import * only allowed at module level\n",
        "<input>:1: SyntaxWarning: import * only allowed at module level\n",
        "<input>:1: SyntaxWarning: import * only allowed at module level\n",
        "<input>:1: SyntaxWarning: import * only allowed at module level\n",
        "<input>:1: SyntaxWarning: import * only allowed at module level\n",
        "<input>:1: SyntaxWarning: import * only allowed at module level\n",
        "<input>:1: SyntaxWarning: import * only allowed at module level\n",
        "<input>:1: SyntaxWarning: import * only allowed at module level\n",
        "<input>:1: SyntaxWarning: import * only allowed at module level\n",
        "<input>:1: SyntaxWarning: import * only allowed at module level\n",
        "<input>:1: SyntaxWarning: import * only allowed at module level\n",
        "<input>:1: SyntaxWarning: import * only allowed at module level\n",
        "<input>:1: SyntaxWarning: import * only allowed at module level\n",
        "<input>:1: SyntaxWarning: import * only allowed at module level\n",
        "<input>:1: SyntaxWarning: import * only allowed at module level\n",
        "<input>:1: SyntaxWarning: import * only allowed at module level\n",
        "<input>:1: SyntaxWarning: import * only allowed at module level\n",
        "<input>:1: SyntaxWarning: import * only allowed at module level\n",
        "<input>:1: SyntaxWarning: import * only allowed at module level\n",
        "<input>:1: SyntaxWarning: import * only allowed at module level\n",
        "<input>:1: SyntaxWarning: import * only allowed at module level\n",
        "<input>:1: SyntaxWarning: import * only allowed at module level\n",
        "<input>:1: SyntaxWarning: import * only allowed at module level\n",
        "<input>:1: SyntaxWarning: import * only allowed at module level\n",
        "<input>:1: SyntaxWarning: import * only allowed at module level\n",
        "<input>:1: SyntaxWarning: import * only allowed at module level\n",
        "<input>:1: SyntaxWarning: import * only allowed at module level\n",
        "<input>:1: SyntaxWarning: import * only allowed at module level\n",
        "<input>:1: SyntaxWarning: import * only allowed at module level\n",
        "<input>:1: SyntaxWarning: import * only allowed at module level\n",
        "<input>:1: SyntaxWarning: import * only allowed at module level\n",
        "<input>:1: SyntaxWarning: import * only allowed at module level\n",
        "<input>:1: SyntaxWarning: import * only allowed at module level\n",
        "<input>:1: SyntaxWarning: import * only allowed at module level\n",
        "<input>:1: SyntaxWarning: import * only allowed at module level\n",
        "<input>:1: SyntaxWarning: import * only allowed at module level\n",
        "<input>:1: SyntaxWarning: import * only allowed at module level\n",
        "<input>:1: SyntaxWarning: import * only allowed at module level\n",
        "<input>:1: SyntaxWarning: import * only allowed at module level\n",
        "<input>:1: SyntaxWarning: import * only allowed at module level\n",
        "<input>:1: SyntaxWarning: import * only allowed at module level\n",
        "<input>:1: SyntaxWarning: import * only allowed at module level\n",
        "<input>:1: SyntaxWarning: import * only allowed at module level\n",
        "<input>:1: SyntaxWarning: import * only allowed at module level\n",
        "<input>:1: SyntaxWarning: import * only allowed at module level\n",
        "<input>:1: SyntaxWarning: import * only allowed at module level\n",
        "<input>:1: SyntaxWarning: import * only allowed at module level\n",
        "<input>:1: SyntaxWarning: import * only allowed at module level\n",
        "<input>:1: SyntaxWarning: import * only allowed at module level\n",
        "<input>:1: SyntaxWarning: import * only allowed at module level\n",
        "<input>:1: SyntaxWarning: import * only allowed at module level\n",
        "<input>:1: SyntaxWarning: import * only allowed at module level\n",
        "<input>:1: SyntaxWarning: import * only allowed at module level\n",
        "<input>:1: SyntaxWarning: import * only allowed at module level\n",
        "<input>:1: SyntaxWarning: import * only allowed at module level\n",
        "<input>:1: SyntaxWarning: import * only allowed at module level\n",
        "<input>:1: SyntaxWarning: import * only allowed at module level\n",
        "<input>:1: SyntaxWarning: import * only allowed at module level\n",
        "<input>:1: SyntaxWarning: import * only allowed at module level\n",
        "<input>:1: SyntaxWarning: import * only allowed at module level\n",
        "<input>:1: SyntaxWarning: import * only allowed at module level\n",
        "<input>:1: SyntaxWarning: import * only allowed at module level\n",
        "<input>:1: SyntaxWarning: import * only allowed at module level\n",
        "<input>:1: SyntaxWarning: import * only allowed at module level\n",
        "<input>:1: SyntaxWarning: import * only allowed at module level\n",
        "<input>:1: SyntaxWarning: import * only allowed at module level\n",
        "<input>:1: SyntaxWarning: import * only allowed at module level\n",
        "<input>:1: SyntaxWarning: import * only allowed at module level\n",
        "<input>:1: SyntaxWarning: import * only allowed at module level\n",
        "<input>:1: SyntaxWarning: import * only allowed at module level\n",
        "<input>:1: SyntaxWarning: import * only allowed at module level\n",
        "<input>:1: SyntaxWarning: import * only allowed at module level\n",
        "<input>:1: SyntaxWarning: import * only allowed at module level\n",
        "<input>:1: SyntaxWarning: import * only allowed at module level\n",
        "<input>:1: SyntaxWarning: import * only allowed at module level\n",
        "<ipython-input-22-08816101186c>:1: SyntaxWarning: import * only allowed at module level\n",
        "  def test_stemmed_wiki_google_bigrams(corpus_train_data,corpus_test_data,label_names,with_stopwords_removal,use_chi_features,use_raw_tokens):\n"
       ]
      }
     ],
     "prompt_number": 22
    },
    {
     "cell_type": "code",
     "collapsed": false,
     "input": [
      "def test_stemmed_wiktionary_google_bigrams(corpus_train_data,corpus_test_data,label_names,with_stopwords_removal,use_chi_features,use_raw_tokens):\n",
      "    import numpy as np\n",
      "    from stemming_tokenizer import StemmingTokenizer\n",
      "    from stemming_tokenizer import RawStemmingTokenizer\n",
      "    from ng20_globals import *\n",
      "    from ng20_vocabulary_loader import load_common_vocabulary\n",
      "    \n",
      "    max_ngram_size = 2\n",
      "        \n",
      "    if with_stopwords_removal==False:\n",
      "        stopwords_pattern = ''\n",
      "    else:\n",
      "        stopwords_pattern = '_stopwords'\n",
      "    if use_chi_features==False:\n",
      "        chi_features_pattern = ''\n",
      "    else:\n",
      "        chi_features_pattern = '_chi'\n",
      "    if use_raw_tokens==False:\n",
      "        raw_tokens_pattern = ''\n",
      "        tokenizer = StemmingTokenizer()\n",
      "    else:\n",
      "        raw_tokens_pattern = '_raw'\n",
      "        tokenizer = RawStemmingTokenizer()\n",
      "    \n",
      "    # load vocabulary\n",
      "    vocabulary_tbl_name1 = 'ng20{0}_stems{1}_unigrams{2}_df{3}_tf{4}'.format(raw_tokens_pattern,chi_features_pattern,stopwords_pattern,min_df,min_tf)\n",
      "    vocabulary_tbl_name2 = 'ng20{0}_stems{1}_bigrams{2}_df{3}_tf{4}'.format(raw_tokens_pattern,chi_features_pattern,stopwords_pattern,min_df,min_tf)\n",
      "    \n",
      "    vocabulary_tbl_intersect = 'wiktionary_google_bigrams_vw'\n",
      "    vocabulary = load_common_vocabulary(vocabulary_tbl_name1,vocabulary_tbl_name2,vocabulary_tbl_intersect,'stem')\n",
      "\n",
      "    # generate tfidf vectors\n",
      "    vectorizer, corpus_train_tfidf_vectors = vectorize_corpus(corpus_train_data['corpus'],tokenizer,vocabulary,max_ngram_size)\n",
      "    _, corpus_test_tfidf_vectors = vectorize_corpus(corpus_test_data['corpus'],tokenizer,vocabulary,max_ngram_size)\n",
      "    \n",
      "    # classify & evaluate    \n",
      "    results = classify(corpus_train_tfidf_vectors,corpus_train_data['labels'],\n",
      "                       corpus_test_tfidf_vectors,corpus_test_data['labels'],\n",
      "                       max_labels)\n",
      "    \n",
      "    print_top_feature_names(results['classifier'], np.asarray(vectorizer.get_feature_names()), label_names)\n",
      "    \n",
      "    print vocabulary_tbl_name1,'^',vocabulary_tbl_name2,'^',vocabulary_tbl_intersect,' --> ','precision ',results['precision'],'recall ',results['recall'],'f1 ',results['f1']"
     ],
     "language": "python",
     "metadata": {},
     "outputs": [
      {
       "output_type": "stream",
       "stream": "stderr",
       "text": [
        "<input>:1: SyntaxWarning: import * only allowed at module level\n",
        "<input>:1: SyntaxWarning: import * only allowed at module level\n",
        "<input>:1: SyntaxWarning: import * only allowed at module level\n",
        "<input>:1: SyntaxWarning: import * only allowed at module level\n",
        "<input>:1: SyntaxWarning: import * only allowed at module level\n",
        "<input>:1: SyntaxWarning: import * only allowed at module level\n",
        "<input>:1: SyntaxWarning: import * only allowed at module level\n",
        "<input>:1: SyntaxWarning: import * only allowed at module level\n",
        "<input>:1: SyntaxWarning: import * only allowed at module level\n",
        "<input>:1: SyntaxWarning: import * only allowed at module level\n",
        "<input>:1: SyntaxWarning: import * only allowed at module level\n",
        "<input>:1: SyntaxWarning: import * only allowed at module level\n",
        "<input>:1: SyntaxWarning: import * only allowed at module level\n",
        "<input>:1: SyntaxWarning: import * only allowed at module level\n",
        "<input>:1: SyntaxWarning: import * only allowed at module level\n",
        "<input>:1: SyntaxWarning: import * only allowed at module level\n",
        "<input>:1: SyntaxWarning: import * only allowed at module level\n",
        "<input>:1: SyntaxWarning: import * only allowed at module level\n",
        "<input>:1: SyntaxWarning: import * only allowed at module level\n",
        "<input>:1: SyntaxWarning: import * only allowed at module level\n",
        "<input>:1: SyntaxWarning: import * only allowed at module level\n",
        "<input>:1: SyntaxWarning: import * only allowed at module level\n",
        "<input>:1: SyntaxWarning: import * only allowed at module level\n",
        "<input>:1: SyntaxWarning: import * only allowed at module level\n",
        "<input>:1: SyntaxWarning: import * only allowed at module level\n",
        "<input>:1: SyntaxWarning: import * only allowed at module level\n",
        "<input>:1: SyntaxWarning: import * only allowed at module level\n",
        "<input>:1: SyntaxWarning: import * only allowed at module level\n",
        "<input>:1: SyntaxWarning: import * only allowed at module level\n",
        "<input>:1: SyntaxWarning: import * only allowed at module level\n",
        "<input>:1: SyntaxWarning: import * only allowed at module level\n",
        "<input>:1: SyntaxWarning: import * only allowed at module level\n",
        "<input>:1: SyntaxWarning: import * only allowed at module level\n",
        "<input>:1: SyntaxWarning: import * only allowed at module level\n",
        "<input>:1: SyntaxWarning: import * only allowed at module level\n",
        "<input>:1: SyntaxWarning: import * only allowed at module level\n",
        "<input>:1: SyntaxWarning: import * only allowed at module level\n",
        "<input>:1: SyntaxWarning: import * only allowed at module level\n",
        "<input>:1: SyntaxWarning: import * only allowed at module level\n",
        "<input>:1: SyntaxWarning: import * only allowed at module level\n",
        "<input>:1: SyntaxWarning: import * only allowed at module level\n",
        "<input>:1: SyntaxWarning: import * only allowed at module level\n",
        "<input>:1: SyntaxWarning: import * only allowed at module level\n",
        "<input>:1: SyntaxWarning: import * only allowed at module level\n",
        "<input>:1: SyntaxWarning: import * only allowed at module level\n",
        "<input>:1: SyntaxWarning: import * only allowed at module level\n",
        "<input>:1: SyntaxWarning: import * only allowed at module level\n",
        "<input>:1: SyntaxWarning: import * only allowed at module level\n",
        "<input>:1: SyntaxWarning: import * only allowed at module level\n",
        "<input>:1: SyntaxWarning: import * only allowed at module level\n",
        "<input>:1: SyntaxWarning: import * only allowed at module level\n",
        "<input>:1: SyntaxWarning: import * only allowed at module level\n",
        "<input>:1: SyntaxWarning: import * only allowed at module level\n",
        "<input>:1: SyntaxWarning: import * only allowed at module level\n",
        "<input>:1: SyntaxWarning: import * only allowed at module level\n",
        "<input>:1: SyntaxWarning: import * only allowed at module level\n",
        "<input>:1: SyntaxWarning: import * only allowed at module level\n",
        "<input>:1: SyntaxWarning: import * only allowed at module level\n",
        "<input>:1: SyntaxWarning: import * only allowed at module level\n",
        "<input>:1: SyntaxWarning: import * only allowed at module level\n",
        "<input>:1: SyntaxWarning: import * only allowed at module level\n",
        "<input>:1: SyntaxWarning: import * only allowed at module level\n",
        "<input>:1: SyntaxWarning: import * only allowed at module level\n",
        "<input>:1: SyntaxWarning: import * only allowed at module level\n",
        "<input>:1: SyntaxWarning: import * only allowed at module level\n",
        "<input>:1: SyntaxWarning: import * only allowed at module level\n",
        "<input>:1: SyntaxWarning: import * only allowed at module level\n",
        "<input>:1: SyntaxWarning: import * only allowed at module level\n",
        "<input>:1: SyntaxWarning: import * only allowed at module level\n",
        "<input>:1: SyntaxWarning: import * only allowed at module level\n",
        "<input>:1: SyntaxWarning: import * only allowed at module level\n",
        "<input>:1: SyntaxWarning: import * only allowed at module level\n",
        "<input>:1: SyntaxWarning: import * only allowed at module level\n",
        "<input>:1: SyntaxWarning: import * only allowed at module level\n",
        "<input>:1: SyntaxWarning: import * only allowed at module level\n",
        "<input>:1: SyntaxWarning: import * only allowed at module level\n",
        "<input>:1: SyntaxWarning: import * only allowed at module level\n",
        "<input>:1: SyntaxWarning: import * only allowed at module level\n",
        "<input>:1: SyntaxWarning: import * only allowed at module level\n",
        "<input>:1: SyntaxWarning: import * only allowed at module level\n",
        "<input>:1: SyntaxWarning: import * only allowed at module level\n",
        "<input>:1: SyntaxWarning: import * only allowed at module level\n",
        "<input>:1: SyntaxWarning: import * only allowed at module level\n",
        "<input>:1: SyntaxWarning: import * only allowed at module level\n",
        "<input>:1: SyntaxWarning: import * only allowed at module level\n",
        "<input>:1: SyntaxWarning: import * only allowed at module level\n",
        "<input>:1: SyntaxWarning: import * only allowed at module level\n",
        "<input>:1: SyntaxWarning: import * only allowed at module level\n",
        "<input>:1: SyntaxWarning: import * only allowed at module level\n",
        "<input>:1: SyntaxWarning: import * only allowed at module level\n",
        "<input>:1: SyntaxWarning: import * only allowed at module level\n",
        "<input>:1: SyntaxWarning: import * only allowed at module level\n",
        "<input>:1: SyntaxWarning: import * only allowed at module level\n",
        "<ipython-input-23-538a329e78f3>:1: SyntaxWarning: import * only allowed at module level\n",
        "  def test_stemmed_wiktionary_google_bigrams(corpus_train_data,corpus_test_data,label_names,with_stopwords_removal,use_chi_features,use_raw_tokens):\n"
       ]
      }
     ],
     "prompt_number": 23
    },
    {
     "cell_type": "code",
     "collapsed": false,
     "input": [
      "def test_lemmatized_all_bigrams(corpus_train_data,corpus_test_data,label_names,with_stopwords_removal,use_chi_features,use_raw_tokens):\n",
      "    import numpy as np\n",
      "    from lemmatizing_tokenizer import LemmaTokenizer\n",
      "    from lemmatizing_tokenizer import RawLemmaTokenizer\n",
      "    from ng20_globals import *\n",
      "    from ng20_vocabulary_loader import load_common_vocabulary\n",
      "    \n",
      "    max_ngram_size = 2\n",
      "        \n",
      "    if with_stopwords_removal==False:\n",
      "        stopwords_pattern = ''\n",
      "    else:\n",
      "        stopwords_pattern = '_stopwords'\n",
      "    if use_chi_features==False:\n",
      "        chi_features_pattern = ''\n",
      "    else:\n",
      "        chi_features_pattern = '_chi'\n",
      "    if use_raw_tokens==False:\n",
      "        raw_tokens_pattern = ''\n",
      "        tokenizer = LemmaTokenizer()\n",
      "    else:\n",
      "        raw_tokens_pattern = '_raw'\n",
      "        tokenizer = RawLemmaTokenizer()\n",
      "    \n",
      "    # load vocabulary\n",
      "    vocabulary_tbl_name1 = 'ng20{0}_lemmas{1}_unigrams{2}_df{3}_tf{4}'.format(raw_tokens_pattern,chi_features_pattern,stopwords_pattern,min_df,min_tf)\n",
      "    vocabulary_tbl_name2 = 'ng20{0}_lemmas{1}_bigrams{2}_df{3}_tf{4}'.format(raw_tokens_pattern,chi_features_pattern,stopwords_pattern,min_df,min_tf)\n",
      "    \n",
      "    vocabulary_tbl_intersect = 'wiki_wiktionary_google_bigrams_vw'\n",
      "    vocabulary = load_common_vocabulary(vocabulary_tbl_name1,vocabulary_tbl_name2,vocabulary_tbl_intersect,'lemma')\n",
      "\n",
      "    # generate tfidf vectors\n",
      "    vectorizer, corpus_train_tfidf_vectors = vectorize_corpus(corpus_train_data['corpus'],tokenizer,vocabulary,max_ngram_size)\n",
      "    _, corpus_test_tfidf_vectors = vectorize_corpus(corpus_test_data['corpus'],tokenizer,vocabulary,max_ngram_size)\n",
      "    \n",
      "    # classify & evaluate    \n",
      "    results = classify(corpus_train_tfidf_vectors,corpus_train_data['labels'],\n",
      "                       corpus_test_tfidf_vectors,corpus_test_data['labels'],\n",
      "                       max_labels)\n",
      "    \n",
      "    print_top_feature_names(results['classifier'], np.asarray(vectorizer.get_feature_names()), label_names)\n",
      "    \n",
      "    print vocabulary_tbl_name1,'^',vocabulary_tbl_name2,'^',vocabulary_tbl_intersect,' --> ','precision ',results['precision'],'recall ',results['recall'],'f1 ',results['f1']"
     ],
     "language": "python",
     "metadata": {},
     "outputs": [
      {
       "output_type": "stream",
       "stream": "stderr",
       "text": [
        "<input>:1: SyntaxWarning: import * only allowed at module level\n",
        "<input>:1: SyntaxWarning: import * only allowed at module level\n",
        "<input>:1: SyntaxWarning: import * only allowed at module level\n",
        "<input>:1: SyntaxWarning: import * only allowed at module level\n",
        "<input>:1: SyntaxWarning: import * only allowed at module level\n",
        "<input>:1: SyntaxWarning: import * only allowed at module level\n",
        "<input>:1: SyntaxWarning: import * only allowed at module level\n",
        "<input>:1: SyntaxWarning: import * only allowed at module level\n",
        "<input>:1: SyntaxWarning: import * only allowed at module level\n",
        "<input>:1: SyntaxWarning: import * only allowed at module level\n",
        "<input>:1: SyntaxWarning: import * only allowed at module level\n",
        "<input>:1: SyntaxWarning: import * only allowed at module level\n",
        "<input>:1: SyntaxWarning: import * only allowed at module level\n",
        "<input>:1: SyntaxWarning: import * only allowed at module level\n",
        "<input>:1: SyntaxWarning: import * only allowed at module level\n",
        "<input>:1: SyntaxWarning: import * only allowed at module level\n",
        "<input>:1: SyntaxWarning: import * only allowed at module level\n",
        "<input>:1: SyntaxWarning: import * only allowed at module level\n",
        "<input>:1: SyntaxWarning: import * only allowed at module level\n",
        "<input>:1: SyntaxWarning: import * only allowed at module level\n",
        "<input>:1: SyntaxWarning: import * only allowed at module level\n",
        "<input>:1: SyntaxWarning: import * only allowed at module level\n",
        "<input>:1: SyntaxWarning: import * only allowed at module level\n",
        "<input>:1: SyntaxWarning: import * only allowed at module level\n",
        "<input>:1: SyntaxWarning: import * only allowed at module level\n",
        "<input>:1: SyntaxWarning: import * only allowed at module level\n",
        "<input>:1: SyntaxWarning: import * only allowed at module level\n",
        "<input>:1: SyntaxWarning: import * only allowed at module level\n",
        "<input>:1: SyntaxWarning: import * only allowed at module level\n",
        "<input>:1: SyntaxWarning: import * only allowed at module level\n",
        "<input>:1: SyntaxWarning: import * only allowed at module level\n",
        "<input>:1: SyntaxWarning: import * only allowed at module level\n",
        "<input>:1: SyntaxWarning: import * only allowed at module level\n",
        "<input>:1: SyntaxWarning: import * only allowed at module level\n",
        "<input>:1: SyntaxWarning: import * only allowed at module level\n",
        "<input>:1: SyntaxWarning: import * only allowed at module level\n",
        "<input>:1: SyntaxWarning: import * only allowed at module level\n",
        "<input>:1: SyntaxWarning: import * only allowed at module level\n",
        "<input>:1: SyntaxWarning: import * only allowed at module level\n",
        "<input>:1: SyntaxWarning: import * only allowed at module level\n",
        "<input>:1: SyntaxWarning: import * only allowed at module level\n",
        "<input>:1: SyntaxWarning: import * only allowed at module level\n",
        "<input>:1: SyntaxWarning: import * only allowed at module level\n",
        "<input>:1: SyntaxWarning: import * only allowed at module level\n",
        "<input>:1: SyntaxWarning: import * only allowed at module level\n",
        "<input>:1: SyntaxWarning: import * only allowed at module level\n",
        "<input>:1: SyntaxWarning: import * only allowed at module level\n",
        "<input>:1: SyntaxWarning: import * only allowed at module level\n",
        "<input>:1: SyntaxWarning: import * only allowed at module level\n",
        "<input>:1: SyntaxWarning: import * only allowed at module level\n",
        "<input>:1: SyntaxWarning: import * only allowed at module level\n",
        "<input>:1: SyntaxWarning: import * only allowed at module level\n",
        "<input>:1: SyntaxWarning: import * only allowed at module level\n",
        "<input>:1: SyntaxWarning: import * only allowed at module level\n",
        "<input>:1: SyntaxWarning: import * only allowed at module level\n",
        "<input>:1: SyntaxWarning: import * only allowed at module level\n",
        "<input>:1: SyntaxWarning: import * only allowed at module level\n",
        "<input>:1: SyntaxWarning: import * only allowed at module level\n",
        "<input>:1: SyntaxWarning: import * only allowed at module level\n",
        "<input>:1: SyntaxWarning: import * only allowed at module level\n",
        "<input>:1: SyntaxWarning: import * only allowed at module level\n",
        "<input>:1: SyntaxWarning: import * only allowed at module level\n",
        "<input>:1: SyntaxWarning: import * only allowed at module level\n",
        "<input>:1: SyntaxWarning: import * only allowed at module level\n",
        "<input>:1: SyntaxWarning: import * only allowed at module level\n",
        "<input>:1: SyntaxWarning: import * only allowed at module level\n",
        "<input>:1: SyntaxWarning: import * only allowed at module level\n",
        "<input>:1: SyntaxWarning: import * only allowed at module level\n",
        "<input>:1: SyntaxWarning: import * only allowed at module level\n",
        "<input>:1: SyntaxWarning: import * only allowed at module level\n",
        "<input>:1: SyntaxWarning: import * only allowed at module level\n",
        "<input>:1: SyntaxWarning: import * only allowed at module level\n",
        "<input>:1: SyntaxWarning: import * only allowed at module level\n",
        "<input>:1: SyntaxWarning: import * only allowed at module level\n",
        "<input>:1: SyntaxWarning: import * only allowed at module level\n",
        "<input>:1: SyntaxWarning: import * only allowed at module level\n",
        "<input>:1: SyntaxWarning: import * only allowed at module level\n",
        "<input>:1: SyntaxWarning: import * only allowed at module level\n",
        "<input>:1: SyntaxWarning: import * only allowed at module level\n",
        "<input>:1: SyntaxWarning: import * only allowed at module level\n",
        "<input>:1: SyntaxWarning: import * only allowed at module level\n",
        "<input>:1: SyntaxWarning: import * only allowed at module level\n",
        "<input>:1: SyntaxWarning: import * only allowed at module level\n",
        "<input>:1: SyntaxWarning: import * only allowed at module level\n",
        "<input>:1: SyntaxWarning: import * only allowed at module level\n",
        "<input>:1: SyntaxWarning: import * only allowed at module level\n",
        "<input>:1: SyntaxWarning: import * only allowed at module level\n",
        "<input>:1: SyntaxWarning: import * only allowed at module level\n",
        "<input>:1: SyntaxWarning: import * only allowed at module level\n",
        "<input>:1: SyntaxWarning: import * only allowed at module level\n",
        "<input>:1: SyntaxWarning: import * only allowed at module level\n",
        "<input>:1: SyntaxWarning: import * only allowed at module level\n",
        "<input>:1: SyntaxWarning: import * only allowed at module level\n",
        "<ipython-input-24-2a7732587269>:1: SyntaxWarning: import * only allowed at module level\n",
        "  def test_lemmatized_all_bigrams(corpus_train_data,corpus_test_data,label_names,with_stopwords_removal,use_chi_features,use_raw_tokens):\n"
       ]
      }
     ],
     "prompt_number": 24
    },
    {
     "cell_type": "code",
     "collapsed": false,
     "input": [
      "def test_stemmed_wiki_bigrams(corpus_train_data,corpus_test_data,label_names,with_stopwords_removal,use_chi_features,use_raw_tokens):\n",
      "    import numpy as np\n",
      "    from stemming_tokenizer import StemmingTokenizer\n",
      "    from stemming_tokenizer import RawStemmingTokenizer\n",
      "    from ng20_globals import *\n",
      "    from ng20_vocabulary_loader import load_common_vocabulary\n",
      "    \n",
      "    max_ngram_size = 2\n",
      "        \n",
      "    if with_stopwords_removal==False:\n",
      "        stopwords_pattern = ''\n",
      "    else:\n",
      "        stopwords_pattern = '_stopwords'\n",
      "    if use_chi_features==False:\n",
      "        chi_features_pattern = ''\n",
      "    else:\n",
      "        chi_features_pattern = '_chi'\n",
      "    if use_raw_tokens==False:\n",
      "        raw_tokens_pattern = ''\n",
      "        tokenizer = StemmingTokenizer()    \n",
      "    else:\n",
      "        raw_tokens_pattern = '_raw'\n",
      "        tokenizer = RawStemmingTokenizer()    \n",
      "    \n",
      "    # load vocabulary\n",
      "    vocabulary_tbl_name1 = 'ng20{0}_stems{1}_unigrams{2}_df{3}_tf{4}'.format(raw_tokens_pattern,chi_features_pattern,stopwords_pattern,min_df,min_tf)\n",
      "    vocabulary_tbl_name2 = 'ng20{0}_stems{1}_bigrams{2}_df{3}_tf{4}'.format(raw_tokens_pattern,chi_features_pattern,stopwords_pattern,min_df,min_tf)\n",
      "    \n",
      "    vocabulary_tbl_intersect = 'wiki_bigrams'\n",
      "    vocabulary = load_common_vocabulary(vocabulary_tbl_name1,vocabulary_tbl_name2,vocabulary_tbl_intersect,'stem')    \n",
      "\n",
      "    # generate tfidf vectors\n",
      "    vectorizer, corpus_train_tfidf_vectors = vectorize_corpus(corpus_train_data['corpus'],tokenizer,vocabulary,max_ngram_size)\n",
      "    _, corpus_test_tfidf_vectors = vectorize_corpus(corpus_test_data['corpus'],tokenizer,vocabulary,max_ngram_size)\n",
      "    \n",
      "    # classify & evaluate    \n",
      "    results = classify(corpus_train_tfidf_vectors,corpus_train_data['labels'],\n",
      "                       corpus_test_tfidf_vectors,corpus_test_data['labels'],\n",
      "                       max_labels)\n",
      "    \n",
      "    print_top_feature_names(results['classifier'], np.asarray(vectorizer.get_feature_names()), label_names)\n",
      "    \n",
      "    print vocabulary_tbl_name1,'^',vocabulary_tbl_name2,'^',vocabulary_tbl_intersect,' --> ','precision ',results['precision'],'recall ',results['recall'],'f1 ',results['f1']"
     ],
     "language": "python",
     "metadata": {},
     "outputs": [
      {
       "output_type": "stream",
       "stream": "stderr",
       "text": [
        "<input>:1: SyntaxWarning: import * only allowed at module level\n",
        "<input>:1: SyntaxWarning: import * only allowed at module level\n",
        "<input>:1: SyntaxWarning: import * only allowed at module level\n",
        "<input>:1: SyntaxWarning: import * only allowed at module level\n",
        "<input>:1: SyntaxWarning: import * only allowed at module level\n",
        "<input>:1: SyntaxWarning: import * only allowed at module level\n",
        "<input>:1: SyntaxWarning: import * only allowed at module level\n",
        "<input>:1: SyntaxWarning: import * only allowed at module level\n",
        "<input>:1: SyntaxWarning: import * only allowed at module level\n",
        "<input>:1: SyntaxWarning: import * only allowed at module level\n",
        "<input>:1: SyntaxWarning: import * only allowed at module level\n",
        "<input>:1: SyntaxWarning: import * only allowed at module level\n",
        "<input>:1: SyntaxWarning: import * only allowed at module level\n",
        "<input>:1: SyntaxWarning: import * only allowed at module level\n",
        "<input>:1: SyntaxWarning: import * only allowed at module level\n",
        "<input>:1: SyntaxWarning: import * only allowed at module level\n",
        "<input>:1: SyntaxWarning: import * only allowed at module level\n",
        "<input>:1: SyntaxWarning: import * only allowed at module level\n",
        "<input>:1: SyntaxWarning: import * only allowed at module level\n",
        "<input>:1: SyntaxWarning: import * only allowed at module level\n",
        "<input>:1: SyntaxWarning: import * only allowed at module level\n",
        "<input>:1: SyntaxWarning: import * only allowed at module level\n",
        "<input>:1: SyntaxWarning: import * only allowed at module level\n",
        "<input>:1: SyntaxWarning: import * only allowed at module level\n",
        "<input>:1: SyntaxWarning: import * only allowed at module level\n",
        "<input>:1: SyntaxWarning: import * only allowed at module level\n",
        "<input>:1: SyntaxWarning: import * only allowed at module level\n",
        "<input>:1: SyntaxWarning: import * only allowed at module level\n",
        "<input>:1: SyntaxWarning: import * only allowed at module level\n",
        "<input>:1: SyntaxWarning: import * only allowed at module level\n",
        "<input>:1: SyntaxWarning: import * only allowed at module level\n",
        "<input>:1: SyntaxWarning: import * only allowed at module level\n",
        "<input>:1: SyntaxWarning: import * only allowed at module level\n",
        "<input>:1: SyntaxWarning: import * only allowed at module level\n",
        "<input>:1: SyntaxWarning: import * only allowed at module level\n",
        "<input>:1: SyntaxWarning: import * only allowed at module level\n",
        "<input>:1: SyntaxWarning: import * only allowed at module level\n",
        "<input>:1: SyntaxWarning: import * only allowed at module level\n",
        "<input>:1: SyntaxWarning: import * only allowed at module level\n",
        "<input>:1: SyntaxWarning: import * only allowed at module level\n",
        "<input>:1: SyntaxWarning: import * only allowed at module level\n",
        "<input>:1: SyntaxWarning: import * only allowed at module level\n",
        "<input>:1: SyntaxWarning: import * only allowed at module level\n",
        "<input>:1: SyntaxWarning: import * only allowed at module level\n",
        "<input>:1: SyntaxWarning: import * only allowed at module level\n",
        "<input>:1: SyntaxWarning: import * only allowed at module level\n",
        "<input>:1: SyntaxWarning: import * only allowed at module level\n",
        "<input>:1: SyntaxWarning: import * only allowed at module level\n",
        "<input>:1: SyntaxWarning: import * only allowed at module level\n",
        "<input>:1: SyntaxWarning: import * only allowed at module level\n",
        "<input>:1: SyntaxWarning: import * only allowed at module level\n",
        "<input>:1: SyntaxWarning: import * only allowed at module level\n",
        "<input>:1: SyntaxWarning: import * only allowed at module level\n",
        "<input>:1: SyntaxWarning: import * only allowed at module level\n",
        "<input>:1: SyntaxWarning: import * only allowed at module level\n",
        "<input>:1: SyntaxWarning: import * only allowed at module level\n",
        "<input>:1: SyntaxWarning: import * only allowed at module level\n",
        "<input>:1: SyntaxWarning: import * only allowed at module level\n",
        "<input>:1: SyntaxWarning: import * only allowed at module level\n",
        "<input>:1: SyntaxWarning: import * only allowed at module level\n",
        "<input>:1: SyntaxWarning: import * only allowed at module level\n",
        "<input>:1: SyntaxWarning: import * only allowed at module level\n",
        "<input>:1: SyntaxWarning: import * only allowed at module level\n",
        "<input>:1: SyntaxWarning: import * only allowed at module level\n",
        "<input>:1: SyntaxWarning: import * only allowed at module level\n",
        "<input>:1: SyntaxWarning: import * only allowed at module level\n",
        "<input>:1: SyntaxWarning: import * only allowed at module level\n",
        "<input>:1: SyntaxWarning: import * only allowed at module level\n",
        "<input>:1: SyntaxWarning: import * only allowed at module level\n",
        "<input>:1: SyntaxWarning: import * only allowed at module level\n",
        "<input>:1: SyntaxWarning: import * only allowed at module level\n",
        "<input>:1: SyntaxWarning: import * only allowed at module level\n",
        "<input>:1: SyntaxWarning: import * only allowed at module level\n",
        "<input>:1: SyntaxWarning: import * only allowed at module level\n",
        "<input>:1: SyntaxWarning: import * only allowed at module level\n",
        "<input>:1: SyntaxWarning: import * only allowed at module level\n",
        "<input>:1: SyntaxWarning: import * only allowed at module level\n",
        "<input>:1: SyntaxWarning: import * only allowed at module level\n",
        "<input>:1: SyntaxWarning: import * only allowed at module level\n",
        "<input>:1: SyntaxWarning: import * only allowed at module level\n",
        "<input>:1: SyntaxWarning: import * only allowed at module level\n",
        "<input>:1: SyntaxWarning: import * only allowed at module level\n",
        "<input>:1: SyntaxWarning: import * only allowed at module level\n",
        "<input>:1: SyntaxWarning: import * only allowed at module level\n",
        "<input>:1: SyntaxWarning: import * only allowed at module level\n",
        "<input>:1: SyntaxWarning: import * only allowed at module level\n",
        "<input>:1: SyntaxWarning: import * only allowed at module level\n",
        "<input>:1: SyntaxWarning: import * only allowed at module level\n",
        "<input>:1: SyntaxWarning: import * only allowed at module level\n",
        "<input>:1: SyntaxWarning: import * only allowed at module level\n",
        "<input>:1: SyntaxWarning: import * only allowed at module level\n",
        "<input>:1: SyntaxWarning: import * only allowed at module level\n",
        "<input>:1: SyntaxWarning: import * only allowed at module level\n",
        "<ipython-input-25-63852a886223>:1: SyntaxWarning: import * only allowed at module level\n",
        "  def test_stemmed_wiki_bigrams(corpus_train_data,corpus_test_data,label_names,with_stopwords_removal,use_chi_features,use_raw_tokens):\n"
       ]
      }
     ],
     "prompt_number": 25
    },
    {
     "cell_type": "code",
     "collapsed": false,
     "input": [
      "def test_stemmed_bigrams_unigrams(bigrams_src,corpus_train_data,corpus_test_data,label_names,with_stopwords_removal,use_chi_features,use_raw_tokens):\n",
      "    import numpy as np\n",
      "    from stemming_tokenizer import StemmingTokenizer\n",
      "    from stemming_tokenizer import RawStemmingTokenizer\n",
      "    from ng20_globals import *\n",
      "    from ng20_vocabulary_loader import load_common_vocabulary_extend_unigrams\n",
      "    \n",
      "    max_ngram_size = 2\n",
      "        \n",
      "    if with_stopwords_removal==False:\n",
      "        stopwords_pattern = ''\n",
      "    else:\n",
      "        stopwords_pattern = '_stopwords'\n",
      "    if use_chi_features==False:\n",
      "        chi_features_pattern = ''\n",
      "    else:\n",
      "        chi_features_pattern = '_chi'\n",
      "    if use_raw_tokens==False:\n",
      "        raw_tokens_pattern = ''\n",
      "        tokenizer = StemmingTokenizer()\n",
      "    else:\n",
      "        raw_tokens_pattern = '_raw'\n",
      "        tokenizer = RawStemmingTokenizer()\n",
      "    \n",
      "    # load vocabulary\n",
      "    vocabulary_tbl_name = 'ng20{0}_stems{1}_bigrams{2}_df{3}_tf{4}'.format(raw_tokens_pattern,chi_features_pattern,stopwords_pattern,min_df,min_tf)\n",
      "    \n",
      "    if len(bigrams_src)==1:\n",
      "        vocabulary_tbl_intersect = '{0}_bigrams'.format(bigrams_src[0])\n",
      "    else:\n",
      "        vocabulary_tbl_intersect = '{0}_'.format(bigrams_src[0])\n",
      "        for i in range(len(bigrams_src)-1):\n",
      "            vocabulary_tbl_intersect = '{0}{1}_'.format(vocabulary_tbl_intersect,bigrams_src[i+1])\n",
      "        vocabulary_tbl_intersect = '{0}bigrams_vw'.format(vocabulary_tbl_intersect)\n",
      "        \n",
      "    vocabulary = load_common_vocabulary_extend_unigrams(vocabulary_tbl_name,vocabulary_tbl_intersect,'stem')\n",
      "    print 'done loading vocabulary'\n",
      "    \n",
      "    # generate tfidf vectors\n",
      "    vectorizer, corpus_train_tfidf_vectors = vectorize_corpus(corpus_train_data['corpus'],tokenizer,vocabulary,max_ngram_size)\n",
      "    _, corpus_test_tfidf_vectors = vectorize_corpus(corpus_test_data['corpus'],tokenizer,vocabulary,max_ngram_size)\n",
      "    \n",
      "    # classify & evaluate    \n",
      "    results = classify(corpus_train_tfidf_vectors,corpus_train_data['labels'],\n",
      "                       corpus_test_tfidf_vectors,corpus_test_data['labels'],\n",
      "                       max_labels)\n",
      "    \n",
      "    print_top_feature_names(results['classifier'], np.asarray(vectorizer.get_feature_names()), label_names)\n",
      "    \n",
      "    print vocabulary_tbl_name,'^',vocabulary_tbl_intersect,'(extended unigrams) --> ','precision ',results['precision'],'recall ',results['recall'],'f1 ',results['f1']"
     ],
     "language": "python",
     "metadata": {},
     "outputs": [
      {
       "output_type": "stream",
       "stream": "stderr",
       "text": [
        "<input>:1: SyntaxWarning: import * only allowed at module level\n",
        "<input>:1: SyntaxWarning: import * only allowed at module level\n",
        "<input>:1: SyntaxWarning: import * only allowed at module level\n",
        "<input>:1: SyntaxWarning: import * only allowed at module level\n",
        "<input>:1: SyntaxWarning: import * only allowed at module level\n",
        "<input>:1: SyntaxWarning: import * only allowed at module level\n",
        "<input>:1: SyntaxWarning: import * only allowed at module level\n",
        "<input>:1: SyntaxWarning: import * only allowed at module level\n",
        "<input>:1: SyntaxWarning: import * only allowed at module level\n",
        "<input>:1: SyntaxWarning: import * only allowed at module level\n",
        "<input>:1: SyntaxWarning: import * only allowed at module level\n",
        "<input>:1: SyntaxWarning: import * only allowed at module level\n",
        "<input>:1: SyntaxWarning: import * only allowed at module level\n",
        "<input>:1: SyntaxWarning: import * only allowed at module level\n",
        "<input>:1: SyntaxWarning: import * only allowed at module level\n",
        "<input>:1: SyntaxWarning: import * only allowed at module level\n",
        "<input>:1: SyntaxWarning: import * only allowed at module level\n",
        "<input>:1: SyntaxWarning: import * only allowed at module level\n",
        "<input>:1: SyntaxWarning: import * only allowed at module level\n",
        "<input>:1: SyntaxWarning: import * only allowed at module level\n",
        "<input>:1: SyntaxWarning: import * only allowed at module level\n",
        "<input>:1: SyntaxWarning: import * only allowed at module level\n",
        "<input>:1: SyntaxWarning: import * only allowed at module level\n",
        "<input>:1: SyntaxWarning: import * only allowed at module level\n",
        "<input>:1: SyntaxWarning: import * only allowed at module level\n",
        "<input>:1: SyntaxWarning: import * only allowed at module level\n",
        "<input>:1: SyntaxWarning: import * only allowed at module level\n",
        "<input>:1: SyntaxWarning: import * only allowed at module level\n",
        "<input>:1: SyntaxWarning: import * only allowed at module level\n",
        "<input>:1: SyntaxWarning: import * only allowed at module level\n",
        "<input>:1: SyntaxWarning: import * only allowed at module level\n",
        "<input>:1: SyntaxWarning: import * only allowed at module level\n",
        "<input>:1: SyntaxWarning: import * only allowed at module level\n",
        "<input>:1: SyntaxWarning: import * only allowed at module level\n",
        "<input>:1: SyntaxWarning: import * only allowed at module level\n",
        "<input>:1: SyntaxWarning: import * only allowed at module level\n",
        "<input>:1: SyntaxWarning: import * only allowed at module level\n",
        "<input>:1: SyntaxWarning: import * only allowed at module level\n",
        "<input>:1: SyntaxWarning: import * only allowed at module level\n",
        "<input>:1: SyntaxWarning: import * only allowed at module level\n",
        "<input>:1: SyntaxWarning: import * only allowed at module level\n",
        "<input>:1: SyntaxWarning: import * only allowed at module level\n",
        "<input>:1: SyntaxWarning: import * only allowed at module level\n",
        "<input>:1: SyntaxWarning: import * only allowed at module level\n",
        "<input>:1: SyntaxWarning: import * only allowed at module level\n",
        "<input>:1: SyntaxWarning: import * only allowed at module level\n",
        "<input>:1: SyntaxWarning: import * only allowed at module level\n",
        "<input>:1: SyntaxWarning: import * only allowed at module level\n",
        "<input>:1: SyntaxWarning: import * only allowed at module level\n",
        "<input>:1: SyntaxWarning: import * only allowed at module level\n",
        "<input>:1: SyntaxWarning: import * only allowed at module level\n",
        "<input>:1: SyntaxWarning: import * only allowed at module level\n",
        "<input>:1: SyntaxWarning: import * only allowed at module level\n",
        "<input>:1: SyntaxWarning: import * only allowed at module level\n",
        "<input>:1: SyntaxWarning: import * only allowed at module level\n",
        "<input>:1: SyntaxWarning: import * only allowed at module level\n",
        "<input>:1: SyntaxWarning: import * only allowed at module level\n",
        "<input>:1: SyntaxWarning: import * only allowed at module level\n",
        "<input>:1: SyntaxWarning: import * only allowed at module level\n",
        "<input>:1: SyntaxWarning: import * only allowed at module level\n",
        "<input>:1: SyntaxWarning: import * only allowed at module level\n",
        "<input>:1: SyntaxWarning: import * only allowed at module level\n",
        "<input>:1: SyntaxWarning: import * only allowed at module level\n",
        "<input>:1: SyntaxWarning: import * only allowed at module level\n",
        "<input>:1: SyntaxWarning: import * only allowed at module level\n",
        "<input>:1: SyntaxWarning: import * only allowed at module level\n",
        "<input>:1: SyntaxWarning: import * only allowed at module level\n",
        "<input>:1: SyntaxWarning: import * only allowed at module level\n",
        "<input>:1: SyntaxWarning: import * only allowed at module level\n",
        "<input>:1: SyntaxWarning: import * only allowed at module level\n",
        "<input>:1: SyntaxWarning: import * only allowed at module level\n",
        "<input>:1: SyntaxWarning: import * only allowed at module level\n",
        "<input>:1: SyntaxWarning: import * only allowed at module level\n",
        "<input>:1: SyntaxWarning: import * only allowed at module level\n",
        "<input>:1: SyntaxWarning: import * only allowed at module level\n",
        "<input>:1: SyntaxWarning: import * only allowed at module level\n",
        "<input>:1: SyntaxWarning: import * only allowed at module level\n",
        "<input>:1: SyntaxWarning: import * only allowed at module level\n",
        "<input>:1: SyntaxWarning: import * only allowed at module level\n",
        "<input>:1: SyntaxWarning: import * only allowed at module level\n",
        "<input>:1: SyntaxWarning: import * only allowed at module level\n",
        "<input>:1: SyntaxWarning: import * only allowed at module level\n",
        "<input>:1: SyntaxWarning: import * only allowed at module level\n",
        "<input>:1: SyntaxWarning: import * only allowed at module level\n",
        "<input>:1: SyntaxWarning: import * only allowed at module level\n",
        "<input>:1: SyntaxWarning: import * only allowed at module level\n",
        "<input>:1: SyntaxWarning: import * only allowed at module level\n",
        "<input>:1: SyntaxWarning: import * only allowed at module level\n",
        "<input>:1: SyntaxWarning: import * only allowed at module level\n",
        "<input>:1: SyntaxWarning: import * only allowed at module level\n",
        "<input>:1: SyntaxWarning: import * only allowed at module level\n",
        "<input>:1: SyntaxWarning: import * only allowed at module level\n",
        "<input>:1: SyntaxWarning: import * only allowed at module level\n",
        "<input>:1: SyntaxWarning: import * only allowed at module level\n",
        "<input>:1: SyntaxWarning: import * only allowed at module level\n",
        "<input>:1: SyntaxWarning: import * only allowed at module level\n",
        "<input>:1: SyntaxWarning: import * only allowed at module level\n",
        "<input>:1: SyntaxWarning: import * only allowed at module level\n",
        "<input>:1: SyntaxWarning: import * only allowed at module level\n",
        "<input>:1: SyntaxWarning: import * only allowed at module level\n",
        "<input>:1: SyntaxWarning: import * only allowed at module level\n",
        "<input>:1: SyntaxWarning: import * only allowed at module level\n",
        "<input>:1: SyntaxWarning: import * only allowed at module level\n",
        "<input>:1: SyntaxWarning: import * only allowed at module level\n",
        "<input>:1: SyntaxWarning: import * only allowed at module level\n",
        "<ipython-input-26-3b8c86e11104>:1: SyntaxWarning: import * only allowed at module level\n",
        "  def test_stemmed_bigrams_unigrams(bigrams_src,corpus_train_data,corpus_test_data,label_names,with_stopwords_removal,use_chi_features,use_raw_tokens):\n"
       ]
      }
     ],
     "prompt_number": 26
    },
    {
     "cell_type": "code",
     "collapsed": false,
     "input": [
      "def test_stemmed_wiktionary_bigrams(corpus_train_data,corpus_test_data,label_names,with_stopwords_removal,use_chi_features,use_raw_tokens):\n",
      "    import numpy as np\n",
      "    from stemming_tokenizer import StemmingTokenizer\n",
      "    from stemming_tokenizer import RawStemmingTokenizer\n",
      "    from ng20_globals import *\n",
      "    from ng20_vocabulary_loader import load_common_vocabulary\n",
      "    \n",
      "    max_ngram_size = 2\n",
      "        \n",
      "    if with_stopwords_removal==False:\n",
      "        stopwords_pattern = ''\n",
      "    else:\n",
      "        stopwords_pattern = '_stopwords'\n",
      "    if use_chi_features==False:\n",
      "        chi_features_pattern = ''\n",
      "    else:\n",
      "        chi_features_pattern = '_chi'\n",
      "    if use_raw_tokens==False:\n",
      "        raw_tokens_pattern = ''\n",
      "        tokenizer = StemmingTokenizer()\n",
      "    else:\n",
      "        raw_tokens_pattern = '_raw'\n",
      "        tokenizer = RawStemmingTokenizer()\n",
      "    \n",
      "    # load vocabulary\n",
      "    vocabulary_tbl_name1 = 'ng20{0}_stems{1}_unigrams{2}_df{3}_tf{4}'.format(raw_tokens_pattern,chi_features_pattern,stopwords_pattern,min_df,min_tf)\n",
      "    vocabulary_tbl_name2 = 'ng20{0}_stems{1}_bigrams{2}_df{3}_tf{4}'.format(raw_tokens_pattern,chi_features_pattern,stopwords_pattern,min_df,min_tf)\n",
      "    \n",
      "    vocabulary_tbl_intersect = 'wiktionary_bigrams'\n",
      "    vocabulary = load_common_vocabulary(vocabulary_tbl_name1,vocabulary_tbl_name2,vocabulary_tbl_intersect,'stem')\n",
      "\n",
      "    # generate tfidf vectors\n",
      "    vectorizer, corpus_train_tfidf_vectors = vectorize_corpus(corpus_train_data['corpus'],tokenizer,vocabulary,max_ngram_size)\n",
      "    _, corpus_test_tfidf_vectors = vectorize_corpus(corpus_test_data['corpus'],tokenizer,vocabulary,max_ngram_size)\n",
      "    \n",
      "    # classify & evaluate    \n",
      "    results = classify(corpus_train_tfidf_vectors,corpus_train_data['labels'],\n",
      "                       corpus_test_tfidf_vectors,corpus_test_data['labels'],\n",
      "                       max_labels)\n",
      "    \n",
      "    print_top_feature_names(results['classifier'], np.asarray(vectorizer.get_feature_names()), label_names)\n",
      "    \n",
      "    print vocabulary_tbl_name1,'^',vocabulary_tbl_name2,'^',vocabulary_tbl_intersect,' --> ','precision ',results['precision'],'recall ',results['recall'],'f1 ',results['f1']"
     ],
     "language": "python",
     "metadata": {},
     "outputs": [
      {
       "output_type": "stream",
       "stream": "stderr",
       "text": [
        "<input>:1: SyntaxWarning: import * only allowed at module level\n",
        "<input>:1: SyntaxWarning: import * only allowed at module level\n",
        "<input>:1: SyntaxWarning: import * only allowed at module level\n",
        "<input>:1: SyntaxWarning: import * only allowed at module level\n",
        "<input>:1: SyntaxWarning: import * only allowed at module level\n",
        "<input>:1: SyntaxWarning: import * only allowed at module level\n",
        "<input>:1: SyntaxWarning: import * only allowed at module level\n",
        "<input>:1: SyntaxWarning: import * only allowed at module level\n",
        "<input>:1: SyntaxWarning: import * only allowed at module level\n",
        "<input>:1: SyntaxWarning: import * only allowed at module level\n",
        "<input>:1: SyntaxWarning: import * only allowed at module level\n",
        "<input>:1: SyntaxWarning: import * only allowed at module level\n",
        "<input>:1: SyntaxWarning: import * only allowed at module level\n",
        "<input>:1: SyntaxWarning: import * only allowed at module level\n",
        "<input>:1: SyntaxWarning: import * only allowed at module level\n",
        "<input>:1: SyntaxWarning: import * only allowed at module level\n",
        "<input>:1: SyntaxWarning: import * only allowed at module level\n",
        "<input>:1: SyntaxWarning: import * only allowed at module level\n",
        "<input>:1: SyntaxWarning: import * only allowed at module level\n",
        "<input>:1: SyntaxWarning: import * only allowed at module level\n",
        "<input>:1: SyntaxWarning: import * only allowed at module level\n",
        "<input>:1: SyntaxWarning: import * only allowed at module level\n",
        "<input>:1: SyntaxWarning: import * only allowed at module level\n",
        "<input>:1: SyntaxWarning: import * only allowed at module level\n",
        "<input>:1: SyntaxWarning: import * only allowed at module level\n",
        "<input>:1: SyntaxWarning: import * only allowed at module level\n",
        "<input>:1: SyntaxWarning: import * only allowed at module level\n",
        "<input>:1: SyntaxWarning: import * only allowed at module level\n",
        "<input>:1: SyntaxWarning: import * only allowed at module level\n",
        "<input>:1: SyntaxWarning: import * only allowed at module level\n",
        "<input>:1: SyntaxWarning: import * only allowed at module level\n",
        "<input>:1: SyntaxWarning: import * only allowed at module level\n",
        "<input>:1: SyntaxWarning: import * only allowed at module level\n",
        "<input>:1: SyntaxWarning: import * only allowed at module level\n",
        "<input>:1: SyntaxWarning: import * only allowed at module level\n",
        "<input>:1: SyntaxWarning: import * only allowed at module level\n",
        "<input>:1: SyntaxWarning: import * only allowed at module level\n",
        "<input>:1: SyntaxWarning: import * only allowed at module level\n",
        "<input>:1: SyntaxWarning: import * only allowed at module level\n",
        "<input>:1: SyntaxWarning: import * only allowed at module level\n",
        "<input>:1: SyntaxWarning: import * only allowed at module level\n",
        "<input>:1: SyntaxWarning: import * only allowed at module level\n",
        "<input>:1: SyntaxWarning: import * only allowed at module level\n",
        "<input>:1: SyntaxWarning: import * only allowed at module level\n",
        "<input>:1: SyntaxWarning: import * only allowed at module level\n",
        "<input>:1: SyntaxWarning: import * only allowed at module level\n",
        "<input>:1: SyntaxWarning: import * only allowed at module level\n",
        "<input>:1: SyntaxWarning: import * only allowed at module level\n",
        "<input>:1: SyntaxWarning: import * only allowed at module level\n",
        "<input>:1: SyntaxWarning: import * only allowed at module level\n",
        "<input>:1: SyntaxWarning: import * only allowed at module level\n",
        "<input>:1: SyntaxWarning: import * only allowed at module level\n",
        "<input>:1: SyntaxWarning: import * only allowed at module level\n",
        "<input>:1: SyntaxWarning: import * only allowed at module level\n",
        "<input>:1: SyntaxWarning: import * only allowed at module level\n",
        "<input>:1: SyntaxWarning: import * only allowed at module level\n",
        "<input>:1: SyntaxWarning: import * only allowed at module level\n",
        "<input>:1: SyntaxWarning: import * only allowed at module level\n",
        "<input>:1: SyntaxWarning: import * only allowed at module level\n",
        "<input>:1: SyntaxWarning: import * only allowed at module level\n",
        "<input>:1: SyntaxWarning: import * only allowed at module level\n",
        "<input>:1: SyntaxWarning: import * only allowed at module level\n",
        "<input>:1: SyntaxWarning: import * only allowed at module level\n",
        "<input>:1: SyntaxWarning: import * only allowed at module level\n",
        "<input>:1: SyntaxWarning: import * only allowed at module level\n",
        "<input>:1: SyntaxWarning: import * only allowed at module level\n",
        "<input>:1: SyntaxWarning: import * only allowed at module level\n",
        "<input>:1: SyntaxWarning: import * only allowed at module level\n",
        "<input>:1: SyntaxWarning: import * only allowed at module level\n",
        "<input>:1: SyntaxWarning: import * only allowed at module level\n",
        "<input>:1: SyntaxWarning: import * only allowed at module level\n",
        "<input>:1: SyntaxWarning: import * only allowed at module level\n",
        "<input>:1: SyntaxWarning: import * only allowed at module level\n",
        "<input>:1: SyntaxWarning: import * only allowed at module level\n",
        "<input>:1: SyntaxWarning: import * only allowed at module level\n",
        "<input>:1: SyntaxWarning: import * only allowed at module level\n",
        "<input>:1: SyntaxWarning: import * only allowed at module level\n",
        "<input>:1: SyntaxWarning: import * only allowed at module level\n",
        "<input>:1: SyntaxWarning: import * only allowed at module level\n",
        "<input>:1: SyntaxWarning: import * only allowed at module level\n",
        "<input>:1: SyntaxWarning: import * only allowed at module level\n",
        "<input>:1: SyntaxWarning: import * only allowed at module level\n",
        "<input>:1: SyntaxWarning: import * only allowed at module level\n",
        "<input>:1: SyntaxWarning: import * only allowed at module level\n",
        "<input>:1: SyntaxWarning: import * only allowed at module level\n",
        "<input>:1: SyntaxWarning: import * only allowed at module level\n",
        "<input>:1: SyntaxWarning: import * only allowed at module level\n",
        "<input>:1: SyntaxWarning: import * only allowed at module level\n",
        "<input>:1: SyntaxWarning: import * only allowed at module level\n",
        "<input>:1: SyntaxWarning: import * only allowed at module level\n",
        "<input>:1: SyntaxWarning: import * only allowed at module level\n",
        "<input>:1: SyntaxWarning: import * only allowed at module level\n",
        "<input>:1: SyntaxWarning: import * only allowed at module level\n",
        "<ipython-input-27-cc32c0f5481c>:1: SyntaxWarning: import * only allowed at module level\n",
        "  def test_stemmed_wiktionary_bigrams(corpus_train_data,corpus_test_data,label_names,with_stopwords_removal,use_chi_features,use_raw_tokens):\n"
       ]
      }
     ],
     "prompt_number": 27
    },
    {
     "cell_type": "code",
     "collapsed": false,
     "input": [
      "def test_stemmed_google_bigrams(corpus_train_data,corpus_test_data,label_names,with_stopwords_removal,use_chi_features,use_raw_tokens):\n",
      "    import numpy as np\n",
      "    from stemming_tokenizer import StemmingTokenizer\n",
      "    from stemming_tokenizer import RawStemmingTokenizer\n",
      "    from ng20_globals import *\n",
      "    from ng20_vocabulary_loader import load_common_vocabulary\n",
      "    \n",
      "    max_ngram_size = 2\n",
      "        \n",
      "    if with_stopwords_removal==False:\n",
      "        stopwords_pattern = ''\n",
      "    else:\n",
      "        stopwords_pattern = '_stopwords'\n",
      "    if use_chi_features==False:\n",
      "        chi_features_pattern = ''\n",
      "    else:\n",
      "        chi_features_pattern = '_chi'\n",
      "    if use_raw_tokens==False:\n",
      "        raw_tokens_pattern = ''\n",
      "        tokenizer = StemmingTokenizer()\n",
      "    else:\n",
      "        raw_tokens_pattern = '_raw'\n",
      "        tokenizer = RawStemmingTokenizer()\n",
      "    \n",
      "    # load vocabulary\n",
      "    vocabulary_tbl_name1 = 'ng20{0}_stems{1}_unigrams{2}_df{3}_tf{4}'.format(raw_tokens_pattern,chi_features_pattern,stopwords_pattern,min_df,min_tf)\n",
      "    vocabulary_tbl_name2 = 'ng20{0}_stems{1}_bigrams{2}_df{3}_tf{4}'.format(raw_tokens_pattern,chi_features_pattern,stopwords_pattern,min_df,min_tf)\n",
      "    \n",
      "    vocabulary_tbl_intersect = 'google_bigrams'\n",
      "    vocabulary = load_common_vocabulary(vocabulary_tbl_name1,vocabulary_tbl_name2,vocabulary_tbl_intersect,'stem')\n",
      "\n",
      "    # generate tfidf vectors\n",
      "    vectorizer, corpus_train_tfidf_vectors = vectorize_corpus(corpus_train_data['corpus'],tokenizer,vocabulary,max_ngram_size)\n",
      "    _, corpus_test_tfidf_vectors = vectorize_corpus(corpus_test_data['corpus'],tokenizer,vocabulary,max_ngram_size)\n",
      "    \n",
      "    # classify & evaluate    \n",
      "    results = classify(corpus_train_tfidf_vectors,corpus_train_data['labels'],\n",
      "                       corpus_test_tfidf_vectors,corpus_test_data['labels'],\n",
      "                       max_labels)\n",
      "    \n",
      "    print_top_feature_names(results['classifier'], np.asarray(vectorizer.get_feature_names()), label_names)\n",
      "    \n",
      "    print vocabulary_tbl_name1,'^',vocabulary_tbl_name2,'^',vocabulary_tbl_intersect,' --> ','precision ',results['precision'],'recall ',results['recall'],'f1 ',results['f1']"
     ],
     "language": "python",
     "metadata": {},
     "outputs": [
      {
       "output_type": "stream",
       "stream": "stderr",
       "text": [
        "<input>:1: SyntaxWarning: import * only allowed at module level\n",
        "<input>:1: SyntaxWarning: import * only allowed at module level\n",
        "<input>:1: SyntaxWarning: import * only allowed at module level\n",
        "<input>:1: SyntaxWarning: import * only allowed at module level\n",
        "<input>:1: SyntaxWarning: import * only allowed at module level\n",
        "<input>:1: SyntaxWarning: import * only allowed at module level\n",
        "<input>:1: SyntaxWarning: import * only allowed at module level\n",
        "<input>:1: SyntaxWarning: import * only allowed at module level\n",
        "<input>:1: SyntaxWarning: import * only allowed at module level\n",
        "<input>:1: SyntaxWarning: import * only allowed at module level\n",
        "<input>:1: SyntaxWarning: import * only allowed at module level\n",
        "<input>:1: SyntaxWarning: import * only allowed at module level\n",
        "<input>:1: SyntaxWarning: import * only allowed at module level\n",
        "<input>:1: SyntaxWarning: import * only allowed at module level\n",
        "<input>:1: SyntaxWarning: import * only allowed at module level\n",
        "<input>:1: SyntaxWarning: import * only allowed at module level\n",
        "<input>:1: SyntaxWarning: import * only allowed at module level\n",
        "<input>:1: SyntaxWarning: import * only allowed at module level\n",
        "<input>:1: SyntaxWarning: import * only allowed at module level\n",
        "<input>:1: SyntaxWarning: import * only allowed at module level\n",
        "<input>:1: SyntaxWarning: import * only allowed at module level\n",
        "<input>:1: SyntaxWarning: import * only allowed at module level\n",
        "<input>:1: SyntaxWarning: import * only allowed at module level\n",
        "<input>:1: SyntaxWarning: import * only allowed at module level\n",
        "<input>:1: SyntaxWarning: import * only allowed at module level\n",
        "<input>:1: SyntaxWarning: import * only allowed at module level\n",
        "<input>:1: SyntaxWarning: import * only allowed at module level\n",
        "<input>:1: SyntaxWarning: import * only allowed at module level\n",
        "<input>:1: SyntaxWarning: import * only allowed at module level\n",
        "<input>:1: SyntaxWarning: import * only allowed at module level\n",
        "<input>:1: SyntaxWarning: import * only allowed at module level\n",
        "<input>:1: SyntaxWarning: import * only allowed at module level\n",
        "<input>:1: SyntaxWarning: import * only allowed at module level\n",
        "<input>:1: SyntaxWarning: import * only allowed at module level\n",
        "<input>:1: SyntaxWarning: import * only allowed at module level\n",
        "<input>:1: SyntaxWarning: import * only allowed at module level\n",
        "<input>:1: SyntaxWarning: import * only allowed at module level\n",
        "<input>:1: SyntaxWarning: import * only allowed at module level\n",
        "<input>:1: SyntaxWarning: import * only allowed at module level\n",
        "<input>:1: SyntaxWarning: import * only allowed at module level\n",
        "<input>:1: SyntaxWarning: import * only allowed at module level\n",
        "<input>:1: SyntaxWarning: import * only allowed at module level\n",
        "<input>:1: SyntaxWarning: import * only allowed at module level\n",
        "<input>:1: SyntaxWarning: import * only allowed at module level\n",
        "<input>:1: SyntaxWarning: import * only allowed at module level\n",
        "<input>:1: SyntaxWarning: import * only allowed at module level\n",
        "<input>:1: SyntaxWarning: import * only allowed at module level\n",
        "<input>:1: SyntaxWarning: import * only allowed at module level\n",
        "<input>:1: SyntaxWarning: import * only allowed at module level\n",
        "<input>:1: SyntaxWarning: import * only allowed at module level\n",
        "<input>:1: SyntaxWarning: import * only allowed at module level\n",
        "<input>:1: SyntaxWarning: import * only allowed at module level\n",
        "<input>:1: SyntaxWarning: import * only allowed at module level\n",
        "<input>:1: SyntaxWarning: import * only allowed at module level\n",
        "<input>:1: SyntaxWarning: import * only allowed at module level\n",
        "<input>:1: SyntaxWarning: import * only allowed at module level\n",
        "<input>:1: SyntaxWarning: import * only allowed at module level\n",
        "<input>:1: SyntaxWarning: import * only allowed at module level\n",
        "<input>:1: SyntaxWarning: import * only allowed at module level\n",
        "<input>:1: SyntaxWarning: import * only allowed at module level\n",
        "<input>:1: SyntaxWarning: import * only allowed at module level\n",
        "<input>:1: SyntaxWarning: import * only allowed at module level\n",
        "<input>:1: SyntaxWarning: import * only allowed at module level\n",
        "<input>:1: SyntaxWarning: import * only allowed at module level\n",
        "<input>:1: SyntaxWarning: import * only allowed at module level\n",
        "<input>:1: SyntaxWarning: import * only allowed at module level\n",
        "<input>:1: SyntaxWarning: import * only allowed at module level\n",
        "<input>:1: SyntaxWarning: import * only allowed at module level\n",
        "<input>:1: SyntaxWarning: import * only allowed at module level\n",
        "<input>:1: SyntaxWarning: import * only allowed at module level\n",
        "<input>:1: SyntaxWarning: import * only allowed at module level\n",
        "<input>:1: SyntaxWarning: import * only allowed at module level\n",
        "<input>:1: SyntaxWarning: import * only allowed at module level\n",
        "<input>:1: SyntaxWarning: import * only allowed at module level\n",
        "<input>:1: SyntaxWarning: import * only allowed at module level\n",
        "<input>:1: SyntaxWarning: import * only allowed at module level\n",
        "<input>:1: SyntaxWarning: import * only allowed at module level\n",
        "<input>:1: SyntaxWarning: import * only allowed at module level\n",
        "<input>:1: SyntaxWarning: import * only allowed at module level\n",
        "<input>:1: SyntaxWarning: import * only allowed at module level\n",
        "<input>:1: SyntaxWarning: import * only allowed at module level\n",
        "<input>:1: SyntaxWarning: import * only allowed at module level\n",
        "<input>:1: SyntaxWarning: import * only allowed at module level\n",
        "<input>:1: SyntaxWarning: import * only allowed at module level\n",
        "<input>:1: SyntaxWarning: import * only allowed at module level\n",
        "<input>:1: SyntaxWarning: import * only allowed at module level\n",
        "<input>:1: SyntaxWarning: import * only allowed at module level\n",
        "<input>:1: SyntaxWarning: import * only allowed at module level\n",
        "<input>:1: SyntaxWarning: import * only allowed at module level\n",
        "<input>:1: SyntaxWarning: import * only allowed at module level\n",
        "<input>:1: SyntaxWarning: import * only allowed at module level\n",
        "<input>:1: SyntaxWarning: import * only allowed at module level\n",
        "<input>:1: SyntaxWarning: import * only allowed at module level\n",
        "<ipython-input-28-2d32e6deeba1>:1: SyntaxWarning: import * only allowed at module level\n",
        "  def test_stemmed_google_bigrams(corpus_train_data,corpus_test_data,label_names,with_stopwords_removal,use_chi_features,use_raw_tokens):\n"
       ]
      }
     ],
     "prompt_number": 28
    },
    {
     "cell_type": "code",
     "collapsed": false,
     "input": [
      "def test_stemmed_all_bigrams(corpus_train_data,corpus_test_data,label_names,with_stopwords_removal,use_chi_features,use_raw_tokens):\n",
      "    import numpy as np\n",
      "    from stemming_tokenizer import StemmingTokenizer\n",
      "    from stemming_tokenizer import RawStemmingTokenizer\n",
      "    from ng20_globals import *\n",
      "    from ng20_vocabulary_loader import load_common_vocabulary\n",
      "    \n",
      "    max_ngram_size = 2\n",
      "    \n",
      "    if with_stopwords_removal==False:\n",
      "        stopwords_pattern = ''\n",
      "    else:\n",
      "        stopwords_pattern = '_stopwords'\n",
      "    if use_chi_features==False:\n",
      "        chi_features_pattern = ''\n",
      "    else:\n",
      "        chi_features_pattern = '_chi'\n",
      "    if use_raw_tokens==False:\n",
      "        raw_tokens_pattern = ''\n",
      "        tokenizer = StemmingTokenizer()\n",
      "    else:\n",
      "        raw_tokens_pattern = '_raw'\n",
      "        tokenizer = RawStemmingTokenizer()\n",
      "    \n",
      "    # load vocabulary\n",
      "    vocabulary_tbl_name1 = 'ng20{0}_stems{1}_unigrams{2}_df{3}_tf{4}'.format(raw_tokens_pattern,chi_features_pattern,stopwords_pattern,min_df,min_tf)\n",
      "    vocabulary_tbl_name2 = 'ng20{0}_stems{1}_bigrams{2}_df{3}_tf{4}'.format(raw_tokens_pattern,chi_features_pattern,stopwords_pattern,min_df,min_tf)\n",
      "    \n",
      "    vocabulary_tbl_intersect = 'wiki_wiktionary_google_bigrams_vw'\n",
      "    vocabulary = load_common_vocabulary(vocabulary_tbl_name1,vocabulary_tbl_name2,vocabulary_tbl_intersect,'stem')\n",
      "\n",
      "    # generate tfidf vectors\n",
      "    vectorizer, corpus_train_tfidf_vectors = vectorize_corpus(corpus_train_data['corpus'],tokenizer,vocabulary,max_ngram_size)\n",
      "    _, corpus_test_tfidf_vectors = vectorize_corpus(corpus_test_data['corpus'],tokenizer,vocabulary,max_ngram_size)\n",
      "    \n",
      "    # classify & evaluate    \n",
      "    results = classify(corpus_train_tfidf_vectors,corpus_train_data['labels'],\n",
      "                       corpus_test_tfidf_vectors,corpus_test_data['labels'],\n",
      "                       max_labels)\n",
      "    \n",
      "    print_top_feature_names(results['classifier'], np.asarray(vectorizer.get_feature_names()), label_names)\n",
      "    \n",
      "    print vocabulary_tbl_name1,'^',vocabulary_tbl_name2,'^',vocabulary_tbl_intersect,' --> ','precision ',results['precision'],'recall ',results['recall'],'f1 ',results['f1']"
     ],
     "language": "python",
     "metadata": {},
     "outputs": [
      {
       "output_type": "stream",
       "stream": "stderr",
       "text": [
        "<input>:1: SyntaxWarning: import * only allowed at module level\n",
        "<input>:1: SyntaxWarning: import * only allowed at module level\n",
        "<input>:1: SyntaxWarning: import * only allowed at module level\n",
        "<input>:1: SyntaxWarning: import * only allowed at module level\n",
        "<input>:1: SyntaxWarning: import * only allowed at module level\n",
        "<input>:1: SyntaxWarning: import * only allowed at module level\n",
        "<input>:1: SyntaxWarning: import * only allowed at module level\n",
        "<input>:1: SyntaxWarning: import * only allowed at module level\n",
        "<input>:1: SyntaxWarning: import * only allowed at module level\n",
        "<input>:1: SyntaxWarning: import * only allowed at module level\n",
        "<input>:1: SyntaxWarning: import * only allowed at module level\n",
        "<input>:1: SyntaxWarning: import * only allowed at module level\n",
        "<input>:1: SyntaxWarning: import * only allowed at module level\n",
        "<input>:1: SyntaxWarning: import * only allowed at module level\n",
        "<input>:1: SyntaxWarning: import * only allowed at module level\n",
        "<input>:1: SyntaxWarning: import * only allowed at module level\n",
        "<input>:1: SyntaxWarning: import * only allowed at module level\n",
        "<input>:1: SyntaxWarning: import * only allowed at module level\n",
        "<input>:1: SyntaxWarning: import * only allowed at module level\n",
        "<input>:1: SyntaxWarning: import * only allowed at module level\n",
        "<input>:1: SyntaxWarning: import * only allowed at module level\n",
        "<input>:1: SyntaxWarning: import * only allowed at module level\n",
        "<input>:1: SyntaxWarning: import * only allowed at module level\n",
        "<input>:1: SyntaxWarning: import * only allowed at module level\n",
        "<input>:1: SyntaxWarning: import * only allowed at module level\n",
        "<input>:1: SyntaxWarning: import * only allowed at module level\n",
        "<input>:1: SyntaxWarning: import * only allowed at module level\n",
        "<input>:1: SyntaxWarning: import * only allowed at module level\n",
        "<input>:1: SyntaxWarning: import * only allowed at module level\n",
        "<input>:1: SyntaxWarning: import * only allowed at module level\n",
        "<input>:1: SyntaxWarning: import * only allowed at module level\n",
        "<input>:1: SyntaxWarning: import * only allowed at module level\n",
        "<input>:1: SyntaxWarning: import * only allowed at module level\n",
        "<input>:1: SyntaxWarning: import * only allowed at module level\n",
        "<input>:1: SyntaxWarning: import * only allowed at module level\n",
        "<input>:1: SyntaxWarning: import * only allowed at module level\n",
        "<input>:1: SyntaxWarning: import * only allowed at module level\n",
        "<input>:1: SyntaxWarning: import * only allowed at module level\n",
        "<input>:1: SyntaxWarning: import * only allowed at module level\n",
        "<input>:1: SyntaxWarning: import * only allowed at module level\n",
        "<input>:1: SyntaxWarning: import * only allowed at module level\n",
        "<input>:1: SyntaxWarning: import * only allowed at module level\n",
        "<input>:1: SyntaxWarning: import * only allowed at module level\n",
        "<input>:1: SyntaxWarning: import * only allowed at module level\n",
        "<input>:1: SyntaxWarning: import * only allowed at module level\n",
        "<input>:1: SyntaxWarning: import * only allowed at module level\n",
        "<input>:1: SyntaxWarning: import * only allowed at module level\n",
        "<input>:1: SyntaxWarning: import * only allowed at module level\n",
        "<input>:1: SyntaxWarning: import * only allowed at module level\n",
        "<input>:1: SyntaxWarning: import * only allowed at module level\n",
        "<input>:1: SyntaxWarning: import * only allowed at module level\n",
        "<input>:1: SyntaxWarning: import * only allowed at module level\n",
        "<input>:1: SyntaxWarning: import * only allowed at module level\n",
        "<input>:1: SyntaxWarning: import * only allowed at module level\n",
        "<input>:1: SyntaxWarning: import * only allowed at module level\n",
        "<input>:1: SyntaxWarning: import * only allowed at module level\n",
        "<input>:1: SyntaxWarning: import * only allowed at module level\n",
        "<input>:1: SyntaxWarning: import * only allowed at module level\n",
        "<input>:1: SyntaxWarning: import * only allowed at module level\n",
        "<input>:1: SyntaxWarning: import * only allowed at module level\n",
        "<input>:1: SyntaxWarning: import * only allowed at module level\n",
        "<input>:1: SyntaxWarning: import * only allowed at module level\n",
        "<input>:1: SyntaxWarning: import * only allowed at module level\n",
        "<input>:1: SyntaxWarning: import * only allowed at module level\n",
        "<input>:1: SyntaxWarning: import * only allowed at module level\n",
        "<input>:1: SyntaxWarning: import * only allowed at module level\n",
        "<input>:1: SyntaxWarning: import * only allowed at module level\n",
        "<input>:1: SyntaxWarning: import * only allowed at module level\n",
        "<input>:1: SyntaxWarning: import * only allowed at module level\n",
        "<input>:1: SyntaxWarning: import * only allowed at module level\n",
        "<input>:1: SyntaxWarning: import * only allowed at module level\n",
        "<input>:1: SyntaxWarning: import * only allowed at module level\n",
        "<input>:1: SyntaxWarning: import * only allowed at module level\n",
        "<input>:1: SyntaxWarning: import * only allowed at module level\n",
        "<input>:1: SyntaxWarning: import * only allowed at module level\n",
        "<input>:1: SyntaxWarning: import * only allowed at module level\n",
        "<input>:1: SyntaxWarning: import * only allowed at module level\n",
        "<input>:1: SyntaxWarning: import * only allowed at module level\n",
        "<input>:1: SyntaxWarning: import * only allowed at module level\n",
        "<input>:1: SyntaxWarning: import * only allowed at module level\n",
        "<input>:1: SyntaxWarning: import * only allowed at module level\n",
        "<input>:1: SyntaxWarning: import * only allowed at module level\n",
        "<input>:1: SyntaxWarning: import * only allowed at module level\n",
        "<input>:1: SyntaxWarning: import * only allowed at module level\n",
        "<input>:1: SyntaxWarning: import * only allowed at module level\n",
        "<input>:1: SyntaxWarning: import * only allowed at module level\n",
        "<input>:1: SyntaxWarning: import * only allowed at module level\n",
        "<input>:1: SyntaxWarning: import * only allowed at module level\n",
        "<input>:1: SyntaxWarning: import * only allowed at module level\n",
        "<input>:1: SyntaxWarning: import * only allowed at module level\n",
        "<input>:1: SyntaxWarning: import * only allowed at module level\n",
        "<input>:1: SyntaxWarning: import * only allowed at module level\n",
        "<input>:1: SyntaxWarning: import * only allowed at module level\n",
        "<ipython-input-29-200cfeb781eb>:1: SyntaxWarning: import * only allowed at module level\n",
        "  def test_stemmed_all_bigrams(corpus_train_data,corpus_test_data,label_names,with_stopwords_removal,use_chi_features,use_raw_tokens):\n"
       ]
      }
     ],
     "prompt_number": 29
    },
    {
     "cell_type": "code",
     "collapsed": false,
     "input": [
      "def test():\n",
      "    from ng20_corpus_loader import load_corpus_and_labels\n",
      "    from ng20_corpus_loader import load_corpus_with_labels_mappings\n",
      "    from ng20_corpus_loader import load_label_names\n",
      "    \n",
      "    # load 20ng docs with class lables from DB\n",
      "    corpus_train_data = load_corpus_and_labels('train')\n",
      "    print 'done loading {0} train records and {1} labels.'.format(len(corpus_train_data['corpus']),len(corpus_train_data['labels_dic']))\n",
      "\n",
      "    corpus_test_data = load_corpus_with_labels_mappings('test',corpus_train_data['labels_dic'])\n",
      "    print 'done loading {0} test records.'.format(len(corpus_test_data['corpus']))\n",
      "    \n",
      "    label_names = load_label_names()\n",
      "    \n",
      "    stopwords_removal_mask = 1\n",
      "    chi_features_mask = 2\n",
      "    raw_tokens_mask = 4\n",
      "    for i in range(4,6): # test w/o stopword removal and w/o chi square features and w/o raw tokens\n",
      "        stopwords_removal = i&stopwords_removal_mask==stopwords_removal_mask\n",
      "        use_chi_features = i&chi_features_mask==chi_features_mask\n",
      "        use_raw_tokens = i&raw_tokens_mask==raw_tokens_mask\n",
      "        \n",
      "        test_all_unigrams({'corpus':corpus_train_data['corpus'],'labels':corpus_train_data['labels']},\n",
      "                                 {'corpus':corpus_test_data['corpus'],'labels':corpus_test_data['labels']},\n",
      "                                 label_names,stopwords_removal,use_chi_features,use_raw_tokens)\n",
      "        \n",
      "        test_all_bigrams({'corpus':corpus_train_data['corpus'],'labels':corpus_train_data['labels']},\n",
      "                                 {'corpus':corpus_test_data['corpus'],'labels':corpus_test_data['labels']},\n",
      "                                 label_names,stopwords_removal,use_chi_features,use_raw_tokens)\n",
      "        \n",
      "        test_lemmatized_unigrams({'corpus':corpus_train_data['corpus'],'labels':corpus_train_data['labels']},\n",
      "                                 {'corpus':corpus_test_data['corpus'],'labels':corpus_test_data['labels']},\n",
      "                                 label_names,stopwords_removal,use_chi_features,use_raw_tokens)\n",
      "        \n",
      "        test_lemmatized_bigrams({'corpus':corpus_train_data['corpus'],'labels':corpus_train_data['labels']},\n",
      "                                 {'corpus':corpus_test_data['corpus'],'labels':corpus_test_data['labels']},\n",
      "                                 label_names,stopwords_removal,use_chi_features,use_raw_tokens)\n",
      "        \n",
      "        #test_lemmatized_bigrams_with_LSA({'corpus':corpus_train_data['corpus'],'labels':corpus_train_data['labels']},\n",
      "        #                         {'corpus':corpus_test_data['corpus'],'labels':corpus_test_data['labels']},\n",
      "        #                         label_names,stopwords_removal,use_chi_features,use_raw_tokens,113240)\n",
      "        \n",
      "        test_lemmatized_wiki_bigrams({'corpus':corpus_train_data['corpus'],'labels':corpus_train_data['labels']},\n",
      "                                 {'corpus':corpus_test_data['corpus'],'labels':corpus_test_data['labels']},\n",
      "                                 label_names,stopwords_removal,use_chi_features,use_raw_tokens)\n",
      "        \n",
      "        test_lemmatized_bigrams_unigrams(['wiki'],{'corpus':corpus_train_data['corpus'],'labels':corpus_train_data['labels']},\n",
      "                                 {'corpus':corpus_test_data['corpus'],'labels':corpus_test_data['labels']},\n",
      "                                 label_names,stopwords_removal,use_chi_features,use_raw_tokens)\n",
      "        \n",
      "        test_lemmatized_wiktionary_bigrams({'corpus':corpus_train_data['corpus'],'labels':corpus_train_data['labels']},\n",
      "                                 {'corpus':corpus_test_data['corpus'],'labels':corpus_test_data['labels']},\n",
      "                                 label_names,stopwords_removal,use_chi_features,use_raw_tokens)\n",
      "        \n",
      "        test_lemmatized_bigrams_unigrams(['wiktionary'],{'corpus':corpus_train_data['corpus'],'labels':corpus_train_data['labels']},\n",
      "                                 {'corpus':corpus_test_data['corpus'],'labels':corpus_test_data['labels']},\n",
      "                                 label_names,stopwords_removal,use_chi_features,use_raw_tokens)\n",
      "        \n",
      "        test_lemmatized_google_bigrams({'corpus':corpus_train_data['corpus'],'labels':corpus_train_data['labels']},\n",
      "                                 {'corpus':corpus_test_data['corpus'],'labels':corpus_test_data['labels']},\n",
      "                                 label_names,stopwords_removal,use_chi_features,use_raw_tokens)\n",
      "        \n",
      "        test_lemmatized_bigrams_unigrams(['google'],{'corpus':corpus_train_data['corpus'],'labels':corpus_train_data['labels']},\n",
      "                                 {'corpus':corpus_test_data['corpus'],'labels':corpus_test_data['labels']},\n",
      "                                 label_names,stopwords_removal,use_chi_features,use_raw_tokens)\n",
      "        \n",
      "        test_lemmatized_wiki_wiktionary_bigrams({'corpus':corpus_train_data['corpus'],'labels':corpus_train_data['labels']},\n",
      "                                 {'corpus':corpus_test_data['corpus'],'labels':corpus_test_data['labels']},\n",
      "                                 label_names,stopwords_removal,use_chi_features,use_raw_tokens)\n",
      "        \n",
      "        test_lemmatized_bigrams_unigrams(['wiki','wiktionary'],{'corpus':corpus_train_data['corpus'],'labels':corpus_train_data['labels']},\n",
      "                                 {'corpus':corpus_test_data['corpus'],'labels':corpus_test_data['labels']},\n",
      "                                 label_names,stopwords_removal,use_chi_features,use_raw_tokens)\n",
      "        \n",
      "        test_lemmatized_wiki_google_bigrams({'corpus':corpus_train_data['corpus'],'labels':corpus_train_data['labels']},\n",
      "                                 {'corpus':corpus_test_data['corpus'],'labels':corpus_test_data['labels']},\n",
      "                                 label_names,stopwords_removal,use_chi_features,use_raw_tokens)\n",
      "        \n",
      "        test_lemmatized_bigrams_unigrams(['wiki','google'],{'corpus':corpus_train_data['corpus'],'labels':corpus_train_data['labels']},\n",
      "                                 {'corpus':corpus_test_data['corpus'],'labels':corpus_test_data['labels']},\n",
      "                                 label_names,stopwords_removal,use_chi_features,use_raw_tokens)\n",
      "        \n",
      "        test_lemmatized_wiktionary_google_bigrams({'corpus':corpus_train_data['corpus'],'labels':corpus_train_data['labels']},\n",
      "                                 {'corpus':corpus_test_data['corpus'],'labels':corpus_test_data['labels']},\n",
      "                                 label_names,stopwords_removal,use_chi_features,use_raw_tokens)\n",
      "        \n",
      "        test_lemmatized_bigrams_unigrams(['wiktionary','google'],{'corpus':corpus_train_data['corpus'],'labels':corpus_train_data['labels']},\n",
      "                                 {'corpus':corpus_test_data['corpus'],'labels':corpus_test_data['labels']},\n",
      "                                 label_names,stopwords_removal,use_chi_features,use_raw_tokens)\n",
      "        \n",
      "        test_lemmatized_all_bigrams({'corpus':corpus_train_data['corpus'],'labels':corpus_train_data['labels']},\n",
      "                                 {'corpus':corpus_test_data['corpus'],'labels':corpus_test_data['labels']},\n",
      "                                 label_names,stopwords_removal,use_chi_features,use_raw_tokens)\n",
      "        \n",
      "        test_lemmatized_bigrams_unigrams(['wiki','wiktionary','google'],{'corpus':corpus_train_data['corpus'],'labels':corpus_train_data['labels']},\n",
      "                                 {'corpus':corpus_test_data['corpus'],'labels':corpus_test_data['labels']},\n",
      "                                 label_names,stopwords_removal,use_chi_features,use_raw_tokens)\n",
      "        \n",
      "        test_stemmed_unigrams({'corpus':corpus_train_data['corpus'],'labels':corpus_train_data['labels']},\n",
      "                                 {'corpus':corpus_test_data['corpus'],'labels':corpus_test_data['labels']},\n",
      "                                 label_names,stopwords_removal,use_chi_features,use_raw_tokens)\n",
      "        \n",
      "        test_stemmed_bigrams({'corpus':corpus_train_data['corpus'],'labels':corpus_train_data['labels']},\n",
      "                                 {'corpus':corpus_test_data['corpus'],'labels':corpus_test_data['labels']},\n",
      "                                 label_names,stopwords_removal,use_chi_features,use_raw_tokens)\n",
      "        \n",
      "        test_stemmed_wiki_bigrams({'corpus':corpus_train_data['corpus'],'labels':corpus_train_data['labels']},\n",
      "                                 {'corpus':corpus_test_data['corpus'],'labels':corpus_test_data['labels']},\n",
      "                                 label_names,stopwords_removal,use_chi_features,use_raw_tokens)\n",
      "        \n",
      "        test_stemmed_bigrams_unigrams(['wiki'],{'corpus':corpus_train_data['corpus'],'labels':corpus_train_data['labels']},\n",
      "                                 {'corpus':corpus_test_data['corpus'],'labels':corpus_test_data['labels']},\n",
      "                                 label_names,stopwords_removal,use_chi_features,use_raw_tokens)\n",
      "        \n",
      "        test_stemmed_wiktionary_bigrams({'corpus':corpus_train_data['corpus'],'labels':corpus_train_data['labels']},\n",
      "                                 {'corpus':corpus_test_data['corpus'],'labels':corpus_test_data['labels']},\n",
      "                                 label_names,stopwords_removal,use_chi_features,use_raw_tokens)\n",
      "        \n",
      "        test_stemmed_bigrams_unigrams(['wiktionary'],{'corpus':corpus_train_data['corpus'],'labels':corpus_train_data['labels']},\n",
      "                                 {'corpus':corpus_test_data['corpus'],'labels':corpus_test_data['labels']},\n",
      "                                 label_names,stopwords_removal,use_chi_features,use_raw_tokens)\n",
      "        \n",
      "        test_stemmed_google_bigrams({'corpus':corpus_train_data['corpus'],'labels':corpus_train_data['labels']},\n",
      "                                 {'corpus':corpus_test_data['corpus'],'labels':corpus_test_data['labels']},\n",
      "                                 label_names,stopwords_removal,use_chi_features,use_raw_tokens)\n",
      "        \n",
      "        test_stemmed_bigrams_unigrams(['google'],{'corpus':corpus_train_data['corpus'],'labels':corpus_train_data['labels']},\n",
      "                                 {'corpus':corpus_test_data['corpus'],'labels':corpus_test_data['labels']},\n",
      "                                 label_names,stopwords_removal,use_chi_features,use_raw_tokens)\n",
      "        \n",
      "        test_stemmed_wiki_wiktionary_bigrams({'corpus':corpus_train_data['corpus'],'labels':corpus_train_data['labels']},\n",
      "                                 {'corpus':corpus_test_data['corpus'],'labels':corpus_test_data['labels']},\n",
      "                                 label_names,stopwords_removal,use_chi_features,use_raw_tokens)\n",
      "        \n",
      "        test_stemmed_bigrams_unigrams(['wiki','wiktionary'],{'corpus':corpus_train_data['corpus'],'labels':corpus_train_data['labels']},\n",
      "                                 {'corpus':corpus_test_data['corpus'],'labels':corpus_test_data['labels']},\n",
      "                                 label_names,stopwords_removal,use_chi_features,use_raw_tokens)\n",
      "        \n",
      "        test_stemmed_wiki_google_bigrams({'corpus':corpus_train_data['corpus'],'labels':corpus_train_data['labels']},\n",
      "                                 {'corpus':corpus_test_data['corpus'],'labels':corpus_test_data['labels']},\n",
      "                                 label_names,stopwords_removal,use_chi_features,use_raw_tokens)\n",
      "        \n",
      "        test_stemmed_bigrams_unigrams(['wiki','google'],{'corpus':corpus_train_data['corpus'],'labels':corpus_train_data['labels']},\n",
      "                                 {'corpus':corpus_test_data['corpus'],'labels':corpus_test_data['labels']},\n",
      "                                 label_names,stopwords_removal,use_chi_features,use_raw_tokens)\n",
      "        \n",
      "        test_stemmed_wiktionary_google_bigrams({'corpus':corpus_train_data['corpus'],'labels':corpus_train_data['labels']},\n",
      "                                 {'corpus':corpus_test_data['corpus'],'labels':corpus_test_data['labels']},\n",
      "                                 label_names,stopwords_removal,use_chi_features,use_raw_tokens)\n",
      "        \n",
      "        test_stemmed_bigrams_unigrams(['wiktionary','google'],{'corpus':corpus_train_data['corpus'],'labels':corpus_train_data['labels']},\n",
      "                                 {'corpus':corpus_test_data['corpus'],'labels':corpus_test_data['labels']},\n",
      "                                 label_names,stopwords_removal,use_chi_features,use_raw_tokens)\n",
      "        \n",
      "        test_stemmed_all_bigrams({'corpus':corpus_train_data['corpus'],'labels':corpus_train_data['labels']},\n",
      "                                 {'corpus':corpus_test_data['corpus'],'labels':corpus_test_data['labels']},\n",
      "                                 label_names,stopwords_removal,use_chi_features,use_raw_tokens)\n",
      "        \n",
      "        test_stemmed_bigrams_unigrams(['wiki','wiktionary','google'],{'corpus':corpus_train_data['corpus'],'labels':corpus_train_data['labels']},\n",
      "                                 {'corpus':corpus_test_data['corpus'],'labels':corpus_test_data['labels']},\n",
      "                                 label_names,stopwords_removal,use_chi_features,use_raw_tokens)"
     ],
     "language": "python",
     "metadata": {},
     "outputs": [],
     "prompt_number": 30
    },
    {
     "cell_type": "code",
     "collapsed": false,
     "input": [
      "# test using all vocabulary\n",
      "test()\n",
      "\n",
      "print 'done!'"
     ],
     "language": "python",
     "metadata": {},
     "outputs": [
      {
       "output_type": "stream",
       "stream": "stdout",
       "text": [
        "loaded 18828 records.\n",
        "done loading 18828 train records and 20 labels.\n",
        "loaded 0 records.\n",
        "done loading 0 test records.\n",
        "loaded 20 labels.\n",
        "loaded (167750) terms"
       ]
      },
      {
       "output_type": "stream",
       "stream": "stdout",
       "text": [
        "\n",
        "vectorizing done, 167750 terms vocabulary tokenized"
       ]
      },
      {
       "output_type": "stream",
       "stream": "stdout",
       "text": [
        "\n",
        "vectorizing done, 167750 terms vocabulary tokenized"
       ]
      },
      {
       "output_type": "stream",
       "stream": "stdout",
       "text": [
        "\n"
       ]
      },
      {
       "output_type": "stream",
       "stream": "stdout",
       "text": [
        "accuracy scores = [ 0.87317073  0.91061571  0.90221088  0.87976165],0.891439744682\n"
       ]
      },
      {
       "output_type": "stream",
       "stream": "stdout",
       "text": [
        "macro precision scores = [ 0.87163253  0.91000983  0.90171476  0.87907933],0.890609114044\n"
       ]
      },
      {
       "output_type": "stream",
       "stream": "stdout",
       "text": [
        "macro recall scores = [ 0.86663825  0.90875163  0.89641893  0.87710029],0.887227276061\n"
       ]
      },
      {
       "output_type": "stream",
       "stream": "stdout",
       "text": [
        "macro f1 scores = [ 0.86775817  0.90921476  0.89756585  0.87728807],0.887956713479\n"
       ]
      },
      {
       "output_type": "stream",
       "stream": "stdout",
       "text": [
        "weighted average precision scores = [ 0.87352279  0.91073094  0.90387737  0.88172627],0.892464341972\n"
       ]
      },
      {
       "output_type": "stream",
       "stream": "stdout",
       "text": [
        "weighted average recall scores = [ 0.87352279  0.91073094  0.90387737  0.88172627],0.892464341972\n"
       ]
      },
      {
       "output_type": "stream",
       "stream": "stdout",
       "text": [
        "weighted f1 scores = [ 0.87225291  0.91051373  0.9017276   0.87998539],0.89111990649\n",
        "dimensionality: 167750"
       ]
      },
      {
       "output_type": "stream",
       "stream": "stdout",
       "text": [
        "\n",
        "density: 0.538737704918\n",
        "alt.atheism jaeger,enviroleague,wrote,mangoe,wwc,dogma,tammy,scouts,wingate,motto,asimov,thoughts,cobb,benedikt,islamic,rushdie,mathew,atheism,keith,atheists\n",
        "comp.graphics targa,visualization,vesa,mpeg,sphere,polygons,surface,photoshop,images,tiff,animation,polygon,hacker,image,cview,siggraph,3do,pov,3d,graphics\n",
        "comp.os.ms-windows.misc wfw,progman,doublespace,winfax,nt,smartdrv,font,file,risc,ini,winqvt,bmp,ax,win,challenge,supporters,microsoft,win3,cica,windows\n",
        "comp.sys.ibm.pc.hardware"
       ]
      },
      {
       "output_type": "stream",
       "stream": "stdout",
       "text": [
        " pentium,controller,compaq,mitsumi,486,nanao,isa,winmarks,motherboards,motherboard,cmos,irq,pc,jumpers,ide,vlb,modems,fastmicro,gateway,bios\n",
        "comp.sys.mac.hardware 040,deskwriter,monitors,68040,iici,floptical,bmug,pb,adb,lciii,iisi,se,centris,lc,duo,quadra,powerbook,macs,apple,mac\n",
        "comp.windows.x escaped,clients,xv,twm,xdm,consortium,openwindows,r5,unsubscribe,imake,xfree86,x11,widgets,xlib,window,widget,server,xterm,x11r5,motif\n",
        "misc.forsale includes,00,condition,calculator,excellent,summer,snes,2190,obo,pay,camera,call,interested,asking,sell,wanted,offer,shipping,forsale,sale\n",
        "rec.autos dumbest,mustang,nissan,diesels,integra,honda,vw,v6,opel,autos,warning,toyota,oil,automotive,auto,dealer,geico,ford,cars,car\n",
        "rec.motorcycles"
       ]
      },
      {
       "output_type": "stream",
       "stream": "stdout",
       "text": [
        " biker,dog,ama,moa,cop,infante,ranck,yamaha,kawasaki,harley,helmet,bmw,rider,ride,motorcycles,motorcycle,riding,bikes,bike,dod\n",
        "rec.sport.baseball uniforms,mattingly,runs,nl,yankee,fenway,mets,dodgers,morris,yankees,stadium,ball,tigers,pitcher,braves,cubs,giants,sox,phillies,baseball\n",
        "rec.sport.hockey season,cherry,buffalo,puck,detroit,coach,wc,goalie,cup,pens,penguins,playoffs,leafs,wings,sharks,espn,bruins,playoff,nhl,hockey\n",
        "sci.crypt rsa,encrypted,cipher,privacy,sternlight,denning,wiretap,tempest,secret,crypt,key,pgp,security,nsa,cryptography,des,crypto,encryption,tapped,clipper\n",
        "sci.electronics exploding,motorola,pcb,adcom,tv,noise,spice,circuits,shack,protected,solvent,scope,2600,rf,8051,voltage,copy,ic,electronics,circuit\n",
        "sci.med"
       ]
      },
      {
       "output_type": "stream",
       "stream": "stdout",
       "text": [
        " foods,eye,diet,fever,syndrome,skin,ear,health,treatment,allergic,patient,medicine,cancer,krillean,msg,medical,med,disease,photography,doctor\n",
        "sci.space funding,rockets,henry,astronomy,astro,satellite,bursters,jennise,dc,nasa,planets,mars,spacecraft,pat,launch,orbit,sky,shuttle,moon,space\n",
        "soc.religion.christian prayer,james,fisher,hell,catholic,christianity,arrogance,christians,christ,1993,kiefer,sin,easter,daily,geneva,church,verse,rutgers,athos,clh\n",
        "talk.politics.guns texas,cdt,hunting,weaver,handgun,weapon,militia,burns,firearm,fbi,nra,quisling,weapons,dividian,firearms,waco,ranch,atf,gun,guns\n",
        "talk.politics.mideast bosnia,holocaust,hamas,hezbollah,uva,zionism,arabs,argic,adl,serdar,palestinian,andi,armenia,jews,armenians,arab,armenian,turkish,israeli,israel\n",
        "talk.politics.misc"
       ]
      },
      {
       "output_type": "stream",
       "stream": "stdout",
       "text": [
        " ipser,deficit,clinton,president,kinsey,pyotr,health,jobs,mow,garrett,teel,income,drugs,sexual,optilink,clayton,drieux,gay,cramer,kaldis\n",
        "talk.religion.misc sabin,forming,royalroads,rawlins,sword,tyre,koresh,thou,christian,weiss,666,brian,2000,hudson,beast,rosicrucian,abortion,burden,mormons,promise\n",
        "ng20_raw_unigrams  -->  precision  0.890609114044 recall  0.887227276061 f1  0.887956713479\n",
        "loaded (1605094) terms"
       ]
      },
      {
       "output_type": "stream",
       "stream": "stdout",
       "text": [
        "\n",
        "vectorizing done, 1605094 terms vocabulary tokenized"
       ]
      },
      {
       "output_type": "stream",
       "stream": "stdout",
       "text": [
        "\n",
        "vectorizing done, 1605094 terms vocabulary tokenized"
       ]
      },
      {
       "output_type": "stream",
       "stream": "stdout",
       "text": [
        "\n"
       ]
      },
      {
       "output_type": "stream",
       "stream": "stdout",
       "text": [
        "accuracy scores = [ 0.88059385  0.91698514  0.9119898   0.88699723],0.899141504198\n"
       ]
      },
      {
       "output_type": "stream",
       "stream": "stdout",
       "text": [
        "macro precision scores = [ 0.88282548  0.91820384  0.91428857  0.88820861],0.900881625985\n"
       ]
      },
      {
       "output_type": "stream",
       "stream": "stdout",
       "text": [
        "macro recall scores = [ 0.8727468   0.91530089  0.90628907  0.88469958],0.894759084689\n"
       ]
      },
      {
       "output_type": "stream",
       "stream": "stdout",
       "text": [
        "macro f1 scores = [ 0.87444605  0.91638493  0.90809535  0.88518842],0.896028687993\n"
       ]
      },
      {
       "output_type": "stream",
       "stream": "stdout",
       "text": [
        "weighted average precision scores = [ 0.88254095  0.91764827  0.91515456  0.88984928],0.901298264663\n"
       ]
      },
      {
       "output_type": "stream",
       "stream": "stdout",
       "text": [
        "weighted average recall scores = [ 0.88254095  0.91764827  0.91515456  0.88984928],0.901298264663\n"
       ]
      },
      {
       "output_type": "stream",
       "stream": "stdout",
       "text": [
        "weighted f1 scores = [ 0.87903985  0.91698506  0.91166597  0.88719903],0.898722477684\n",
        "dimensionality: 1605094"
       ]
      },
      {
       "output_type": "stream",
       "stream": "stdout",
       "text": [
        "\n",
        "density: 0.513330496532"
       ]
      },
      {
       "output_type": "stream",
       "stream": "stdout",
       "text": [
        "\n",
        "alt.atheism"
       ]
      },
      {
       "output_type": "stream",
       "stream": "stdout",
       "text": [
        " wingate,charley,thoughts,tammy,asimov,jaeger,atheist,cobb,motto,benedikt,islam,political atheists,religion,re political,islamic,mathew,rushdie,keith,atheism,atheists\n",
        "comp.graphics"
       ]
      },
      {
       "output_type": "stream",
       "stream": "stdout",
       "text": [
        " sphere,mpeg,surface,points,viewer,hacker,vesa,format,gif,cview,animation,siggraph,polygon,images,3do,tiff,pov,image,3d,graphics\n",
        "comp.os.ms-windows.misc"
       ]
      },
      {
       "output_type": "stream",
       "stream": "stdout",
       "text": [
        " supporters,re challenge,challenge,microsoft supporters,ini,bmp,ms,challenge to,manager,nt,driver,program manager,font,file,for windows,win3,win,cica,microsoft,windows\n",
        "comp.sys.ibm.pc.hardware"
       ]
      },
      {
       "output_type": "stream",
       "stream": "stdout",
       "text": [
        " port,settings,cmos,cpu,monitors,monitor,modems,scsi,nanao,isa,card,irq,486,pc,vlb,controller,motherboard,ide,gateway,bios\n",
        "comp.sys.mac.hardware"
       ]
      },
      {
       "output_type": "stream",
       "stream": "stdout",
       "text": [
        " monitors,floptical,c650,610,iici,simms,pb,se 30,adb,lciii,se,iisi,macs,lc,duo,quadra,centris,powerbook,apple,mac\n",
        "comp.windows.x"
       ]
      },
      {
       "output_type": "stream",
       "stream": "stdout",
       "text": [
        " imake,the server,xv,lib,r5,unsubscribe,openwindows,sun,application,display,xdm,x11,widgets,xlib,widget,server,x11r5,xterm,window,motif\n",
        "misc.forsale"
       ]
      },
      {
       "output_type": "stream",
       "stream": "stdout",
       "text": [
        " cd,to sell,excellent,price,camera,if interested,interested,call,obo,condition,00,sell,asking,wanted,subject wanted,offer,shipping,forsale,for sale,sale\n",
        "rec.autos"
       ]
      },
      {
       "output_type": "stream",
       "stream": "stdout",
       "text": [
        " mr2,tires,vw,honda,automotive,re warning,integra,warning please,the car,v6,nissan,geico,auto,dealer,toyota,oil,engine,ford,cars,car\n",
        "rec.motorcycles"
       ]
      },
      {
       "output_type": "stream",
       "stream": "stdout",
       "text": [
        " cop,kawasaki,chain,moa,harley,honda,ama,yamaha,dog,the bike,helmet,rider,motorcycles,bmw,ride,motorcycle,riding,bikes,bike,dod\n",
        "rec.sport.baseball"
       ]
      },
      {
       "output_type": "stream",
       "stream": "stdout",
       "text": [
        " hitter,morris,mets,yankees,players,tigers,yankee,stadium,runs,stats,pitching,hit,giants,ball,braves,pitcher,sox,cubs,phillies,baseball\n",
        "rec.sport.hockey"
       ]
      },
      {
       "output_type": "stream",
       "stream": "stdout",
       "text": [
        " sharks,the nhl,goalie,detroit,buffalo,coach,cup,devils,penguins,pens,playoffs,wings,leafs,bruins,team,espn,game,playoff,nhl,hockey\n",
        "sci.crypt"
       ]
      },
      {
       "output_type": "stream",
       "stream": "stdout",
       "text": [
        " wiretap,once tapped,encrypted,privacy,re once,tapped,clipper chip,escrow,secret,algorithm,chip,cryptography,security,pgp,nsa,des,crypto,key,encryption,clipper\n",
        "sci.electronics"
       ]
      },
      {
       "output_type": "stream",
       "stream": "stdout",
       "text": [
        " wire,disks copy,design,the disks,power,2600,copy protected,ground,noise,motorola,scope,rf,8051,circuits,tv,copy,ic,voltage,electronics,circuit\n",
        "sci.med"
       ]
      },
      {
       "output_type": "stream",
       "stream": "stdout",
       "text": [
        " yeast,ear,allergic,diet,krillean photography,pain,effects,krillean,skin,patient,health,medicine,med,treatment,photography,cancer,msg,disease,medical,doctor\n",
        "sci.space"
       ]
      },
      {
       "output_type": "stream",
       "stream": "stdout",
       "text": [
        " mission,astronomy,flight,solar,planets,re space,mars,henry,satellite,dc,the moon,spacecraft,sky,nasa,pat,launch,shuttle,moon,orbit,space\n",
        "soc.religion.christian"
       ]
      },
      {
       "output_type": "stream",
       "stream": "stdout",
       "text": [
        " article may,hell,article apr,easter,catholic,god,christian,christianity,subject daily,daily verse,christ,sin,verse,christians,rutgers,athos,athos rutgers,rutgers edu,church,clh\n",
        "talk.politics.guns"
       ]
      },
      {
       "output_type": "stream",
       "stream": "stdout",
       "text": [
        " burns,dividian ranch,burns dividian,dividian,militia,handgun,firearm,atf burns,weapon,re atf,ranch,nra,batf,fbi,firearms,weapons,atf,waco,guns,gun\n",
        "talk.politics.mideast"
       ]
      },
      {
       "output_type": "stream",
       "stream": "stdout",
       "text": [
        " racism,argic,serdar,adl,iran,muslim,muslims,bosnia,turkey,palestinian,jewish,arabs,armenia,armenian,armenians,turkish,arab,jews,israeli,israel\n",
        "talk.politics.misc"
       ]
      },
      {
       "output_type": "stream",
       "stream": "stdout",
       "text": [
        " optilink com,isc br,new study,garrett,re top,jobs,drieux,income,health,president,tax,sexual,clayton,optilink,drugs,top ten,clinton,gay,kaldis,cramer\n",
        "talk.religion.misc"
       ]
      },
      {
       "output_type": "stream",
       "stream": "stdout",
       "text": [
        " weiss,re message,president how,promise,objective,after 2000,re after,thou,beast,hudson,tyre,brian,mormons,promise in,93 god,abortion,rosicrucian,koresh,christian,god promise\n",
        "ng20_raw_bigrams  -->  precision  0.900881625985 recall  0.894759084689 f1  0.896028687993\n",
        "loaded (160532) terms"
       ]
      },
      {
       "output_type": "stream",
       "stream": "stdout",
       "text": [
        "\n",
        "vectorizing done, 160532 terms vocabulary tokenized"
       ]
      },
      {
       "output_type": "stream",
       "stream": "stdout",
       "text": [
        "\n",
        "vectorizing done, 160532 terms vocabulary tokenized"
       ]
      },
      {
       "output_type": "stream",
       "stream": "stdout",
       "text": [
        "\n"
       ]
      },
      {
       "output_type": "stream",
       "stream": "stdout",
       "text": [
        "accuracy scores = [ 0.86723224  0.9059448   0.89880952  0.87359013],0.886394171302\n"
       ]
      },
      {
       "output_type": "stream",
       "stream": "stdout",
       "text": [
        "macro precision scores = [ 0.86523725  0.90551679  0.89722803  0.87229458],0.885069161927\n"
       ]
      },
      {
       "output_type": "stream",
       "stream": "stdout",
       "text": [
        "macro recall scores = [ 0.85986815  0.90402588  0.89303195  0.87060157],0.881881887807\n"
       ]
      },
      {
       "output_type": "stream",
       "stream": "stdout",
       "text": [
        "macro f1 scores = [ 0.86101246  0.9046377   0.8938574   0.8705903 ],0.882524466893\n"
       ]
      },
      {
       "output_type": "stream",
       "stream": "stdout",
       "text": [
        "weighted average precision scores = [ 0.8669441   0.9061607   0.89955362  0.87560639],0.887066200811\n"
       ]
      },
      {
       "output_type": "stream",
       "stream": "stdout",
       "text": [
        "weighted average recall scores = [ 0.8669441   0.9061607   0.89955362  0.87560639],0.887066200811\n"
       ]
      },
      {
       "output_type": "stream",
       "stream": "stdout",
       "text": [
        "weighted f1 scores = [ 0.86590068  0.90592965  0.89807398  0.87376499],0.885917327079\n",
        "dimensionality: 160532"
       ]
      },
      {
       "output_type": "stream",
       "stream": "stdout",
       "text": [
        "\n",
        "density: 0.514586499888\n",
        "alt.atheism charley,kmr4,wrote,mangoe,enviroleague,dogma,wwc,tammy,asimov,wingate,motto,scout,benedikt,cobb,islamic,rushdie,mathew,atheism,atheist,keith\n",
        "comp.graphics targa,visualization,viewer,mpeg,algorithm,sphere,tiff,photoshop,surface,animation,fractal,cview,hacker,siggraph,polygon,image,3do,pov,3d,graphic\n",
        "comp.os.ms-windows.misc swap,wfw,winqvt,smartdrv,driver,doublespace,setup,risc,nt,file,bmp,ini,ax,win,challenge,supporter,microsoft,win3,cica,window\n",
        "comp.sys.ibm.pc.hardware"
       ]
      },
      {
       "output_type": "stream",
       "stream": "stdout",
       "text": [
        " modem,gosh,mitsumi,laserjet,winmarks,connect,nanao,486,cmos,motherboards,ide,motherboard,isa,irq,pc,vlb,fastmicro,jumper,gateway,bios\n",
        "comp.sys.mac.hardware c650,iifx,68040,040,pb,iici,deskwriter,floptical,bmug,adb,iisi,lciii,se,quadra,lc,centris,duo,powerbook,apple,mac\n",
        "comp.windows.x event,escaped,display,xv,xwindows,xdm,twm,r5,imake,consortium,unsubscribe,openwindows,xfree86,x11,xlib,server,widget,xterm,x11r5,motif\n",
        "misc.forsale 00,includes,excellent,deal,cd,summer,snes,2190,pay,obo,camera,call,sell,interested,asking,wanted,offer,shipping,forsale,sale\n",
        "rec.autos truck,sunroof,nissan,89,vw,honda,integra,v6,diesel,mustang,opel,toyota,dealer,automotive,oil,warning,geico,ford,auto,car\n",
        "rec.motorcycles"
       ]
      },
      {
       "output_type": "stream",
       "stream": "stdout",
       "text": [
        " kreme,biker,cage,ama,moa,cager,infante,yamaha,ranck,harley,kawasaki,dog,helmet,bmw,ride,rider,riding,motorcycle,bike,dod\n",
        "rec.sport.baseball jay,uniform,mattingly,hitter,mets,nl,fenway,stadium,tiger,ball,morris,dodger,brave,pitcher,giant,sox,cub,yankee,phillies,baseball\n",
        "rec.sport.hockey islander,team,coach,buffalo,detroit,wc,puck,pen,cup,goal,leaf,wing,shark,penguin,goalie,espn,bruin,playoff,nhl,hockey\n",
        "sci.crypt rsa,encrypted,privacy,denning,sternlight,de,tempest,secret,crypt,cipher,key,pgp,security,wiretap,nsa,cryptography,crypto,encryption,tapped,clipper\n",
        "sci.electronics "
       ]
      },
      {
       "output_type": "stream",
       "stream": "stdout",
       "text": [
        "spice,resistor,noise,tv,pcb,shack,exploding,adcom,led,protected,rf,8051,2600,voltage,solvent,scope,ic,copy,electronics,circuit\n",
        "sci.med syndrome,antibiotic,skin,health,cure,exercise,migraine,allergic,medicine,ear,treatment,cancer,patient,medical,msg,krillean,med,disease,photography,doctor\n",
        "sci.space funding,flight,astro,henry,dc,burster,mar,jennise,nasa,spacecraft,satellite,rocket,pat,planet,sky,launch,orbit,shuttle,moon,space\n",
        "soc.religion.christian fisher,james,christianity,hell,catholic,christ,christian,arrogance,prayer,1993,easter,kiefer,geneva,sin,daily,church,verse,rutgers,athos,clh\n",
        "talk.politics.guns"
       ]
      },
      {
       "output_type": "stream",
       "stream": "stdout",
       "text": [
        " gritz,bd,regulated,hunting,weaver,cdt,militia,liberty,burn,fbi,nra,quisling,handgun,dividian,waco,weapon,ranch,firearm,atf,gun\n",
        "talk.politics.mideast racism,holocaust,hezbollah,iran,hamas,uva,argic,zionism,armenia,muslim,andi,serdar,adl,jew,palestinian,turkish,arab,armenian,israeli,israel\n",
        "talk.politics.misc verdict,pyotr,kinsey,initiative,hostage,president,health,drug,state,mow,income,sexual,garrett,teel,optilink,gay,clayton,drieux,cramer,kaldis\n",
        "talk.religion.misc biblical,happened,royalroads,sabin,rawlins,koresh,forming,tyre,thou,wei,brian,abortion,666,mormon,hudson,beast,2000,burden,rosicrucian,promise\n",
        "ng20_raw_lemmas_unigrams_df1_tf1  -->  precision  0.885069161927 recall  0.881881887807 f1  0.882524466893\n",
        "loaded (1535281) terms"
       ]
      },
      {
       "output_type": "stream",
       "stream": "stdout",
       "text": [
        "\n",
        "vectorizing done, 1535281 terms vocabulary tokenized"
       ]
      },
      {
       "output_type": "stream",
       "stream": "stdout",
       "text": [
        "\n",
        "vectorizing done, 1535281 terms vocabulary tokenized"
       ]
      },
      {
       "output_type": "stream",
       "stream": "stdout",
       "text": [
        "\n"
       ]
      },
      {
       "output_type": "stream",
       "stream": "stdout",
       "text": [
        "accuracy scores = [ 0.87974549  0.91613588  0.91007653  0.88721004],0.898291987378\n"
       ]
      },
      {
       "output_type": "stream",
       "stream": "stdout",
       "text": [
        "macro precision scores = [ 0.88152842  0.91717604  0.91058973  0.88837424],0.899417108461\n"
       ]
      },
      {
       "output_type": "stream",
       "stream": "stdout",
       "text": [
        "macro recall scores = [ 0.87191732  0.9142166   0.90414675  0.88498515],0.893816455452\n"
       ]
      },
      {
       "output_type": "stream",
       "stream": "stdout",
       "text": [
        "macro f1 scores = [ 0.87362308  0.91534767  0.90552487  0.88547734],0.894993241392\n"
       ]
      },
      {
       "output_type": "stream",
       "stream": "stdout",
       "text": [
        "weighted average precision scores = [ 0.88140178  0.91673146  0.91220099  0.88989006],0.900056072904\n"
       ]
      },
      {
       "output_type": "stream",
       "stream": "stdout",
       "text": [
        "weighted average recall scores = [ 0.88140178  0.91673146  0.91220099  0.88989006],0.900056072904\n"
       ]
      },
      {
       "output_type": "stream",
       "stream": "stdout",
       "text": [
        "weighted f1 scores = [ 0.87828001  0.91612309  0.90954059  0.88739941],0.897835773072\n",
        "dimensionality: 1535281"
       ]
      },
      {
       "output_type": "stream",
       "stream": "stdout",
       "text": [
        "\n",
        "density: 0.498581823132"
       ]
      },
      {
       "output_type": "stream",
       "stream": "stdout",
       "text": [
        "\n",
        "alt.atheism"
       ]
      },
      {
       "output_type": "stream",
       "stream": "stdout",
       "text": [
        " bobby,charley,wingate,asimov,tammy,jaeger,cobb,benedikt,moral,motto,islam,political atheist,re political,religion,islamic,mathew,rushdie,keith,atheism,atheist\n",
        "comp.graphics"
       ]
      },
      {
       "output_type": "stream",
       "stream": "stdout",
       "text": [
        " mpeg,point,algorithm,vesa,hacker,gif,fractal,viewer,surface,cview,format,siggraph,animation,3do,tiff,polygon,pov,image,3d,graphic\n",
        "comp.os.ms-windows.misc"
       ]
      },
      {
       "output_type": "stream",
       "stream": "stdout",
       "text": [
        " challenge,re challenge,microsoft supporter,bmp,ax ax,ini,challenge to,m,font,program manager,in window,nt,win,driver,win3,file,cica,for window,microsoft,window\n",
        "comp.sys.ibm.pc.hardware"
       ]
      },
      {
       "output_type": "stream",
       "stream": "stdout",
       "text": [
        " port,cpu,cmos,drive,nanao,scsi,isa,modem,card,irq,jumper,486,monitor,vlb,controller,pc,motherboard,ide,gateway,bios\n",
        "comp.sys.mac.hardware"
       ]
      },
      {
       "output_type": "stream",
       "stream": "stdout",
       "text": [
        " 040,c650,pb,floptical,610,iici,simms,se 30,monitor,adb,lciii,se,iisi,lc,duo,quadra,centris,powerbook,apple,mac\n",
        "comp.windows.x"
       ]
      },
      {
       "output_type": "stream",
       "stream": "stdout",
       "text": [
        " r5,window,lib,xv,unsubscribe,openwindows,application,xdm,event,sun,client,display,window manager,x11,xlib,server,xterm,x11r5,widget,motif\n",
        "misc.forsale"
       ]
      },
      {
       "output_type": "stream",
       "stream": "stdout",
       "text": [
        " excellent,to sell,lens,call,camera,condition,interested,if interested,cd,obo,00,sell,asking,wanted,subject wanted,offer,shipping,forsale,sale,for sale\n",
        "rec.autos"
       ]
      },
      {
       "output_type": "stream",
       "stream": "stdout",
       "text": [
        " tire,integra,re warning,automotive,diesel,warning please,honda,the car,mustang,wagon,v6,nissan,geico,dealer,toyota,oil,engine,auto,ford,car\n",
        "rec.motorcycles"
       ]
      },
      {
       "output_type": "stream",
       "stream": "stdout",
       "text": [
        " ranck,kawasaki,chain,lock,moa,harley,cage,honda,yamaha,ama,the bike,dog,helmet,bmw,rider,ride,riding,motorcycle,dod,bike\n",
        "rec.sport.baseball"
       ]
      },
      {
       "output_type": "stream",
       "stream": "stdout",
       "text": [
        " player,mets,pitch,morris,stadium,pitching,jay,tiger,stats,giant,hitter,brave,ball,hit,sox,cub,phillies,pitcher,yankee,baseball\n",
        "rec.sport.hockey"
       ]
      },
      {
       "output_type": "stream",
       "stream": "stdout",
       "text": [
        " the nhl,cup,devil,buffalo,detroit,pen,coach,penguin,wing,player,leaf,goalie,goal,bruin,game,espn,team,playoff,nhl,hockey\n",
        "sci.crypt"
       ]
      },
      {
       "output_type": "stream",
       "stream": "stdout",
       "text": [
        " once tapped,escrow,encrypted,re once,privacy,tapped,clipper chip,secret,algorithm,de,chip,wiretap,cryptography,security,pgp,nsa,crypto,key,encryption,clipper\n",
        "sci.electronics"
       ]
      },
      {
       "output_type": "stream",
       "stream": "stdout",
       "text": [
        " 2600,wire,amp,noise,copy protected,solvent,motorola,rf,detector,resistor,8051,battery,led,tv,copy,scope,ic,voltage,electronics,circuit\n",
        "sci.med"
       ]
      },
      {
       "output_type": "stream",
       "stream": "stdout",
       "text": [
        " antibiotic,skin,pain,krillean,ear,migraine,health,infection,effect,medicine,med,food,cancer,treatment,photography,patient,msg,medical,disease,doctor\n",
        "sci.space"
       ]
      },
      {
       "output_type": "stream",
       "stream": "stdout",
       "text": [
        " gamma ray,mar,re space,dc,henry,mission,flight,the moon,rocket,spacecraft,satellite,planet,sky,nasa,pat,launch,moon,shuttle,orbit,space\n",
        "soc.religion.christian"
       ]
      },
      {
       "output_type": "stream",
       "stream": "stdout",
       "text": [
        " article may,1993,god,easter,article apr,hell,christianity,catholic,christ,daily verse,subject daily,verse,rutgers,sin,athos rutgers,athos,rutgers edu,christian,church,clh\n",
        "talk.politics.guns"
       ]
      },
      {
       "output_type": "stream",
       "stream": "stdout",
       "text": [
        " in waco,rifle,re batf,militia,dividian ranch,burn,burn dividian,dividian,atf burn,nra,re atf,batf,ranch,handgun,fbi,atf,waco,firearm,weapon,gun\n",
        "talk.politics.mideast"
       ]
      },
      {
       "output_type": "stream",
       "stream": "stdout",
       "text": [
        " serb,andi,argic,racism,serdar,adl,iran,turk,turkey,bosnia,armenia,jewish,palestinian,muslim,turkish,jew,arab,armenian,israeli,israel\n",
        "talk.politics.misc"
       ]
      },
      {
       "output_type": "stream",
       "stream": "stdout",
       "text": [
        " child,garrett,re top,american,party,income,drieux,health,state,sexual,clayton,president,optilink,top ten,drug,tax,clinton,kaldis,gay,cramer\n",
        "talk.religion.misc"
       ]
      },
      {
       "output_type": "stream",
       "stream": "stdout",
       "text": [
        " objective,re message,president how,morality,cult,after 2000,beast,thou,re after,hudson,tyre,abortion,brian,promise in,93 god,christian,koresh,mormon,god promise,rosicrucian\n",
        "ng20_raw_lemmas_bigrams_df1_tf1  -->  precision  0.899417108461 recall  0.893816455452 f1  0.894993241392\n",
        "loaded (214720) terms"
       ]
      },
      {
       "output_type": "stream",
       "stream": "stdout",
       "text": [
        "\n",
        "done loading vocabulary\n",
        "vectorizing done, 214720 terms vocabulary tokenized"
       ]
      },
      {
       "output_type": "stream",
       "stream": "stdout",
       "text": [
        "\n",
        "vectorizing done, 214720 terms vocabulary tokenized"
       ]
      },
      {
       "output_type": "stream",
       "stream": "stdout",
       "text": [
        "\n"
       ]
      },
      {
       "output_type": "stream",
       "stream": "stdout",
       "text": [
        "accuracy scores = [ 0.87104984  0.90870488  0.90284864  0.87827197],0.890218834094\n"
       ]
      },
      {
       "output_type": "stream",
       "stream": "stdout",
       "text": [
        "macro precision scores = [ 0.87015525  0.90851656  0.9013126   0.87761814],0.88940063769\n"
       ]
      },
      {
       "output_type": "stream",
       "stream": "stdout",
       "text": [
        "macro recall scores = [ 0.86356043  0.90675053  0.8971249   0.87584767],0.885820882273\n"
       ]
      },
      {
       "output_type": "stream",
       "stream": "stdout",
       "text": [
        "macro f1 scores = [ 0.86494377  0.9074713   0.89795427  0.87588802],0.886564340621\n"
       ]
      },
      {
       "output_type": "stream",
       "stream": "stdout",
       "text": [
        "weighted average precision scores = [ 0.87139263  0.90911276  0.90403933  0.88028586],0.891207643348\n"
       ]
      },
      {
       "output_type": "stream",
       "stream": "stdout",
       "text": [
        "weighted average recall scores = [ 0.87139263  0.90911276  0.90403933  0.88028586],0.891207643348\n"
       ]
      },
      {
       "output_type": "stream",
       "stream": "stdout",
       "text": [
        "weighted f1 scores = [ 0.86974115  0.90875759  0.90232193  0.87846691],0.889821892208\n",
        "dimensionality: 214720"
       ]
      },
      {
       "output_type": "stream",
       "stream": "stdout",
       "text": [
        "\n",
        "density: 0.504104415052\n",
        "alt.atheism liar,mangoe,dogma,enviroleague,jaeger,charley,scout,tammy,wwc,asimov,motto,wingate,cobb,benedikt,islamic,rushdie,mathew,atheism,keith,atheist\n",
        "comp.graphics targa,visualization,photoshop,sphere,mpeg,algorithm,hacker,surface,viewer,animation,tiff,fractal,cview,polygon,siggraph,image,3do,pov,3d,graphic\n",
        "comp.os.ms-windows.misc"
       ]
      },
      {
       "output_type": "stream",
       "stream": "stdout",
       "text": [
        " doublespace,m,smartdrv,risc,winqvt,setup,nt,driver,ini,bmp,file,program manager,win,ax,challenge,supporter,win3,cica,microsoft,window\n",
        "comp.sys.ibm.pc.hardware mitsumi,compaq,winmarks,connect,motherboards,modem,nanao,monitor,486,isa,irq,cmos,motherboard,ide,fastmicro,vlb,pc,jumper,gateway,bios\n",
        "comp.sys.mac.hardware iifx,macweek,040,on 24,deskwriter,iici,floptical,pb,bmug,adb,lciii,se,iisi,centris,quadra,duo,lc,powerbook,apple,mac\n",
        "comp.windows.x pixmap,event,xwindows,display,xv,xdm,twm,r5,imake,openwindows,unsubscribe,xfree86,x11,window manager,xlib,server,widget,xterm,x11r5,motif\n",
        "misc.forsale"
       ]
      },
      {
       "output_type": "stream",
       "stream": "stdout",
       "text": [
        " excellent,includes,deal,2190,snes,summer,cd,pay,obo,camera,call,asking,interested,sell,wanted,offer,sale,shipping,for sale,forsale\n",
        "rec.autos truck,dumbest,nissan,vw,sunroof,honda,opel,v6,integra,diesel,mustang,dealer,toyota,automotive,warning,oil,geico,ford,auto,car\n",
        "rec.motorcycles cage,ducati,cager,infante,moa,ama,ranck,yamaha,the bike,kawasaki,harley,dog,helmet,bmw,ride,rider,riding,motorcycle,bike,dod\n",
        "rec.sport.baseball stats,uniform,mets,hit,morris,nl,hitter,fenway,tiger,stadium,dodger,ball,brave,sox,giant,pitcher,cub,yankee,phillies,baseball\n",
        "rec.sport.hockey"
       ]
      },
      {
       "output_type": "stream",
       "stream": "stdout",
       "text": [
        " cup,islander,octopus,coach,wc,buffalo,detroit,team,leaf,wing,puck,penguin,shark,goal,goalie,espn,bruin,playoff,nhl,hockey\n",
        "sci.crypt encrypted,denning,sternlight,privacy,de,secret,tempest,cipher,crypt,no good,key,pgp,wiretap,security,nsa,cryptography,tapped,crypto,encryption,clipper\n",
        "sci.electronics dsp,motorola,spice,pcb,tv,adcom,disk copy,2600,resistor,led,rf,copy protected,copy,solvent,8051,voltage,ic,scope,electronics,circuit\n",
        "sci.med syndrome,physician,antibiotic,exercise,food,health,migraine,allergic,medicine,ear,treatment,cancer,patient,med,krillean,msg,medical,disease,photography,doctor\n",
        "sci.space"
       ]
      },
      {
       "output_type": "stream",
       "stream": "stdout",
       "text": [
        " henry,astronomy,the moon,flight,gamma ray,dc,jennise,mar,nasa,rocket,spacecraft,satellite,sky,pat,planet,moon,launch,orbit,shuttle,space\n",
        "soc.religion.christian translation,james,prayer,christianity,arrogance,catholic,hell,easter,christ,kiefer,geneva,1993,christian,sin,daily,church,verse,rutgers,athos,clh\n",
        "talk.politics.guns cnn,weaver,bd,hunting,texas,liberty,cdt,militia,nra,quisling,fbi,burn,handgun,dividian,waco,weapon,ranch,firearm,atf,gun\n",
        "talk.politics.mideast jerusalem,iran,hamas,hezbollah,racism,serdar,uva,argic,zionism,armenia,andi,adl,muslim,palestinian,jew,turkish,arab,armenian,israeli,israel\n",
        "talk.politics.misc"
       ]
      },
      {
       "output_type": "stream",
       "stream": "stdout",
       "text": [
        " deficit,kinsey,initiative,income,hostage,tax,clinton,mow,state,teel,sexual,drug,garrett,optilink,clayton,drieux,gay,top ten,cramer,kaldis\n",
        "talk.religion.misc 2000,robert wei,rawlins,new age,666,koresh,new religion,beast,who next,tyre,mormon,thou,2000 year,mr president,hudson,brian,abortion,rosicrucian,burden,promise\n",
        "ng20_raw_lemmas_unigrams_df1_tf1 ^ ng20_raw_lemmas_bigrams_df1_tf1 ^ wiki_bigrams  -->  precision  0.88940063769 recall  0.885820882273 f1  0.886564340621\n",
        "loaded (54188) terms"
       ]
      },
      {
       "output_type": "stream",
       "stream": "stdout",
       "text": [
        "\n",
        "extended to (72897) terms"
       ]
      },
      {
       "output_type": "stream",
       "stream": "stdout",
       "text": [
        "\n",
        "done loading vocabulary\n",
        "vectorizing done, 72897 terms vocabulary tokenized"
       ]
      },
      {
       "output_type": "stream",
       "stream": "stdout",
       "text": [
        "\n",
        "vectorizing done, 72897 terms vocabulary tokenized"
       ]
      },
      {
       "output_type": "stream",
       "stream": "stdout",
       "text": [
        "\n"
       ]
      },
      {
       "output_type": "stream",
       "stream": "stdout",
       "text": [
        "accuracy scores = [ 0.85196182  0.88917197  0.88201531  0.85635242],0.869875380005\n"
       ]
      },
      {
       "output_type": "stream",
       "stream": "stdout",
       "text": [
        "macro precision scores = [ 0.85037697  0.889015    0.87949559  0.85514317],0.86850768279\n"
       ]
      },
      {
       "output_type": "stream",
       "stream": "stdout",
       "text": [
        "macro recall scores = [ 0.84455514  0.88686342  0.87559777  0.85347289],0.865122303542\n"
       ]
      },
      {
       "output_type": "stream",
       "stream": "stdout",
       "text": [
        "macro f1 scores = [ 0.84584023  0.88771009  0.87617711  0.85340613],0.86578338904\n"
       ]
      },
      {
       "output_type": "stream",
       "stream": "stdout",
       "text": [
        "weighted average precision scores = [ 0.85252923  0.88963326  0.88274609  0.85880367],0.870928064824\n"
       ]
      },
      {
       "output_type": "stream",
       "stream": "stdout",
       "text": [
        "weighted average recall scores = [ 0.85252923  0.88963326  0.88274609  0.85880367],0.870928064824\n"
       ]
      },
      {
       "output_type": "stream",
       "stream": "stdout",
       "text": [
        "weighted f1 scores = [ 0.85091001  0.88919171  0.88118663  0.856695  ],0.869495838143\n",
        "dimensionality: 72897"
       ]
      },
      {
       "output_type": "stream",
       "stream": "stdout",
       "text": [
        "\n",
        "density: 0.468886236745\n",
        "alt.atheism deletion,dogma,cobb,vice,bake,scout,mantis,bobby,motto,liar,jon,tammy,gregg,batman,islamic,charley,rushdie,atheism,atheist,keith\n",
        "comp.graphics visualization,point,algorithm,hacker,sphere,mpeg,photoshop,surface,animation,targa,tiff,fractal,rumour,polygon,viewer,image,siggraph,pov,3d,graphic\n",
        "comp.os.ms-windows.misc character,swap file,logo,download,canon,m,file,risc,bmp,driver,win,setup,nt,ini,ax,program manager,challenge,supporter,microsoft,window\n",
        "comp.sys.ibm.pc.hardware specification,interrupt,compaq,59,irq,pentium,wally,ide,isa,trinitron,17,connect,motherboard,jumper,monitor,vlb,pc,cmos,gateway,bios\n",
        "comp.sys.mac.hardware cyclone,th,dead mouse,ethernet,iifx,x86,68040,iici,on 24,pb,se,adb,centris,powerbook,duo,quadra,iisi,lc,apple,mac\n",
        "comp.windows.x lib,sun,cursor,hypercard,client,default,mit,gc,consortium,christy,the server,subject,display,twm,event,window manager,x11,server,widget,motif\n",
        "misc.forsale the package,unix pc,original,size,junk mail,cd,call,snes,deal,camera,thad,pay,summer,for sale,sell,asking,wanted,sale,offer,shipping\n",
        "rec.autos mr2,shifting,truck,vw,eliot,opel,diesel,callison,v6,integra,dealer,mustang,toyota,oil,warning,automotive,ford,geico,auto,car\n",
        "rec.motorcycles stroke,stafford,piece,ama,ducati,biker,moa,yamaha,the bike,dog,harley,kawasaki,bmw,helmet,ride,riding,rider,motorcycle,bike,dod\n",
        "rec.sport.baseball nl,mets,marlin,uniform,hit,morris,tiger,hitter,stadium,fenway,sox,dodger,brave,ball,pitcher,giant,yankee,cub,phillies,baseball\n",
        "rec.sport.hockey gerald,final,octopus,wing,detroit,leaf,coach,team,buffalo,puck,goal,penguin,islander,shark,espn,goalie,bruin,playoff,nhl,hockey\n",
        "sci.crypt"
       ]
      },
      {
       "output_type": "stream",
       "stream": "stdout",
       "text": [
        " the lobby,escrow,encrypted,once,tempest,privacy,rsa,denning,cipher,crypt,secret,key,pgp,security,wiretap,cryptography,crypto,no good,encryption,clipper\n",
        "sci.electronics dsp,tv,baden,exploding,disk copy,2600,pcb,led,spice,copy,resistor,adhesive,copy protected,ic,rf,8051,voltage,scope,electronics,circuit\n",
        "sci.med antibiotic,syndrome,migraine,exercise,food,physician,allergic,health,medicine,cancer,gordon bank,treatment,ear,patient,med,msg,disease,medical,doctor,photography\n",
        "sci.space flight,astro,the moon,astronomy,nasa,dc,mar,satellite,gamma ray,spacecraft,rocket,sunset,pat,planet,sky,moon,orbit,shuttle,launch,space\n",
        "soc.religion.christian fisher,may,dream,spiritual,translation,hell,easter,james,catholic,prayer,christian,christianity,sin,geneva,christ,church,daily,verse,1993,rutgers\n",
        "talk.politics.guns criminal,gritz,senate,hunting,cnn,nra,texas,liberty,quisling,burn,handgun,militia,fbi,dividian,ranch,weapon,waco,atf,firearm,gun\n",
        "talk.politics.mideast racism,freedom,say you,hezbollah,pro,hamas,armenia,zionism,muslim,beyer,argic,serdar,adl,palestinian,jew,turkish,arab,armenian,israeli,israel\n",
        "talk.politics.misc percentage,kinsey,income,tax,hostage,liberal,narrative,police state,ted frank,rutgers,drug,state,sexual,hallam,initiative,clayton,garrett,gay,top ten,cramer\n",
        "talk.religion.misc 2000 year,sword,the beast,tyre,mormon,new age,commandment,sabin,who next,albert sabin,new religion,beast,magick,hudson,mr president,rosicrucian,abortion,burden,brian,promise\n",
        "ng20_raw_lemmas_bigrams_df1_tf1 ^ wiki_bigrams (extended unigrams) -->  precision  0.86850768279 recall  0.865122303542 f1  0.86578338904\n",
        "loaded (171574) terms"
       ]
      },
      {
       "output_type": "stream",
       "stream": "stdout",
       "text": [
        "\n",
        "done loading vocabulary\n",
        "vectorizing done, 171574 terms vocabulary tokenized"
       ]
      },
      {
       "output_type": "stream",
       "stream": "stdout",
       "text": [
        "\n",
        "vectorizing done, 171574 terms vocabulary tokenized"
       ]
      },
      {
       "output_type": "stream",
       "stream": "stdout",
       "text": [
        "\n"
       ]
      },
      {
       "output_type": "stream",
       "stream": "stdout",
       "text": [
        "accuracy scores = [ 0.86850477  0.90658174  0.90114796  0.87422856],0.887615757858\n"
       ]
      },
      {
       "output_type": "stream",
       "stream": "stdout",
       "text": [
        "macro precision scores = [ 0.86666762  0.90617436  0.89952147  0.87310118],0.886366159407\n"
       ]
      },
      {
       "output_type": "stream",
       "stream": "stdout",
       "text": [
        "macro recall scores = [ 0.86106608  0.90444003  0.89550161  0.87118265],0.883047592509\n"
       ]
      },
      {
       "output_type": "stream",
       "stream": "stdout",
       "text": [
        "macro f1 scores = [ 0.86220935  0.90512551  0.89630379  0.87135768],0.883749083557\n"
       ]
      },
      {
       "output_type": "stream",
       "stream": "stdout",
       "text": [
        "weighted average precision scores = [ 0.86848015  0.90685614  0.90200194  0.87629742],0.888408912847\n"
       ]
      },
      {
       "output_type": "stream",
       "stream": "stdout",
       "text": [
        "weighted average recall scores = [ 0.86848015  0.90685614  0.90200194  0.87629742],0.888408912847\n"
       ]
      },
      {
       "output_type": "stream",
       "stream": "stdout",
       "text": [
        "weighted f1 scores = [ 0.86721122  0.90654919  0.90051244  0.87450184],0.887193670108\n",
        "dimensionality: 171574"
       ]
      },
      {
       "output_type": "stream",
       "stream": "stdout",
       "text": [
        "\n",
        "density: 0.521950295499\n",
        "alt.atheism wrote,kmr4,dogma,mangoe,enviroleague,charley,wwc,scout,tammy,asimov,wingate,motto,cobb,benedikt,islamic,rushdie,mathew,atheism,atheist,keith\n",
        "comp.graphics targa,visualization,algorithm,sphere,mpeg,photoshop,viewer,surface,tiff,animation,fractal,cview,hacker,siggraph,polygon,image,3do,pov,3d,graphic\n",
        "comp.os.ms-windows.misc 386,wfw,smartdrv,doublespace,winqvt,setup,risc,driver,file,nt,ini,bmp,ax,win,challenge,supporter,win3,cica,microsoft,window\n",
        "comp.sys.ibm.pc.hardware connect,monitor,modem,mitsumi,motherboards,winmarks,laserjet,nanao,isa,486,irq,cmos,motherboard,fastmicro,ide,vlb,pc,jumper,gateway,bios\n",
        "comp.sys.mac.hardware"
       ]
      },
      {
       "output_type": "stream",
       "stream": "stdout",
       "text": [
        " kept on,68040,iifx,040,deskwriter,floptical,pb,iici,bmug,adb,iisi,lciii,se,quadra,lc,duo,powerbook,centris,apple,mac\n",
        "comp.windows.x escaped,xwindows,display,xv,r5,twm,xdm,imake,consortium,unsubscribe,openwindows,xfree86,x11,window manager,xlib,server,widget,xterm,x11r5,motif\n",
        "misc.forsale includes,deal,excellent,2190,cd,snes,obo,summer,pay,camera,asking,call,sell,interested,wanted,offer,sale,for sale,shipping,forsale\n",
        "rec.autos 89,truck,sunroof,nissan,vw,honda,integra,v6,diesel,opel,mustang,toyota,automotive,dealer,oil,warning,geico,ford,auto,car\n",
        "rec.motorcycles kreme,biker,cage,ama,cager,moa,infante,yamaha,ranck,harley,kawasaki,dog,helmet,bmw,ride,rider,riding,motorcycle,bike,dod\n",
        "rec.sport.baseball"
       ]
      },
      {
       "output_type": "stream",
       "stream": "stdout",
       "text": [
        " hit,uniform,mattingly,mets,hitter,nl,fenway,stadium,tiger,ball,morris,dodger,sox,brave,pitcher,giant,cub,yankee,phillies,baseball\n",
        "rec.sport.hockey cherry,islander,coach,detroit,team,puck,pen,wc,cup,wing,goal,leaf,shark,penguin,goalie,espn,bruin,playoff,nhl,hockey\n",
        "sci.crypt encrypted,denning,privacy,sternlight,tempest,de,cipher,crypt,secret,no good,key,pgp,wiretap,security,nsa,tapped,cryptography,crypto,encryption,clipper\n",
        "sci.electronics motorola,dsp,spice,resistor,exploding,tv,pcb,adcom,2600,led,rf,solvent,protected,8051,voltage,ic,copy,scope,electronics,circuit\n",
        "sci.med antibiotic,syndrome,health,cure,skin,exercise,migraine,allergic,medicine,ear,treatment,cancer,patient,med,krillean,msg,medical,disease,photography,doctor\n",
        "sci.space"
       ]
      },
      {
       "output_type": "stream",
       "stream": "stdout",
       "text": [
        " astronomy,astro,flight,henry,dc,gamma ray,mar,jennise,nasa,spacecraft,satellite,rocket,pat,planet,sky,launch,orbit,shuttle,moon,space\n",
        "soc.religion.christian fisher,james,christianity,catholic,hell,arrogance,prayer,christian,1993,easter,christ,geneva,kiefer,sin,daily,church,verse,rutgers,athos,clh\n",
        "talk.politics.guns regulated,bd,texas,hunting,cdt,weaver,liberty,militia,burn,nra,fbi,quisling,handgun,dividian,waco,weapon,ranch,firearm,atf,gun\n",
        "talk.politics.mideast hamas,iran,hezbollah,holocaust,racism,uva,armenia,zionism,andi,argic,serdar,muslim,adl,jew,palestinian,turkish,arab,armenian,israeli,israel\n",
        "talk.politics.misc clinton,health,kinsey,police state,income,initiative,state,hostage,president,mow,drug,sexual,teel,garrett,optilink,clayton,gay,drieux,cramer,kaldis\n",
        "talk.religion.misc christian,royalroads,sabin,new age,tyre,koresh,666,beast,rawlins,thou,brian,wei,abortion,mormon,hudson,2000,mr president,burden,rosicrucian,promise\n",
        "ng20_raw_lemmas_unigrams_df1_tf1"
       ]
      },
      {
       "output_type": "stream",
       "stream": "stdout",
       "text": [
        " ^ ng20_raw_lemmas_bigrams_df1_tf1 ^ wiktionary_bigrams  -->  precision  0.886366159407 recall  0.883047592509 f1  0.883749083557\n",
        "loaded (11042) terms"
       ]
      },
      {
       "output_type": "stream",
       "stream": "stdout",
       "text": [
        "\n",
        "extended to (16946) terms\n",
        "done loading vocabulary\n",
        "vectorizing done, 16946 terms vocabulary tokenized"
       ]
      },
      {
       "output_type": "stream",
       "stream": "stdout",
       "text": [
        "\n",
        "vectorizing done, 16946 terms vocabulary tokenized"
       ]
      },
      {
       "output_type": "stream",
       "stream": "stdout",
       "text": [
        "\n"
       ]
      },
      {
       "output_type": "stream",
       "stream": "stdout",
       "text": [
        "accuracy scores = [ 0.77497349  0.82632696  0.82695578  0.77867631],0.801733137299\n"
       ]
      },
      {
       "output_type": "stream",
       "stream": "stdout",
       "text": [
        "macro precision scores = [ 0.77080674  0.82413894  0.82325501  0.77623869],0.798609845412\n"
       ]
      },
      {
       "output_type": "stream",
       "stream": "stdout",
       "text": [
        "macro recall scores = [ 0.76702988  0.82292032  0.82088026  0.7749508 ],0.796445314768\n"
       ]
      },
      {
       "output_type": "stream",
       "stream": "stdout",
       "text": [
        "macro f1 scores = [ 0.7674155   0.82320541  0.82078315  0.77427982],0.796420970443\n"
       ]
      },
      {
       "output_type": "stream",
       "stream": "stdout",
       "text": [
        "weighted average precision scores = [ 0.77518869  0.82709643  0.8260168   0.78067796],0.802244971573\n"
       ]
      },
      {
       "output_type": "stream",
       "stream": "stdout",
       "text": [
        "weighted average recall scores = [ 0.77518869  0.82709643  0.8260168   0.78067796],0.802244971573\n"
       ]
      },
      {
       "output_type": "stream",
       "stream": "stdout",
       "text": [
        "weighted f1 scores = [ 0.77378632  0.82639543  0.82535556  0.77836789],0.800976300507\n",
        "dimensionality: 16946"
       ]
      },
      {
       "output_type": "stream",
       "stream": "stdout",
       "text": [
        "\n",
        "density: 0.588354183878\n",
        "alt.atheism rice,gulf,thought,go to,religion,boy scout,allah,punishment,stamp,scout,moral,wrote,gulf war,po,writes,vice,political,charley,bake,islamic\n",
        "comp.graphics modeling,motion,point,texture,conversion,oak,not yet,noble,impulse,gopher,virtual reality,surface,sphere,rot,ethic,significance,polygon,image,3d,graphic\n",
        "comp.os.ms-windows.misc swap,driver,dark,macro,real world,cool,manager,development,mk,desktop,violet,swap file,te,character,max,canon,instruction set,visual basic,win,window\n",
        "comp.sys.ibm.pc.hardware setting,time out,jumbo,cpu,floppy,66,permanent,connector,date,reviewed,computer,comment,bat,mag,pc,atari,2000,gosh,ide,interrupt\n",
        "comp.sys.mac.hardware hardware,monty,internet,cart,logic board,photo,optical,chime,hour,speed,internal,900,reflect,floptical,se,clock,cyclone,kept on,apple,mac\n",
        "comp.windows.x an,drawn,example,cursor,nordic,support,computer science,display,default,set,patch,sun,dump,tar,lib,kong,symbol,event,server,window manager\n",
        "misc.forsale book,reply,front,sharp,movie,size,seller,pay,original,calculator,deal,sell,camera,sale,asking,wanted,junk mail,summer,offer,shipping\n",
        "rec.autos flat,automobile,corporate,ole,driving,trunk,diesel,leak,license plate,shift,oil,of all,truck,insurance company,engine,wagon,dealer,warning,auto,car\n",
        "rec.motorcycles exhaust,insurance,lock,owner,piece,fork,drinking,drunk,e,shaft,dog,chain,touring,harley,biker,ride,riding,rider,motorcycle,bike\n",
        "rec.sport.baseball inning,ticket,jay,sport,career,sox,tiger,cardinal,pitch,batting,ball,hitter,hit,dodger,uniform,pitcher,giant,cub,yankee,baseball\n",
        "rec.sport.hockey quebec,team,player,final,mask,cherry,pen,puck,pool,ice,wing,cap,cup,goal,buffalo,shark,coach,leaf,penguin,hockey\n",
        "sci.crypt speech,organized,public key,de,holland,fifth amendment,random,scheme,si,lobby,algorithm,any more,key,cipher,privacy,security,secret,no good,cryptography,clipper\n",
        "sci.electronics copy protection,schematic,them,project,pal,latch,ham,subliminal,compiler,led,adhesive,resistor,copy,spice,tv,assembler,2600,voltage,protected,circuit\n",
        "sci.med migraine,bank,syndrome,sauce,exercise,skin,cardiac,methodology,med,cancer,food,effect,treatment,allergic,ear,medicine,surrender,medical,disease,doctor\n",
        "sci.space exploration,dc,telescope,astronomy,mission,flight,satellite,aurora,fred,rocket,gamma ray,mar,henry,planet,launch,moon,shuttle,orbit,sky,space\n",
        "soc.religion.christian translation,married,paul,sex education,christian,heart,ceremony,catholic,spiritual,hell,james,may,easter,prayer,christianity,sin,christ,church,daily,geneva\n",
        "talk.politics.guns speak for,brady,silva,in for,swiss,pistol,press,rifle,representative,gang,outlaw,safety,criminal,acronym,raid,fbi,survivor,weapon,burn,gun\n",
        "talk.politics.mideast egypt,soldier,policy,iranian,hate,turk,nick,having to,un,armenia,freedom,pro,holocaust,jew,turkish,bosnian,arab,armenian,israel,israeli\n",
        "talk.politics.misc pension,income,party,welfare,state,boomer,drug,president,pork,marine,pyramid,deficit,child,sexual,percentage,consent,baker,gay,initiative,police state\n",
        "talk.religion.misc fait,ancient,moral system,relativism,historian,backing,beast,the beast,theme,new age,sword,commandment,biblical,abortion,mormon,sign up,tossed,order,2000,mr president\n",
        "ng20_raw_lemmas_bigrams_df1_tf1 ^ wiktionary_bigrams (extended unigrams) -->  precision  0.798609845412 recall  0.796445314768 f1  0.796420970443\n",
        "loaded (190903) terms"
       ]
      },
      {
       "output_type": "stream",
       "stream": "stdout",
       "text": [
        "\n",
        "vectorizing done, 190903 terms vocabulary tokenized"
       ]
      },
      {
       "output_type": "stream",
       "stream": "stdout",
       "text": [
        "\n",
        "vectorizing done, 190903 terms vocabulary tokenized"
       ]
      },
      {
       "output_type": "stream",
       "stream": "stdout",
       "text": [
        "\n"
       ]
      },
      {
       "output_type": "stream",
       "stream": "stdout",
       "text": [
        "accuracy scores = [ 0.86977731  0.91125265  0.90221088  0.87720792],0.890112190332\n"
       ]
      },
      {
       "output_type": "stream",
       "stream": "stdout",
       "text": [
        "macro precision scores = [ 0.8672642   0.91097149  0.90107551  0.87620423],0.88887885837\n"
       ]
      },
      {
       "output_type": "stream",
       "stream": "stdout",
       "text": [
        "macro recall scores = [ 0.86215332  0.9090717   0.89648102  0.87449868],0.885551180227\n"
       ]
      },
      {
       "output_type": "stream",
       "stream": "stdout",
       "text": [
        "macro f1 scores = [ 0.86323779  0.90984337  0.89741133  0.87445542],0.886236978687\n"
       ]
      },
      {
       "output_type": "stream",
       "stream": "stdout",
       "text": [
        "weighted average precision scores = [ 0.86936293  0.91139389  0.90335399  0.87931085],0.890855417472\n"
       ]
      },
      {
       "output_type": "stream",
       "stream": "stdout",
       "text": [
        "weighted average recall scores = [ 0.86936293  0.91139389  0.90335399  0.87931085],0.890855417472\n"
       ]
      },
      {
       "output_type": "stream",
       "stream": "stdout",
       "text": [
        "weighted f1 scores = [ 0.86843415  0.91116726  0.90159074  0.87739932],0.889647866151\n",
        "dimensionality: 190903"
       ]
      },
      {
       "output_type": "stream",
       "stream": "stdout",
       "text": [
        "\n",
        "density: 0.492459521328\n",
        "alt.atheism charley,kmr4,wrote,mangoe,enviroleague,dogma,scout,wwc,tammy,asimov,wingate,motto,cobb,benedikt,islamic,rushdie,mathew,atheism,atheist,keith\n",
        "comp.graphics targa,visualization,viewer,algorithm,mpeg,sphere,tiff,photoshop,surface,animation,fractal,hacker,cview,siggraph,polygon,image,3do,pov,3d,graphic\n",
        "comp.os.ms-windows.misc wfw,doublespace,risc,smartdrv,setup,driver,winqvt,bmp,nt,file,ini,win,ax,program manager,challenge,supporter,win3,cica,microsoft,window\n",
        "comp.sys.ibm.pc.hardware"
       ]
      },
      {
       "output_type": "stream",
       "stream": "stdout",
       "text": [
        " gosh,mitsumi,connect,winmarks,monitor,motherboards,modem,nanao,cmos,486,isa,motherboard,irq,ide,vlb,pc,fastmicro,jumper,gateway,bios\n",
        "comp.sys.mac.hardware c650,macweek,68040,040,deskwriter,pb,iici,floptical,bmug,adb,iisi,lciii,se,quadra,lc,powerbook,duo,centris,apple,mac\n",
        "comp.windows.x event,xv,display,twm,xwindows,xdm,r5,imake,consortium,unsubscribe,openwindows,xfree86,x11,window manager,xlib,server,widget,xterm,x11r5,motif\n",
        "misc.forsale 00,includes,deal,excellent,summer,2190,snes,cd,pay,camera,obo,call,sell,interested,asking,wanted,offer,shipping,forsale,sale\n",
        "rec.autos dumbest,truck,nissan,sunroof,vw,integra,honda,diesel,v6,mustang,opel,toyota,oil,dealer,automotive,warning,geico,ford,auto,car\n",
        "rec.motorcycles"
       ]
      },
      {
       "output_type": "stream",
       "stream": "stdout",
       "text": [
        " kreme,biker,ama,moa,cager,cage,infante,yamaha,ranck,harley,kawasaki,dog,helmet,bmw,ride,rider,riding,motorcycle,bike,dod\n",
        "rec.sport.baseball marlin,uniform,mattingly,nl,hitter,mets,fenway,stadium,tiger,ball,morris,dodger,sox,brave,giant,pitcher,cub,yankee,phillies,baseball\n",
        "rec.sport.hockey cherry,coach,team,wc,detroit,cup,buffalo,puck,pen,goal,leaf,wing,shark,penguin,goalie,espn,bruin,playoff,nhl,hockey\n",
        "sci.crypt rsa,encrypted,sternlight,privacy,denning,de,cipher,crypt,tempest,secret,key,pgp,wiretap,security,nsa,cryptography,crypto,encryption,tapped,clipper\n",
        "sci.electronics dsp,spice,tv,exploding,resistor,pcb,adcom,noise,led,rf,2600,solvent,8051,copy,voltage,ic,scope,disk copy,electronics,circuit\n",
        "sci.med"
       ]
      },
      {
       "output_type": "stream",
       "stream": "stdout",
       "text": [
        " syndrome,antibiotic,cure,skin,health,exercise,migraine,allergic,ear,medicine,treatment,cancer,patient,medical,krillean,msg,med,disease,photography,doctor\n",
        "sci.space astronomy,astro,flight,henry,gamma ray,dc,mar,jennise,nasa,spacecraft,satellite,rocket,pat,planet,sky,launch,orbit,shuttle,moon,space\n",
        "soc.religion.christian translation,james,christianity,catholic,hell,arrogance,prayer,christian,christ,1993,easter,kiefer,geneva,sin,daily,verse,church,rutgers,athos,clh\n",
        "talk.politics.guns bd,texas,regulated,hunting,weaver,liberty,cdt,militia,burn,nra,fbi,quisling,handgun,dividian,waco,weapon,ranch,firearm,atf,gun\n",
        "talk.politics.mideast yigal,hamas,iran,hezbollah,racism,uva,zionism,argic,armenia,muslim,serdar,andi,adl,jew,palestinian,turkish,arab,armenian,israeli,israel\n",
        "talk.politics.misc"
       ]
      },
      {
       "output_type": "stream",
       "stream": "stdout",
       "text": [
        " ten,kinsey,police state,income,initiative,tax,hostage,president,mow,drug,state,garrett,teel,sexual,optilink,clayton,gay,drieux,cramer,kaldis\n",
        "talk.religion.misc happened,biblical,sabin,rawlins,tyre,new age,new religion,koresh,thou,wei,666,abortion,brian,2000,hudson,mormon,beast,burden,rosicrucian,promise\n",
        "ng20_raw_lemmas_unigrams_df1_tf1 ^ ng20_raw_lemmas_bigrams_df1_tf1 ^ google_bigrams  -->  precision  0.88887885837 recall  0.885551180227 f1  0.886236978687\n",
        "loaded (30371) terms"
       ]
      },
      {
       "output_type": "stream",
       "stream": "stdout",
       "text": [
        "\n",
        "extended to (38414) terms\n",
        "done loading vocabulary\n",
        "vectorizing done, 38414 terms vocabulary tokenized"
       ]
      },
      {
       "output_type": "stream",
       "stream": "stdout",
       "text": [
        "\n",
        "vectorizing done, 38414 terms vocabulary tokenized"
       ]
      },
      {
       "output_type": "stream",
       "stream": "stdout",
       "text": [
        "\n"
       ]
      },
      {
       "output_type": "stream",
       "stream": "stdout",
       "text": [
        "accuracy scores = [ 0.81442206  0.86135881  0.85544218  0.81655671],0.836944939842\n"
       ]
      },
      {
       "output_type": "stream",
       "stream": "stdout",
       "text": [
        "macro precision scores = [ 0.8094408   0.85927339  0.85181661  0.81544977],0.833995142178\n"
       ]
      },
      {
       "output_type": "stream",
       "stream": "stdout",
       "text": [
        "macro recall scores = [ 0.80691499  0.8587327   0.84910547  0.81292153],0.831918669255\n"
       ]
      },
      {
       "output_type": "stream",
       "stream": "stdout",
       "text": [
        "macro f1 scores = [ 0.8072025   0.85879333  0.84942675  0.81302376],0.832111587574\n"
       ]
      },
      {
       "output_type": "stream",
       "stream": "stdout",
       "text": [
        "weighted average precision scores = [ 0.81338755  0.86171248  0.8557167   0.81992786],0.837686144623\n"
       ]
      },
      {
       "output_type": "stream",
       "stream": "stdout",
       "text": [
        "weighted average recall scores = [ 0.81338755  0.86171248  0.8557167   0.81992786],0.837686144623\n"
       ]
      },
      {
       "output_type": "stream",
       "stream": "stdout",
       "text": [
        "weighted f1 scores = [ 0.81303847  0.8613262   0.85464457  0.8171228 ],0.836533008068\n",
        "dimensionality: 38414"
       ]
      },
      {
       "output_type": "stream",
       "stream": "stdout",
       "text": [
        "\n",
        "density: 0.393571354194\n",
        "alt.atheism god be,unicorn,saturn,rice,casual,scout,liar,dogma,poster,gulf war,go to,po,motto,vice,batman,political,islamic,atheism,atheist,rushdie\n",
        "comp.graphics rgb,gopher,radiosity,fill,hacker ethic,hacker,temp file,visualization,sphere,animation,mpeg,vesa,viewer,surface,impulse,polygon,image,3d,philosophical,graphic\n",
        "comp.os.ms-windows.misc file manager,indiana,printer driver,swap,dll,setup,risc,logo,swap file,win,canon,download,ini,nt,bmp,ax,program manager,challenge,microsoft,window\n",
        "comp.sys.ibm.pc.hardware controller,specification,drive a,permanent,blaster,computer,spec,80386,interrupt,pentium,pc,isa,ide,virus,irq,comment,cdrom,cmos,bios,gateway\n",
        "comp.sys.mac.hardware l,logic board,sage,internal,oscillator,clock,hades,hour,run window,powerpc,iii,price drop,mathematica,cyclone,hardware,se,x86,pb,apple,mac\n",
        "comp.windows.x following,dump,cursor,sparc,binary,folk,client,symbol,hypercard,lib,sun,display,script,default,event,consortium,widget,window manager,server,motif\n",
        "misc.forsale cd,buyer,fax modem,pay,airline,condition,cod,reply,original,call,calculator,camera,deal,sell,thad,junk mail,summer,offer,shipping,sale\n",
        "rec.autos engine,frost,wagon,dealer,leak,honda,v8,truck,diesel,oil,nissan,toyota,mustang,vw,insurance company,v6,ford,warning,auto,car\n",
        "rec.motorcycles bikers,stroke,e,advice,drunk,piece,cage,shaft,chain,seca,dog,harley,biker,bmw,helmet,ride,rider,riding,motorcycle,bike\n",
        "rec.sport.baseball marlin,uniform,hit,tiger,sox,cardinal,hitter,career,stadium,brave,mets,pitcher,dodger,ball,morris,giant,cub,yankee,phillies,baseball\n",
        "rec.sport.hockey pit,cap,abc,puck,overtime,oiler,buffalo,leaf,cherry,wing,pen,coach,goal,penguin,detroit,shark,bruin,playoff,nhl,hockey\n",
        "sci.crypt algorithm,tap,implementation,escrow,hard core,trust,password,code,crypt,key,lobby,rsa,privacy,secret,cipher,organized,security,wiretap,encryption,clipper\n",
        "sci.electronics atari,duct,dsp,cooling tower,led,pal,dayton,baden,tv,duct tape,pcb,rf,ic,resistor,8051,voltage,scope,electronics,disk copy,circuit\n",
        "sci.med cure,food,exercise,syndrome,sci,migraine,effect,sauce,health,cancer,physician,sensitivity,patient,treatment,disease,pitt,medicine,ear,medical,doctor\n",
        "sci.space flight,telescope,funding,solar,dc,mission,proton,astronomy,satellite,mar,gamma ray,rocket,planet,spacecraft,launch,shuttle,moon,orbit,sky,space\n",
        "soc.religion.christian married,ahmadiyya,roman,hell,james,ceremony,christian,catholic,christianity,may,spiritual,verse,easter,sin,christ,prayer,daily,church,geneva,rutgers\n",
        "talk.politics.guns criminal,fortress,believe,safety,weaver,swiss,texas,socialist leader,liberty,militia,burn,fbi,cnn,hunting,waco,weapon,atf,ranch,firearm,gun\n",
        "talk.politics.mideast soldier,iranian,man kind,jerusalem,bosnians,hamas,occupied,muslim,holocaust,turk,freedom,palestinian,pro,jew,armenia,adl,arab,armenian,israeli,israel\n",
        "talk.politics.misc income,narrative,ten,molester,marine,child molester,pork,verdict,employment,pyramid,fetus,rutgers,state,percentage,thor,consent,initiative,proposition,gay,police state\n",
        "talk.religion.misc ancient,stephen,miracle,commandment,abortion,loving god,new age,order,josephus,moment,backing,mithra,mormon,hudson,2000,sword,burden,new religion,beast,promise\n",
        "ng20_raw_lemmas_bigrams_df1_tf1 ^ google_bigrams (extended unigrams) -->  precision  0.833995142178 recall  0.831918669255 f1  0.832111587574\n",
        "loaded (217713) terms"
       ]
      },
      {
       "output_type": "stream",
       "stream": "stdout",
       "text": [
        "\n",
        "vectorizing done, 217713 terms vocabulary tokenized"
       ]
      },
      {
       "output_type": "stream",
       "stream": "stdout",
       "text": [
        "\n",
        "vectorizing done, 217713 terms vocabulary tokenized"
       ]
      },
      {
       "output_type": "stream",
       "stream": "stdout",
       "text": [
        "\n"
       ]
      },
      {
       "output_type": "stream",
       "stream": "stdout",
       "text": [
        "accuracy scores = [ 0.87168611  0.91082803  0.90348639  0.87912322],0.891280936477\n"
       ]
      },
      {
       "output_type": "stream",
       "stream": "stdout",
       "text": [
        "macro precision scores = [ 0.87027218  0.91055273  0.90190171  0.87850243],0.890307262556\n"
       ]
      },
      {
       "output_type": "stream",
       "stream": "stdout",
       "text": [
        "macro recall scores = [ 0.86425517  0.90875822  0.89791519  0.87647675],0.886851333204\n"
       ]
      },
      {
       "output_type": "stream",
       "stream": "stdout",
       "text": [
        "macro f1 scores = [ 0.86552207  0.90948728  0.89867456  0.87665703],0.88758523241\n"
       ]
      },
      {
       "output_type": "stream",
       "stream": "stdout",
       "text": [
        "weighted average precision scores = [ 0.87194079  0.91121343  0.90459746  0.88114591],0.892224398825\n"
       ]
      },
      {
       "output_type": "stream",
       "stream": "stdout",
       "text": [
        "weighted average recall scores = [ 0.87194079  0.91121343  0.90459746  0.88114591],0.892224398825\n"
       ]
      },
      {
       "output_type": "stream",
       "stream": "stdout",
       "text": [
        "weighted f1 scores = [ 0.87044346  0.91086383  0.90294728  0.87932872],0.890895825479\n",
        "dimensionality: 217713"
       ]
      },
      {
       "output_type": "stream",
       "stream": "stdout",
       "text": [
        "\n",
        "density: 0.499204227584\n",
        "alt.atheism liar,dogma,mangoe,enviroleague,jaeger,scout,charley,tammy,asimov,wwc,motto,wingate,cobb,benedikt,islamic,rushdie,mathew,atheism,keith,atheist\n",
        "comp.graphics format,targa,photoshop,sphere,mpeg,algorithm,hacker,surface,animation,viewer,tiff,fractal,cview,siggraph,polygon,image,3do,pov,3d,graphic\n",
        "comp.os.ms-windows.misc doublespace,smartdrv,m,risc,winqvt,setup,nt,driver,ini,file,bmp,program manager,win,ax,challenge,supporter,win3,cica,microsoft,window\n",
        "comp.sys.ibm.pc.hardware"
       ]
      },
      {
       "output_type": "stream",
       "stream": "stdout",
       "text": [
        " mitsumi,compaq,winmarks,motherboards,connect,modem,nanao,isa,monitor,486,irq,fastmicro,cmos,motherboard,ide,vlb,pc,jumper,gateway,bios\n",
        "comp.sys.mac.hardware c650,iifx,macweek,040,deskwriter,iici,floptical,pb,bmug,adb,lciii,se,iisi,centris,quadra,duo,lc,powerbook,apple,mac\n",
        "comp.windows.x pixmap,event,xwindows,display,xv,r5,twm,xdm,imake,openwindows,unsubscribe,xfree86,x11,window manager,xlib,server,widget,xterm,x11r5,motif\n",
        "misc.forsale includes,deal,excellent,2190,snes,summer,pay,cd,obo,camera,call,asking,interested,sell,wanted,offer,sale,shipping,for sale,forsale\n",
        "rec.autos"
       ]
      },
      {
       "output_type": "stream",
       "stream": "stdout",
       "text": [
        " truck,mr2,vw,nissan,sunroof,honda,opel,v6,diesel,integra,mustang,dealer,toyota,automotive,warning,oil,geico,ford,auto,car\n",
        "rec.motorcycles cage,ducati,cager,moa,infante,ama,ranck,yamaha,the bike,kawasaki,harley,dog,helmet,bmw,ride,rider,riding,motorcycle,bike,dod\n",
        "rec.sport.baseball uniform,stats,mets,hit,nl,morris,hitter,tiger,fenway,stadium,dodger,ball,brave,sox,giant,pitcher,cub,yankee,phillies,baseball\n",
        "rec.sport.hockey cup,islander,octopus,coach,wc,buffalo,detroit,leaf,team,wing,puck,penguin,shark,goal,goalie,espn,bruin,playoff,nhl,hockey\n",
        "sci.crypt"
       ]
      },
      {
       "output_type": "stream",
       "stream": "stdout",
       "text": [
        " any more,denning,sternlight,privacy,tempest,de,secret,cipher,crypt,no good,pgp,key,wiretap,security,nsa,tapped,cryptography,crypto,encryption,clipper\n",
        "sci.electronics dsp,motorola,spice,disk copy,pcb,adcom,2600,tv,resistor,led,copy protected,rf,copy,solvent,8051,voltage,ic,scope,electronics,circuit\n",
        "sci.med syndrome,allergy,antibiotic,exercise,food,health,migraine,allergic,medicine,ear,treatment,cancer,patient,krillean,med,msg,medical,disease,photography,doctor\n",
        "sci.space astronomy,henry,the moon,flight,gamma ray,dc,jennise,mar,nasa,rocket,spacecraft,satellite,sky,pat,planet,moon,launch,orbit,shuttle,space\n",
        "soc.religion.christian"
       ]
      },
      {
       "output_type": "stream",
       "stream": "stdout",
       "text": [
        " translation,james,prayer,christianity,arrogance,catholic,hell,easter,christ,kiefer,geneva,1993,christian,sin,daily,church,verse,rutgers,athos,clh\n",
        "talk.politics.guns weaver,cnn,bd,hunting,texas,liberty,cdt,militia,nra,quisling,fbi,burn,handgun,dividian,weapon,waco,ranch,firearm,atf,gun\n",
        "talk.politics.mideast hamas,turkey,iran,hezbollah,racism,uva,serdar,argic,zionism,armenia,andi,adl,muslim,palestinian,jew,turkish,arab,armenian,israeli,israel\n",
        "talk.politics.misc deficit,initiative,kinsey,income,hostage,tax,mow,clinton,state,teel,sexual,drug,garrett,optilink,clayton,drieux,gay,top ten,cramer,kaldis\n",
        "talk.religion.misc"
       ]
      },
      {
       "output_type": "stream",
       "stream": "stdout",
       "text": [
        " mithra,2000,robert wei,rawlins,new age,666,koresh,beast,who next,tyre,mormon,2000 year,thou,mr president,brian,hudson,abortion,rosicrucian,burden,promise\n",
        "ng20_raw_lemmas_unigrams_df1_tf1 ^ ng20_raw_lemmas_bigrams_df1_tf1 ^ wiki_wiktionary_bigrams_vw  -->  precision  0.890307262556 recall  0.886851333204 f1  0.88758523241\n",
        "loaded (57181) terms"
       ]
      },
      {
       "output_type": "stream",
       "stream": "stdout",
       "text": [
        "\n",
        "extended to (76318) terms"
       ]
      },
      {
       "output_type": "stream",
       "stream": "stdout",
       "text": [
        "\n",
        "done loading vocabulary\n",
        "vectorizing done, 76318 terms vocabulary tokenized"
       ]
      },
      {
       "output_type": "stream",
       "stream": "stdout",
       "text": [
        "\n",
        "vectorizing done, 76318 terms vocabulary tokenized"
       ]
      },
      {
       "output_type": "stream",
       "stream": "stdout",
       "text": [
        "\n"
       ]
      },
      {
       "output_type": "stream",
       "stream": "stdout",
       "text": [
        "accuracy scores = [ 0.8504772   0.8895966   0.88180272  0.85507555],0.869238018118\n"
       ]
      },
      {
       "output_type": "stream",
       "stream": "stdout",
       "text": [
        "macro precision scores = [ 0.84876036  0.88926363  0.8788701   0.85424506],0.867784785445\n"
       ]
      },
      {
       "output_type": "stream",
       "stream": "stdout",
       "text": [
        "macro recall scores = [ 0.842668    0.8871156   0.87557283  0.85240888],0.864441327312\n"
       ]
      },
      {
       "output_type": "stream",
       "stream": "stdout",
       "text": [
        "macro f1 scores = [ 0.84391328  0.88793148  0.87597642  0.85239303],0.865053550265\n"
       ]
      },
      {
       "output_type": "stream",
       "stream": "stdout",
       "text": [
        "weighted average precision scores = [ 0.85123239  0.89006016  0.88234129  0.85759974],0.870308397948\n"
       ]
      },
      {
       "output_type": "stream",
       "stream": "stdout",
       "text": [
        "weighted average recall scores = [ 0.85123239  0.89006016  0.88234129  0.85759974],0.870308397948\n"
       ]
      },
      {
       "output_type": "stream",
       "stream": "stdout",
       "text": [
        "weighted f1 scores = [ 0.84938293  0.88958819  0.88096929  0.85542875],0.868842289395\n",
        "dimensionality: 76318"
       ]
      },
      {
       "output_type": "stream",
       "stream": "stdout",
       "text": [
        "\n",
        "density: 0.47556801803\n",
        "alt.atheism dogma,vice,bake,deletion,scout,mantis,motto,bobby,cobb,liar,jon,tammy,batman,gregg,islamic,charley,rushdie,atheism,atheist,keith\n",
        "comp.graphics visualization,point,algorithm,hacker,sphere,mpeg,photoshop,surface,animation,targa,tiff,fractal,rumour,polygon,viewer,image,siggraph,pov,3d,graphic\n",
        "comp.os.ms-windows.misc swap file,logo,character,download,file,m,canon,risc,bmp,setup,driver,win,nt,ini,ax,program manager,challenge,supporter,microsoft,window\n",
        "comp.sys.ibm.pc.hardware specification,modem,interrupt,compaq,irq,pentium,wally,isa,trinitron,ide,connect,17,motherboard,jumper,monitor,vlb,cmos,pc,gateway,bios\n",
        "comp.sys.mac.hardware th,dead mouse,950,x86,on 24,iifx,68040,iici,floptical,pb,se,adb,centris,duo,powerbook,iisi,quadra,lc,apple,mac\n",
        "comp.windows.x the consortium,lib,sun,cursor,gc,default,client,mit,consortium,christy,the server,subject,display,event,twm,window manager,x11,server,widget,motif\n",
        "misc.forsale the package,original,calculator,size,junk mail,cd,deal,snes,call,thad,pay,camera,summer,for sale,sell,asking,wanted,sale,offer,shipping\n",
        "rec.autos nissan,mr2,truck,shifting,opel,diesel,eliot,callison,v6,integra,dealer,toyota,mustang,oil,warning,automotive,ford,geico,auto,car\n",
        "rec.motorcycles stroke,stafford,piece,ama,ducati,biker,moa,yamaha,the bike,dog,harley,kawasaki,bmw,helmet,ride,riding,rider,motorcycle,bike,dod\n",
        "rec.sport.baseball nl,mets,marlin,uniform,hitter,hit,tiger,morris,stadium,fenway,sox,dodger,brave,ball,giant,pitcher,yankee,cub,phillies,baseball\n",
        "rec.sport.hockey"
       ]
      },
      {
       "output_type": "stream",
       "stream": "stdout",
       "text": [
        " final,cup,octopus,wing,detroit,leaf,coach,team,buffalo,puck,goal,penguin,islander,shark,espn,goalie,bruin,playoff,nhl,hockey\n",
        "sci.crypt encrypted,de,escrow,tempest,privacy,denning,rsa,cipher,crypt,secret,any more,key,pgp,wiretap,security,no good,cryptography,crypto,encryption,clipper\n",
        "sci.electronics dsp,baden,exploding,disk copy,tv,pcb,led,2600,spice,resistor,copy,adhesive,copy protected,ic,rf,8051,voltage,scope,electronics,circuit\n",
        "sci.med syndrome,antibiotic,migraine,physician,exercise,food,allergic,health,medicine,cancer,gordon bank,ear,treatment,patient,med,msg,disease,medical,doctor,photography\n",
        "sci.space flight,astro,the moon,astronomy,nasa,dc,mar,gamma ray,satellite,spacecraft,rocket,sunset,pat,planet,sky,moon,shuttle,orbit,launch,space\n",
        "soc.religion.christian fisher,dream,may,spiritual,translation,easter,james,hell,catholic,prayer,christianity,christian,geneva,christ,sin,church,daily,verse,1993,rutgers\n",
        "talk.politics.guns senate,gritz,hunting,cnn,texas,nra,liberty,quisling,burn,acronym,handgun,militia,fbi,dividian,ranch,weapon,waco,atf,firearm,gun\n",
        "talk.politics.mideast jerusalem,hezbollah,racism,freedom,hamas,pro,armenia,zionism,beyer,muslim,argic,adl,serdar,palestinian,jew,turkish,arab,armenian,israeli,israel\n",
        "talk.politics.misc income,percentage,kinsey,tax,liberal,ted frank,hostage,narrative,police state,rutgers,drug,state,sexual,hallam,initiative,clayton,garrett,gay,top ten,cramer\n",
        "talk.religion.misc albert sabin,robert wei,tossed,2000 year,sword,the beast,tyre,new age,mormon,commandment,who next,beast,magick,hudson,mr president,rosicrucian,abortion,burden,brian,promise\n",
        "ng20_raw_lemmas_bigrams_df1_tf1 ^ wiki_wiktionary_bigrams_vw (extended unigrams) -->  precision  0.867784785445 recall  0.864441327312 f1  0.865053550265\n",
        "loaded (230421) terms"
       ]
      },
      {
       "output_type": "stream",
       "stream": "stdout",
       "text": [
        "\n",
        "vectorizing done, 230421 terms vocabulary tokenized"
       ]
      },
      {
       "output_type": "stream",
       "stream": "stdout",
       "text": [
        "\n",
        "vectorizing done, 230421 terms vocabulary tokenized"
       ]
      },
      {
       "output_type": "stream",
       "stream": "stdout",
       "text": [
        "\n"
       ]
      },
      {
       "output_type": "stream",
       "stream": "stdout",
       "text": [
        "accuracy scores = [ 0.87083775  0.90955414  0.90306122  0.87933603],0.890697286354\n"
       ]
      },
      {
       "output_type": "stream",
       "stream": "stdout",
       "text": [
        "macro precision scores = [ 0.86993221  0.90951441  0.9014678   0.87858788],0.889875572548\n"
       ]
      },
      {
       "output_type": "stream",
       "stream": "stdout",
       "text": [
        "macro recall scores = [ 0.86324847  0.90757519  0.8973997   0.87694039],0.886290937845\n"
       ]
      },
      {
       "output_type": "stream",
       "stream": "stdout",
       "text": [
        "macro f1 scores = [ 0.86464013  0.9083734   0.89817887  0.87689318],0.887021394494\n"
       ]
      },
      {
       "output_type": "stream",
       "stream": "stdout",
       "text": [
        "weighted average precision scores = [ 0.87123605  0.90986722  0.90410377  0.88135016],0.891639301577\n"
       ]
      },
      {
       "output_type": "stream",
       "stream": "stdout",
       "text": [
        "weighted average recall scores = [ 0.87123605  0.90986722  0.90410377  0.88135016],0.891639301577\n"
       ]
      },
      {
       "output_type": "stream",
       "stream": "stdout",
       "text": [
        "weighted f1 scores = [ 0.8695341   0.90955582  0.90247167  0.87951423],0.890268955904\n",
        "dimensionality: 230421"
       ]
      },
      {
       "output_type": "stream",
       "stream": "stdout",
       "text": [
        "\n",
        "density: 0.484528536896\n",
        "alt.atheism religion,mangoe,enviroleague,dogma,jaeger,charley,scout,tammy,wwc,asimov,motto,wingate,cobb,benedikt,islamic,rushdie,mathew,atheism,keith,atheist\n",
        "comp.graphics targa,format,photoshop,sphere,mpeg,algorithm,hacker,surface,viewer,animation,tiff,fractal,cview,siggraph,polygon,image,3do,pov,3d,graphic\n",
        "comp.os.ms-windows.misc doublespace,smartdrv,m,risc,winqvt,setup,nt,bmp,ini,driver,file,win,program manager,ax,challenge,supporter,win3,cica,microsoft,window\n",
        "comp.sys.ibm.pc.hardware"
       ]
      },
      {
       "output_type": "stream",
       "stream": "stdout",
       "text": [
        " mitsumi,compaq,winmarks,motherboards,connect,modem,nanao,monitor,isa,486,irq,cmos,motherboard,fastmicro,ide,vlb,jumper,pc,gateway,bios\n",
        "comp.sys.mac.hardware c650,macweek,040,on 24,deskwriter,iici,floptical,pb,bmug,adb,lciii,se,iisi,centris,quadra,duo,lc,powerbook,apple,mac\n",
        "comp.windows.x pixmap,xwindows,event,display,twm,xv,xdm,r5,imake,openwindows,unsubscribe,xfree86,x11,window manager,xlib,server,widget,xterm,x11r5,motif\n",
        "misc.forsale lens,2190,includes,deal,snes,summer,cd,pay,obo,camera,call,asking,interested,sell,wanted,offer,sale,shipping,for sale,forsale\n",
        "rec.autos"
       ]
      },
      {
       "output_type": "stream",
       "stream": "stdout",
       "text": [
        " mr2,dumbest,nissan,vw,sunroof,honda,opel,integra,v6,diesel,mustang,dealer,toyota,automotive,oil,warning,geico,ford,auto,car\n",
        "rec.motorcycles ducati,cager,cage,moa,infante,ama,ranck,yamaha,the bike,kawasaki,harley,dog,helmet,bmw,ride,rider,riding,motorcycle,bike,dod\n",
        "rec.sport.baseball stats,uniform,mets,hit,morris,nl,hitter,fenway,tiger,stadium,dodger,ball,brave,sox,giant,pitcher,cub,yankee,phillies,baseball\n",
        "rec.sport.hockey cup,islander,octopus,coach,wc,buffalo,detroit,leaf,wing,team,puck,shark,penguin,goal,goalie,espn,bruin,playoff,nhl,hockey\n",
        "sci.crypt"
       ]
      },
      {
       "output_type": "stream",
       "stream": "stdout",
       "text": [
        " encrypted,denning,sternlight,privacy,de,secret,tempest,cipher,crypt,no good,pgp,key,wiretap,security,nsa,cryptography,tapped,crypto,encryption,clipper\n",
        "sci.electronics motorola,dsp,spice,tv,pcb,disk copy,adcom,2600,resistor,led,rf,copy protected,copy,solvent,8051,voltage,ic,scope,electronics,circuit\n",
        "sci.med syndrome,physician,food,antibiotic,exercise,health,allergic,migraine,medicine,ear,treatment,cancer,patient,krillean,med,msg,medical,disease,photography,doctor\n",
        "sci.space astronomy,henry,the moon,flight,gamma ray,dc,jennise,mar,nasa,spacecraft,rocket,satellite,sky,pat,planet,moon,launch,orbit,shuttle,space\n",
        "soc.religion.christian"
       ]
      },
      {
       "output_type": "stream",
       "stream": "stdout",
       "text": [
        " translation,james,prayer,christianity,arrogance,catholic,hell,easter,kiefer,christ,geneva,1993,christian,sin,daily,church,verse,rutgers,athos,clh\n",
        "talk.politics.guns weaver,bd,hunting,cnn,texas,liberty,cdt,militia,nra,quisling,fbi,burn,handgun,dividian,waco,weapon,ranch,firearm,atf,gun\n",
        "talk.politics.mideast jerusalem,turkey,hezbollah,iran,racism,uva,serdar,argic,zionism,armenia,andi,adl,muslim,palestinian,jew,turkish,arab,armenian,israeli,israel\n",
        "talk.politics.misc pyotr,initiative,kinsey,income,hostage,clinton,tax,mow,state,teel,sexual,garrett,drug,clayton,optilink,drieux,gay,top ten,cramer,kaldis\n",
        "talk.religion.misc"
       ]
      },
      {
       "output_type": "stream",
       "stream": "stdout",
       "text": [
        " 2000,rawlins,robert wei,new age,666,koresh,new religion,who next,beast,tyre,thou,2000 year,mormon,mr president,hudson,abortion,brian,rosicrucian,burden,promise\n",
        "ng20_raw_lemmas_unigrams_df1_tf1 ^ ng20_raw_lemmas_bigrams_df1_tf1 ^ wiki_google_bigrams_vw  -->  precision  0.889875572548 recall  0.886290937845 f1  0.887021394494\n",
        "loaded (69889) terms"
       ]
      },
      {
       "output_type": "stream",
       "stream": "stdout",
       "text": [
        "\n",
        "extended to (89352) terms"
       ]
      },
      {
       "output_type": "stream",
       "stream": "stdout",
       "text": [
        "\n",
        "done loading vocabulary\n",
        "vectorizing done, 89352 terms vocabulary tokenized"
       ]
      },
      {
       "output_type": "stream",
       "stream": "stdout",
       "text": [
        "\n",
        "vectorizing done, 89352 terms vocabulary tokenized"
       ]
      },
      {
       "output_type": "stream",
       "stream": "stdout",
       "text": [
        "\n"
       ]
      },
      {
       "output_type": "stream",
       "stream": "stdout",
       "text": [
        "accuracy scores = [ 0.85259809  0.89044586  0.88286565  0.85848053],0.871097531275\n"
       ]
      },
      {
       "output_type": "stream",
       "stream": "stdout",
       "text": [
        "macro precision scores = [ 0.85146227  0.89027832  0.87967807  0.85736237],0.86969525832\n"
       ]
      },
      {
       "output_type": "stream",
       "stream": "stdout",
       "text": [
        "macro recall scores = [ 0.84489823  0.88837978  0.87626884  0.85574003],0.866321718904\n"
       ]
      },
      {
       "output_type": "stream",
       "stream": "stdout",
       "text": [
        "macro f1 scores = [ 0.84626381  0.88917505  0.87665804  0.85570146],0.866949591078\n"
       ]
      },
      {
       "output_type": "stream",
       "stream": "stdout",
       "text": [
        "weighted average precision scores = [ 0.85324223  0.89091536  0.88333093  0.86058806],0.872019145209\n"
       ]
      },
      {
       "output_type": "stream",
       "stream": "stdout",
       "text": [
        "weighted average recall scores = [ 0.85324223  0.89091536  0.88333093  0.86058806],0.872019145209\n"
       ]
      },
      {
       "output_type": "stream",
       "stream": "stdout",
       "text": [
        "weighted f1 scores = [ 0.8513825   0.89054083  0.88193392  0.85870938],0.87064165786\n",
        "dimensionality: 89352"
       ]
      },
      {
       "output_type": "stream",
       "stream": "stdout",
       "text": [
        "\n",
        "density: 0.439534649476\n",
        "alt.atheism cobb,dogma,deletion,bake,scout,vice,mantis,bobby,motto,liar,jon,tammy,batman,gregg,islamic,charley,rushdie,atheism,atheist,keith\n",
        "comp.graphics autodesk,point,algorithm,sphere,targa,hacker,mpeg,photoshop,animation,surface,tiff,fractal,viewer,rumour,polygon,siggraph,image,pov,3d,graphic\n",
        "comp.os.ms-windows.misc character,swap file,download,logo,canon,m,risc,file,setup,win,driver,nt,ini,bmp,ax,program manager,challenge,supporter,microsoft,window\n",
        "comp.sys.ibm.pc.hardware modem,amd,compaq,interrupt,pentium,irq,wally,isa,trinitron,jumper,connect,17,ide,motherboard,monitor,vlb,cmos,pc,gateway,bios\n",
        "comp.sys.mac.hardware ethernet,appletalk,hardware,cyclone,iifx,x86,68040,on 24,iici,pb,se,adb,duo,centris,powerbook,quadra,iisi,lc,apple,mac\n",
        "comp.windows.x hypercard,cursor,lib,sun,gc,client,mit,default,consortium,the server,christy,subject,display,twm,event,window manager,x11,server,widget,motif\n",
        "misc.forsale the package,lens,original,size,junk mail,cd,deal,thad,snes,call,pay,camera,summer,sell,for sale,asking,wanted,sale,offer,shipping\n",
        "rec.autos shifting,honda,nissan,vw,eliot,opel,diesel,callison,integra,v6,mustang,toyota,dealer,oil,warning,automotive,ford,geico,auto,car\n",
        "rec.motorcycles stroke,piece,ama,cage,ducati,biker,moa,yamaha,the bike,harley,kawasaki,dog,bmw,helmet,ride,rider,riding,motorcycle,bike,dod\n",
        "rec.sport.baseball"
       ]
      },
      {
       "output_type": "stream",
       "stream": "stdout",
       "text": [
        " nl,mets,marlin,uniform,hit,morris,hitter,tiger,stadium,fenway,dodger,sox,ball,brave,giant,pitcher,cub,yankee,phillies,baseball\n",
        "rec.sport.hockey cup,pit,octopus,wing,detroit,leaf,coach,team,buffalo,puck,goal,islander,penguin,shark,espn,goalie,bruin,playoff,nhl,hockey\n",
        "sci.crypt algorithm,escrow,encrypted,once,tempest,rsa,privacy,denning,cipher,crypt,secret,key,pgp,security,wiretap,cryptography,crypto,no good,encryption,clipper\n",
        "sci.electronics dsp,tv,exploding,baden,led,disk copy,pcb,2600,spice,resistor,copy,adhesive,rf,copy protected,8051,ic,voltage,scope,electronics,circuit\n",
        "sci.med food,methodology,syndrome,exercise,migraine,physician,allergic,health,medicine,cancer,gordon bank,ear,treatment,patient,med,msg,disease,medical,doctor,photography\n",
        "sci.space flight,astro,astronomy,the moon,mission,nasa,dc,mar,gamma ray,satellite,spacecraft,rocket,pat,planet,sky,moon,orbit,shuttle,launch,space\n",
        "soc.religion.christian married,may,dream,spiritual,translation,james,catholic,hell,easter,prayer,christianity,christian,geneva,sin,christ,church,daily,verse,1993,rutgers\n",
        "talk.politics.guns criminal,senate,gritz,hunting,texas,nra,cnn,liberty,quisling,burn,handgun,militia,fbi,dividian,ranch,weapon,waco,atf,firearm,gun\n",
        "talk.politics.mideast racism,freedom,say you,hamas,hezbollah,pro,armenia,zionism,muslim,beyer,argic,adl,serdar,palestinian,jew,turkish,arab,armenian,israeli,israel\n",
        "talk.politics.misc income,percentage,kinsey,liberal,hostage,tax,narrative,police state,ted frank,drug,rutgers,state,sexual,initiative,hallam,clayton,garrett,gay,top ten,cramer\n",
        "talk.religion.misc"
       ]
      },
      {
       "output_type": "stream",
       "stream": "stdout",
       "text": [
        " 2000 year,the beast,sabin,sword,albert sabin,new age,tyre,mormon,commandment,who next,mithra,new religion,beast,hudson,rosicrucian,mr president,abortion,burden,brian,promise\n",
        "ng20_raw_lemmas_bigrams_df1_tf1 ^ wiki_google_bigrams_vw (extended unigrams) -->  precision  0.86969525832 recall  0.866321718904 f1  0.866949591078\n",
        "loaded (197794) terms"
       ]
      },
      {
       "output_type": "stream",
       "stream": "stdout",
       "text": [
        "\n",
        "vectorizing done, 197794 terms vocabulary tokenized"
       ]
      },
      {
       "output_type": "stream",
       "stream": "stdout",
       "text": [
        "\n",
        "vectorizing done, 197794 terms vocabulary tokenized"
       ]
      },
      {
       "output_type": "stream",
       "stream": "stdout",
       "text": [
        "\n"
       ]
      },
      {
       "output_type": "stream",
       "stream": "stdout",
       "text": [
        "accuracy scores = [ 0.87168611  0.90997877  0.90306122  0.87720792],0.890483504453\n"
       ]
      },
      {
       "output_type": "stream",
       "stream": "stdout",
       "text": [
        "macro precision scores = [ 0.87011996  0.90976361  0.90166829  0.87624191],0.889448441995\n"
       ]
      },
      {
       "output_type": "stream",
       "stream": "stdout",
       "text": [
        "macro recall scores = [ 0.86396313  0.90790565  0.89728579  0.87450295],0.885914379561\n"
       ]
      },
      {
       "output_type": "stream",
       "stream": "stdout",
       "text": [
        "macro f1 scores = [ 0.86518759  0.90866767  0.89819585  0.87453512],0.88664655684\n"
       ]
      },
      {
       "output_type": "stream",
       "stream": "stdout",
       "text": [
        "weighted average precision scores = [ 0.87184234  0.91021506  0.90414049  0.87933377],0.891382915514\n"
       ]
      },
      {
       "output_type": "stream",
       "stream": "stdout",
       "text": [
        "weighted average recall scores = [ 0.87184234  0.91021506  0.90414049  0.87933377],0.891382915514\n"
       ]
      },
      {
       "output_type": "stream",
       "stream": "stdout",
       "text": [
        "weighted f1 scores = [ 0.87034001  0.9099488   0.90247053  0.8774846 ],0.890060983013\n",
        "dimensionality: 197794"
       ]
      },
      {
       "output_type": "stream",
       "stream": "stdout",
       "text": [
        "\n",
        "density: 0.495952860046\n",
        "alt.atheism wrote,jaeger,kmr4,dogma,mangoe,scout,charley,wwc,tammy,asimov,wingate,cobb,motto,benedikt,islamic,rushdie,mathew,atheism,atheist,keith\n",
        "comp.graphics targa,vesa,algorithm,photoshop,sphere,mpeg,viewer,surface,tiff,animation,fractal,hacker,cview,siggraph,polygon,image,3do,pov,3d,graphic\n",
        "comp.os.ms-windows.misc wfw,doublespace,smartdrv,setup,risc,winqvt,driver,bmp,nt,file,ini,program manager,ax,win,challenge,supporter,win3,cica,microsoft,window\n",
        "comp.sys.ibm.pc.hardware"
       ]
      },
      {
       "output_type": "stream",
       "stream": "stdout",
       "text": [
        " compaq,connect,mitsumi,motherboards,winmarks,modem,monitor,nanao,isa,cmos,486,motherboard,irq,fastmicro,vlb,ide,pc,jumper,gateway,bios\n",
        "comp.sys.mac.hardware kept on,iifx,68040,040,deskwriter,pb,floptical,iici,bmug,adb,lciii,iisi,se,quadra,lc,powerbook,duo,centris,apple,mac\n",
        "comp.windows.x xwindows,event,display,twm,xv,r5,xdm,imake,consortium,unsubscribe,openwindows,xfree86,x11,window manager,xlib,server,widget,xterm,x11r5,motif\n",
        "misc.forsale includes,2190,deal,excellent,snes,pay,cd,summer,obo,camera,call,asking,sell,interested,wanted,offer,sale,for sale,shipping,forsale\n",
        "rec.autos mr2,truck,nissan,sunroof,vw,honda,integra,diesel,v6,mustang,opel,toyota,automotive,oil,dealer,warning,geico,ford,auto,car\n",
        "rec.motorcycles"
       ]
      },
      {
       "output_type": "stream",
       "stream": "stdout",
       "text": [
        " kreme,biker,ama,cager,moa,cage,infante,yamaha,ranck,harley,kawasaki,dog,helmet,bmw,ride,rider,riding,motorcycle,bike,dod\n",
        "rec.sport.baseball uniform,hit,mattingly,nl,mets,hitter,fenway,stadium,tiger,morris,ball,dodger,sox,brave,giant,pitcher,cub,yankee,phillies,baseball\n",
        "rec.sport.hockey oiler,buffalo,coach,detroit,wc,cup,puck,team,pen,wing,goal,leaf,shark,penguin,goalie,espn,bruin,playoff,nhl,hockey\n",
        "sci.crypt encrypted,sternlight,denning,privacy,de,tempest,cipher,crypt,secret,no good,key,pgp,wiretap,security,nsa,tapped,cryptography,crypto,encryption,clipper\n",
        "sci.electronics dsp,spice,protected,exploding,tv,resistor,pcb,adcom,2600,led,rf,solvent,8051,copy,voltage,disk copy,ic,scope,electronics,circuit\n",
        "sci.med"
       ]
      },
      {
       "output_type": "stream",
       "stream": "stdout",
       "text": [
        " syndrome,antibiotic,cure,health,skin,exercise,migraine,allergic,medicine,ear,treatment,cancer,patient,med,krillean,medical,msg,disease,photography,doctor\n",
        "sci.space astronomy,astro,gamma ray,flight,henry,dc,mar,jennise,nasa,spacecraft,satellite,rocket,pat,planet,sky,launch,orbit,shuttle,moon,space\n",
        "soc.religion.christian translation,james,christianity,catholic,prayer,arrogance,hell,christ,easter,1993,christian,geneva,kiefer,sin,daily,church,verse,rutgers,athos,clh\n",
        "talk.politics.guns regulated,cnn,texas,hunting,cdt,weaver,liberty,militia,nra,burn,fbi,quisling,handgun,dividian,waco,weapon,ranch,firearm,atf,gun\n",
        "talk.politics.mideast bosnia,hamas,iran,hezbollah,racism,uva,zionism,armenia,argic,andi,serdar,muslim,adl,jew,palestinian,turkish,arab,armenian,israeli,israel\n",
        "talk.politics.misc"
       ]
      },
      {
       "output_type": "stream",
       "stream": "stdout",
       "text": [
        " kinsey,initiative,police state,income,clinton,tax,hostage,state,mow,president,drug,sexual,teel,garrett,optilink,clayton,drieux,gay,cramer,kaldis\n",
        "talk.religion.misc royalroads,biblical,sabin,rawlins,new age,tyre,666,beast,koresh,thou,wei,abortion,brian,2000,hudson,mormon,mr president,burden,rosicrucian,promise\n",
        "ng20_raw_lemmas_unigrams_df1_tf1 ^ ng20_raw_lemmas_bigrams_df1_tf1 ^ wiktionary_google_bigrams_vw  -->  precision  0.889448441995 recall  0.885914379561 f1  0.88664655684\n",
        "loaded (37262) terms"
       ]
      },
      {
       "output_type": "stream",
       "stream": "stdout",
       "text": [
        "\n",
        "extended to (47296) terms\n",
        "done loading vocabulary\n",
        "vectorizing done, 47296 terms vocabulary tokenized"
       ]
      },
      {
       "output_type": "stream",
       "stream": "stdout",
       "text": [
        "\n",
        "vectorizing done, 47296 terms vocabulary tokenized"
       ]
      },
      {
       "output_type": "stream",
       "stream": "stdout",
       "text": [
        "\n"
       ]
      },
      {
       "output_type": "stream",
       "stream": "stdout",
       "text": [
        "accuracy scores = [ 0.82799576  0.86836518  0.86373299  0.82868695],0.847195221639\n"
       ]
      },
      {
       "output_type": "stream",
       "stream": "stdout",
       "text": [
        "macro precision scores = [ 0.82437514  0.86688156  0.86112886  0.82745416],0.844959930603\n"
       ]
      },
      {
       "output_type": "stream",
       "stream": "stdout",
       "text": [
        "macro recall scores = [ 0.82044919  0.86602938  0.85751724  0.82516057],0.842289093743\n"
       ]
      },
      {
       "output_type": "stream",
       "stream": "stdout",
       "text": [
        "macro f1 scores = [ 0.82099174  0.86632804  0.85807628  0.82519773],0.842648445718\n"
       ]
      },
      {
       "output_type": "stream",
       "stream": "stdout",
       "text": [
        "weighted average precision scores = [ 0.82733148  0.86862689  0.86418256  0.83124905],0.847847495041\n"
       ]
      },
      {
       "output_type": "stream",
       "stream": "stdout",
       "text": [
        "weighted average recall scores = [ 0.82733148  0.86862689  0.86418256  0.83124905],0.847847495041\n"
       ]
      },
      {
       "output_type": "stream",
       "stream": "stdout",
       "text": [
        "weighted f1 scores = [ 0.8264836   0.8683694   0.86286381  0.82887554],0.84664808875\n",
        "dimensionality: 47296"
       ]
      },
      {
       "output_type": "stream",
       "stream": "stdout",
       "text": [
        "\n",
        "density: 0.435154135656\n",
        "alt.atheism writes,go to,moral,punishment,liar,scout,islam,wrote,gulf war,bake,vice,motto,po,political,batman,islamic,charley,atheist,atheism,rushdie\n",
        "comp.graphics temp file,gopher,hacker ethic,rgb,virtual reality,impulse,significance,mpeg,sphere,surface,hacker,animation,vesa,viewer,rot,philosophical,polygon,image,3d,graphic\n",
        "comp.os.ms-windows.misc dll,driver,filename,character,swap file,setup,printer driver,logo,risc,download,bmp,canon,nt,win,ini,ax,program manager,challenge,microsoft,window\n",
        "comp.sys.ibm.pc.hardware isa,mcmaster,monitor,connector,motherboard,floppy,computer,robert,cdrom,comment,spec,gosh,interrupt,irq,486,cmos,ide,pc,bios,gateway\n",
        "comp.sys.mac.hardware 900,bernoulli,upgrade,oscillator,price drop,internal,sage,powerpc,hardware,clock,floptical,mathematica,cyclone,iii,x86,kept on,se,pb,apple,mac\n",
        "comp.windows.x support,sparc,binary,patch,dump,cursor,subject,symbol,hypercard,client,lib,display,default,sun,event,consortium,window manager,widget,server,motif\n",
        "misc.forsale seller,cod,vhs,size,cd,pay,original,calculator,call,camera,junk mail,sell,deal,thad,summer,asking,sale,wanted,offer,shipping\n",
        "rec.autos road,leak,honda,diesel,engine,truck,wagon,v8,oil,dealer,toyota,nissan,mustang,insurance company,vw,v6,warning,ford,auto,car\n",
        "rec.motorcycles lock,drunk,advice,piece,e,stroke,shaft,cage,seca,chain,harley,biker,dog,bmw,helmet,ride,riding,rider,motorcycle,bike\n",
        "rec.sport.baseball sport,nl,hit,uniform,tiger,career,hitter,sox,stadium,dodger,mets,pitcher,brave,ball,morris,giant,cub,yankee,phillies,baseball\n",
        "rec.sport.hockey overtime,cap,mask,cup,puck,oiler,cherry,wing,buffalo,coach,leaf,pen,goal,detroit,penguin,shark,bruin,playoff,nhl,hockey\n",
        "sci.crypt de,public key,password,algorithm,announcement,lobby,escrow,privacy,any more,key,rsa,crypt,cipher,secret,security,wiretap,no good,encryption,cryptography,clipper\n",
        "sci.electronics motorola,dayton,pcb,baden,led,protected,tv,spice,adhesive,copy,resistor,2600,rf,ic,8051,voltage,disk copy,scope,electronics,circuit\n",
        "sci.med cure,methodology,skin,exercise,syndrome,cancer,effect,food,surrender,sensitivity,pitt,allergic,medicine,treatment,ear,patient,med,disease,medical,doctor\n",
        "sci.space funding,flight,solar,henry,mission,dc,satellite,astronomy,mar,gamma ray,fred,rocket,spacecraft,planet,launch,moon,shuttle,orbit,sky,space\n",
        "soc.religion.christian roman,translation,spiritual,ceremony,you think,catholic,james,may,hell,christianity,christian,easter,prayer,christ,sin,daily,verse,church,geneva,rutgers\n",
        "talk.politics.guns safety,swiss,senate,socialist leader,weaver,criminal,texas,burn,liberty,militia,acronym,hunting,cnn,fbi,waco,weapon,atf,ranch,firearm,gun\n",
        "talk.politics.mideast occupied,jerusalem,iranian,soldier,hamas,bosnians,holocaust,having to,armenia,muslim,freedom,pro,palestinian,turkish,jew,adl,arab,armenian,israeli,israel\n",
        "talk.politics.misc"
       ]
      },
      {
       "output_type": "stream",
       "stream": "stdout",
       "text": [
        " molester,child molester,ten,hostage,drug,fetus,employment,narrative,pyramid,thor,verdict,state,rutgers,baker,initiative,consent,sexual,percentage,police state,gay\n",
        "talk.religion.misc stephen,the beast,josephus,new religion,beast,new age,loving god,abortion,sword,commandment,order,2000,biblical,mithra,hudson,mormon,tossed,burden,mr president,promise\n",
        "ng20_raw_lemmas_bigrams_df1_tf1 ^ wiktionary_google_bigrams_vw (extended unigrams) -->  precision  0.844959930603 recall  0.842289093743 f1  0.842648445718\n",
        "loaded (233262) terms"
       ]
      },
      {
       "output_type": "stream",
       "stream": "stdout",
       "text": [
        "\n",
        "vectorizing done, 233262 terms vocabulary tokenized"
       ]
      },
      {
       "output_type": "stream",
       "stream": "stdout",
       "text": [
        "\n",
        "vectorizing done, 233262 terms vocabulary tokenized"
       ]
      },
      {
       "output_type": "stream",
       "stream": "stdout",
       "text": [
        "\n"
       ]
      },
      {
       "output_type": "stream",
       "stream": "stdout",
       "text": [
        "accuracy scores = [ 0.87274655  0.91082803  0.90369898  0.8786976 ],0.891492788464\n"
       ]
      },
      {
       "output_type": "stream",
       "stream": "stdout",
       "text": [
        "macro precision scores = [ 0.87194891  0.91060206  0.90192734  0.87809046],0.890642193374\n"
       ]
      },
      {
       "output_type": "stream",
       "stream": "stdout",
       "text": [
        "macro recall scores = [ 0.86529386  0.9087515   0.89819934  0.87619084],0.887108885363\n"
       ]
      },
      {
       "output_type": "stream",
       "stream": "stdout",
       "text": [
        "macro f1 scores = [ 0.86664834  0.90950585  0.89891518  0.87631167],0.887845259849\n"
       ]
      },
      {
       "output_type": "stream",
       "stream": "stdout",
       "text": [
        "weighted average precision scores = [ 0.87325013  0.91116075  0.90464562  0.88060632],0.892415704555\n"
       ]
      },
      {
       "output_type": "stream",
       "stream": "stdout",
       "text": [
        "weighted average recall scores = [ 0.87325013  0.91116075  0.90464562  0.88060632],0.892415704555\n"
       ]
      },
      {
       "output_type": "stream",
       "stream": "stdout",
       "text": [
        "weighted f1 scores = [ 0.87147589  0.91083688  0.90315514  0.87884968],0.891079399216\n",
        "dimensionality: 233262"
       ]
      },
      {
       "output_type": "stream",
       "stream": "stdout",
       "text": [
        "\n",
        "density: 0.497993672351\n",
        "alt.atheism dogma,religion,enviroleague,mangoe,jaeger,scout,charley,tammy,asimov,wwc,motto,wingate,cobb,benedikt,islamic,rushdie,mathew,atheism,keith,atheist\n",
        "comp.graphics targa,format,photoshop,sphere,mpeg,algorithm,hacker,surface,viewer,animation,tiff,fractal,cview,siggraph,polygon,image,3do,pov,3d,graphic\n",
        "comp.os.ms-windows.misc"
       ]
      },
      {
       "output_type": "stream",
       "stream": "stdout",
       "text": [
        " doublespace,smartdrv,m,risc,winqvt,setup,nt,bmp,ini,driver,file,win,program manager,ax,challenge,supporter,win3,cica,microsoft,window\n",
        "comp.sys.ibm.pc.hardware mitsumi,compaq,motherboards,winmarks,connect,modem,nanao,isa,monitor,486,irq,fastmicro,cmos,motherboard,ide,vlb,jumper,pc,gateway,bios\n",
        "comp.sys.mac.hardware on 24,c650,macweek,040,deskwriter,iici,floptical,pb,bmug,adb,lciii,se,iisi,centris,quadra,duo,lc,powerbook,apple,mac\n",
        "comp.windows.x pixmap,xwindows,event,display,r5,twm,xv,xdm,imake,openwindows,unsubscribe,xfree86,window manager,x11,xlib,server,widget,xterm,x11r5,motif\n",
        "misc.forsale"
       ]
      },
      {
       "output_type": "stream",
       "stream": "stdout",
       "text": [
        " includes,deal,00,excellent,snes,summer,pay,cd,obo,camera,call,asking,interested,sell,wanted,offer,sale,shipping,for sale,forsale\n",
        "rec.autos wagon,mr2,vw,nissan,sunroof,honda,opel,v6,diesel,integra,mustang,dealer,toyota,automotive,oil,warning,geico,ford,auto,car\n",
        "rec.motorcycles ducati,cager,cage,moa,infante,ama,ranck,yamaha,the bike,kawasaki,harley,dog,helmet,bmw,ride,rider,riding,motorcycle,bike,dod\n",
        "rec.sport.baseball jay,stats,mets,hit,nl,morris,hitter,tiger,fenway,stadium,dodger,ball,brave,sox,giant,pitcher,cub,yankee,phillies,baseball\n",
        "rec.sport.hockey"
       ]
      },
      {
       "output_type": "stream",
       "stream": "stdout",
       "text": [
        " cup,islander,octopus,coach,wc,detroit,buffalo,leaf,wing,team,puck,shark,penguin,goal,goalie,espn,bruin,playoff,nhl,hockey\n",
        "sci.crypt any more,denning,sternlight,privacy,tempest,de,secret,cipher,crypt,no good,pgp,key,wiretap,security,nsa,cryptography,tapped,crypto,encryption,clipper\n",
        "sci.electronics dsp,motorola,spice,disk copy,pcb,adcom,tv,2600,resistor,led,copy protected,rf,copy,solvent,8051,voltage,ic,scope,electronics,circuit\n",
        "sci.med allergy,syndrome,food,antibiotic,exercise,health,allergic,migraine,medicine,ear,treatment,cancer,patient,krillean,med,msg,medical,disease,photography,doctor\n",
        "sci.space"
       ]
      },
      {
       "output_type": "stream",
       "stream": "stdout",
       "text": [
        " astronomy,the moon,henry,flight,gamma ray,dc,jennise,mar,nasa,spacecraft,rocket,satellite,sky,pat,planet,moon,launch,orbit,shuttle,space\n",
        "soc.religion.christian translation,james,prayer,christianity,arrogance,catholic,hell,easter,christ,kiefer,geneva,1993,christian,sin,daily,church,verse,rutgers,athos,clh\n",
        "talk.politics.guns rifle,bd,hunting,cnn,texas,liberty,cdt,militia,nra,quisling,fbi,burn,handgun,dividian,weapon,waco,ranch,firearm,atf,gun\n",
        "talk.politics.mideast jerusalem,turkey,hezbollah,iran,racism,uva,serdar,argic,zionism,armenia,andi,adl,muslim,palestinian,jew,turkish,arab,armenian,israeli,israel\n",
        "talk.politics.misc"
       ]
      },
      {
       "output_type": "stream",
       "stream": "stdout",
       "text": [
        " health,initiative,kinsey,income,hostage,mow,tax,clinton,state,teel,sexual,drug,garrett,clayton,optilink,drieux,gay,top ten,cramer,kaldis\n",
        "talk.religion.misc mithra,robert wei,2000,rawlins,new age,666,koresh,beast,who next,tyre,2000 year,thou,mormon,mr president,abortion,hudson,brian,rosicrucian,burden,promise\n",
        "ng20_raw_lemmas_unigrams_df1_tf1 ^ ng20_raw_lemmas_bigrams_df1_tf1 ^ wiki_wiktionary_google_bigrams_vw  -->  precision  0.890642193374 recall  0.887108885363 f1  0.887845259849\n",
        "loaded (72730) terms"
       ]
      },
      {
       "output_type": "stream",
       "stream": "stdout",
       "text": [
        "\n",
        "extended to (92594) terms"
       ]
      },
      {
       "output_type": "stream",
       "stream": "stdout",
       "text": [
        "\n",
        "done loading vocabulary\n",
        "vectorizing done, 92594 terms vocabulary tokenized"
       ]
      },
      {
       "output_type": "stream",
       "stream": "stdout",
       "text": [
        "\n",
        "vectorizing done, 92594 terms vocabulary tokenized"
       ]
      },
      {
       "output_type": "stream",
       "stream": "stdout",
       "text": [
        "\n"
       ]
      },
      {
       "output_type": "stream",
       "stream": "stdout",
       "text": [
        "accuracy scores = [ 0.85408271  0.8910828   0.88392857  0.85741647],0.871627640077\n"
       ]
      },
      {
       "output_type": "stream",
       "stream": "stdout",
       "text": [
        "macro precision scores = [ 0.85293589  0.89081387  0.88090622  0.85674582],0.870350448707\n"
       ]
      },
      {
       "output_type": "stream",
       "stream": "stdout",
       "text": [
        "macro recall scores = [ 0.84630014  0.88865285  0.8776957   0.85477459],0.866855818651\n"
       ]
      },
      {
       "output_type": "stream",
       "stream": "stdout",
       "text": [
        "macro f1 scores = [ 0.84755379  0.8895041   0.87802579  0.85487814],0.867490454632\n"
       ]
      },
      {
       "output_type": "stream",
       "stream": "stdout",
       "text": [
        "weighted average precision scores = [ 0.85474897  0.89159247  0.88449528  0.85974766],0.872646094006\n"
       ]
      },
      {
       "output_type": "stream",
       "stream": "stdout",
       "text": [
        "weighted average recall scores = [ 0.85474897  0.89159247  0.88449528  0.85974766],0.872646094006\n"
       ]
      },
      {
       "output_type": "stream",
       "stream": "stdout",
       "text": [
        "weighted f1 scores = [ 0.85278326  0.89112606  0.88307763  0.8577215 ],0.871177111264\n",
        "dimensionality: 92594"
       ]
      },
      {
       "output_type": "stream",
       "stream": "stdout",
       "text": [
        "\n",
        "density: 0.445909022183\n",
        "alt.atheism dogma,bake,vice,scout,mantis,deletion,cobb,bobby,motto,jon,liar,batman,tammy,gregg,islamic,charley,rushdie,atheism,atheist,keith\n",
        "comp.graphics rgb,point,algorithm,targa,sphere,hacker,photoshop,mpeg,animation,tiff,surface,fractal,rumour,viewer,polygon,siggraph,image,pov,3d,graphic\n",
        "comp.os.ms-windows.misc swap file,character,logo,download,m,canon,file,risc,setup,win,driver,nt,ini,bmp,ax,program manager,challenge,supporter,microsoft,window\n",
        "comp.sys.ibm.pc.hardware specification,modem,compaq,interrupt,pentium,isa,wally,irq,trinitron,connect,jumper,17,motherboard,ide,monitor,vlb,cmos,pc,gateway,bios\n",
        "comp.sys.mac.hardware dead mouse,950,th,x86,iifx,on 24,68040,iici,floptical,pb,se,adb,duo,centris,powerbook,iisi,quadra,lc,apple,mac\n",
        "comp.windows.x support,cursor,lib,gc,client,sun,mit,consortium,default,the server,christy,subject,display,twm,event,window manager,x11,server,widget,motif\n",
        "misc.forsale the package,calculator,original,size,junk mail,cd,thad,deal,pay,snes,call,camera,summer,sell,for sale,asking,wanted,sale,shipping,offer\n",
        "rec.autos mr2,shifting,honda,nissan,opel,eliot,diesel,callison,v6,integra,toyota,mustang,dealer,oil,warning,automotive,ford,geico,auto,car\n",
        "rec.motorcycles"
       ]
      },
      {
       "output_type": "stream",
       "stream": "stdout",
       "text": [
        " stafford,piece,ama,cage,ducati,biker,moa,yamaha,the bike,harley,kawasaki,dog,bmw,helmet,ride,rider,riding,motorcycle,bike,dod\n",
        "rec.sport.baseball nl,mets,marlin,uniform,hitter,tiger,hit,morris,stadium,fenway,dodger,sox,ball,brave,giant,pitcher,cub,yankee,phillies,baseball\n",
        "rec.sport.hockey cup,pit,octopus,wing,detroit,leaf,coach,team,buffalo,puck,goal,islander,penguin,shark,espn,goalie,bruin,playoff,nhl,hockey\n",
        "sci.crypt de,encrypted,escrow,tempest,rsa,privacy,denning,cipher,crypt,secret,any more,key,pgp,wiretap,security,no good,cryptography,crypto,encryption,clipper\n",
        "sci.electronics dsp,exploding,baden,disk copy,tv,led,pcb,2600,spice,resistor,copy,adhesive,copy protected,rf,8051,ic,voltage,scope,electronics,circuit\n",
        "sci.med syndrome,methodology,exercise,food,migraine,physician,allergic,health,medicine,gordon bank,cancer,ear,patient,treatment,med,msg,disease,medical,doctor,photography\n",
        "sci.space astro,flight,the moon,astronomy,mission,nasa,dc,mar,gamma ray,satellite,spacecraft,rocket,pat,planet,sky,moon,orbit,shuttle,launch,space\n",
        "soc.religion.christian dream,roman,may,spiritual,translation,james,easter,catholic,prayer,hell,christianity,christian,geneva,christ,sin,church,daily,1993,verse,rutgers\n",
        "talk.politics.guns criminal,gritz,hunting,texas,cnn,nra,liberty,quisling,burn,acronym,handgun,militia,fbi,dividian,ranch,weapon,waco,atf,firearm,gun\n",
        "talk.politics.mideast jerusalem,hamas,freedom,racism,hezbollah,pro,armenia,zionism,muslim,beyer,argic,adl,serdar,palestinian,jew,turkish,arab,armenian,israeli,israel\n",
        "talk.politics.misc"
       ]
      },
      {
       "output_type": "stream",
       "stream": "stdout",
       "text": [
        " clinton,liberal,percentage,kinsey,tax,ted frank,hostage,narrative,police state,drug,rutgers,initiative,state,sexual,hallam,clayton,garrett,gay,top ten,cramer\n",
        "talk.religion.misc robert wei,koresh,2000 year,tossed,the beast,sword,new age,tyre,mormon,commandment,who next,mithra,beast,hudson,mr president,rosicrucian,abortion,burden,brian,promise\n",
        "ng20_raw_lemmas_bigrams_df1_tf1 ^ wiki_wiktionary_google_bigrams_vw (extended unigrams) -->  precision  0.870350448707 recall  0.866855818651 f1  0.867490454632\n",
        "loaded (143566) terms"
       ]
      },
      {
       "output_type": "stream",
       "stream": "stdout",
       "text": [
        "\n",
        "vectorizing done, 143566 terms vocabulary tokenized"
       ]
      },
      {
       "output_type": "stream",
       "stream": "stdout",
       "text": [
        "\n",
        "vectorizing done, 143566 terms vocabulary tokenized"
       ]
      },
      {
       "output_type": "stream",
       "stream": "stdout",
       "text": [
        "\n"
       ]
      },
      {
       "output_type": "stream",
       "stream": "stdout",
       "text": [
        "accuracy scores = [ 0.86744433  0.90636943  0.89647109  0.87210045],0.885596322177\n"
       ]
      },
      {
       "output_type": "stream",
       "stream": "stdout",
       "text": [
        "macro precision scores = [ 0.86485913  0.9058063   0.89648501  0.8710018 ],0.88453806062\n"
       ]
      },
      {
       "output_type": "stream",
       "stream": "stdout",
       "text": [
        "macro recall scores = [ 0.86010967  0.9042498   0.89058296  0.86922524],0.881041918238\n"
       ]
      },
      {
       "output_type": "stream",
       "stream": "stdout",
       "text": [
        "macro f1 scores = [ 0.86117574  0.90488353  0.89189399  0.86931745],0.881817676205\n"
       ]
      },
      {
       "output_type": "stream",
       "stream": "stdout",
       "text": [
        "weighted average precision scores = [ 0.86707349  0.90654426  0.89832051  0.87407244],0.886502677706\n"
       ]
      },
      {
       "output_type": "stream",
       "stream": "stdout",
       "text": [
        "weighted average recall scores = [ 0.86707349  0.90654426  0.89832051  0.87407244],0.886502677706\n"
       ]
      },
      {
       "output_type": "stream",
       "stream": "stdout",
       "text": [
        "weighted f1 scores = [ 0.86625277  0.90632312  0.89596593  0.87232265],0.885216118356\n",
        "dimensionality: 143566"
       ]
      },
      {
       "output_type": "stream",
       "stream": "stdout",
       "text": [
        "\n",
        "density: 0.513719125698\n",
        "alt.atheism cruel,kmr4,wwc,jsn104,mango,enviroleagu,tammi,dogma,wingat,motto,asimov,cobb,benedikt,rushdi,scout,mathew,islam,atheism,atheist,keith\n",
        "comp.graphics targa,sphere,anim,viewer,algorithm,mpeg,raytrac,tiff,surfac,photoshop,fractal,cview,hacker,polygon,imag,siggraph,pov,3do,3d,graphic\n",
        "comp.os.ms-windows.misc winfax,dll,driver,wfw,setup,smartdrv,winqvt,nt,doublespac,risc,file,ini,bmp,ax,win,challeng,cica,win3,microsoft,window\n",
        "comp.sys.ibm.pc.hardware connect,modem,zeo,nanao,laserjet,gosh,interrupt,mitsumi,ide,cmo,pc,isa,winmark,vlb,irq,fastmicro,jumper,motherboard,bio,gateway\n",
        "comp.sys.mac.hardware"
       ]
      },
      {
       "output_type": "stream",
       "stream": "stdout",
       "text": [
        " iifx,c650,macweek,040,68040,iici,pb,deskwrit,bmug,adb,iisi,lciii,se,lc,quadra,centri,duo,powerbook,appl,mac\n",
        "comp.windows.x event,xwd,xdm,xhibit,imak,r5,xwindow,xv,twm,unsubscrib,openwindow,xfree86,consortium,x11,xlib,server,widget,xterm,x11r5,motif\n",
        "misc.forsale condit,ask,airlin,00,cd,size,pay,summer,2190,sne,interest,camera,obo,includ,want,sell,ship,offer,forsal,sale\n",
        "rec.autos dumbest,sunroof,vw,shift,honda,integra,diesel,v6,opel,mustang,toyota,truck,dealer,warn,oil,automot,geico,ford,auto,car\n",
        "rec.motorcycles infant,ducati,ama,kreme,cage,cager,moa,yamaha,ranck,dog,kawasaki,biker,harley,helmet,bmw,rider,ride,motorcycl,bike,dod\n",
        "rec.sport.baseball hitter,mattingli,uniform,nl,bat,fenway,tiger,ball,stadium,morri,dodger,pitch,brave,pitcher,giant,sox,cub,yanke,philli,basebal\n",
        "rec.sport.hockey"
       ]
      },
      {
       "output_type": "stream",
       "stream": "stdout",
       "text": [
        " team,cherri,wc,coach,pen,puck,cup,buffalo,goal,detroit,wing,leaf,shark,penguin,goali,espn,bruin,playoff,nhl,hockey\n",
        "sci.crypt sternlight,privaci,overreact,den,secret,lobbi,de,crypt,tempest,cipher,key,pgp,wiretap,secur,nsa,cryptographi,crypto,tap,encrypt,clipper\n",
        "sci.electronics resistor,dsp,shack,protect,led,spice,adcom,explod,tv,rf,pcb,8051,solvent,2600,voltag,copi,scope,ic,electron,circuit\n",
        "sci.med ecg,antibiot,health,migrain,cure,effect,exercis,ear,treatment,medicin,allerg,patient,cancer,msg,krillean,med,diseas,medic,photographi,doctor\n",
        "sci.space dietz,flight,astronomi,dc,henri,mar,burster,nasa,jennis,satellit,spacecraft,rocket,pat,planet,sky,shuttl,launch,moon,orbit,space\n",
        "soc.religion.christian ceremoni,hell,fisher,jame,prayer,cathol,christ,1993,christian,easter,arrog,sin,geneva,kiefer,vers,daili,church,rutger,atho,clh\n",
        "talk.politics.guns"
       ]
      },
      {
       "output_type": "stream",
       "stream": "stdout",
       "text": [
        " cipriani,ban,bd,gritz,liberti,weaver,militia,cdt,burn,fbi,nra,handgun,quisl,dividian,waco,weapon,ranch,firearm,atf,gun\n",
        "talk.politics.mideast hezbollah,yigal,holocaust,iran,jerusalem,muslim,argic,serdar,armenia,zionism,adl,uva,jew,bosnian,palestinian,turkish,arab,armenian,isra,israel\n",
        "talk.politics.misc verdict,tax,mow,health,violenc,hostag,pyotr,drug,incom,employ,initi,sexual,teel,optilink,garrett,gay,clayton,drieux,cramer,kaldi\n",
        "talk.religion.misc kendig,tyre,roehm,sabin,biblic,koresh,royalroad,abort,mormon,brian,thou,rawlin,weiss,666,promis,beast,hudson,rosicrucian,2000,burden\n",
        "ng20_raw_stems_unigrams_df1_tf1  -->  precision  0.88453806062 recall  0.881041918238 f1  0.881817676205\n",
        "loaded (1434241) terms"
       ]
      },
      {
       "output_type": "stream",
       "stream": "stdout",
       "text": [
        "\n",
        "vectorizing done, 1434241 terms vocabulary tokenized"
       ]
      },
      {
       "output_type": "stream",
       "stream": "stdout",
       "text": [
        "\n",
        "vectorizing done, 1434241 terms vocabulary tokenized"
       ]
      },
      {
       "output_type": "stream",
       "stream": "stdout",
       "text": [
        "\n"
       ]
      },
      {
       "output_type": "stream",
       "stream": "stdout",
       "text": [
        "accuracy scores = [ 0.87974549  0.91762208  0.91007653  0.88742286],0.898716740081\n"
       ]
      },
      {
       "output_type": "stream",
       "stream": "stdout",
       "text": [
        "macro precision scores = [ 0.88037532  0.91836131  0.91124311  0.88899664],0.899744092016\n"
       ]
      },
      {
       "output_type": "stream",
       "stream": "stdout",
       "text": [
        "macro recall scores = [ 0.87185834  0.91566536  0.90384538  0.8853612 ],0.894182570411\n"
       ]
      },
      {
       "output_type": "stream",
       "stream": "stdout",
       "text": [
        "macro f1 scores = [ 0.87349497  0.91670255  0.9054442   0.8859126 ],0.895388580126\n"
       ]
      },
      {
       "output_type": "stream",
       "stream": "stdout",
       "text": [
        "weighted average precision scores = [ 0.88092418  0.91839105  0.91270491  0.89018767],0.900551951446\n"
       ]
      },
      {
       "output_type": "stream",
       "stream": "stdout",
       "text": [
        "weighted average recall scores = [ 0.88092418  0.91839105  0.91270491  0.89018767],0.900551951446\n"
       ]
      },
      {
       "output_type": "stream",
       "stream": "stdout",
       "text": [
        "weighted f1 scores = [ 0.87836626  0.91772156  0.90957655  0.88759773],0.898315527085\n",
        "dimensionality: 1434241"
       ]
      },
      {
       "output_type": "stream",
       "stream": "stdout",
       "text": [
        "\n",
        "density: 0.497929950406"
       ]
      },
      {
       "output_type": "stream",
       "stream": "stdout",
       "text": [
        "\n",
        "alt.atheism"
       ]
      },
      {
       "output_type": "stream",
       "stream": "stdout",
       "text": [
        " charley,wingat,all go,asimov,tammi,jaeger,cobb,benedikt,scout,motto,moral,polit atheist,re polit,religion,mathew,rushdi,islam,keith,atheism,atheist\n",
        "comp.graphics"
       ]
      },
      {
       "output_type": "stream",
       "stream": "stdout",
       "text": [
        " mpeg,algorithm,raytrac,vesa,viewer,surfac,fractal,hacker,format,gif,cview,anim,siggraph,3do,tiff,pov,polygon,imag,3d,graphic\n",
        "comp.os.ms-windows.misc"
       ]
      },
      {
       "output_type": "stream",
       "stream": "stdout",
       "text": [
        " ax ax,to microsoft,ini,bmp,re challeng,microsoft support,challeng to,font,ms,program manag,nt,in window,win,driver,win3,file,cica,for window,microsoft,window\n",
        "comp.sys.ibm.pc.hardware"
       ]
      },
      {
       "output_type": "stream",
       "stream": "stdout",
       "text": [
        " connector,interrupt,cpu,drive,cmo,nanao,scsi,isa,modem,card,486,jumper,irq,monitor,vlb,pc,ide,motherboard,gateway,bio\n",
        "comp.sys.mac.hardware"
       ]
      },
      {
       "output_type": "stream",
       "stream": "stdout",
       "text": [
        " upgrad,floptic,c650,pb,610,iici,monitor,se 30,adb,simm,lciii,se,iisi,lc,duo,quadra,centri,powerbook,appl,mac\n",
        "comp.windows.x"
       ]
      },
      {
       "output_type": "stream",
       "stream": "stdout",
       "text": [
        " colormap,lib,xv,applic,unsubscrib,openwindow,pixmap,xdm,sun,event,client,display,x11,window manag,xlib,server,x11r5,xterm,widget,motif\n",
        "misc.forsale"
       ]
      },
      {
       "output_type": "stream",
       "stream": "stdout",
       "text": [
        " excel,best offer,an offer,want,to sell,ask,condit,camera,cd,obo,if interest,includ,00,sell,subject want,offer,ship,forsal,sale,for sale\n",
        "rec.autos"
       ]
      },
      {
       "output_type": "stream",
       "stream": "stdout",
       "text": [
        " mr2,the car,warn pleas,automot,mustang,diesel,wagon,honda,truck,v6,nissan,shift,engin,geico,dealer,toyota,oil,auto,ford,car\n",
        "rec.motorcycles"
       ]
      },
      {
       "output_type": "stream",
       "stream": "stdout",
       "text": [
        " cop,chain,ranck,kawasaki,honda,cage,moa,yamaha,biker,ama,harley,the bike,dog,helmet,rider,bmw,ride,motorcycl,dod,bike\n",
        "rec.sport.baseball"
       ]
      },
      {
       "output_type": "stream",
       "stream": "stdout",
       "text": [
        " dodger,player,morri,stat,tiger,stadium,jay,hitter,giant,ball,brave,bat,sox,hit,cub,philli,pitcher,yanke,pitch,basebal\n",
        "rec.sport.hockey"
       ]
      },
      {
       "output_type": "stream",
       "stream": "stdout",
       "text": [
        " pen,cup,devil,buffalo,detroit,player,play,wing,coach,penguin,leaf,goali,goal,game,bruin,espn,team,playoff,nhl,hockey\n",
        "sci.crypt"
       ]
      },
      {
       "output_type": "stream",
       "stream": "stdout",
       "text": [
        " cipher,escrow,onc tap,privaci,re onc,secret,clipper chip,algorithm,de,chip,tap,cryptographi,wiretap,pgp,nsa,secur,crypto,key,encrypt,clipper\n",
        "sci.electronics"
       ]
      },
      {
       "output_type": "stream",
       "stream": "stdout",
       "text": [
        " 2600,nois,amp,solvent,rf,motorola,detector,resistor,batteri,8051,led,wire,copi,tv,scope,ic,voltag,copi protect,electron,circuit\n",
        "sci.med"
       ]
      },
      {
       "output_type": "stream",
       "stream": "stdout",
       "text": [
        " antibiot,pain,krillean photographi,ear,krillean,infect,migrain,health,medicin,food,effect,med,treatment,cancer,patient,photographi,msg,diseas,medic,doctor\n",
        "sci.space"
       ]
      },
      {
       "output_type": "stream",
       "stream": "stdout",
       "text": [
        " fund,mar,re space,dc,henri,mission,flight,the moon,spacecraft,rocket,satellit,sky,planet,nasa,pat,shuttl,moon,launch,orbit,space\n",
        "soc.religion.christian"
       ]
      },
      {
       "output_type": "stream",
       "stream": "stdout",
       "text": [
        " arrog,god,articl may,1993,easter,articl apr,hell,cathol,christ,vers,daili vers,subject daili,sin,rutger,atho,atho rutger,rutger edu,church,christian,clh\n",
        "talk.politics.guns"
       ]
      },
      {
       "output_type": "stream",
       "stream": "stdout",
       "text": [
        " rifl,re batf,fire,militia,dividian ranch,burn dividian,dividian,burn,atf burn,batf,re atf,ranch,nra,handgun,fbi,atf,waco,firearm,weapon,gun\n",
        "talk.politics.mideast"
       ]
      },
      {
       "output_type": "stream",
       "stream": "stdout",
       "text": [
        " soldier,argic,racism,serdar,turk,adl,iran,turkey,bosnia,jewish,armenia,bosnian,muslim,palestinian,turkish,jew,arab,armenian,isra,israel\n",
        "talk.politics.misc"
       ]
      },
      {
       "output_type": "stream",
       "stream": "stdout",
       "text": [
        " incom,parti,state,american,re top,garrett,drieux,libertarian,health,sexual,presid,optilink,clayton,drug,top ten,tax,clinton,kaldi,gay,cramer\n",
        "talk.religion.misc"
       ]
      },
      {
       "output_type": "stream",
       "stream": "stdout",
       "text": [
        " weiss,of proof,re messag,presid how,cult,after 2000,beast,re after,thou,hudson,abort,tyre,brian,christian,promis in,mormon,93 god,koresh,god promis,rosicrucian\n",
        "ng20_raw_stems_bigrams_df1_tf1  -->  precision  0.899744092016 recall  0.894182570411 f1  0.895388580126\n",
        "loaded (201544) terms"
       ]
      },
      {
       "output_type": "stream",
       "stream": "stdout",
       "text": [
        "\n",
        "vectorizing done, 201544 terms vocabulary tokenized"
       ]
      },
      {
       "output_type": "stream",
       "stream": "stdout",
       "text": [
        "\n",
        "vectorizing done, 201544 terms vocabulary tokenized"
       ]
      },
      {
       "output_type": "stream",
       "stream": "stdout",
       "text": [
        "\n"
       ]
      },
      {
       "output_type": "stream",
       "stream": "stdout",
       "text": [
        "accuracy scores = [ 0.87147402  0.91082803  0.90178571  0.87486699],0.889738687957\n"
       ]
      },
      {
       "output_type": "stream",
       "stream": "stdout",
       "text": [
        "macro precision scores = [ 0.87034008  0.91077411  0.90145098  0.87444326],0.889252106082\n"
       ]
      },
      {
       "output_type": "stream",
       "stream": "stdout",
       "text": [
        "macro recall scores = [ 0.86428458  0.90880098  0.89593436  0.87215895],0.885294720169\n"
       ]
      },
      {
       "output_type": "stream",
       "stream": "stdout",
       "text": [
        "macro f1 scores = [ 0.86573002  0.90960983  0.89714736  0.87247668],0.886240973289\n"
       ]
      },
      {
       "output_type": "stream",
       "stream": "stdout",
       "text": [
        "weighted average precision scores = [ 0.87181719  0.91111479  0.90376727  0.87675058],0.890862460166\n"
       ]
      },
      {
       "output_type": "stream",
       "stream": "stdout",
       "text": [
        "weighted average recall scores = [ 0.87181719  0.91111479  0.90376727  0.87675058],0.890862460166\n"
       ]
      },
      {
       "output_type": "stream",
       "stream": "stdout",
       "text": [
        "weighted f1 scores = [ 0.87044197  0.91081364  0.90141894  0.87500642],0.889420246331\n",
        "dimensionality: 201544"
       ]
      },
      {
       "output_type": "stream",
       "stream": "stdout",
       "text": [
        "\n",
        "density: 0.494305461835\n",
        "alt.atheism moral agenc,mango,enviroleagu,charley,jaeger,wwc,dogma,tammi,motto,asimov,wingat,cobb,scout,benedikt,rushdi,islam,mathew,atheism,keith,atheist\n",
        "comp.graphics targa,sphere,mpeg,photoshop,algorithm,anim,raytrac,surfac,hacker,viewer,tiff,fractal,cview,polygon,imag,siggraph,pov,3do,3d,graphic\n",
        "comp.os.ms-windows.misc ms,dll,smartdrv,risc,doublespac,setup,winqvt,nt,driver,ini,file,bmp,win,program manag,ax,challeng,win3,cica,microsoft,window\n",
        "comp.sys.ibm.pc.hardware"
       ]
      },
      {
       "output_type": "stream",
       "stream": "stdout",
       "text": [
        " connect,mitsumi,interrupt,zeo,486,modem,monitor,nanao,winmark,isa,cmo,ide,fastmicro,vlb,irq,pc,jumper,motherboard,bio,gateway\n",
        "comp.sys.mac.hardware c650,simm,iici,040,deskwrit,on 24,macweek,pb,bmug,adb,lciii,lc,iisi,se,centri,quadra,duo,powerbook,appl,mac\n",
        "comp.windows.x pixmap,display,xwindow,event,r5,xdm,imak,twm,xv,openwindow,unsubscrib,xfree86,x11,window manag,xlib,server,widget,xterm,x11r5,motif\n",
        "misc.forsale cheap,size,00,junk mail,2190,summer,sne,cd,pay,interest,camera,obo,includ,want,sell,ship,offer,sale,for sale,forsal\n",
        "rec.autos dumbest,vw,opel,sunroof,honda,integra,mustang,shift,v6,diesel,truck,dealer,toyota,warn,oil,automot,geico,ford,auto,car\n",
        "rec.motorcycles"
       ]
      },
      {
       "output_type": "stream",
       "stream": "stdout",
       "text": [
        " xs1100,ducati,cager,cage,ama,moa,ranck,yamaha,the bike,kawasaki,biker,dog,harley,helmet,bmw,rider,ride,motorcycl,bike,dod\n",
        "rec.sport.baseball uniform,hitter,nl,morri,hit,tiger,bat,fenway,ball,stadium,dodger,brave,sox,pitch,giant,pitcher,philli,cub,yanke,basebal\n",
        "rec.sport.hockey ice,cup,play,wc,team,coach,wing,puck,buffalo,detroit,penguin,leaf,goal,shark,goali,espn,bruin,playoff,nhl,hockey\n",
        "sci.crypt sternlight,den,lobbi,secret,privaci,de,tempest,crypt,cipher,key,no good,pgp,wiretap,nsa,cryptographi,secur,crypto,tap,encrypt,clipper\n",
        "sci.electronics copi,motorola,explod,resistor,adcom,tv,dsp,spice,pcb,rf,led,2600,8051,solvent,voltag,ic,scope,copi protect,electron,circuit\n",
        "sci.med"
       ]
      },
      {
       "output_type": "stream",
       "stream": "stdout",
       "text": [
        " food,cure,effect,antibiot,migrain,health,exercis,allerg,medicin,ear,treatment,patient,cancer,krillean,med,msg,diseas,photographi,medic,doctor\n",
        "sci.space henri,astronomi,gamma ray,the moon,flight,dc,mar,jennis,nasa,satellit,sky,rocket,spacecraft,planet,pat,moon,shuttl,launch,orbit,space\n",
        "soc.religion.christian ceremoni,bless,prayer,jame,hell,arrog,cathol,easter,1993,sin,geneva,christ,kiefer,christian,church,vers,daili,rutger,atho,clh\n",
        "talk.politics.guns rifl,cnn,bd,ban,weaver,liberti,cdt,militia,nra,burn,quisl,handgun,fbi,dividian,waco,weapon,ranch,firearm,atf,gun\n",
        "talk.politics.mideast yigal,angmar,racism,iran,jerusalem,argic,serdar,armenia,uva,zionism,muslim,adl,bosnian,palestinian,jew,turkish,arab,armenian,isra,israel\n",
        "talk.politics.misc"
       ]
      },
      {
       "output_type": "stream",
       "stream": "stdout",
       "text": [
        " libertarian,violenc,mow,pyotr,hostag,clinton,initi,tax,employ,sexual,drug,teel,garrett,optilink,clayton,drieux,gay,cramer,top ten,kaldi\n",
        "talk.religion.misc biblic,2000,new age,666,tyre,beast,rawlin,mormon,koresh,who next,abort,new religion,2000 year,thou,brian,promis,hudson,rosicrucian,mr presid,burden\n",
        "ng20_raw_stems_unigrams_df1_tf1 ^ ng20_raw_stems_bigrams_df1_tf1 ^ wiki_bigrams  -->  precision  0.889252106082 recall  0.885294720169 f1  0.886240973289\n",
        "loaded (57978) terms"
       ]
      },
      {
       "output_type": "stream",
       "stream": "stdout",
       "text": [
        "\n",
        "extended to (74840) terms\n",
        "done loading vocabulary"
       ]
      },
      {
       "output_type": "stream",
       "stream": "stdout",
       "text": [
        "\n",
        "vectorizing done, 74840 terms vocabulary tokenized"
       ]
      },
      {
       "output_type": "stream",
       "stream": "stdout",
       "text": [
        "\n",
        "vectorizing done, 74840 terms vocabulary tokenized"
       ]
      },
      {
       "output_type": "stream",
       "stream": "stdout",
       "text": [
        "\n"
       ]
      },
      {
       "output_type": "stream",
       "stream": "stdout",
       "text": [
        "accuracy scores = [ 0.84941676  0.8910828   0.88137755  0.85635242],0.869557381003\n"
       ]
      },
      {
       "output_type": "stream",
       "stream": "stdout",
       "text": [
        "macro precision scores = [ 0.84689738  0.89002707  0.87856931  0.85541375],0.867726874168\n"
       ]
      },
      {
       "output_type": "stream",
       "stream": "stdout",
       "text": [
        "macro recall scores = [ 0.84146093  0.88863767  0.87492074  0.85315394],0.864543320032\n"
       ]
      },
      {
       "output_type": "stream",
       "stream": "stdout",
       "text": [
        "macro f1 scores = [ 0.84261533  0.8891743   0.87541167  0.85333767],0.86513474496\n"
       ]
      },
      {
       "output_type": "stream",
       "stream": "stdout",
       "text": [
        "weighted average precision scores = [ 0.84944322  0.89118977  0.88246427  0.85849723],0.870398621944\n"
       ]
      },
      {
       "output_type": "stream",
       "stream": "stdout",
       "text": [
        "weighted average recall scores = [ 0.84944322  0.89118977  0.88246427  0.85849723],0.870398621944\n"
       ]
      },
      {
       "output_type": "stream",
       "stream": "stdout",
       "text": [
        "weighted f1 scores = [ 0.8481906   0.89099055  0.88071528  0.85649836],0.869098697222\n",
        "dimensionality: 74840"
       ]
      },
      {
       "output_type": "stream",
       "stream": "stdout",
       "text": [
        "\n",
        "density: 0.453649786211\n",
        "alt.atheism moral agenc,dogma,motto,vice,bobbi,cobb,gregg,liar,charley,jon,batman,tammi,scout,wingat,islam,mathew,rushdi,atheism,atheist,keith\n",
        "comp.graphics targa,algorithm,point,sphere,surfac,mpeg,raytrac,anim,hacker,photoshop,fractal,tiff,rumour,polygon,viewer,imag,siggraph,pov,3d,graphic\n",
        "comp.os.ms-windows.misc swap file,dll,workgroup,canon,logo,ms,risc,file,upload,setup,driver,ini,nt,win,bmp,ax,program manag,challeng,microsoft,window\n",
        "comp.sys.ibm.pc.hardware connect,date,amd,pentium,ide,59,irq,interrupt,isa,trinitron,monitor,walli,vlb,17,cmo,jumper,motherboard,pc,gateway,bio\n",
        "comp.sys.mac.hardware x86,dead mous,cyclon,ethernet,laserwrit,iifx,68040,iici,on 24,pb,adb,se,centri,duo,lc,powerbook,quadra,iisi,appl,mac\n",
        "comp.windows.x the consortium,hypercard,sun,client,default,christi,patch,consortium,subject,the server,display,subscrib,event,escap,twm,window manag,x11,widget,server,motif\n",
        "misc.forsale cheap,unix pc,size,deal,ask,junk mail,cd,includ,sne,camera,pay,interest,summer,thad,for sale,want,sell,ship,sale,offer\n",
        "rec.autos nissan,honda,opel,vw,diesel,callison,integra,v6,toyota,mustang,dealer,shift,truck,warn,oil,automot,ford,geico,auto,car\n",
        "rec.motorcycles wave,ama,piec,gardner,infant,ducati,yamaha,moa,the bike,dog,kawasaki,biker,harley,helmet,bmw,rider,ride,motorcycl,bike,dod\n",
        "rec.sport.baseball hitter,marlin,tiger,uniform,morri,hit,bat,fenway,stadium,sox,ball,brave,dodger,pitcher,pitch,giant,philli,yanke,cub,basebal\n",
        "rec.sport.hockey"
       ]
      },
      {
       "output_type": "stream",
       "stream": "stdout",
       "text": [
        " gerald,cup,island,play,wing,coach,team,puck,detroit,leaf,buffalo,goal,penguin,shark,espn,goali,bruin,playoff,nhl,hockey\n",
        "sci.crypt trust,the lobbi,de,tempest,rsa,secret,privaci,lobbi,cipher,crypt,key,pgp,wiretap,no good,secur,cryptographi,crypto,tap,encrypt,clipper\n",
        "sci.electronics motorola,tv,copi,eprom,resistor,dsp,explod,pcb,led,2600,rf,spice,adhes,8051,ic,voltag,scope,copi protect,electron,circuit\n",
        "sci.med antibiot,methodolog,physician,food,effect,exercis,gordon bank,allerg,cancer,treatment,health,medicin,ear,patient,med,msg,diseas,medic,doctor,photographi\n",
        "sci.space flight,mission,the moon,astronomi,dc,nasa,mar,satellit,gamma ray,rocket,spacecraft,sky,planet,pat,sunset,moon,shuttl,launch,orbit,space\n",
        "soc.religion.christian fisher,bless,translat,spiritu,ceremoni,prayer,hell,easter,sin,jame,cathol,arrog,geneva,christ,christian,vers,church,1993,daili,rutger\n",
        "talk.politics.guns weaver,gritz,texa,burn,liberti,cnn,ban,nra,quisl,robi,militia,handgun,dividian,fbi,ranch,weapon,waco,atf,firearm,gun\n",
        "talk.politics.mideast racism,hezbollah,say you,muslim,occupi,armenia,beyer,jerusalem,zionism,argic,serdar,adl,palestinian,jew,bosnian,turkish,arab,armenian,isra,israel\n",
        "talk.politics.misc percentag,libertarian,rutger,hostag,clinton,polic state,mow,liber,tax,sexual,initi,employ,drug,hallam,theodor,garrett,clayton,gay,top ten,cramer\n",
        "talk.religion.misc biblic,robert weiss,2000 year,koresh,the beast,tyre,mormon,new age,sword,who next,beast,abort,hudson,magick,promis,rosicrucian,new religion,mr presid,brian,burden\n",
        "ng20_raw_stems_bigrams_df1_tf1 ^ wiki_bigrams (extended unigrams) -->  precision  0.867726874168 recall  0.864543320032 f1  0.86513474496\n",
        "loaded (154593) terms"
       ]
      },
      {
       "output_type": "stream",
       "stream": "stdout",
       "text": [
        "\n",
        "vectorizing done, 154593 terms vocabulary tokenized"
       ]
      },
      {
       "output_type": "stream",
       "stream": "stdout",
       "text": [
        "\n",
        "vectorizing done, 154593 terms vocabulary tokenized"
       ]
      },
      {
       "output_type": "stream",
       "stream": "stdout",
       "text": [
        "\n"
       ]
      },
      {
       "output_type": "stream",
       "stream": "stdout",
       "text": [
        "accuracy scores = [ 0.86871686  0.90785563  0.90072279  0.87359013],0.887721350521\n"
       ]
      },
      {
       "output_type": "stream",
       "stream": "stdout",
       "text": [
        "macro precision scores = [ 0.86668519  0.90743579  0.90070938  0.87274571],0.886894018476\n"
       ]
      },
      {
       "output_type": "stream",
       "stream": "stdout",
       "text": [
        "macro recall scores = [ 0.8613933   0.90556409  0.89494773  0.87063683],0.883135487628\n"
       ]
      },
      {
       "output_type": "stream",
       "stream": "stdout",
       "text": [
        "macro f1 scores = [ 0.86250109  0.90631986  0.89623738  0.87092473],0.883995765901\n"
       ]
      },
      {
       "output_type": "stream",
       "stream": "stdout",
       "text": [
        "weighted average precision scores = [ 0.86858936  0.90822513  0.90245804  0.87554155],0.888703521446\n"
       ]
      },
      {
       "output_type": "stream",
       "stream": "stdout",
       "text": [
        "weighted average recall scores = [ 0.86858936  0.90822513  0.90245804  0.87554155],0.888703521446\n"
       ]
      },
      {
       "output_type": "stream",
       "stream": "stdout",
       "text": [
        "weighted f1 scores = [ 0.86748641  0.90787404  0.90022338  0.87384171],0.887356383405\n",
        "dimensionality: 154593"
       ]
      },
      {
       "output_type": "stream",
       "stream": "stdout",
       "text": [
        "\n",
        "density: 0.512537113582\n",
        "alt.atheism jaeger,kmr4,charley,mango,enviroleagu,tammi,dogma,asimov,wingat,motto,cobb,scout,benedikt,all go,rushdi,mathew,islam,atheism,atheist,keith\n",
        "comp.graphics targa,algorithm,anim,sphere,raytrac,surfac,mpeg,viewer,photoshop,tiff,fractal,cview,hacker,polygon,imag,siggraph,pov,3do,3d,graphic\n",
        "comp.os.ms-windows.misc dll,386,wfw,smartdrv,setup,driver,winqvt,risc,doublespac,nt,ini,file,bmp,ax,win,challeng,cica,win3,microsoft,window\n",
        "comp.sys.ibm.pc.hardware zeo,modem,486,gosh,interrupt,laserjet,nanao,mitsumi,cmo,isa,ide,winmark,vlb,irq,fastmicro,pc,jumper,motherboard,bio,gateway\n",
        "comp.sys.mac.hardware macweek,iifx,kept on,040,68040,pb,deskwrit,iici,bmug,adb,iisi,lciii,se,lc,quadra,centri,powerbook,duo,appl,mac\n",
        "comp.windows.x"
       ]
      },
      {
       "output_type": "stream",
       "stream": "stdout",
       "text": [
        " xhibit,xwindow,xwd,r5,imak,xdm,xv,twm,unsubscrib,openwindow,xfree86,consortium,x11,window manag,xlib,server,widget,xterm,x11r5,motif\n",
        "misc.forsale 00,cheap,size,cd,junk mail,2190,pay,summer,interest,sne,obo,camera,includ,want,sell,ship,offer,sale,for sale,forsal\n",
        "rec.autos nissan,sunroof,vw,honda,integra,shift,diesel,opel,v6,mustang,toyota,truck,warn,dealer,automot,oil,geico,ford,auto,car\n",
        "rec.motorcycles ducati,infant,ama,cage,kreme,cager,moa,yamaha,ranck,dog,kawasaki,biker,harley,helmet,bmw,rider,ride,motorcycl,bike,dod\n",
        "rec.sport.baseball uniform,mattingli,hit,nl,bat,tiger,fenway,ball,stadium,morri,sox,dodger,pitch,brave,pitcher,giant,cub,philli,yanke,basebal\n",
        "rec.sport.hockey cherri,wc,coach,buffalo,pen,team,puck,cup,detroit,goal,wing,leaf,shark,penguin,goali,espn,bruin,playoff,nhl,hockey\n",
        "sci.crypt"
       ]
      },
      {
       "output_type": "stream",
       "stream": "stdout",
       "text": [
        " sternlight,privaci,den,secret,lobbi,de,crypt,tempest,cipher,key,no good,pgp,wiretap,nsa,secur,cryptographi,crypto,tap,encrypt,clipper\n",
        "sci.electronics motorola,resistor,dsp,adcom,tv,explod,copi,spice,led,rf,pcb,2600,8051,solvent,voltag,ic,scope,electron,copi protect,circuit\n",
        "sci.med psychoact,health,antibiot,effect,migrain,cure,exercis,ear,medicin,allerg,treatment,patient,cancer,med,krillean,msg,diseas,medic,photographi,doctor\n",
        "sci.space sunset,astronomi,dc,flight,gamma ray,henri,mar,nasa,jennis,satellit,rocket,spacecraft,pat,planet,sky,launch,shuttl,moon,orbit,space\n",
        "soc.religion.christian fisher,ceremoni,jame,prayer,cathol,1993,sin,easter,arrog,hell,christ,christian,geneva,kiefer,vers,daili,church,rutger,atho,clh\n",
        "talk.politics.guns texa,ban,bd,gritz,liberti,weaver,cdt,militia,burn,nra,fbi,handgun,quisl,dividian,waco,weapon,ranch,firearm,atf,gun\n",
        "talk.politics.mideast"
       ]
      },
      {
       "output_type": "stream",
       "stream": "stdout",
       "text": [
        " hezbollah,yigal,holocaust,iran,jerusalem,muslim,armenia,argic,uva,serdar,zionism,adl,jew,palestinian,bosnian,turkish,arab,armenian,isra,israel\n",
        "talk.politics.misc deficit,mow,presid,clinton,tax,pyotr,violenc,hostag,employ,drug,sexual,initi,teel,garrett,optilink,gay,drieux,clayton,cramer,kaldi\n",
        "talk.religion.misc tyre,sabin,beast,new age,biblic,royalroad,666,koresh,brian,mormon,abort,rawlin,thou,weiss,promis,hudson,rosicrucian,mr presid,2000,burden\n",
        "ng20_raw_stems_unigrams_df1_tf1 ^ ng20_raw_stems_bigrams_df1_tf1 ^ wiktionary_bigrams  -->  precision  0.886894018476 recall  0.883135487628 f1  0.883995765901\n",
        "loaded (11027) terms"
       ]
      },
      {
       "output_type": "stream",
       "stream": "stdout",
       "text": [
        "\n",
        "extended to (16256) terms\n",
        "done loading vocabulary\n",
        "vectorizing done, 16256 terms vocabulary tokenized"
       ]
      },
      {
       "output_type": "stream",
       "stream": "stdout",
       "text": [
        "\n",
        "vectorizing done, 16256 terms vocabulary tokenized"
       ]
      },
      {
       "output_type": "stream",
       "stream": "stdout",
       "text": [
        "\n"
       ]
      },
      {
       "output_type": "stream",
       "stream": "stdout",
       "text": [
        "accuracy scores = [ 0.78154825  0.82802548  0.83269558  0.79080655],0.808268965197\n"
       ]
      },
      {
       "output_type": "stream",
       "stream": "stdout",
       "text": [
        "macro precision scores = [ 0.77691897  0.82599956  0.82955381  0.78938566],0.80546450045\n"
       ]
      },
      {
       "output_type": "stream",
       "stream": "stdout",
       "text": [
        "macro recall scores = [ 0.77353864  0.82482865  0.8267876   0.78733967],0.803123641518\n"
       ]
      },
      {
       "output_type": "stream",
       "stream": "stdout",
       "text": [
        "macro f1 scores = [ 0.77406638  0.82501242  0.8269824   0.78728299],0.803336045414\n"
       ]
      },
      {
       "output_type": "stream",
       "stream": "stdout",
       "text": [
        "weighted average precision scores = [ 0.78168085  0.82884204  0.83225963  0.79265405],0.808859144236\n"
       ]
      },
      {
       "output_type": "stream",
       "stream": "stdout",
       "text": [
        "weighted average recall scores = [ 0.78168085  0.82884204  0.83225963  0.79265405],0.808859144236\n"
       ]
      },
      {
       "output_type": "stream",
       "stream": "stdout",
       "text": [
        "weighted f1 scores = [ 0.78059753  0.82803548  0.83142297  0.79067016],0.807681534144\n",
        "dimensionality: 16256"
       ]
      },
      {
       "output_type": "stream",
       "stream": "stdout",
       "text": [
        "\n",
        "density: 0.58217273622\n",
        "alt.atheism popul,eagl,gulf,logic,darwin,punish,moral,polit,wrote,gulf war,sole,scout,write,vice,po,amus,bake,charley,islam,all go\n",
        "comp.graphics decod,signific,trace,point,not yet,oak,virtual realiti,nobl,gopher,philosoph,impuls,sphere,anim,surfac,polygon,ethic,rot,imag,3d,graphic\n",
        "comp.os.ms-windows.misc competit,setup,manag,overload,te,develop,metric,swap file,macro,file,dark,violet,desktop,charact,max,canon,instruct set,visual basic,win,window\n",
        "comp.sys.ibm.pc.hardware floppi,micro,comput,jumbo,optim,atari,cpu,partit,monitor,refresh,connector,date,66,comment,ghost,pc,ide,gosh,2000,interrupt\n",
        "comp.sys.mac.hardware hardwar,desktop,bundl,900,monoton,chime,photo,internet,floptic,logic board,control panel,cart,oscil,clock,dock,se,cyclon,kept on,appl,mac\n",
        "comp.windows.x button,exampl,lib,tar,christi,folk,an,support,drawn,patch,default,dump,display,comput scienc,sun,kong,escap,event,server,window manag\n",
        "misc.forsale cheap,airlin,origin,movi,sharp,calcul,size,pay,ask,seller,deal,want,camera,sell,interest,sale,junk mail,summer,ship,offer\n",
        "rec.autos hail,liter,flat,leak,automobil,diesel,trunk,ole,oil,of all,licens plate,engin,dealer,truck,shift,wagon,warn,insur compani,auto,car\n",
        "rec.motorcycles feet,piec,wreck,insur,member,owner,drink,fork,drunk,ding,shaft,tour,dog,chain,harley,biker,rider,ride,motorcycl,bike\n",
        "rec.sport.baseball hitter,jay,sport,batter,tiger,cardin,sox,career,ball,bat,met,hit,dodger,uniform,pitcher,cub,giant,pitch,yanke,basebal\n",
        "rec.sport.hockey island,team,player,final,mask,pen,pool,cherri,cap,cup,wing,puck,ice,coach,buffalo,penguin,goal,shark,leaf,hockey\n",
        "sci.crypt anonym,fifth amend,white hous,scheme,holland,random,ani more,de,si,algorithm,privaci,no good,cipher,key,secret,lobbi,secur,tap,cryptographi,clipper\n",
        "sci.electronics appl mac,pal,them,resist,inkjet,tv,sublimin,led,cool tower,ham,assembl,adhes,spice,resistor,2600,explod,voltag,electron,copi protect,circuit\n",
        "sci.med syndrom,migrain,health,methodolog,sauc,food,surrend,med,sensit,cancer,treatment,clinic,shame,allerg,ear,effect,medicin,diseas,medic,doctor\n",
        "sci.space telescop,dc,satellit,aurora,astronomi,mission,fred,fund,flight,mar,rocket,planet,gamma ray,henri,launch,moon,shuttl,sky,orbit,space\n",
        "soc.religion.christian judgement,heart,moder,broken,sex educ,sin,cathol,origin sin,spiritu,jame,may,hell,christian,easter,christ,prayer,ceremoni,church,daili,geneva\n",
        "talk.politics.guns freak,bill,in for,swiss,rifl,silva,gang,safeti,repres,hunt,crimin,liberti,acronym,examin,raid,burn,fbi,survivor,weapon,gun\n",
        "talk.politics.mideast nick,prison,egypt,turk,jerusalem,hate,un,iranian,armenia,pro,freedom,holocaust,palestinian,jew,turkish,arab,bosnian,armenian,israel,isra\n",
        "talk.politics.misc econom,liber,economi,drug,pyramid,presid,mow,carpet,pork,concentr,deficit,hostag,sexual,celebr,initi,percentag,baker,consent,gay,polic state\n",
        "talk.religion.misc ancient,imaginari,theori,historian,the beast,theme,beast,popular,sign up,new age,behav,abort,sword,mormon,order,toss,biblic,2000,promis,mr presid\n",
        "ng20_raw_stems_bigrams_df1_tf1 ^ wiktionary_bigrams (extended unigrams) -->  precision  0.80546450045 recall  0.803123641518 f1  0.803336045414\n",
        "loaded (178372) terms"
       ]
      },
      {
       "output_type": "stream",
       "stream": "stdout",
       "text": [
        "\n",
        "vectorizing done, 178372 terms vocabulary tokenized"
       ]
      },
      {
       "output_type": "stream",
       "stream": "stdout",
       "text": [
        "\n",
        "vectorizing done, 178372 terms vocabulary tokenized"
       ]
      },
      {
       "output_type": "stream",
       "stream": "stdout",
       "text": [
        "\n"
       ]
      },
      {
       "output_type": "stream",
       "stream": "stdout",
       "text": [
        "accuracy scores = [ 0.8678685   0.90997877  0.89987245  0.87678229],0.888625504109\n"
       ]
      },
      {
       "output_type": "stream",
       "stream": "stdout",
       "text": [
        "macro precision scores = [ 0.86534431  0.90927876  0.89971853  0.87549702],0.887459656229\n"
       ]
      },
      {
       "output_type": "stream",
       "stream": "stdout",
       "text": [
        "macro recall scores = [ 0.86045925  0.90775493  0.89411954  0.87416211],0.884123957758\n"
       ]
      },
      {
       "output_type": "stream",
       "stream": "stdout",
       "text": [
        "macro f1 scores = [ 0.86144838  0.90836388  0.89541391  0.87409257],0.884829685419\n"
       ]
      },
      {
       "output_type": "stream",
       "stream": "stdout",
       "text": [
        "weighted average precision scores = [ 0.86754812  0.91019823  0.90183704  0.87846096],0.889511087758\n"
       ]
      },
      {
       "output_type": "stream",
       "stream": "stdout",
       "text": [
        "weighted average recall scores = [ 0.86754812  0.91019823  0.90183704  0.87846096],0.889511087758\n"
       ]
      },
      {
       "output_type": "stream",
       "stream": "stdout",
       "text": [
        "weighted f1 scores = [ 0.86660586  0.9099463   0.89953717  0.87693269],0.888255502603\n",
        "dimensionality: 178372"
       ]
      },
      {
       "output_type": "stream",
       "stream": "stdout",
       "text": [
        "\n",
        "density: 0.47888850268\n",
        "alt.atheism wrote,jaeger,kmr4,wwc,enviroleagu,mango,tammi,dogma,asimov,wingat,motto,cobb,scout,benedikt,rushdi,mathew,islam,atheism,atheist,keith\n",
        "comp.graphics targa,viewer,algorithm,sphere,anim,raytrac,mpeg,tiff,surfac,photoshop,fractal,hacker,cview,polygon,siggraph,imag,pov,3do,3d,graphic\n",
        "comp.os.ms-windows.misc setup,wfw,risc,dll,driver,smartdrv,doublespac,winqvt,nt,ini,bmp,file,win,ax,program manag,challeng,win3,cica,microsoft,window\n",
        "comp.sys.ibm.pc.hardware zeo,monitor,486,gosh,interrupt,modem,mitsumi,nanao,cmo,ide,isa,winmark,vlb,pc,fastmicro,jumper,irq,motherboard,bio,gateway\n",
        "comp.sys.mac.hardware"
       ]
      },
      {
       "output_type": "stream",
       "stream": "stdout",
       "text": [
        " floptic,c650,macweek,040,68040,deskwrit,iici,pb,bmug,adb,iisi,lciii,lc,se,quadra,centri,powerbook,duo,appl,mac\n",
        "comp.windows.x xhibit,event,r5,xdm,xwindow,imak,twm,xv,unsubscrib,openwindow,consortium,xfree86,x11,window manag,xlib,server,widget,xterm,x11r5,motif\n",
        "misc.forsale cheap,ask,junk mail,00,size,pay,2190,cd,summer,sne,interest,camera,obo,want,includ,sell,ship,offer,forsal,sale\n",
        "rec.autos dumbest,integra,honda,vw,sunroof,diesel,shift,opel,mustang,v6,truck,toyota,warn,dealer,oil,automot,geico,ford,auto,car\n",
        "rec.motorcycles ducati,infant,ama,kreme,cager,moa,cage,yamaha,ranck,kawasaki,biker,dog,harley,helmet,bmw,rider,ride,motorcycl,bike,dod\n",
        "rec.sport.baseball"
       ]
      },
      {
       "output_type": "stream",
       "stream": "stdout",
       "text": [
        " uniform,nl,hitter,mattingli,bat,fenway,tiger,ball,stadium,sox,morri,dodger,pitch,brave,pitcher,giant,cub,yanke,philli,basebal\n",
        "rec.sport.hockey wc,cherri,team,cup,coach,pen,puck,buffalo,goal,detroit,wing,leaf,shark,penguin,goali,espn,bruin,playoff,nhl,hockey\n",
        "sci.crypt sternlight,overreact,privaci,den,secret,lobbi,crypt,de,cipher,tempest,key,pgp,wiretap,nsa,secur,cryptographi,crypto,tap,encrypt,clipper\n",
        "sci.electronics explod,tv,resistor,nois,adcom,spice,disk copi,dsp,pcb,rf,led,8051,solvent,2600,ic,voltag,scope,electron,copi protect,circuit\n",
        "sci.med allergi,effect,antibiot,health,migrain,cure,exercis,ear,allerg,treatment,medicin,patient,cancer,krillean,med,msg,diseas,medic,photographi,doctor\n",
        "sci.space"
       ]
      },
      {
       "output_type": "stream",
       "stream": "stdout",
       "text": [
        " dietz,astronomi,gamma ray,flight,dc,mar,henri,nasa,jennis,satellit,spacecraft,rocket,pat,planet,sky,shuttl,launch,moon,orbit,space\n",
        "soc.religion.christian bless,fisher,jame,prayer,hell,cathol,1993,arrog,easter,geneva,christ,sin,christian,kiefer,vers,daili,church,rutger,atho,clh\n",
        "talk.politics.guns cnn,texa,ban,bd,liberti,weaver,militia,cdt,burn,nra,fbi,handgun,quisl,dividian,waco,weapon,ranch,firearm,atf,gun\n",
        "talk.politics.mideast angmar,hezbollah,yigal,iran,jerusalem,muslim,argic,serdar,uva,zionism,armenia,adl,bosnian,jew,palestinian,turkish,arab,armenian,isra,israel\n",
        "talk.politics.misc clinton,verdict,violenc,mow,presid,pyotr,tax,hostag,drug,initi,employ,sexual,teel,garrett,optilink,gay,clayton,drieux,cramer,kaldi\n",
        "talk.religion.misc"
       ]
      },
      {
       "output_type": "stream",
       "stream": "stdout",
       "text": [
        " sword,royalroad,sabin,new age,biblic,koresh,abort,rawlin,brian,thou,mormon,weiss,666,new religion,promis,beast,hudson,2000,rosicrucian,burden\n",
        "ng20_raw_stems_unigrams_df1_tf1 ^ ng20_raw_stems_bigrams_df1_tf1 ^ google_bigrams  -->  precision  0.887459656229 recall  0.884123957758 f1  0.884829685419\n",
        "loaded (34806) terms"
       ]
      },
      {
       "output_type": "stream",
       "stream": "stdout",
       "text": [
        "\n",
        "extended to (42343) terms\n",
        "done loading vocabulary\n",
        "vectorizing done, 42343 terms vocabulary tokenized"
       ]
      },
      {
       "output_type": "stream",
       "stream": "stdout",
       "text": [
        "\n",
        "vectorizing done, 42343 terms vocabulary tokenized"
       ]
      },
      {
       "output_type": "stream",
       "stream": "stdout",
       "text": [
        "\n"
       ]
      },
      {
       "output_type": "stream",
       "stream": "stdout",
       "text": [
        "accuracy scores = [ 0.81908802  0.85902335  0.85714286  0.82400511],0.839814834036\n"
       ]
      },
      {
       "output_type": "stream",
       "stream": "stdout",
       "text": [
        "macro precision scores = [ 0.81379845  0.85719922  0.85325852  0.82328862],0.836886202484\n"
       ]
      },
      {
       "output_type": "stream",
       "stream": "stdout",
       "text": [
        "macro recall scores = [ 0.81103511  0.85610188  0.85032519  0.82048829],0.834487616156\n"
       ]
      },
      {
       "output_type": "stream",
       "stream": "stdout",
       "text": [
        "macro f1 scores = [ 0.81140546  0.85645663  0.8506356   0.82064938],0.834786767671\n"
       ]
      },
      {
       "output_type": "stream",
       "stream": "stdout",
       "text": [
        "weighted average precision scores = [ 0.81841208  0.85909851  0.85745393  0.82733957],0.840576022307\n"
       ]
      },
      {
       "output_type": "stream",
       "stream": "stdout",
       "text": [
        "weighted average recall scores = [ 0.81841208  0.85909851  0.85745393  0.82733957],0.840576022307\n"
       ]
      },
      {
       "output_type": "stream",
       "stream": "stdout",
       "text": [
        "weighted f1 scores = [ 0.81786627  0.85887669  0.85624623  0.82446782],0.839364253778\n",
        "dimensionality: 42343"
       ]
      },
      {
       "output_type": "stream",
       "stream": "stdout",
       "text": [
        "\n",
        "density: 0.376898188603\n",
        "alt.atheism punish,god be,write,liar,poster,saturn,casual,bake,omnipot,dogma,gulf war,scout,batman,vice,motto,po,islam,atheist,atheism,rushdi\n",
        "comp.graphics algorithm,rgb,manipul,sphere,temp file,render,hacker ethic,impuls,vesa,signific,hacker,viewer,anim,mpeg,surfac,philosoph,polygon,imag,3d,graphic\n",
        "comp.os.ms-windows.misc indiana,swap,download,setup,real world,printer driver,canon,logo,swap file,dll,risc,win,ini,nt,bmp,ax,program manag,challeng,microsoft,window\n",
        "comp.sys.ibm.pc.hardware perman,monitor,robert,486,viru,isa,pc,80386,benchmark,pentium,ide,cdrom,motherboard,comment,spec,interrupt,irq,cmo,bio,gateway\n",
        "comp.sys.mac.hardware lifetim,logic board,ls,dock,sage,clock,oscil,run window,iii,hour,powerpc,hardwar,price drop,cyclon,x86,se,mathematica,pb,appl,mac\n",
        "comp.windows.x mit,colormap,lib,binari,folk,hypercard,display,christi,client,script,default,subscrib,sun,event,consortium,escap,window manag,widget,server,motif\n",
        "misc.forsale price,sharp,cd,buyer,seller,airlin,size,origin,deal,repli,cod,sell,camera,junk mail,thad,summer,interest,ship,offer,sale\n",
        "rec.autos frost,honda,wagon,leak,v8,dealer,nissan,oil,diesel,toyota,shift,truck,mustang,insur compani,vw,warn,v6,auto,ford,car\n",
        "rec.motorcycles piec,squid,chain,es,daytona,shaft,stroke,advic,cage,seca,infant,dog,harley,helmet,bmw,biker,rider,ride,motorcycl,bike\n",
        "rec.sport.baseball cardin,sox,hitter,tiger,met,hit,marlin,career,brave,stadium,pitcher,morri,dodger,pitch,ball,giant,cub,yanke,philli,basebal\n",
        "rec.sport.hockey coverag,play,franci,cap,coach,puck,oiler,pen,wing,cherri,buffalo,goal,leaf,penguin,detroit,shark,bruin,playoff,nhl,hockey\n",
        "sci.crypt rush,patent,algorithm,hard core,random,trust,password,secret,den,rsa,crypt,key,privaci,cipher,wiretap,secur,lobbi,encrypt,clipper,tap\n",
        "sci.electronics fcc,dayton,led,cool tower,dsp,baden,tv,duct tape,pcb,rf,ic,eprom,8051,disk copi,resistor,voltag,electron,scope,copi protect,circuit\n",
        "sci.med migrain,diet,cure,food,health,sauc,syndrom,patient,pitt,cancer,sensit,treatment,effect,medicin,ear,diseas,med,skeptic,medic,doctor\n",
        "sci.space mission,solar,fund,proton,astronomi,flight,henri,dc,satellit,mar,gamma ray,rocket,spacecraft,planet,launch,shuttl,sky,moon,orbit,space\n",
        "soc.religion.christian roman,moder,broken,dream,jame,may,cathol,hell,spiritu,sin,vers,ceremoni,christian,easter,prayer,christ,daili,church,geneva,rutger\n",
        "talk.politics.guns repres,crimin,safeti,burn,weaver,fortress,freak,texa,socialist leader,hunt,militia,liberti,cnn,fbi,waco,weapon,atf,firearm,ranch,gun\n",
        "talk.politics.mideast prison,hate,iran,greek,turk,hama,holocaust,jerusalem,freedom,pro,occupi,palestinian,jew,armenia,bosnian,adl,arab,armenian,isra,israel\n",
        "talk.politics.misc ten,hostag,verdict,celebr,liber,rail,pork,pyramid,mow,fetu,employ,initi,thor,molest,consent,sexual,rutger,percentag,gay,polic state\n",
        "talk.religion.misc amdahl,arizona,muhammad,order,abort,stephen,new age,toss,sword,behav,moment,josephu,mithra,mormon,2000,hudson,new religion,burden,beast,promis\n",
        "ng20_raw_stems_bigrams_df1_tf1 ^ google_bigrams (extended unigrams) -->  precision  0.836886202484 recall  0.834487616156 f1  0.834786767671\n",
        "loaded (204179) terms"
       ]
      },
      {
       "output_type": "stream",
       "stream": "stdout",
       "text": [
        "\n",
        "vectorizing done, 204179 terms vocabulary tokenized"
       ]
      },
      {
       "output_type": "stream",
       "stream": "stdout",
       "text": [
        "\n",
        "vectorizing done, 204179 terms vocabulary tokenized"
       ]
      },
      {
       "output_type": "stream",
       "stream": "stdout",
       "text": [
        "\n"
       ]
      },
      {
       "output_type": "stream",
       "stream": "stdout",
       "text": [
        "accuracy scores = [ 0.87041357  0.90976645  0.90221088  0.87763354],0.890006112864\n"
       ]
      },
      {
       "output_type": "stream",
       "stream": "stdout",
       "text": [
        "macro precision scores = [ 0.86904741  0.90952511  0.90219011  0.87722072],0.889495838264\n"
       ]
      },
      {
       "output_type": "stream",
       "stream": "stdout",
       "text": [
        "macro recall scores = [ 0.86324104  0.90743529  0.89648415  0.87485015],0.885502660152\n"
       ]
      },
      {
       "output_type": "stream",
       "stream": "stdout",
       "text": [
        "macro f1 scores = [ 0.86462479  0.90827465  0.89773787  0.87514778],0.886446273809\n"
       ]
      },
      {
       "output_type": "stream",
       "stream": "stdout",
       "text": [
        "weighted average precision scores = [ 0.87083243  0.91012664  0.90432626  0.87955151],0.891209209589\n"
       ]
      },
      {
       "output_type": "stream",
       "stream": "stdout",
       "text": [
        "weighted average recall scores = [ 0.87083243  0.91012664  0.90432626  0.87955151],0.891209209589\n"
       ]
      },
      {
       "output_type": "stream",
       "stream": "stdout",
       "text": [
        "weighted f1 scores = [ 0.86945816  0.90976095  0.9018551   0.87773765],0.889702962637\n",
        "dimensionality: 204179"
       ]
      },
      {
       "output_type": "stream",
       "stream": "stdout",
       "text": [
        "\n",
        "density: 0.495377095588\n",
        "alt.atheism enviroleagu,mango,jaeger,wwc,dogma,charley,tammi,motto,asimov,cobb,wingat,scout,all go,benedikt,rushdi,islam,mathew,atheism,keith,atheist\n",
        "comp.graphics targa,sphere,photoshop,algorithm,mpeg,anim,raytrac,surfac,hacker,viewer,fractal,tiff,cview,polygon,siggraph,imag,pov,3do,3d,graphic\n",
        "comp.os.ms-windows.misc dll,smartdrv,ms,doublespac,risc,setup,winqvt,nt,driver,ini,file,bmp,win,program manag,ax,challeng,win3,cica,microsoft,window\n",
        "comp.sys.ibm.pc.hardware"
       ]
      },
      {
       "output_type": "stream",
       "stream": "stdout",
       "text": [
        " connect,mitsumi,zeo,interrupt,486,modem,nanao,monitor,winmark,isa,ide,cmo,fastmicro,irq,vlb,pc,jumper,motherboard,bio,gateway\n",
        "comp.sys.mac.hardware on 24,c650,simm,iici,deskwrit,040,macweek,pb,bmug,adb,lciii,iisi,lc,se,quadra,centri,duo,powerbook,appl,mac\n",
        "comp.windows.x xwindow,pixmap,event,r5,display,xdm,imak,xv,twm,openwindow,unsubscrib,xfree86,x11,window manag,xlib,server,widget,xterm,x11r5,motif\n",
        "misc.forsale cheap,size,00,2190,junk mail,pay,summer,sne,cd,interest,camera,obo,includ,want,sell,ship,offer,sale,for sale,forsal\n",
        "rec.autos nissan,vw,opel,sunroof,honda,diesel,integra,v6,mustang,shift,truck,dealer,toyota,warn,automot,oil,geico,ford,auto,car\n",
        "rec.motorcycles"
       ]
      },
      {
       "output_type": "stream",
       "stream": "stdout",
       "text": [
        " xs1100,ducati,cager,cage,ama,moa,ranck,yamaha,the bike,kawasaki,biker,dog,harley,helmet,bmw,rider,ride,motorcycl,bike,dod\n",
        "rec.sport.baseball uniform,hitter,nl,morri,hit,tiger,bat,fenway,stadium,ball,dodger,brave,sox,giant,pitch,pitcher,philli,cub,yanke,basebal\n",
        "rec.sport.hockey ice,play,cup,wc,coach,team,wing,puck,buffalo,detroit,penguin,leaf,goal,shark,goali,espn,bruin,playoff,nhl,hockey\n",
        "sci.crypt ani more,den,lobbi,secret,privaci,de,tempest,cipher,crypt,no good,key,pgp,wiretap,nsa,cryptographi,secur,crypto,tap,encrypt,clipper\n",
        "sci.electronics copi,explod,motorola,resistor,adcom,dsp,tv,pcb,spice,rf,led,2600,8051,solvent,voltag,ic,scope,copi protect,electron,circuit\n",
        "sci.med"
       ]
      },
      {
       "output_type": "stream",
       "stream": "stdout",
       "text": [
        " food,cure,antibiot,migrain,effect,health,exercis,allerg,medicin,ear,patient,treatment,cancer,krillean,med,msg,diseas,photographi,medic,doctor\n",
        "sci.space henri,astronomi,the moon,gamma ray,flight,dc,mar,jennis,nasa,satellit,sky,rocket,spacecraft,planet,pat,moon,shuttl,launch,orbit,space\n",
        "soc.religion.christian ceremoni,bless,prayer,jame,arrog,easter,cathol,hell,1993,sin,geneva,christ,kiefer,christian,church,vers,daili,rutger,atho,clh\n",
        "talk.politics.guns cnn,rifl,ban,bd,weaver,liberti,cdt,militia,nra,burn,quisl,fbi,handgun,dividian,weapon,waco,ranch,firearm,atf,gun\n",
        "talk.politics.mideast yigal,angmar,racism,iran,jerusalem,serdar,argic,uva,armenia,zionism,muslim,adl,bosnian,palestinian,jew,turkish,arab,armenian,isra,israel\n",
        "talk.politics.misc"
       ]
      },
      {
       "output_type": "stream",
       "stream": "stdout",
       "text": [
        " libertarian,mow,violenc,pyotr,hostag,initi,clinton,tax,employ,sexual,drug,teel,garrett,optilink,clayton,drieux,gay,cramer,top ten,kaldi\n",
        "talk.religion.misc robert weiss,new age,2000,new religion,666,beast,tyre,rawlin,koresh,mormon,who next,abort,brian,2000 year,thou,promis,mr presid,rosicrucian,hudson,burden\n",
        "ng20_raw_stems_unigrams_df1_tf1 ^ ng20_raw_stems_bigrams_df1_tf1 ^ wiki_wiktionary_bigrams_vw  -->  precision  0.889495838264 recall  0.885502660152 f1  0.886446273809\n",
        "loaded (60613) terms"
       ]
      },
      {
       "output_type": "stream",
       "stream": "stdout",
       "text": [
        "\n",
        "extended to (77715) terms"
       ]
      },
      {
       "output_type": "stream",
       "stream": "stdout",
       "text": [
        "\n",
        "done loading vocabulary\n",
        "vectorizing done, 77715 terms vocabulary tokenized"
       ]
      },
      {
       "output_type": "stream",
       "stream": "stdout",
       "text": [
        "\n",
        "vectorizing done, 77715 terms vocabulary tokenized"
       ]
      },
      {
       "output_type": "stream",
       "stream": "stdout",
       "text": [
        "\n"
       ]
      },
      {
       "output_type": "stream",
       "stream": "stdout",
       "text": [
        "accuracy scores = [ 0.85111347  0.89235669  0.88052721  0.85741647],0.870353459507\n"
       ]
      },
      {
       "output_type": "stream",
       "stream": "stdout",
       "text": [
        "macro precision scores = [ 0.84830834  0.89114391  0.87802514  0.8566502 ],0.868531898206\n"
       ]
      },
      {
       "output_type": "stream",
       "stream": "stdout",
       "text": [
        "macro recall scores = [ 0.84321144  0.88983563  0.87419905  0.85454026],0.86544659561\n"
       ]
      },
      {
       "output_type": "stream",
       "stream": "stdout",
       "text": [
        "macro f1 scores = [ 0.84433233  0.89034342  0.87470948  0.85467731],0.866015635292\n"
       ]
      },
      {
       "output_type": "stream",
       "stream": "stdout",
       "text": [
        "weighted average precision scores = [ 0.85097409  0.89247428  0.88158371  0.85940697],0.87110976223\n"
       ]
      },
      {
       "output_type": "stream",
       "stream": "stdout",
       "text": [
        "weighted average recall scores = [ 0.85097409  0.89247428  0.88158371  0.85940697],0.87110976223\n"
       ]
      },
      {
       "output_type": "stream",
       "stream": "stdout",
       "text": [
        "weighted f1 scores = [ 0.84990307  0.89227791  0.87979409  0.85750771],0.869870694932\n",
        "dimensionality: 77715"
       ]
      },
      {
       "output_type": "stream",
       "stream": "stdout",
       "text": [
        "\n",
        "density: 0.459944669626\n",
        "alt.atheism dogma,vice,motto,bobbi,cobb,gregg,liar,jon,batman,tammi,charley,scout,wingat,all go,islam,mathew,rushdi,atheism,atheist,keith\n",
        "comp.graphics targa,algorithm,point,sphere,surfac,mpeg,raytrac,anim,hacker,photoshop,fractal,tiff,rumour,polygon,viewer,imag,siggraph,pov,3d,graphic\n",
        "comp.os.ms-windows.misc charact,dll,logo,workgroup,ms,canon,file,upload,risc,driver,setup,ini,nt,win,bmp,ax,program manag,challeng,microsoft,window\n",
        "comp.sys.ibm.pc.hardware compaq,pentium,date,connect,59,isa,ide,irq,trinitron,interrupt,walli,monitor,17,cmo,vlb,jumper,motherboard,pc,gateway,bio\n",
        "comp.sys.mac.hardware th,ethernet,dead mous,laserwrit,on 24,iifx,68040,floptic,iici,pb,adb,se,centri,duo,lc,quadra,powerbook,iisi,appl,mac\n",
        "comp.windows.x cursor,the consortium,client,sun,christi,patch,default,consortium,subject,the server,event,subscrib,display,escap,twm,window manag,x11,widget,server,motif\n",
        "misc.forsale unix pc,cheap,deal,ask,size,cd,junk mail,includ,sne,pay,interest,camera,thad,summer,want,for sale,sell,ship,sale,offer\n",
        "rec.autos nissan,vw,honda,opel,diesel,callison,v6,toyota,integra,mustang,dealer,shift,truck,warn,oil,automot,ford,geico,auto,car\n",
        "rec.motorcycles cage,ama,piec,gardner,infant,ducati,moa,yamaha,the bike,dog,kawasaki,biker,harley,bmw,helmet,rider,ride,motorcycl,bike,dod\n",
        "rec.sport.baseball hitter,marlin,tiger,uniform,morri,bat,fenway,hit,stadium,sox,brave,ball,dodger,pitcher,giant,pitch,philli,yanke,cub,basebal\n",
        "rec.sport.hockey "
       ]
      },
      {
       "output_type": "stream",
       "stream": "stdout",
       "text": [
        "gerald,cup,island,play,wing,coach,team,puck,detroit,leaf,buffalo,penguin,goal,shark,espn,goali,bruin,playoff,nhl,hockey\n",
        "sci.crypt the lobbi,de,tempest,ani more,rsa,secret,privaci,lobbi,cipher,crypt,key,no good,pgp,wiretap,secur,cryptographi,crypto,tap,encrypt,clipper\n",
        "sci.electronics motorola,eprom,copi,tv,led,resistor,dsp,explod,pcb,2600,rf,spice,adhes,8051,ic,voltag,scope,copi protect,electron,circuit\n",
        "sci.med physician,antibiot,food,methodolog,effect,exercis,gordon bank,allerg,health,cancer,medicin,ear,treatment,patient,med,msg,diseas,medic,doctor,photographi\n",
        "sci.space flight,mission,the moon,astronomi,dc,nasa,mar,satellit,gamma ray,rocket,spacecraft,sky,planet,sunset,pat,moon,shuttl,launch,orbit,space\n",
        "soc.religion.christian abstin,bless,translat,spiritu,ceremoni,prayer,easter,sin,jame,hell,cathol,arrog,geneva,christ,christian,church,vers,1993,daili,rutger\n",
        "talk.politics.guns gritz,texa,liberti,burn,cnn,ban,nra,quisl,robi,militia,acronym,handgun,dividian,fbi,ranch,weapon,waco,atf,firearm,gun\n",
        "talk.politics.mideast hezbollah,say you,racism,occupi,beyer,armenia,muslim,jerusalem,zionism,argic,serdar,adl,palestinian,bosnian,jew,turkish,arab,armenian,isra,israel\n",
        "talk.politics.misc rutger,percentag,libertarian,polic state,hostag,clinton,mow,liber,tax,initi,sexual,employ,drug,hallam,theodor,garrett,clayton,gay,top ten,cramer\n",
        "talk.religion.misc 2000,robert weiss,2000 year,the beast,koresh,new age,tyre,mormon,sword,new religion,beast,who next,abort,magick,hudson,rosicrucian,mr presid,promis,brian,burden\n",
        "ng20_raw_stems_bigrams_df1_tf1 ^ wiki_wiktionary_bigrams_vw (extended unigrams) -->  precision  0.868531898206 recall  0.86544659561 f1  0.866015635292\n",
        "loaded (220033) terms"
       ]
      },
      {
       "output_type": "stream",
       "stream": "stdout",
       "text": [
        "\n",
        "vectorizing done, 220033 terms vocabulary tokenized"
       ]
      },
      {
       "output_type": "stream",
       "stream": "stdout",
       "text": [
        "\n",
        "vectorizing done, 220033 terms vocabulary tokenized"
       ]
      },
      {
       "output_type": "stream",
       "stream": "stdout",
       "text": [
        "\n"
       ]
      },
      {
       "output_type": "stream",
       "stream": "stdout",
       "text": [
        "accuracy scores = [ 0.87168611  0.91210191  0.90221088  0.87571824],0.890429285318\n"
       ]
      },
      {
       "output_type": "stream",
       "stream": "stdout",
       "text": [
        "macro precision scores = [ 0.87042271  0.91204129  0.90181961  0.87515599],0.889859902989\n"
       ]
      },
      {
       "output_type": "stream",
       "stream": "stdout",
       "text": [
        "macro recall scores = [ 0.8642717   0.90990806  0.89633582  0.87297286],0.885872111855\n"
       ]
      },
      {
       "output_type": "stream",
       "stream": "stdout",
       "text": [
        "macro f1 scores = [ 0.86565989  0.91077309  0.89751412  0.87324301],0.886797527077\n"
       ]
      },
      {
       "output_type": "stream",
       "stream": "stdout",
       "text": [
        "weighted average precision scores = [ 0.87196722  0.91237779  0.90413395  0.87753819],0.891504289018\n"
       ]
      },
      {
       "output_type": "stream",
       "stream": "stdout",
       "text": [
        "weighted average recall scores = [ 0.87196722  0.91237779  0.90413395  0.87753819],0.891504289018\n"
       ]
      },
      {
       "output_type": "stream",
       "stream": "stdout",
       "text": [
        "weighted f1 scores = [ 0.87054924  0.91206164  0.90180122  0.87582885],0.890060238481\n",
        "dimensionality: 220033"
       ]
      },
      {
       "output_type": "stream",
       "stream": "stdout",
       "text": [
        "\n",
        "density: 0.476189480669\n",
        "alt.atheism moral agenc,enviroleagu,mango,charley,jaeger,wwc,dogma,tammi,motto,asimov,wingat,cobb,scout,benedikt,rushdi,islam,mathew,atheism,keith,atheist\n",
        "comp.graphics targa,sphere,mpeg,photoshop,raytrac,algorithm,anim,surfac,viewer,hacker,fractal,tiff,cview,polygon,siggraph,imag,pov,3do,3d,graphic\n",
        "comp.os.ms-windows.misc dll,ms,smartdrv,doublespac,risc,setup,winqvt,nt,ini,driver,bmp,file,win,program manag,ax,challeng,win3,cica,microsoft,window\n",
        "comp.sys.ibm.pc.hardware"
       ]
      },
      {
       "output_type": "stream",
       "stream": "stdout",
       "text": [
        " mitsumi,zeo,interrupt,connect,486,modem,monitor,nanao,winmark,ide,isa,cmo,vlb,fastmicro,irq,jumper,pc,motherboard,gateway,bio\n",
        "comp.sys.mac.hardware c650,simm,iici,040,deskwrit,on 24,macweek,pb,bmug,adb,lciii,lc,iisi,se,quadra,centri,duo,powerbook,appl,mac\n",
        "comp.windows.x pixmap,xwindow,r5,xdm,display,event,twm,imak,xv,openwindow,unsubscrib,xfree86,x11,window manag,xlib,server,widget,xterm,x11r5,motif\n",
        "misc.forsale cheap,size,junk mail,00,2190,summer,sne,pay,cd,interest,camera,obo,includ,want,sell,ship,offer,sale,for sale,forsal\n",
        "rec.autos"
       ]
      },
      {
       "output_type": "stream",
       "stream": "stdout",
       "text": [
        " dumbest,vw,opel,honda,sunroof,integra,mustang,diesel,shift,v6,truck,dealer,toyota,warn,oil,automot,geico,ford,auto,car\n",
        "rec.motorcycles infant,ducati,cager,cage,ama,moa,ranck,yamaha,the bike,biker,kawasaki,harley,dog,helmet,bmw,rider,ride,motorcycl,bike,dod\n",
        "rec.sport.baseball jay,nl,hitter,morri,hit,tiger,bat,fenway,stadium,ball,dodger,brave,sox,pitch,giant,pitcher,philli,cub,yanke,basebal\n",
        "rec.sport.hockey ice,cup,play,wc,coach,team,wing,puck,buffalo,detroit,leaf,penguin,goal,shark,goali,espn,bruin,playoff,nhl,hockey\n",
        "sci.crypt"
       ]
      },
      {
       "output_type": "stream",
       "stream": "stdout",
       "text": [
        " sternlight,den,lobbi,secret,privaci,de,crypt,tempest,cipher,key,no good,pgp,wiretap,cryptographi,nsa,secur,crypto,tap,encrypt,clipper\n",
        "sci.electronics copi,motorola,explod,resistor,adcom,tv,dsp,spice,pcb,rf,led,2600,8051,solvent,ic,voltag,scope,copi protect,electron,circuit\n",
        "sci.med food,antibiot,cure,migrain,effect,health,exercis,allerg,ear,medicin,patient,treatment,cancer,krillean,med,msg,diseas,photographi,medic,doctor\n",
        "sci.space astronomi,henri,the moon,gamma ray,dc,flight,mar,jennis,nasa,satellit,sky,rocket,spacecraft,planet,pat,moon,shuttl,launch,orbit,space\n",
        "soc.religion.christian"
       ]
      },
      {
       "output_type": "stream",
       "stream": "stdout",
       "text": [
        " ceremoni,bless,prayer,jame,hell,arrog,cathol,easter,1993,geneva,sin,christ,kiefer,christian,church,vers,daili,rutger,atho,clh\n",
        "talk.politics.guns rifl,bd,weaver,ban,cnn,liberti,cdt,militia,nra,burn,quisl,handgun,fbi,dividian,waco,weapon,ranch,firearm,atf,gun\n",
        "talk.politics.mideast angmar,yigal,racism,iran,jerusalem,argic,serdar,uva,armenia,muslim,zionism,adl,bosnian,palestinian,jew,turkish,arab,armenian,isra,israel\n",
        "talk.politics.misc libertarian,violenc,mow,pyotr,hostag,initi,clinton,tax,employ,sexual,teel,drug,garrett,optilink,clayton,drieux,gay,cramer,top ten,kaldi\n",
        "talk.religion.misc"
       ]
      },
      {
       "output_type": "stream",
       "stream": "stdout",
       "text": [
        " biblic,new age,2000,666,tyre,beast,rawlin,koresh,mormon,who next,abort,new religion,2000 year,thou,promis,brian,hudson,mr presid,rosicrucian,burden\n",
        "ng20_raw_stems_unigrams_df1_tf1 ^ ng20_raw_stems_bigrams_df1_tf1 ^ wiki_google_bigrams_vw  -->  precision  0.889859902989 recall  0.885872111855 f1  0.886797527077\n",
        "loaded (76467) terms"
       ]
      },
      {
       "output_type": "stream",
       "stream": "stdout",
       "text": [
        "\n",
        "extended to (93926) terms"
       ]
      },
      {
       "output_type": "stream",
       "stream": "stdout",
       "text": [
        "\n",
        "done loading vocabulary\n",
        "vectorizing done, 93926 terms vocabulary tokenized"
       ]
      },
      {
       "output_type": "stream",
       "stream": "stdout",
       "text": [
        "\n",
        "vectorizing done, 93926 terms vocabulary tokenized"
       ]
      },
      {
       "output_type": "stream",
       "stream": "stdout",
       "text": [
        "\n"
       ]
      },
      {
       "output_type": "stream",
       "stream": "stdout",
       "text": [
        "accuracy scores = [ 0.85068929  0.89129512  0.88159014  0.85741647],0.87024775348\n"
       ]
      },
      {
       "output_type": "stream",
       "stream": "stdout",
       "text": [
        "macro precision scores = [ 0.84891108  0.89043269  0.87915211  0.85645364],0.868737377435\n"
       ]
      },
      {
       "output_type": "stream",
       "stream": "stdout",
       "text": [
        "macro recall scores = [ 0.8426926   0.88883835  0.87534502  0.85459939],0.865368843124\n"
       ]
      },
      {
       "output_type": "stream",
       "stream": "stdout",
       "text": [
        "macro f1 scores = [ 0.84392923  0.8894715   0.87587807  0.85460924],0.865972009655\n"
       ]
      },
      {
       "output_type": "stream",
       "stream": "stdout",
       "text": [
        "weighted average precision scores = [ 0.8510624   0.89143206  0.88269763  0.85940982],0.87115047608\n"
       ]
      },
      {
       "output_type": "stream",
       "stream": "stdout",
       "text": [
        "weighted average recall scores = [ 0.8510624   0.89143206  0.88269763  0.85940982],0.87115047608\n"
       ]
      },
      {
       "output_type": "stream",
       "stream": "stdout",
       "text": [
        "weighted f1 scores = [ 0.84937574  0.89121602  0.88090865  0.85750764],0.869752012449\n",
        "dimensionality: 93926"
       ]
      },
      {
       "output_type": "stream",
       "stream": "stdout",
       "text": [
        "\n",
        "density: 0.422259544748\n",
        "alt.atheism moral agenc,dogma,cobb,bobbi,motto,vice,gregg,liar,batman,charley,jon,tammi,scout,wingat,islam,mathew,rushdi,atheism,atheist,keith\n",
        "comp.graphics point,algorithm,sphere,targa,mpeg,surfac,raytrac,hacker,anim,photoshop,tiff,fractal,rumour,polygon,viewer,siggraph,imag,pov,3d,graphic\n",
        "comp.os.ms-windows.misc swap file,workgroup,dll,logo,canon,ms,upload,risc,setup,file,ini,driver,nt,win,bmp,ax,program manag,challeng,microsoft,window\n",
        "comp.sys.ibm.pc.hardware date,pentium,59,amd,connect,interrupt,isa,ide,trinitron,jumper,irq,monitor,walli,vlb,17,cmo,motherboard,pc,gateway,bio\n",
        "comp.sys.mac.hardware ethernet,laserwrit,th,dead mous,cyclon,iifx,68040,on 24,iici,pb,adb,se,duo,centri,quadra,lc,powerbook,iisi,appl,mac\n",
        "comp.windows.x cursor,colormap,christi,patch,client,the server,sun,default,consortium,subject,twm,display,subscrib,event,escap,window manag,x11,server,widget,motif\n",
        "misc.forsale origin,cheap,deal,size,junk mail,ask,cd,sne,pay,includ,camera,summer,thad,interest,want,for sale,sell,ship,sale,offer\n",
        "rec.autos nissan,opel,vw,honda,diesel,callison,integra,toyota,v6,mustang,truck,dealer,shift,warn,oil,automot,ford,geico,auto,car\n",
        "rec.motorcycles"
       ]
      },
      {
       "output_type": "stream",
       "stream": "stdout",
       "text": [
        " robinson,ama,piec,ducati,cage,infant,moa,yamaha,the bike,kawasaki,dog,biker,harley,helmet,bmw,rider,ride,motorcycl,bike,dod\n",
        "rec.sport.baseball hitter,marlin,tiger,uniform,morri,bat,hit,fenway,stadium,sox,dodger,ball,brave,pitcher,giant,pitch,philli,cub,yanke,basebal\n",
        "rec.sport.hockey gerald,cup,island,wing,play,coach,team,puck,detroit,leaf,goal,buffalo,penguin,shark,espn,goali,bruin,playoff,nhl,hockey\n",
        "sci.crypt the lobbi,de,den,tempest,rsa,secret,privaci,lobbi,cipher,crypt,key,pgp,wiretap,no good,cryptographi,secur,crypto,tap,encrypt,clipper\n",
        "sci.electronics motorola,copi,tv,eprom,led,resistor,explod,dsp,pcb,rf,2600,spice,adhes,ic,8051,voltag,scope,copi protect,electron,circuit\n",
        "sci.med psychoact,syndrom,effect,methodolog,exercis,physician,allerg,gordon bank,health,treatment,cancer,ear,patient,medicin,med,msg,diseas,medic,doctor,photographi\n",
        "sci.space fund,mission,flight,astronomi,the moon,dc,nasa,mar,satellit,gamma ray,rocket,spacecraft,sky,planet,pat,moon,shuttl,launch,orbit,space\n",
        "soc.religion.christian roman,bless,translat,spiritu,ceremoni,prayer,hell,easter,jame,sin,cathol,arrog,geneva,christ,christian,vers,church,1993,daili,rutger\n",
        "talk.politics.guns gritz,stratu,texa,liberti,burn,ban,cnn,nra,quisl,robi,militia,handgun,dividian,fbi,ranch,weapon,waco,atf,firearm,gun\n",
        "talk.politics.mideast hezbollah,racism,muslim,say you,occupi,armenia,jerusalem,beyer,zionism,argic,serdar,adl,bosnian,palestinian,jew,turkish,arab,armenian,isra,israel\n",
        "talk.politics.misc"
       ]
      },
      {
       "output_type": "stream",
       "stream": "stdout",
       "text": [
        " libertarian,percentag,rutger,hostag,polic state,clinton,liber,mow,initi,tax,sexual,employ,drug,hallam,theodor,garrett,clayton,gay,top ten,cramer\n",
        "talk.religion.misc 2000,robert weiss,2000 year,the beast,koresh,new age,tyre,sword,mormon,mithra,who next,beast,abort,hudson,promis,new religion,rosicrucian,mr presid,brian,burden\n",
        "ng20_raw_stems_bigrams_df1_tf1 ^ wiki_google_bigrams_vw (extended unigrams) -->  precision  0.868737377435 recall  0.865368843124 f1  0.865972009655\n",
        "loaded (184965) terms"
       ]
      },
      {
       "output_type": "stream",
       "stream": "stdout",
       "text": [
        "\n",
        "vectorizing done, 184965 terms vocabulary tokenized"
       ]
      },
      {
       "output_type": "stream",
       "stream": "stdout",
       "text": [
        "\n",
        "vectorizing done, 184965 terms vocabulary tokenized"
       ]
      },
      {
       "output_type": "stream",
       "stream": "stdout",
       "text": [
        "\n"
       ]
      },
      {
       "output_type": "stream",
       "stream": "stdout",
       "text": [
        "accuracy scores = [ 0.86850477  0.90934183  0.90284864  0.87635667],0.889262977249\n"
       ]
      },
      {
       "output_type": "stream",
       "stream": "stdout",
       "text": [
        "macro precision scores = [ 0.86606128  0.90888962  0.90286676  0.87567419],0.888372961535\n"
       ]
      },
      {
       "output_type": "stream",
       "stream": "stdout",
       "text": [
        "macro recall scores = [ 0.86101909  0.90688354  0.89723278  0.87378568],0.884730269876\n"
       ]
      },
      {
       "output_type": "stream",
       "stream": "stdout",
       "text": [
        "macro f1 scores = [ 0.86195972  0.90769122  0.89852371  0.87397225],0.885536725863\n"
       ]
      },
      {
       "output_type": "stream",
       "stream": "stdout",
       "text": [
        "weighted average precision scores = [ 0.86819418  0.90968838  0.90469264  0.87816303],0.890184555561\n"
       ]
      },
      {
       "output_type": "stream",
       "stream": "stdout",
       "text": [
        "weighted average recall scores = [ 0.86819418  0.90968838  0.90469264  0.87816303],0.890184555561\n"
       ]
      },
      {
       "output_type": "stream",
       "stream": "stdout",
       "text": [
        "weighted f1 scores = [ 0.867148    0.90933755  0.90245286  0.87654064],0.888869763239\n",
        "dimensionality: 184965"
       ]
      },
      {
       "output_type": "stream",
       "stream": "stdout",
       "text": [
        "\n",
        "density: 0.483967777688\n",
        "alt.atheism jaeger,charley,kmr4,enviroleagu,mango,tammi,dogma,asimov,wingat,cobb,motto,scout,benedikt,all go,rushdi,mathew,islam,atheism,keith,atheist\n",
        "comp.graphics targa,algorithm,anim,sphere,raytrac,viewer,surfac,mpeg,photoshop,tiff,fractal,hacker,cview,polygon,siggraph,pov,imag,3do,3d,graphic\n",
        "comp.os.ms-windows.misc wfw,dll,setup,smartdrv,risc,doublespac,driver,winqvt,nt,ini,file,bmp,win,program manag,ax,challeng,win3,cica,microsoft,window\n",
        "comp.sys.ibm.pc.hardware zeo,gosh,interrupt,mitsumi,monitor,modem,486,nanao,isa,cmo,ide,winmark,vlb,fastmicro,irq,pc,jumper,motherboard,bio,gateway\n",
        "comp.sys.mac.hardware"
       ]
      },
      {
       "output_type": "stream",
       "stream": "stdout",
       "text": [
        " iifx,kept on,macweek,040,68040,deskwrit,pb,iici,bmug,adb,iisi,lciii,lc,se,quadra,powerbook,centri,duo,appl,mac\n",
        "comp.windows.x xwd,r5,display,event,imak,twm,xdm,xv,openwindow,unsubscrib,xfree86,consortium,x11,window manag,xlib,server,widget,xterm,x11r5,motif\n",
        "misc.forsale 00,cheap,2190,junk mail,size,cd,pay,summer,sne,interest,obo,camera,includ,want,sell,ship,offer,sale,for sale,forsal\n",
        "rec.autos nissan,honda,vw,integra,sunroof,diesel,opel,shift,mustang,v6,truck,toyota,warn,dealer,oil,automot,geico,ford,auto,car\n",
        "rec.motorcycles aerostitch,infant,ama,kreme,cager,moa,cage,yamaha,ranck,kawasaki,biker,dog,harley,helmet,bmw,rider,ride,motorcycl,bike,dod\n",
        "rec.sport.baseball"
       ]
      },
      {
       "output_type": "stream",
       "stream": "stdout",
       "text": [
        " nl,hitter,mattingli,hit,bat,tiger,fenway,ball,stadium,morri,sox,dodger,brave,pitch,pitcher,giant,cub,philli,yanke,basebal\n",
        "rec.sport.hockey wc,cherri,pen,coach,buffalo,cup,puck,team,detroit,wing,goal,leaf,shark,penguin,goali,espn,bruin,playoff,nhl,hockey\n",
        "sci.crypt sternlight,privaci,den,lobbi,secret,crypt,de,cipher,tempest,no good,key,pgp,wiretap,nsa,secur,cryptographi,crypto,tap,encrypt,clipper\n",
        "sci.electronics motorola,explod,disk copi,resistor,adcom,dsp,tv,spice,pcb,rf,2600,led,8051,solvent,ic,voltag,scope,electron,copi protect,circuit\n",
        "sci.med allergi,antibiot,effect,health,migrain,cure,exercis,ear,allerg,medicin,treatment,patient,cancer,med,krillean,msg,diseas,medic,photographi,doctor\n",
        "sci.space"
       ]
      },
      {
       "output_type": "stream",
       "stream": "stdout",
       "text": [
        " dietz,astronomi,gamma ray,flight,dc,mar,henri,nasa,jennis,satellit,rocket,spacecraft,pat,planet,sky,shuttl,launch,moon,orbit,space\n",
        "soc.religion.christian ceremoni,fisher,jame,prayer,cathol,1993,easter,arrog,sin,geneva,hell,christ,christian,kiefer,vers,daili,church,rutger,atho,clh\n",
        "talk.politics.guns bd,ban,cnn,texa,liberti,weaver,militia,cdt,burn,nra,fbi,handgun,quisl,dividian,waco,weapon,ranch,firearm,atf,gun\n",
        "talk.politics.mideast hezbollah,racism,yigal,iran,jerusalem,muslim,uva,armenia,argic,serdar,zionism,adl,bosnian,jew,palestinian,turkish,arab,armenian,isra,israel\n",
        "talk.politics.misc deficit,mow,clinton,violenc,presid,pyotr,hostag,tax,initi,drug,employ,sexual,teel,garrett,optilink,gay,drieux,clayton,cramer,kaldi\n",
        "talk.religion.misc"
       ]
      },
      {
       "output_type": "stream",
       "stream": "stdout",
       "text": [
        " royalroad,sabin,new religion,beast,biblic,new age,666,koresh,abort,brian,rawlin,mormon,thou,weiss,promis,hudson,2000,rosicrucian,mr presid,burden\n",
        "ng20_raw_stems_unigrams_df1_tf1 ^ ng20_raw_stems_bigrams_df1_tf1 ^ wiktionary_google_bigrams_vw  -->  precision  0.888372961535 recall  0.884730269876 f1  0.885536725863\n",
        "loaded (41399) terms"
       ]
      },
      {
       "output_type": "stream",
       "stream": "stdout",
       "text": [
        "\n",
        "extended to (50316) terms\n",
        "done loading vocabulary\n",
        "vectorizing done, 50316 terms vocabulary tokenized"
       ]
      },
      {
       "output_type": "stream",
       "stream": "stdout",
       "text": [
        "\n",
        "vectorizing done, 50316 terms vocabulary tokenized"
       ]
      },
      {
       "output_type": "stream",
       "stream": "stdout",
       "text": [
        "\n"
       ]
      },
      {
       "output_type": "stream",
       "stream": "stdout",
       "text": [
        "accuracy scores = [ 0.82629905  0.86921444  0.86522109  0.83379442],0.848632248937\n"
       ]
      },
      {
       "output_type": "stream",
       "stream": "stdout",
       "text": [
        "macro precision scores = [ 0.8216976   0.86724773  0.86348998  0.83340928],0.846461148729\n"
       ]
      },
      {
       "output_type": "stream",
       "stream": "stdout",
       "text": [
        "macro recall scores = [ 0.81837672  0.8664837   0.8591424   0.83100864],0.843752862473\n"
       ]
      },
      {
       "output_type": "stream",
       "stream": "stdout",
       "text": [
        "macro f1 scores = [ 0.81891128  0.86668105  0.85991773  0.83114355],0.844163405686\n"
       ]
      },
      {
       "output_type": "stream",
       "stream": "stdout",
       "text": [
        "weighted average precision scores = [ 0.82588716  0.86925772  0.86638192  0.83669227],0.849554767577\n"
       ]
      },
      {
       "output_type": "stream",
       "stream": "stdout",
       "text": [
        "weighted average recall scores = [ 0.82588716  0.86925772  0.86638192  0.83669227],0.849554767577\n"
       ]
      },
      {
       "output_type": "stream",
       "stream": "stdout",
       "text": [
        "weighted f1 scores = [ 0.82514227  0.86905543  0.86456175  0.8342122 ],0.848242912229\n",
        "dimensionality: 50316"
       ]
      },
      {
       "output_type": "stream",
       "stream": "stdout",
       "text": [
        "\n",
        "density: 0.414731894427\n",
        "alt.atheism wrote,punish,omnipot,saturn,moral,bake,dogma,write,gulf war,vice,scout,batman,motto,po,charley,islam,all go,atheist,rushdi,atheism\n",
        "comp.graphics not yet,point,gopher,temp file,rgb,hacker ethic,sphere,virtual realiti,philosoph,surfac,vesa,mpeg,anim,hacker,viewer,polygon,rot,imag,3d,graphic\n",
        "comp.os.ms-windows.misc driver,file,filenam,setup,download,swap file,printer driver,logo,dll,risc,canon,ini,nt,win,bmp,ax,program manag,challeng,microsoft,window\n",
        "comp.sys.ibm.pc.hardware connector,isa,jumper,monitor,robert,comment,cdrom,floppi,486,gosh,ide,cmo,benchmark,pc,motherboard,interrupt,irq,spec,bio,gateway\n",
        "comp.sys.mac.hardware bernoulli,intern,ls,upgrad,sage,hardwar,powerpc,oscil,price drop,floptic,x86,clock,cyclon,iii,mathematica,kept on,se,pb,appl,mac\n",
        "comp.windows.x an,support,folk,lib,drawn,christi,patch,hypercard,client,display,default,subscrib,sun,event,escap,consortium,window manag,widget,server,motif\n",
        "misc.forsale cheap,buyer,origin,cd,cod,seller,pay,ask,want,size,deal,junk mail,sell,interest,camera,summer,thad,sale,ship,offer\n",
        "rec.autos leak,licens plate,honda,v8,diesel,wagon,oil,toyota,nissan,dealer,truck,mustang,shift,insur compani,vw,warn,v6,ford,auto,car\n",
        "rec.motorcycles daytona,stroke,piec,squid,advic,shaft,seca,es,chain,cage,infant,dog,harley,helmet,bmw,biker,rider,ride,motorcycl,bike\n",
        "rec.sport.baseball hitter,bat,hit,sox,tiger,uniform,met,career,stadium,dodger,brave,pitcher,morri,ball,pitch,giant,cub,philli,yanke,basebal\n",
        "rec.sport.hockey franci,cap,cup,play,puck,oiler,wing,cherri,coach,pen,buffalo,leaf,penguin,goal,detroit,shark,bruin,playoff,nhl,hockey\n",
        "sci.crypt de,escrow,password,algorithm,ani more,den,privaci,rsa,crypt,key,secret,cipher,no good,lobbi,wiretap,secur,cryptographi,tap,encrypt,clipper\n",
        "sci.electronics cool tower,tv,baden,pcb,eprom,led,explod,disk copi,rf,spice,resistor,ic,adhes,8051,2600,voltag,electron,scope,copi protect,circuit\n",
        "sci.med"
       ]
      },
      {
       "output_type": "stream",
       "stream": "stdout",
       "text": [
        " exercis,methodolog,health,cure,sauc,food,syndrom,cancer,sensit,skeptic,patient,allerg,treatment,effect,ear,medicin,med,diseas,medic,doctor\n",
        "sci.space fund,mission,lunar,flight,astronomi,satellit,dc,henri,mar,gamma ray,fred,rocket,spacecraft,planet,launch,shuttl,moon,sky,orbit,space\n",
        "soc.religion.christian translat,moder,roman,dream,spiritu,cathol,jame,may,sin,ceremoni,easter,prayer,hell,christ,christian,vers,daili,church,geneva,rutger\n",
        "talk.politics.guns socialist leader,fortress,burn,safeti,ban,crimin,weaver,hunt,liberti,texa,militia,acronym,cnn,fbi,waco,weapon,atf,ranch,firearm,gun\n",
        "talk.politics.mideast soldier,hate,iran,hama,muslim,armenia,jerusalem,occupi,holocaust,pro,freedom,palestinian,turkish,adl,jew,bosnian,arab,armenian,isra,israel\n",
        "talk.politics.misc pyramid,tax,deficit,verdict,drug,libertarian,hostag,mow,thor,liber,employ,initi,baker,sexual,molest,rutger,consent,percentag,polic state,gay\n",
        "talk.religion.misc moment,the beast,behav,stephen,order,abort,new religion,josephu,new age,beast,sword,toss,mormon,biblic,mithra,2000,hudson,burden,mr presid,promis\n",
        "ng20_raw_stems_bigrams_df1_tf1 ^ wiktionary_google_bigrams_vw (extended unigrams) -->  precision  0.846461148729 recall  0.843752862473 f1  0.844163405686\n",
        "loaded (222491) terms"
       ]
      },
      {
       "output_type": "stream",
       "stream": "stdout",
       "text": [
        "\n",
        "vectorizing done, 222491 terms vocabulary tokenized"
       ]
      },
      {
       "output_type": "stream",
       "stream": "stdout",
       "text": [
        "\n",
        "vectorizing done, 222491 terms vocabulary tokenized"
       ]
      },
      {
       "output_type": "stream",
       "stream": "stdout",
       "text": [
        "\n"
       ]
      },
      {
       "output_type": "stream",
       "stream": "stdout",
       "text": [
        "accuracy scores = [ 0.87083775  0.9104034   0.90242347  0.87593105],0.889898916858\n"
       ]
      },
      {
       "output_type": "stream",
       "stream": "stdout",
       "text": [
        "macro precision scores = [ 0.86932524  0.91015702  0.90224024  0.87535221],0.889268675394\n"
       ]
      },
      {
       "output_type": "stream",
       "stream": "stdout",
       "text": [
        "macro recall scores = [ 0.86366625  0.90807293  0.89668496  0.87312611],0.885387561475\n"
       ]
      },
      {
       "output_type": "stream",
       "stream": "stdout",
       "text": [
        "macro f1 scores = [ 0.86498184  0.90891635  0.89787412  0.87340024],0.886293139459\n"
       ]
      },
      {
       "output_type": "stream",
       "stream": "stdout",
       "text": [
        "weighted average precision scores = [ 0.87105259  0.91077589  0.90442397  0.87777523],0.891006918795\n"
       ]
      },
      {
       "output_type": "stream",
       "stream": "stdout",
       "text": [
        "weighted average recall scores = [ 0.87105259  0.91077589  0.90442397  0.87777523],0.891006918795\n"
       ]
      },
      {
       "output_type": "stream",
       "stream": "stdout",
       "text": [
        "weighted f1 scores = [ 0.86979064  0.91040977  0.90202117  0.87603896],0.889565134374\n",
        "dimensionality: 222491"
       ]
      },
      {
       "output_type": "stream",
       "stream": "stdout",
       "text": [
        "\n",
        "density: 0.479771541321\n",
        "alt.atheism enviroleagu,mango,jaeger,wwc,charley,dogma,tammi,asimov,motto,cobb,wingat,scout,all go,benedikt,rushdi,islam,mathew,atheism,keith,atheist\n",
        "comp.graphics targa,sphere,photoshop,mpeg,algorithm,raytrac,anim,surfac,hacker,viewer,fractal,tiff,cview,polygon,siggraph,imag,pov,3do,3d,graphic\n",
        "comp.os.ms-windows.misc dll,smartdrv,doublespac,ms,risc,setup,winqvt,nt,ini,driver,file,bmp,win,program manag,ax,challeng,win3,cica,microsoft,window\n",
        "comp.sys.ibm.pc.hardware"
       ]
      },
      {
       "output_type": "stream",
       "stream": "stdout",
       "text": [
        " zeo,mitsumi,interrupt,connect,486,modem,nanao,monitor,winmark,isa,ide,cmo,fastmicro,vlb,irq,jumper,pc,motherboard,bio,gateway\n",
        "comp.sys.mac.hardware floptic,c650,simm,iici,deskwrit,040,macweek,pb,bmug,adb,lciii,lc,iisi,se,quadra,centri,duo,powerbook,appl,mac\n",
        "comp.windows.x xwindow,pixmap,r5,event,display,xdm,imak,twm,xv,openwindow,unsubscrib,xfree86,x11,window manag,xlib,server,widget,xterm,x11r5,motif\n",
        "misc.forsale 2190,cheap,size,junk mail,00,pay,summer,sne,interest,cd,camera,obo,includ,want,sell,ship,offer,sale,for sale,forsal\n",
        "rec.autos"
       ]
      },
      {
       "output_type": "stream",
       "stream": "stdout",
       "text": [
        " mr2,vw,opel,honda,sunroof,integra,diesel,mustang,v6,shift,truck,dealer,toyota,warn,oil,automot,geico,ford,auto,car\n",
        "rec.motorcycles infant,ducati,cager,ama,cage,moa,ranck,yamaha,the bike,biker,kawasaki,dog,harley,helmet,bmw,rider,ride,motorcycl,bike,dod\n",
        "rec.sport.baseball jay,hitter,nl,morri,hit,tiger,bat,fenway,stadium,ball,dodger,brave,sox,giant,pitch,pitcher,philli,cub,yanke,basebal\n",
        "rec.sport.hockey ice,play,cup,wc,coach,wing,puck,team,buffalo,detroit,leaf,penguin,goal,shark,goali,espn,bruin,playoff,nhl,hockey\n",
        "sci.crypt"
       ]
      },
      {
       "output_type": "stream",
       "stream": "stdout",
       "text": [
        " ani more,den,lobbi,secret,privaci,de,crypt,tempest,cipher,no good,key,pgp,wiretap,cryptographi,nsa,secur,crypto,tap,encrypt,clipper\n",
        "sci.electronics copi,explod,motorola,resistor,adcom,dsp,tv,spice,pcb,rf,led,2600,8051,solvent,ic,voltag,scope,copi protect,electron,circuit\n",
        "sci.med food,antibiot,migrain,cure,health,exercis,effect,allerg,ear,medicin,patient,treatment,cancer,krillean,med,msg,diseas,photographi,medic,doctor\n",
        "sci.space astronomi,henri,the moon,gamma ray,dc,flight,mar,jennis,nasa,satellit,sky,rocket,spacecraft,planet,pat,moon,shuttl,launch,orbit,space\n",
        "soc.religion.christian"
       ]
      },
      {
       "output_type": "stream",
       "stream": "stdout",
       "text": [
        " ceremoni,bless,prayer,jame,arrog,easter,cathol,hell,1993,geneva,sin,christ,kiefer,christian,church,vers,daili,rutger,atho,clh\n",
        "talk.politics.guns weaver,bd,rifl,ban,cnn,liberti,cdt,militia,nra,burn,quisl,handgun,fbi,dividian,weapon,waco,ranch,firearm,atf,gun\n",
        "talk.politics.mideast angmar,yigal,racism,iran,jerusalem,serdar,argic,uva,armenia,zionism,muslim,adl,bosnian,palestinian,jew,turkish,arab,armenian,isra,israel\n",
        "talk.politics.misc libertarian,mow,violenc,pyotr,hostag,initi,clinton,tax,employ,sexual,teel,drug,garrett,optilink,clayton,drieux,gay,top ten,cramer,kaldi\n",
        "talk.religion.misc"
       ]
      },
      {
       "output_type": "stream",
       "stream": "stdout",
       "text": [
        " biblic,new age,new religion,666,2000,tyre,beast,rawlin,koresh,mormon,who next,abort,2000 year,brian,promis,thou,mr presid,rosicrucian,hudson,burden\n",
        "ng20_raw_stems_unigrams_df1_tf1 ^ ng20_raw_stems_bigrams_df1_tf1 ^ wiki_wiktionary_google_bigrams_vw  -->  precision  0.889268675394 recall  0.885387561475 f1  0.886293139459\n",
        "loaded (78925) terms"
       ]
      },
      {
       "output_type": "stream",
       "stream": "stdout",
       "text": [
        "\n",
        "extended to (96603) terms"
       ]
      },
      {
       "output_type": "stream",
       "stream": "stdout",
       "text": [
        "\n",
        "done loading vocabulary\n",
        "vectorizing done, 96603 terms vocabulary tokenized"
       ]
      },
      {
       "output_type": "stream",
       "stream": "stdout",
       "text": [
        "\n",
        "vectorizing done, 96603 terms vocabulary tokenized"
       ]
      },
      {
       "output_type": "stream",
       "stream": "stdout",
       "text": [
        "\n"
       ]
      },
      {
       "output_type": "stream",
       "stream": "stdout",
       "text": [
        "accuracy scores = [ 0.85196182  0.89171975  0.88052721  0.85592679],0.870033893252\n"
       ]
      },
      {
       "output_type": "stream",
       "stream": "stdout",
       "text": [
        "macro precision scores = [ 0.84975314  0.89056229  0.87861214  0.85537   ],0.868574394044\n"
       ]
      },
      {
       "output_type": "stream",
       "stream": "stdout",
       "text": [
        "macro recall scores = [ 0.84415242  0.88925844  0.87441352  0.85319394],0.865254577889\n"
       ]
      },
      {
       "output_type": "stream",
       "stream": "stdout",
       "text": [
        "macro f1 scores = [ 0.84537641  0.88976843  0.87503122  0.85329976],0.865868957996\n"
       ]
      },
      {
       "output_type": "stream",
       "stream": "stdout",
       "text": [
        "weighted average precision scores = [ 0.8521399   0.89181892  0.88180087  0.85809571],0.870963849745\n"
       ]
      },
      {
       "output_type": "stream",
       "stream": "stdout",
       "text": [
        "weighted average recall scores = [ 0.8521399   0.89181892  0.88180087  0.85809571],0.870963849745\n"
       ]
      },
      {
       "output_type": "stream",
       "stream": "stdout",
       "text": [
        "weighted f1 scores = [ 0.85078087  0.89163664  0.87983504  0.85603828],0.869572707303\n",
        "dimensionality: 96603"
       ]
      },
      {
       "output_type": "stream",
       "stream": "stdout",
       "text": [
        "\n",
        "density: 0.426808173659\n",
        "alt.atheism dogma,vice,bobbi,cobb,motto,gregg,liar,batman,jon,tammi,charley,scout,wingat,all go,islam,mathew,rushdi,atheism,atheist,keith\n",
        "comp.graphics algorithm,point,targa,sphere,mpeg,raytrac,hacker,surfac,anim,photoshop,tiff,fractal,rumour,polygon,viewer,siggraph,imag,pov,3d,graphic\n",
        "comp.os.ms-windows.misc swap file,dll,workgroup,logo,ms,canon,upload,risc,file,setup,ini,driver,nt,win,bmp,ax,program manag,challeng,microsoft,window\n",
        "comp.sys.ibm.pc.hardware modem,date,59,amd,isa,connect,trinitron,interrupt,ide,irq,jumper,walli,monitor,cmo,17,vlb,motherboard,pc,gateway,bio\n",
        "comp.sys.mac.hardware laserwrit,cyclon,dead mous,th,iifx,on 24,68040,floptic,iici,pb,adb,se,duo,centri,quadra,iisi,lc,powerbook,appl,mac\n",
        "comp.windows.x colormap,cursor,christi,patch,client,the server,consortium,sun,default,subject,event,escap,display,twm,subscrib,window manag,x11,server,widget,motif\n",
        "misc.forsale origin,cheap,deal,ask,junk mail,size,cd,pay,sne,includ,thad,interest,camera,summer,want,for sale,sell,ship,sale,offer\n",
        "rec.autos vw,nissan,opel,honda,diesel,callison,toyota,v6,mustang,integra,truck,dealer,shift,warn,oil,automot,ford,geico,auto,car\n",
        "rec.motorcycles"
       ]
      },
      {
       "output_type": "stream",
       "stream": "stdout",
       "text": [
        " moto,ama,piec,ducati,cage,infant,moa,yamaha,the bike,kawasaki,dog,biker,harley,helmet,bmw,rider,ride,motorcycl,bike,dod\n",
        "rec.sport.baseball hitter,marlin,tiger,uniform,morri,bat,fenway,hit,stadium,sox,dodger,ball,brave,pitcher,giant,pitch,philli,cub,yanke,basebal\n",
        "rec.sport.hockey gerald,cup,island,play,wing,coach,puck,team,detroit,leaf,buffalo,penguin,goal,shark,espn,goali,bruin,playoff,nhl,hockey\n",
        "sci.crypt den,de,tempest,rsa,ani more,secret,privaci,lobbi,cipher,crypt,key,no good,pgp,wiretap,cryptographi,secur,crypto,tap,encrypt,clipper\n",
        "sci.electronics motorola,copi,tv,explod,led,eprom,resistor,dsp,pcb,rf,2600,spice,adhes,8051,ic,voltag,scope,copi protect,electron,circuit\n",
        "sci.med syndrom,antibiot,physician,effect,exercis,methodolog,allerg,gordon bank,health,cancer,ear,treatment,patient,medicin,med,msg,diseas,medic,doctor,photographi\n",
        "sci.space fund,mission,flight,the moon,astronomi,dc,nasa,mar,satellit,gamma ray,rocket,spacecraft,sky,planet,pat,moon,shuttl,launch,orbit,space\n",
        "soc.religion.christian bless,roman,spiritu,translat,ceremoni,prayer,jame,easter,sin,cathol,hell,arrog,geneva,christ,christian,vers,church,1993,daili,rutger\n",
        "talk.politics.guns gritz,texa,liberti,burn,ban,cnn,nra,quisl,robi,militia,acronym,handgun,dividian,fbi,ranch,weapon,waco,atf,firearm,gun\n",
        "talk.politics.mideast"
       ]
      },
      {
       "output_type": "stream",
       "stream": "stdout",
       "text": [
        " hezbollah,say you,occupi,racism,muslim,jerusalem,beyer,armenia,zionism,argic,serdar,adl,bosnian,palestinian,jew,turkish,arab,armenian,isra,israel\n",
        "talk.politics.misc libertarian,percentag,rutger,hostag,polic state,clinton,mow,liber,initi,tax,sexual,employ,drug,hallam,theodor,garrett,clayton,gay,top ten,cramer\n",
        "talk.religion.misc toss,robert weiss,2000 year,the beast,new age,koresh,tyre,new religion,sword,mormon,mithra,who next,abort,beast,hudson,rosicrucian,mr presid,promis,brian,burden\n",
        "ng20_raw_stems_bigrams_df1_tf1 ^ wiki_wiktionary_google_bigrams_vw (extended unigrams) -->  precision  0.868574394044 recall  0.865254577889 f1  0.865868957996\n",
        "loaded (167391) terms"
       ]
      },
      {
       "output_type": "stream",
       "stream": "stdout",
       "text": [
        "\n",
        "vectorizing done, 167391 terms vocabulary tokenized"
       ]
      },
      {
       "output_type": "stream",
       "stream": "stdout",
       "text": [
        "\n",
        "vectorizing done, 167391 terms vocabulary tokenized"
       ]
      },
      {
       "output_type": "stream",
       "stream": "stdout",
       "text": [
        "\n"
       ]
      },
      {
       "output_type": "stream",
       "stream": "stdout",
       "text": [
        "accuracy scores = [ 0.87359491  0.91061571  0.90136054  0.88167695],0.891812029469\n"
       ]
      },
      {
       "output_type": "stream",
       "stream": "stdout",
       "text": [
        "macro precision scores = [ 0.87201526  0.91010249  0.90072001  0.88081732],0.890913769166\n"
       ]
      },
      {
       "output_type": "stream",
       "stream": "stdout",
       "text": [
        "macro recall scores = [ 0.86673271  0.90868649  0.89563868  0.87888757],0.887486362153\n"
       ]
      },
      {
       "output_type": "stream",
       "stream": "stdout",
       "text": [
        "macro f1 scores = [ 0.8678948   0.90923223  0.89672609  0.87904135],0.888223616904\n"
       ]
      },
      {
       "output_type": "stream",
       "stream": "stdout",
       "text": [
        "weighted average precision scores = [ 0.87410422  0.91076341  0.90326451  0.88367052],0.892950665507\n"
       ]
      },
      {
       "output_type": "stream",
       "stream": "stdout",
       "text": [
        "weighted average recall scores = [ 0.87410422  0.91076341  0.90326451  0.88367052],0.892950665507\n"
       ]
      },
      {
       "output_type": "stream",
       "stream": "stdout",
       "text": [
        "weighted f1 scores = [ 0.87264228  0.91054029  0.90100653  0.88188785],0.891519237161\n",
        "dimensionality: 167391"
       ]
      },
      {
       "output_type": "stream",
       "stream": "stdout",
       "text": [
        "\n",
        "density: 0.536051818796\n",
        "alt.atheism jaeger,wrote,jsn104,wwc,mangoe,tammy,dogma,wingate,scouts,motto,thoughts,asimov,cobb,benedikt,islamic,rushdie,mathew,atheism,keith,atheists\n",
        "comp.graphics ethic,vesa,visualization,images,sphere,surface,mpeg,polygons,photoshop,animation,tiff,polygon,hacker,image,cview,siggraph,3do,pov,3d,graphics\n",
        "comp.os.ms-windows.misc progman,swap,nt,wfw,winfax,smartdrv,font,file,risc,bmp,ini,winqvt,ax,win,challenge,supporters,microsoft,win3,cica,windows\n",
        "comp.sys.ibm.pc.hardware compaq,settings,connect,pentium,nanao,mitsumi,pc,cmos,motherboards,motherboard,winmarks,irq,isa,jumpers,ide,modems,vlb,fastmicro,gateway,bios\n",
        "comp.sys.mac.hardware"
       ]
      },
      {
       "output_type": "stream",
       "stream": "stdout",
       "text": [
        " c650,deskwriter,68040,floptical,monitors,iici,bmug,pb,adb,iisi,lciii,se,lc,centris,duo,quadra,powerbook,macs,apple,mac\n",
        "comp.windows.x escaped,clients,pixmap,twm,xdm,consortium,imake,openwindows,unsubscribe,r5,xfree86,x11,widgets,xlib,window,widget,server,xterm,x11r5,motif\n",
        "misc.forsale includes,2190,condition,00,summer,calculator,pay,excellent,snes,camera,obo,call,interested,sell,asking,wanted,offer,shipping,forsale,sale\n",
        "rec.autos dumbest,mustang,nissan,diesels,integra,honda,v6,vw,opel,autos,warning,toyota,auto,oil,dealer,automotive,geico,ford,cars,car\n",
        "rec.motorcycles biker,ama,riders,cop,moa,infante,ranck,yamaha,kawasaki,harley,helmet,bmw,rider,ride,motorcycles,motorcycle,riding,bikes,bike,dod\n",
        "rec.sport.baseball"
       ]
      },
      {
       "output_type": "stream",
       "stream": "stdout",
       "text": [
        " uniforms,runs,nl,mattingly,yankee,mets,fenway,dodgers,yankees,morris,ball,stadium,pitcher,tigers,braves,cubs,giants,sox,phillies,baseball\n",
        "rec.sport.hockey season,cherry,puck,detroit,coach,buffalo,wc,goalie,cup,pens,penguins,wings,playoffs,leafs,espn,sharks,bruins,playoff,nhl,hockey\n",
        "sci.crypt cipher,privacy,encrypted,rsa,sternlight,denning,tempest,wiretap,secret,crypt,key,pgp,security,nsa,des,cryptography,crypto,encryption,tapped,clipper\n",
        "sci.electronics dsp,pcb,resistor,eprom,motorola,noise,spice,shack,circuits,scope,protected,solvent,rf,2600,voltage,8051,copy,ic,electronics,circuit\n",
        "sci.med foods,diet,pregnency,fever,syndrome,health,treatment,skin,ear,patient,allergic,medicine,cancer,medical,msg,krillean,disease,med,photography,doctor\n",
        "sci.space"
       ]
      },
      {
       "output_type": "stream",
       "stream": "stdout",
       "text": [
        " henry,astronomy,rockets,astro,funding,bursters,satellite,nasa,dc,planets,jennise,mars,spacecraft,pat,launch,sky,orbit,shuttle,moon,space\n",
        "soc.religion.christian prayer,james,hell,fisher,christianity,catholic,arrogance,christians,1993,christ,daily,sin,easter,geneva,kiefer,church,verse,rutgers,athos,clh\n",
        "talk.politics.guns cdt,regulated,weaver,hunting,weapon,handgun,militia,burns,fbi,firearm,nra,quisling,firearms,dividian,weapons,waco,ranch,atf,gun,guns\n",
        "talk.politics.mideast holocaust,hamas,hezbollah,racism,arabs,zionism,uva,argic,andi,adl,palestinian,serdar,armenia,jews,arab,armenians,armenian,turkish,israeli,israel\n",
        "talk.politics.misc celebrate,violence,ipser,kinsey,president,health,pyotr,jobs,mow,income,garrett,drugs,sexual,teel,clayton,optilink,gay,drieux,cramer,kaldis\n",
        "talk.religion.misc"
       ]
      },
      {
       "output_type": "stream",
       "stream": "stdout",
       "text": [
        " happened,kendig,forming,sabin,koresh,rawlins,tyre,christian,brian,sword,666,weiss,hudson,beast,2000,rosicrucian,abortion,burden,mormons,promise\n",
        "ng20_raw_unigrams_stopwords  -->  precision  0.890913769166 recall  0.887486362153 f1  0.888223616904\n",
        "loaded (1674190) terms"
       ]
      },
      {
       "output_type": "stream",
       "stream": "stdout",
       "text": [
        "\n",
        "vectorizing done, 1674190 terms vocabulary tokenized"
       ]
      },
      {
       "output_type": "stream",
       "stream": "stdout",
       "text": [
        "\n",
        "vectorizing done, 1674190 terms vocabulary tokenized"
       ]
      },
      {
       "output_type": "stream",
       "stream": "stdout",
       "text": [
        "\n"
       ]
      },
      {
       "output_type": "stream",
       "stream": "stdout",
       "text": [
        "accuracy scores = [ 0.88292683  0.91528662  0.9105017   0.88912535],0.899460124993\n"
       ]
      },
      {
       "output_type": "stream",
       "stream": "stdout",
       "text": [
        "macro precision scores = [ 0.88267859  0.91544689  0.91121847  0.88921513],0.899639769182\n"
       ]
      },
      {
       "output_type": "stream",
       "stream": "stdout",
       "text": [
        "macro recall scores = [ 0.87605846  0.91343904  0.90461535  0.88672113],0.895208495183\n"
       ]
      },
      {
       "output_type": "stream",
       "stream": "stdout",
       "text": [
        "macro f1 scores = [ 0.87741416  0.91420973  0.90618591  0.886973  ],0.896195699027\n"
       ]
      },
      {
       "output_type": "stream",
       "stream": "stdout",
       "text": [
        "weighted average precision scores = [ 0.88375146  0.91563554  0.91267669  0.89107773],0.900785354589\n"
       ]
      },
      {
       "output_type": "stream",
       "stream": "stdout",
       "text": [
        "weighted average recall scores = [ 0.88375146  0.91563554  0.91267669  0.89107773],0.900785354589\n"
       ]
      },
      {
       "output_type": "stream",
       "stream": "stdout",
       "text": [
        "weighted f1 scores = [ 0.881818    0.91524461  0.91006824  0.88913198],0.899065707819\n",
        "dimensionality: 1674190"
       ]
      },
      {
       "output_type": "stream",
       "stream": "stdout",
       "text": [
        "\n",
        "density: 0.280931316039"
       ]
      },
      {
       "output_type": "stream",
       "stream": "stdout",
       "text": [
        "\n",
        "alt.atheism"
       ]
      },
      {
       "output_type": "stream",
       "stream": "stdout",
       "text": [
        " enviroleague,charley,cobb,wingate,dogma,tammy,religion,islam,thoughts,asimov,benedikt,motto,political atheists,re political,islamic,mathew,rushdie,keith,atheism,atheists\n",
        "comp.graphics"
       ]
      },
      {
       "output_type": "stream",
       "stream": "stdout",
       "text": [
        " polygons,mpeg,gif,surface,sphere,format,viewer,vesa,hacker,animation,cview,images,siggraph,tiff,polygon,3do,image,pov,3d,graphics\n",
        "comp.os.ms-windows.misc"
       ]
      },
      {
       "output_type": "stream",
       "stream": "stdout",
       "text": [
        " manager,ax,ax ax,nt,bmp,winqvt,ini,driver,re challenge,challenge,supporters,microsoft supporters,program manager,file,font,win,win3,cica,microsoft,windows\n",
        "comp.sys.ibm.pc.hardware"
       ]
      },
      {
       "output_type": "stream",
       "stream": "stdout",
       "text": [
        " cpu,monitors,jumpers,fastmicro,monitor,card,settings,nanao,cmos,isa,modems,486,irq,pc,controller,vlb,motherboard,ide,gateway,bios\n",
        "comp.sys.mac.hardware"
       ]
      },
      {
       "output_type": "stream",
       "stream": "stdout",
       "text": [
        " 610,bmug,iici,c650,monitors,floptical,pb,se 30,adb,lciii,se,iisi,lc,macs,quadra,duo,centris,powerbook,apple,mac\n",
        "comp.windows.x"
       ]
      },
      {
       "output_type": "stream",
       "stream": "stdout",
       "text": [
        " lib,sun,pixmap,clients,imake,r5,unsubscribe,openwindows,application,xdm,display,x11,widgets,xlib,widget,window,server,xterm,x11r5,motif\n",
        "misc.forsale"
       ]
      },
      {
       "output_type": "stream",
       "stream": "stdout",
       "text": [
        " price,offers,includes,brand new,excellent,camera,best offer,interested,call,00,condition,obo,wanted,sell,asking,subject wanted,offer,shipping,forsale,sale\n",
        "rec.autos"
       ]
      },
      {
       "output_type": "stream",
       "stream": "stdout",
       "text": [
        " autos,tires,honda,opel,integra,vw,automotive,nissan,v6,re warning,warning please,geico,engine,auto,oil,dealer,toyota,ford,cars,car\n",
        "rec.motorcycles"
       ]
      },
      {
       "output_type": "stream",
       "stream": "stdout",
       "text": [
        " infante,riders,moa,honda,kawasaki,cop,ama,dog,harley,yamaha,helmet,rider,bmw,ride,motorcycles,motorcycle,riding,bikes,bike,dod\n",
        "rec.sport.baseball"
       ]
      },
      {
       "output_type": "stream",
       "stream": "stdout",
       "text": [
        " hitter,jays,hit,morris,pitching,runs,yankee,stats,mets,stadium,tigers,yankees,ball,giants,sox,braves,pitcher,cubs,phillies,baseball\n",
        "rec.sport.hockey"
       ]
      },
      {
       "output_type": "stream",
       "stream": "stdout",
       "text": [
        " devils,puck,goalie,team,detroit,coach,cup,sharks,penguins,buffalo,pens,game,playoffs,wings,espn,leafs,bruins,playoff,nhl,hockey\n",
        "sci.crypt"
       ]
      },
      {
       "output_type": "stream",
       "stream": "stdout",
       "text": [
        " denning,tempest,encrypted,wiretap,crypt,privacy,escrow,secret,once tapped,re once,tapped,cryptography,pgp,security,nsa,des,crypto,key,encryption,clipper\n",
        "sci.electronics"
       ]
      },
      {
       "output_type": "stream",
       "stream": "stdout",
       "text": [
        " wire,resistor,spice,eprom,solvent,noise,2600,scope,tv,motorola,rf,circuits,copy,copy protected,disks copy,8051,ic,voltage,electronics,circuit\n",
        "sci.med"
       ]
      },
      {
       "output_type": "stream",
       "stream": "stdout",
       "text": [
        " fever,diet,syndrome,pain,krillean photography,allergic,krillean,patient,ear,health,medicine,skin,treatment,med,cancer,photography,msg,disease,medical,doctor\n",
        "sci.space"
       ]
      },
      {
       "output_type": "stream",
       "stream": "stdout",
       "text": [
        " rockets,lunar,henry,astronomy,funding,flight,re space,planets,satellite,dc,mars,spacecraft,nasa,pat,sky,launch,orbit,shuttle,moon,space\n",
        "soc.religion.christian"
       ]
      },
      {
       "output_type": "stream",
       "stream": "stdout",
       "text": [
        " geneva rutgers,christian,hell,james kiefer,kiefer,subject daily,daily verse,catholic,christianity,easter,verse,christians,christ,sin,rutgers,athos,athos rutgers,rutgers edu,church,clh\n",
        "talk.politics.guns"
       ]
      },
      {
       "output_type": "stream",
       "stream": "stdout",
       "text": [
        " quisling,dividian ranch,burns dividian,dividian,firearm,handgun,re batf,militia,weapon,atf burns,re atf,ranch,fbi,nra,weapons,firearms,atf,waco,guns,gun\n",
        "talk.politics.mideast"
       ]
      },
      {
       "output_type": "stream",
       "stream": "stdout",
       "text": [
        " argic,muslim,zionism,iran,bosnia,serdar,racism,adl,turkey,jewish,palestinian,arabs,armenia,armenian,jews,armenians,arab,turkish,israeli,israel\n",
        "talk.politics.misc"
       ]
      },
      {
       "output_type": "stream",
       "stream": "stdout",
       "text": [
        " re race,new study,jobs,teel,re top,mow,health,income,drieux,tax,clinton,president,drugs,sexual,optilink,clayton,top ten,gay,kaldis,cramer\n",
        "talk.religion.misc"
       ]
      },
      {
       "output_type": "stream",
       "stream": "stdout",
       "text": [
        " 666,robert weiss,promise,weiss,2000,tyre,brian,sword,christian,koresh,2000 years,beast,hudson,rosicrucian,burden,abortion,93 god,re message,mormons,god promise\n",
        "ng20_raw_bigrams_stopwords  -->  precision  0.899639769182 recall  0.895208495183 f1  0.896195699027\n",
        "loaded (160181) terms"
       ]
      },
      {
       "output_type": "stream",
       "stream": "stdout",
       "text": [
        "\n",
        "vectorizing done, 160181 terms vocabulary tokenized"
       ]
      },
      {
       "output_type": "stream",
       "stream": "stdout",
       "text": [
        "\n",
        "vectorizing done, 160181 terms vocabulary tokenized"
       ]
      },
      {
       "output_type": "stream",
       "stream": "stdout",
       "text": [
        "\n"
       ]
      },
      {
       "output_type": "stream",
       "stream": "stdout",
       "text": [
        "accuracy scores = [ 0.87020148  0.90658174  0.89965986  0.87422856],0.887667912203\n"
       ]
      },
      {
       "output_type": "stream",
       "stream": "stdout",
       "text": [
        "macro precision scores = [ 0.86849011  0.90654989  0.89767046  0.87287626],0.886396683881\n"
       ]
      },
      {
       "output_type": "stream",
       "stream": "stdout",
       "text": [
        "macro recall scores = [ 0.86331904  0.90452303  0.89379918  0.87094335],0.883146150178\n"
       ]
      },
      {
       "output_type": "stream",
       "stream": "stdout",
       "text": [
        "macro f1 scores = [ 0.86456625  0.90532888  0.89453763  0.87108426],0.883879256542\n"
       ]
      },
      {
       "output_type": "stream",
       "stream": "stdout",
       "text": [
        "weighted average precision scores = [ 0.87018825  0.90690488  0.90069486  0.87622376],0.888502938779\n"
       ]
      },
      {
       "output_type": "stream",
       "stream": "stdout",
       "text": [
        "weighted average recall scores = [ 0.87018825  0.90690488  0.90069486  0.87622376],0.888502938779\n"
       ]
      },
      {
       "output_type": "stream",
       "stream": "stdout",
       "text": [
        "weighted f1 scores = [ 0.86915998  0.90655677  0.89910198  0.87442032],0.887309762529\n",
        "dimensionality: 160181"
       ]
      },
      {
       "output_type": "stream",
       "stream": "stdout",
       "text": [
        "\n",
        "density: 0.508993576017\n",
        "alt.atheism charley,enviroleague,wrote,jsn104,mangoe,wwc,dogma,tammy,wingate,asimov,motto,scout,cobb,benedikt,islamic,rushdie,mathew,atheism,atheist,keith\n",
        "comp.graphics vesa,algorithm,sphere,visualization,viewer,mpeg,tiff,photoshop,surface,animation,fractal,hacker,cview,image,siggraph,polygon,pov,3do,3d,graphic\n",
        "comp.os.ms-windows.misc driver,swap,doublespace,setup,smartdrv,wfw,winqvt,risc,file,bmp,nt,ini,win,ax,challenge,supporter,microsoft,win3,cica,window\n",
        "comp.sys.ibm.pc.hardware 486,interrupt,nanao,laserjet,gosh,mitsumi,motherboards,winmarks,cmos,connect,motherboard,ide,pc,irq,isa,vlb,fastmicro,jumper,gateway,bios\n",
        "comp.sys.mac.hardware"
       ]
      },
      {
       "output_type": "stream",
       "stream": "stdout",
       "text": [
        " macweek,iifx,040,68040,pb,iici,floptical,deskwriter,bmug,adb,iisi,lciii,se,quadra,lc,duo,centris,powerbook,apple,mac\n",
        "comp.windows.x xhibition,escaped,display,event,imake,xdm,twm,xwindows,r5,consortium,unsubscribe,openwindows,xfree86,x11,xlib,server,widget,xterm,x11r5,motif\n",
        "misc.forsale pay,summer,lens,00,cd,includes,2190,excellent,snes,camera,call,obo,sell,interested,asking,wanted,offer,shipping,forsale,sale\n",
        "rec.autos sunroof,dumbest,nissan,89,vw,v6,honda,integra,diesel,opel,mustang,toyota,dealer,oil,warning,automotive,geico,ford,auto,car\n",
        "rec.motorcycles biker,ama,cage,kreme,cager,moa,infante,ranck,yamaha,dog,harley,kawasaki,bmw,helmet,ride,rider,riding,motorcycle,bike,dod\n",
        "rec.sport.baseball"
       ]
      },
      {
       "output_type": "stream",
       "stream": "stdout",
       "text": [
        " jay,uniform,hitter,mattingly,mets,nl,fenway,stadium,ball,tiger,morris,dodger,brave,pitcher,giant,sox,cub,yankee,phillies,baseball\n",
        "rec.sport.hockey islander,cherry,coach,goal,pen,wc,puck,cup,detroit,buffalo,leaf,wing,shark,penguin,espn,goalie,bruin,playoff,nhl,hockey\n",
        "sci.crypt rsa,encrypted,denning,sternlight,privacy,de,tempest,secret,crypt,cipher,key,pgp,security,wiretap,nsa,cryptography,crypto,encryption,tapped,clipper\n",
        "sci.electronics motorola,spice,adcom,exploding,noise,shack,resistor,pcb,led,protected,rf,2600,8051,voltage,solvent,scope,copy,ic,electronics,circuit\n",
        "sci.med syndrome,health,pregnency,skin,cure,exercise,migraine,medicine,treatment,allergic,ear,patient,cancer,medical,msg,disease,krillean,med,photography,doctor\n",
        "sci.space"
       ]
      },
      {
       "output_type": "stream",
       "stream": "stdout",
       "text": [
        " flight,henry,astro,funding,dc,nasa,burster,mar,jennise,satellite,rocket,spacecraft,pat,planet,sky,launch,orbit,shuttle,moon,space\n",
        "soc.religion.christian james,hell,christianity,fisher,catholic,christian,christ,arrogance,prayer,1993,easter,geneva,sin,kiefer,daily,church,verse,rutgers,athos,clh\n",
        "talk.politics.guns bd,gritz,cdt,weaver,hunting,regulated,militia,liberty,burn,fbi,nra,handgun,quisling,dividian,waco,weapon,ranch,firearm,atf,gun\n",
        "talk.politics.mideast hezbollah,iran,holocaust,hamas,racism,armenia,zionism,argic,andi,uva,muslim,serdar,adl,jew,palestinian,turkish,arab,armenian,israeli,israel\n",
        "talk.politics.misc violence,celebrate,pyotr,initiative,hostage,president,health,drug,state,income,mow,garrett,sexual,optilink,gay,teel,clayton,drieux,cramer,kaldis\n",
        "talk.religion.misc"
       ]
      },
      {
       "output_type": "stream",
       "stream": "stdout",
       "text": [
        " kendig,biblical,koresh,sabin,sword,tyre,forming,rawlins,happened,brian,abortion,666,wei,mormon,hudson,beast,rosicrucian,2000,burden,promise\n",
        "ng20_raw_lemmas_unigrams_stopwords_df1_tf1  -->  precision  0.886396683881 recall  0.883146150178 f1  0.883879256542\n",
        "loaded (1608107) terms"
       ]
      },
      {
       "output_type": "stream",
       "stream": "stdout",
       "text": [
        "\n",
        "vectorizing done, 1608107 terms vocabulary tokenized"
       ]
      },
      {
       "output_type": "stream",
       "stream": "stdout",
       "text": [
        "\n",
        "vectorizing done, 1608107 terms vocabulary tokenized"
       ]
      },
      {
       "output_type": "stream",
       "stream": "stdout",
       "text": [
        "\n"
       ]
      },
      {
       "output_type": "stream",
       "stream": "stdout",
       "text": [
        "accuracy scores = [ 0.88016967  0.91613588  0.90943878  0.88678442],0.898132187523\n"
       ]
      },
      {
       "output_type": "stream",
       "stream": "stdout",
       "text": [
        "macro precision scores = [ 0.87920055  0.91656998  0.90863055  0.88650677],0.897726964276\n"
       ]
      },
      {
       "output_type": "stream",
       "stream": "stdout",
       "text": [
        "macro recall scores = [ 0.87296565  0.91420419  0.90348891  0.88397469],0.89365835765\n"
       ]
      },
      {
       "output_type": "stream",
       "stream": "stdout",
       "text": [
        "macro f1 scores = [ 0.87437142  0.91513916  0.90465782  0.88429282],0.894615304596\n"
       ]
      },
      {
       "output_type": "stream",
       "stream": "stdout",
       "text": [
        "weighted average precision scores = [ 0.88061393  0.91656766  0.91086596  0.88873361],0.89919529197\n"
       ]
      },
      {
       "output_type": "stream",
       "stream": "stdout",
       "text": [
        "weighted average recall scores = [ 0.88061393  0.91656766  0.91086596  0.88873361],0.89919529197\n"
       ]
      },
      {
       "output_type": "stream",
       "stream": "stdout",
       "text": [
        "weighted f1 scores = [ 0.87905828  0.91612901  0.9089258   0.88685657],0.89774241525\n",
        "dimensionality: 1608107"
       ]
      },
      {
       "output_type": "stream",
       "stream": "stdout",
       "text": [
        "\n",
        "density: 0.278245695094"
       ]
      },
      {
       "output_type": "stream",
       "stream": "stdout",
       "text": [
        "\n",
        "alt.atheism"
       ]
      },
      {
       "output_type": "stream",
       "stream": "stdout",
       "text": [
        " liar,scout,enviroleague,dogma,wingate,cobb,tammy,islam,asimov,religion,benedikt,political atheist,re political,motto,islamic,mathew,rushdie,keith,atheism,atheist\n",
        "comp.graphics"
       ]
      },
      {
       "output_type": "stream",
       "stream": "stdout",
       "text": [
        " gif,mpeg,vesa,sphere,algorithm,format,surface,viewer,fractal,cview,animation,hacker,tiff,siggraph,3do,polygon,pov,image,3d,graphic\n",
        "comp.os.ms-windows.misc"
       ]
      },
      {
       "output_type": "stream",
       "stream": "stdout",
       "text": [
        " setup,m,winqvt,bmp,ax ax,font,challenge,supporter,ini,re challenge,microsoft supporter,nt,program manager,win,driver,file,win3,cica,microsoft,window\n",
        "comp.sys.ibm.pc.hardware"
       ]
      },
      {
       "output_type": "stream",
       "stream": "stdout",
       "text": [
        " zeos,connector,drive,card,fastmicro,nanao,cmos,isa,modem,486,monitor,controller,irq,motherboard,vlb,pc,jumper,ide,gateway,bios\n",
        "comp.sys.mac.hardware"
       ]
      },
      {
       "output_type": "stream",
       "stream": "stdout",
       "text": [
        " 610,macweek,bmug,c650,iici,pb,monitor,floptical,se 30,adb,lciii,se,iisi,quadra,lc,duo,centris,powerbook,apple,mac\n",
        "comp.windows.x"
       ]
      },
      {
       "output_type": "stream",
       "stream": "stdout",
       "text": [
        " xfree86,imake,consortium,r5,unsubscribe,application,sun,xdm,event,client,openwindows,display,window manager,x11,xlib,server,widget,xterm,x11r5,motif\n",
        "misc.forsale"
       ]
      },
      {
       "output_type": "stream",
       "stream": "stdout",
       "text": [
        " includes,brand new,lens,excellent,camera,best offer,cd,call,condition,interested,00,obo,sell,wanted,asking,subject wanted,offer,shipping,forsale,sale\n",
        "rec.autos"
       ]
      },
      {
       "output_type": "stream",
       "stream": "stdout",
       "text": [
        " honda,integra,vw,convertible,diesel,nissan,automotive,wagon,v6,re warning,warning please,mustang,engine,geico,toyota,oil,dealer,auto,ford,car\n",
        "rec.motorcycles"
       ]
      },
      {
       "output_type": "stream",
       "stream": "stdout",
       "text": [
        " ranck,chain,infante,cager,moa,honda,kawasaki,ama,yamaha,harley,cage,dog,helmet,bmw,ride,rider,riding,motorcycle,dod,bike\n",
        "rec.sport.baseball"
       ]
      },
      {
       "output_type": "stream",
       "stream": "stdout",
       "text": [
        " nl,pitching,dodger,morris,jay,stats,mets,stadium,tiger,hit,hitter,ball,brave,sox,giant,pitcher,cub,yankee,phillies,baseball\n",
        "rec.sport.hockey"
       ]
      },
      {
       "output_type": "stream",
       "stream": "stdout",
       "text": [
        " player,puck,coach,shark,cup,pen,detroit,game,team,buffalo,wing,penguin,goal,leaf,goalie,espn,bruin,playoff,nhl,hockey\n",
        "sci.crypt"
       ]
      },
      {
       "output_type": "stream",
       "stream": "stdout",
       "text": [
        " encrypted,chip,tempest,cipher,crypt,privacy,secret,de,wiretap,once tapped,re once,tapped,pgp,security,cryptography,nsa,crypto,key,encryption,clipper\n",
        "sci.electronics"
       ]
      },
      {
       "output_type": "stream",
       "stream": "stdout",
       "text": [
        " dsp,noise,eprom,2600,battery,tv,resistor,motorola,rf,solvent,disk copy,8051,led,copy protected,copy,scope,voltage,ic,electronics,circuit\n",
        "sci.med"
       ]
      },
      {
       "output_type": "stream",
       "stream": "stdout",
       "text": [
        " exercise,pain,krillean photography,health,infection,skin,krillean,food,medicine,migraine,ear,med,treatment,patient,cancer,msg,photography,medical,disease,doctor\n",
        "sci.space"
       ]
      },
      {
       "output_type": "stream",
       "stream": "stdout",
       "text": [
        " funding,henry,gamma ray,mission,dc,re space,flight,mar,rocket,spacecraft,satellite,nasa,pat,planet,sky,launch,orbit,shuttle,moon,space\n",
        "soc.religion.christian"
       ]
      },
      {
       "output_type": "stream",
       "stream": "stdout",
       "text": [
        " arrogance,hell,prayer,kiefer,james kiefer,christianity,verse,daily verse,easter,subject daily,catholic,christ,christian,rutgers,sin,athos rutgers,athos,rutgers edu,church,clh\n",
        "talk.politics.guns"
       ]
      },
      {
       "output_type": "stream",
       "stream": "stdout",
       "text": [
        " burn,bd,texas,dividian ranch,dividian,burn dividian,militia,re batf,quisling,atf burn,re atf,ranch,nra,fbi,handgun,waco,atf,weapon,firearm,gun\n",
        "talk.politics.mideast"
       ]
      },
      {
       "output_type": "stream",
       "stream": "stdout",
       "text": [
        " uva,argic,turk,zionism,turkey,bosnia,serdar,iran,jewish,racism,adl,armenia,muslim,palestinian,jew,turkish,arab,armenian,israeli,israel\n",
        "talk.politics.misc"
       ]
      },
      {
       "output_type": "stream",
       "stream": "stdout",
       "text": [
        " new study,income,re race,teel,re top,mow,health,state,drieux,drug,clinton,sexual,tax,optilink,president,clayton,gay,top ten,kaldis,cramer\n",
        "talk.religion.misc"
       ]
      },
      {
       "output_type": "stream",
       "stream": "stdout",
       "text": [
        " objective,wei,666,robert wei,christian morality,christian,sword,brian,koresh,tyre,abortion,beast,2000,hudson,burden,rosicrucian,93 god,mormon,re message,god promise\n",
        "ng20_raw_lemmas_bigrams_stopwords_df1_tf1  -->  precision  0.897726964276 recall  0.89365835765 f1  0.894615304596\n",
        "loaded (210034) terms"
       ]
      },
      {
       "output_type": "stream",
       "stream": "stdout",
       "text": [
        "\n",
        "done loading vocabulary\n",
        "vectorizing done, 210034 terms vocabulary tokenized"
       ]
      },
      {
       "output_type": "stream",
       "stream": "stdout",
       "text": [
        "\n",
        "vectorizing done, 210034 terms vocabulary tokenized"
       ]
      },
      {
       "output_type": "stream",
       "stream": "stdout",
       "text": [
        "\n"
       ]
      },
      {
       "output_type": "stream",
       "stream": "stdout",
       "text": [
        "accuracy scores = [ 0.8718982   0.91125265  0.90348639  0.87848478],0.891280507431\n"
       ]
      },
      {
       "output_type": "stream",
       "stream": "stdout",
       "text": [
        "macro precision scores = [ 0.86988414  0.91083806  0.9016779   0.8773016 ],0.889925423926\n"
       ]
      },
      {
       "output_type": "stream",
       "stream": "stdout",
       "text": [
        "macro recall scores = [ 0.86458326  0.90898166  0.89771256  0.87533201],0.886652373368\n"
       ]
      },
      {
       "output_type": "stream",
       "stream": "stdout",
       "text": [
        "macro f1 scores = [ 0.86582521  0.90973486  0.8985028   0.87554578],0.887402163829\n"
       ]
      },
      {
       "output_type": "stream",
       "stream": "stdout",
       "text": [
        "weighted average precision scores = [ 0.87192883  0.91140924  0.90469102  0.88049771],0.892131700712\n"
       ]
      },
      {
       "output_type": "stream",
       "stream": "stdout",
       "text": [
        "weighted average recall scores = [ 0.87192883  0.91140924  0.90469102  0.88049771],0.892131700712\n"
       ]
      },
      {
       "output_type": "stream",
       "stream": "stdout",
       "text": [
        "weighted f1 scores = [ 0.87082265  0.9111751   0.90301332  0.87874643],0.890939374783\n",
        "dimensionality: 210034"
       ]
      },
      {
       "output_type": "stream",
       "stream": "stdout",
       "text": [
        "\n",
        "density: 0.480955464353\n",
        "alt.atheism wrote,charley,enviroleague,mangoe,moral agency,scout,wwc,dogma,tammy,wingate,asimov,cobb,motto,benedikt,islamic,rushdie,mathew,atheism,atheist,keith\n",
        "comp.graphics hacker ethic,visualization,algorithm,photoshop,sphere,mpeg,animation,surface,tiff,viewer,fractal,hacker,cview,siggraph,image,polygon,pov,3do,3d,graphic\n",
        "comp.os.ms-windows.misc risc,doublespace,driver,wfw,setup,smartdrv,bmp,winqvt,file,nt,win,ini,program manager,challenge,ax,supporter,win3,cica,microsoft,window\n",
        "comp.sys.ibm.pc.hardware"
       ]
      },
      {
       "output_type": "stream",
       "stream": "stdout",
       "text": [
        " pentium,mitsumi,winmarks,motherboards,nanao,486,connect,modem,monitor,cmos,motherboard,irq,isa,ide,pc,fastmicro,vlb,jumper,gateway,bios\n",
        "comp.sys.mac.hardware 24 hour,040,macweek,68040,iici,pb,deskwriter,floptical,bmug,adb,lciii,iisi,se,centris,quadra,lc,duo,powerbook,apple,mac\n",
        "comp.windows.x escaped,event,display,imake,twm,xdm,consortium,xwindows,r5,unsubscribe,xfree86,openwindows,x11,window manager,xlib,server,widget,xterm,x11r5,motif\n",
        "misc.forsale condition,2190,lens,pay,00,includes,excellent,snes,cd,camera,call,sell,interested,obo,asking,wanted,offer,shipping,forsale,sale\n",
        "rec.autos"
       ]
      },
      {
       "output_type": "stream",
       "stream": "stdout",
       "text": [
        " nissan,89,dumbest,sunroof,vw,opel,honda,v6,integra,diesel,mustang,toyota,dealer,oil,automotive,warning,geico,ford,auto,car\n",
        "rec.motorcycles ducati,kreme,cage,moa,ama,cager,infante,ranck,yamaha,harley,kawasaki,dog,bmw,helmet,ride,rider,riding,motorcycle,bike,dod\n",
        "rec.sport.baseball jay,hit,uniform,nl,mets,morris,hitter,fenway,stadium,tiger,ball,dodger,sox,brave,pitcher,giant,cub,yankee,phillies,baseball\n",
        "rec.sport.hockey team,islander,coach,wc,detroit,cup,goal,puck,pen,wing,leaf,buffalo,shark,penguin,espn,goalie,bruin,playoff,nhl,hockey\n",
        "sci.crypt"
       ]
      },
      {
       "output_type": "stream",
       "stream": "stdout",
       "text": [
        " escrow,rsa,denning,sternlight,de,privacy,tempest,secret,cipher,crypt,key,pgp,security,wiretap,nsa,cryptography,crypto,encryption,tapped,clipper\n",
        "sci.electronics adcom,exploding,pcb,spice,dsp,motorola,2600,resistor,copy,led,rf,solvent,8051,disk copy,voltage,copy protected,scope,ic,electronics,circuit\n",
        "sci.med antibiotic,syndrome,food,skin,health,exercise,allergic,medicine,migraine,ear,treatment,cancer,patient,msg,krillean,medical,med,disease,photography,doctor\n",
        "sci.space astro,astronomy,funding,flight,gamma ray,dc,nasa,mar,jennise,rocket,satellite,spacecraft,pat,planet,sky,launch,orbit,shuttle,moon,space\n",
        "soc.religion.christian"
       ]
      },
      {
       "output_type": "stream",
       "stream": "stdout",
       "text": [
        " moderator,james,christianity,prayer,hell,arrogance,catholic,christian,1993,christ,easter,geneva,sin,kiefer,daily,verse,church,rutgers,athos,clh\n",
        "talk.politics.guns weaver,texas,bd,cdt,hunting,regulated,liberty,militia,burn,fbi,nra,handgun,quisling,dividian,waco,weapon,ranch,firearm,atf,gun\n",
        "talk.politics.mideast yigal,jerusalem,hezbollah,hamas,racism,argic,serdar,zionism,armenia,uva,andi,muslim,adl,jew,palestinian,turkish,arab,armenian,israeli,israel\n",
        "talk.politics.misc income,tax,pyotr,police state,initiative,hostage,president,state,drug,mow,garrett,sexual,teel,optilink,clayton,gay,drieux,cramer,top ten,kaldis\n",
        "talk.religion.misc kendig,robert wei,christian morality,new age,koresh,happened,tyre,rawlins,new religion,sword,666,brian,abortion,rosicrucian,2000,hudson,beast,mormon,burden,promise\n",
        "ng20_raw_lemmas_unigrams_stopwords_df1_tf1 ^ ng20_raw_lemmas_bigrams_stopwords_df1_tf1 ^ wiki_bigrams "
       ]
      },
      {
       "output_type": "stream",
       "stream": "stdout",
       "text": [
        " -->  precision  0.889925423926 recall  0.886652373368 f1  0.887402163829\n",
        "loaded (49853) terms"
       ]
      },
      {
       "output_type": "stream",
       "stream": "stdout",
       "text": [
        "\n",
        "extended to (67310) terms\n",
        "done loading vocabulary\n",
        "vectorizing done, 67310 terms vocabulary tokenized"
       ]
      },
      {
       "output_type": "stream",
       "stream": "stdout",
       "text": [
        "\n",
        "vectorizing done, 67310 terms vocabulary tokenized"
       ]
      },
      {
       "output_type": "stream",
       "stream": "stdout",
       "text": [
        "\n"
       ]
      },
      {
       "output_type": "stream",
       "stream": "stdout",
       "text": [
        "accuracy scores = [ 0.84878049  0.89023355  0.8792517   0.85188338],0.867537278394\n"
       ]
      },
      {
       "output_type": "stream",
       "stream": "stdout",
       "text": [
        "macro precision scores = [ 0.84664953  0.88903635  0.87665132  0.85195879],0.866073999773\n"
       ]
      },
      {
       "output_type": "stream",
       "stream": "stdout",
       "text": [
        "macro recall scores = [ 0.84172301  0.88807354  0.87289014  0.84900004],0.862921682348\n"
       ]
      },
      {
       "output_type": "stream",
       "stream": "stdout",
       "text": [
        "macro f1 scores = [ 0.84298178  0.88835416  0.87350779  0.84919929],0.863510752333\n"
       ]
      },
      {
       "output_type": "stream",
       "stream": "stdout",
       "text": [
        "weighted average precision scores = [ 0.84929205  0.89054625  0.87981308  0.85497516],0.868656634524\n"
       ]
      },
      {
       "output_type": "stream",
       "stream": "stdout",
       "text": [
        "weighted average recall scores = [ 0.84929205  0.89054625  0.87981308  0.85497516],0.868656634524\n"
       ]
      },
      {
       "output_type": "stream",
       "stream": "stdout",
       "text": [
        "weighted f1 scores = [ 0.84800455  0.89018968  0.87841995  0.85220156],0.867203935451\n",
        "dimensionality: 67310"
       ]
      },
      {
       "output_type": "stream",
       "stream": "stdout",
       "text": [
        "\n",
        "density: 0.395667062844\n",
        "alt.atheism deletion,bobby,moral agency,dogma,cobb,wrote,scout,liar,bake,jon,tammy,gregg,motto,batman,islamic,atheist,rushdie,atheism,charley,keith\n",
        "comp.graphics algorithm,impulse,targa,hacker ethic,visualization,animation,sphere,hacker,tiff,surface,mpeg,photoshop,fractal,image,polygon,viewer,siggraph,pov,3d,graphic\n",
        "comp.os.ms-windows.misc dll,netware,file manager,filename,swap,canon,swap file,risc,logo,win,bmp,setup,nt,ini,challenge,ax,program manager,supporter,microsoft,window\n",
        "comp.sys.ibm.pc.hardware spec,date,specification,59,interrupt,pentium,motherboard,ide,monitor,gosh,pc,jumper,connect,isa,cmos,trinitron,vlb,wally,gateway,bios\n",
        "comp.sys.mac.hardware ethernet,applied engineering,cyclone,dead mouse,iifx,24 hour,iici,x86,68040,adb,se,pb,centris,powerbook,iisi,duo,quadra,apple,lc,mac\n",
        "comp.windows.x patch,cursor,drawn,binary,dortmund,default,client,symbol,hypercard,mit,christy,display,twm,consortium,window manager,event,x11,widget,server,motif\n",
        "misc.forsale lens,cod,airline,original,cd,pay,junk mail,calculator,excellent,summer,camera,thad,sell,snes,call,wanted,asking,offer,shipping,sale\n",
        "rec.autos leak,nissan,honda,eliot,shifting,vw,diesel,integra,opel,toyota,v6,dealer,mustang,oil,warning,automotive,ford,geico,auto,car\n",
        "rec.motorcycles stafford,ama,stroke,piece,robinson,ducati,biker,moa,yamaha,dog,harley,bmw,kawasaki,helmet,ride,rider,riding,motorcycle,bike,dod\n",
        "rec.sport.baseball hit,rockies,mets,marlin,uniform,hitter,morris,tiger,sox,fenway,stadium,ball,dodger,brave,pitcher,giant,cub,yankee,phillies,baseball\n",
        "rec.sport.hockey gerald,goal,oiler,cup,coach,detroit,pen,wing,leaf,puck,buffalo,islander,penguin,shark,espn,goalie,bruin,playoff,nhl,hockey\n",
        "sci.crypt"
       ]
      },
      {
       "output_type": "stream",
       "stream": "stdout",
       "text": [
        " encrypted,code,escrow,lobby,privacy,key,denning,rsa,tempest,cipher,secret,once,pgp,security,wiretap,nsa,cryptography,encryption,crypto,clipper\n",
        "sci.electronics apple mac,motorola,dsp,baden,exploding,pcb,2600,led,spice,solvent,resistor,voltage,rf,ic,8051,disk copy,copy protected,scope,electronics,circuit\n",
        "sci.med syndrome,food,migraine,physician,medicine,gordon,exercise,cancer,health,allergic,treatment,patient,ear,msg,med,medical,disease,gordon bank,doctor,photography\n",
        "sci.space flight,nasa,astronomy,funding,dc,astro,satellite,mar,gamma ray,pat,rocket,sunset,spacecraft,planet,launch,sky,orbit,shuttle,moon,space\n",
        "soc.religion.christian ceremony,joe fisher,dream,translation,spiritual,hell,christian,christianity,james,catholic,prayer,sin,easter,verse,christ,rutgers,geneva,church,daily,1993\n",
        "talk.politics.guns senate,re,regulated,gritz,texas,militia,burn,cnn,liberty,fbi,hunting,quisling,handgun,dividian,waco,ranch,weapon,atf,firearm,gun\n",
        "talk.politics.mideast holocaust,shut,armenia,pro,jerusalem,hezbollah,zionism,muslim,hamas,jew,arens,beyer,palestinian,argic,serdar,turkish,arab,armenian,israeli,israel\n",
        "talk.politics.misc kinsey,liberal,president,drug,percentage,mail address,hostage,narrative,sexual,ted frank,state,initiative,rutgers,gay,hallam,police state,clayton,garrett,top ten,cramer\n",
        "talk.religion.misc malcolm lee,commandment,tyre,robert wei,sabin,albert sabin,new age,new religion,mormon,666,abortion,rosicrucian,hudson,2000,sword,beast,magick,brian,burden,promise\n",
        "ng20_raw_lemmas_bigrams_stopwords_df1_tf1 ^ wiki_bigrams (extended unigrams) -->  precision  0.866073999773 recall  0.862921682348 f1  0.863510752333\n",
        "loaded (168259) terms"
       ]
      },
      {
       "output_type": "stream",
       "stream": "stdout",
       "text": [
        "\n",
        "done loading vocabulary\n",
        "vectorizing done, 168259 terms vocabulary tokenized"
       ]
      },
      {
       "output_type": "stream",
       "stream": "stdout",
       "text": [
        "\n",
        "vectorizing done, 168259 terms vocabulary tokenized"
       ]
      },
      {
       "output_type": "stream",
       "stream": "stdout",
       "text": [
        "\n"
       ]
      },
      {
       "output_type": "stream",
       "stream": "stdout",
       "text": [
        "accuracy scores = [ 0.87147402  0.90828025  0.90072279  0.87550543],0.888995622417\n"
       ]
      },
      {
       "output_type": "stream",
       "stream": "stdout",
       "text": [
        "macro precision scores = [ 0.86973691  0.90793855  0.89893374  0.87417996],0.887697291802\n"
       ]
      },
      {
       "output_type": "stream",
       "stream": "stdout",
       "text": [
        "macro recall scores = [ 0.86477804  0.90602875  0.89518862  0.87215773],0.884538286153\n"
       ]
      },
      {
       "output_type": "stream",
       "stream": "stdout",
       "text": [
        "macro f1 scores = [ 0.86598958  0.90676272  0.89590407  0.8723851 ],0.88526036758\n"
       ]
      },
      {
       "output_type": "stream",
       "stream": "stdout",
       "text": [
        "weighted average precision scores = [ 0.87158611  0.90846077  0.90190063  0.87763175],0.889894817831\n"
       ]
      },
      {
       "output_type": "stream",
       "stream": "stdout",
       "text": [
        "weighted average recall scores = [ 0.87158611  0.90846077  0.90190063  0.87763175],0.889894817831\n"
       ]
      },
      {
       "output_type": "stream",
       "stream": "stdout",
       "text": [
        "weighted f1 scores = [ 0.8705289   0.90817339  0.90026385  0.87579974],0.888691468172\n",
        "dimensionality: 168259"
       ]
      },
      {
       "output_type": "stream",
       "stream": "stdout",
       "text": [
        "\n",
        "density: 0.508949001242\n",
        "alt.atheism charley,enviroleague,wrote,jsn104,wwc,mangoe,scout,dogma,tammy,wingate,asimov,motto,cobb,benedikt,islamic,rushdie,mathew,atheism,atheist,keith\n",
        "comp.graphics targa,algorithm,visualization,sphere,viewer,tiff,surface,mpeg,photoshop,animation,fractal,hacker,cview,image,siggraph,polygon,pov,3do,3d,graphic\n",
        "comp.os.ms-windows.misc winfax,doublespace,risc,driver,setup,wfw,smartdrv,winqvt,file,bmp,nt,ini,win,ax,challenge,supporter,win3,microsoft,cica,window\n",
        "comp.sys.ibm.pc.hardware interrupt,laserjet,486,gosh,nanao,motherboards,connect,winmarks,mitsumi,motherboard,cmos,pc,irq,isa,ide,vlb,fastmicro,jumper,gateway,bios\n",
        "comp.sys.mac.hardware"
       ]
      },
      {
       "output_type": "stream",
       "stream": "stdout",
       "text": [
        " macweek,iifx,040,68040,pb,floptical,iici,deskwriter,bmug,adb,iisi,lciii,se,quadra,lc,duo,centris,powerbook,apple,mac\n",
        "comp.windows.x display,escaped,event,imake,twm,xdm,r5,xwindows,consortium,unsubscribe,openwindows,xfree86,x11,window manager,xlib,server,widget,xterm,x11r5,motif\n",
        "misc.forsale summer,lens,pay,00,includes,cd,2190,excellent,snes,camera,call,sell,obo,interested,asking,wanted,offer,shipping,forsale,sale\n",
        "rec.autos sunroof,nissan,dumbest,89,vw,v6,integra,honda,diesel,opel,mustang,toyota,dealer,oil,warning,automotive,geico,ford,auto,car\n",
        "rec.motorcycles biker,cage,ama,kreme,moa,cager,infante,ranck,yamaha,dog,harley,kawasaki,bmw,helmet,ride,rider,riding,motorcycle,bike,dod\n",
        "rec.sport.baseball hit,uniform,hitter,mets,mattingly,nl,fenway,stadium,ball,tiger,morris,dodger,sox,brave,pitcher,giant,cub,yankee,phillies,baseball\n",
        "rec.sport.hockey"
       ]
      },
      {
       "output_type": "stream",
       "stream": "stdout",
       "text": [
        " islander,coach,cherry,goal,wc,puck,detroit,pen,cup,buffalo,leaf,wing,shark,penguin,espn,goalie,bruin,playoff,nhl,hockey\n",
        "sci.crypt encrypted,rsa,sternlight,denning,privacy,de,tempest,secret,cipher,crypt,key,pgp,security,wiretap,nsa,cryptography,crypto,encryption,tapped,clipper\n",
        "sci.electronics eprom,motorola,dsp,adcom,spice,exploding,pcb,resistor,2600,led,rf,solvent,8051,voltage,protected,copy,scope,ic,electronics,circuit\n",
        "sci.med allergy,health,syndrome,cure,skin,exercise,migraine,allergic,medicine,ear,treatment,cancer,patient,medical,msg,krillean,med,disease,photography,doctor\n",
        "sci.space astro,henry,flight,dc,funding,nasa,gamma ray,mar,jennise,satellite,rocket,spacecraft,pat,planet,sky,launch,orbit,shuttle,moon,space\n",
        "soc.religion.christian james,hell,fisher,christianity,catholic,christian,arrogance,prayer,christ,1993,easter,sin,geneva,kiefer,daily,church,verse,rutgers,athos,clh\n",
        "talk.politics.guns"
       ]
      },
      {
       "output_type": "stream",
       "stream": "stdout",
       "text": [
        " gritz,bd,cdt,hunting,weaver,regulated,liberty,militia,burn,nra,fbi,handgun,quisling,dividian,waco,weapon,ranch,firearm,atf,gun\n",
        "talk.politics.mideast iran,hezbollah,holocaust,hamas,racism,zionism,armenia,argic,uva,andi,muslim,serdar,adl,jew,palestinian,turkish,arab,armenian,israeli,israel\n",
        "talk.politics.misc violence,celebrate,health,pyotr,president,police state,hostage,initiative,state,drug,mow,garrett,sexual,teel,gay,optilink,clayton,drieux,kaldis,cramer\n",
        "talk.religion.misc biblical,new age,sabin,koresh,tyre,happened,rawlins,sword,forming,brian,666,abortion,wei,hudson,mormon,beast,2000,rosicrucian,burden,promise\n",
        "ng20_raw_lemmas_unigrams_stopwords_df1_tf1 ^ ng20_raw_lemmas_bigrams_stopwords_df1_tf1 ^ wiktionary_bigrams  -->  precision  0.887697291802 recall  0.884538286153 f1  0.88526036758\n",
        "loaded (8078) terms"
       ]
      },
      {
       "output_type": "stream",
       "stream": "stdout",
       "text": [
        "\n",
        "extended to (13231) terms\n",
        "done loading vocabulary\n",
        "vectorizing done, 13231 terms vocabulary tokenized"
       ]
      },
      {
       "output_type": "stream",
       "stream": "stdout",
       "text": [
        "\n",
        "vectorizing done, 13231 terms vocabulary tokenized\n"
       ]
      },
      {
       "output_type": "stream",
       "stream": "stdout",
       "text": [
        "accuracy scores = [ 0.76818664  0.81401274  0.81441327  0.77058949],0.791800532418\n"
       ]
      },
      {
       "output_type": "stream",
       "stream": "stdout",
       "text": [
        "macro precision scores = [ 0.76354718  0.81221032  0.80917064  0.76814601],0.78826853964\n"
       ]
      },
      {
       "output_type": "stream",
       "stream": "stdout",
       "text": [
        "macro recall scores = [ 0.76038287  0.81022806  0.80746177  0.76592734],0.786000011705\n"
       ]
      },
      {
       "output_type": "stream",
       "stream": "stdout",
       "text": [
        "macro f1 scores = [ 0.76097767  0.8106387   0.80730599  0.76543992],0.786090570153\n"
       ]
      },
      {
       "output_type": "stream",
       "stream": "stdout",
       "text": [
        "weighted average precision scores = [ 0.76812446  0.81691239  0.8137911   0.77339878],0.793056682793\n"
       ]
      },
      {
       "output_type": "stream",
       "stream": "stdout",
       "text": [
        "weighted average recall scores = [ 0.76812446  0.81691239  0.8137911   0.77339878],0.793056682793\n"
       ]
      },
      {
       "output_type": "stream",
       "stream": "stdout",
       "text": [
        "weighted f1 scores = [ 0.76731544  0.81488136  0.81322836  0.77037923],0.791451097888\n",
        "dimensionality: 13231"
       ]
      },
      {
       "output_type": "stream",
       "stream": "stdout",
       "text": [
        "\n",
        "density: 0.523460055929\n",
        "alt.atheism shit,gulf,fossil,moral,gap,daffy,rice,allah,stamp,khan,scout,claw,boy scout,po,gulf war,vice,political,charley,bake,islamic\n",
        "comp.graphics coded,map,conversion,tea,modeling,oak,tracing,gopher,noble,sphere,surface,virtual reality,impulse,image,polygon,ethic,rot,significance,3d,graphic\n",
        "comp.os.ms-windows.misc desktop,character,wise,load,framework,macro,metric,cool,swap,real world,te,ip address,violet,canon,swap file,instruction set,visual basic,win,ax,window\n",
        "comp.sys.ibm.pc.hardware card game,horizontal,null modem,rash,date,2000,computer,finger,data compression,comment,bat,ordered,66,mag,permanent,jumbo,atari,reviewed,ide,interrupt\n",
        "comp.sys.mac.hardware applied,desktop,internet,home computer,monty,postage,zone,internal,official,lone,optical,clock,900,se,floptical,logic board,cyclone,hour,apple,mac\n",
        "comp.windows.x context,protocol,man page,binary,sussex,patch,dump,cursor,nordic,sun,display,set,computer science,tar,lib,kong,symbol,event,server,window manager\n",
        "misc.forsale lens,sonic,deck,sharp,seller,trade,pay,call,working condition,sell,original,summer,airline,camera,wanted,calculator,asking,junk mail,shipping,sale\n",
        "rec.autos hail,extended,test drive,alarm,corporate,diesel,concept,license plate,engine,shift,truck,leak,oil,ole,dealer,wagon,warning,insurance company,auto,car\n",
        "rec.motorcycles glove,piece,liquor,pipe,timing,drinking,drunk,dog,e,shaft,happy easter,touring,chain,harley,biker,ride,riding,rider,motorcycle,bike\n",
        "rec.sport.baseball batting,era,park,pitch,inning,royal,sox,ball,tiger,cardinal,career,hit,hitter,uniform,dodger,giant,pitcher,cub,yankee,baseball\n",
        "rec.sport.hockey pit,mask,pick,devil,final,pen,beat,cup,coach,ice,cherry,goal,pool,wing,cap,puck,leaf,buffalo,shark,hockey\n",
        "sci.crypt drug dealer,domestic,patent,si,speech,random,trust,tap,scheme,algorithm,holland,fifth amendment,key,lobby,privacy,security,cipher,secret,cryptography,clipper\n",
        "sci.electronics concrete,quid,schematic,pal,universal,diode,tv,subliminal,electrical,arcade,inkjet,resistor,latch,voltage,adhesive,2600,assembler,apple mac,protected,circuit\n",
        "sci.med disorder,diet,skin,food,exercise,migraine,med,methodology,effect,cardiac,treatment,cancer,sauce,allergic,ear,surrender,medical,medicine,disease,doctor\n",
        "sci.space hopkins,astronomy,fred,exploration,mission,flight,telescope,satellite,rocket,aurora,henry,mar,planet,gamma ray,launch,orbit,moon,sky,shuttle,space\n",
        "soc.religion.christian trinity,married,tongue,new testament,catholic,broken,sex education,james,ceremony,judgement,sin,christ,christianity,original sin,spiritual,easter,church,prayer,daily,geneva\n",
        "talk.politics.guns press,safety,governor,freak,special,representative,gang,criminal,arrest warrant,free state,swiss,silva,outlaw,acronym,fbi,raid,survivor,weapon,burn,gun\n",
        "talk.politics.mideast friendly,policy,party school,troop,iranian,hate,egypt,armenia,turk,un,freedom,pro,nick,jew,holocaust,turkish,arab,armenian,israel,israeli\n",
        "talk.politics.misc drug,state,deficit,child,income,adjective,party,hostage,mother nature,welfare,boomer,pork,marine,sexual,pyramid,percentage,gay,consent,initiative,police state\n",
        "talk.religion.misc moment,internet address,sign,wine,relativism,open mind,fait,imaginary,commandment,lifestyle,historian,new age,theme,ancient,abortion,sword,order,mormon,biblical,2000\n",
        "ng20_raw_lemmas_bigrams_stopwords_df1_tf1 ^ wiktionary_bigrams (extended unigrams) -->  precision  0.78826853964 recall  0.786000011705 f1  0.786090570153\n",
        "loaded (200143) terms"
       ]
      },
      {
       "output_type": "stream",
       "stream": "stdout",
       "text": [
        "\n",
        "vectorizing done, 200143 terms vocabulary tokenized"
       ]
      },
      {
       "output_type": "stream",
       "stream": "stdout",
       "text": [
        "\n",
        "vectorizing done, 200143 terms vocabulary tokenized"
       ]
      },
      {
       "output_type": "stream",
       "stream": "stdout",
       "text": [
        "\n"
       ]
      },
      {
       "output_type": "stream",
       "stream": "stdout",
       "text": [
        "accuracy scores = [ 0.87295864  0.90934183  0.90136054  0.87678229],0.890110826714\n"
       ]
      },
      {
       "output_type": "stream",
       "stream": "stdout",
       "text": [
        "macro precision scores = [ 0.8708772   0.90906648  0.89978295  0.87556117],0.888821949784\n"
       ]
      },
      {
       "output_type": "stream",
       "stream": "stdout",
       "text": [
        "macro recall scores = [ 0.86581592  0.90714311  0.8955419   0.87390495],0.885601468258\n"
       ]
      },
      {
       "output_type": "stream",
       "stream": "stdout",
       "text": [
        "macro f1 scores = [ 0.86696731  0.90791509  0.89636209  0.87398606],0.886307638241\n"
       ]
      },
      {
       "output_type": "stream",
       "stream": "stdout",
       "text": [
        "weighted average precision scores = [ 0.87292143  0.90943667  0.90268259  0.87880704],0.890961934498\n"
       ]
      },
      {
       "output_type": "stream",
       "stream": "stdout",
       "text": [
        "weighted average recall scores = [ 0.87292143  0.90943667  0.90268259  0.87880704],0.890961934498\n"
       ]
      },
      {
       "output_type": "stream",
       "stream": "stdout",
       "text": [
        "weighted f1 scores = [ 0.87186422  0.90922343  0.90085619  0.87706921],0.889753261752\n",
        "dimensionality: 200143"
       ]
      },
      {
       "output_type": "stream",
       "stream": "stdout",
       "text": [
        "\n",
        "density: 0.47082760826\n",
        "alt.atheism charley,enviroleague,scout,wrote,jsn104,mangoe,wwc,dogma,tammy,wingate,asimov,cobb,motto,benedikt,islamic,rushdie,mathew,atheism,atheist,keith\n",
        "comp.graphics hacker ethic,visualization,algorithm,sphere,viewer,mpeg,tiff,photoshop,surface,animation,fractal,hacker,cview,siggraph,polygon,image,pov,3do,3d,graphic\n",
        "comp.os.ms-windows.misc doublespace,risc,driver,setup,wfw,smartdrv,bmp,winqvt,file,nt,ini,win,challenge,ax,program manager,supporter,win3,cica,microsoft,window\n",
        "comp.sys.ibm.pc.hardware"
       ]
      },
      {
       "output_type": "stream",
       "stream": "stdout",
       "text": [
        " motherboards,gosh,nanao,monitor,486,modem,mitsumi,connect,winmarks,cmos,motherboard,isa,pc,ide,irq,vlb,fastmicro,jumper,bios,gateway\n",
        "comp.sys.mac.hardware c650,macweek,040,68040,pb,deskwriter,iici,floptical,bmug,adb,iisi,lciii,se,quadra,lc,duo,powerbook,centris,apple,mac\n",
        "comp.windows.x escaped,imake,twm,display,event,xdm,r5,xwindows,consortium,unsubscribe,openwindows,xfree86,x11,window manager,xlib,server,widget,xterm,x11r5,motif\n",
        "misc.forsale pay,summer,2190,00,lens,includes,excellent,cd,snes,camera,call,sell,obo,interested,asking,wanted,offer,shipping,forsale,sale\n",
        "rec.autos"
       ]
      },
      {
       "output_type": "stream",
       "stream": "stdout",
       "text": [
        " 89,dumbest,sunroof,nissan,vw,integra,honda,v6,diesel,opel,mustang,toyota,dealer,oil,automotive,warning,geico,ford,auto,car\n",
        "rec.motorcycles biker,ama,kreme,moa,cage,cager,infante,ranck,yamaha,harley,dog,kawasaki,helmet,bmw,ride,rider,riding,motorcycle,bike,dod\n",
        "rec.sport.baseball jay,uniform,nl,hitter,mattingly,mets,fenway,stadium,ball,tiger,morris,dodger,sox,brave,pitcher,giant,cub,yankee,phillies,baseball\n",
        "rec.sport.hockey islander,coach,cherry,wc,cup,goal,detroit,puck,pen,leaf,buffalo,wing,shark,penguin,espn,goalie,bruin,playoff,nhl,hockey\n",
        "sci.crypt rsa,encrypted,sternlight,denning,privacy,de,tempest,crypt,cipher,secret,key,pgp,security,wiretap,nsa,cryptography,crypto,encryption,tapped,clipper\n",
        "sci.electronics"
       ]
      },
      {
       "output_type": "stream",
       "stream": "stdout",
       "text": [
        " exploding,adcom,motorola,spice,pcb,dsp,resistor,noise,led,rf,copy,solvent,2600,8051,voltage,scope,ic,disk copy,electronics,circuit\n",
        "sci.med allergy,syndrome,cure,health,skin,exercise,migraine,allergic,medicine,ear,treatment,cancer,patient,medical,msg,krillean,disease,med,photography,doctor\n",
        "sci.space astro,flight,funding,henry,gamma ray,dc,nasa,mar,jennise,satellite,spacecraft,rocket,pat,planet,sky,launch,orbit,shuttle,moon,space\n",
        "soc.religion.christian james,fisher,christianity,hell,catholic,arrogance,prayer,christian,christ,1993,easter,geneva,kiefer,sin,daily,verse,church,rutgers,athos,clh\n",
        "talk.politics.guns texas,bd,cdt,weaver,hunting,regulated,liberty,militia,burn,nra,fbi,handgun,quisling,dividian,waco,weapon,ranch,firearm,atf,gun\n",
        "talk.politics.mideast"
       ]
      },
      {
       "output_type": "stream",
       "stream": "stdout",
       "text": [
        " jerusalem,iran,hezbollah,hamas,racism,uva,zionism,armenia,argic,andi,muslim,serdar,adl,jew,palestinian,turkish,arab,armenian,israeli,israel\n",
        "talk.politics.misc tax,ipser,pyotr,celebrate,police state,initiative,president,hostage,state,drug,mow,garrett,sexual,teel,gay,optilink,clayton,drieux,kaldis,cramer\n",
        "talk.religion.misc sabin,biblical,new age,koresh,tyre,happened,new religion,rawlins,sword,brian,666,abortion,wei,hudson,2000,beast,mormon,rosicrucian,burden,promise\n",
        "ng20_raw_lemmas_unigrams_stopwords_df1_tf1 ^ ng20_raw_lemmas_bigrams_stopwords_df1_tf1 ^ google_bigrams  -->  precision  0.888821949784 recall  0.885601468258 f1  0.886307638241\n",
        "loaded (39962) terms"
       ]
      },
      {
       "output_type": "stream",
       "stream": "stdout",
       "text": [
        "\n",
        "extended to (48275) terms\n",
        "done loading vocabulary\n",
        "vectorizing done, 48275 terms vocabulary tokenized"
       ]
      },
      {
       "output_type": "stream",
       "stream": "stdout",
       "text": [
        "\n",
        "vectorizing done, 48275 terms vocabulary tokenized"
       ]
      },
      {
       "output_type": "stream",
       "stream": "stdout",
       "text": [
        "\n"
       ]
      },
      {
       "output_type": "stream",
       "stream": "stdout",
       "text": [
        "accuracy scores = [ 0.81378579  0.86050955  0.85565476  0.81740796],0.836839516304\n"
       ]
      },
      {
       "output_type": "stream",
       "stream": "stdout",
       "text": [
        "macro precision scores = [ 0.81008694  0.8579852   0.85209107  0.81682808],0.83424782188\n"
       ]
      },
      {
       "output_type": "stream",
       "stream": "stdout",
       "text": [
        "macro recall scores = [ 0.80630803  0.85825243  0.84938058  0.8136699 ],0.831902733802\n"
       ]
      },
      {
       "output_type": "stream",
       "stream": "stdout",
       "text": [
        "macro f1 scores = [ 0.80683481  0.8579311   0.84967785  0.81400888],0.832113158961\n"
       ]
      },
      {
       "output_type": "stream",
       "stream": "stdout",
       "text": [
        "weighted average precision scores = [ 0.81343941  0.86026159  0.8561504   0.82076685],0.837654563115\n"
       ]
      },
      {
       "output_type": "stream",
       "stream": "stdout",
       "text": [
        "weighted average recall scores = [ 0.81343941  0.86026159  0.8561504   0.82076685],0.837654563115\n"
       ]
      },
      {
       "output_type": "stream",
       "stream": "stdout",
       "text": [
        "weighted f1 scores = [ 0.81238224  0.86019876  0.85494134  0.81787872],0.83635026471\n",
        "dimensionality: 48275"
       ]
      },
      {
       "output_type": "stream",
       "stream": "stdout",
       "text": [
        "\n",
        "density: 0.307193164164\n",
        "alt.atheism saturn,rice,allah,punishment,fish,casual,scout,dogma,poster,liar,gulf war,po,vice,batman,motto,political,islamic,atheist,atheism,rushdie\n",
        "comp.graphics radiosity,hacker,hacker ethic,noble,rgb,temp file,visualization,animation,viewer,sphere,mpeg,vesa,impulse,surface,polygon,image,rot,3d,philosophical,graphic\n",
        "comp.os.ms-windows.misc filename,setup,swap file,dll,file manager,risc,download,printer driver,logo,win,canon,bmp,nt,ini,challenge,ax,program manager,supporter,microsoft,window\n",
        "comp.sys.ibm.pc.hardware mcmaster,blaster,controller,cd rom,robert,spec,isa,virus,permanent,80386,pentium,comment,ide,interrupt,irq,cdrom,benchmark,cmos,bios,gateway\n",
        "comp.sys.mac.hardware clock,dock,appletalk,internal,logic board,hades,l,powerpc,hour,iii,price drop,run window,hardware,mathematica,cyclone,se,x86,pb,apple,mac\n",
        "comp.windows.x mit,patch,man page,dump,cursor,binary,lib,sun,client,symbol,hypercard,script,display,default,event,consortium,window manager,widget,server,motif\n",
        "misc.forsale deal,cd,typewriter,buyer,cod,sell,airline,reply,condition,original,fax modem,call,calculator,thad,summer,camera,junk mail,offer,shipping,sale\n",
        "rec.autos road,frost,chevrolet,dealer,v8,leak,honda,diesel,nissan,insurance company,esp,oil,toyota,vw,mustang,v6,ford,warning,auto,car\n",
        "rec.motorcycles bikers,piece,timing,stroke,drunk,daytona,cage,chain,shaft,dog,seca,harley,biker,bmw,helmet,ride,rider,riding,motorcycle,bike\n",
        "rec.sport.baseball marlin,uniform,hit,cardinal,sox,tiger,hitter,mets,brave,career,stadium,pitcher,ball,dodger,morris,giant,cub,yankee,phillies,baseball\n",
        "rec.sport.hockey season,abc,pit,overtime,leaf,oiler,puck,wing,cherry,goal,coach,pen,buffalo,penguin,detroit,bruin,shark,playoff,nhl,hockey\n",
        "sci.crypt implementation,triple,escrow,tap,hard core,trust,password,code,lobby,privacy,key,crypt,rsa,cipher,secret,security,organized,wiretap,encryption,clipper\n",
        "sci.electronics led,motorola,cooling tower,dayton,tv,dsp,eprom,baden,duct,pcb,duct tape,resistor,ic,rf,voltage,8051,scope,electronics,disk copy,circuit\n",
        "sci.med food,sci,effect,cure,cancer,health,exercise,sauce,syndrome,physician,treatment,surrender,patient,pitt,sensitivity,medical,medicine,ear,disease,doctor\n",
        "sci.space mission,exploration,dc,flight,solar,funding,proton,astronomy,satellite,mar,rocket,gamma ray,spacecraft,planet,launch,orbit,moon,shuttle,sky,space\n",
        "soc.religion.christian married,christianity,darius,james,prophetic,ceremony,christian,spiritual,catholic,fisher,verse,moderator,sin,christ,easter,prayer,daily,church,geneva,rutgers\n",
        "talk.politics.guns homicide,governor,bd,weaver,fortress,swiss,texas,fbi,militia,liberty,burn,socialist leader,cnn,hunting,waco,weapon,atf,firearm,ranch,gun\n",
        "talk.politics.mideast bosnian,greek,occupied,elia,hamas,holocaust,turk,jerusalem,freedom,muslim,bosnians,palestinian,jew,pro,armenia,adl,arab,armenian,israeli,israel\n",
        "talk.politics.misc liberal,hostage,pork,molester,narrative,child molester,marine,verdict,pyramid,consent,state,rutgers,percentage,fetus,employment,initiative,proposition,thor,gay,police state\n",
        "talk.religion.misc stephen,miracle,order,abortion,moment,josephus,new age,mithra,loving god,backing,666,mormon,beast,hudson,christian morality,sword,burden,wei,new religion,promise\n",
        "ng20_raw_lemmas_bigrams_stopwords_df1_tf1 ^ google_bigrams (extended unigrams) -->  precision  0.83424782188 recall  0.831902733802 f1  0.832113158961\n",
        "loaded (211067) terms"
       ]
      },
      {
       "output_type": "stream",
       "stream": "stdout",
       "text": [
        "\n",
        "vectorizing done, 211067 terms vocabulary tokenized"
       ]
      },
      {
       "output_type": "stream",
       "stream": "stdout",
       "text": [
        "\n",
        "vectorizing done, 211067 terms vocabulary tokenized"
       ]
      },
      {
       "output_type": "stream",
       "stream": "stdout",
       "text": [
        "\n"
       ]
      },
      {
       "output_type": "stream",
       "stream": "stdout",
       "text": [
        "accuracy scores = [ 0.87232238  0.91082803  0.90391156  0.87848478],0.891386687374\n"
       ]
      },
      {
       "output_type": "stream",
       "stream": "stdout",
       "text": [
        "macro precision scores = [ 0.87030772  0.91038161  0.90219954  0.8773016 ],0.890047616428\n"
       ]
      },
      {
       "output_type": "stream",
       "stream": "stdout",
       "text": [
        "macro recall scores = [ 0.86498486  0.90846239  0.8981217   0.87533201],0.886725240473\n"
       ]
      },
      {
       "output_type": "stream",
       "stream": "stdout",
       "text": [
        "macro f1 scores = [ 0.8662339   0.90923944  0.89894908  0.87554578],0.887492049235\n"
       ]
      },
      {
       "output_type": "stream",
       "stream": "stdout",
       "text": [
        "weighted average precision scores = [ 0.87237376  0.91097299  0.9051236   0.88049771],0.89224201311\n"
       ]
      },
      {
       "output_type": "stream",
       "stream": "stdout",
       "text": [
        "weighted average recall scores = [ 0.87237376  0.91097299  0.9051236   0.88049771],0.89224201311\n"
       ]
      },
      {
       "output_type": "stream",
       "stream": "stdout",
       "text": [
        "weighted f1 scores = [ 0.87125309  0.91074068  0.90342921  0.87874643],0.891042350436\n",
        "dimensionality: 211067"
       ]
      },
      {
       "output_type": "stream",
       "stream": "stdout",
       "text": [
        "\n",
        "density: 0.47949726864\n",
        "alt.atheism wrote,charley,enviroleague,mangoe,moral agency,scout,wwc,dogma,tammy,asimov,wingate,cobb,motto,benedikt,islamic,rushdie,mathew,atheism,atheist,keith\n",
        "comp.graphics hacker ethic,visualization,algorithm,photoshop,sphere,mpeg,animation,surface,tiff,viewer,fractal,hacker,cview,siggraph,image,polygon,pov,3do,3d,graphic\n",
        "comp.os.ms-windows.misc risc,doublespace,driver,wfw,setup,smartdrv,bmp,winqvt,file,nt,ini,win,program manager,challenge,ax,supporter,win3,cica,microsoft,window\n",
        "comp.sys.ibm.pc.hardware"
       ]
      },
      {
       "output_type": "stream",
       "stream": "stdout",
       "text": [
        " pentium,mitsumi,winmarks,motherboards,nanao,486,modem,connect,monitor,cmos,motherboard,irq,isa,ide,pc,fastmicro,vlb,jumper,gateway,bios\n",
        "comp.sys.mac.hardware 24 hour,040,macweek,68040,iici,pb,deskwriter,floptical,bmug,adb,lciii,iisi,se,centris,quadra,lc,duo,powerbook,apple,mac\n",
        "comp.windows.x escaped,event,display,imake,xdm,twm,consortium,xwindows,r5,unsubscribe,xfree86,openwindows,x11,window manager,xlib,server,widget,xterm,x11r5,motif\n",
        "misc.forsale summer,condition,lens,pay,00,includes,excellent,snes,cd,camera,call,sell,interested,obo,asking,wanted,offer,shipping,forsale,sale\n",
        "rec.autos nissan,89,dumbest,sunroof,vw,opel,honda,v6,integra,diesel,mustang,toyota,dealer,oil,automotive,warning,geico,ford,auto,car\n",
        "rec.motorcycles"
       ]
      },
      {
       "output_type": "stream",
       "stream": "stdout",
       "text": [
        " ducati,kreme,cage,moa,ama,cager,infante,ranck,yamaha,harley,kawasaki,dog,bmw,helmet,ride,rider,riding,motorcycle,bike,dod\n",
        "rec.sport.baseball jay,hit,uniform,nl,mets,morris,hitter,fenway,stadium,tiger,ball,dodger,sox,brave,pitcher,giant,cub,yankee,phillies,baseball\n",
        "rec.sport.hockey team,islander,coach,wc,detroit,cup,goal,puck,pen,wing,leaf,buffalo,shark,penguin,goalie,espn,bruin,playoff,nhl,hockey\n",
        "sci.crypt rsa,escrow,denning,sternlight,de,privacy,tempest,secret,cipher,crypt,key,pgp,security,wiretap,nsa,cryptography,crypto,encryption,tapped,clipper\n",
        "sci.electronics adcom,exploding,pcb,dsp,spice,motorola,2600,resistor,copy,led,rf,solvent,8051,disk copy,voltage,copy protected,scope,ic,electronics,circuit\n",
        "sci.med"
       ]
      },
      {
       "output_type": "stream",
       "stream": "stdout",
       "text": [
        " antibiotic,syndrome,food,skin,health,exercise,allergic,migraine,medicine,ear,treatment,cancer,patient,msg,krillean,medical,med,disease,photography,doctor\n",
        "sci.space astro,astronomy,funding,flight,gamma ray,dc,nasa,mar,jennise,rocket,satellite,spacecraft,pat,planet,sky,launch,orbit,shuttle,moon,space\n",
        "soc.religion.christian moderator,james,christianity,prayer,hell,arrogance,catholic,christian,1993,christ,easter,geneva,sin,kiefer,daily,verse,church,rutgers,athos,clh\n",
        "talk.politics.guns texas,weaver,bd,cdt,hunting,regulated,liberty,militia,burn,fbi,nra,handgun,quisling,dividian,waco,weapon,ranch,firearm,atf,gun\n",
        "talk.politics.mideast yigal,jerusalem,hezbollah,hamas,racism,argic,zionism,serdar,armenia,uva,andi,muslim,adl,jew,palestinian,turkish,arab,armenian,israeli,israel\n",
        "talk.politics.misc"
       ]
      },
      {
       "output_type": "stream",
       "stream": "stdout",
       "text": [
        " income,tax,pyotr,police state,initiative,hostage,president,state,drug,mow,garrett,sexual,teel,optilink,clayton,gay,drieux,cramer,top ten,kaldis\n",
        "talk.religion.misc kendig,robert wei,christian morality,new age,koresh,happened,tyre,rawlins,new religion,sword,666,brian,abortion,2000,rosicrucian,hudson,beast,mormon,burden,promise\n",
        "ng20_raw_lemmas_unigrams_stopwords_df1_tf1 ^ ng20_raw_lemmas_bigrams_stopwords_df1_tf1 ^ wiki_wiktionary_bigrams_vw  -->  precision  0.890047616428 recall  0.886725240473 f1  0.887492049235\n",
        "loaded (50886) terms"
       ]
      },
      {
       "output_type": "stream",
       "stream": "stdout",
       "text": [
        "\n",
        "extended to (68550) terms\n",
        "done loading vocabulary\n",
        "vectorizing done, 68550 terms vocabulary tokenized"
       ]
      },
      {
       "output_type": "stream",
       "stream": "stdout",
       "text": [
        "\n",
        "vectorizing done, 68550 terms vocabulary tokenized"
       ]
      },
      {
       "output_type": "stream",
       "stream": "stdout",
       "text": [
        "\n"
       ]
      },
      {
       "output_type": "stream",
       "stream": "stdout",
       "text": [
        "accuracy scores = [ 0.84941676  0.88980892  0.88031463  0.85124495],0.867696310955\n"
       ]
      },
      {
       "output_type": "stream",
       "stream": "stdout",
       "text": [
        "macro precision scores = [ 0.84697444  0.88857205  0.87744315  0.85111194],0.866025394623\n"
       ]
      },
      {
       "output_type": "stream",
       "stream": "stdout",
       "text": [
        "macro recall scores = [ 0.84231682  0.88758385  0.87392471  0.84840068],0.863056516986\n"
       ]
      },
      {
       "output_type": "stream",
       "stream": "stdout",
       "text": [
        "macro f1 scores = [ 0.84350992  0.88788478  0.87447997  0.84846213],0.86358419995\n"
       ]
      },
      {
       "output_type": "stream",
       "stream": "stdout",
       "text": [
        "weighted average precision scores = [ 0.84974482  0.89003994  0.88081411  0.85416971],0.868692147414\n"
       ]
      },
      {
       "output_type": "stream",
       "stream": "stdout",
       "text": [
        "weighted average recall scores = [ 0.84974482  0.89003994  0.88081411  0.85416971],0.868692147414\n"
       ]
      },
      {
       "output_type": "stream",
       "stream": "stdout",
       "text": [
        "weighted f1 scores = [ 0.84860905  0.88973236  0.87949769  0.85146825],0.867326838157\n",
        "dimensionality: 68550"
       ]
      },
      {
       "output_type": "stream",
       "stream": "stdout",
       "text": [
        "\n",
        "density: 0.39600948213\n",
        "alt.atheism deletion,dogma,bobby,moral agency,cobb,wrote,scout,liar,jon,bake,tammy,gregg,motto,batman,islamic,atheist,rushdie,atheism,charley,keith\n",
        "comp.graphics algorithm,impulse,targa,hacker ethic,visualization,animation,sphere,hacker,surface,tiff,mpeg,photoshop,fractal,image,polygon,viewer,siggraph,pov,3d,graphic\n",
        "comp.os.ms-windows.misc file,file manager,netware,filename,swap,canon,swap file,risc,logo,win,bmp,setup,nt,ini,challenge,ax,program manager,supporter,microsoft,window\n",
        "comp.sys.ibm.pc.hardware spec,date,specification,59,pentium,interrupt,motherboard,gosh,ide,monitor,pc,jumper,connect,isa,cmos,trinitron,vlb,wally,gateway,bios\n",
        "comp.sys.mac.hardware ethernet,cyclone,dead mouse,iifx,24 hour,iici,x86,floptical,68040,adb,pb,se,centris,iisi,powerbook,duo,quadra,apple,lc,mac\n",
        "comp.windows.x patch,drawn,cursor,binary,dortmund,default,client,symbol,hypercard,mit,christy,display,twm,consortium,window manager,event,x11,widget,server,motif\n",
        "misc.forsale lens,airline,cod,original,cd,pay,junk mail,calculator,excellent,summer,camera,thad,sell,snes,call,wanted,asking,offer,shipping,sale\n",
        "rec.autos leak,nissan,honda,eliot,vw,diesel,shifting,opel,integra,toyota,v6,dealer,mustang,oil,warning,automotive,ford,geico,auto,car\n",
        "rec.motorcycles ama,stroke,stafford,piece,robinson,ducati,biker,moa,yamaha,dog,harley,bmw,kawasaki,helmet,ride,riding,rider,motorcycle,bike,dod\n",
        "rec.sport.baseball hit,rockies,mets,marlin,uniform,hitter,morris,tiger,sox,fenway,stadium,ball,dodger,brave,pitcher,giant,cub,yankee,phillies,baseball\n",
        "rec.sport.hockey gerald,goal,oiler,cup,coach,detroit,wing,pen,leaf,puck,buffalo,islander,penguin,shark,espn,goalie,bruin,playoff,nhl,hockey\n",
        "sci.crypt random,code,escrow,lobby,privacy,denning,key,rsa,tempest,cipher,secret,once,pgp,security,wiretap,nsa,cryptography,encryption,crypto,clipper\n",
        "sci.electronics apple mac,motorola,dsp,baden,exploding,led,pcb,2600,spice,solvent,resistor,voltage,8051,disk copy,rf,ic,copy protected,scope,electronics,circuit\n",
        "sci.med food,syndrome,migraine,physician,medicine,gordon,exercise,allergic,cancer,health,treatment,patient,ear,msg,med,medical,disease,gordon bank,doctor,photography\n",
        "sci.space"
       ]
      },
      {
       "output_type": "stream",
       "stream": "stdout",
       "text": [
        " nasa,flight,astronomy,funding,dc,astro,satellite,mar,gamma ray,pat,rocket,sunset,spacecraft,planet,launch,sky,orbit,shuttle,moon,space\n",
        "soc.religion.christian ceremony,joe fisher,dream,translation,spiritual,hell,christian,christianity,james,catholic,prayer,sin,easter,verse,christ,rutgers,geneva,church,daily,1993\n",
        "talk.politics.guns senate,gritz,regulated,texas,militia,burn,cnn,liberty,fbi,hunting,handgun,quisling,acronym,dividian,ranch,weapon,waco,atf,firearm,gun\n",
        "talk.politics.mideast freedom,holocaust,racism,pro,jerusalem,hezbollah,zionism,muslim,hamas,jew,arens,beyer,palestinian,argic,serdar,turkish,arab,armenian,israeli,israel\n",
        "talk.politics.misc verdict,president,liberal,drug,percentage,mail address,hostage,narrative,sexual,ted frank,state,initiative,rutgers,hallam,police state,gay,garrett,clayton,top ten,cramer\n",
        "talk.religion.misc muhammad,commandment,tyre,robert wei,sabin,albert sabin,new age,new religion,mormon,abortion,666,hudson,rosicrucian,2000,sword,magick,beast,brian,burden,promise\n",
        "ng20_raw_lemmas_bigrams_stopwords_df1_tf1 ^ wiki_wiktionary_bigrams_vw (extended unigrams) -->  precision  0.866025394623 recall  0.863056516986 f1  0.86358419995\n",
        "loaded (233813) terms"
       ]
      },
      {
       "output_type": "stream",
       "stream": "stdout",
       "text": [
        "\n",
        "vectorizing done, 233813 terms vocabulary tokenized"
       ]
      },
      {
       "output_type": "stream",
       "stream": "stdout",
       "text": [
        "\n",
        "vectorizing done, 233813 terms vocabulary tokenized"
       ]
      },
      {
       "output_type": "stream",
       "stream": "stdout",
       "text": [
        "\n"
       ]
      },
      {
       "output_type": "stream",
       "stream": "stdout",
       "text": [
        "accuracy scores = [ 0.87211029  0.91061571  0.90327381  0.87699511],0.89074872811\n"
       ]
      },
      {
       "output_type": "stream",
       "stream": "stdout",
       "text": [
        "macro precision scores = [ 0.87006445  0.91014562  0.90151512  0.87585127],0.889394114598\n"
       ]
      },
      {
       "output_type": "stream",
       "stream": "stdout",
       "text": [
        "macro recall scores = [ 0.8645586   0.90826323  0.89755363  0.87390119],0.886069162039\n"
       ]
      },
      {
       "output_type": "stream",
       "stream": "stdout",
       "text": [
        "macro f1 scores = [ 0.86574785  0.90903002  0.89837117  0.87412344],0.886818120622\n"
       ]
      },
      {
       "output_type": "stream",
       "stream": "stdout",
       "text": [
        "weighted average precision scores = [ 0.87205934  0.91076337  0.90445531  0.87893963],0.89155441363\n"
       ]
      },
      {
       "output_type": "stream",
       "stream": "stdout",
       "text": [
        "weighted average recall scores = [ 0.87205934  0.91076337  0.90445531  0.87893963],0.89155441363\n"
       ]
      },
      {
       "output_type": "stream",
       "stream": "stdout",
       "text": [
        "weighted f1 scores = [ 0.87088351  0.91053483  0.9028202   0.87724219],0.89037018029\n",
        "dimensionality: 233813"
       ]
      },
      {
       "output_type": "stream",
       "stream": "stdout",
       "text": [
        "\n",
        "density: 0.448744937193\n",
        "alt.atheism wrote,enviroleague,charley,moral agency,mangoe,scout,wwc,dogma,tammy,asimov,wingate,cobb,motto,benedikt,islamic,rushdie,mathew,atheism,atheist,keith\n",
        "comp.graphics hacker ethic,visualization,algorithm,photoshop,sphere,mpeg,animation,surface,viewer,fractal,tiff,hacker,cview,siggraph,polygon,image,pov,3do,3d,graphic\n",
        "comp.os.ms-windows.misc doublespace,risc,wfw,setup,driver,smartdrv,bmp,winqvt,file,nt,ini,win,program manager,challenge,ax,supporter,win3,cica,microsoft,window\n",
        "comp.sys.ibm.pc.hardware"
       ]
      },
      {
       "output_type": "stream",
       "stream": "stdout",
       "text": [
        " gosh,mitsumi,motherboards,winmarks,nanao,modem,connect,486,monitor,motherboard,cmos,isa,ide,irq,fastmicro,pc,vlb,jumper,gateway,bios\n",
        "comp.sys.mac.hardware 24 hour,040,68040,macweek,iici,deskwriter,pb,floptical,bmug,adb,lciii,iisi,se,centris,quadra,lc,duo,powerbook,apple,mac\n",
        "comp.windows.x escaped,imake,twm,event,xdm,xwindows,display,consortium,r5,unsubscribe,openwindows,xfree86,window manager,x11,xlib,server,widget,xterm,x11r5,motif\n",
        "misc.forsale condition,summer,pay,lens,00,includes,excellent,snes,cd,camera,sell,call,interested,obo,asking,wanted,offer,shipping,forsale,sale\n",
        "rec.autos"
       ]
      },
      {
       "output_type": "stream",
       "stream": "stdout",
       "text": [
        " nissan,89,dumbest,sunroof,vw,honda,opel,integra,v6,diesel,mustang,toyota,dealer,oil,automotive,warning,geico,ford,auto,car\n",
        "rec.motorcycles ducati,kreme,moa,ama,cager,cage,infante,ranck,yamaha,harley,kawasaki,dog,helmet,bmw,ride,rider,riding,motorcycle,bike,dod\n",
        "rec.sport.baseball jay,hit,uniform,nl,mets,morris,hitter,fenway,stadium,tiger,dodger,ball,sox,brave,pitcher,giant,cub,yankee,phillies,baseball\n",
        "rec.sport.hockey team,islander,coach,wc,detroit,cup,puck,goal,pen,wing,leaf,buffalo,shark,penguin,espn,goalie,bruin,playoff,nhl,hockey\n",
        "sci.crypt"
       ]
      },
      {
       "output_type": "stream",
       "stream": "stdout",
       "text": [
        " escrow,encrypted,denning,sternlight,de,privacy,tempest,secret,cipher,crypt,key,pgp,security,wiretap,nsa,cryptography,crypto,encryption,tapped,clipper\n",
        "sci.electronics adcom,exploding,pcb,dsp,spice,motorola,resistor,2600,copy,led,rf,solvent,disk copy,8051,voltage,copy protected,scope,ic,electronics,circuit\n",
        "sci.med food,antibiotic,syndrome,skin,health,exercise,allergic,migraine,medicine,ear,treatment,cancer,patient,msg,medical,krillean,med,disease,photography,doctor\n",
        "sci.space astro,astronomy,funding,flight,gamma ray,dc,nasa,mar,jennise,rocket,satellite,spacecraft,pat,planet,sky,launch,orbit,shuttle,moon,space\n",
        "soc.religion.christian"
       ]
      },
      {
       "output_type": "stream",
       "stream": "stdout",
       "text": [
        " translation,james,christianity,prayer,hell,arrogance,catholic,christian,1993,christ,easter,geneva,kiefer,sin,daily,verse,church,rutgers,athos,clh\n",
        "talk.politics.guns weaver,cnn,bd,hunting,cdt,regulated,liberty,militia,burn,nra,fbi,quisling,handgun,dividian,waco,weapon,ranch,firearm,atf,gun\n",
        "talk.politics.mideast jerusalem,hamas,iran,hezbollah,racism,argic,uva,zionism,serdar,armenia,andi,muslim,adl,jew,palestinian,turkish,arab,armenian,israeli,israel\n",
        "talk.politics.misc income,tax,pyotr,police state,initiative,hostage,president,state,drug,mow,garrett,sexual,teel,optilink,clayton,gay,drieux,cramer,top ten,kaldis\n",
        "talk.religion.misc"
       ]
      },
      {
       "output_type": "stream",
       "stream": "stdout",
       "text": [
        " wei,christian morality,robert wei,new age,koresh,happened,tyre,rawlins,new religion,sword,666,brian,abortion,rosicrucian,hudson,2000,beast,mormon,burden,promise\n",
        "ng20_raw_lemmas_unigrams_stopwords_df1_tf1 ^ ng20_raw_lemmas_bigrams_stopwords_df1_tf1 ^ wiki_google_bigrams_vw  -->  precision  0.889394114598 recall  0.886069162039 f1  0.886818120622\n",
        "loaded (73632) terms"
       ]
      },
      {
       "output_type": "stream",
       "stream": "stdout",
       "text": [
        "\n",
        "extended to (92101) terms"
       ]
      },
      {
       "output_type": "stream",
       "stream": "stdout",
       "text": [
        "\n",
        "done loading vocabulary\n",
        "vectorizing done, 92101 terms vocabulary tokenized"
       ]
      },
      {
       "output_type": "stream",
       "stream": "stdout",
       "text": [
        "\n",
        "vectorizing done, 92101 terms vocabulary tokenized"
       ]
      },
      {
       "output_type": "stream",
       "stream": "stdout",
       "text": [
        "\n"
       ]
      },
      {
       "output_type": "stream",
       "stream": "stdout",
       "text": [
        "accuracy scores = [ 0.84899258  0.89002123  0.88052721  0.85209619],0.867909302467\n"
       ]
      },
      {
       "output_type": "stream",
       "stream": "stdout",
       "text": [
        "macro precision scores = [ 0.84747202  0.88887756  0.87764618  0.85191571],0.866477866667\n"
       ]
      },
      {
       "output_type": "stream",
       "stream": "stdout",
       "text": [
        "macro recall scores = [ 0.84150634  0.88805367  0.87427076  0.84903552],0.863216573476\n"
       ]
      },
      {
       "output_type": "stream",
       "stream": "stdout",
       "text": [
        "macro f1 scores = [ 0.84294588  0.88835432  0.87476533  0.84920396],0.863817373755\n"
       ]
      },
      {
       "output_type": "stream",
       "stream": "stdout",
       "text": [
        "weighted average precision scores = [ 0.84980359  0.89023317  0.88106356  0.85523009],0.869082601043\n"
       ]
      },
      {
       "output_type": "stream",
       "stream": "stdout",
       "text": [
        "weighted average recall scores = [ 0.84980359  0.89023317  0.88106356  0.85523009],0.869082601043\n"
       ]
      },
      {
       "output_type": "stream",
       "stream": "stdout",
       "text": [
        "weighted f1 scores = [ 0.8481083   0.89001734  0.87972229  0.85242386],0.86756794869\n",
        "dimensionality: 92101"
       ]
      },
      {
       "output_type": "stream",
       "stream": "stdout",
       "text": [
        "\n",
        "density: 0.342395848036\n",
        "alt.atheism moral agency,cobb,bobby,vice,dogma,scout,wrote,liar,bake,jon,gregg,tammy,batman,motto,islamic,rushdie,atheist,atheism,charley,keith\n",
        "comp.graphics rgb,impulse,visualization,targa,hacker ethic,animation,sphere,hacker,tiff,mpeg,photoshop,surface,fractal,viewer,polygon,image,siggraph,pov,3d,graphic\n",
        "comp.os.ms-windows.misc file manager,download,filename,print manager,swap,swap file,canon,logo,risc,win,setup,bmp,nt,ini,challenge,ax,program manager,supporter,microsoft,window\n",
        "comp.sys.ibm.pc.hardware spec,specification,irq,amd,pentium,interrupt,jumper,gosh,motherboard,monitor,connect,ide,pc,isa,trinitron,cmos,vlb,wally,gateway,bios\n",
        "comp.sys.mac.hardware appletalk,l,dead mouse,cyclone,iifx,24 hour,x86,iici,68040,pb,adb,se,centris,iisi,duo,powerbook,quadra,apple,lc,mac\n",
        "comp.windows.x lib,binary,dortmund,colormap,sun,client,hypercard,symbol,default,christy,mit,twm,display,consortium,window manager,event,x11,widget,server,motif\n",
        "misc.forsale cod,airline,lens,original,pay,junk mail,calculator,cd,thad,excellent,summer,camera,sell,snes,call,wanted,asking,offer,shipping,sale\n",
        "rec.autos nissan,convertible,eliot,honda,vw,shifting,integra,diesel,opel,toyota,v6,dealer,mustang,oil,warning,automotive,ford,geico,auto,car\n",
        "rec.motorcycles piece,stroke,ama,robinson,biker,ducati,moa,cage,yamaha,dog,harley,bmw,kawasaki,helmet,ride,rider,riding,motorcycle,bike,dod\n",
        "rec.sport.baseball rockies,hit,mets,marlin,uniform,hitter,morris,tiger,sox,fenway,stadium,ball,dodger,brave,pitcher,giant,cub,yankee,phillies,baseball\n",
        "rec.sport.hockey"
       ]
      },
      {
       "output_type": "stream",
       "stream": "stdout",
       "text": [
        " gerald,goal,cup,detroit,oiler,coach,pen,wing,leaf,puck,islander,buffalo,espn,penguin,shark,goalie,bruin,playoff,nhl,hockey\n",
        "sci.crypt code,escrow,lobby,privacy,rsa,denning,key,tempest,crypt,secret,cipher,once,pgp,security,nsa,wiretap,cryptography,encryption,crypto,clipper\n",
        "sci.electronics copy,motorola,baden,exploding,dsp,pcb,led,2600,spice,resistor,solvent,voltage,8051,ic,rf,disk copy,copy protected,scope,electronics,circuit\n",
        "sci.med methodology,migraine,syndrome,physician,exercise,allergic,health,gordon,medicine,cancer,treatment,patient,ear,msg,med,medical,disease,gordon bank,doctor,photography\n",
        "sci.space mission,nasa,astronomy,flight,funding,astro,dc,satellite,mar,gamma ray,pat,rocket,spacecraft,planet,launch,sky,orbit,shuttle,moon,space\n",
        "soc.religion.christian roman,dream,translation,hell,spiritual,moderator,christian,christianity,james,prayer,catholic,sin,easter,verse,christ,geneva,rutgers,daily,church,1993\n",
        "talk.politics.guns senate,bd,gritz,texas,regulated,militia,cnn,burn,liberty,fbi,hunting,quisling,handgun,dividian,waco,weapon,ranch,atf,firearm,gun\n",
        "talk.politics.mideast armenia,freedom,shut,hamas,jerusalem,pro,muslim,hezbollah,zionism,jew,beyer,palestinian,adl,argic,serdar,turkish,arab,armenian,israeli,israel\n",
        "talk.politics.misc verdict,kinsey,liberal,mail address,percentage,drug,hostage,narrative,sexual,ted frank,initiative,state,hallam,rutgers,police state,gay,garrett,clayton,top ten,cramer\n",
        "talk.religion.misc mithra,commandment,magick,sabin,albert sabin,robert wei,tyre,new age,new religion,abortion,666,mormon,rosicrucian,hudson,2000,sword,beast,burden,brian,promise\n",
        "ng20_raw_lemmas_bigrams_stopwords_df1_tf1 ^ wiki_google_bigrams_vw (extended unigrams) -->  precision  0.866477866667 recall  0.863216573476 f1  0.863817373755\n",
        "loaded (203890) terms"
       ]
      },
      {
       "output_type": "stream",
       "stream": "stdout",
       "text": [
        "\n",
        "vectorizing done, 203890 terms vocabulary tokenized"
       ]
      },
      {
       "output_type": "stream",
       "stream": "stdout",
       "text": [
        "\n",
        "vectorizing done, 203890 terms vocabulary tokenized"
       ]
      },
      {
       "output_type": "stream",
       "stream": "stdout",
       "text": [
        "\n"
       ]
      },
      {
       "output_type": "stream",
       "stream": "stdout",
       "text": [
        "accuracy scores = [ 0.87211029  0.90934183  0.9019983   0.87614386],0.889898567985\n"
       ]
      },
      {
       "output_type": "stream",
       "stream": "stdout",
       "text": [
        "macro precision scores = [ 0.86994158  0.90877592  0.90030632  0.87506229],0.888521526289\n"
       ]
      },
      {
       "output_type": "stream",
       "stream": "stdout",
       "text": [
        "macro recall scores = [ 0.86484906  0.90703366  0.89632977  0.87300646],0.885304736419\n"
       ]
      },
      {
       "output_type": "stream",
       "stream": "stdout",
       "text": [
        "macro f1 scores = [ 0.86601679  0.9077342   0.89712083  0.87321441],0.886021557354\n"
       ]
      },
      {
       "output_type": "stream",
       "stream": "stdout",
       "text": [
        "weighted average precision scores = [ 0.87209527  0.90936432  0.90318812  0.87831737],0.890741268093\n"
       ]
      },
      {
       "output_type": "stream",
       "stream": "stdout",
       "text": [
        "weighted average recall scores = [ 0.87209527  0.90936432  0.90318812  0.87831737],0.890741268093\n"
       ]
      },
      {
       "output_type": "stream",
       "stream": "stdout",
       "text": [
        "weighted f1 scores = [ 0.87102404  0.90920283  0.90151556  0.8764298 ],0.88954305695\n",
        "dimensionality: 203890"
       ]
      },
      {
       "output_type": "stream",
       "stream": "stdout",
       "text": [
        "\n",
        "density: 0.470865662857\n",
        "alt.atheism enviroleague,charley,scout,wrote,jsn104,mangoe,wwc,dogma,tammy,wingate,asimov,cobb,motto,benedikt,islamic,rushdie,mathew,atheism,atheist,keith\n",
        "comp.graphics hacker ethic,visualization,algorithm,sphere,viewer,tiff,mpeg,photoshop,surface,animation,fractal,hacker,cview,siggraph,polygon,image,pov,3do,3d,graphic\n",
        "comp.os.ms-windows.misc doublespace,risc,driver,setup,wfw,bmp,smartdrv,winqvt,file,nt,ini,win,challenge,ax,program manager,supporter,win3,cica,microsoft,window\n",
        "comp.sys.ibm.pc.hardware"
       ]
      },
      {
       "output_type": "stream",
       "stream": "stdout",
       "text": [
        " gosh,motherboards,modem,mitsumi,nanao,monitor,connect,486,winmarks,motherboard,cmos,isa,pc,ide,irq,vlb,fastmicro,jumper,gateway,bios\n",
        "comp.sys.mac.hardware iifx,040,macweek,68040,pb,deskwriter,iici,floptical,bmug,adb,iisi,lciii,se,quadra,lc,duo,powerbook,centris,apple,mac\n",
        "comp.windows.x escaped,imake,twm,display,event,xdm,xwindows,r5,consortium,unsubscribe,openwindows,xfree86,x11,window manager,xlib,server,widget,xterm,x11r5,motif\n",
        "misc.forsale pay,lens,summer,2190,00,includes,excellent,cd,snes,camera,call,sell,interested,obo,asking,wanted,offer,shipping,forsale,sale\n",
        "rec.autos 89,dumbest,sunroof,nissan,vw,integra,honda,v6,diesel,opel,mustang,toyota,dealer,oil,warning,automotive,geico,ford,auto,car\n",
        "rec.motorcycles"
       ]
      },
      {
       "output_type": "stream",
       "stream": "stdout",
       "text": [
        " biker,kreme,ama,cager,moa,cage,infante,ranck,yamaha,harley,dog,kawasaki,helmet,bmw,ride,rider,riding,motorcycle,bike,dod\n",
        "rec.sport.baseball hit,uniform,nl,hitter,mattingly,mets,fenway,stadium,ball,tiger,morris,dodger,sox,brave,pitcher,giant,cub,yankee,phillies,baseball\n",
        "rec.sport.hockey islander,coach,wc,cherry,cup,goal,detroit,puck,pen,leaf,buffalo,wing,shark,penguin,espn,goalie,bruin,playoff,nhl,hockey\n",
        "sci.crypt rsa,encrypted,sternlight,denning,privacy,de,tempest,crypt,cipher,secret,key,pgp,security,wiretap,nsa,cryptography,crypto,encryption,tapped,clipper\n",
        "sci.electronics adcom,exploding,motorola,spice,pcb,protected,dsp,resistor,2600,led,copy,rf,solvent,8051,voltage,scope,ic,disk copy,electronics,circuit\n",
        "sci.med"
       ]
      },
      {
       "output_type": "stream",
       "stream": "stdout",
       "text": [
        " allergy,syndrome,cure,health,skin,exercise,migraine,allergic,medicine,ear,treatment,cancer,patient,medical,msg,krillean,med,disease,photography,doctor\n",
        "sci.space astro,funding,flight,henry,gamma ray,dc,nasa,mar,jennise,satellite,rocket,spacecraft,pat,planet,sky,launch,orbit,shuttle,moon,space\n",
        "soc.religion.christian james,fisher,christianity,hell,catholic,arrogance,prayer,christian,christ,1993,easter,geneva,sin,kiefer,daily,verse,church,rutgers,athos,clh\n",
        "talk.politics.guns texas,bd,cdt,weaver,hunting,regulated,liberty,militia,burn,nra,fbi,handgun,quisling,dividian,waco,weapon,ranch,firearm,atf,gun\n",
        "talk.politics.mideast jerusalem,iran,hezbollah,hamas,racism,uva,zionism,armenia,argic,andi,muslim,serdar,adl,jew,palestinian,turkish,arab,armenian,israeli,israel\n",
        "talk.politics.misc"
       ]
      },
      {
       "output_type": "stream",
       "stream": "stdout",
       "text": [
        " tax,ipser,celebrate,pyotr,police state,initiative,president,hostage,state,drug,mow,garrett,sexual,teel,optilink,gay,clayton,drieux,kaldis,cramer\n",
        "talk.religion.misc new age,sabin,biblical,koresh,tyre,happened,new religion,rawlins,sword,brian,abortion,666,wei,hudson,2000,beast,mormon,rosicrucian,burden,promise\n",
        "ng20_raw_lemmas_unigrams_stopwords_df1_tf1 ^ ng20_raw_lemmas_bigrams_stopwords_df1_tf1 ^ wiktionary_google_bigrams_vw  -->  precision  0.888521526289 recall  0.885304736419 f1  0.886021557354\n",
        "loaded (43709) terms"
       ]
      },
      {
       "output_type": "stream",
       "stream": "stdout",
       "text": [
        "\n",
        "extended to (53360) terms\n",
        "done loading vocabulary\n",
        "vectorizing done, 53360 terms vocabulary tokenized"
       ]
      },
      {
       "output_type": "stream",
       "stream": "stdout",
       "text": [
        "\n",
        "vectorizing done, 53360 terms vocabulary tokenized"
       ]
      },
      {
       "output_type": "stream",
       "stream": "stdout",
       "text": [
        "\n"
       ]
      },
      {
       "output_type": "stream",
       "stream": "stdout",
       "text": [
        "accuracy scores = [ 0.81866384  0.8656051   0.86054422  0.82613322],0.842736592969\n"
       ]
      },
      {
       "output_type": "stream",
       "stream": "stdout",
       "text": [
        "macro precision scores = [ 0.81542545  0.86335379  0.85709293  0.82488807],0.840190058337\n"
       ]
      },
      {
       "output_type": "stream",
       "stream": "stdout",
       "text": [
        "macro recall scores = [ 0.81177023  0.8632569   0.85378833  0.8223068 ],0.837780561157\n"
       ]
      },
      {
       "output_type": "stream",
       "stream": "stdout",
       "text": [
        "macro f1 scores = [ 0.81244337  0.86311121  0.85426939  0.8224131 ],0.838059269532\n"
       ]
      },
      {
       "output_type": "stream",
       "stream": "stdout",
       "text": [
        "weighted average precision scores = [ 0.81846458  0.86553674  0.8608405   0.82912736],0.84349229328\n"
       ]
      },
      {
       "output_type": "stream",
       "stream": "stdout",
       "text": [
        "weighted average recall scores = [ 0.81846458  0.86553674  0.8608405   0.82912736],0.84349229328\n"
       ]
      },
      {
       "output_type": "stream",
       "stream": "stdout",
       "text": [
        "weighted f1 scores = [ 0.81754492  0.86537717  0.85966273  0.82645301],0.842259458935\n",
        "dimensionality: 53360"
       ]
      },
      {
       "output_type": "stream",
       "stream": "stdout",
       "text": [
        "\n",
        "density: 0.320210832084\n",
        "alt.atheism allah,islam,boy scout,saturn,dogma,poster,scout,liar,gulf war,bake,vice,po,batman,motto,political,atheist,charley,islamic,atheism,rushdie\n",
        "comp.graphics visualization,temp file,rgb,hacker,hacker ethic,animation,significance,virtual reality,sphere,viewer,vesa,mpeg,surface,impulse,polygon,philosophical,rot,image,3d,graphic\n",
        "comp.os.ms-windows.misc filename,print manager,swap file,risc,download,setup,file manager,logo,printer driver,bmp,win,canon,nt,ini,ax,challenge,program manager,supporter,microsoft,window\n",
        "comp.sys.ibm.pc.hardware mcmaster,isa,permanent,66,pc,pentium,80386,blaster,spec,robert,irq,cdrom,floppy,comment,ide,interrupt,benchmark,cmos,bios,gateway\n",
        "comp.sys.mac.hardware internet,dock,sage,run window,bernoulli,l,clock,hour,powerpc,price drop,iii,floptical,hardware,mathematica,cyclone,se,x86,pb,apple,mac\n",
        "comp.windows.x sparc,script,dump,patch,mit,cursor,binary,client,lib,sun,symbol,hypercard,default,display,event,consortium,window manager,server,widget,motif\n",
        "misc.forsale airline,buyer,cd,cod,deal,reply,original,sell,fax modem,summer,calculator,call,camera,junk mail,thad,wanted,asking,offer,shipping,sale\n",
        "rec.autos 300zx,wagon,chevrolet,v8,leak,diesel,honda,dealer,insurance company,esp,nissan,oil,toyota,vw,mustang,warning,ford,v6,auto,car\n",
        "rec.motorcycles advice,e,timing,drunk,daytona,stroke,cage,shaft,seca,dog,chain,harley,biker,bmw,helmet,ride,riding,rider,motorcycle,bike\n",
        "rec.sport.baseball rockies,cardinal,hit,uniform,sox,hitter,tiger,mets,brave,career,pitcher,stadium,dodger,ball,morris,giant,cub,yankee,phillies,baseball\n",
        "rec.sport.hockey abc,season,cup,overtime,puck,leaf,oiler,wing,cherry,goal,coach,pen,buffalo,penguin,detroit,shark,bruin,playoff,nhl,hockey\n",
        "sci.crypt random,tap,hard core,public key,announcement,password,trust,code,key,privacy,lobby,rsa,crypt,cipher,security,secret,wiretap,encryption,cryptography,clipper\n",
        "sci.electronics dsp,256k,led,eprom,dayton,motorola,baden,pcb,protected,2600,resistor,adhesive,voltage,rf,ic,8051,scope,electronics,disk copy,circuit\n",
        "sci.med sauce,food,cure,effect,syndrome,methodology,cancer,exercise,sensitivity,treatment,allergic,surrender,pitt,patient,medicine,ear,med,medical,disease,doctor\n",
        "sci.space mission,solar,flight,proton,funding,dc,astronomy,fred,mar,satellite,rocket,gamma ray,spacecraft,planet,launch,orbit,moon,shuttle,sky,space\n",
        "soc.religion.christian prophetic,darius,married,james,christianity,spiritual,ceremony,christian,catholic,fisher,moderator,christ,sin,verse,prayer,easter,daily,church,geneva,rutgers\n",
        "talk.politics.guns"
       ]
      },
      {
       "output_type": "stream",
       "stream": "stdout",
       "text": [
        " outlaw,bd,swiss,fortress,weaver,socialist leader,burn,texas,militia,fbi,liberty,cnn,acronym,hunting,waco,weapon,atf,firearm,ranch,gun\n",
        "talk.politics.mideast documentary,occupied,iran,soldier,elia,jerusalem,hamas,holocaust,bosnians,freedom,muslim,palestinian,jew,pro,turkish,adl,arab,armenian,israeli,israel\n",
        "talk.politics.misc ten,hostage,marine,molester,child molester,pork,narrative,fetus,pyramid,consent,employment,verdict,state,rutgers,sexual,percentage,thor,initiative,gay,police state\n",
        "talk.religion.misc stephen,imaginary,abortion,ancient,order,josephus,new age,mithra,beast,loving god,biblical,666,mormon,hudson,sword,wei,2000,burden,new religion,promise\n",
        "ng20_raw_lemmas_bigrams_stopwords_df1_tf1 ^ wiktionary_google_bigrams_vw (extended unigrams) -->  precision  0.840190058337 recall  0.837780561157 f1  0.838059269532\n",
        "loaded (234652) terms"
       ]
      },
      {
       "output_type": "stream",
       "stream": "stdout",
       "text": [
        "\n",
        "vectorizing done, 234652 terms vocabulary tokenized"
       ]
      },
      {
       "output_type": "stream",
       "stream": "stdout",
       "text": [
        "\n",
        "vectorizing done, 234652 terms vocabulary tokenized"
       ]
      },
      {
       "output_type": "stream",
       "stream": "stdout",
       "text": [
        "\n"
       ]
      },
      {
       "output_type": "stream",
       "stream": "stdout",
       "text": [
        "accuracy scores = [ 0.8718982   0.91061571  0.90284864  0.87720792],0.890642616132\n"
       ]
      },
      {
       "output_type": "stream",
       "stream": "stdout",
       "text": [
        "macro precision scores = [ 0.86966627  0.91015019  0.90112376  0.87616307],0.889275821851\n"
       ]
      },
      {
       "output_type": "stream",
       "stream": "stdout",
       "text": [
        "macro recall scores = [ 0.86435697  0.90826323  0.89703108  0.8741028 ],0.885938520538\n"
       ]
      },
      {
       "output_type": "stream",
       "stream": "stdout",
       "text": [
        "macro f1 scores = [ 0.86550958  0.90903137  0.89786796  0.87435676],0.886691417135\n"
       ]
      },
      {
       "output_type": "stream",
       "stream": "stdout",
       "text": [
        "weighted average precision scores = [ 0.8717744   0.91076742  0.90408549  0.87921732],0.891461157117\n"
       ]
      },
      {
       "output_type": "stream",
       "stream": "stdout",
       "text": [
        "weighted average recall scores = [ 0.8717744   0.91076742  0.90408549  0.87921732],0.891461157117\n"
       ]
      },
      {
       "output_type": "stream",
       "stream": "stdout",
       "text": [
        "weighted f1 scores = [ 0.87067903  0.91053586  0.90238256  0.87746335],0.890265199198\n",
        "dimensionality: 234652"
       ]
      },
      {
       "output_type": "stream",
       "stream": "stdout",
       "text": [
        "\n",
        "density: 0.454491758008\n",
        "alt.atheism wrote,enviroleague,charley,moral agency,mangoe,scout,wwc,dogma,tammy,asimov,wingate,cobb,motto,benedikt,islamic,rushdie,mathew,atheism,atheist,keith\n",
        "comp.graphics hacker ethic,visualization,algorithm,photoshop,sphere,mpeg,animation,surface,viewer,fractal,tiff,hacker,cview,siggraph,polygon,image,pov,3do,3d,graphic\n",
        "comp.os.ms-windows.misc doublespace,risc,wfw,setup,driver,smartdrv,bmp,winqvt,file,nt,ini,win,program manager,challenge,ax,supporter,win3,cica,microsoft,window\n",
        "comp.sys.ibm.pc.hardware"
       ]
      },
      {
       "output_type": "stream",
       "stream": "stdout",
       "text": [
        " gosh,mitsumi,motherboards,winmarks,nanao,modem,connect,486,monitor,motherboard,cmos,isa,ide,irq,fastmicro,pc,vlb,jumper,gateway,bios\n",
        "comp.sys.mac.hardware 24 hour,040,68040,macweek,iici,deskwriter,pb,floptical,bmug,adb,lciii,iisi,se,centris,quadra,lc,duo,powerbook,apple,mac\n",
        "comp.windows.x escaped,imake,twm,event,xdm,xwindows,display,consortium,r5,unsubscribe,openwindows,xfree86,window manager,x11,xlib,server,widget,xterm,x11r5,motif\n",
        "misc.forsale condition,summer,pay,lens,00,includes,excellent,snes,cd,camera,sell,call,interested,obo,asking,wanted,offer,shipping,forsale,sale\n",
        "rec.autos"
       ]
      },
      {
       "output_type": "stream",
       "stream": "stdout",
       "text": [
        " nissan,89,dumbest,sunroof,vw,honda,opel,integra,v6,diesel,mustang,toyota,dealer,oil,automotive,warning,geico,ford,auto,car\n",
        "rec.motorcycles ducati,kreme,moa,cager,ama,cage,infante,ranck,yamaha,harley,kawasaki,dog,helmet,bmw,ride,rider,riding,motorcycle,bike,dod\n",
        "rec.sport.baseball jay,hit,uniform,nl,mets,morris,hitter,fenway,stadium,tiger,ball,dodger,sox,brave,pitcher,giant,cub,yankee,phillies,baseball\n",
        "rec.sport.hockey team,islander,coach,wc,detroit,cup,puck,goal,pen,wing,leaf,buffalo,shark,penguin,espn,goalie,bruin,playoff,nhl,hockey\n",
        "sci.crypt"
       ]
      },
      {
       "output_type": "stream",
       "stream": "stdout",
       "text": [
        " escrow,encrypted,denning,sternlight,de,privacy,tempest,secret,cipher,crypt,key,pgp,security,wiretap,nsa,cryptography,crypto,encryption,tapped,clipper\n",
        "sci.electronics adcom,exploding,pcb,spice,dsp,motorola,resistor,2600,copy,led,rf,solvent,disk copy,8051,voltage,copy protected,scope,ic,electronics,circuit\n",
        "sci.med food,antibiotic,syndrome,skin,health,exercise,allergic,migraine,medicine,ear,treatment,cancer,patient,msg,medical,krillean,med,disease,photography,doctor\n",
        "sci.space astro,astronomy,funding,flight,gamma ray,dc,nasa,mar,jennise,rocket,satellite,spacecraft,pat,planet,sky,launch,orbit,shuttle,moon,space\n",
        "soc.religion.christian"
       ]
      },
      {
       "output_type": "stream",
       "stream": "stdout",
       "text": [
        " translation,james,christianity,prayer,hell,arrogance,catholic,christian,christ,1993,easter,geneva,kiefer,sin,daily,verse,church,rutgers,athos,clh\n",
        "talk.politics.guns weaver,cnn,bd,hunting,cdt,regulated,liberty,militia,burn,nra,fbi,quisling,handgun,dividian,waco,weapon,ranch,firearm,atf,gun\n",
        "talk.politics.mideast jerusalem,hamas,iran,hezbollah,racism,argic,uva,zionism,serdar,armenia,andi,muslim,adl,jew,palestinian,turkish,arab,armenian,israeli,israel\n",
        "talk.politics.misc income,tax,pyotr,police state,initiative,hostage,president,state,drug,mow,garrett,sexual,teel,optilink,clayton,gay,drieux,cramer,top ten,kaldis\n",
        "talk.religion.misc"
       ]
      },
      {
       "output_type": "stream",
       "stream": "stdout",
       "text": [
        " wei,christian morality,robert wei,new age,koresh,happened,tyre,rawlins,new religion,sword,666,brian,abortion,rosicrucian,hudson,2000,beast,mormon,burden,promise\n",
        "ng20_raw_lemmas_unigrams_stopwords_df1_tf1 ^ ng20_raw_lemmas_bigrams_stopwords_df1_tf1 ^ wiki_wiktionary_google_bigrams_vw  -->  precision  0.889275821851 recall  0.885938520538 f1  0.886691417135\n",
        "loaded (74471) terms"
       ]
      },
      {
       "output_type": "stream",
       "stream": "stdout",
       "text": [
        "\n",
        "extended to (93119) terms"
       ]
      },
      {
       "output_type": "stream",
       "stream": "stdout",
       "text": [
        "\n",
        "done loading vocabulary\n",
        "vectorizing done, 93119 terms vocabulary tokenized"
       ]
      },
      {
       "output_type": "stream",
       "stream": "stdout",
       "text": [
        "\n",
        "vectorizing done, 93119 terms vocabulary tokenized"
       ]
      },
      {
       "output_type": "stream",
       "stream": "stdout",
       "text": [
        "\n"
       ]
      },
      {
       "output_type": "stream",
       "stream": "stdout",
       "text": [
        "accuracy scores = [ 0.84962884  0.89065817  0.88137755  0.852309  ],0.868493392787\n"
       ]
      },
      {
       "output_type": "stream",
       "stream": "stdout",
       "text": [
        "macro precision scores = [ 0.84834228  0.88970224  0.87855678  0.85238829],0.867247395926\n"
       ]
      },
      {
       "output_type": "stream",
       "stream": "stdout",
       "text": [
        "macro recall scores = [ 0.84215355  0.88867293  0.87505381  0.84932472],0.86380125063\n"
       ]
      },
      {
       "output_type": "stream",
       "stream": "stdout",
       "text": [
        "macro f1 scores = [ 0.84361066  0.88905247  0.87555004  0.84953537],0.864437135604\n"
       ]
      },
      {
       "output_type": "stream",
       "stream": "stdout",
       "text": [
        "weighted average precision scores = [ 0.85040839  0.89095783  0.88201835  0.85562594],0.86975262574\n"
       ]
      },
      {
       "output_type": "stream",
       "stream": "stdout",
       "text": [
        "weighted average recall scores = [ 0.85040839  0.89095783  0.88201835  0.85562594],0.86975262574\n"
       ]
      },
      {
       "output_type": "stream",
       "stream": "stdout",
       "text": [
        "weighted f1 scores = [ 0.84867254  0.8906766   0.88057265  0.85267681],0.8681496487\n",
        "dimensionality: 93119"
       ]
      },
      {
       "output_type": "stream",
       "stream": "stdout",
       "text": [
        "\n",
        "density: 0.342902093021\n",
        "alt.atheism moral agency,cobb,bobby,dogma,vice,scout,wrote,liar,bake,jon,gregg,tammy,batman,motto,islamic,rushdie,atheist,atheism,charley,keith\n",
        "comp.graphics rgb,impulse,visualization,targa,hacker ethic,animation,sphere,hacker,tiff,photoshop,surface,mpeg,fractal,viewer,polygon,image,siggraph,pov,3d,graphic\n",
        "comp.os.ms-windows.misc download,driver,filename,print manager,swap,swap file,canon,logo,risc,win,setup,bmp,nt,ini,challenge,ax,program manager,supporter,microsoft,window\n",
        "comp.sys.ibm.pc.hardware floppy,specification,amd,pentium,irq,interrupt,gosh,jumper,motherboard,monitor,ide,pc,connect,isa,trinitron,cmos,vlb,wally,gateway,bios\n",
        "comp.sys.mac.hardware l,dead mouse,cyclone,iifx,24 hour,x86,iici,floptical,68040,adb,pb,se,centris,iisi,duo,powerbook,quadra,apple,lc,mac\n",
        "comp.windows.x cursor,binary,dortmund,colormap,sun,client,hypercard,symbol,default,christy,mit,twm,consortium,display,window manager,event,x11,widget,server,motif\n",
        "misc.forsale cod,airline,lens,original,pay,junk mail,cd,calculator,thad,excellent,summer,camera,sell,snes,call,wanted,asking,offer,shipping,sale\n",
        "rec.autos nissan,convertible,eliot,honda,vw,diesel,shifting,integra,opel,toyota,v6,dealer,mustang,oil,warning,automotive,ford,geico,auto,car\n",
        "rec.motorcycles"
       ]
      },
      {
       "output_type": "stream",
       "stream": "stdout",
       "text": [
        " stroke,piece,ama,robinson,biker,ducati,moa,yamaha,cage,dog,harley,bmw,kawasaki,helmet,ride,rider,riding,motorcycle,bike,dod\n",
        "rec.sport.baseball rockies,hit,marlin,mets,uniform,hitter,morris,tiger,sox,fenway,stadium,ball,dodger,brave,pitcher,giant,cub,yankee,phillies,baseball\n",
        "rec.sport.hockey gerald,goal,cup,detroit,oiler,coach,pen,wing,leaf,puck,islander,buffalo,espn,penguin,shark,goalie,bruin,playoff,nhl,hockey\n",
        "sci.crypt code,escrow,lobby,privacy,rsa,denning,key,tempest,crypt,secret,cipher,once,pgp,security,wiretap,nsa,cryptography,encryption,crypto,clipper\n",
        "sci.electronics copy,motorola,baden,exploding,dsp,led,pcb,2600,spice,resistor,solvent,voltage,8051,ic,rf,disk copy,copy protected,scope,electronics,circuit\n",
        "sci.med methodology,migraine,syndrome,physician,exercise,allergic,health,gordon,medicine,cancer,treatment,patient,ear,msg,med,medical,disease,gordon bank,doctor,photography\n",
        "sci.space mission,nasa,astronomy,flight,funding,astro,dc,satellite,mar,gamma ray,pat,rocket,spacecraft,planet,launch,sky,orbit,shuttle,moon,space\n",
        "soc.religion.christian roman,dream,translation,hell,spiritual,moderator,christian,christianity,james,prayer,catholic,sin,easter,christ,verse,geneva,rutgers,daily,church,1993\n",
        "talk.politics.guns bd,gritz,texas,regulated,militia,cnn,burn,fbi,liberty,hunting,quisling,handgun,acronym,dividian,weapon,waco,ranch,atf,firearm,gun\n",
        "talk.politics.mideast shut,freedom,racism,hamas,jerusalem,pro,muslim,hezbollah,zionism,jew,beyer,palestinian,adl,argic,serdar,turkish,arab,armenian,israeli,israel\n",
        "talk.politics.misc"
       ]
      },
      {
       "output_type": "stream",
       "stream": "stdout",
       "text": [
        " kinsey,verdict,liberal,mail address,percentage,drug,hostage,narrative,ted frank,sexual,initiative,state,hallam,rutgers,police state,gay,garrett,clayton,top ten,cramer\n",
        "talk.religion.misc commandment,mithra,magick,sabin,albert sabin,robert wei,tyre,new age,new religion,abortion,666,mormon,rosicrucian,hudson,2000,sword,beast,brian,burden,promise\n",
        "ng20_raw_lemmas_bigrams_stopwords_df1_tf1 ^ wiki_wiktionary_google_bigrams_vw (extended unigrams) -->  precision  0.867247395926 recall  0.86380125063 f1  0.864437135604\n",
        "loaded (143329) terms"
       ]
      },
      {
       "output_type": "stream",
       "stream": "stdout",
       "text": [
        "\n",
        "vectorizing done, 143329 terms vocabulary tokenized"
       ]
      },
      {
       "output_type": "stream",
       "stream": "stdout",
       "text": [
        "\n",
        "vectorizing done, 143329 terms vocabulary tokenized"
       ]
      },
      {
       "output_type": "stream",
       "stream": "stdout",
       "text": [
        "\n"
       ]
      },
      {
       "output_type": "stream",
       "stream": "stdout",
       "text": [
        "accuracy scores = [ 0.86680806  0.90721868  0.8977466   0.86912109],0.885223607817\n"
       ]
      },
      {
       "output_type": "stream",
       "stream": "stdout",
       "text": [
        "macro precision scores = [ 0.86398962  0.90739461  0.89679424  0.86828862],0.884116773207\n"
       ]
      },
      {
       "output_type": "stream",
       "stream": "stdout",
       "text": [
        "macro recall scores = [ 0.85981346  0.90483608  0.89201709  0.8660415 ],0.880677032571\n"
       ]
      },
      {
       "output_type": "stream",
       "stream": "stdout",
       "text": [
        "macro f1 scores = [ 0.86089711  0.90587696  0.89313423  0.86631945],0.881556940118\n"
       ]
      },
      {
       "output_type": "stream",
       "stream": "stdout",
       "text": [
        "weighted average precision scores = [ 0.86654413  0.90758247  0.89924579  0.8713114 ],0.886170947127\n"
       ]
      },
      {
       "output_type": "stream",
       "stream": "stdout",
       "text": [
        "weighted average recall scores = [ 0.86654413  0.90758247  0.89924579  0.8713114 ],0.886170947127\n"
       ]
      },
      {
       "output_type": "stream",
       "stream": "stdout",
       "text": [
        "weighted f1 scores = [ 0.86587108  0.9072025   0.89736648  0.86942051],0.884965142583\n",
        "dimensionality: 143329"
       ]
      },
      {
       "output_type": "stream",
       "stream": "stdout",
       "text": [
        "\n",
        "density: 0.504944219244\n",
        "alt.atheism wrote,wwc,cruel,enviroleagu,mango,jsn104,tammi,wingat,dogma,motto,asimov,cobb,benedikt,mathew,rushdi,islam,scout,atheism,atheist,keith\n",
        "comp.graphics vesa,anim,algorithm,sphere,viewer,raytrac,tiff,mpeg,surfac,photoshop,fractal,cview,hacker,imag,polygon,siggraph,pov,3do,3d,graphic\n",
        "comp.os.ms-windows.misc progman,driver,dll,doublespac,smartdrv,winqvt,wfw,setup,nt,risc,file,bmp,ini,win,ax,challeng,cica,win3,microsoft,window\n",
        "comp.sys.ibm.pc.hardware modem,zeo,connect,nanao,cmo,ide,laserjet,interrupt,gosh,mitsumi,pc,vlb,winmark,irq,isa,fastmicro,jumper,motherboard,bio,gateway\n",
        "comp.sys.mac.hardware iifx,c650,macweek,040,pb,iici,68040,deskwrit,bmug,adb,iisi,lciii,se,lc,quadra,centri,appl,duo,powerbook,mac\n",
        "comp.windows.x"
       ]
      },
      {
       "output_type": "stream",
       "stream": "stdout",
       "text": [
        " xv,event,xwd,xdm,xhibit,imak,r5,xwindow,twm,unsubscrib,consortium,openwindow,xfree86,x11,xlib,server,widget,xterm,x11r5,motif\n",
        "misc.forsale size,cd,buyer,cod,pay,00,2190,airlin,condit,interest,summer,sne,camera,includ,obo,sell,ship,offer,forsal,sale\n",
        "rec.autos saab,dumbest,shift,honda,v6,vw,integra,diesel,opel,toyota,truck,mustang,dealer,warn,oil,automot,ford,geico,auto,car\n",
        "rec.motorcycles aerostitch,xs1100,ama,kreme,cage,cager,moa,ranck,yamaha,dog,kawasaki,biker,harley,helmet,bmw,rider,ride,motorcycl,bike,dod\n",
        "rec.sport.baseball hitter,mattingli,uniform,bat,nl,ball,fenway,tiger,stadium,morri,dodger,pitch,brave,pitcher,giant,sox,cub,yanke,philli,basebal\n",
        "rec.sport.hockey gerald,wc,cherri,coach,pen,goal,puck,cup,buffalo,wing,detroit,leaf,shark,penguin,espn,goali,bruin,playoff,nhl,hockey\n",
        "sci.crypt"
       ]
      },
      {
       "output_type": "stream",
       "stream": "stdout",
       "text": [
        " sternlight,overreact,privaci,den,secret,de,tempest,lobbi,crypt,key,cipher,pgp,wiretap,secur,nsa,cryptographi,crypto,encrypt,tap,clipper\n",
        "sci.electronics 256k,motorola,tv,explod,resistor,protect,led,rf,pcb,dsp,spice,8051,2600,copi,solvent,voltag,scope,ic,electron,circuit\n",
        "sci.med antibiot,ecg,pregnenc,effect,cure,migrain,exercis,ear,treatment,patient,medicin,allerg,cancer,medic,msg,diseas,krillean,med,photographi,doctor\n",
        "sci.space fund,flight,astronomi,henri,dc,burster,mar,nasa,satellit,jennis,rocket,spacecraft,pat,planet,sky,launch,shuttl,moon,orbit,space\n",
        "soc.religion.christian hell,ceremoni,jame,fisher,christ,prayer,cathol,1993,sin,christian,arrog,easter,geneva,vers,kiefer,church,daili,rutger,atho,clh\n",
        "talk.politics.guns cipriani,feustel,bd,gritz,weaver,cdt,liberti,burn,militia,fbi,nra,handgun,dividian,quisl,waco,weapon,ranch,firearm,atf,gun\n",
        "talk.politics.mideast"
       ]
      },
      {
       "output_type": "stream",
       "stream": "stdout",
       "text": [
        " yigal,hezbollah,iran,holocaust,jerusalem,muslim,argic,armenia,zionism,serdar,uva,adl,jew,palestinian,bosnian,turkish,arab,armenian,isra,israel\n",
        "talk.politics.misc presid,tax,health,mow,drug,violenc,hostag,pyotr,incom,employ,initi,sexual,garrett,optilink,gay,teel,clayton,drieux,cramer,kaldi\n",
        "talk.religion.misc merlyn,tyre,kendig,sabin,royalroad,koresh,sword,abort,biblic,brian,mormon,rawlin,666,promis,beast,weiss,rosicrucian,hudson,2000,burden\n",
        "ng20_raw_stems_unigrams_stopwords_df1_tf1  -->  precision  0.884116773207 recall  0.880677032571 f1  0.881556940118\n",
        "loaded (1537054) terms"
       ]
      },
      {
       "output_type": "stream",
       "stream": "stdout",
       "text": [
        "\n",
        "vectorizing done, 1537054 terms vocabulary tokenized"
       ]
      },
      {
       "output_type": "stream",
       "stream": "stdout",
       "text": [
        "\n",
        "vectorizing done, 1537054 terms vocabulary tokenized"
       ]
      },
      {
       "output_type": "stream",
       "stream": "stdout",
       "text": [
        "\n"
       ]
      },
      {
       "output_type": "stream",
       "stream": "stdout",
       "text": [
        "accuracy scores = [ 0.87741251  0.91762208  0.9077381   0.88423069],0.896750844138\n"
       ]
      },
      {
       "output_type": "stream",
       "stream": "stdout",
       "text": [
        "macro precision scores = [ 0.87637219  0.9180454   0.90795952  0.88438442],0.896690381856\n"
       ]
      },
      {
       "output_type": "stream",
       "stream": "stdout",
       "text": [
        "macro recall scores = [ 0.86997968  0.91576387  0.90172372  0.88115326],0.892155132611\n"
       ]
      },
      {
       "output_type": "stream",
       "stream": "stdout",
       "text": [
        "macro f1 scores = [ 0.87132792  0.91668803  0.90319876  0.88184698],0.893265421605\n"
       ]
      },
      {
       "output_type": "stream",
       "stream": "stdout",
       "text": [
        "weighted average precision scores = [ 0.8778766   0.91808244  0.90987308  0.8859433 ],0.897943856352\n"
       ]
      },
      {
       "output_type": "stream",
       "stream": "stdout",
       "text": [
        "weighted average recall scores = [ 0.8778766   0.91808244  0.90987308  0.8859433 ],0.897943856352\n"
       ]
      },
      {
       "output_type": "stream",
       "stream": "stdout",
       "text": [
        "weighted f1 scores = [ 0.87622863  0.9176561   0.90736868  0.88421435],0.896366936832\n",
        "dimensionality: 1537054"
       ]
      },
      {
       "output_type": "stream",
       "stream": "stdout",
       "text": [
        "\n",
        "density: 0.291864697011"
       ]
      },
      {
       "output_type": "stream",
       "stream": "stdout",
       "text": [
        "\n",
        "alt.atheism"
       ]
      },
      {
       "output_type": "stream",
       "stream": "stdout",
       "text": [
        " re islam,liar,enviroleagu,wingat,dogma,cobb,tammi,asimov,religion,benedikt,scout,polit atheist,motto,re polit,mathew,rushdi,islam,keith,atheism,atheist\n",
        "comp.graphics"
       ]
      },
      {
       "output_type": "stream",
       "stream": "stdout",
       "text": [
        " sphere,gif,format,vesa,algorithm,raytrac,surfac,anim,viewer,fractal,cview,hacker,tiff,siggraph,3do,pov,polygon,imag,3d,graphic\n",
        "comp.os.ms-windows.misc"
       ]
      },
      {
       "output_type": "stream",
       "stream": "stdout",
       "text": [
        " dll,ax,ax ax,winqvt,setup,font,bmp,challeng,ini,nt,win,program manag,re challeng,microsoft support,driver,file,win3,cica,microsoft,window\n",
        "comp.sys.ibm.pc.hardware"
       ]
      },
      {
       "output_type": "stream",
       "stream": "stdout",
       "text": [
        " cpu,zeo,fastmicro,interrupt,card,scsi,nanao,cmo,486,isa,modem,monitor,vlb,pc,jumper,irq,motherboard,ide,gateway,bio\n",
        "comp.sys.mac.hardware"
       ]
      },
      {
       "output_type": "stream",
       "stream": "stdout",
       "text": [
        " bmug,040,iici,monitor,c650,floptic,pb,simm,se 30,adb,lciii,se,iisi,lc,quadra,duo,centri,powerbook,appl,mac\n",
        "comp.windows.x"
       ]
      },
      {
       "output_type": "stream",
       "stream": "stdout",
       "text": [
        " r5,consortium,colormap,applic,unsubscrib,pixmap,xdm,sun,event,openwindow,client,display,x11,window manag,xlib,server,widget,xterm,x11r5,motif\n",
        "misc.forsale"
       ]
      },
      {
       "output_type": "stream",
       "stream": "stdout",
       "text": [
        " origin,summer,trade,interest pleas,excel,brand new,interest,cd,ask,camera,best offer,00,condit,includ,obo,sell,ship,offer,forsal,sale\n",
        "rec.autos"
       ]
      },
      {
       "output_type": "stream",
       "stream": "stdout",
       "text": [
        " honda,wagon,nissan,vw,diesel,v6,automot,truck,re warn,mustang,warn pleas,shift,engin,toyota,geico,dealer,oil,auto,ford,car\n",
        "rec.motorcycles"
       ]
      },
      {
       "output_type": "stream",
       "stream": "stdout",
       "text": [
        " chain,cop,ranck,cager,honda,moa,kawasaki,ama,yamaha,cage,biker,harley,dog,helmet,bmw,rider,motorcycl,ride,dod,bike\n",
        "rec.sport.baseball"
       ]
      },
      {
       "output_type": "stream",
       "stream": "stdout",
       "text": [
        " nl,stat,dodger,morri,tiger,hitter,jay,stadium,bat,ball,hit,sox,brave,giant,pitcher,cub,pitch,yanke,philli,basebal\n",
        "rec.sport.hockey"
       ]
      },
      {
       "output_type": "stream",
       "stream": "stdout",
       "text": [
        " devil,play,shark,game,pen,cup,coach,detroit,buffalo,wing,team,goal,penguin,goali,leaf,espn,bruin,playoff,nhl,hockey\n",
        "sci.crypt"
       ]
      },
      {
       "output_type": "stream",
       "stream": "stdout",
       "text": [
        " tempest,chip,crypt,privaci,cipher,secret,de,good ani,onc tap,re onc,wiretap,cryptographi,pgp,tap,nsa,secur,key,crypto,encrypt,clipper\n",
        "sci.electronics"
       ]
      },
      {
       "output_type": "stream",
       "stream": "stdout",
       "text": [
        " spice,nois,disk copi,batteri,2600,rf,copi,resistor,tv,solvent,motorola,wire,8051,led,scope,ic,voltag,copi protect,electron,circuit\n",
        "sci.med"
       ]
      },
      {
       "output_type": "stream",
       "stream": "stdout",
       "text": [
        " health,antibiot,krillean photographi,cure,exercis,food,krillean,migrain,effect,medicin,ear,patient,treatment,med,cancer,msg,photographi,diseas,medic,doctor\n",
        "sci.space"
       ]
      },
      {
       "output_type": "stream",
       "stream": "stdout",
       "text": [
        " gamma ray,fund,henri,mission,dc,re space,flight,mar,spacecraft,rocket,satellit,nasa,planet,sky,pat,shuttl,launch,moon,orbit,space\n",
        "soc.religion.christian"
       ]
      },
      {
       "output_type": "stream",
       "stream": "stdout",
       "text": [
        " prayer,jame,hell,vers,kiefer,jame kiefer,arrog,easter,daili vers,subject daili,cathol,christ,sin,rutger,christian,atho,atho rutger,rutger edu,church,clh\n",
        "talk.politics.guns"
       ]
      },
      {
       "output_type": "stream",
       "stream": "stdout",
       "text": [
        " bd,texa,burn,dividian,dividian ranch,burn dividian,militia,re batf,quisl,atf burn,re atf,ranch,nra,handgun,fbi,waco,atf,weapon,firearm,gun\n",
        "talk.politics.mideast"
       ]
      },
      {
       "output_type": "stream",
       "stream": "stdout",
       "text": [
        " uva,turkey,turk,bosnia,zionism,serdar,racism,jewish,iran,adl,armenia,muslim,bosnian,palestinian,jew,turkish,arab,armenian,isra,israel\n",
        "talk.politics.misc"
       ]
      },
      {
       "output_type": "stream",
       "stream": "stdout",
       "text": [
        " employ,libertarian,garrett,new studi,re top,re race,teel,health,drieux,drug,sexual,optilink,clinton,presid,tax,clayton,top ten,gay,kaldi,cramer\n",
        "talk.religion.misc"
       ]
      },
      {
       "output_type": "stream",
       "stream": "stdout",
       "text": [
        " new age,theori,666,robert weiss,weiss,christian moral,sword,tyre,abort,brian,koresh,beast,hudson,2000,burden,rosicrucian,mormon,93 god,re messag,god promis\n",
        "ng20_raw_stems_bigrams_stopwords_df1_tf1  -->  precision  0.896690381856 recall  0.892155132611 f1  0.893265421605\n",
        "loaded (199661) terms"
       ]
      },
      {
       "output_type": "stream",
       "stream": "stdout",
       "text": [
        "\n",
        "vectorizing done, 199661 terms vocabulary tokenized"
       ]
      },
      {
       "output_type": "stream",
       "stream": "stdout",
       "text": [
        "\n",
        "vectorizing done, 199661 terms vocabulary tokenized"
       ]
      },
      {
       "output_type": "stream",
       "stream": "stdout",
       "text": [
        "\n"
       ]
      },
      {
       "output_type": "stream",
       "stream": "stdout",
       "text": [
        "accuracy scores = [ 0.86956522  0.9118896   0.90157313  0.87380294],0.88920772001\n"
       ]
      },
      {
       "output_type": "stream",
       "stream": "stdout",
       "text": [
        "macro precision scores = [ 0.86689881  0.91166799  0.9007309   0.8730692 ],0.888091723711\n"
       ]
      },
      {
       "output_type": "stream",
       "stream": "stdout",
       "text": [
        "macro recall scores = [ 0.8622282   0.90958122  0.89591828  0.87086527],0.884648241485\n"
       ]
      },
      {
       "output_type": "stream",
       "stream": "stdout",
       "text": [
        "macro f1 scores = [ 0.86346376  0.91041407  0.89704727  0.87113229],0.885514350146\n"
       ]
      },
      {
       "output_type": "stream",
       "stream": "stdout",
       "text": [
        "weighted average precision scores = [ 0.86959636  0.91201944  0.90339793  0.87586233],0.890219016\n"
       ]
      },
      {
       "output_type": "stream",
       "stream": "stdout",
       "text": [
        "weighted average recall scores = [ 0.86959636  0.91201944  0.90339793  0.87586233],0.890219016\n"
       ]
      },
      {
       "output_type": "stream",
       "stream": "stdout",
       "text": [
        "weighted f1 scores = [ 0.86871888  0.91177227  0.90133704  0.87403282],0.88896525616\n",
        "dimensionality: 199661"
       ]
      },
      {
       "output_type": "stream",
       "stream": "stdout",
       "text": [
        "\n",
        "density: 0.46383545109\n",
        "alt.atheism charley,jsn104,wwc,mango,enviroleagu,moral agenc,tammi,wingat,dogma,cobb,asimov,motto,scout,benedikt,rushdi,islam,mathew,atheism,atheist,keith\n",
        "comp.graphics hacker ethic,anim,algorithm,sphere,photoshop,surfac,mpeg,raytrac,viewer,tiff,fractal,hacker,cview,imag,polygon,siggraph,pov,3do,3d,graphic\n",
        "comp.os.ms-windows.misc"
       ]
      },
      {
       "output_type": "stream",
       "stream": "stdout",
       "text": [
        " risc,dll,driver,wfw,doublespac,setup,smartdrv,nt,winqvt,file,bmp,ini,win,program manag,ax,challeng,win3,cica,microsoft,window\n",
        "comp.sys.ibm.pc.hardware connect,zeo,gosh,nanao,mitsumi,monitor,interrupt,modem,cmo,ide,winmark,isa,pc,vlb,fastmicro,irq,motherboard,jumper,bio,gateway\n",
        "comp.sys.mac.hardware c650,24 hour,iici,040,68040,macweek,deskwrit,pb,bmug,adb,lciii,lc,iisi,se,quadra,centri,powerbook,duo,appl,mac\n",
        "comp.windows.x imak,xwindow,display,xdm,event,r5,xwd,twm,unsubscrib,consortium,openwindow,xfree86,x11,window manag,xlib,server,widget,xterm,x11r5,motif\n",
        "misc.forsale"
       ]
      },
      {
       "output_type": "stream",
       "stream": "stdout",
       "text": [
        " brand new,2190,cod,airlin,pay,00,junk mail,summer,condit,cd,sne,interest,camera,sell,includ,obo,ship,offer,forsal,sale\n",
        "rec.autos dumbest,opel,sunroof,vw,honda,v6,integra,shift,diesel,truck,mustang,toyota,dealer,warn,oil,automot,geico,ford,auto,car\n",
        "rec.motorcycles ducati,xs1100,kreme,ama,moa,cage,cager,ranck,yamaha,biker,dog,kawasaki,harley,helmet,bmw,rider,ride,motorcycl,bike,dod\n",
        "rec.sport.baseball nl,hit,uniform,morri,hitter,bat,fenway,ball,tiger,stadium,sox,dodger,brave,pitch,pitcher,giant,cub,yanke,philli,basebal\n",
        "rec.sport.hockey"
       ]
      },
      {
       "output_type": "stream",
       "stream": "stdout",
       "text": [
        " team,oiler,wc,coach,cup,goal,puck,pen,wing,detroit,buffalo,leaf,shark,penguin,espn,goali,bruin,playoff,nhl,hockey\n",
        "sci.crypt sternlight,den,overreact,privaci,secret,de,tempest,lobbi,crypt,cipher,key,pgp,wiretap,nsa,secur,cryptographi,crypto,encrypt,tap,clipper\n",
        "sci.electronics adcom,256k,explod,motorola,resistor,pcb,spice,led,dsp,2600,rf,disk copi,8051,solvent,voltag,ic,scope,electron,copi protect,circuit\n",
        "sci.med syndrom,effect,cure,health,antibiot,migrain,exercis,medicin,allerg,ear,patient,treatment,cancer,msg,krillean,med,diseas,medic,photographi,doctor\n",
        "sci.space"
       ]
      },
      {
       "output_type": "stream",
       "stream": "stdout",
       "text": [
        " fund,henri,flight,gamma ray,dc,astronomi,mar,nasa,satellit,jennis,rocket,spacecraft,pat,planet,sky,launch,shuttl,moon,orbit,space\n",
        "soc.religion.christian bless,ceremoni,prayer,hell,jame,arrog,cathol,sin,1993,easter,christ,geneva,christian,kiefer,vers,daili,church,rutger,atho,clh\n",
        "talk.politics.guns texa,ban,rifl,bd,weaver,liberti,cdt,militia,burn,fbi,nra,handgun,quisl,dividian,weapon,waco,ranch,firearm,atf,gun\n",
        "talk.politics.mideast iran,angmar,holocaust,hezbollah,argic,jerusalem,serdar,muslim,zionism,armenia,adl,uva,jew,palestinian,bosnian,turkish,arab,armenian,isra,israel\n",
        "talk.politics.misc"
       ]
      },
      {
       "output_type": "stream",
       "stream": "stdout",
       "text": [
        " stephanopoulo,presid,mow,tax,violenc,pyotr,hostag,drug,employ,sexual,initi,garrett,optilink,teel,gay,clayton,drieux,cramer,top ten,kaldi\n",
        "talk.religion.misc weiss,kendig,tyre,robert weiss,new age,biblic,koresh,sword,abort,666,brian,rawlin,rosicrucian,mormon,promis,new religion,beast,hudson,2000,burden\n",
        "ng20_raw_stems_unigrams_stopwords_df1_tf1 ^ ng20_raw_stems_bigrams_stopwords_df1_tf1 ^ wiki_bigrams  -->  precision  0.888091723711 recall  0.884648241485 f1  0.885514350146\n",
        "loaded (56332) terms"
       ]
      },
      {
       "output_type": "stream",
       "stream": "stdout",
       "text": [
        "\n",
        "extended to (72162) terms"
       ]
      },
      {
       "output_type": "stream",
       "stream": "stdout",
       "text": [
        "\n",
        "done loading vocabulary\n",
        "vectorizing done, 72162 terms vocabulary tokenized"
       ]
      },
      {
       "output_type": "stream",
       "stream": "stdout",
       "text": [
        "\n",
        "vectorizing done, 72162 terms vocabulary tokenized"
       ]
      },
      {
       "output_type": "stream",
       "stream": "stdout",
       "text": [
        "\n"
       ]
      },
      {
       "output_type": "stream",
       "stream": "stdout",
       "text": [
        "accuracy scores = [ 0.84559915  0.89384289  0.88244048  0.85252181],0.868601082115\n"
       ]
      },
      {
       "output_type": "stream",
       "stream": "stdout",
       "text": [
        "macro precision scores = [ 0.84240011  0.89278286  0.87974692  0.85219655],0.866781611612\n"
       ]
      },
      {
       "output_type": "stream",
       "stream": "stdout",
       "text": [
        "macro recall scores = [ 0.83741343  0.89170372  0.87647671  0.84993091],0.863881191912\n"
       ]
      },
      {
       "output_type": "stream",
       "stream": "stdout",
       "text": [
        "macro f1 scores = [ 0.83870653  0.8921296   0.87710883  0.84996995],0.864478725849\n"
       ]
      },
      {
       "output_type": "stream",
       "stream": "stdout",
       "text": [
        "weighted average precision scores = [ 0.84605358  0.894131    0.88256136  0.8552351 ],0.869495260248\n"
       ]
      },
      {
       "output_type": "stream",
       "stream": "stdout",
       "text": [
        "weighted average recall scores = [ 0.84605358  0.894131    0.88256136  0.8552351 ],0.869495260248\n"
       ]
      },
      {
       "output_type": "stream",
       "stream": "stdout",
       "text": [
        "weighted f1 scores = [ 0.84482599  0.89387523  0.88162329  0.85282891],0.868288355957\n",
        "dimensionality: 72162"
       ]
      },
      {
       "output_type": "stream",
       "stream": "stdout",
       "text": [
        "\n",
        "density: 0.367132978576\n",
        "alt.atheism moral agenc,asimov,gregg,dogma,vice,cobb,charley,liar,motto,jon,tammi,batman,scout,wingat,islam,mathew,atheist,rushdi,atheism,keith\n",
        "comp.graphics anim,sphere,virtual realiti,impuls,surfac,hacker ethic,mpeg,raytrac,hacker,tiff,photoshop,fractal,polygon,imag,viewer,rumour,siggraph,pov,3d,graphic\n",
        "comp.os.ms-windows.misc tri,canon,download,filenam,swap file,dll,risc,upload,logo,workgroup,setup,max,win,ini,nt,bmp,program manag,challeng,microsoft,window\n",
        "comp.sys.ibm.pc.hardware pentium,ide,irq,spec,17,amd,date,pc,interrupt,cmo,isa,vlb,gosh,motherboard,trinitron,59,jumper,bio,walli,gateway\n",
        "comp.sys.mac.hardware cyclon,appli engin,dead mous,laserwrit,x86,iifx,24 hour,iici,68040,pb,adb,se,centri,quadra,iisi,lc,powerbook,duo,appl,mac\n",
        "comp.windows.x sun,folk,mit,creat,christi,default,patch,client,hypercard,subscrib,display,event,twm,escap,consortium,window manag,x11,widget,server,motif\n",
        "misc.forsale unix pc,traci,condit,repli,cod,airlin,buyer,interest,junk mail,pay,sne,summer,sell,camera,ask,includ,thad,ship,offer,sale\n",
        "rec.autos saab,honda,opel,integra,vw,toyota,callison,diesel,truck,v6,shift,warn,dealer,mustang,oil,ford,automot,geico,auto,car\n",
        "rec.motorcycles asphaug,robinson,moto,cage,gardner,infant,ducati,moa,dog,yamaha,kawasaki,biker,harley,bmw,helmet,rider,ride,motorcycl,bike,dod\n",
        "rec.sport.baseball hitter,hit,bat,uniform,marlin,morri,sox,tiger,fenway,stadium,ball,pitch,pitcher,dodger,brave,giant,cub,yanke,philli,basebal\n",
        "rec.sport.hockey island,oiler,gerald,coach,pen,cup,goal,wing,puck,detroit,buffalo,leaf,penguin,espn,shark,goali,bruin,playoff,nhl,hockey\n",
        "sci.crypt escrow,random,trust,onc,tempest,den,key,rsa,privaci,secret,cipher,pgp,lobbi,wiretap,secur,cryptographi,crypto,encrypt,tap,clipper\n",
        "sci.electronics motorola,cool tower,eprom,explod,led,resistor,2600,pcb,dsp,solvent,disk copi,rf,spice,8051,ic,voltag,scope,electron,copi protect,circuit\n",
        "sci.med"
       ]
      },
      {
       "output_type": "stream",
       "stream": "stdout",
       "text": [
        " syndrom,sauc,antibiot,migrain,methodolog,exercis,medicin,patient,health,treatment,cancer,allerg,ear,gordon bank,msg,med,diseas,medic,doctor,photographi\n",
        "sci.space lunar,fund,flight,dc,nasa,astronomi,satellit,mar,gamma ray,rocket,pat,spacecraft,planet,sunset,sky,launch,shuttl,orbit,moon,space\n",
        "soc.religion.christian fisher,hell,joe fisher,roman,moder,spiritu,ceremoni,sin,prayer,vers,cathol,easter,christian,jame,geneva,christ,church,daili,1993,rutger\n",
        "talk.politics.guns weaver,texa,burn,gritz,militia,ban,hunt,liberti,cnn,handgun,fbi,quisl,dividian,robi,waco,weapon,ranch,atf,firearm,gun\n",
        "talk.politics.mideast iran,racism,armenia,zionism,hama,jerusalem,occupi,hezbollah,beyer,holocaust,jew,argic,palestinian,bosnian,serdar,turkish,arab,armenian,isra,israel\n",
        "talk.politics.misc verdict,rutger,drug,percentag,liber,ted frank,hostag,mow,mail address,sexual,employ,polic state,initi,theodor,hallam,gay,garrett,clayton,cramer,top ten\n",
        "talk.religion.misc stephen,weiss,biblic,tyre,malcolm lee,abort,robert weiss,new age,rosicrucian,mormon,666,sword,promis,beast,hudson,new religion,2000,brian,magick,burden\n",
        "ng20_raw_stems_bigrams_stopwords_df1_tf1 ^ wiki_bigrams (extended unigrams) -->  precision  0.866781611612 recall  0.863881191912 f1  0.864478725849\n",
        "loaded (152039) terms"
       ]
      },
      {
       "output_type": "stream",
       "stream": "stdout",
       "text": [
        "\n",
        "vectorizing done, 152039 terms vocabulary tokenized"
       ]
      },
      {
       "output_type": "stream",
       "stream": "stdout",
       "text": [
        "\n",
        "vectorizing done, 152039 terms vocabulary tokenized"
       ]
      },
      {
       "output_type": "stream",
       "stream": "stdout",
       "text": [
        "\n"
       ]
      },
      {
       "output_type": "stream",
       "stream": "stdout",
       "text": [
        "accuracy scores = [ 0.86892895  0.90785563  0.89817177  0.86784422],0.885700141842\n"
       ]
      },
      {
       "output_type": "stream",
       "stream": "stdout",
       "text": [
        "macro precision scores = [ 0.86591301  0.90785521  0.89715074  0.86699537],0.884478582082\n"
       ]
      },
      {
       "output_type": "stream",
       "stream": "stdout",
       "text": [
        "macro recall scores = [ 0.86149859  0.9057      0.89236659  0.8649253 ],0.881122617181\n"
       ]
      },
      {
       "output_type": "stream",
       "stream": "stdout",
       "text": [
        "macro f1 scores = [ 0.86256682  0.90658631  0.89345276  0.86509989],0.881926444283\n"
       ]
      },
      {
       "output_type": "stream",
       "stream": "stdout",
       "text": [
        "weighted average precision scores = [ 0.86870375  0.90808818  0.89966397  0.87025873],0.886678660768\n"
       ]
      },
      {
       "output_type": "stream",
       "stream": "stdout",
       "text": [
        "weighted average recall scores = [ 0.86870375  0.90808818  0.89966397  0.87025873],0.886678660768\n"
       ]
      },
      {
       "output_type": "stream",
       "stream": "stdout",
       "text": [
        "weighted f1 scores = [ 0.86792628  0.90780502  0.89775381  0.86825035],0.885433862961\n",
        "dimensionality: 152039"
       ]
      },
      {
       "output_type": "stream",
       "stream": "stdout",
       "text": [
        "\n",
        "density: 0.504706029374\n",
        "alt.atheism wrote,cruel,wwc,enviroleagu,mango,jsn104,wingat,tammi,dogma,motto,cobb,asimov,scout,benedikt,mathew,rushdi,islam,atheism,atheist,keith\n",
        "comp.graphics targa,anim,algorithm,sphere,surfac,viewer,raytrac,tiff,mpeg,photoshop,fractal,cview,hacker,imag,polygon,siggraph,pov,3do,3d,graphic\n",
        "comp.os.ms-windows.misc dll,winfax,driver,smartdrv,doublespac,risc,setup,wfw,winqvt,nt,file,bmp,ini,win,ax,challeng,cica,win3,microsoft,window\n",
        "comp.sys.ibm.pc.hardware pentium,connect,zeo,laserjet,nanao,gosh,interrupt,cmo,pc,mitsumi,ide,vlb,winmark,irq,isa,fastmicro,motherboard,jumper,bio,gateway\n",
        "comp.sys.mac.hardware"
       ]
      },
      {
       "output_type": "stream",
       "stream": "stdout",
       "text": [
        " iifx,c650,040,macweek,pb,68040,iici,deskwrit,bmug,adb,iisi,lciii,se,lc,quadra,centri,duo,powerbook,appl,mac\n",
        "comp.windows.x xhibit,imak,xdm,event,xwindow,r5,xwd,twm,unsubscrib,openwindow,consortium,xfree86,x11,window manag,xlib,server,widget,xterm,x11r5,motif\n",
        "misc.forsale brand new,cod,cd,2190,00,condit,airlin,pay,interest,junk mail,summer,sne,camera,includ,sell,obo,ship,offer,forsal,sale\n",
        "rec.autos sunroof,dumbest,honda,shift,vw,integra,v6,opel,diesel,toyota,mustang,truck,dealer,warn,oil,automot,geico,ford,auto,car\n",
        "rec.motorcycles aerostitch,xs1100,ama,kreme,cage,cager,moa,ranck,yamaha,dog,kawasaki,biker,harley,helmet,bmw,rider,ride,motorcycl,bike,dod\n",
        "rec.sport.baseball hitter,uniform,mattingli,nl,bat,ball,fenway,tiger,stadium,sox,morri,dodger,pitch,brave,pitcher,giant,cub,yanke,philli,basebal\n",
        "rec.sport.hockey"
       ]
      },
      {
       "output_type": "stream",
       "stream": "stdout",
       "text": [
        " gerald,coach,wc,cherri,goal,pen,puck,cup,wing,buffalo,detroit,leaf,shark,penguin,espn,goali,bruin,playoff,nhl,hockey\n",
        "sci.crypt sternlight,overreact,privaci,den,secret,de,tempest,lobbi,key,crypt,cipher,pgp,wiretap,secur,nsa,cryptographi,crypto,encrypt,tap,clipper\n",
        "sci.electronics tv,256k,adcom,motorola,resistor,explod,led,rf,pcb,spice,dsp,2600,8051,solvent,voltag,scope,ic,electron,copi protect,circuit\n",
        "sci.med allergi,diet,health,antibiot,cure,migrain,exercis,ear,medicin,patient,treatment,allerg,cancer,msg,diseas,med,krillean,medic,photographi,doctor\n",
        "sci.space fund,astronomi,henri,dc,flight,gamma ray,nasa,mar,satellit,jennis,rocket,spacecraft,pat,planet,sky,launch,shuttl,moon,orbit,space\n",
        "soc.religion.christian ceremoni,hell,jame,fisher,sin,prayer,cathol,1993,arrog,christian,christ,easter,geneva,vers,kiefer,church,daili,rutger,atho,clh\n",
        "talk.politics.guns"
       ]
      },
      {
       "output_type": "stream",
       "stream": "stdout",
       "text": [
        " gunsmith,cipriani,bd,gritz,liberti,weaver,cdt,burn,militia,nra,fbi,handgun,quisl,dividian,waco,weapon,ranch,firearm,atf,gun\n",
        "talk.politics.mideast yigal,hezbollah,iran,holocaust,jerusalem,muslim,argic,zionism,armenia,serdar,uva,adl,jew,palestinian,bosnian,turkish,arab,armenian,isra,israel\n",
        "talk.politics.misc deficit,verdict,tax,stephanopoulo,mow,violenc,pyotr,hostag,employ,drug,sexual,initi,garrett,gay,optilink,teel,clayton,drieux,cramer,kaldi\n",
        "talk.religion.misc kendig,tyre,new age,sabin,royalroad,koresh,sword,abort,biblic,brian,mormon,666,rawlin,beast,promis,hudson,weiss,rosicrucian,2000,burden\n",
        "ng20_raw_stems_unigrams_stopwords_df1_tf1 ^ ng20_raw_stems_bigrams_stopwords_df1_tf1 ^ wiktionary_bigrams  -->  precision  0.884478582082 recall  0.881122617181 f1  0.881926444283\n",
        "loaded (8710) terms"
       ]
      },
      {
       "output_type": "stream",
       "stream": "stdout",
       "text": [
        "\n",
        "extended to (13472) terms\n",
        "done loading vocabulary\n",
        "vectorizing done, 13472 terms vocabulary tokenized"
       ]
      },
      {
       "output_type": "stream",
       "stream": "stdout",
       "text": [
        "\n",
        "vectorizing done, 13472 terms vocabulary tokenized\n"
       ]
      },
      {
       "output_type": "stream",
       "stream": "stdout",
       "text": [
        "accuracy scores = [ 0.77454931  0.81825902  0.81866497  0.77505852],0.796632955785\n"
       ]
      },
      {
       "output_type": "stream",
       "stream": "stdout",
       "text": [
        "macro precision scores = [ 0.76924287  0.8160565   0.81292202  0.77327959],0.792875242125\n"
       ]
      },
      {
       "output_type": "stream",
       "stream": "stdout",
       "text": [
        "macro recall scores = [ 0.76650886  0.81486942  0.81216615  0.7712741 ],0.791204630175\n"
       ]
      },
      {
       "output_type": "stream",
       "stream": "stdout",
       "text": [
        "macro f1 scores = [ 0.7668942   0.81511247  0.8118847   0.7706833 ],0.791143668693\n"
       ]
      },
      {
       "output_type": "stream",
       "stream": "stdout",
       "text": [
        "weighted average precision scores = [ 0.7732784   0.81956525  0.81807768  0.77776356],0.797171220181\n"
       ]
      },
      {
       "output_type": "stream",
       "stream": "stdout",
       "text": [
        "weighted average recall scores = [ 0.7732784   0.81956525  0.81807768  0.77776356],0.797171220181\n"
       ]
      },
      {
       "output_type": "stream",
       "stream": "stdout",
       "text": [
        "weighted f1 scores = [ 0.77313167  0.81854783  0.81774218  0.77483343],0.796063776134\n",
        "dimensionality: 13472"
       ]
      },
      {
       "output_type": "stream",
       "stream": "stdout",
       "text": [
        "\n",
        "density: 0.503574079572\n",
        "alt.atheism fallaci,stamp,boy scout,eagl,alt,fossil,gulf,gap,popul,polit,write,scout,sole,gulf war,po,amus,bake,vice,islam,charley\n",
        "comp.graphics life cycl,tea,signific,trace,fashion design,oak,gopher,philosoph,anim,sphere,surfac,nobl,virtual realiti,impuls,imag,polygon,ethic,rot,3d,graphic\n",
        "comp.os.ms-windows.misc charact,mk,overload,metric,macro,enhanc,manag,real world,desktop,dark,oft,competit,vu,canon,violet,swap file,instruct set,win,visual basic,window\n",
        "comp.sys.ibm.pc.hardware comput,royal,main memori,perman,finger,floppi,fi,pc,gravi,optim,thrown,2000,jumbo,rash,66,date,comment,ide,ghost,interrupt\n",
        "comp.sys.mac.hardware hardwar,static,offici,oscil,global villag,postag,monti,weeni,floptic,desktop,monoton,control panel,cart,logic board,dock,se,hour,cyclon,appl,mac\n",
        "comp.windows.x nordic,softwar engin,devic driver,remot,christi,sussex,symbol,lib,dump,folk,man page,display,sun,patch,comput scienc,kong,escap,event,server,window manag\n",
        "misc.forsale rack,seller,deal,glass,laptop,interest,origin,pay,work condit,sell,airlin,sharp,calcul,ask,camera,summer,junk mail,ship,offer,sale\n",
        "rec.autos test drive,flat,trunk,leak,concept,automobil,engin,vent,diesel,licens plate,oil,ole,dealer,truck,shift,warn,wagon,insur compani,auto,car\n",
        "rec.motorcycles cage,piec,member,polic offic,happi easter,feet,liquor,drink,bore,drunk,dog,tour,shaft,chain,harley,biker,rider,ride,motorcycl,bike\n",
        "rec.sport.baseball batter,sport,ball,royal,hitter,sox,tiger,fester,cardin,career,bat,hit,uniform,pitcher,dodger,giant,pitch,cub,yanke,basebal\n",
        "rec.sport.hockey pit,ranger,pen,draft,final,island,coach,cherri,cup,cap,wing,pool,ice,buffalo,goal,puck,penguin,shark,leaf,hockey\n",
        "sci.crypt white hous,domest,speech,scheme,holland,onc,random,si,dorothi,fifth amend,algorithm,key,privaci,secret,cipher,secur,lobbi,cryptographi,clipper,tap\n",
        "sci.electronics surg,distanc,resist,sublimin,diod,cool tower,concret,ham,inkjet,assembl,2600,latch,adhes,explod,resistor,appl mac,voltag,electron,circuit,copi protect\n",
        "sci.med cardiac,methodolog,migrain,health,diet,biolog,med,treatment,sensit,ear,clinic,allerg,cancer,effect,sauc,medicin,surrend,medic,diseas,doctor\n",
        "sci.space lunar,telescop,astronomi,fred,aurora,satellit,fund,flight,mission,planet,mar,henri,rocket,gamma ray,launch,sky,moon,orbit,shuttl,space\n",
        "soc.religion.christian environment,triniti,sin,dream,roman,jame,cathol,sex educ,broken,christian,christ,judgement,easter,spiritu,ceremoni,church,origin sin,prayer,daili,geneva\n",
        "talk.politics.guns arrest warrant,free state,safeti,vice presid,vo,crimin,repres,silva,swiss,examin,hunt,freak,acronym,liberti,raid,fbi,burn,survivor,weapon,gun\n",
        "talk.politics.mideast ethnic,prison,iranian,armenia,jerusalem,hate,un,nick,freedom,egypt,jew,turk,pro,palestinian,holocaust,turkish,arab,armenian,israel,isra\n",
        "talk.politics.misc tax,child,marin,spill,liber,incom tax,carpet,boomer,pork,deficit,hostag,pyramid,concentr,sexual,percentag,initi,gay,celebr,consent,polic state\n",
        "talk.religion.misc viru,southern baptist,juda,internet address,lifestyl,imaginari,open mind,historian,toss,new age,popular,theme,abort,order,behav,mormon,sword,biblic,2000,promis\n",
        "ng20_raw_stems_bigrams_stopwords_df1_tf1 ^ wiktionary_bigrams (extended unigrams) -->  precision  0.792875242125 recall  0.791204630175 f1  0.791143668693\n",
        "loaded (190345) terms"
       ]
      },
      {
       "output_type": "stream",
       "stream": "stdout",
       "text": [
        "\n",
        "vectorizing done, 190345 terms vocabulary tokenized"
       ]
      },
      {
       "output_type": "stream",
       "stream": "stdout",
       "text": [
        "\n",
        "vectorizing done, 190345 terms vocabulary tokenized"
       ]
      },
      {
       "output_type": "stream",
       "stream": "stdout",
       "text": [
        "\n"
       ]
      },
      {
       "output_type": "stream",
       "stream": "stdout",
       "text": [
        "accuracy scores = [ 0.86892895  0.90976645  0.90029762  0.87082358],0.887454150761\n"
       ]
      },
      {
       "output_type": "stream",
       "stream": "stdout",
       "text": [
        "macro precision scores = [ 0.86583973  0.90931707  0.89948004  0.87016303],0.886199967128\n"
       ]
      },
      {
       "output_type": "stream",
       "stream": "stdout",
       "text": [
        "macro recall scores = [ 0.86133777  0.90756327  0.89463592  0.86797777],0.882878682624\n"
       ]
      },
      {
       "output_type": "stream",
       "stream": "stdout",
       "text": [
        "macro f1 scores = [ 0.86238533  0.90828038  0.89574465  0.86819868],0.883652260911\n"
       ]
      },
      {
       "output_type": "stream",
       "stream": "stdout",
       "text": [
        "weighted average precision scores = [ 0.86868372  0.90989355  0.90200615  0.87308227],0.888416424136\n"
       ]
      },
      {
       "output_type": "stream",
       "stream": "stdout",
       "text": [
        "weighted average recall scores = [ 0.86868372  0.90989355  0.90200615  0.87308227],0.888416424136\n"
       ]
      },
      {
       "output_type": "stream",
       "stream": "stdout",
       "text": [
        "weighted f1 scores = [ 0.867853    0.90968678  0.8999795   0.87112738],0.887161668027\n",
        "dimensionality: 190345"
       ]
      },
      {
       "output_type": "stream",
       "stream": "stdout",
       "text": [
        "\n",
        "density: 0.448609104521\n",
        "alt.atheism cruel,wrote,wwc,enviroleagu,mango,jsn104,tammi,wingat,dogma,motto,cobb,asimov,scout,benedikt,mathew,rushdi,islam,atheism,atheist,keith\n",
        "comp.graphics hacker ethic,anim,algorithm,sphere,viewer,raytrac,mpeg,tiff,surfac,photoshop,fractal,hacker,cview,polygon,siggraph,imag,pov,3do,3d,graphic\n",
        "comp.os.ms-windows.misc doublespac,risc,driver,setup,wfw,dll,smartdrv,winqvt,nt,bmp,file,ini,win,ax,program manag,challeng,win3,cica,microsoft,window\n",
        "comp.sys.ibm.pc.hardware connect,monitor,zeo,modem,nanao,gosh,interrupt,mitsumi,cmo,ide,pc,vlb,isa,winmark,jumper,irq,fastmicro,motherboard,bio,gateway\n",
        "comp.sys.mac.hardware"
       ]
      },
      {
       "output_type": "stream",
       "stream": "stdout",
       "text": [
        " floptic,c650,040,macweek,pb,deskwrit,iici,68040,bmug,adb,iisi,lciii,se,lc,quadra,centri,duo,powerbook,appl,mac\n",
        "comp.windows.x display,xv,xdm,r5,xwindow,xwd,event,twm,unsubscrib,consortium,openwindow,xfree86,x11,window manag,xlib,server,widget,xterm,x11r5,motif\n",
        "misc.forsale size,airlin,2190,condit,cod,cd,00,pay,junk mail,interest,summer,sne,camera,includ,obo,sell,ship,offer,forsal,sale\n",
        "rec.autos dumbest,sunroof,honda,integra,vw,opel,shift,diesel,v6,truck,mustang,toyota,dealer,warn,oil,automot,geico,ford,auto,car\n",
        "rec.motorcycles aerostitch,xs1100,ama,kreme,cager,moa,ranck,cage,yamaha,dog,kawasaki,biker,harley,helmet,bmw,rider,ride,motorcycl,bike,dod\n",
        "rec.sport.baseball"
       ]
      },
      {
       "output_type": "stream",
       "stream": "stdout",
       "text": [
        " nl,uniform,hitter,mattingli,bat,ball,fenway,stadium,tiger,sox,morri,dodger,brave,pitch,pitcher,giant,cub,yanke,philli,basebal\n",
        "rec.sport.hockey oiler,wc,cherri,coach,cup,goal,pen,puck,wing,detroit,buffalo,leaf,shark,penguin,espn,goali,bruin,playoff,nhl,hockey\n",
        "sci.crypt sternlight,overreact,privaci,den,secret,de,crypt,lobbi,cipher,tempest,key,pgp,wiretap,nsa,secur,cryptographi,crypto,encrypt,tap,clipper\n",
        "sci.electronics 256k,adcom,motorola,nois,resistor,pcb,spice,rf,led,disk copi,dsp,8051,solvent,2600,ic,voltag,scope,electron,copi protect,circuit\n",
        "sci.med effect,diet,antibiot,health,cure,migrain,exercis,ear,patient,medicin,allerg,treatment,cancer,msg,diseas,krillean,med,medic,photographi,doctor\n",
        "sci.space"
       ]
      },
      {
       "output_type": "stream",
       "stream": "stdout",
       "text": [
        " fund,astronomi,flight,gamma ray,dc,henri,mar,nasa,satellit,jennis,rocket,spacecraft,pat,planet,sky,launch,shuttl,moon,orbit,space\n",
        "soc.religion.christian ceremoni,jame,fisher,hell,prayer,cathol,1993,arrog,christ,easter,sin,christian,geneva,kiefer,vers,church,daili,rutger,atho,clh\n",
        "talk.politics.guns ban,texa,gunsmith,bd,liberti,weaver,cdt,militia,burn,nra,fbi,handgun,dividian,quisl,waco,weapon,ranch,firearm,atf,gun\n",
        "talk.politics.mideast angmar,yigal,hezbollah,iran,jerusalem,muslim,argic,zionism,armenia,uva,serdar,adl,jew,bosnian,palestinian,turkish,arab,armenian,isra,israel\n",
        "talk.politics.misc stephanopoulo,verdict,presid,mow,tax,violenc,pyotr,hostag,drug,employ,initi,sexual,garrett,optilink,gay,teel,clayton,drieux,cramer,kaldi\n",
        "talk.religion.misc"
       ]
      },
      {
       "output_type": "stream",
       "stream": "stdout",
       "text": [
        " tyre,kendig,sabin,new age,koresh,abort,sword,biblic,brian,666,mormon,rawlin,new religion,promis,beast,weiss,hudson,rosicrucian,2000,burden\n",
        "ng20_raw_stems_unigrams_stopwords_df1_tf1 ^ ng20_raw_stems_bigrams_stopwords_df1_tf1 ^ google_bigrams  -->  precision  0.886199967128 recall  0.882878682624 f1  0.883652260911\n",
        "loaded (47016) terms"
       ]
      },
      {
       "output_type": "stream",
       "stream": "stdout",
       "text": [
        "\n",
        "extended to (54812) terms\n",
        "done loading vocabulary\n",
        "vectorizing done, 54812 terms vocabulary tokenized"
       ]
      },
      {
       "output_type": "stream",
       "stream": "stdout",
       "text": [
        "\n",
        "vectorizing done, 54812 terms vocabulary tokenized"
       ]
      },
      {
       "output_type": "stream",
       "stream": "stdout",
       "text": [
        "\n"
       ]
      },
      {
       "output_type": "stream",
       "stream": "stdout",
       "text": [
        "accuracy scores = [ 0.81802757  0.8641189   0.85735544  0.82060013],0.840025509352\n"
       ]
      },
      {
       "output_type": "stream",
       "stream": "stdout",
       "text": [
        "macro precision scores = [ 0.81321965  0.861312    0.85479677  0.81953787],0.837216573035\n"
       ]
      },
      {
       "output_type": "stream",
       "stream": "stdout",
       "text": [
        "macro recall scores = [ 0.80926122  0.86107512  0.85128831  0.81692588],0.834637632882\n"
       ]
      },
      {
       "output_type": "stream",
       "stream": "stdout",
       "text": [
        "macro f1 scores = [ 0.81005499  0.8610556   0.85177216  0.8170102 ],0.834973237664\n"
       ]
      },
      {
       "output_type": "stream",
       "stream": "stdout",
       "text": [
        "weighted average precision scores = [ 0.81799932  0.86409162  0.85803124  0.82391597],0.841009536933\n"
       ]
      },
      {
       "output_type": "stream",
       "stream": "stdout",
       "text": [
        "weighted average recall scores = [ 0.81799932  0.86409162  0.85803124  0.82391597],0.841009536933\n"
       ]
      },
      {
       "output_type": "stream",
       "stream": "stdout",
       "text": [
        "weighted f1 scores = [ 0.81698024  0.86397024  0.85652035  0.82108935],0.839640044121\n",
        "dimensionality: 54812"
       ]
      },
      {
       "output_type": "stream",
       "stream": "stdout",
       "text": [
        "\n",
        "density: 0.28657410786\n",
        "alt.atheism allah,polit,poster,saturn,write,casual,liar,prepar,omnipot,dogma,gulf war,po,batman,scout,motto,vice,islam,atheist,atheism,rushdi\n",
        "comp.graphics temp file,render,rgb,trace,sphere,hacker,impuls,hacker ethic,anim,viewer,signific,vesa,surfac,mpeg,philosoph,polygon,imag,rot,3d,graphic\n",
        "comp.os.ms-windows.misc swap,filenam,upload,real world,canon,setup,printer driver,logo,swap file,risc,win,ini,dll,nt,bmp,ax,program manag,challeng,microsoft,window\n",
        "comp.sys.ibm.pc.hardware data compress,monitor,jumper,robert,perman,isa,80386,pentium,cdrom,motherboard,ghost,benchmark,comment,ide,spec,irq,interrupt,cmo,bio,gateway\n",
        "comp.sys.mac.hardware logic board,hade,sage,appletalk,clock,dock,ls,run window,iii,powerpc,hardwar,hour,price drop,cyclon,x86,se,mathematica,pb,appl,mac\n",
        "comp.windows.x man page,lib,folk,binari,colormap,christi,display,client,hypercard,sun,script,default,subscrib,event,consortium,escap,window manag,server,widget,motif\n",
        "misc.forsale trade,sell,fax modem,calcul,excel,size,sharp,buyer,interest,origin,repli,airlin,cod,camera,summer,thad,junk mail,ship,offer,sale\n",
        "rec.autos honda,leak,licens plate,v8,nissan,esp,dealer,insur compani,diesel,truck,toyota,oil,shift,mustang,vw,warn,v6,auto,ford,car\n",
        "rec.motorcycles squid,piec,advic,es,chain,stroke,shaft,cage,daytona,seca,infant,dog,harley,bmw,helmet,biker,rider,ride,motorcycl,bike\n",
        "rec.sport.baseball hit,met,hr,cardin,sox,career,hitter,tiger,brave,pitch,pitcher,stadium,morri,ball,dodger,giant,philli,cub,yanke,basebal\n",
        "rec.sport.hockey island,pool,cap,pit,coach,wing,goal,pen,oiler,puck,cherri,leaf,buffalo,penguin,detroit,shark,bruin,playoff,nhl,hockey\n",
        "sci.crypt escrow,rush,random,patent,hard core,password,trust,rsa,privaci,secret,den,crypt,key,cipher,wiretap,secur,lobbi,encrypt,clipper,tap\n",
        "sci.electronics dayton,fcc,led,cool tower,duct,baden,dsp,pcb,rf,ic,duct tape,eprom,8051,disk copi,resistor,voltag,electron,scope,copi protect,circuit\n",
        "sci.med diet,pitt,sauc,patient,methodolog,cure,health,syndrom,food,sensit,skeptic,cancer,treatment,effect,ear,medicin,diseas,med,medic,doctor\n",
        "sci.space orion,lunar,proton,fund,solar,astronomi,dc,flight,satellit,mar,gamma ray,rocket,spacecraft,planet,launch,shuttl,sky,moon,orbit,space\n",
        "soc.religion.christian ahmadiyya,roman,dream,moder,dariu,jame,spiritu,cathol,vers,sin,fisher,ceremoni,christian,prayer,easter,christ,church,daili,geneva,rutger\n",
        "talk.politics.guns safeti,crimin,swiss,burn,bd,liberti,texa,militia,weaver,fortress,socialist leader,hunt,fbi,cnn,waco,weapon,atf,firearm,ranch,gun\n",
        "talk.politics.mideast"
       ]
      },
      {
       "output_type": "stream",
       "stream": "stdout",
       "text": [
        " muslim,freedom,iran,turk,greek,hama,holocaust,elia,jerusalem,occupi,palestinian,pro,jew,armenia,adl,bosnian,arab,armenian,isra,israel\n",
        "talk.politics.misc presid,rail,pork,verdict,mow,hostag,celebr,fetu,pyramid,employ,liber,initi,thor,consent,molest,rutger,percentag,sexual,gay,polic state\n",
        "talk.religion.misc love god,toss,order,abort,stephen,new age,moment,behav,mormon,josephu,sword,666,beast,christian moral,mithra,hudson,new religion,burden,weiss,promis\n",
        "ng20_raw_stems_bigrams_stopwords_df1_tf1 ^ google_bigrams (extended unigrams) -->  precision  0.837216573035 recall  0.834637632882 f1  0.834973237664\n",
        "loaded (200752) terms"
       ]
      },
      {
       "output_type": "stream",
       "stream": "stdout",
       "text": [
        "\n",
        "vectorizing done, 200752 terms vocabulary tokenized"
       ]
      },
      {
       "output_type": "stream",
       "stream": "stdout",
       "text": [
        "\n",
        "vectorizing done, 200752 terms vocabulary tokenized"
       ]
      },
      {
       "output_type": "stream",
       "stream": "stdout",
       "text": [
        "\n"
       ]
      },
      {
       "output_type": "stream",
       "stream": "stdout",
       "text": [
        "accuracy scores = [ 0.86977731  0.9118896   0.90221088  0.87359013],0.889366978246\n"
       ]
      },
      {
       "output_type": "stream",
       "stream": "stdout",
       "text": [
        "macro precision scores = [ 0.86710659  0.91167995  0.90148281  0.87285895],0.888282076461\n"
       ]
      },
      {
       "output_type": "stream",
       "stream": "stdout",
       "text": [
        "macro recall scores = [ 0.86243145  0.90957877  0.89653055  0.87068179],0.88480564076\n"
       ]
      },
      {
       "output_type": "stream",
       "stream": "stdout",
       "text": [
        "macro f1 scores = [ 0.86367915  0.91041876  0.89769508  0.87097183],0.885691205613\n"
       ]
      },
      {
       "output_type": "stream",
       "stream": "stdout",
       "text": [
        "weighted average precision scores = [ 0.86982872  0.91203531  0.90405911  0.8755133 ],0.890359110706\n"
       ]
      },
      {
       "output_type": "stream",
       "stream": "stdout",
       "text": [
        "weighted average recall scores = [ 0.86982872  0.91203531  0.90405911  0.8755133 ],0.890359110706\n"
       ]
      },
      {
       "output_type": "stream",
       "stream": "stdout",
       "text": [
        "weighted f1 scores = [ 0.86895168  0.91178015  0.90196035  0.87378583],0.889119504112\n",
        "dimensionality: 200752"
       ]
      },
      {
       "output_type": "stream",
       "stream": "stdout",
       "text": [
        "\n",
        "density: 0.45992742289\n",
        "alt.atheism charley,jsn104,wwc,mango,enviroleagu,moral agenc,tammi,wingat,dogma,cobb,asimov,motto,scout,benedikt,rushdi,mathew,islam,atheism,atheist,keith\n",
        "comp.graphics hacker ethic,anim,algorithm,sphere,photoshop,surfac,mpeg,raytrac,viewer,tiff,fractal,hacker,cview,imag,polygon,siggraph,pov,3do,3d,graphic\n",
        "comp.os.ms-windows.misc risc,dll,driver,wfw,doublespac,setup,smartdrv,nt,winqvt,file,bmp,ini,win,program manag,ax,challeng,win3,cica,microsoft,window\n",
        "comp.sys.ibm.pc.hardware"
       ]
      },
      {
       "output_type": "stream",
       "stream": "stdout",
       "text": [
        " connect,zeo,gosh,nanao,mitsumi,monitor,interrupt,modem,cmo,ide,winmark,pc,isa,vlb,fastmicro,irq,motherboard,jumper,bio,gateway\n",
        "comp.sys.mac.hardware c650,24 hour,iici,040,68040,macweek,pb,deskwrit,bmug,adb,lciii,lc,iisi,se,quadra,centri,duo,powerbook,appl,mac\n",
        "comp.windows.x imak,xwindow,display,xdm,event,r5,xwd,twm,unsubscrib,consortium,openwindow,xfree86,x11,window manag,xlib,server,widget,xterm,x11r5,motif\n",
        "misc.forsale brand new,2190,cod,airlin,pay,00,condit,junk mail,summer,cd,sne,interest,camera,sell,includ,obo,ship,offer,forsal,sale\n",
        "rec.autos"
       ]
      },
      {
       "output_type": "stream",
       "stream": "stdout",
       "text": [
        " dumbest,sunroof,opel,vw,honda,v6,integra,shift,diesel,mustang,truck,toyota,dealer,warn,oil,automot,geico,ford,auto,car\n",
        "rec.motorcycles ducati,xs1100,kreme,ama,moa,cage,cager,ranck,yamaha,dog,biker,kawasaki,harley,helmet,bmw,rider,ride,motorcycl,bike,dod\n",
        "rec.sport.baseball nl,hit,uniform,hitter,morri,bat,fenway,ball,tiger,stadium,sox,dodger,brave,pitch,pitcher,giant,cub,yanke,philli,basebal\n",
        "rec.sport.hockey team,oiler,wc,coach,cup,goal,pen,puck,wing,detroit,buffalo,leaf,penguin,shark,espn,goali,bruin,playoff,nhl,hockey\n",
        "sci.crypt"
       ]
      },
      {
       "output_type": "stream",
       "stream": "stdout",
       "text": [
        " sternlight,den,overreact,privaci,secret,de,tempest,lobbi,crypt,cipher,key,pgp,wiretap,nsa,secur,cryptographi,crypto,tap,encrypt,clipper\n",
        "sci.electronics adcom,256k,explod,motorola,resistor,pcb,spice,dsp,led,2600,rf,disk copi,8051,solvent,voltag,ic,scope,electron,copi protect,circuit\n",
        "sci.med syndrom,effect,health,cure,antibiot,migrain,exercis,medicin,allerg,ear,patient,treatment,cancer,msg,krillean,med,diseas,medic,photographi,doctor\n",
        "sci.space fund,henri,flight,gamma ray,dc,astronomi,mar,nasa,satellit,jennis,rocket,spacecraft,pat,planet,sky,launch,shuttl,moon,orbit,space\n",
        "soc.religion.christian"
       ]
      },
      {
       "output_type": "stream",
       "stream": "stdout",
       "text": [
        " bless,ceremoni,prayer,hell,jame,arrog,sin,cathol,1993,easter,christ,geneva,christian,kiefer,vers,daili,church,rutger,atho,clh\n",
        "talk.politics.guns texa,ban,rifl,bd,weaver,liberti,cdt,militia,burn,fbi,nra,handgun,quisl,dividian,weapon,waco,ranch,firearm,atf,gun\n",
        "talk.politics.mideast iran,angmar,holocaust,hezbollah,argic,jerusalem,serdar,muslim,zionism,armenia,adl,uva,jew,palestinian,bosnian,turkish,arab,armenian,isra,israel\n",
        "talk.politics.misc stephanopoulo,presid,mow,tax,violenc,pyotr,hostag,drug,employ,sexual,initi,garrett,optilink,teel,gay,clayton,drieux,cramer,top ten,kaldi\n",
        "talk.religion.misc weiss,kendig,tyre,robert weiss,new age,biblic,koresh,sword,abort,666,brian,rawlin,rosicrucian,mormon,promis,new religion,beast,hudson,2000,burden\n",
        "ng20_raw_stems_unigrams_stopwords_df1_tf1 ^ ng20_raw_stems_bigrams_stopwords_df1_tf1 ^ wiki_wiktionary_bigrams_vw  -->  precision  0.888282076461 recall  0.88480564076 f1  0.885691205613\n",
        "loaded (57423) terms"
       ]
      },
      {
       "output_type": "stream",
       "stream": "stdout",
       "text": [
        "\n",
        "extended to (73391) terms\n",
        "done loading vocabulary"
       ]
      },
      {
       "output_type": "stream",
       "stream": "stdout",
       "text": [
        "\n",
        "vectorizing done, 73391 terms vocabulary tokenized"
       ]
      },
      {
       "output_type": "stream",
       "stream": "stdout",
       "text": [
        "\n",
        "vectorizing done, 73391 terms vocabulary tokenized"
       ]
      },
      {
       "output_type": "stream",
       "stream": "stdout",
       "text": [
        "\n"
       ]
      },
      {
       "output_type": "stream",
       "stream": "stdout",
       "text": [
        "accuracy scores = [ 0.84602333  0.89447983  0.88137755  0.85145776],0.868334616984\n"
       ]
      },
      {
       "output_type": "stream",
       "stream": "stdout",
       "text": [
        "macro precision scores = [ 0.84253709  0.8933829   0.87866266  0.85121957],0.866450556701\n"
       ]
      },
      {
       "output_type": "stream",
       "stream": "stdout",
       "text": [
        "macro recall scores = [ 0.83778325  0.89233799  0.87517822  0.84894884],0.863562073884\n"
       ]
      },
      {
       "output_type": "stream",
       "stream": "stdout",
       "text": [
        "macro f1 scores = [ 0.83906279  0.89274499  0.87582247  0.84892042],0.864137669442\n"
       ]
      },
      {
       "output_type": "stream",
       "stream": "stdout",
       "text": [
        "weighted average precision scores = [ 0.84648803  0.89469631  0.88157808  0.85423446],0.869249220343\n"
       ]
      },
      {
       "output_type": "stream",
       "stream": "stdout",
       "text": [
        "weighted average recall scores = [ 0.84648803  0.89469631  0.88157808  0.85423446],0.869249220343\n"
       ]
      },
      {
       "output_type": "stream",
       "stream": "stdout",
       "text": [
        "weighted f1 scores = [ 0.84532999  0.89447538  0.88051705  0.85173189],0.868013576856\n",
        "dimensionality: 73391"
       ]
      },
      {
       "output_type": "stream",
       "stream": "stdout",
       "text": [
        "\n",
        "density: 0.365399027129\n",
        "alt.atheism moral agenc,asimov,gregg,dogma,vice,cobb,charley,liar,motto,jon,tammi,batman,scout,wingat,islam,mathew,atheist,rushdi,atheism,keith\n",
        "comp.graphics anim,virtual realiti,impuls,sphere,surfac,hacker ethic,mpeg,raytrac,hacker,tiff,photoshop,fractal,polygon,imag,viewer,rumour,siggraph,pov,3d,graphic\n",
        "comp.os.ms-windows.misc file,canon,download,filenam,swap file,dll,upload,risc,logo,workgroup,setup,max,nt,win,ini,bmp,program manag,challeng,microsoft,window\n",
        "comp.sys.ibm.pc.hardware floppi,spec,17,ide,irq,amd,date,pc,interrupt,cmo,isa,gosh,vlb,motherboard,jumper,trinitron,59,bio,walli,gateway\n",
        "comp.sys.mac.hardware cyclon,dead mous,laserwrit,x86,iifx,floptic,24 hour,iici,68040,pb,adb,se,centri,iisi,quadra,duo,lc,powerbook,appl,mac\n",
        "comp.windows.x folk,dpi,mit,christi,creat,hypercard,default,patch,client,subscrib,display,event,twm,escap,consortium,window manag,x11,widget,server,motif\n",
        "misc.forsale condit,traci,repli,cd,cod,airlin,buyer,junk mail,interest,pay,sne,summer,sell,camera,ask,includ,thad,ship,offer,sale\n",
        "rec.autos saab,honda,opel,vw,integra,toyota,diesel,callison,truck,v6,shift,warn,dealer,mustang,oil,ford,automot,geico,auto,car\n",
        "rec.motorcycles piec,robinson,moto,cage,gardner,ducati,infant,moa,dog,yamaha,kawasaki,biker,harley,bmw,helmet,rider,ride,motorcycl,bike,dod\n",
        "rec.sport.baseball hitter,hit,marlin,bat,uniform,morri,sox,tiger,fenway,stadium,ball,pitch,pitcher,dodger,brave,giant,cub,yanke,philli,basebal\n",
        "rec.sport.hockey island,oiler,gerald,coach,pen,cup,wing,goal,puck,detroit,buffalo,leaf,penguin,espn,shark,goali,bruin,playoff,nhl,hockey\n",
        "sci.crypt de,random,trust,onc,tempest,den,key,rsa,privaci,secret,cipher,pgp,lobbi,wiretap,secur,cryptographi,crypto,encrypt,tap,clipper\n",
        "sci.electronics"
       ]
      },
      {
       "output_type": "stream",
       "stream": "stdout",
       "text": [
        " eprom,motorola,cool tower,led,explod,resistor,pcb,2600,dsp,8051,solvent,disk copi,spice,rf,ic,voltag,scope,electron,copi protect,circuit\n",
        "sci.med psychoact,sauc,migrain,methodolog,antibiot,exercis,patient,medicin,health,allerg,cancer,treatment,ear,gordon bank,msg,med,diseas,medic,doctor,photographi\n",
        "sci.space lunar,fund,flight,dc,nasa,astronomi,satellit,mar,gamma ray,rocket,pat,spacecraft,planet,sunset,sky,launch,shuttl,orbit,moon,space\n",
        "soc.religion.christian fisher,hell,moder,joe fisher,spiritu,roman,ceremoni,sin,prayer,vers,cathol,easter,jame,christian,geneva,christ,church,daili,1993,rutger\n",
        "talk.politics.guns texa,burn,gritz,militia,ban,hunt,liberti,cnn,handgun,fbi,quisl,acronym,dividian,robi,weapon,waco,ranch,atf,firearm,gun\n",
        "talk.politics.mideast iran,racism,armenia,zionism,hama,hezbollah,jerusalem,occupi,beyer,holocaust,jew,argic,palestinian,bosnian,serdar,turkish,arab,armenian,isra,israel\n",
        "talk.politics.misc verdict,rutger,drug,percentag,ted frank,liber,hostag,mail address,mow,sexual,employ,initi,polic state,theodor,gay,hallam,garrett,clayton,cramer,top ten\n",
        "talk.religion.misc stephen,biblic,weiss,tyre,malcolm lee,abort,robert weiss,new age,mormon,rosicrucian,666,sword,promis,hudson,beast,2000,new religion,brian,magick,burden\n",
        "ng20_raw_stems_bigrams_stopwords_df1_tf1 ^ wiki_wiktionary_bigrams_vw (extended unigrams) -->  precision  0.866450556701 recall  0.863562073884 f1  0.864137669442\n",
        "loaded (228162) terms"
       ]
      },
      {
       "output_type": "stream",
       "stream": "stdout",
       "text": [
        "\n",
        "vectorizing done, 228162 terms vocabulary tokenized"
       ]
      },
      {
       "output_type": "stream",
       "stream": "stdout",
       "text": [
        "\n",
        "vectorizing done, 228162 terms vocabulary tokenized"
       ]
      },
      {
       "output_type": "stream",
       "stream": "stdout",
       "text": [
        "\n"
       ]
      },
      {
       "output_type": "stream",
       "stream": "stdout",
       "text": [
        "accuracy scores = [ 0.86977731  0.9118896   0.90221088  0.87529262],0.889792600719\n"
       ]
      },
      {
       "output_type": "stream",
       "stream": "stdout",
       "text": [
        "macro precision scores = [ 0.86712616  0.91160368  0.90145364  0.87441179],0.888648815511\n"
       ]
      },
      {
       "output_type": "stream",
       "stream": "stdout",
       "text": [
        "macro recall scores = [ 0.8625443   0.9096322   0.89657905  0.87224462],0.885250041075\n"
       ]
      },
      {
       "output_type": "stream",
       "stream": "stdout",
       "text": [
        "macro f1 scores = [ 0.86374248  0.91043523  0.89772038  0.87252175],0.886104960175\n"
       ]
      },
      {
       "output_type": "stream",
       "stream": "stdout",
       "text": [
        "weighted average precision scores = [ 0.86980067  0.91203442  0.90397765  0.87720202],0.890753687767\n"
       ]
      },
      {
       "output_type": "stream",
       "stream": "stdout",
       "text": [
        "weighted average recall scores = [ 0.86980067  0.91203442  0.90397765  0.87720202],0.890753687767\n"
       ]
      },
      {
       "output_type": "stream",
       "stream": "stdout",
       "text": [
        "weighted f1 scores = [ 0.8689221   0.91180292  0.90194141  0.87547981],0.889536559475\n",
        "dimensionality: 228162"
       ]
      },
      {
       "output_type": "stream",
       "stream": "stdout",
       "text": [
        "\n",
        "density: 0.434078856251\n",
        "alt.atheism jaeger,jsn104,wwc,enviroleagu,mango,moral agenc,tammi,wingat,dogma,cobb,asimov,motto,scout,benedikt,rushdi,islam,mathew,atheism,atheist,keith\n",
        "comp.graphics hacker ethic,anim,algorithm,sphere,photoshop,mpeg,raytrac,surfac,viewer,fractal,tiff,hacker,cview,polygon,siggraph,imag,pov,3do,3d,graphic\n",
        "comp.os.ms-windows.misc risc,dll,doublespac,wfw,setup,smartdrv,driver,winqvt,nt,bmp,file,ini,win,program manag,ax,challeng,win3,cica,microsoft,window\n",
        "comp.sys.ibm.pc.hardware"
       ]
      },
      {
       "output_type": "stream",
       "stream": "stdout",
       "text": [
        " zeo,gosh,connect,mitsumi,nanao,modem,interrupt,monitor,cmo,ide,winmark,vlb,isa,pc,fastmicro,irq,jumper,motherboard,bio,gateway\n",
        "comp.sys.mac.hardware c650,24 hour,iici,040,68040,macweek,deskwrit,pb,bmug,adb,lciii,lc,iisi,se,quadra,centri,duo,powerbook,appl,mac\n",
        "comp.windows.x imak,xv,xdm,xwd,r5,display,event,twm,consortium,unsubscrib,openwindow,xfree86,x11,window manag,xlib,server,widget,xterm,x11r5,motif\n",
        "misc.forsale excel,brand new,cod,airlin,pay,junk mail,condit,00,summer,cd,interest,sne,camera,sell,includ,obo,ship,offer,forsal,sale\n",
        "rec.autos"
       ]
      },
      {
       "output_type": "stream",
       "stream": "stdout",
       "text": [
        " dumbest,opel,sunroof,honda,vw,integra,v6,shift,truck,diesel,mustang,toyota,dealer,warn,oil,automot,geico,ford,auto,car\n",
        "rec.motorcycles ducati,xs1100,kreme,ama,moa,cager,cage,ranck,yamaha,biker,kawasaki,dog,harley,helmet,bmw,rider,ride,motorcycl,bike,dod\n",
        "rec.sport.baseball nl,uniform,hit,hitter,morri,bat,fenway,ball,tiger,stadium,sox,dodger,brave,pitch,pitcher,giant,cub,yanke,philli,basebal\n",
        "rec.sport.hockey oiler,team,wc,coach,cup,puck,pen,goal,wing,detroit,buffalo,leaf,shark,penguin,espn,goali,bruin,playoff,nhl,hockey\n",
        "sci.crypt"
       ]
      },
      {
       "output_type": "stream",
       "stream": "stdout",
       "text": [
        " sternlight,overreact,den,privaci,secret,de,lobbi,tempest,crypt,cipher,key,pgp,wiretap,cryptographi,nsa,secur,crypto,encrypt,tap,clipper\n",
        "sci.electronics adcom,256k,explod,motorola,pcb,resistor,spice,dsp,led,disk copi,2600,rf,8051,solvent,ic,voltag,scope,electron,copi protect,circuit\n",
        "sci.med syndrom,effect,health,cure,antibiot,migrain,exercis,allerg,medicin,ear,patient,treatment,cancer,msg,krillean,med,diseas,medic,photographi,doctor\n",
        "sci.space fund,henri,astronomi,flight,dc,gamma ray,mar,nasa,jennis,satellit,rocket,spacecraft,pat,planet,sky,launch,shuttl,moon,orbit,space\n",
        "soc.religion.christian"
       ]
      },
      {
       "output_type": "stream",
       "stream": "stdout",
       "text": [
        " roman,ceremoni,prayer,jame,hell,arrog,1993,cathol,sin,christ,easter,geneva,christian,kiefer,vers,daili,church,rutger,atho,clh\n",
        "talk.politics.guns cnn,bd,ban,rifl,weaver,liberti,cdt,militia,burn,nra,fbi,handgun,quisl,dividian,weapon,waco,ranch,firearm,atf,gun\n",
        "talk.politics.mideast angmar,yigal,iran,hezbollah,jerusalem,argic,muslim,serdar,zionism,armenia,uva,adl,jew,bosnian,palestinian,turkish,arab,armenian,isra,israel\n",
        "talk.politics.misc narr,mow,presid,violenc,tax,pyotr,hostag,employ,initi,drug,sexual,garrett,optilink,teel,gay,clayton,drieux,cramer,top ten,kaldi\n",
        "talk.religion.misc weiss,kendig,tyre,robert weiss,new age,biblic,koresh,abort,sword,666,brian,rawlin,rosicrucian,mormon,promis,new religion,beast,hudson,2000,burden\n",
        "ng20_raw_stems_unigrams_stopwords_df1_tf1 ^ ng20_raw_stems_bigrams_stopwords_df1_tf1 ^ wiki_google_bigrams_vw  -->  precision  0.888648815511 recall  0.885250041075 f1  0.886104960175\n",
        "loaded (84833) terms"
       ]
      },
      {
       "output_type": "stream",
       "stream": "stdout",
       "text": [
        "\n",
        "extended to (101486) terms"
       ]
      },
      {
       "output_type": "stream",
       "stream": "stdout",
       "text": [
        "\n",
        "done loading vocabulary\n",
        "vectorizing done, 101486 terms vocabulary tokenized"
       ]
      },
      {
       "output_type": "stream",
       "stream": "stdout",
       "text": [
        "\n",
        "vectorizing done, 101486 terms vocabulary tokenized"
       ]
      },
      {
       "output_type": "stream",
       "stream": "stdout",
       "text": [
        "\n"
       ]
      },
      {
       "output_type": "stream",
       "stream": "stdout",
       "text": [
        "accuracy scores = [ 0.84772004  0.89490446  0.88244048  0.85443711],0.869875522872\n"
       ]
      },
      {
       "output_type": "stream",
       "stream": "stdout",
       "text": [
        "macro precision scores = [ 0.8447067   0.89372681  0.87986907  0.85437988],0.868170616369\n"
       ]
      },
      {
       "output_type": "stream",
       "stream": "stdout",
       "text": [
        "macro recall scores = [ 0.83940044  0.8924075   0.87645938  0.85177739],0.865011179953\n"
       ]
      },
      {
       "output_type": "stream",
       "stream": "stdout",
       "text": [
        "macro f1 scores = [ 0.84068294  0.89293867  0.87709811  0.8519663 ],0.865671504722\n"
       ]
      },
      {
       "output_type": "stream",
       "stream": "stdout",
       "text": [
        "weighted average precision scores = [ 0.84809801  0.89509824  0.88294233  0.85713459],0.870818291146\n"
       ]
      },
      {
       "output_type": "stream",
       "stream": "stdout",
       "text": [
        "weighted average recall scores = [ 0.84809801  0.89509824  0.88294233  0.85713459],0.870818291146\n"
       ]
      },
      {
       "output_type": "stream",
       "stream": "stdout",
       "text": [
        "weighted f1 scores = [ 0.84678436  0.89487863  0.8817489   0.85470154],0.869528359312\n",
        "dimensionality: 101486"
       ]
      },
      {
       "output_type": "stream",
       "stream": "stdout",
       "text": [
        "\n",
        "density: 0.313660504897\n",
        "alt.atheism moral agenc,gregg,asimov,dogma,vice,cobb,charley,liar,motto,jon,batman,tammi,scout,wingat,islam,mathew,atheist,rushdi,atheism,keith\n",
        "comp.graphics targa,impuls,virtual realiti,sphere,hacker ethic,surfac,mpeg,raytrac,tiff,hacker,photoshop,fractal,polygon,viewer,rumour,imag,siggraph,pov,3d,graphic\n",
        "comp.os.ms-windows.misc driver,file,canon,filenam,swap file,dll,upload,workgroup,logo,risc,setup,win,ini,bmp,nt,ax,program manag,challeng,microsoft,window\n",
        "comp.sys.ibm.pc.hardware date,spec,monitor,jumper,amd,17,interrupt,pc,ide,irq,59,cmo,gosh,trinitron,vlb,isa,motherboard,bio,walli,gateway\n",
        "comp.sys.mac.hardware appli engin,cyclon,dead mous,laserwrit,x86,iifx,24 hour,iici,68040,pb,adb,se,centri,quadra,iisi,duo,lc,powerbook,appl,mac\n",
        "comp.windows.x cursor,christi,mit,hypercard,sun,patch,client,colormap,default,display,subscrib,twm,escap,event,consortium,window manag,x11,widget,server,motif\n",
        "misc.forsale size,repli,cod,condit,cd,airlin,buyer,interest,junk mail,pay,sne,summer,sell,thad,camera,ask,includ,ship,offer,sale\n",
        "rec.autos saab,honda,opel,integra,vw,toyota,diesel,callison,truck,v6,mustang,shift,warn,dealer,oil,ford,geico,automot,auto,car\n",
        "rec.motorcycles"
       ]
      },
      {
       "output_type": "stream",
       "stream": "stdout",
       "text": [
        " asphaug,piec,moto,robinson,ducati,infant,moa,yamaha,cage,dog,biker,kawasaki,harley,helmet,bmw,rider,ride,motorcycl,bike,dod\n",
        "rec.sport.baseball hitter,bat,hit,marlin,uniform,morri,sox,tiger,fenway,ball,stadium,dodger,pitch,pitcher,brave,giant,cub,yanke,philli,basebal\n",
        "rec.sport.hockey island,gerald,pen,oiler,cup,coach,wing,goal,puck,detroit,buffalo,leaf,penguin,espn,shark,goali,bruin,playoff,nhl,hockey\n",
        "sci.crypt random,trust,tempest,onc,rsa,privaci,key,secret,den,crypt,cipher,pgp,lobbi,wiretap,secur,cryptographi,crypto,encrypt,tap,clipper\n",
        "sci.electronics cool tower,motorola,eprom,led,explod,pcb,resistor,2600,dsp,rf,disk copi,solvent,spice,8051,ic,voltag,scope,electron,copi protect,circuit\n",
        "sci.med physician,antibiot,sauc,migrain,methodolog,exercis,health,patient,allerg,medicin,treatment,gordon bank,cancer,ear,med,msg,diseas,medic,doctor,photographi\n",
        "sci.space solar,lunar,fund,flight,dc,nasa,astronomi,satellit,mar,gamma ray,rocket,pat,spacecraft,planet,sky,launch,shuttl,orbit,moon,space\n",
        "soc.religion.christian fisher,moder,joe fisher,spiritu,hell,roman,ceremoni,prayer,sin,cathol,jame,easter,vers,christian,geneva,christ,church,daili,1993,rutger\n",
        "talk.politics.guns weaver,texa,gritz,burn,ban,militia,hunt,liberti,cnn,fbi,handgun,quisl,robi,dividian,waco,weapon,ranch,atf,firearm,gun\n",
        "talk.politics.mideast armenia,hama,zionism,elia,hezbollah,holocaust,occupi,jerusalem,beyer,jew,palestinian,argic,bosnian,adl,serdar,turkish,arab,armenian,isra,israel\n",
        "talk.politics.misc"
       ]
      },
      {
       "output_type": "stream",
       "stream": "stdout",
       "text": [
        " rutger,tax,percentag,drug,liber,ted frank,mow,hostag,mail address,sexual,employ,initi,polic state,hallam,theodor,gay,garrett,clayton,cramer,top ten\n",
        "talk.religion.misc biblic,weiss,malcolm lee,tyre,mithra,magick,abort,robert weiss,new age,rosicrucian,666,promis,mormon,sword,hudson,beast,new religion,brian,2000,burden\n",
        "ng20_raw_stems_bigrams_stopwords_df1_tf1 ^ wiki_google_bigrams_vw (extended unigrams) -->  precision  0.868170616369 recall  0.865011179953 f1  0.865671504722\n",
        "loaded (194359) terms"
       ]
      },
      {
       "output_type": "stream",
       "stream": "stdout",
       "text": [
        "\n",
        "vectorizing done, 194359 terms vocabulary tokenized"
       ]
      },
      {
       "output_type": "stream",
       "stream": "stdout",
       "text": [
        "\n",
        "vectorizing done, 194359 terms vocabulary tokenized"
       ]
      },
      {
       "output_type": "stream",
       "stream": "stdout",
       "text": [
        "\n"
       ]
      },
      {
       "output_type": "stream",
       "stream": "stdout",
       "text": [
        "accuracy scores = [ 0.86892895  0.91019108  0.90029762  0.87039796],0.887453902255\n"
       ]
      },
      {
       "output_type": "stream",
       "stream": "stdout",
       "text": [
        "macro precision scores = [ 0.86570339  0.90980967  0.89935457  0.86954378],0.886102850991\n"
       ]
      },
      {
       "output_type": "stream",
       "stream": "stdout",
       "text": [
        "macro recall scores = [ 0.86112273  0.90791793  0.89469821  0.86748609],0.882806238928\n"
       ]
      },
      {
       "output_type": "stream",
       "stream": "stdout",
       "text": [
        "macro f1 scores = [ 0.86206351  0.90867309  0.8957452   0.86770366],0.883546367624\n"
       ]
      },
      {
       "output_type": "stream",
       "stream": "stdout",
       "text": [
        "weighted average precision scores = [ 0.86856145  0.91034623  0.90203695  0.87259774],0.888385594556\n"
       ]
      },
      {
       "output_type": "stream",
       "stream": "stdout",
       "text": [
        "weighted average recall scores = [ 0.86856145  0.91034623  0.90203695  0.87259774],0.888385594556\n"
       ]
      },
      {
       "output_type": "stream",
       "stream": "stdout",
       "text": [
        "weighted f1 scores = [ 0.8676942   0.9100973   0.90001095  0.87073375],0.887134050173\n",
        "dimensionality: 194359"
       ]
      },
      {
       "output_type": "stream",
       "stream": "stdout",
       "text": [
        "\n",
        "density: 0.451968779424\n",
        "alt.atheism cruel,wrote,wwc,enviroleagu,mango,jsn104,tammi,wingat,dogma,motto,cobb,asimov,scout,benedikt,mathew,rushdi,islam,atheism,atheist,keith\n",
        "comp.graphics hacker ethic,anim,algorithm,sphere,viewer,surfac,raytrac,tiff,mpeg,photoshop,fractal,hacker,cview,polygon,siggraph,imag,pov,3do,3d,graphic\n",
        "comp.os.ms-windows.misc doublespac,dll,risc,driver,setup,wfw,smartdrv,winqvt,bmp,nt,file,ini,win,ax,program manag,challeng,win3,cica,microsoft,window\n",
        "comp.sys.ibm.pc.hardware"
       ]
      },
      {
       "output_type": "stream",
       "stream": "stdout",
       "text": [
        " connect,zeo,monitor,modem,gosh,nanao,interrupt,mitsumi,cmo,ide,pc,isa,vlb,winmark,fastmicro,irq,jumper,motherboard,bio,gateway\n",
        "comp.sys.mac.hardware syquest,c650,040,macweek,pb,deskwrit,iici,68040,bmug,adb,iisi,lciii,se,lc,quadra,centri,duo,powerbook,appl,mac\n",
        "comp.windows.x display,xv,xwindow,xdm,r5,xwd,event,twm,consortium,unsubscrib,openwindow,xfree86,x11,window manag,xlib,server,widget,xterm,x11r5,motif\n",
        "misc.forsale cod,brand new,airlin,2190,condit,00,pay,cd,junk mail,interest,summer,sne,camera,includ,obo,sell,ship,offer,forsal,sale\n",
        "rec.autos"
       ]
      },
      {
       "output_type": "stream",
       "stream": "stdout",
       "text": [
        " dumbest,sunroof,honda,integra,vw,opel,diesel,v6,shift,truck,mustang,toyota,dealer,warn,oil,automot,geico,ford,auto,car\n",
        "rec.motorcycles aerostitch,xs1100,ama,kreme,cager,moa,ranck,cage,yamaha,dog,kawasaki,biker,harley,helmet,bmw,rider,ride,motorcycl,bike,dod\n",
        "rec.sport.baseball nl,uniform,hitter,mattingli,bat,ball,fenway,tiger,stadium,sox,morri,dodger,brave,pitch,pitcher,giant,cub,yanke,philli,basebal\n",
        "rec.sport.hockey oiler,wc,coach,cherri,cup,goal,pen,puck,wing,detroit,buffalo,leaf,shark,penguin,espn,goali,bruin,playoff,nhl,hockey\n",
        "sci.crypt sternlight,overreact,privaci,den,secret,de,crypt,lobbi,tempest,cipher,key,pgp,wiretap,secur,nsa,cryptographi,crypto,encrypt,tap,clipper\n",
        "sci.electronics"
       ]
      },
      {
       "output_type": "stream",
       "stream": "stdout",
       "text": [
        " 256k,adcom,explod,motorola,resistor,pcb,spice,led,rf,disk copi,2600,dsp,8051,solvent,ic,voltag,scope,electron,copi protect,circuit\n",
        "sci.med diet,allergi,antibiot,health,cure,migrain,exercis,ear,medicin,allerg,patient,treatment,cancer,msg,diseas,med,krillean,medic,photographi,doctor\n",
        "sci.space fund,astronomi,flight,gamma ray,dc,henri,mar,nasa,satellit,jennis,rocket,spacecraft,pat,planet,sky,launch,shuttl,moon,orbit,space\n",
        "soc.religion.christian ceremoni,jame,fisher,hell,prayer,cathol,arrog,1993,sin,christ,easter,christian,geneva,kiefer,vers,church,daili,rutger,atho,clh\n",
        "talk.politics.guns"
       ]
      },
      {
       "output_type": "stream",
       "stream": "stdout",
       "text": [
        " gunsmith,ban,texa,bd,liberti,weaver,cdt,militia,burn,nra,fbi,handgun,quisl,dividian,waco,weapon,ranch,firearm,atf,gun\n",
        "talk.politics.mideast angmar,hezbollah,yigal,iran,jerusalem,muslim,argic,zionism,armenia,uva,serdar,adl,jew,bosnian,palestinian,turkish,arab,armenian,isra,israel\n",
        "talk.politics.misc ipser,clinton,presid,mow,tax,violenc,pyotr,hostag,drug,employ,initi,sexual,garrett,gay,optilink,teel,clayton,drieux,cramer,kaldi\n",
        "talk.religion.misc tyre,kendig,sabin,new age,abort,koresh,sword,biblic,brian,666,rawlin,mormon,new religion,promis,beast,weiss,hudson,rosicrucian,2000,burden\n",
        "ng20_raw_stems_unigrams_stopwords_df1_tf1 ^ ng20_raw_stems_bigrams_stopwords_df1_tf1 ^ wiktionary_google_bigrams_vw  -->  precision  0.886102850991 recall  0.882806238928 f1  0.883546367624\n",
        "loaded (51030) terms"
       ]
      },
      {
       "output_type": "stream",
       "stream": "stdout",
       "text": [
        "\n",
        "extended to (59828) terms\n",
        "done loading vocabulary\n",
        "vectorizing done, 59828 terms vocabulary tokenized"
       ]
      },
      {
       "output_type": "stream",
       "stream": "stdout",
       "text": [
        "\n",
        "vectorizing done, 59828 terms vocabulary tokenized"
       ]
      },
      {
       "output_type": "stream",
       "stream": "stdout",
       "text": [
        "\n"
       ]
      },
      {
       "output_type": "stream",
       "stream": "stdout",
       "text": [
        "accuracy scores = [ 0.82205726  0.86836518  0.85990646  0.82443073],0.843689909261\n"
       ]
      },
      {
       "output_type": "stream",
       "stream": "stdout",
       "text": [
        "macro precision scores = [ 0.81832853  0.86628722  0.85714279  0.82380959],0.841392030659\n"
       ]
      },
      {
       "output_type": "stream",
       "stream": "stdout",
       "text": [
        "macro recall scores = [ 0.81418228  0.86578704  0.85371347  0.82120159],0.838721092594\n"
       ]
      },
      {
       "output_type": "stream",
       "stream": "stdout",
       "text": [
        "macro f1 scores = [ 0.81509186  0.86583394  0.85427492  0.82124944],0.839112539111\n"
       ]
      },
      {
       "output_type": "stream",
       "stream": "stdout",
       "text": [
        "weighted average precision scores = [ 0.82213754  0.86842865  0.8608215   0.82803828],0.844856491058\n"
       ]
      },
      {
       "output_type": "stream",
       "stream": "stdout",
       "text": [
        "weighted average recall scores = [ 0.82213754  0.86842865  0.8608215   0.82803828],0.844856491058\n"
       ]
      },
      {
       "output_type": "stream",
       "stream": "stdout",
       "text": [
        "weighted f1 scores = [ 0.82109059  0.86819427  0.85929377  0.82503083],0.843402364816\n",
        "dimensionality: 59828"
       ]
      },
      {
       "output_type": "stream",
       "stream": "stdout",
       "text": [
        "\n",
        "density: 0.296723941967\n",
        "alt.atheism poster,polit,casual,saturn,write,liar,omnipot,prepar,dogma,gulf war,motto,vice,batman,scout,po,charley,atheist,islam,atheism,rushdi\n",
        "comp.graphics manipul,temp file,signific,rgb,sphere,impuls,hacker ethic,philosoph,anim,hacker,surfac,viewer,virtual realiti,vesa,mpeg,polygon,rot,imag,3d,graphic\n",
        "comp.os.ms-windows.misc swap,print manag,setup,swap file,upload,printer driver,canon,logo,dll,risc,filenam,ini,win,bmp,nt,ax,program manag,challeng,microsoft,window\n",
        "comp.sys.ibm.pc.hardware date,blaster,pentium,isa,66,80386,robert,ghost,cdrom,motherboard,ide,floppi,comment,benchmark,cmo,spec,irq,interrupt,bio,gateway\n",
        "comp.sys.mac.hardware appletalk,bernoulli,oscil,dock,sage,ls,clock,powerpc,hardwar,floptic,price drop,hour,cyclon,iii,x86,mathematica,se,pb,appl,mac\n",
        "comp.windows.x script,binari,patch,colormap,christi,folk,lib,hypercard,client,display,sun,default,subscrib,event,consortium,escap,window manag,widget,server,motif\n",
        "misc.forsale cd,size,deal,pay,fax modem,airlin,interest,repli,sell,origin,buyer,cod,ask,junk mail,summer,camera,thad,ship,offer,sale\n",
        "rec.autos honda,wagon,licens plate,v8,diesel,esp,nissan,insur compani,truck,dealer,toyota,oil,shift,mustang,vw,warn,v6,ford,auto,car\n",
        "rec.motorcycles squid,piec,advic,chain,es,stroke,seca,shaft,daytona,infant,cage,dog,harley,helmet,bmw,biker,rider,ride,motorcycl,bike\n",
        "rec.sport.baseball cardin,uniform,met,career,hitter,sox,hr,tiger,brave,pitcher,ball,pitch,stadium,morri,dodger,giant,cub,philli,yanke,basebal\n",
        "rec.sport.hockey pool,cap,pit,play,coach,oiler,wing,puck,pen,goal,cherri,leaf,buffalo,penguin,detroit,shark,bruin,playoff,nhl,hockey\n",
        "sci.crypt hard core,algorithm,random,password,trust,onc,den,privaci,rsa,key,secret,crypt,cipher,wiretap,lobbi,secur,cryptographi,encrypt,tap,clipper\n",
        "sci.electronics motorola,led,cool tower,dsp,baden,explod,pcb,eprom,rf,2600,ic,resistor,adhes,8051,disk copi,voltag,electron,scope,copi protect,circuit\n",
        "sci.med migrain,health,cure,diet,exercis,syndrom,patient,sauc,sensit,cancer,allerg,treatment,skeptic,effect,ear,medicin,med,diseas,medic,doctor\n",
        "sci.space proton,solar,fund,lunar,astronomi,dc,flight,satellit,mar,fred,gamma ray,rocket,spacecraft,planet,launch,shuttl,sky,moon,orbit,space\n",
        "soc.religion.christian dream,dariu,origin sin,roman,moder,jame,spiritu,cathol,fisher,sin,ceremoni,vers,christ,christian,easter,prayer,church,daili,geneva,rutger\n",
        "talk.politics.guns safeti,swiss,burn,bd,fortress,socialist leader,weaver,militia,texa,liberti,hunt,acronym,cnn,fbi,waco,weapon,atf,firearm,ranch,gun\n",
        "talk.politics.mideast turk,armenia,muslim,iran,freedom,hama,elia,holocaust,occupi,jerusalem,pro,palestinian,jew,adl,bosnian,turkish,arab,armenian,isra,israel\n",
        "talk.politics.misc"
       ]
      },
      {
       "output_type": "stream",
       "stream": "stdout",
       "text": [
        " drug,child molest,verdict,violenc,fetu,celebr,employ,hostag,pyramid,liber,initi,mow,thor,sexual,molest,rutger,consent,percentag,gay,polic state\n",
        "talk.religion.misc love god,behav,order,moment,imaginari,josephu,stephen,new age,mormon,sword,beast,biblic,mithra,666,2000,hudson,new religion,weiss,burden,promis\n",
        "ng20_raw_stems_bigrams_stopwords_df1_tf1 ^ wiktionary_google_bigrams_vw (extended unigrams) -->  precision  0.841392030659 recall  0.838721092594 f1  0.839112539111\n",
        "loaded (229029) terms"
       ]
      },
      {
       "output_type": "stream",
       "stream": "stdout",
       "text": [
        "\n",
        "vectorizing done, 229029 terms vocabulary tokenized"
       ]
      },
      {
       "output_type": "stream",
       "stream": "stdout",
       "text": [
        "\n",
        "vectorizing done, 229029 terms vocabulary tokenized"
       ]
      },
      {
       "output_type": "stream",
       "stream": "stdout",
       "text": [
        "\n"
       ]
      },
      {
       "output_type": "stream",
       "stream": "stdout",
       "text": [
        "accuracy scores = [ 0.86956522  0.91252654  0.9019983   0.87529262],0.88984566786\n"
       ]
      },
      {
       "output_type": "stream",
       "stream": "stdout",
       "text": [
        "macro precision scores = [ 0.86690571  0.91225022  0.90126214  0.87449239],0.888727614952\n"
       ]
      },
      {
       "output_type": "stream",
       "stream": "stdout",
       "text": [
        "macro recall scores = [ 0.8623435   0.91035472  0.8963043   0.87229961],0.885325532288\n"
       ]
      },
      {
       "output_type": "stream",
       "stream": "stdout",
       "text": [
        "macro f1 scores = [ 0.86354234  0.91113318  0.89747756  0.87262029],0.886193344828\n"
       ]
      },
      {
       "output_type": "stream",
       "stream": "stdout",
       "text": [
        "weighted average precision scores = [ 0.86957005  0.91269364  0.9037997   0.87718795],0.890812833181\n"
       ]
      },
      {
       "output_type": "stream",
       "stream": "stdout",
       "text": [
        "weighted average recall scores = [ 0.86957005  0.91269364  0.9037997   0.87718795],0.890812833181\n"
       ]
      },
      {
       "output_type": "stream",
       "stream": "stdout",
       "text": [
        "weighted f1 scores = [ 0.86871181  0.91246103  0.90173906  0.87549936],0.889602812755\n",
        "dimensionality: 229029"
       ]
      },
      {
       "output_type": "stream",
       "stream": "stdout",
       "text": [
        "\n",
        "density: 0.427535377616\n",
        "alt.atheism jaeger,jsn104,wwc,enviroleagu,mango,moral agenc,tammi,wingat,dogma,cobb,asimov,motto,scout,benedikt,rushdi,islam,mathew,atheism,atheist,keith\n",
        "comp.graphics hacker ethic,anim,algorithm,sphere,photoshop,mpeg,raytrac,surfac,viewer,fractal,tiff,hacker,cview,polygon,siggraph,imag,pov,3do,3d,graphic\n",
        "comp.os.ms-windows.misc risc,dll,doublespac,wfw,setup,smartdrv,driver,winqvt,nt,bmp,file,ini,win,program manag,ax,challeng,win3,cica,microsoft,window\n",
        "comp.sys.ibm.pc.hardware"
       ]
      },
      {
       "output_type": "stream",
       "stream": "stdout",
       "text": [
        " zeo,gosh,connect,mitsumi,nanao,modem,interrupt,monitor,cmo,ide,winmark,vlb,isa,pc,fastmicro,irq,jumper,motherboard,bio,gateway\n",
        "comp.sys.mac.hardware c650,24 hour,iici,040,68040,macweek,deskwrit,pb,bmug,adb,lciii,lc,iisi,se,quadra,centri,duo,powerbook,appl,mac\n",
        "comp.windows.x imak,xv,xdm,xwd,r5,display,event,twm,consortium,unsubscrib,openwindow,xfree86,x11,window manag,xlib,server,widget,xterm,x11r5,motif\n",
        "misc.forsale excel,brand new,cod,airlin,pay,junk mail,condit,00,summer,cd,interest,sne,camera,sell,includ,obo,ship,offer,forsal,sale\n",
        "rec.autos"
       ]
      },
      {
       "output_type": "stream",
       "stream": "stdout",
       "text": [
        " dumbest,opel,sunroof,honda,vw,integra,v6,shift,diesel,mustang,truck,toyota,dealer,warn,oil,automot,geico,ford,auto,car\n",
        "rec.motorcycles ducati,xs1100,kreme,ama,moa,cager,cage,ranck,yamaha,biker,kawasaki,dog,harley,helmet,bmw,rider,ride,motorcycl,bike,dod\n",
        "rec.sport.baseball nl,uniform,hit,hitter,bat,morri,fenway,ball,tiger,stadium,sox,dodger,brave,pitch,pitcher,giant,cub,yanke,philli,basebal\n",
        "rec.sport.hockey oiler,team,wc,coach,cup,puck,pen,goal,wing,detroit,buffalo,leaf,shark,penguin,espn,goali,bruin,playoff,nhl,hockey\n",
        "sci.crypt"
       ]
      },
      {
       "output_type": "stream",
       "stream": "stdout",
       "text": [
        " sternlight,overreact,den,privaci,secret,de,lobbi,tempest,crypt,cipher,key,pgp,wiretap,cryptographi,nsa,secur,crypto,tap,encrypt,clipper\n",
        "sci.electronics adcom,256k,explod,motorola,pcb,resistor,spice,dsp,disk copi,led,2600,rf,8051,solvent,ic,voltag,scope,electron,copi protect,circuit\n",
        "sci.med syndrom,effect,health,cure,antibiot,migrain,exercis,allerg,medicin,ear,patient,treatment,cancer,msg,krillean,med,diseas,medic,photographi,doctor\n",
        "sci.space fund,henri,astronomi,flight,dc,gamma ray,mar,nasa,jennis,satellit,rocket,spacecraft,pat,planet,sky,launch,shuttl,moon,orbit,space\n",
        "soc.religion.christian"
       ]
      },
      {
       "output_type": "stream",
       "stream": "stdout",
       "text": [
        " roman,ceremoni,prayer,jame,hell,arrog,1993,cathol,sin,christ,easter,geneva,christian,kiefer,vers,daili,church,rutger,atho,clh\n",
        "talk.politics.guns cnn,ban,bd,rifl,weaver,liberti,cdt,militia,burn,nra,fbi,handgun,quisl,dividian,weapon,waco,ranch,firearm,atf,gun\n",
        "talk.politics.mideast angmar,yigal,hezbollah,iran,argic,jerusalem,muslim,serdar,zionism,armenia,uva,adl,jew,bosnian,palestinian,turkish,arab,armenian,isra,israel\n",
        "talk.politics.misc clinton,mow,presid,violenc,tax,pyotr,hostag,employ,drug,initi,sexual,garrett,optilink,teel,gay,clayton,drieux,cramer,top ten,kaldi\n",
        "talk.religion.misc"
       ]
      },
      {
       "output_type": "stream",
       "stream": "stdout",
       "text": [
        " weiss,kendig,tyre,robert weiss,new age,biblic,koresh,abort,sword,666,brian,rawlin,rosicrucian,mormon,promis,new religion,beast,hudson,2000,burden\n",
        "ng20_raw_stems_unigrams_stopwords_df1_tf1 ^ ng20_raw_stems_bigrams_stopwords_df1_tf1 ^ wiki_wiktionary_google_bigrams_vw  -->  precision  0.888727614952 recall  0.885325532288 f1  0.886193344828\n",
        "loaded (85700) terms"
       ]
      },
      {
       "output_type": "stream",
       "stream": "stdout",
       "text": [
        "\n",
        "extended to (102466) terms"
       ]
      },
      {
       "output_type": "stream",
       "stream": "stdout",
       "text": [
        "\n",
        "done loading vocabulary\n",
        "vectorizing done, 102466 terms vocabulary tokenized"
       ]
      },
      {
       "output_type": "stream",
       "stream": "stdout",
       "text": [
        "\n",
        "vectorizing done, 102466 terms vocabulary tokenized"
       ]
      },
      {
       "output_type": "stream",
       "stream": "stdout",
       "text": [
        "\n"
       ]
      },
      {
       "output_type": "stream",
       "stream": "stdout",
       "text": [
        "accuracy scores = [ 0.84941676  0.89532909  0.88222789  0.85486274],0.870459117499\n"
       ]
      },
      {
       "output_type": "stream",
       "stream": "stdout",
       "text": [
        "macro precision scores = [ 0.84611857  0.89403664  0.87983115  0.85461463],0.868650245313\n"
       ]
      },
      {
       "output_type": "stream",
       "stream": "stdout",
       "text": [
        "macro recall scores = [ 0.84111007  0.89284692  0.87630534  0.85225984],0.865630540461\n"
       ]
      },
      {
       "output_type": "stream",
       "stream": "stdout",
       "text": [
        "macro f1 scores = [ 0.84234271  0.89332077  0.87696789  0.852296  ],0.866231841871\n"
       ]
      },
      {
       "output_type": "stream",
       "stream": "stdout",
       "text": [
        "weighted average precision scores = [ 0.84971788  0.89542104  0.88292854  0.85751939],0.871396711658\n"
       ]
      },
      {
       "output_type": "stream",
       "stream": "stdout",
       "text": [
        "weighted average recall scores = [ 0.84971788  0.89542104  0.88292854  0.85751939],0.871396711658\n"
       ]
      },
      {
       "output_type": "stream",
       "stream": "stdout",
       "text": [
        "weighted f1 scores = [ 0.84851009  0.89526061  0.88160381  0.85508154],0.870114013876\n",
        "dimensionality: 102466"
       ]
      },
      {
       "output_type": "stream",
       "stream": "stdout",
       "text": [
        "\n",
        "density: 0.314679015478\n",
        "alt.atheism moral agenc,gregg,asimov,dogma,vice,cobb,charley,liar,motto,jon,batman,tammi,scout,wingat,islam,mathew,atheist,rushdi,atheism,keith\n",
        "comp.graphics targa,impuls,virtual realiti,sphere,hacker ethic,surfac,mpeg,raytrac,tiff,hacker,photoshop,fractal,polygon,viewer,rumour,imag,siggraph,pov,3d,graphic\n",
        "comp.os.ms-windows.misc driver,file,canon,filenam,swap file,dll,upload,workgroup,logo,risc,setup,win,ini,bmp,nt,ax,program manag,challeng,microsoft,window\n",
        "comp.sys.ibm.pc.hardware spec,floppi,monitor,jumper,amd,17,pc,interrupt,ide,gosh,irq,59,cmo,isa,vlb,trinitron,motherboard,bio,walli,gateway\n",
        "comp.sys.mac.hardware cyclon,dead mous,laserwrit,x86,iifx,floptic,24 hour,iici,68040,pb,adb,se,centri,iisi,quadra,duo,lc,powerbook,appl,mac\n",
        "comp.windows.x dpi,hypercard,christi,mit,sun,patch,client,colormap,default,display,subscrib,twm,escap,event,consortium,window manag,x11,widget,server,motif\n",
        "misc.forsale traci,repli,cod,condit,cd,airlin,buyer,interest,junk mail,pay,sne,summer,sell,thad,camera,ask,includ,ship,offer,sale\n",
        "rec.autos saab,honda,opel,vw,integra,toyota,diesel,callison,truck,v6,mustang,warn,shift,dealer,oil,ford,geico,automot,auto,car\n",
        "rec.motorcycles asphaug,piec,moto,robinson,ducati,infant,moa,yamaha,cage,dog,biker,kawasaki,harley,helmet,bmw,rider,ride,motorcycl,bike,dod\n",
        "rec.sport.baseball"
       ]
      },
      {
       "output_type": "stream",
       "stream": "stdout",
       "text": [
        " hitter,bat,marlin,hit,uniform,morri,sox,tiger,fenway,stadium,ball,dodger,pitch,brave,pitcher,giant,cub,yanke,philli,basebal\n",
        "rec.sport.hockey island,gerald,oiler,cup,pen,coach,wing,goal,puck,detroit,buffalo,leaf,penguin,espn,shark,goali,bruin,playoff,nhl,hockey\n",
        "sci.crypt random,trust,onc,tempest,rsa,privaci,key,den,secret,crypt,cipher,lobbi,pgp,wiretap,secur,cryptographi,crypto,encrypt,tap,clipper\n",
        "sci.electronics motorola,cool tower,eprom,led,explod,pcb,resistor,2600,dsp,rf,disk copi,spice,solvent,8051,ic,voltag,scope,electron,copi protect,circuit\n",
        "sci.med physician,antibiot,sauc,migrain,methodolog,exercis,health,patient,allerg,medicin,cancer,treatment,gordon bank,ear,med,msg,diseas,medic,doctor,photographi\n",
        "sci.space solar,lunar,fund,flight,dc,nasa,astronomi,satellit,mar,gamma ray,rocket,pat,spacecraft,planet,sky,launch,shuttl,orbit,moon,space\n",
        "soc.religion.christian fisher,moder,joe fisher,spiritu,hell,roman,ceremoni,prayer,sin,cathol,jame,easter,vers,christian,geneva,christ,church,daili,1993,rutger\n",
        "talk.politics.guns texa,gritz,ban,burn,militia,hunt,cnn,liberti,fbi,handgun,quisl,acronym,robi,dividian,weapon,waco,ranch,atf,firearm,gun\n",
        "talk.politics.mideast armenia,hama,zionism,hezbollah,elia,holocaust,occupi,jerusalem,beyer,jew,palestinian,argic,bosnian,adl,serdar,turkish,arab,armenian,isra,israel\n",
        "talk.politics.misc verdict,tax,percentag,ted frank,drug,liber,hostag,mail address,mow,sexual,employ,initi,polic state,hallam,theodor,gay,garrett,clayton,cramer,top ten\n",
        "talk.religion.misc"
       ]
      },
      {
       "output_type": "stream",
       "stream": "stdout",
       "text": [
        " biblic,weiss,tyre,malcolm lee,magick,mithra,abort,robert weiss,new age,rosicrucian,666,mormon,promis,sword,hudson,beast,new religion,brian,2000,burden\n",
        "ng20_raw_stems_bigrams_stopwords_df1_tf1 ^ wiki_wiktionary_google_bigrams_vw (extended unigrams) -->  precision  0.868650245313 recall  0.865630540461 f1  0.866231841871\n",
        "done!\n"
       ]
      }
     ],
     "prompt_number": 31
    }
   ],
   "metadata": {}
  }
 ]
}