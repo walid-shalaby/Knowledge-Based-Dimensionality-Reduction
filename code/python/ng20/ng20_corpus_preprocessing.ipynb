{
 "metadata": {
  "name": "",
  "signature": "sha256:62ea910623283b4fda3190fc2339f4021f689576fb7d6d9b4a87942acb4ab777"
 },
 "nbformat": 3,
 "nbformat_minor": 0,
 "worksheets": [
  {
   "cells": [
    {
     "cell_type": "heading",
     "level": 1,
     "metadata": {},
     "source": [
      "20ng Corpus Preprocessing"
     ]
    },
    {
     "cell_type": "heading",
     "level": 6,
     "metadata": {},
     "source": [
      "preprocess 20ng corpus by removing numbers and punctuation characters"
     ]
    },
    {
     "cell_type": "code",
     "collapsed": false,
     "input": [
      "def preprocess_corpus():\n",
      "    import sqlite3 as sqlitedb    \n",
      "    from ng20_globals import *\n",
      "    import re\n",
      "    import string\n",
      "\n",
      "    # load docs text from sqlite DB using only vocabulary_src as main field for vocabulary (e.g., title, body)\n",
      "    corpus = []\n",
      "    labels = []\n",
      "    #regexp1 = re.compile('(\\([ ]*[0-9][0-9a-z,.; ]*\\))')\n",
      "    #regexp2 = re.compile('(\\([ ]*[A-Za-z]\\))')\n",
      "    #regexp3 = re.compile(';gt&/>')\n",
      "    regexp4 = re.compile('[0-9]')\n",
      "    regexp5 = re.compile('[\\'\"_\\-*/\\^&><\\[\\]]')\n",
      "    docs_query = 'select id, data from ng20'\n",
      "    con = sqlitedb.connect(db_path)\n",
      "    with con:        \n",
      "        cur = con.execute(docs_query)\n",
      "        record = 1\n",
      "        while True:\n",
      "            doc = cur.fetchone()\n",
      "            if doc==None or doc[0]==None or doc[1]==None:\n",
      "                break\n",
      "            new_doc = []\n",
      "            new_doc.append(doc[0])\n",
      "            tmp = doc[1]\n",
      "            tmp = string.lower(tmp)\n",
      "            tmp = tmp.replace('\\n',' ')\n",
      "            tmp = tmp.replace('\\x0a','')\n",
      "            tmp = tmp.replace('\\x1d','')\n",
      "            tmp = tmp.replace('\\x1e','')\n",
      "            tmp = tmp.replace('\\x1f','')\n",
      "            #tmp = regexp1.sub('',tmp)\n",
      "            #tmp = regexp2.sub('',tmp)\n",
      "            #tmp = regexp3.sub('',tmp)\n",
      "            tmp = regexp4.sub('',tmp)\n",
      "            tmp = regexp5.sub(' ',tmp)\n",
      "            new_doc.append(tmp)\n",
      "            con.execute(u'update ng20 set data=\\'{0}\\' where id=\\'{1}\\''.format(new_doc[1],new_doc[0]))\n",
      "            if record%10000==0:\n",
      "                print 'processed ',record\n",
      "            record = record + 1"
     ],
     "language": "python",
     "metadata": {},
     "outputs": []
    },
    {
     "cell_type": "code",
     "collapsed": false,
     "input": [
      "preprocess_corpus()\n",
      "print 'done!'"
     ],
     "language": "python",
     "metadata": {},
     "outputs": []
    }
   ],
   "metadata": {}
  }
 ]
}