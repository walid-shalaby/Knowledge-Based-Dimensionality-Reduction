{
 "metadata": {
  "name": "",
  "signature": "sha256:f8936d6e447bb56c92162354b95d01833f9ca08173e9d1ea51c0b72dc3322b91"
 },
 "nbformat": 3,
 "nbformat_minor": 0,
 "worksheets": [
  {
   "cells": [
    {
     "cell_type": "heading",
     "level": 1,
     "metadata": {},
     "source": [
      "Crawl and Save 20ng data into sqlite DB"
     ]
    },
    {
     "cell_type": "code",
     "collapsed": false,
     "input": [
      "def stream_20ng_dataset(data_path=None):\n",
      "    import os.path\n",
      "    from sklearn.datasets import fetch_20newsgroups\n",
      "    \n",
      "    train = fetch_20newsgroups(data_home=data_path, subset='train')\n",
      "    test = fetch_20newsgroups(data_home=data_path, subset='test')\n",
      "    return train, test"
     ],
     "language": "python",
     "metadata": {},
     "outputs": [],
     "prompt_number": 13
    },
    {
     "cell_type": "code",
     "collapsed": false,
     "input": [
      "def stream_cleaned__shuffled_20ng_dataset(data_path=None):\n",
      "    import os.path\n",
      "    from sklearn.datasets import fetch_20newsgroups\n",
      "    remove = ('headers', 'footers', 'quotes')\n",
      "    #remove = ('footers', 'quotes')\n",
      "    #remove = ()\n",
      "    train = fetch_20newsgroups(data_home=data_path, subset='train', shuffle=True, remove=remove)\n",
      "    test = fetch_20newsgroups(data_home=data_path, subset='test', shuffle=True, remove=remove)\n",
      "    return train, test"
     ],
     "language": "python",
     "metadata": {},
     "outputs": [],
     "prompt_number": 14
    },
    {
     "cell_type": "code",
     "collapsed": false,
     "input": [
      "# Iterator over parsed Reuters SGML files and save in DB.\n",
      "from ng20_globals import *\n",
      "import sqlite3 as sqlite\n",
      "#train, test = stream_20ng_dataset('../../../data/ng20/data')\n",
      "train, test = stream_cleaned__shuffled_20ng_dataset('../../../data/ng20/data')\n",
      "con = sqlite.connect(db_path)\n",
      "with con:\n",
      "    con.execute('drop table if exists ng20')\n",
      "    con.execute('create table ng20 (id integer primary key, data text, topic_id integer, is_train integer)')\n",
      "    con.execute('drop table if exists ng20_topics')\n",
      "    con.execute('create table ng20_topics (id integer primary key, topic text)')\n",
      "    \n",
      "    # insert topics\n",
      "    for i in range(len(train.target_names)):\n",
      "        con.execute(u'insert into ng20_topics values({0},\\'{1}\\')'.format(i,train.target_names[i]))\n",
      "    \n",
      "    # insert train text\n",
      "    for i in range(len(train.data)):\n",
      "        con.execute(u'insert into ng20 values({0},lower(\\'{1}\\'),{2},{3})'.format(train.filenames[i][train.filenames[i].rfind('/')+1:]+str(train.target[i]),train.data[i].replace('\\'','\\'\\''),train.target[i],1))        \n",
      "\n",
      "    print 'done with ',len(train.data),'training records'\n",
      "    \n",
      "    # insert test text\n",
      "    for i in range(len(test.data)):\n",
      "        con.execute(u'insert into ng20 values({0},lower(\\'{1}\\'),{2},{3})'.format(test.filenames[i][test.filenames[i].rfind('/')+1:]+str(test.target[i]),test.data[i].replace('\\'','\\'\\''),test.target[i],0))\n",
      "        \n",
      "    print 'done with ',len(test.data),'testing records'"
     ],
     "language": "python",
     "metadata": {},
     "outputs": [
      {
       "output_type": "stream",
       "stream": "stdout",
       "text": [
        "done with  11314 training records\n",
        "done with "
       ]
      },
      {
       "output_type": "stream",
       "stream": "stdout",
       "text": [
        " 7532 testing records\n"
       ]
      }
     ],
     "prompt_number": 15
    },
    {
     "cell_type": "code",
     "collapsed": false,
     "input": [
      "#from ng20_globals import *\n",
      "#import sqlite3 as sqlite\n",
      "#import string\n",
      "#train, test = stream_20ng_dataset('../../../data/ng20/data')\n",
      "#print len(train.data)\n",
      "#print train.filenames[0]\n",
      "#print train.filenames[1]\n",
      "#print train.filenames[1][train.filenames[1].rfind('/')+1:]\n",
      "#print len(train.target)\n",
      "#print train.target[0]\n",
      "#print train.target_names[train.target[0]]\n",
      "#print list(train.target_names)\n",
      "#print train.filenames[0][train.filenames[0].rfind('/')+1:]\n",
      "#print train.filenames[0][train.filenames[0].rfind('/')+1:]+str(train.target[0])\n",
      "#for i in range(0,10):\n",
      "#    print train.filenames[i][train.filenames[i].rfind('/')+1:]+str(train.target[i])\n",
      "#    print train.data[i]\n",
      "#    print train.target[i]\n",
      "#    print train.target_names[train.target[i]]"
     ],
     "language": "python",
     "metadata": {},
     "outputs": [],
     "prompt_number": 16
    },
    {
     "cell_type": "code",
     "collapsed": false,
     "input": [],
     "language": "python",
     "metadata": {},
     "outputs": [],
     "prompt_number": 16
    }
   ],
   "metadata": {}
  }
 ]
}