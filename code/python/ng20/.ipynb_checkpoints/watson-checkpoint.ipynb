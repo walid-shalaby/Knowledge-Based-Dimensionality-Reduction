{
 "metadata": {
  "name": "",
  "signature": "sha256:f60e2c8c866c26077e3d5a57c1f70ddaefbd735d9251194240eb98e3fc0f974d"
 },
 "nbformat": 3,
 "nbformat_minor": 0,
 "worksheets": [
  {
   "cells": [
    {
     "cell_type": "code",
     "collapsed": false,
     "input": [
      "import arff, numpy as np\n",
      "dataset = arff.load(open('/home/wshalaby/work/phd-courses/watson/data/weka-log.28Nov2014-random-training.arff', 'rb'))\n",
      "data = np.array(dataset.data)"
     ],
     "language": "python",
     "metadata": {},
     "outputs": []
    },
    {
     "cell_type": "code",
     "collapsed": false,
     "input": [
      "from scipy.io.arff import loadarff\n",
      "train = loadarff('/home/wshalaby/work/phd-courses/watson/data/weka-log.28Nov2014-random-training.arff')\n",
      "labels = loadarff('/home/wshalaby/work/phd-courses/watson/data/weka-log.28Nov2014-random-training_label.arff')"
     ],
     "language": "python",
     "metadata": {},
     "outputs": []
    },
    {
     "cell_type": "code",
     "collapsed": false,
     "input": [
      "import numpy as np\n",
      "X = np.array(train[0][0:])\n",
      "Y = np.array(labels[0][0:])"
     ],
     "language": "python",
     "metadata": {},
     "outputs": []
    },
    {
     "cell_type": "code",
     "collapsed": false,
     "input": [
      "y = [0]*len(Y)\n",
      "for i in range(len(Y)):\n",
      "    y[i] = int(Y[i][0])"
     ],
     "language": "python",
     "metadata": {},
     "outputs": []
    },
    {
     "cell_type": "code",
     "collapsed": false,
     "input": [
      "from sklearn.svm import LinearSVC\n",
      "from sklearn.cross_validation import cross_val_score\n",
      "cls = LinearSVC()\n",
      "scores = cross_val_score(cls,X,y,cv=10)\n",
      "print scores"
     ],
     "language": "python",
     "metadata": {},
     "outputs": []
    },
    {
     "cell_type": "code",
     "collapsed": false,
     "input": [
      "path = '/home/wshalaby/work/phd-courses/watson/data/data.svm'\n",
      "# path = '/home/wshalaby/work/phd-courses/watson/data/data_plus1.svm'\n",
      "# path = '/media/wshalaby/b667e28e-5e90-4884-8810-5d897c9e56ce/work/watson/data/data.svm'\n",
      "# path = '/media/wshalaby/b667e28e-5e90-4884-8810-5d897c9e56ce/work/watson/data/data_plus1.svm'\n",
      "target_names = ['incorrect', 'correct']"
     ],
     "language": "python",
     "metadata": {},
     "outputs": [],
     "prompt_number": 141
    },
    {
     "cell_type": "code",
     "collapsed": false,
     "input": [
      "from sklearn.datasets import load_svmlight_file\n",
      "data = load_svmlight_file(path)\n",
      "X = data[0]\n",
      "y = data[1]\n",
      "print 'correct: ', len(np.where(y==1)[0])\n",
      "print 'incorrect: ', len(np.where(y==2)[0])\n",
      "print 'total: ', len(y)"
     ],
     "language": "python",
     "metadata": {},
     "outputs": [
      {
       "output_type": "stream",
       "stream": "stdout",
       "text": [
        "correct:  76532\n",
        "incorrect:  528\n",
        "total:  77060\n"
       ]
      }
     ],
     "prompt_number": 143
    },
    {
     "cell_type": "code",
     "collapsed": false,
     "input": [
      "from sklearn.svm import LinearSVC\n",
      "from sklearn.cross_validation import cross_val_score\n",
      "cls = LinearSVC()\n",
      "scores = cross_val_score(cls,X,y,cv=10)\n",
      "print scores"
     ],
     "language": "python",
     "metadata": {},
     "outputs": []
    },
    {
     "cell_type": "code",
     "collapsed": false,
     "input": [
      "from sklearn.linear_model import LogisticRegression\n",
      "from sklearn.cross_validation import cross_val_score\n",
      "cls = LogisticRegression()\n",
      "cls.fit(X,y)\n",
      "print classification_report(y,cls.predict(X),target_names=target_names)\n",
      "print confusion_matrix(y,cls.predict(X))"
     ],
     "language": "python",
     "metadata": {},
     "outputs": [
      {
       "output_type": "stream",
       "stream": "stdout",
       "text": [
        "             precision    recall  f1-score   support\n",
        "\n",
        "  incorrect       0.99      1.00      1.00     76532\n",
        "    correct       0.50      0.05      0.10       528\n",
        "\n",
        "avg / total       0.99      0.99      0.99     77060\n",
        "\n",
        "[[76503    29]\n",
        " [  499    29]]"
       ]
      },
      {
       "output_type": "stream",
       "stream": "stdout",
       "text": [
        "\n"
       ]
      }
     ],
     "prompt_number": 138
    },
    {
     "cell_type": "code",
     "collapsed": false,
     "input": [
      "from sklearn.svm import LinearSVC\n",
      "from sklearn.metrics import classification_report\n",
      "from sklearn.metrics import confusion_matrix\n",
      "cls = LinearSVC()\n",
      "cls.fit(X,y)\n",
      "print classification_report(y,cls.predict(X),target_names=target_names)\n",
      "print confusion_matrix(y,cls.predict(X))"
     ],
     "language": "python",
     "metadata": {},
     "outputs": [
      {
       "output_type": "stream",
       "stream": "stdout",
       "text": [
        "             precision    recall  f1-score   support\n",
        "\n",
        "  incorrect       0.99      0.99      0.99     76532\n",
        "    correct       0.02      0.03      0.02       528\n",
        "\n",
        "avg / total       0.99      0.98      0.99     77060\n",
        "\n",
        "[[75839   693]\n",
        " [  514    14]]"
       ]
      },
      {
       "output_type": "stream",
       "stream": "stdout",
       "text": [
        "\n"
       ]
      }
     ],
     "prompt_number": 139
    },
    {
     "cell_type": "code",
     "collapsed": false,
     "input": [
      "from sklearn.svm import SVC\n",
      "from sklearn.metrics import classification_report\n",
      "from sklearn.metrics import confusion_matrix\n",
      "cls = SVC()\n",
      "cls.fit(X,y)\n",
      "print classification_report(y,cls.predict(X),target_names=target_names)\n",
      "print confusion_matrix(y,cls.predict(X))"
     ],
     "language": "python",
     "metadata": {},
     "outputs": []
    }
   ],
   "metadata": {}
  }
 ]
}