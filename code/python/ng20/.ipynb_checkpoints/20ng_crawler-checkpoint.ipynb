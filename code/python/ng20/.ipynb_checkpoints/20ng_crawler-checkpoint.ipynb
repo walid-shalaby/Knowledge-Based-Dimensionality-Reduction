{
 "metadata": {
  "name": "",
  "signature": "sha256:3515c0f89edc5d7a19109d0a42a6a31faad65094f4ddd219e65e86d735baf1e8"
 },
 "nbformat": 3,
 "nbformat_minor": 0,
 "worksheets": [
  {
   "cells": [
    {
     "cell_type": "heading",
     "level": 1,
     "metadata": {},
     "source": [
      "Crawl and Save 20ng data into sqlite DB"
     ]
    },
    {
     "cell_type": "code",
     "collapsed": false,
     "input": [
      "import os.path\n",
      "def stream_20ng_dataset(data_path=None):\n",
      "    from sklearn.datasets import fetch_20newsgroups\n",
      "    \n",
      "    train = fetch_20newsgroups(data_home=data_path, subset='train')\n",
      "    test = fetch_20newsgroups(data_home=data_path, subset='test')\n",
      "    return train, test"
     ],
     "language": "python",
     "metadata": {},
     "outputs": [],
     "prompt_number": 22
    },
    {
     "cell_type": "code",
     "collapsed": false,
     "input": [
      "# from ng20_globals import *\n",
      "import sqlite3 as sqlite\n",
      "train, test = stream_20ng_dataset('../../../data/20ng/data')\n"
     ],
     "language": "python",
     "metadata": {},
     "outputs": [
      {
       "output_type": "stream",
       "stream": "stdout",
       "text": [
        "(11314,)\n"
       ]
      }
     ],
     "prompt_number": 25
    },
    {
     "cell_type": "code",
     "collapsed": false,
     "input": [
      "# Iterator over parsed Reuters SGML files and save in DB.\n",
      "from ng20_globals import *\n",
      "import sqlite3 as sqlite\n",
      "train, test = stream_20ng_dataset('../../../data/20ng/data')\n",
      "print train\n",
      "con = sqlite.connect(db_path)\n",
      "with con:\n",
      "    con.execute('drop table if exists reuters21578')\n",
      "    con.execute('create table reuters21578 (id integer, title text, body text, is_train integer)')\n",
      "    con.execute('drop table if exists reuters21578_topics')\n",
      "    con.execute('create table reuters21578_topics (id integer unique, topic text)')\n",
      "    con.execute('drop table if exists reuters21578_topics_join')\n",
      "    con.execute('create table reuters21578_topics_join (doc_id integer, topic_id integer)')    \n",
      "    record_no = 0\n",
      "    topic_no = 0\n",
      "    topic_dic = dict()\n",
      "    for record in data_stream:\n",
      "        record_no = record_no + 1        \n",
      "        con.execute(u'insert into reuters21578 values(\"{0}\",lower(\"{1}\"),lower(\"{2}\"),{3})'.format(record_no,record['title'].replace('\"','\\''),record['body'].replace('\"','\\''),record['is_train']))\n",
      "        if len(record['topics'])==0:\n",
      "            topics = ''\n",
      "        else:\n",
      "            for i in range(len(record['topics'])):\n",
      "                if topic_dic.has_key(record['topics'][i])==False:\n",
      "                    topic_no = topic_no + 1\n",
      "                    con.execute('insert into reuters21578_topics values(\"{0}\",lower(\"{1}\"))'.format(topic_no,record['topics'][i]))\n",
      "                    topic_dic[record['topics'][i]] = topic_no\n",
      "                    topic_id = topic_no\n",
      "                else:\n",
      "                    topic_id = topic_dic[record['topics'][i]]\n",
      "                con.execute('insert into reuters21578_topics_join values(\"{0}\",\"{1}\")'.format(record_no,topic_id))\n",
      "print('done with ',record_no,'records')"
     ],
     "language": "python",
     "metadata": {},
     "outputs": [
      {
       "output_type": "stream",
       "stream": "stdout",
       "text": [
        "done with  12902 records\n"
       ]
      }
     ],
     "prompt_number": 2
    },
    {
     "cell_type": "code",
     "collapsed": false,
     "input": [],
     "language": "python",
     "metadata": {},
     "outputs": [],
     "prompt_number": 2
    },
    {
     "cell_type": "code",
     "collapsed": false,
     "input": [],
     "language": "python",
     "metadata": {},
     "outputs": [],
     "prompt_number": 2
    }
   ],
   "metadata": {}
  }
 ]
}