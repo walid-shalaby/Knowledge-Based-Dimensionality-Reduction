{
 "metadata": {
  "name": "",
  "signature": "sha256:19bf2e36c82d6fb30324474a2265d462f08ab691c0163012babf69c3ba6bbfc6"
 },
 "nbformat": 3,
 "nbformat_minor": 0,
 "worksheets": [
  {
   "cells": [
    {
     "cell_type": "heading",
     "level": 1,
     "metadata": {},
     "source": [
      "20ng Vocabulary Loader"
     ]
    },
    {
     "cell_type": "heading",
     "level": 6,
     "metadata": {},
     "source": [
      "Load 20ng docs vocabulary from DB table"
     ]
    },
    {
     "cell_type": "code",
     "collapsed": false,
     "input": [
      "def load_vocabulary(tbl_name):\n",
      "    import sqlite3 as sqlitedb\n",
      "    from ng20_globals import *\n",
      "\n",
      "    tbl_name = tbl_name.replace('.','_')\n",
      "    \n",
      "    # load vocabulary from sqlite DB\n",
      "    vocabulary = []\n",
      "    stmt = 'select term from {0}'.format(tbl_name)\n",
      "    con = sqlitedb.connect(db_path)\n",
      "    with con:\n",
      "        cur = con.execute(stmt)\n",
      "        while True:\n",
      "            term = cur.fetchone()\n",
      "            if term==None or term[0]==None:\n",
      "                break\n",
      "            # retrieve docs text\n",
      "            vocabulary.append(term[0])\n",
      "\n",
      "    print 'loaded ({0}) terms'.format(len(vocabulary))\n",
      "    return vocabulary"
     ],
     "language": "python",
     "metadata": {},
     "outputs": [],
     "prompt_number": 741
    },
    {
     "cell_type": "code",
     "collapsed": false,
     "input": [
      "# load all unigrams from tbl_name_full1 and only bigrams existing in both tbl_name_full2&tbl_name_intersect\n",
      "def load_common_vocabulary(tbl_name_full1,tbl_name_full2,tbl_name_intersect,stem_or_lemma):\n",
      "    import sqlite3 as sqlitedb\n",
      "    from ng20_globals import *\n",
      "\n",
      "    tbl_name_full1 = tbl_name_full1.replace('.','_')\n",
      "    tbl_name_full2 = tbl_name_full2.replace('.','_')\n",
      "    \n",
      "    # load vocabulary from sqlite DB\n",
      "    vocabulary = []\n",
      "    stmt = 'select term from {0} union select {1} from {2},{3} where {1}=term union select bigram from {2},{3} where bigram=term'.format(tbl_name_full1,stem_or_lemma,tbl_name_full2,tbl_name_intersect)\n",
      "    con = sqlitedb.connect(db_path)\n",
      "    with con:\n",
      "        cur = con.execute(stmt)\n",
      "        while True:\n",
      "            term = cur.fetchone()\n",
      "            if term==None or term[0]==None:\n",
      "                break\n",
      "            # retrieve docs text\n",
      "            vocabulary.append(term[0])\n",
      "\n",
      "    print 'loaded ({0}) terms'.format(len(vocabulary))\n",
      "    return vocabulary"
     ],
     "language": "python",
     "metadata": {},
     "outputs": [],
     "prompt_number": 743
    },
    {
     "cell_type": "code",
     "collapsed": false,
     "input": [
      "# load only bigrams existing in both tbl_name_full1&tbl_name_intersect and extend the vocabulary with unigrams of common bigrams\n",
      "def load_common_vocabulary_extend_unigrams(tbl_name_full,tbl_name_intersect,stem_or_lemma):\n",
      "    import sqlite3 as sqlitedb\n",
      "    from ng20_globals import *\n",
      "\n",
      "    tbl_name_full = tbl_name_full.replace('.','_')\n",
      "    \n",
      "    # load vocabulary from sqlite DB\n",
      "    vocabulary = []\n",
      "    stmt = 'select {0} from {1},{2} where {0}=term union select bigram from {1},{2} where bigram=term'.format(stem_or_lemma,tbl_name_full,tbl_name_intersect)\n",
      "    con = sqlitedb.connect(db_path)\n",
      "    with con:\n",
      "        cur = con.execute(stmt)\n",
      "        while True:\n",
      "            term = cur.fetchone()\n",
      "            if term==None or term[0]==None:\n",
      "                break\n",
      "            # retrieve patent text\n",
      "            vocabulary.append(term[0])\n",
      "\n",
      "    print 'loaded ({0}) terms'.format(len(vocabulary))\n",
      "    dic = {}\n",
      "    count = len(vocabulary)    \n",
      "    for i in range(count):\n",
      "        u1,u2 = vocabulary[i].split(' ')\n",
      "        if dic.has_key(u1)==False:\n",
      "            vocabulary.append(u1)\n",
      "            dic[u1] = ''\n",
      "        if dic.has_key(u2)==False:\n",
      "            vocabulary.append(u2)\n",
      "            dic[u2] = ''\n",
      "    print 'extended to ({0}) terms'.format(len(vocabulary))\n",
      "    return vocabulary"
     ],
     "language": "python",
     "metadata": {},
     "outputs": []
    }
   ],
   "metadata": {}
  }
 ]
}