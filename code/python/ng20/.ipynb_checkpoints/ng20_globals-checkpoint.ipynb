{
 "metadata": {
  "name": "",
  "signature": "sha256:c149a04364b93bdaea3edc4cbc0acfe63a35908332e88b26aa9cb9fb91330472"
 },
 "nbformat": 3,
 "nbformat_minor": 0,
 "worksheets": [
  {
   "cells": [
    {
     "cell_type": "heading",
     "level": 1,
     "metadata": {},
     "source": [
      "20ng global definitions"
     ]
    },
    {
     "cell_type": "code",
     "collapsed": false,
     "input": [
      "from sets import Set\n",
      "max_labels = 1 # use only top 1 probabilities labels as maximum labels per doc is 1\n",
      "min_df = 1\n",
      "max_df = 1.0\n",
      "min_tf = 1\n",
      "#test_set_size = 0.20\n",
      "#max_chi_square_terms = 10000\n",
      "db_path = '../../../data/ng20/ng20.db'\n",
      "train_or_test_values = Set(['train','test','both'])\n",
      "vocabulary_src_values = Set(['all','title','body'])"
     ],
     "language": "python",
     "metadata": {},
     "outputs": []
    }
   ],
   "metadata": {}
  }
 ]
}