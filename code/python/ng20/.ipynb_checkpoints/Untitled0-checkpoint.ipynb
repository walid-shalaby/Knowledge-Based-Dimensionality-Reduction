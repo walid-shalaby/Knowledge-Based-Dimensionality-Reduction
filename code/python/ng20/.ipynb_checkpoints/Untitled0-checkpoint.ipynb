{
 "metadata": {
  "name": "",
  "signature": "sha256:f9c1e9de5736c099a93177d747dbd15387ba5b1ddbbcccfc547482e3ffa0e180"
 },
 "nbformat": 3,
 "nbformat_minor": 0,
 "worksheets": [
  {
   "cells": [
    {
     "cell_type": "code",
     "collapsed": false,
     "input": [
      "from twenty_newsgroups import fetch_20newsgroups\n",
      "data = fetch_20newsgroups(dataset='preprocessed', data_home='../../../data/ng20/data', subset='train', shuffle=True, remove=())\n",
      "i = list()\n",
      "j = list()\n",
      "for t in data.data:\n",
      "    i.extend(1 for l in t.split('\\n') if l.find('From:')==0)\n",
      "    j.extend(1 for l in t.split('\\n') if l.find('Subject:')==0)\n",
      "print sum(i),sum(j),len(data.data)"
     ],
     "language": "python",
     "metadata": {},
     "outputs": [
      {
       "output_type": "stream",
       "stream": "stdout",
       "text": [
        "18977 19221 18828\n"
       ]
      }
     ],
     "prompt_number": 4
    },
    {
     "cell_type": "code",
     "collapsed": false,
     "input": [
      "from twenty_newsgroups import fetch_20newsgroups_vectorized\n",
      "data = fetch_20newsgroups_vectorized(dataset='bydate', data_home='../../../data/ng20/data', subset='all')\n",
      "print data.data.shape\n",
      "\n",
      "data = fetch_20newsgroups_vectorized(dataset='original', data_home='../../../data/ng20/data')\n",
      "print data.data.shape\n",
      "\n",
      "data = fetch_20newsgroups_vectorized(dataset='preprocessed', data_home='../../../data/ng20/data')\n",
      "print data.data.shape"
     ],
     "language": "python",
     "metadata": {},
     "outputs": [
      {
       "output_type": "stream",
       "stream": "stdout",
       "text": [
        "(18846, 130107)\n",
        "(19997, 209403)"
       ]
      },
      {
       "output_type": "stream",
       "stream": "stdout",
       "text": [
        "\n",
        "(18828, 170781)"
       ]
      },
      {
       "output_type": "stream",
       "stream": "stdout",
       "text": [
        "\n"
       ]
      }
     ],
     "prompt_number": 2
    },
    {
     "cell_type": "code",
     "collapsed": false,
     "input": [
      "print(__doc__)\n",
      "\n",
      "from sklearn.svm import SVC\n",
      "from sklearn.linear_model import SGDClassifier\n",
      "from sklearn.linear_model import LogisticRegression\n",
      "from sklearn.cross_validation import StratifiedKFold\n",
      "from sklearn.feature_selection import RFECV\n",
      "from sklearn.datasets import make_classification\n",
      "\n",
      "# Build a classification task using 3 informative features\n",
      "X, y = make_classification(n_samples=1000, n_features=25, n_informative=3,\n",
      "                           n_redundant=2, n_repeated=0, n_classes=8,\n",
      "                           n_clusters_per_class=1, random_state=0)\n",
      "\n",
      "# Create the RFE object and compute a cross-validated score.\n",
      "clss = [SVC(kernel=\"linear\"),SGDClassifier(),LogisticRegression()]\n",
      "for cls in clss:\n",
      "    # The \"accuracy\" scoring is proportional to the number of correct\n",
      "    # classifications\n",
      "    rfecv = RFECV(estimator=cls, step=1, cv=StratifiedKFold(y, 2),\n",
      "                  scoring='accuracy')\n",
      "    rfecv.fit(X, y)\n",
      "\n",
      "    print cls\n",
      "    print(\"Optimal number of features : %d\" % rfecv.n_features_)\n",
      "    print(\"number of subsets considered : %d\" % len(rfecv.grid_scores_))\n",
      "    # Plot number of features VS. cross-validation scores\n",
      "    import matplotlib.pyplot as plt\n",
      "    plt.figure()\n",
      "    plt.xlabel(\"Number of features selected\")\n",
      "    plt.ylabel(\"Cross validation score (nb of correct classifications)\")\n",
      "    plt.plot(range(1, len(rfecv.grid_scores_) + 1), rfecv.grid_scores_)\n",
      "    plt.show()"
     ],
     "language": "python",
     "metadata": {},
     "outputs": [
      {
       "output_type": "stream",
       "stream": "stdout",
       "text": [
        "Automatically created module for IPython interactive environment\n",
        "SVC(C=1.0, cache_size=200, class_weight=None, coef0=0.0, degree=3, gamma=0.0,\n",
        "  kernel='linear', max_iter=-1, probability=False, random_state=None,\n",
        "  shrinking=True, tol=0.001, verbose=False)"
       ]
      },
      {
       "output_type": "stream",
       "stream": "stdout",
       "text": [
        "\n",
        "Optimal number of features : 3\n",
        "number of subsets considered : 25\n",
        "SGDClassifier(alpha=0.0001, class_weight=None, epsilon=0.1, eta0=0.0,\n",
        "       fit_intercept=True, l1_ratio=0.15, learning_rate='optimal',\n",
        "       loss='hinge', n_iter=5, n_jobs=1, penalty='l2', power_t=0.5,\n",
        "       random_state=None, shuffle=False, verbose=0, warm_start=False)"
       ]
      },
      {
       "output_type": "stream",
       "stream": "stdout",
       "text": [
        "\n",
        "Optimal number of features : 19\n",
        "number of subsets considered : 25\n",
        "LogisticRegression(C=1.0, class_weight=None, dual=False, fit_intercept=True,\n",
        "          intercept_scaling=1, penalty='l2', random_state=None, tol=0.0001)"
       ]
      },
      {
       "output_type": "stream",
       "stream": "stdout",
       "text": [
        "\n",
        "Optimal number of features : 3\n",
        "number of subsets considered : 25\n"
       ]
      }
     ],
     "prompt_number": 6
    },
    {
     "cell_type": "code",
     "collapsed": false,
     "input": [
      "import numpy\n",
      "x = numpy.array([[1,2,3]])\n",
      "y = numpy.array([[4,5,6],[7,8,9]])\n",
      "z = numpy.append(x,y,axis=0)\n",
      "print z\n",
      "print z.shape\n",
      "z = numpy.concatenate((x,y),axis=0)\n",
      "print z\n",
      "print z.shape"
     ],
     "language": "python",
     "metadata": {},
     "outputs": [
      {
       "output_type": "stream",
       "stream": "stdout",
       "text": [
        "[[1 2 3]\n",
        " [4 5 6]\n",
        " [7 8 9]]\n",
        "(3, 3)\n",
        "[[1 2 3]\n",
        " [4 5 6]\n",
        " [7 8 9]]\n",
        "(3, 3)\n"
       ]
      }
     ],
     "prompt_number": 17
    },
    {
     "cell_type": "code",
     "collapsed": false,
     "input": [
      "s=['abc','d']\n",
      "for i in range(len(s)-1):\n",
      "    print i+1\n",
      "\n",
      "print len(s)"
     ],
     "language": "python",
     "metadata": {},
     "outputs": [
      {
       "output_type": "stream",
       "stream": "stdout",
       "text": [
        "1\n",
        "2\n"
       ]
      }
     ],
     "prompt_number": 11
    },
    {
     "cell_type": "code",
     "collapsed": false,
     "input": [
      "import numpy as np\n",
      "x = [0]*3+[2]*3\n",
      "print x\n",
      "print np.nonzero(x)[0][0]"
     ],
     "language": "python",
     "metadata": {},
     "outputs": []
    },
    {
     "cell_type": "code",
     "collapsed": false,
     "input": [
      "x = 1.42353223234\n",
      "print x\n",
      "print \"{0:.3f}\".format(x)"
     ],
     "language": "python",
     "metadata": {},
     "outputs": [
      {
       "output_type": "stream",
       "stream": "stdout",
       "text": [
        "1.42353223234\n",
        "1.424\n"
       ]
      }
     ],
     "prompt_number": 2
    },
    {
     "cell_type": "code",
     "collapsed": false,
     "input": [],
     "language": "python",
     "metadata": {},
     "outputs": []
    }
   ],
   "metadata": {}
  }
 ]
}