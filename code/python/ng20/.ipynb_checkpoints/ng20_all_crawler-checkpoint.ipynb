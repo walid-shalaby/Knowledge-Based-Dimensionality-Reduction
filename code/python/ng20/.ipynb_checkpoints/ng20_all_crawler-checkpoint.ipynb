{
 "metadata": {
  "name": "",
  "signature": "sha256:f13257c313e056949b3611d2fcb648a2370380154dd3c8a18d536c6af1f88e90"
 },
 "nbformat": 3,
 "nbformat_minor": 0,
 "worksheets": [
  {
   "cells": [
    {
     "cell_type": "heading",
     "level": 1,
     "metadata": {},
     "source": [
      "Crawl and Save different versions of 20ng data into sqlite DB"
     ]
    },
    {
     "cell_type": "code",
     "collapsed": false,
     "input": [
      "def stream_cleaned__shuffled_20ng_dataset(dataset, data_path=None, remove=()):\n",
      "    from twenty_newsgroups import fetch_20newsgroups\n",
      "    return fetch_20newsgroups(dataset=dataset, data_home=data_path, shuffle=True, remove=remove)"
     ],
     "language": "python",
     "metadata": {},
     "outputs": []
    },
    {
     "cell_type": "code",
     "collapsed": false,
     "input": [
      "# Iterator over parsed Reuters SGML files and save in DB.\n",
      "from ng20_globals import *\n",
      "import sqlite3 as sqlite\n",
      "data = stream_cleaned__shuffled_20ng_dataset(dataset='preprocessed',data_path='../../../data/ng20/data',remove='from')\n",
      "con = sqlite.connect(db_path)\n",
      "with con:\n",
      "    con.execute('drop table if exists ng20')\n",
      "    con.execute('create table ng20 (id integer primary key, data text, topic_id integer, is_train integer)')\n",
      "    con.execute('drop table if exists ng20_topics')\n",
      "    con.execute('create table ng20_topics (id integer primary key, topic text)')\n",
      "    \n",
      "    # insert topics\n",
      "    for i in range(len(data.target_names)):\n",
      "        con.execute(u'insert into ng20_topics values({0},\\'{1}\\')'.format(i,data.target_names[i]))\n",
      "    \n",
      "    # insert text\n",
      "    for i in range(len(data.data)):\n",
      "        con.execute(u'insert into ng20 values({0},lower(\\'{1}\\'),{2},{3})'.format(data.filenames[i][data.filenames[i].rfind('/')+1:]+str(data.target[i]),data.data[i].replace('\\'','\\'\\''),data.target[i],1)) \n",
      "\n",
      "    print 'done with ',len(data.data),' records'"
     ],
     "language": "python",
     "metadata": {},
     "outputs": []
    }
   ],
   "metadata": {}
  }
 ]
}