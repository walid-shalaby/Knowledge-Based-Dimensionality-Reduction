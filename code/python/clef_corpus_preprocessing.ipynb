{
 "metadata": {
  "name": "",
  "signature": "sha256:ddeae0b874d5ecd936ccd1acb83f6f7cc34bcc7756c358e09ba04bb68ebf82c0"
 },
 "nbformat": 3,
 "nbformat_minor": 0,
 "worksheets": [
  {
   "cells": [
    {
     "cell_type": "heading",
     "level": 1,
     "metadata": {},
     "source": [
      "CLEF-IP2010 Corpus Preprocessing"
     ]
    },
    {
     "cell_type": "heading",
     "level": 6,
     "metadata": {},
     "source": [
      "preprocess clef-ip2010 patents corpus by removing numbers and punctuation characters"
     ]
    },
    {
     "cell_type": "code",
     "collapsed": false,
     "input": [
      "def preprocess_corpus():\n",
      "    import sqlite3 as sqlitedb    \n",
      "    from clef_globals import *\n",
      "    import re\n",
      "\n",
      "    # load patents text from sqlite DB using only vocabulary_src as main field for vocabulary (e.g., abstract, description, claims...)\n",
      "    corpus = []\n",
      "    labels = []\n",
      "    regexp1 = re.compile('(\\([ ]*[0-9][0-9a-z,.; ]*\\))')\n",
      "    regexp2 = re.compile('(\\([ ]*[A-Za-z]\\))')\n",
      "    regexp3 = re.compile(';gt&/>')\n",
      "    regexp4 = re.compile('[0-9]')\n",
      "    regexp5 = re.compile('[\\'\"_\\-*/\\^&]')\n",
      "    patents_query = 'select id, title, abstract, description, claims from patents'\n",
      "    con = sqlitedb.connect(db_path)\n",
      "    with con:        \n",
      "        cur = con.execute(patents_query)\n",
      "        record = 1\n",
      "        while True:\n",
      "            patent = cur.fetchone()\n",
      "            if patent==None or patent[0]==None or patent[1]==None or patent[2]==None or patent[3]==None or patent[4]==None:\n",
      "                break\n",
      "            new_patent = []\n",
      "            new_patent.append(patent[0])\n",
      "            for i in range(1,5):\n",
      "                tmp = patent[i]\n",
      "                tmp = lower(tmp)\n",
      "                tmp = tmp.replace('\\n',' ')\n",
      "                tmp = tmp.replace('\\x0a','')\n",
      "                tmp = tmp.replace('\\x1d','')\n",
      "                tmp = tmp.replace('\\x1e','')\n",
      "                tmp = tmp.replace('\\x1f','')\n",
      "                tmp = regexp1.sub('',tmp)\n",
      "                tmp = regexp2.sub('',tmp)\n",
      "                tmp = regexp3.sub('',tmp)\n",
      "                tmp = regexp4.sub('',tmp)\n",
      "                tmp = regexp5.sub(' ',tmp)\n",
      "                new_patent.append(tmp)\n",
      "            con.execute(u'update patents set title=\\'{0}\\',abstract=\\'{1}\\',description=\\'{2}\\',claims=\\'{3}\\' where id=\\'{4}\\''.format(new_patent[1],new_patent[2],new_patent[3],new_patent[4],new_patent[0]))    \n",
      "            if record%10000==0:\n",
      "                print 'processed ',record\n",
      "            record = record + 1"
     ],
     "language": "python",
     "metadata": {},
     "outputs": []
    },
    {
     "cell_type": "code",
     "collapsed": false,
     "input": [
      "preprocess_corpus()\n",
      "print 'done!'"
     ],
     "language": "python",
     "metadata": {},
     "outputs": []
    },
    {
     "cell_type": "code",
     "collapsed": false,
     "input": [
      "import re\n",
      "reg = re.compile('[0-9\\'\"\\n]')\n",
      "str = '3.hey\\'12-l\\n\"yo_u'\n",
      "print str\n",
      "print reg.sub('',str)\n",
      "print str.replace('\\n','')"
     ],
     "language": "python",
     "metadata": {},
     "outputs": [
      {
       "output_type": "stream",
       "stream": "stdout",
       "text": [
        "3.hey'12-l\n",
        "\"yo_u/x1e\n",
        ".hey-lyo_u/xe\n",
        "3.hey'12-l\"yo_u/x1e\n"
       ]
      }
     ],
     "prompt_number": 118
    },
    {
     "cell_type": "code",
     "collapsed": false,
     "input": [
      "import re\n",
      "regexp1 = re.compile('(\\([ ]*[0-9][0-9a-z,.; ]*\\))')\n",
      "regexp2 = re.compile('(\\([ ]*[A-Za-z]\\))')\n",
      "regexp3 = re.compile(';gt&/>')\n",
      "regexp4 = re.compile('[0-9]')\n",
      "regexp5 = re.compile('[\\'\"_\\-*/\\^&]')\n",
      "str = 'this i^&s a \\'/(t) remove'\n",
      "print regexp5.sub(' ',str)\n",
      "str = str.replace('this','')\n",
      "print str"
     ],
     "language": "python",
     "metadata": {},
     "outputs": [
      {
       "output_type": "stream",
       "stream": "stdout",
       "text": [
        "this i  s a   (t) remove\n",
        " i^&s a '/(t) remove\n"
       ]
      }
     ],
     "prompt_number": 112
    },
    {
     "cell_type": "code",
     "collapsed": false,
     "input": [
      "a = 100\n",
      "print a%10"
     ],
     "language": "python",
     "metadata": {},
     "outputs": [
      {
       "output_type": "stream",
       "stream": "stdout",
       "text": [
        "0\n"
       ]
      }
     ],
     "prompt_number": 101
    },
    {
     "cell_type": "code",
     "collapsed": false,
     "input": [
      "a = 'A'\n",
      "print a.lower()"
     ],
     "language": "python",
     "metadata": {},
     "outputs": [
      {
       "output_type": "stream",
       "stream": "stdout",
       "text": [
        "a\n"
       ]
      }
     ],
     "prompt_number": 102
    },
    {
     "cell_type": "code",
     "collapsed": false,
     "input": [],
     "language": "python",
     "metadata": {},
     "outputs": []
    }
   ],
   "metadata": {}
  }
 ]
}