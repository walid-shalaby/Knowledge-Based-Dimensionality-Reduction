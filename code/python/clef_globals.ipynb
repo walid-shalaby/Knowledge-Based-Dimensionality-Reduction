{
 "metadata": {
  "name": "",
  "signature": "sha256:e9b4c44ac80c9ed7d877d1d99197f800bc1037d212a68d18ee8b35490cd631fb"
 },
 "nbformat": 3,
 "nbformat_minor": 0,
 "worksheets": [
  {
   "cells": [
    {
     "cell_type": "heading",
     "level": 1,
     "metadata": {},
     "source": [
      "CLEF-IP2010 global definitions"
     ]
    },
    {
     "cell_type": "code",
     "collapsed": false,
     "input": [
      "from sets import Set\n",
      "max_labels = 4 # use only top 4 probabilities labels as maximum labels per patent is 4\n",
      "min_df = 2\n",
      "min_tf = 3\n",
      "test_set_size = 0.20\n",
      "max_chi_square_terms = 10000\n",
      "db_path = '/home/wshalaby/work/patents/patents-similarity/data/CLEF/03-patents-with-5-fixes.db'\n",
      "#db_path = '/home/wshalaby/work/patents/patents-similarity/data/CLEF/04-patents-full-revised.db'\n",
      "#db_path = '/root/Desktop/data-and-indices/patents-data/CLEF-IP/2010/08-clef-patents.db'\n",
      "train_or_test_values = Set(['train','test','both'])\n",
      "vocabulary_src_values = Set(['abstract','description','claims'])"
     ],
     "language": "python",
     "metadata": {},
     "outputs": []
    }
   ],
   "metadata": {}
  }
 ]
}