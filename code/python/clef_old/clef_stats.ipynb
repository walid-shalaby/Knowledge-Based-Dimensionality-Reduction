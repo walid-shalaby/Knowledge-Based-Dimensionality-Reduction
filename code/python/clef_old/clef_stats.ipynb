{
 "metadata": {
  "name": "",
  "signature": "sha256:806f01dc4c731f32bb322749d123e5f9f5b7f284a451c642f2ad17617b346f5d"
 },
 "nbformat": 3,
 "nbformat_minor": 0,
 "worksheets": [
  {
   "cells": [
    {
     "cell_type": "heading",
     "level": 1,
     "metadata": {},
     "source": [
      "CLEF-IP2010 statistics"
     ]
    },
    {
     "cell_type": "heading",
     "level": 6,
     "metadata": {},
     "source": [
      "collect some statistics about clef-ip2010 corpus"
     ]
    },
    {
     "cell_type": "code",
     "collapsed": false,
     "input": [
      "from clef_corpus_loader import load_corpus_and_labels\n",
      "from clef_corpus_loader import load_corpus_with_labels_mappings\n",
      "corpus_data = load_corpus_and_labels('abstract','both')\n",
      "print 'done loading {0} records and {1} labels.'.format(len(corpus_data['corpus']),len(corpus_data['labels_dic']))\n",
      "corpus_train_data = load_corpus_with_labels_mappings('abstract','train',corpus_data['labels_dic'])\n",
      "print 'done loading {0} train records.'.format(len(corpus_train_data['corpus']))\n",
      "corpus_test_data = load_corpus_with_labels_mappings('abstract','test',corpus_data['labels_dic'])\n",
      "print 'done loading {0} test records.'.format(len(corpus_test_data['corpus']))"
     ],
     "language": "python",
     "metadata": {},
     "outputs": [
      {
       "output_type": "stream",
       "stream": "stdout",
       "text": [
        "loaded 514356 records.\n",
        "done loading 514356 records and 121 labels."
       ]
      },
      {
       "output_type": "stream",
       "stream": "stdout",
       "text": [
        "\n",
        "loaded 411484 records."
       ]
      },
      {
       "output_type": "stream",
       "stream": "stdout",
       "text": [
        "\n",
        "done loading 411484 train records."
       ]
      },
      {
       "output_type": "stream",
       "stream": "stdout",
       "text": [
        "\n",
        "loaded 102872 records."
       ]
      },
      {
       "output_type": "stream",
       "stream": "stdout",
       "text": [
        "\n",
        "done loading 102872 test records."
       ]
      },
      {
       "output_type": "stream",
       "stream": "stdout",
       "text": [
        "\n"
       ]
      }
     ],
     "prompt_number": 43
    },
    {
     "cell_type": "code",
     "collapsed": false,
     "input": [
      "# number of labels per # of samples & average # labels per sample\n",
      "all_labels_count = [0,0,0,0,0,0,0,0,0,0,0,0]\n",
      "train_labels_count = [0,0,0,0,0,0,0,0,0,0,0,0]\n",
      "test_labels_count = [0,0,0,0,0,0,0,0,0,0,0,0]\n",
      "for i in range(len(corpus_data['corpus'])):\n",
      "    all_labels_count[len(corpus_data['labels'][i])-1] = all_labels_count[len(corpus_data['labels'][i])-1] + 1\n",
      "    \n",
      "for i in range(len(corpus_train_data['corpus'])):\n",
      "    train_labels_count[len(corpus_train_data['labels'][i])-1] = train_labels_count[len(corpus_train_data['labels'][i])-1] + 1\n",
      "    \n",
      "for i in range(len(corpus_test_data['corpus'])):\n",
      "    test_labels_count[len(corpus_test_data['labels'][i])-1] = test_labels_count[len(corpus_test_data['labels'][i])-1] + 1\n",
      "    \n",
      "print 'total number of samples: ',sum(all_labels_count)\n",
      "print 'total number of train samples: ',sum(train_labels_count)\n",
      "print 'total number of test samples: ',sum(test_labels_count)\n",
      "print 'number of labels,total number of samples,total number of train samples,total number of test samples'\n",
      "total = 0\n",
      "total_train = 0\n",
      "total_test = 0\n",
      "for i in range(len(all_labels_count)):\n",
      "    print i+1,',',all_labels_count[i],',',train_labels_count[i],',',test_labels_count[i]\n",
      "    total = total + (i+1.0)*all_labels_count[i]\n",
      "    total_train = total_train + (i+1.0)*train_labels_count[i]\n",
      "    total_test = total_test + (i+1.0)*test_labels_count[i]\n",
      "    \n",
      "print 'average labels per sample: ', total/sum(all_labels_count)\n",
      "print 'average labels per train sample: ', total_train/sum(train_labels_count)\n",
      "print 'average labels per test sample: ', total_test/sum(test_labels_count)\n",
      "\n",
      "all_labels_dist = [0]*(len(corpus_data['labels_dic']))\n",
      "train_labels_dist = [0]*(len(corpus_data['labels_dic']))\n",
      "test_labels_dist = [0]*(len(corpus_data['labels_dic']))\n",
      "\n",
      "for i in range(len(corpus_data['corpus'])):\n",
      "    for j in range(len(corpus_data['labels'][i])):        \n",
      "        all_labels_dist[corpus_data['labels'][i][j]] = all_labels_dist[corpus_data['labels'][i][j]] + 1\n",
      "\n",
      "for i in range(len(corpus_train_data['corpus'])):\n",
      "    for j in range(len(corpus_train_data['labels'][i])):        \n",
      "        train_labels_dist[corpus_train_data['labels'][i][j]] = train_labels_dist[corpus_train_data['labels'][i][j]] + 1\n",
      "\n",
      "for i in range(len(corpus_test_data['corpus'])):\n",
      "    for j in range(len(corpus_test_data['labels'][i])):        \n",
      "        test_labels_dist[corpus_test_data['labels'][i][j]] = test_labels_dist[corpus_test_data['labels'][i][j]] + 1\n",
      "\n",
      "print 'label,number of samples,number of train samples,number of tedst samples'\n",
      "for k,v in corpus_data['labels_dic'].items():\n",
      "    print k.upper(),',',all_labels_dist[v],',',train_labels_dist[v],',',test_labels_dist[v]"
     ],
     "language": "python",
     "metadata": {},
     "outputs": [
      {
       "output_type": "stream",
       "stream": "stdout",
       "text": [
        "total number of samples:  514356\n",
        "total number of train samples:  411484\n",
        "total number of test samples:  102872\n",
        "number of labels,total number of samples total number of train samples total number of test samples\n",
        "1 , 289924 , 231960 , 57964\n",
        "2 , 157107 , 125630 , 31477\n",
        "3 , 50135 , 40157 , 9978\n",
        "4 , 13340 , 10720 , 2620\n",
        "5 , 2996 , 2339 , 657\n",
        "6 , 641 , 508 , 133\n",
        "7 , 149 , 116 , 33\n",
        "8 , 34 , 29 , 5\n",
        "9 , 14 , 12 , 2\n",
        "10 , 8 , 7 , 1\n",
        "11 , 5 , 3 , 2\n",
        "12 , 3 , 3 , 0\n",
        "average labels per sample:  1.61044296168\n",
        "average labels per train sample:  1.61028132321\n",
        "average labels per test sample:  1.61108950929\n",
        "label,number of samples,number of train samples,number of tedst samples"
       ]
      },
      {
       "output_type": "stream",
       "stream": "stdout",
       "text": [
        "\n",
        "B44 , 953 , 757 , 196\n",
        "B41 , 16368 , 12995 , 3373\n",
        "B43 , 651 , 518 , 133\n",
        "B42 , 1529 , 1250 , 279\n",
        "A01 , 11298 , 9071 , 2227\n",
        "F41 , 987 , 779 , 208\n",
        "F42 , 735 , 579 , 156\n",
        "G08 , 3229 , 2621 , 608\n",
        "G09 , 8572 , 6837 , 1735\n",
        "G04 , 917 , 753 , 164\n",
        "G05 , 7009 , 5561 , 1448\n",
        "C11 , 4104 , 3285 , 819\n",
        "C10 , 5709 , 4597 , 1112\n",
        "G01 , 36777 , 29467 , 7310\n",
        "G02 , 18161 , 14553 , 3608\n",
        "G03 , 21725 , 17408 , 4317\n",
        "C40 , 352 , 266 , 86\n",
        "E06 , 1909 , 1526 , 383\n",
        "E04 , 5227 , 4164 , 1063\n",
        "E05 , 3091 , 2495 , 596\n",
        "E02 , 2111 , 1672 , 439\n",
        "E03 , 1027 , 812 , 215\n",
        "E01 , 1755 , 1433 , 322\n",
        "C08 , 32759 , 26237 , 6522\n",
        "C09 , 16895 , 13526 , 3369\n",
        "C01 , 6197 , 4965 , 1232\n",
        "C02 , 3012 , 2415 , 597\n",
        "C03 , 4164 , 3331 , 833\n",
        "C04 , 5612 , 4441 , 1171\n",
        "C05 , 576 , 473 , 103\n",
        "C06 , 387 , 314 , 73\n",
        "C07 , 42869 , 34235 , 8634\n",
        "B29 , 12716 , 10170 , 2546\n",
        "B28 , 1549 , 1244 , 305\n",
        "B27 , 1255 , 972 , 283\n",
        "B26 , 1836 , 1489 , 347\n",
        "B25 , 3254 , 2557 , 697\n",
        "B24 , 2668 , 2132 , 536\n",
        "B23 , 9571 , 7617 , 1954\n",
        "A61 , 53826 , 43126 , 10700\n",
        "B21 , 4390 , 3549 , 841\n",
        "A63 , 4039 , 3254 , 785\n",
        "A46 , 511 , 419 , 92\n",
        "G21 , 2395 , 1884 , 511\n",
        "B03 , 696 , 554 , 142\n",
        "F23 , 3040 , 2404 , 636\n",
        "F22 , 496 , 402 , 94\n",
        "F21 , 1905 , 1508 , 397\n",
        "A45 , 1319 , 1065 , 254\n",
        "F27 , 1201 , 954 , 247\n",
        "F26 , 736 , 567 , 169\n",
        "F25 , 3391 , 2740 , 651\n",
        "F24 , 3721 , 2935 , 786\n",
        "A42 , 309 , 256 , 53\n",
        "F28 , 2250 , 1783 , 467\n",
        "C30 , 1993 , 1605 , 388\n",
        "B04 , 505 , 397 , 108\n",
        "B06 , 423 , 352 , 71\n",
        "B30 , 950 , 756 , 194\n",
        "B31 , 1117 , 895 , 222\n",
        "B32 , 6578 , 5231 , 1347\n",
        "C22 , 4796 , 3810 , 986\n",
        "C23 , 7712 , 6111 , 1601\n",
        "C21 , 2262 , 1792 , 470\n",
        "C25 , 2358 , 1883 , 475\n",
        "A21 , 1214 , 973 , 241\n",
        "A22 , 784 , 631 , 153\n",
        "G07 , 5014 , 4054 , 960\n",
        "A23 , 6689 , 5419 , 1270\n",
        "B67 , 1292 , 1017 , 275\n",
        "H03 , 14526 , 11638 , 2888\n",
        "H02 , 11860 , 9543 , 2317\n",
        "H01 , 60589 , 48499 , 12090\n",
        "H05 , 13164 , 10500 , 2664\n",
        "H04 , 53334 , 42632 , 10702\n",
        "F04 , 4857 , 3886 , 971\n",
        "F01 , 6384 , 5106 , 1278\n",
        "F03 , 550 , 441 , 109\n",
        "F02 , 10814 , 8585 , 2229\n",
        "B22 , 3674 , 2969 , 705\n",
        "C13 , 180 , 143 , 37\n",
        "A62 , 1003 , 813 , 190\n",
        "C12 , 16434 , 13118 , 3316\n",
        "G06 , 38976 , 31221 , 7755\n",
        "D07 , 292 , 216 , 76\n",
        "D06 , 4851 , 3847 , 1004\n",
        "D05 , 441 , 363 , 78\n",
        "D04 , 2242 , 1831 , 411\n",
        "D03 , 1220 , 987 , 233\n",
        "D02 , 695 , 558 , 137\n",
        "D01 , 2568 , 2033 , 535\n",
        "B81 , 406 , 332 , 74\n",
        "B82 , 95 , 74 , 21\n",
        "B01 , 22214 , 17686 , 4528\n",
        "A47 , 7511 , 6019 , 1492\n",
        "A44 , 1219 , 1001 , 218\n",
        "B02 , 685 , 546 , 139\n",
        "B05 , 4999 , 3954 , 1045\n",
        "A43 , 1116 , 874 , 242\n",
        "B07 , 844 , 684 , 160\n",
        "A41 , 1046 , 866 , 180\n",
        "B09 , 718 , 587 , 131\n",
        "B08 , 1101 , 887 , 214\n",
        "C14 , 152 , 115 , 37\n",
        "F16 , 22907 , 18354 , 4553\n",
        "F17 , 725 , 573 , 152\n",
        "F15 , 1626 , 1265 , 361\n",
        "B63 , 1630 , 1313 , 317\n",
        "B62 , 5342 , 4234 , 1108\n",
        "B61 , 1074 , 878 , 196\n",
        "B60 , 19231 , 15492 , 3739\n",
        "A24 , 842 , 695 , 147\n",
        "B66 , 2188 , 1810 , 378\n",
        "B65 , 21221 , 16943 , 4278\n",
        "B64 , 1964 , 1531 , 433\n",
        "B68 , 133 , 109 , 24\n",
        "E21 , 3107 , 2475 , 632\n",
        "D21 , 3036 , 2407 , 629\n",
        "G12 , 378 , 307 , 71\n",
        "G11 , 20828 , 16652 , 4176\n",
        "G10 , 3921 , 3170 , 751\n"
       ]
      }
     ],
     "prompt_number": 45
    },
    {
     "cell_type": "code",
     "collapsed": false,
     "input": [
      "import sqlite3 as sqldb\n",
      "from clef_globals import *\n",
      "con = sqldb.connect(db_path)\n",
      "with con:\n",
      "    cur = con.execute('select count(*) from clef_2010_abstract_raw_lemmas_all_unigrams_df2_tf3')\n",
      "    print 'clef_2010_abstract_raw_lemmas_all_unigrams_df2_tf3: ',cur.fetchone()[0]\n",
      "    cur = con.execute('select count(*) from clef_2010_abstract_raw_lemmas_all_bigrams_df2_tf3 where term like \\'% %\\'')\n",
      "    print 'clef_2010_abstract_raw_lemmas_all_bigrams_df2_tf3: ',cur.fetchone()[0]\n",
      "    cur = con.execute('select count(*) from clef_2010_abstract_raw_lemmas_unigrams_df2_tf3')\n",
      "    print 'clef_2010_abstract_raw_lemmas_unigrams_df2_tf3: ',cur.fetchone()[0]\n",
      "    cur = con.execute('select count(*) from clef_2010_abstract_raw_lemmas_bigrams_df2_tf3 where term like \\'% %\\'')\n",
      "    print 'clef_2010_abstract_raw_lemmas_bigrams_df2_tf3: ',cur.fetchone()[0]\n",
      "    cur = con.execute('select count(*) from clef_2010_abstract_raw_lemmas_test_unigrams_df2_tf3')\n",
      "    print 'clef_2010_abstract_raw_lemmas_test_unigrams_df2_tf3: ',cur.fetchone()[0]\n",
      "    cur = con.execute('select count(*) from clef_2010_abstract_raw_lemmas_test_bigrams_df2_tf3 where term like \\'% %\\'')\n",
      "    print 'clef_2010_abstract_raw_lemmas_test_bigrams_df2_tf3: ',cur.fetchone()[0]"
     ],
     "language": "python",
     "metadata": {},
     "outputs": [
      {
       "output_type": "stream",
       "stream": "stdout",
       "text": [
        "clef_2010_abstract_raw_lemmas_all_unigrams_df2_tf3:  65623\n",
        "clef_2010_abstract_raw_lemmas_all_bigrams_df2_tf3: "
       ]
      },
      {
       "output_type": "stream",
       "stream": "stdout",
       "text": [
        " 1261884\n",
        "clef_2010_abstract_raw_lemmas_unigrams_df2_tf3:  58661\n",
        "clef_2010_abstract_raw_lemmas_bigrams_df2_tf3: "
       ]
      },
      {
       "output_type": "stream",
       "stream": "stdout",
       "text": [
        " 1073805\n",
        "clef_2010_abstract_raw_lemmas_test_unigrams_df2_tf3:  30774\n",
        "clef_2010_abstract_raw_lemmas_test_bigrams_df2_tf3: "
       ]
      },
      {
       "output_type": "stream",
       "stream": "stdout",
       "text": [
        " 377338\n"
       ]
      }
     ],
     "prompt_number": 48
    },
    {
     "cell_type": "code",
     "collapsed": false,
     "input": [],
     "language": "python",
     "metadata": {},
     "outputs": []
    }
   ],
   "metadata": {}
  }
 ]
}