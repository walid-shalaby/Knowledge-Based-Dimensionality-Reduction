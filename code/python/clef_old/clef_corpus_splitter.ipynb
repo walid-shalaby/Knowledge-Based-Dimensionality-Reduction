{
 "metadata": {
  "name": "",
  "signature": "sha256:ac6ef44c27ac8efde13d0105d48218825eb6d1563fa904c35fc2bfe6c2d697cc"
 },
 "nbformat": 3,
 "nbformat_minor": 0,
 "worksheets": [
  {
   "cells": [
    {
     "cell_type": "heading",
     "level": 1,
     "metadata": {},
     "source": [
      "CLEF-IP2010 Corpus Splitter"
     ]
    },
    {
     "cell_type": "heading",
     "level": 6,
     "metadata": {},
     "source": [
      "Split clef-ip2010 patents corpus into train/test sets"
     ]
    },
    {
     "cell_type": "code",
     "collapsed": false,
     "input": [
      "def split_corpus(test_size):\n",
      "    from sklearn.cross_validation import train_test_split\n",
      "    import sqlite3 as sqlitedb\n",
      "    from clef_corpus_loader import load_corpus\n",
      "    \n",
      "    ids = []\n",
      "    \n",
      "    # load patents from sqlite DB\n",
      "    corpus = load_corpus('abstract','both')\n",
      "    ids = corpus['ids']    \n",
      "        \n",
      "    ids_train, ids_test = train_test_split(ids, test_size=test_size, random_state=100)\n",
      "    \n",
      "    con = sqlitedb.connect(db_path)\n",
      "    with con:\n",
      "        for i in ids_train:\n",
      "            con.execute('insert or replace into patent_train_test values(\\'{0}\\',{1})'.format(i,1))\n",
      "        for i in ids_test:\n",
      "            con.execute('insert or replace into patent_train_test values(\\'{0}\\',{1})'.format(i,0))            "
     ],
     "language": "python",
     "metadata": {},
     "outputs": []
    },
    {
     "cell_type": "code",
     "collapsed": false,
     "input": [
      "from clef_globals import *\n",
      "split_corpus(test_set_size)\n",
      "print 'done'"
     ],
     "language": "python",
     "metadata": {},
     "outputs": []
    },
    {
     "cell_type": "code",
     "collapsed": false,
     "input": [],
     "language": "python",
     "metadata": {},
     "outputs": []
    }
   ],
   "metadata": {}
  }
 ]
}