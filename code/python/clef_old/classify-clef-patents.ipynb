{
 "metadata": {
  "name": "",
  "signature": "sha256:532bec6e4bc4b0221da6d05b19cb96a0ab0c3497a34f4ad43e48c465bdc065f4"
 },
 "nbformat": 3,
 "nbformat_minor": 0,
 "worksheets": [
  {
   "cells": [
    {
     "cell_type": "heading",
     "level": 1,
     "metadata": {},
     "source": [
      "classify patents documents stored in sqlite DB"
     ]
    },
    {
     "cell_type": "code",
     "collapsed": false,
     "input": [
      "import sklearn\n",
      "print sklearn.__version__"
     ],
     "language": "python",
     "metadata": {},
     "outputs": [
      {
       "output_type": "stream",
       "stream": "stdout",
       "text": [
        "0.15.0b2\n"
       ]
      }
     ],
     "prompt_number": 122
    },
    {
     "cell_type": "code",
     "collapsed": false,
     "input": [
      "def get_cur_time():\n",
      "    import time\n",
      "    return time.strftime(\"%d/%m/%y %H:%m:%s\")"
     ],
     "language": "python",
     "metadata": {},
     "outputs": [],
     "prompt_number": 2
    },
    {
     "cell_type": "code",
     "collapsed": false,
     "input": [
      "import sqlite3 as sqlitedb\n",
      "from sklearn.feature_extraction.text import TfidfTransformer\n",
      "from clef_globals import *\n",
      "\n",
      "print get_cur_time()\n",
      "\n",
      "# load patents from sqlite DB\n",
      "corpus = []\n",
      "labels = []\n",
      "patents_query = 'select title, tags from patents group by lower(title) having id like \\'%A1\\' or id like \\'%A2\\''\n",
      "con = sqlitedb.connect(db_path)\n",
      "with con:\n",
      "    cur = con.execute(patents_query)\n",
      "    while True:\n",
      "        patent = cur.fetchone()\n",
      "        if patent==None:\n",
      "            break\n",
      "        corpus.append(patent[0])\n",
      "        tags = patent[1].split(' ')\n",
      "        if len(tags[len(tags)-1])==0:\n",
      "            labels.append(tags[0:len(tags)-1])            \n",
      "        else:\n",
      "            labels.append(tags)        \n",
      "#print corpus[0]\n",
      "#print labels\n",
      "\n",
      "\n",
      "# map labels into unique class names\n",
      "labels_dic = {}\n",
      "labels_arr = []\n",
      "for i in range(len(labels)):\n",
      "    for j in range(len(labels[i])):\n",
      "        #x = labels[i][j]\n",
      "        if labels[i][j] not in labels_dic:\n",
      "            labels_dic[labels[i][j]] = len(labels_arr)\n",
      "            labels_arr.append(labels[i][j])\n",
      "            labels[i][j] = len(labels_arr)-1\n",
      "        else:\n",
      "            labels[i][j] = labels_dic[labels[i][j]]\n",
      "        #print x,labels[i][j]\n",
      "\n",
      "print len(labels_arr)\n",
      "print len(corpus)\n",
      "\n",
      "print get_cur_time()"
     ],
     "language": "python",
     "metadata": {},
     "outputs": [
      {
       "output_type": "stream",
       "stream": "stdout",
       "text": [
        "30/07/14 15:07:1406747029\n",
        "117"
       ]
      },
      {
       "output_type": "stream",
       "stream": "stdout",
       "text": [
        "\n",
        "5953\n",
        "30/07/14 15:07:1406747030\n"
       ]
      }
     ],
     "prompt_number": 3
    },
    {
     "cell_type": "code",
     "collapsed": false,
     "input": [
      "from nltk import RegexpTokenizer\n",
      "from nltk.stem import WordNetLemmatizer\n",
      "class LemmaTokenizer(object):\n",
      "    pattern = u'(?u)\\b[a-z]+\\-*[a-z]+|\\b(?u)\\b[a-z]\\b'\n",
      "    def __init__(self):\n",
      "        self.tokenizer = RegexpTokenizer(pattern)\n",
      "        self.wnl = WordNetLemmatizer()\n",
      "    def __call__(self, doc):\n",
      "        return [self.wnl.lemmatize(t) for t in self.tokenizer.tokenize(doc)]"
     ],
     "language": "python",
     "metadata": {},
     "outputs": [],
     "prompt_number": 4
    },
    {
     "cell_type": "code",
     "collapsed": false,
     "input": [
      "# tokenize text\n",
      "from sklearn.feature_extraction.text import CountVectorizer\n",
      "from sklearn.preprocessing import Binarizer\n",
      "\n",
      "print get_cur_time()\n",
      "\n",
      "min_term_freq = 3\n",
      "                                           \n",
      "vectorizer = CountVectorizer(min_df=2,tokenizer=LemmaTokenizer(),ngram_range=(1,1),stop_words={})\n",
      "corpus_vectors = vectorizer.fit_transform(corpus)\n",
      "print len(vectorizer.vocabulary_)\n",
      "#print vectorizer.vocabulary_\n",
      "#print vectorizer.stop_words_\n",
      "#print corpus_vectors.todense()\n",
      "corpus_vectors = corpus_vectors.tolil()\n",
      "term_freq = corpus_vectors.sum(axis=0) # sum on culomns to obtain term frequencies\n",
      "terms_to_remove = []\n",
      "for k,v in vectorizer.vocabulary_.iteritems():\n",
      "    #print k,v,term_freq[0,vectorizer.vocabulary_[k]]\n",
      "    if(term_freq[0,vectorizer.vocabulary_[k]]<min_term_freq):\n",
      "        corpus_vectors[:,v] = 0\n",
      "        terms_to_remove.append(k)\n",
      "  \n",
      "#print corpus_vectors.todense()\n",
      "print len(terms_to_remove)\n",
      "for k in terms_to_remove:\n",
      "    del vectorizer.vocabulary_[k]\n",
      "    \n",
      "#print vectorizer.vocabulary_\n",
      "#print sum(corpus_vectors.getcol(vectorizer.vocabulary_[i])).todense()[0,0]>0\n",
      "#print corpus_vectors[:,vectorizer.vocabulary_['cairo']]\n",
      "#print corpus_vectors\n",
      "print len(vectorizer.vocabulary_)\n",
      "\n",
      "corpus_vectors = corpus_vectors.tocsr()\n",
      "#print corpus_vectors.todense()\n",
      "#corpus_vectors?\n",
      "    \n",
      "print len(vectorizer.vocabulary_)\n",
      "\n",
      "print get_cur_time()"
     ],
     "language": "python",
     "metadata": {},
     "outputs": [
      {
       "output_type": "stream",
       "stream": "stdout",
       "text": [
        "30/07/14 15:07:1406747044\n",
        "2948"
       ]
      },
      {
       "output_type": "stream",
       "stream": "stdout",
       "text": [
        "\n",
        "895"
       ]
      },
      {
       "output_type": "stream",
       "stream": "stdout",
       "text": [
        "\n",
        "2053\n",
        "2053\n",
        "30/07/14 15:07:1406747068\n"
       ]
      }
     ],
     "prompt_number": 5
    },
    {
     "cell_type": "code",
     "collapsed": false,
     "input": [
      "#del corpus\n",
      "#del vectorizer"
     ],
     "language": "python",
     "metadata": {},
     "outputs": [],
     "prompt_number": 6
    },
    {
     "cell_type": "code",
     "collapsed": false,
     "input": [
      "# save vocabulary in DB for future use\n",
      "import sqlite3 as sqlitedb\n",
      "from clef_globals import *\n",
      "\n",
      "print get_cur_time()\n",
      "\n",
      "l = []\n",
      "l.extend([i] for i in vectorizer.vocabulary_.keys())\n",
      "con = sqlitedb.connect(db_path)\n",
      "with con:\n",
      "    con.execute('drop table if exists vocabulary_lemmatized_uni_df2_tf3')\n",
      "    con.execute('create table vocabulary_lemmatized_uni_df2_tf3(term text)')\n",
      "    con.executemany('insert into vocabulary_lemmatized_uni_df2_tf3(term) values(?)',l)\n",
      "    \n",
      "print get_cur_time()"
     ],
     "language": "python",
     "metadata": {},
     "outputs": []
    },
    {
     "cell_type": "code",
     "collapsed": false,
     "input": [
      "print get_cur_time()\n",
      "\n",
      "# tokenize text\n",
      "from sklearn.feature_extraction.text import TfidfTransformer\n",
      "\n",
      "transformer = TfidfTransformer()#(min_df=0.000001,max_df=0.95)\n",
      "#corpus = ['hi this is cairo','hi here in usa']\n",
      "corpus_tfidf_vectors = transformer.fit_transform(corpus_vectors)\n",
      "\n",
      "#print vectorizer\n",
      "print corpus_tfidf_vectors.shape\n",
      "#print corpus_tfidf_vectors\n",
      "\n",
      "print get_cur_time()"
     ],
     "language": "python",
     "metadata": {},
     "outputs": [
      {
       "output_type": "stream",
       "stream": "stdout",
       "text": [
        "30/07/14 15:07:1406747075\n",
        "(5953, 2948)\n",
        "30/07/14 15:07:1406747075\n"
       ]
      }
     ],
     "prompt_number": 7
    },
    {
     "cell_type": "code",
     "collapsed": false,
     "input": [
      "# given classifier predictions probabilities, return predictions with top n probabilities for each instance\n",
      "import heapq\n",
      "import numpy\n",
      "\n",
      "def get_max_n_pred(pred_proba, n_pred):\n",
      "    max_n_pred = numpy.ndarray(shape=pred_proba.shape)\n",
      "    for i in range(len(pred_proba)):\n",
      "        largest_n_proba = heapq.nlargest(n_pred,pred_proba[i])\n",
      "        max_n_pred[i] = numpy.array(((pred_proba[i]>0.5) & (pred_proba[i]>=largest_n_proba[len(largest_n_proba)-1]) & 1))\n",
      "        if max_n_pred[i].sum(axis=0)==0: # at least one label should be returned\n",
      "            max_n_pred[i] = numpy.array(((pred_proba[i]>=max(pred_proba[i])) & 1))\n",
      "    return max_n_pred"
     ],
     "language": "python",
     "metadata": {},
     "outputs": [],
     "prompt_number": 20
    },
    {
     "cell_type": "code",
     "collapsed": false,
     "input": [
      "# binarize the labels\n",
      "from sklearn.preprocessing import MultiLabelBinarizer\n",
      "\n",
      "print get_cur_time()\n",
      "\n",
      "mlb = MultiLabelBinarizer()\n",
      "labels_binarized = mlb.fit_transform(labels)\n",
      "labels_binarized.shape\n",
      "\n",
      "# classify\n",
      "from sklearn.multiclass import OneVsRestClassifier\n",
      "from sklearn.svm import SVC\n",
      "from sklearn.linear_model import LogisticRegression\n",
      "from sklearn.cross_validation import train_test_split\n",
      "from sklearn import metrics\n",
      "x_train, x_test, y_train, y_test = train_test_split(corpus_tfidf_vectors, labels_binarized, test_size=0.33, random_state=1)\n",
      "cls = OneVsRestClassifier(LogisticRegression())\n",
      "#cls = OneVsRestClassifier(MultinomialNB(alpha=0.01))\n",
      "#cls = OneVsRestClassifier(SVC(kernel='linear',probability=True))\n",
      "cls.fit(x_train, y_train)\n",
      "\n",
      "# evaluate\n",
      "#pred = cls.predict(x_test)\n",
      "pred_proba = cls.predict_proba(x_test)\n",
      "print len(pred_proba[0]) # make sure it is 121\n",
      "\n",
      "# use only top 4 probabilities labels as maximum labels per patent is 4\n",
      "max_labels = 4\n",
      "pred_labels = mlb.inverse_transform(get_max_n_pred(pred_proba, max_labels))\n",
      "actual_labels = mlb.inverse_transform(y_test)\n",
      "# http://scikit-learn.org/stable/modules/model_evaluation.html#multiclass-and-multilabel-classification\n",
      "print metrics.precision_score(actual_labels, pred_labels, average='micro')\n",
      "print metrics.recall_score(actual_labels, pred_labels, average='micro')\n",
      "print metrics.f1_score(actual_labels, pred_labels, average='micro')\n",
      "#pred_probs = cls.predict_proba(x_test)\n",
      "\n",
      "print get_cur_time()"
     ],
     "language": "python",
     "metadata": {},
     "outputs": [
      {
       "output_type": "stream",
       "stream": "stdout",
       "text": [
        "30/07/14 15:07:1406750110\n",
        "117"
       ]
      },
      {
       "output_type": "stream",
       "stream": "stderr",
       "text": [
        "/usr/local/lib/python2.7/dist-packages/sklearn/utils/__init__.py:89: DeprecationWarning: Function multilabel_ is deprecated; Attribute multilabel_ is deprecated and will be removed in 0.17. Use 'y_type_.startswith('multilabel')' instead\n",
        "  warnings.warn(msg, category=DeprecationWarning)\n",
        "/usr/local/lib/python2.7/dist-packages/sklearn/utils/multiclass.py:187: DeprecationWarning: Direct support for sequence of sequences multilabel representation will be unavailable from version 0.17. Use sklearn.preprocessing.MultiLabelBinarizer to convert to a label indicator representation.\n",
        "  DeprecationWarning)\n"
       ]
      },
      {
       "output_type": "stream",
       "stream": "stderr",
       "text": [
        "/usr/local/lib/python2.7/dist-packages/sklearn/utils/multiclass.py:187: DeprecationWarning: Direct support for sequence of sequences multilabel representation will be unavailable from version 0.17. Use sklearn.preprocessing.MultiLabelBinarizer to convert to a label indicator representation.\n",
        "  DeprecationWarning)\n",
        "/usr/local/lib/python2.7/dist-packages/sklearn/utils/multiclass.py:187: DeprecationWarning: Direct support for sequence of sequences multilabel representation will be unavailable from version 0.17. Use sklearn.preprocessing.MultiLabelBinarizer to convert to a label indicator representation.\n",
        "  DeprecationWarning)\n",
        "/usr/local/lib/python2.7/dist-packages/sklearn/utils/multiclass.py:187: DeprecationWarning: Direct support for sequence of sequences multilabel representation will be unavailable from version 0.17. Use sklearn.preprocessing.MultiLabelBinarizer to convert to a label indicator representation.\n",
        "  DeprecationWarning)\n",
        "/usr/local/lib/python2.7/dist-packages/sklearn/preprocessing/label.py:457: DeprecationWarning: The multilabel parameter is deprecated as of version 0.15 and will be removed in 0.17. The parameter is no longer necessary because the value is automatically inferred.\n",
        "  \"inferred.\", DeprecationWarning)\n",
        "/usr/local/lib/python2.7/dist-packages/sklearn/utils/multiclass.py:187: DeprecationWarning: Direct support for sequence of sequences multilabel representation will be unavailable from version 0.17. Use sklearn.preprocessing.MultiLabelBinarizer to convert to a label indicator representation.\n",
        "  DeprecationWarning)\n",
        "/usr/local/lib/python2.7/dist-packages/sklearn/utils/multiclass.py:187: DeprecationWarning: Direct support for sequence of sequences multilabel representation will be unavailable from version 0.17. Use sklearn.preprocessing.MultiLabelBinarizer to convert to a label indicator representation.\n",
        "  DeprecationWarning)\n",
        "/usr/local/lib/python2.7/dist-packages/sklearn/preprocessing/label.py:457: DeprecationWarning: The multilabel parameter is deprecated as of version 0.15 and will be removed in 0.17. The parameter is no longer necessary because the value is automatically inferred.\n",
        "  \"inferred.\", DeprecationWarning)\n"
       ]
      },
      {
       "output_type": "stream",
       "stream": "stdout",
       "text": [
        "\n",
        "0.595815501664"
       ]
      },
      {
       "output_type": "stream",
       "stream": "stderr",
       "text": [
        "/usr/local/lib/python2.7/dist-packages/sklearn/utils/multiclass.py:187: DeprecationWarning: Direct support for sequence of sequences multilabel representation will be unavailable from version 0.17. Use sklearn.preprocessing.MultiLabelBinarizer to convert to a label indicator representation.\n",
        "  DeprecationWarning)\n",
        "/usr/local/lib/python2.7/dist-packages/sklearn/utils/multiclass.py:187: DeprecationWarning: Direct support for sequence of sequences multilabel representation will be unavailable from version 0.17. Use sklearn.preprocessing.MultiLabelBinarizer to convert to a label indicator representation.\n",
        "  DeprecationWarning)\n",
        "/usr/local/lib/python2.7/dist-packages/sklearn/utils/multiclass.py:187: DeprecationWarning: Direct support for sequence of sequences multilabel representation will be unavailable from version 0.17. Use sklearn.preprocessing.MultiLabelBinarizer to convert to a label indicator representation.\n",
        "  DeprecationWarning)\n"
       ]
      },
      {
       "output_type": "stream",
       "stream": "stdout",
       "text": [
        "\n",
        "0.376728803367\n",
        "0.461595137226\n",
        "30/07/14 15:07:1406750117\n"
       ]
      },
      {
       "output_type": "stream",
       "stream": "stderr",
       "text": [
        "/usr/local/lib/python2.7/dist-packages/sklearn/utils/multiclass.py:187: DeprecationWarning: Direct support for sequence of sequences multilabel representation will be unavailable from version 0.17. Use sklearn.preprocessing.MultiLabelBinarizer to convert to a label indicator representation.\n",
        "  DeprecationWarning)\n",
        "/usr/local/lib/python2.7/dist-packages/sklearn/utils/multiclass.py:187: DeprecationWarning: Direct support for sequence of sequences multilabel representation will be unavailable from version 0.17. Use sklearn.preprocessing.MultiLabelBinarizer to convert to a label indicator representation.\n",
        "  DeprecationWarning)\n",
        "/usr/local/lib/python2.7/dist-packages/sklearn/utils/multiclass.py:187: DeprecationWarning: Direct support for sequence of sequences multilabel representation will be unavailable from version 0.17. Use sklearn.preprocessing.MultiLabelBinarizer to convert to a label indicator representation.\n",
        "  DeprecationWarning)\n",
        "/usr/local/lib/python2.7/dist-packages/sklearn/preprocessing/label.py:457: DeprecationWarning: The multilabel parameter is deprecated as of version 0.15 and will be removed in 0.17. The parameter is no longer necessary because the value is automatically inferred.\n",
        "  \"inferred.\", DeprecationWarning)\n",
        "/usr/local/lib/python2.7/dist-packages/sklearn/utils/multiclass.py:187: DeprecationWarning: Direct support for sequence of sequences multilabel representation will be unavailable from version 0.17. Use sklearn.preprocessing.MultiLabelBinarizer to convert to a label indicator representation.\n",
        "  DeprecationWarning)\n",
        "/usr/local/lib/python2.7/dist-packages/sklearn/utils/multiclass.py:187: DeprecationWarning: Direct support for sequence of sequences multilabel representation will be unavailable from version 0.17. Use sklearn.preprocessing.MultiLabelBinarizer to convert to a label indicator representation.\n",
        "  DeprecationWarning)\n",
        "/usr/local/lib/python2.7/dist-packages/sklearn/preprocessing/label.py:457: DeprecationWarning: The multilabel parameter is deprecated as of version 0.15 and will be removed in 0.17. The parameter is no longer necessary because the value is automatically inferred.\n",
        "  \"inferred.\", DeprecationWarning)\n",
        "/usr/local/lib/python2.7/dist-packages/sklearn/utils/multiclass.py:187: DeprecationWarning: Direct support for sequence of sequences multilabel representation will be unavailable from version 0.17. Use sklearn.preprocessing.MultiLabelBinarizer to convert to a label indicator representation.\n",
        "  DeprecationWarning)\n",
        "/usr/local/lib/python2.7/dist-packages/sklearn/utils/multiclass.py:187: DeprecationWarning: Direct support for sequence of sequences multilabel representation will be unavailable from version 0.17. Use sklearn.preprocessing.MultiLabelBinarizer to convert to a label indicator representation.\n",
        "  DeprecationWarning)\n",
        "/usr/local/lib/python2.7/dist-packages/sklearn/utils/multiclass.py:187: DeprecationWarning: Direct support for sequence of sequences multilabel representation will be unavailable from version 0.17. Use sklearn.preprocessing.MultiLabelBinarizer to convert to a label indicator representation.\n",
        "  DeprecationWarning)\n",
        "/usr/local/lib/python2.7/dist-packages/sklearn/utils/multiclass.py:187: DeprecationWarning: Direct support for sequence of sequences multilabel representation will be unavailable from version 0.17. Use sklearn.preprocessing.MultiLabelBinarizer to convert to a label indicator representation.\n",
        "  DeprecationWarning)\n",
        "/usr/local/lib/python2.7/dist-packages/sklearn/utils/multiclass.py:187: DeprecationWarning: Direct support for sequence of sequences multilabel representation will be unavailable from version 0.17. Use sklearn.preprocessing.MultiLabelBinarizer to convert to a label indicator representation.\n",
        "  DeprecationWarning)\n",
        "/usr/local/lib/python2.7/dist-packages/sklearn/utils/multiclass.py:187: DeprecationWarning: Direct support for sequence of sequences multilabel representation will be unavailable from version 0.17. Use sklearn.preprocessing.MultiLabelBinarizer to convert to a label indicator representation.\n",
        "  DeprecationWarning)\n",
        "/usr/local/lib/python2.7/dist-packages/sklearn/preprocessing/label.py:457: DeprecationWarning: The multilabel parameter is deprecated as of version 0.15 and will be removed in 0.17. The parameter is no longer necessary because the value is automatically inferred.\n",
        "  \"inferred.\", DeprecationWarning)\n",
        "/usr/local/lib/python2.7/dist-packages/sklearn/utils/multiclass.py:187: DeprecationWarning: Direct support for sequence of sequences multilabel representation will be unavailable from version 0.17. Use sklearn.preprocessing.MultiLabelBinarizer to convert to a label indicator representation.\n",
        "  DeprecationWarning)\n",
        "/usr/local/lib/python2.7/dist-packages/sklearn/utils/multiclass.py:187: DeprecationWarning: Direct support for sequence of sequences multilabel representation will be unavailable from version 0.17. Use sklearn.preprocessing.MultiLabelBinarizer to convert to a label indicator representation.\n",
        "  DeprecationWarning)\n",
        "/usr/local/lib/python2.7/dist-packages/sklearn/preprocessing/label.py:457: DeprecationWarning: The multilabel parameter is deprecated as of version 0.15 and will be removed in 0.17. The parameter is no longer necessary because the value is automatically inferred.\n",
        "  \"inferred.\", DeprecationWarning)\n",
        "/usr/local/lib/python2.7/dist-packages/sklearn/utils/multiclass.py:187: DeprecationWarning: Direct support for sequence of sequences multilabel representation will be unavailable from version 0.17. Use sklearn.preprocessing.MultiLabelBinarizer to convert to a label indicator representation.\n",
        "  DeprecationWarning)\n",
        "/usr/local/lib/python2.7/dist-packages/sklearn/utils/multiclass.py:187: DeprecationWarning: Direct support for sequence of sequences multilabel representation will be unavailable from version 0.17. Use sklearn.preprocessing.MultiLabelBinarizer to convert to a label indicator representation.\n",
        "  DeprecationWarning)\n"
       ]
      }
     ],
     "prompt_number": 21
    },
    {
     "cell_type": "code",
     "collapsed": false,
     "input": [],
     "language": "python",
     "metadata": {},
     "outputs": []
    }
   ],
   "metadata": {}
  }
 ]
}