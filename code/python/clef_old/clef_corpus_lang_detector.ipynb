{
 "metadata": {
  "name": "",
  "signature": "sha256:6eb885a5046ac3dfa49e6abcdfde5f9c410e932149108b37f5f14e2941b95404"
 },
 "nbformat": 3,
 "nbformat_minor": 0,
 "worksheets": [
  {
   "cells": [
    {
     "cell_type": "heading",
     "level": 1,
     "metadata": {},
     "source": [
      "CLEF-IP2010 Corpus Language Detector"
     ]
    },
    {
     "cell_type": "heading",
     "level": 6,
     "metadata": {},
     "source": [
      "Detect clef-ip2010 patents corpus language and save language as well as confidence scores to DB"
     ]
    },
    {
     "cell_type": "code",
     "collapsed": false,
     "input": [
      "def detect_corpus_lang(vocabulary_src):\n",
      "    import sys\n",
      "    sys.path.append('langid.py-master/langid/')\n",
      "    import sqlite3 as sqlitedb\n",
      "    from clef_globals import *\n",
      "    import langid\n",
      "\n",
      "    # load patents text from sqlite DB using only vocabulary_src as main field for vocabulary (e.g., abstract, description, claims...)\n",
      "    patents_query = 'select id,lower({0}) from patents'.format(vocabulary_src)\n",
      "    con = sqlitedb.connect(db_path)\n",
      "    with con:\n",
      "        count = 0\n",
      "        tbl_name = 'patent_{0}_language'.format(vocabulary_src)\n",
      "        con.execute('drop table if exists {0}'.format(tbl_name))\n",
      "        con.execute('create table {0}(id text,language text,confidence real)'.format(tbl_name))\n",
      "        cur = con.execute(patents_query)\n",
      "        while True:\n",
      "            patent = cur.fetchone()\n",
      "            if patent==None or patent[0]==None or patent[1]==None:\n",
      "                break\n",
      "            patent_id = patent[0]\n",
      "            text = patent[1]\n",
      "            lang,confidence = langid.classify(text)\n",
      "            lang = (patent_id,lang,confidence)\n",
      "            con.execute('insert into {0} values(?,?,?)'.format(tbl_name),lang)\n",
      "            count = count + 1\n",
      "            if count%10000==0:\n",
      "                print 'processsed {0} records'.format(count)\n",
      "        \n",
      "        print 'processsed {0} records'.format(count)"
     ],
     "language": "python",
     "metadata": {},
     "outputs": []
    },
    {
     "cell_type": "code",
     "collapsed": false,
     "input": [
      "detect_corpus_lang('abstract')\n",
      "#detect_corpus_lang('description')\n",
      "#detect_corpus_lang('claims')\n",
      "print 'done'"
     ],
     "language": "python",
     "metadata": {},
     "outputs": []
    }
   ],
   "metadata": {}
  }
 ]
}