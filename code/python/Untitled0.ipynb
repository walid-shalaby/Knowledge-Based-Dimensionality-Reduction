{
 "metadata": {
  "name": "",
  "signature": "sha256:ba2f5ebe8df3bdfea19a02dbc46c297dfd2ab416326e94e821cb046632109e4f"
 },
 "nbformat": 3,
 "nbformat_minor": 0,
 "worksheets": [
  {
   "cells": [
    {
     "cell_type": "code",
     "collapsed": false,
     "input": [
      "import numpy as np\n",
      "from sklearn.decomposition import SparsePCA\n",
      "from sklearn.decomposition import PCA\n",
      "from sklearn.decomposition import TruncatedSVD\n",
      "import scipy\n",
      "X = scipy.sparse.csr_matrix(np.array([[-1, -1], [-2, -1], [-3, -2], [1, 1], [2, 1], [3, 2]]))\n",
      "lsa = TruncatedSVD(n_components=1)\n",
      "lsa.fit(X)\n",
      "#X1 = pca.fit_transform(X)\n",
      "#PCA(copy=True, n_components=1, whiten=False)\n",
      "#print(pca.explained_variance_ratio_) \n",
      "print lsa.components_\n",
      "print X\n",
      "print lsa.transform(X)\n",
      "print lsa.transform(X[0:2,:])\n",
      "print lsa.transform(X)\n",
      "#print np.dot(X,pca.components_.transpose())\n",
      "#print np.dot([-1,-1],pca.components_.transpose())\n",
      "\n",
      "#print np.min(X)"
     ],
     "language": "python",
     "metadata": {},
     "outputs": [
      {
       "output_type": "stream",
       "stream": "stdout",
       "text": [
        "[[ 0.83849224  0.54491354]]\n",
        "  (0, 0)\t-1\n",
        "  (0, 1)\t-1\n",
        "  (1, 0)\t-2\n",
        "  (1, 1)\t-1\n",
        "  (2, 0)\t-3\n",
        "  (2, 1)\t-2\n",
        "  (3, 0)\t1\n",
        "  (3, 1)\t1\n",
        "  (4, 0)\t2\n",
        "  (4, 1)\t1\n",
        "  (5, 0)\t3\n",
        "  (5, 1)\t2\n",
        "[[-1.38340578]\n",
        " [-2.22189802]\n",
        " [-3.6053038 ]\n",
        " [ 1.38340578]\n",
        " [ 2.22189802]\n",
        " [ 3.6053038 ]]\n",
        "[[-1.38340578]\n",
        " [-2.22189802]]\n",
        "[[-1.38340578]\n",
        " [-2.22189802]\n",
        " [-3.6053038 ]\n",
        " [ 1.38340578]\n",
        " [ 2.22189802]\n",
        " [ 3.6053038 ]]\n"
       ]
      }
     ],
     "prompt_number": 104
    },
    {
     "cell_type": "code",
     "collapsed": false,
     "input": [],
     "language": "python",
     "metadata": {},
     "outputs": []
    },
    {
     "cell_type": "code",
     "collapsed": false,
     "input": [
      "import numpy as np\n",
      "X = np.array([[-1, -1], [-2, -1], [-3, -2], [1, 1], [2, 1], [3, 2]])\n",
      "y = np.array([[1],[3]])\n",
      "print np.dot(X,y)"
     ],
     "language": "python",
     "metadata": {},
     "outputs": [
      {
       "output_type": "stream",
       "stream": "stdout",
       "text": [
        "[[-4]\n",
        " [-5]\n",
        " [-9]\n",
        " [ 4]\n",
        " [ 5]\n",
        " [ 9]]\n"
       ]
      }
     ],
     "prompt_number": 39
    },
    {
     "cell_type": "code",
     "collapsed": false,
     "input": [
      "print(__doc__)\n",
      "\n",
      "import numpy as np\n",
      "import matplotlib.pyplot as plt\n",
      "from sklearn import svm, datasets\n",
      "from sklearn.metrics import roc_curve, auc\n",
      "from sklearn.cross_validation import train_test_split\n",
      "from sklearn.preprocessing import label_binarize\n",
      "from sklearn.multiclass import OneVsRestClassifier\n",
      "\n",
      "# Import some data to play with\n",
      "iris = datasets.load_iris()\n",
      "X = iris.data\n",
      "y = iris.target\n",
      "\n",
      "# Binarize the output\n",
      "y = label_binarize(y, classes=[0, 1, 2])\n",
      "n_classes = y.shape[1]\n",
      "\n",
      "# Add noisy features to make the problem harder\n",
      "random_state = np.random.RandomState(0)\n",
      "n_samples, n_features = X.shape\n",
      "X = np.c_[X, random_state.randn(n_samples, 200 * n_features)]\n",
      "\n",
      "# shuffle and split training and test sets\n",
      "X_train, X_test, y_train, y_test = train_test_split(X, y, test_size=.5,\n",
      "                                                    random_state=0)\n",
      "\n",
      "# Learn to predict each class against the other\n",
      "classifier = OneVsRestClassifier(svm.SVC(kernel='linear', probability=True,\n",
      "                                 random_state=random_state))\n",
      "classifier.fit(X_train, y_train)\n",
      "classifier.fit(X_train, y_train)\n",
      "y_score1 = classifier.decision_function(X_test)\n",
      "y_score2 = classifier.predict_proba(X_test)\n",
      "y_score3 = classifier.predict(X_test)\n",
      "print y_score1[0:10,:]\n",
      "print y_score2[0:10,:]\n",
      "print y_score3[0:10,:]\n",
      "print y_test[0:10,:]\n",
      "y_score = y_score1\n",
      "\n",
      "# Compute ROC curve and ROC area for each class\n",
      "fpr = dict()\n",
      "tpr = dict()\n",
      "roc_auc = dict()\n",
      "for i in range(n_classes):\n",
      "    fpr[i], tpr[i], _ = roc_curve(y_test[:, i], y_score[:, i])\n",
      "    roc_auc[i] = auc(fpr[i], tpr[i])\n",
      "    \n",
      "# Compute micro-average ROC curve and ROC area\n",
      "fpr[\"micro\"], tpr[\"micro\"], _ = roc_curve(y_test.ravel(), y_score.ravel())\n",
      "roc_auc[\"micro\"] = auc(fpr[\"micro\"], tpr[\"micro\"])\n",
      "\n",
      "# Plot of a ROC curve for a specific class\n",
      "plt.figure()\n",
      "plt.plot(fpr[2], tpr[2], label='ROC curve (area = %0.2f)' % roc_auc[2])\n",
      "plt.plot([0, 1], [0, 1], 'k--')\n",
      "plt.xlim([0.0, 1.0])\n",
      "plt.ylim([0.0, 1.05])\n",
      "plt.xlabel('False Positive Rate')\n",
      "plt.ylabel('True Positive Rate')\n",
      "plt.title('Receiver operating characteristic example')\n",
      "plt.legend(loc=\"lower right\")\n",
      "plt.show()\n",
      "\n",
      "# Plot ROC curve\n",
      "plt.figure()\n",
      "plt.plot(fpr[\"micro\"], tpr[\"micro\"],\n",
      "         label='micro-average ROC curve (area = {0:0.2f})'\n",
      "               ''.format(roc_auc[\"micro\"]))\n",
      "for i in range(n_classes):\n",
      "    plt.plot(fpr[i], tpr[i], label='ROC curve of class {0} (area = {1:0.2f})'\n",
      "                                   ''.format(i, roc_auc[i]))\n",
      "\n",
      "plt.plot([0, 1], [0, 1], 'k--')\n",
      "plt.xlim([0.0, 1.0])\n",
      "plt.ylim([0.0, 1.05])\n",
      "plt.xlabel('False Positive Rate')\n",
      "plt.ylabel('True Positive Rate')\n",
      "plt.title('Some extension of Receiver operating characteristic to multi-class')\n",
      "plt.legend(loc=\"lower right\")\n",
      "plt.show()"
     ],
     "language": "python",
     "metadata": {},
     "outputs": [
      {
       "ename": "SyntaxError",
       "evalue": "invalid syntax (<ipython-input-125-328550a1f705>, line 77)",
       "output_type": "pyerr",
       "traceback": [
        "\u001b[1;36m  File \u001b[1;32m\"<ipython-input-125-328550a1f705>\"\u001b[1;36m, line \u001b[1;32m77\u001b[0m\n\u001b[1;33m    plt.xlim([0.0, 1.0])$\u001b[0m\n\u001b[1;37m                        ^\u001b[0m\n\u001b[1;31mSyntaxError\u001b[0m\u001b[1;31m:\u001b[0m invalid syntax\n"
       ]
      }
     ],
     "prompt_number": 125
    },
    {
     "cell_type": "code",
     "collapsed": false,
     "input": [
      "from sklearn.datasets import load_iris\n",
      "from sklearn.feature_selection import SelectKBest\n",
      "from sklearn.feature_selection import chi2\n",
      "iris = load_iris()\n",
      "X, y = iris.data, iris.target\n",
      "print y\n",
      "X.shape\n",
      "X_new = SelectKBest(chi2, k=2).fit_transform(X, y)\n",
      "xxx = SelectKBest(chi2, k=2).fit(X,y)\n",
      "print xxx.scores_\n",
      "print xxx.pvalues_\n",
      "print xxx.scores_*xxx.pvalues_\n",
      "print xxx.get_support()\n",
      "X_new.shape\n"
     ],
     "language": "python",
     "metadata": {},
     "outputs": [
      {
       "output_type": "stream",
       "stream": "stdout",
       "text": [
        "[0 0 0 0 0 0 0 0 0 0 0 0 0 0 0 0 0 0 0 0 0 0 0 0 0 0 0 0 0 0 0 0 0 0 0 0 0\n",
        " 0 0 0 0 0 0 0 0 0 0 0 0 0 1 1 1 1 1 1 1 1 1 1 1 1 1 1 1 1 1 1 1 1 1 1 1 1\n",
        " 1 1 1 1 1 1 1 1 1 1 1 1 1 1 1 1 1 1 1 1 1 1 1 1 1 1 2 2 2 2 2 2 2 2 2 2 2\n",
        " 2 2 2 2 2 2 2 2 2 2 2 2 2 2 2 2 2 2 2 2 2 2 2 2 2 2 2 2 2 2 2 2 2 2 2 2 2\n",
        " 2 2]\n",
        "[  10.81782088    3.59449902  116.16984746   67.24482759]\n",
        "[  4.47651499e-03   1.65754167e-01   5.94344354e-26   2.50017968e-15]\n",
        "[  4.84261373e-02   5.95803191e-01   6.90448930e-24   1.68124152e-13]\n",
        "[False False  True  True]\n"
       ]
      },
      {
       "metadata": {},
       "output_type": "pyout",
       "prompt_number": 8,
       "text": [
        "(150, 2)"
       ]
      }
     ],
     "prompt_number": 8
    },
    {
     "cell_type": "code",
     "collapsed": false,
     "input": [],
     "language": "python",
     "metadata": {},
     "outputs": []
    }
   ],
   "metadata": {}
  }
 ]
}