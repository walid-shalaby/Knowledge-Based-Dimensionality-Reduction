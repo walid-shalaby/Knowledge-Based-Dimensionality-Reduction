{
 "metadata": {
  "name": "",
  "signature": "sha256:9e62348a884217208cd21dc0d88c16768842f3dd7c218cb3a3e5a39bfd4b1245"
 },
 "nbformat": 3,
 "nbformat_minor": 0,
 "worksheets": [
  {
   "cells": [
    {
     "cell_type": "heading",
     "level": 1,
     "metadata": {},
     "source": [
      "CLEF-IP2010 Corpus Splitter"
     ]
    },
    {
     "cell_type": "heading",
     "level": 6,
     "metadata": {},
     "source": [
      "Split clef-ip2010 patents corpus into train/test sets"
     ]
    },
    {
     "cell_type": "code",
     "collapsed": false,
     "input": [
      "def split_corpus(target_topic,test_size):\n",
      "    from sklearn.cross_validation import train_test_split\n",
      "    import sqlite3 as sqlitedb\n",
      "    from reuters_corpus_loader import load_corpus\n",
      "    \n",
      "    ids = []\n",
      "    \n",
      "    # load patents from sqlite DB\n",
      "    corpus = load_corpus(target_topic,'title','both')\n",
      "    ids = corpus['ids']    \n",
      "        \n",
      "    ids_train, ids_test = train_test_split(ids, test_size=test_size, random_state=100)\n",
      "    \n",
      "    con = sqlitedb.connect(db_path)\n",
      "    with con:\n",
      "        tbl_name = 'reuters21578_{0}_train_test'.format(target_topic)\n",
      "        con.execute('drop table if exists {0}'.format(tbl_name))\n",
      "        con.execute('create table {0}(id integer unique, is_train integer)'.format(tbl_name))\n",
      "        for i in ids_train:\n",
      "            con.execute('insert or replace into {0} values(\\'{1}\\',{2})'.format(tbl_name,i,1))\n",
      "        for i in ids_test:\n",
      "            con.execute('insert or replace into {0} values(\\'{1}\\',{2})'.format(tbl_name,i,0))"
     ],
     "language": "python",
     "metadata": {},
     "outputs": [],
     "prompt_number": 3
    },
    {
     "cell_type": "code",
     "collapsed": false,
     "input": [
      "from reuters_globals import *\n",
      "split_corpus('earn',test_set_size)\n",
      "print 'done'"
     ],
     "language": "python",
     "metadata": {},
     "outputs": [
      {
       "output_type": "stream",
       "stream": "stdout",
       "text": [
        "select r.id,lower(title) from reuters21578 r,reuters21578_topics t,reuters21578_topics_join rt where r.id=rt.doc_id and t.id=rt.topic_id and topic=\"earn\" union select distinct(r.id),lower(title) from reuters21578 r,reuters21578_topics t,reuters21578_topics_join rt where r.id=rt.doc_id and t.id=rt.topic_id and topic!=\"earn\"\n",
        "loaded 19716 records."
       ]
      },
      {
       "output_type": "stream",
       "stream": "stdout",
       "text": [
        "\n"
       ]
      },
      {
       "ename": "OperationalError",
       "evalue": "near \"reuters21578_earn_train_test\": syntax error",
       "output_type": "pyerr",
       "traceback": [
        "\u001b[1;31m---------------------------------------------------------------------------\u001b[0m\n\u001b[1;31mOperationalError\u001b[0m                          Traceback (most recent call last)",
        "\u001b[1;32m<ipython-input-4-13537ff205e7>\u001b[0m in \u001b[0;36m<module>\u001b[1;34m()\u001b[0m\n\u001b[0;32m      1\u001b[0m \u001b[1;32mfrom\u001b[0m \u001b[0mreuters_globals\u001b[0m \u001b[1;32mimport\u001b[0m \u001b[1;33m*\u001b[0m\u001b[1;33m\u001b[0m\u001b[0m\n\u001b[1;32m----> 2\u001b[1;33m \u001b[0msplit_corpus\u001b[0m\u001b[1;33m(\u001b[0m\u001b[1;34m'earn'\u001b[0m\u001b[1;33m,\u001b[0m\u001b[0mtest_set_size\u001b[0m\u001b[1;33m)\u001b[0m\u001b[1;33m\u001b[0m\u001b[0m\n\u001b[0m\u001b[0;32m      3\u001b[0m \u001b[1;32mprint\u001b[0m \u001b[1;34m'done'\u001b[0m\u001b[1;33m\u001b[0m\u001b[0m\n",
        "\u001b[1;32m<ipython-input-3-957bfed5995b>\u001b[0m in \u001b[0;36msplit_corpus\u001b[1;34m(target_topic, test_size)\u001b[0m\n\u001b[0;32m     16\u001b[0m         \u001b[0mtbl_name\u001b[0m \u001b[1;33m=\u001b[0m \u001b[1;34m'reuters21578_{0}_train_test'\u001b[0m\u001b[1;33m.\u001b[0m\u001b[0mformat\u001b[0m\u001b[1;33m(\u001b[0m\u001b[0mtarget_topic\u001b[0m\u001b[1;33m)\u001b[0m\u001b[1;33m\u001b[0m\u001b[0m\n\u001b[0;32m     17\u001b[0m         \u001b[0mcon\u001b[0m\u001b[1;33m.\u001b[0m\u001b[0mexecute\u001b[0m\u001b[1;33m(\u001b[0m\u001b[1;34m'drop table if exists {0}'\u001b[0m\u001b[1;33m.\u001b[0m\u001b[0mformat\u001b[0m\u001b[1;33m(\u001b[0m\u001b[0mtbl_name\u001b[0m\u001b[1;33m)\u001b[0m\u001b[1;33m)\u001b[0m\u001b[1;33m\u001b[0m\u001b[0m\n\u001b[1;32m---> 18\u001b[1;33m         \u001b[0mcon\u001b[0m\u001b[1;33m.\u001b[0m\u001b[0mexecute\u001b[0m\u001b[1;33m(\u001b[0m\u001b[1;34m'create table {0}'\u001b[0m\u001b[1;33m.\u001b[0m\u001b[0mformat\u001b[0m\u001b[1;33m(\u001b[0m\u001b[0mtbl_name\u001b[0m\u001b[1;33m)\u001b[0m\u001b[1;33m)\u001b[0m\u001b[1;33m\u001b[0m\u001b[0m\n\u001b[0m\u001b[0;32m     19\u001b[0m         \u001b[1;32mfor\u001b[0m \u001b[0mi\u001b[0m \u001b[1;32min\u001b[0m \u001b[0mids_train\u001b[0m\u001b[1;33m:\u001b[0m\u001b[1;33m\u001b[0m\u001b[0m\n\u001b[0;32m     20\u001b[0m             \u001b[0mcon\u001b[0m\u001b[1;33m.\u001b[0m\u001b[0mexecute\u001b[0m\u001b[1;33m(\u001b[0m\u001b[1;34m'insert or replace into {0} values(\\'{1}\\',{2})'\u001b[0m\u001b[1;33m.\u001b[0m\u001b[0mformat\u001b[0m\u001b[1;33m(\u001b[0m\u001b[0mtbl_name\u001b[0m\u001b[1;33m,\u001b[0m\u001b[0mi\u001b[0m\u001b[1;33m,\u001b[0m\u001b[1;36m1\u001b[0m\u001b[1;33m)\u001b[0m\u001b[1;33m)\u001b[0m\u001b[1;33m\u001b[0m\u001b[0m\n",
        "\u001b[1;31mOperationalError\u001b[0m: near \"reuters21578_earn_train_test\": syntax error"
       ]
      }
     ],
     "prompt_number": 4
    },
    {
     "cell_type": "code",
     "collapsed": false,
     "input": [],
     "language": "python",
     "metadata": {},
     "outputs": []
    }
   ],
   "metadata": {}
  }
 ]
}