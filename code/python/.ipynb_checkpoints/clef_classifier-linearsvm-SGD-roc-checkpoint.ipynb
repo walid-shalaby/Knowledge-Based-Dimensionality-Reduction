{
 "metadata": {
  "name": "",
  "signature": "sha256:27fd406981f0e046704a02b906eefe1ee2935c07587f2cffc3c00e66b7d2a4cb"
 },
 "nbformat": 3,
 "nbformat_minor": 0,
 "worksheets": [
  {
   "cells": [
    {
     "cell_type": "heading",
     "level": 1,
     "metadata": {},
     "source": [
      "ROC for CLEF-IP2010 patents"
     ]
    },
    {
     "cell_type": "heading",
     "level": 6,
     "metadata": {},
     "source": [
      "ROC for clef-ip2010 patents"
     ]
    },
    {
     "cell_type": "code",
     "collapsed": false,
     "input": [
      "def vectorize_corpus(corpus,tokenizer,vocabulary,max_ngram_size):\n",
      "    # tokenize text\n",
      "    from sklearn.feature_extraction.text import CountVectorizer\n",
      "    from sklearn.feature_extraction.text import TfidfTransformer\n",
      "    from clef_globals import *\n",
      "    \n",
      "    # generate corpus vectors\n",
      "    vectorizer = CountVectorizer(min_df=min_df,tokenizer=tokenizer,ngram_range=(1,max_ngram_size),vocabulary=vocabulary,stop_words={})\n",
      "    corpus_vectors = vectorizer.fit_transform(corpus)\n",
      "    \n",
      "    # generate tfidf vectors\n",
      "    transformer = TfidfTransformer()\n",
      "    corpus_tfidf_vectors = transformer.fit_transform(corpus_vectors)\n",
      "\n",
      "    return corpus_tfidf_vectors"
     ],
     "language": "python",
     "metadata": {},
     "outputs": []
    },
    {
     "cell_type": "code",
     "collapsed": false,
     "input": [
      "# given classifier predictions probabilities, return predictions with top n probabilities > 0.5 for each instance or greatest one if all are <=0.5\n",
      "def get_max_n_pred(pred_proba, n_pred, threshold):\n",
      "    import heapq\n",
      "    import numpy\n",
      "    max_n_pred = numpy.ndarray(shape=pred_proba.shape)\n",
      "    for i in range(len(pred_proba)):\n",
      "        largest_n_proba = heapq.nlargest(n_pred,pred_proba[i])\n",
      "        max_n_pred[i] = numpy.array(((pred_proba[i]>threshold) & (pred_proba[i]>=largest_n_proba[len(largest_n_proba)-1]) & 1))\n",
      "        if max_n_pred[i].sum(axis=0)==0: # at least one label should be returned\n",
      "            max_n_pred[i] = numpy.array(((pred_proba[i]>=max(pred_proba[i])) & 1))\n",
      "    return max_n_pred"
     ],
     "language": "python",
     "metadata": {},
     "outputs": []
    },
    {
     "cell_type": "code",
     "collapsed": false,
     "input": [
      "# reference: http://scikit-learn.org/stable/modules/model_evaluation.html#multiclass-and-multilabel-classification\n",
      "def classify(labels,corpus_tfidf_vectors,test_size,max_labels,threshold):\n",
      "    from sklearn.preprocessing import MultiLabelBinarizer\n",
      "    from sklearn.multiclass import OneVsRestClassifier\n",
      "    from sklearn.svm import SVC\n",
      "    from sklearn.svm import LinearSVC\n",
      "    from sklearn.linear_model import SGDClassifier\n",
      "    from sklearn.linear_model import LogisticRegression\n",
      "    from sklearn.naive_bayes import MultinomialNB\n",
      "    from sklearn.cross_validation import train_test_split\n",
      "    from sklearn import metrics\n",
      "    import numpy\n",
      "        \n",
      "    # binarize the labels\n",
      "    mlb = MultiLabelBinarizer()\n",
      "    labels_binarized = mlb.fit_transform(labels)\n",
      "    \n",
      "    # train/test split\n",
      "    #corpus_tfidf_vectors, labels_binarized = shuffle(corpus_tfidf_vectors, labels_binarized)\n",
      "    print 'test size=0.2'\n",
      "    x_train, x_test, y_train, y_test = train_test_split(corpus_tfidf_vectors, labels_binarized, test_size=0.2, random_state=1)\n",
      "    \n",
      "    # classify\n",
      "    #cls = OneVsRestClassifier(LogisticRegression(class_weight='auto'))\n",
      "    #cls = OneVsRestClassifier(LogisticRegression())\n",
      "    #cls = OneVsRestClassifier(MultinomialNB(alpha=0.01))\n",
      "    #cls = OneVsRestClassifier(SVC(kernel='linear',probability=True,n_iter=1000))\n",
      "    cls = OneVsRestClassifier(SGDClassifier(loss='hinge',penalty='l2',max_iter=1000,n_jobs=5))\n",
      "    #cls = OneVsRestClassifier(LinearSVC())\n",
      "    cls.fit(x_train, y_train)\n",
      "    pred_proba = 1/(1+numpy.exp(-1*cls.decision_function(x_test)))\n",
      "    # evaluate\n",
      "    #pred_proba = cls.predict_proba(x_test)\n",
      "    #print len(pred_proba[0]) # make sure it is 121\n",
      "    pred_labels = mlb.inverse_transform(get_max_n_pred(pred_proba, max_labels,threshold))\n",
      "    actual_labels = mlb.inverse_transform(y_test)\n",
      "    result = 'threshold: {0}, precision: {1}, recall: {2}, f1: {3}'.format(threshold,metrics.precision_score(actual_labels, pred_labels, average='micro'),metrics.recall_score(actual_labels, pred_labels, average='micro'),metrics.f1_score(actual_labels, pred_labels, average='micro'))    \n",
      "    print result"
     ],
     "language": "python",
     "metadata": {},
     "outputs": []
    },
    {
     "cell_type": "code",
     "collapsed": false,
     "input": [
      "def test_lemmatized_unigrams(corpus,labels,vocabulary_src,with_stopwords_removal,use_chi_features):\n",
      "    import thread\n",
      "    from lemmatizing_tokenizer import LemmaTokenizer\n",
      "    from clef_globals import *\n",
      "    from clef_vocabulary_loader import load_vocabulary\n",
      "    \n",
      "    max_ngram_size = 1\n",
      "    tokenizer = LemmaTokenizer()\n",
      "    \n",
      "    if with_stopwords_removal==False:\n",
      "        stopwords_pattern = ''\n",
      "    else:\n",
      "        stopwords_pattern = '_stopwords'\n",
      "    if use_chi_features==False:\n",
      "        chi_features_pattern = ''\n",
      "    else:\n",
      "        chi_features_pattern = '_chi'\n",
      "    \n",
      "    # load vocabulary\n",
      "    vocabulary_tbl_name = 'clef_2010_{0}_lemmas{1}_unigrams{2}_df{3}_tf{4}'.format(vocabulary_src,chi_features_pattern,stopwords_pattern,min_df,min_tf)\n",
      "    vocabulary = load_vocabulary(vocabulary_tbl_name)\n",
      "\n",
      "    # generate tfidf vectors\n",
      "    corpus_tfidf_vectors = vectorize_corpus(corpus,tokenizer,vocabulary,max_ngram_size)\n",
      "    \n",
      "    # classify & evaluate\n",
      "    classify(labels,corpus_tfidf_vectors,test_set_size,max_labels,0.5)\n",
      "    for i in range(0,101):\n",
      "        #thread.start_new_thread(classify, (labels,corpus_tfidf_vectors,test_set_size,max_labels,i/100.0))\n",
      "        classify(labels,corpus_tfidf_vectors,test_set_size,max_labels,i/100.0)"
     ],
     "language": "python",
     "metadata": {},
     "outputs": []
    },
    {
     "cell_type": "code",
     "collapsed": false,
     "input": [
      "def test(vocabulary_src):\n",
      "    from clef_corpus_loader import load_corpus_with_labels\n",
      "    \n",
      "    # load clef patents with class lables from DB using only vocabulary_src as main field for vocabulary (e.g., abstract, description, claims...)\n",
      "    corpus_data = load_corpus_with_labels(vocabulary_src)\n",
      "    corpus = corpus_data['corpus']\n",
      "    labels = corpus_data['labels']\n",
      "    labels_dic = corpus_data['labels_dic']\n",
      "    labels_arr = corpus_data['labels_arr']\n",
      "    print 'done loading {0} records and {1} labels.'.format(len(corpus),len(labels_dic))\n",
      "\n",
      "    test_lemmatized_unigrams(corpus,labels,vocabulary_src,True,True)"
     ],
     "language": "python",
     "metadata": {},
     "outputs": []
    },
    {
     "cell_type": "code",
     "collapsed": false,
     "input": [
      "# test using abstracts vocabulary\n",
      "test('abstract')    "
     ],
     "language": "python",
     "metadata": {},
     "outputs": []
    }
   ],
   "metadata": {}
  }
 ]
}