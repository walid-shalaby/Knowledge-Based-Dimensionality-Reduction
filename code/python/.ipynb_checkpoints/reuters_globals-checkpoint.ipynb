{
 "metadata": {
  "name": "",
  "signature": "sha256:80202a5a3fa190252632fd9d5e2ee56c0b40e6ca1f75b3fff7ae6232d097c88f"
 },
 "nbformat": 3,
 "nbformat_minor": 0,
 "worksheets": [
  {
   "cells": [
    {
     "cell_type": "heading",
     "level": 1,
     "metadata": {},
     "source": [
      "REUTERS 21578 global definitions"
     ]
    },
    {
     "cell_type": "code",
     "collapsed": false,
     "input": [
      "from sets import Set\n",
      "max_labels = 1 # use only top 1 probabilities labels as maximum labels per doc is 1\n",
      "min_df = 1\n",
      "min_tf = 1\n",
      "test_set_size = 0.20\n",
      "#max_chi_square_terms = 10000\n",
      "db_path = '../../data/reuters21578/reuters21578.db'\n",
      "train_or_test_values = Set(['train','test','both'])\n",
      "vocabulary_src_values = Set(['all','title','body'])"
     ],
     "language": "python",
     "metadata": {},
     "outputs": []
    }
   ],
   "metadata": {}
  }
 ]
}