{
 "metadata": {
  "name": "",
  "signature": "sha256:e02e43f58fa1847c29b33654159e292280154581f8778af14c69581184c26044"
 },
 "nbformat": 3,
 "nbformat_minor": 0,
 "worksheets": []
}