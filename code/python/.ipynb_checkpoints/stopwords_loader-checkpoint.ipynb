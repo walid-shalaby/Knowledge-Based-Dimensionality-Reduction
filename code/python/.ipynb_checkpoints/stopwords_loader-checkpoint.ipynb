{
 "metadata": {
  "name": "",
  "signature": "sha256:7897696ed1b28fac24a45c13b8e8c9cea01ba60ff0fb2dc5bf245b3876282ca7"
 },
 "nbformat": 3,
 "nbformat_minor": 0,
 "worksheets": [
  {
   "cells": [
    {
     "cell_type": "heading",
     "level": 1,
     "metadata": {},
     "source": [
      "Stopwords loader"
     ]
    },
    {
     "cell_type": "heading",
     "level": 6,
     "metadata": {},
     "source": [
      "Load sotpwords from DB table"
     ]
    },
    {
     "cell_type": "code",
     "collapsed": false,
     "input": [
      "# load inquiry stopwords list from DB\n",
      "def load_inquiry_stopwords():\n",
      "    import sqlite3 as sqlitedb\n",
      "    from clef_globals import *\n",
      "\n",
      "    stop_words = set()\n",
      "    stopwords_query = 'select stopword from inquiry_stopwords'\n",
      "    con = sqlitedb.connect(db_path)\n",
      "    with con:\n",
      "        cur = con.execute(stopwords_query)\n",
      "        while True:\n",
      "            stopword = cur.fetchone()\n",
      "            if stopword==None or stopword[0]==None:\n",
      "                break\n",
      "            stop_words.add(stopword[0])\n",
      "    \n",
      "    return stop_words"
     ],
     "language": "python",
     "metadata": {},
     "outputs": []
    }
   ],
   "metadata": {}
  }
 ]
}