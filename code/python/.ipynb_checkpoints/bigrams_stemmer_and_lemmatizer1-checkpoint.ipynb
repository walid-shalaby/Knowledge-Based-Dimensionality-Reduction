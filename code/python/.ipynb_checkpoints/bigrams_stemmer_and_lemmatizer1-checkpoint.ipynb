{
 "metadata": {
  "name": "",
  "signature": "sha256:72483a54338c709c7538e4ff94acecffa2cafbc7c5f40bf79e91114d9a18175f"
 },
 "nbformat": 3,
 "nbformat_minor": 0,
 "worksheets": [
  {
   "cells": [
    {
     "cell_type": "heading",
     "level": 1,
     "metadata": {},
     "source": [
      "Bigrams Lemmatizer/Stemmer"
     ]
    },
    {
     "cell_type": "heading",
     "level": 6,
     "metadata": {},
     "source": [
      "connect to sqlite DB containing bigrams of wikipedia, wiktionary, and google books(since 1970) and get each bigram lemma/stem using ndk"
     ]
    },
    {
     "cell_type": "code",
     "collapsed": false,
     "input": [
      "from nltk.stem import PorterStemmer\n",
      "import sqlite3 as sql\n",
      "def stem_bigrams(db_table):    \n",
      "    bigrams = []\n",
      "    \n",
      "    # define porter stemmer\n",
      "    stemmer = PorterStemmer()\n",
      "    \n",
      "    # connect to DB\n",
      "    dbpath = '/home/wshalaby/work/patents/patents-similarity/data/CLEF/03-patents-with-5-fixes.db'    \n",
      "    stmt = 'select substr(bigram,1,2) from {}' .format(db_table)\n",
      "    print stmt\n",
      "    con = sql.connect(dbpath)\n",
      "    with con:\n",
      "        # select bigrams from table\n",
      "        cur = con.execute(stmt)\n",
      "        while True:\n",
      "            bigram = cur.fetchone()[0]\n",
      "            if bigram==None:\n",
      "                break\n",
      "            # stem bigram\n",
      "            print bigram\n",
      "            bigrams.append(stemmer.stem(bigram))\n",
      "            \n",
      "        # update DB\n",
      "        #print bigrams"
     ],
     "language": "python",
     "metadata": {},
     "outputs": [],
     "prompt_number": 15
    },
    {
     "cell_type": "code",
     "collapsed": false,
     "input": [
      "stem_bigrams('wiki_bigrams')"
     ],
     "language": "python",
     "metadata": {},
     "outputs": []
    },
    {
     "cell_type": "code",
     "collapsed": false,
     "input": [],
     "language": "python",
     "metadata": {},
     "outputs": []
    }
   ],
   "metadata": {}
  }
 ]
}