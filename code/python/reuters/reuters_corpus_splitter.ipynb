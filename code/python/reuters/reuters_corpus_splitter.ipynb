{
 "metadata": {
  "name": "",
  "signature": "sha256:595c900e755574946cbdfa31a80a31a3137669558f0886ea3a75c52ce782dfab"
 },
 "nbformat": 3,
 "nbformat_minor": 0,
 "worksheets": [
  {
   "cells": [
    {
     "cell_type": "heading",
     "level": 1,
     "metadata": {},
     "source": [
      "CLEF-IP2010 Corpus Splitter"
     ]
    },
    {
     "cell_type": "heading",
     "level": 6,
     "metadata": {},
     "source": [
      "Split clef-ip2010 patents corpus into train/test sets"
     ]
    },
    {
     "cell_type": "code",
     "collapsed": false,
     "input": [
      "def split_corpus(target_topic,test_size):\n",
      "    from sklearn.cross_validation import train_test_split\n",
      "    import sqlite3 as sqlitedb\n",
      "    from reuters_corpus_loader import load_corpus\n",
      "    \n",
      "    ids = []\n",
      "    \n",
      "    # load patents from sqlite DB\n",
      "    corpus = load_corpus(target_topic,'title','both')\n",
      "    ids = corpus['ids']    \n",
      "        \n",
      "    ids_train, ids_test = train_test_split(ids, test_size=test_size, random_state=100)\n",
      "    \n",
      "    con = sqlitedb.connect(db_path)\n",
      "    with con:\n",
      "        tbl_name = 'reuters21578_{0}_train_test'.format(target_topic)\n",
      "        con.execute('drop table if exists {0}'.format(tbl_name))\n",
      "        con.execute('create table {0}(id integer unique, is_train integer)'.format(tbl_name))\n",
      "        for i in ids_train:\n",
      "            con.execute('insert or replace into {0} values(\\'{1}\\',{2})'.format(tbl_name,i,1))\n",
      "        for i in ids_test:\n",
      "            con.execute('insert or replace into {0} values(\\'{1}\\',{2})'.format(tbl_name,i,0))"
     ],
     "language": "python",
     "metadata": {},
     "outputs": [],
     "prompt_number": 1
    },
    {
     "cell_type": "code",
     "collapsed": false,
     "input": [
      "from reuters_globals import *\n",
      "split_corpus('earn',test_set_size)\n",
      "print 'done'"
     ],
     "language": "python",
     "metadata": {},
     "outputs": [
      {
       "output_type": "stream",
       "stream": "stdout",
       "text": [
        "loaded 19716 records.\n",
        "done"
       ]
      },
      {
       "output_type": "stream",
       "stream": "stdout",
       "text": [
        "\n"
       ]
      },
      {
       "output_type": "stream",
       "stream": "stderr",
       "text": [
        "reuters_corpus_loader.py:10: SyntaxWarning: import * only allowed at module level\n",
        "  def load_corpus(target_topic,vocabulary_src,train_or_test):\n",
        "reuters_corpus_loader.py:53: SyntaxWarning: import * only allowed at module level\n",
        "  def load_corpus_and_labels(vocabulary_src,train_or_test):\n",
        "reuters_corpus_loader.py:114: SyntaxWarning: import * only allowed at module level\n",
        "  def load_corpus_with_labels_mappings(vocabulary_src,train_or_test,labels_dic):\n"
       ]
      }
     ],
     "prompt_number": 2
    },
    {
     "cell_type": "code",
     "collapsed": false,
     "input": [],
     "language": "python",
     "metadata": {},
     "outputs": [],
     "prompt_number": 2
    }
   ],
   "metadata": {}
  }
 ]
}