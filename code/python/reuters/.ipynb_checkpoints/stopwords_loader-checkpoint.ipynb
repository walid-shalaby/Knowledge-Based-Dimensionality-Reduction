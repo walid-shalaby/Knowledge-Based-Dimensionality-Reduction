{
 "metadata": {
  "name": "",
  "signature": "sha256:d3743c98813cffd0f887fb7e9d555fb85f30e8ec93ac31980bf764503e48e9cf"
 },
 "nbformat": 3,
 "nbformat_minor": 0,
 "worksheets": [
  {
   "cells": [
    {
     "cell_type": "heading",
     "level": 1,
     "metadata": {},
     "source": [
      "Stopwords loader"
     ]
    },
    {
     "cell_type": "heading",
     "level": 6,
     "metadata": {},
     "source": [
      "Load sotpwords from DB table"
     ]
    },
    {
     "cell_type": "code",
     "collapsed": false,
     "input": [
      "# load inquiry stopwords list from DB\n",
      "def load_inquiry_stopwords():\n",
      "    import sqlite3 as sqlitedb\n",
      "    from reuters_globals import *\n",
      "\n",
      "    stop_words = set()\n",
      "    stopwords_query = 'select stopword from inquiry_stopwords'\n",
      "    con = sqlitedb.connect(db_path)\n",
      "    with con:\n",
      "        cur = con.execute(stopwords_query)\n",
      "        while True:\n",
      "            stopword = cur.fetchone()\n",
      "            if stopword==None or stopword[0]==None:\n",
      "                break\n",
      "            stop_words.add(stopword[0])\n",
      "    \n",
      "    return stop_words"
     ],
     "language": "python",
     "metadata": {},
     "outputs": []
    }
   ],
   "metadata": {}
  }
 ]
}