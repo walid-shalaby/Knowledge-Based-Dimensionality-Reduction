{
 "metadata": {
  "name": "",
  "signature": "sha256:d7a657ec7e0c1fe17535b4a031bdcd18e587ab5f2711ed6c5c03c1bb45315145"
 },
 "nbformat": 3,
 "nbformat_minor": 0,
 "worksheets": [
  {
   "cells": [
    {
     "cell_type": "heading",
     "level": 1,
     "metadata": {},
     "source": [
      "REUTERS 21578 global definitions"
     ]
    },
    {
     "cell_type": "code",
     "collapsed": false,
     "input": [
      "from sets import Set\n",
      "max_labels = 1 # use only top 1 probabilities labels as maximum labels per doc is 1\n",
      "min_df = 1\n",
      "min_tf = 1\n",
      "#test_set_size = 0.20\n",
      "#max_chi_square_terms = 10000\n",
      "db_path = '../../../data/reuters21578/reuters21578.db'\n",
      "train_or_test_values = Set(['train','test','both'])\n",
      "vocabulary_src_values = Set(['all','title','body'])"
     ],
     "language": "python",
     "metadata": {},
     "outputs": []
    }
   ],
   "metadata": {}
  }
 ]
}